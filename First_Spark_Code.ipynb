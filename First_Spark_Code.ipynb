{
  "nbformat": 4,
  "nbformat_minor": 0,
  "metadata": {
    "colab": {
      "name": "First Spark Code.ipynb",
      "provenance": [],
      "mount_file_id": "1hadxSx_nSSJ6NIIeWKouQ9KDsRlEdyZf",
      "authorship_tag": "ABX9TyMz2Y7c5Z2Yn9WDOTH1jNKg",
      "include_colab_link": true
    },
    "kernelspec": {
      "name": "python3",
      "display_name": "Python 3"
    },
    "language_info": {
      "name": "python"
    }
  },
  "cells": [
    {
      "cell_type": "markdown",
      "metadata": {
        "id": "view-in-github",
        "colab_type": "text"
      },
      "source": [
        "<a href=\"https://colab.research.google.com/github/gabgovar/Introducao-PySpark/blob/main/First_Spark_Code.ipynb\" target=\"_parent\"><img src=\"https://colab.research.google.com/assets/colab-badge.svg\" alt=\"Open In Colab\"/></a>"
      ]
    },
    {
      "cell_type": "markdown",
      "source": [
        "# Instalando dependências e iniciando o PySpark"
      ],
      "metadata": {
        "id": "BP9Kl_tysYk1"
      }
    },
    {
      "cell_type": "code",
      "execution_count": 2,
      "metadata": {
        "id": "UXvy5iUFV98q"
      },
      "outputs": [],
      "source": [
        "# instalar as dependências\n",
        "!apt-get install openjdk-8-jdk-headless -qq > /dev/null\n",
        "!wget -q https://archive.apache.org/dist/spark/spark-2.4.4/spark-2.4.4-bin-hadoop2.7.tgz\n",
        "!tar xf spark-2.4.4-bin-hadoop2.7.tgz\n",
        "!pip install -q findspark"
      ]
    },
    {
      "cell_type": "code",
      "source": [
        "# configurar as variáveis de ambiente\n",
        "import os\n",
        "os.environ[\"JAVA_HOME\"] = \"/usr/lib/jvm/java-8-openjdk-amd64\"\n",
        "os.environ[\"SPARK_HOME\"] = \"/content/spark-2.4.4-bin-hadoop2.7\"\n",
        "\n",
        "# tornar o pyspark \"importável\"\n",
        "import findspark\n",
        "findspark.init('spark-2.4.4-bin-hadoop2.7')"
      ],
      "metadata": {
        "id": "rXqRGp0-WdiK"
      },
      "execution_count": 3,
      "outputs": []
    },
    {
      "cell_type": "code",
      "source": [
        "from pyspark import SparkConf, SparkContext"
      ],
      "metadata": {
        "id": "gD2UE7bKWhgk"
      },
      "execution_count": 4,
      "outputs": []
    },
    {
      "cell_type": "code",
      "source": [
        "conf = SparkConf().setAppName(\"Read File\")"
      ],
      "metadata": {
        "id": "ezm0Ppl9XDtN"
      },
      "execution_count": 5,
      "outputs": []
    },
    {
      "cell_type": "code",
      "source": [
        "sc = SparkContext.getOrCreate(conf=conf)"
      ],
      "metadata": {
        "id": "fA7E3cTlXWe4"
      },
      "execution_count": 6,
      "outputs": []
    },
    {
      "cell_type": "code",
      "source": [
        "rdd = sc.textFile('/content/drive/MyDrive/PySpark/data/sample.txt')"
      ],
      "metadata": {
        "id": "MdoF3AW9XmAR"
      },
      "execution_count": 36,
      "outputs": []
    },
    {
      "cell_type": "code",
      "source": [
        "rdd.collect()"
      ],
      "metadata": {
        "colab": {
          "base_uri": "https://localhost:8080/"
        },
        "id": "2e2xvB6AYrs5",
        "outputId": "b72211d9-8394-4520-b19a-bdac006596de"
      },
      "execution_count": 37,
      "outputs": [
        {
          "output_type": "execute_result",
          "data": {
            "text/plain": [
              "['1 2 3 4 5', '3 4 5 66 77', '12 43 6 7 8', '12 12 33']"
            ]
          },
          "metadata": {},
          "execution_count": 37
        }
      ]
    },
    {
      "cell_type": "markdown",
      "source": [
        "# USO DO MAP"
      ],
      "metadata": {
        "id": "etK7oZ4jgE1E"
      }
    },
    {
      "cell_type": "code",
      "source": [
        "rdd2 = rdd.map(lambda x: x.split(' '))"
      ],
      "metadata": {
        "id": "aOyYHD7QZx9C"
      },
      "execution_count": 20,
      "outputs": []
    },
    {
      "cell_type": "code",
      "source": [
        "rdd2.collect()"
      ],
      "metadata": {
        "colab": {
          "base_uri": "https://localhost:8080/"
        },
        "id": "NtDrYyX6apqw",
        "outputId": "e9cb7d7f-57b1-431a-b95f-d59298de7f84"
      },
      "execution_count": 21,
      "outputs": [
        {
          "output_type": "execute_result",
          "data": {
            "text/plain": [
              "[['1', '2', '3', '4', '5'],\n",
              " ['3', '4', '5', '66', '77'],\n",
              " ['12', '43', '6', '7', '8'],\n",
              " ['12', '12', '33']]"
            ]
          },
          "metadata": {},
          "execution_count": 21
        }
      ]
    },
    {
      "cell_type": "code",
      "source": [
        "def foo(x):\n",
        "    return x.split(' ')\n",
        "\n",
        "rdd3 = rdd.map(foo)\n",
        "rdd3.collect()"
      ],
      "metadata": {
        "colab": {
          "base_uri": "https://localhost:8080/"
        },
        "id": "3HjGJ845b600",
        "outputId": "c5515b3a-1236-45eb-90ad-35c6b66974c6"
      },
      "execution_count": 27,
      "outputs": [
        {
          "output_type": "execute_result",
          "data": {
            "text/plain": [
              "[['1', '2', '3', '4', '5'],\n",
              " ['3', '4', '5', '66', '77'],\n",
              " ['12', '43', '6', '7', '8'],\n",
              " ['12', '12', '33']]"
            ]
          },
          "metadata": {},
          "execution_count": 27
        }
      ]
    },
    {
      "cell_type": "markdown",
      "source": [
        "Quiz"
      ],
      "metadata": {
        "id": "116b85WLeYxq"
      }
    },
    {
      "cell_type": "code",
      "source": [
        "Sam = sc.textFile('/content/drive/MyDrive/PySpark/data/sample2.txt')"
      ],
      "metadata": {
        "id": "1TT0Dj4EeZs9"
      },
      "execution_count": 28,
      "outputs": []
    },
    {
      "cell_type": "code",
      "source": [
        "Sam2 = Sam.map(lambda x: x.split(' '))\n",
        "Sam2.collect()"
      ],
      "metadata": {
        "colab": {
          "base_uri": "https://localhost:8080/"
        },
        "id": "c6IMU7TzeqMo",
        "outputId": "810a2f03-3250-438c-dfa8-c89c10d5dfc3"
      },
      "execution_count": 58,
      "outputs": [
        {
          "output_type": "execute_result",
          "data": {
            "text/plain": [
              "[['Hi', 'how', 'are', 'you?'], ['Hpe', 'you', 'are', 'doing'], ['great']]"
            ]
          },
          "metadata": {},
          "execution_count": 58
        }
      ]
    },
    {
      "cell_type": "code",
      "source": [
        "def foo2(x):\n",
        "    l = x.split(' ')\n",
        "    l2 = []\n",
        "    for s in l:\n",
        "        l2.append(len(s))\n",
        "    return l2\n",
        "\n",
        "Sam3 = Sam.map(foo)\n",
        "Sam3.collect()"
      ],
      "metadata": {
        "colab": {
          "base_uri": "https://localhost:8080/"
        },
        "id": "DlURcqC5e72O",
        "outputId": "90c84955-e7b2-42f3-9eea-6a76baf4f75b"
      },
      "execution_count": 54,
      "outputs": [
        {
          "output_type": "execute_result",
          "data": {
            "text/plain": [
              "[['Hi', 'how', 'are', 'you?'], ['Hpe', 'you', 'are', 'doing'], ['great']]"
            ]
          },
          "metadata": {},
          "execution_count": 54
        }
      ]
    },
    {
      "cell_type": "code",
      "source": [
        ""
      ],
      "metadata": {
        "id": "9pNKvO2IfZNQ"
      },
      "execution_count": null,
      "outputs": []
    },
    {
      "cell_type": "markdown",
      "source": [
        "# USO do flatMAP()"
      ],
      "metadata": {
        "id": "DzcJDSp6gIeU"
      }
    },
    {
      "cell_type": "code",
      "source": [
        "conf = SparkConf().setAppName(\"FlatMap\")\n",
        "sc = SparkContext.getOrCreate(conf=conf)\n",
        "rdd = sc.textFile('/content/drive/MyDrive/PySpark/data/sample.txt')\n",
        "rdd.collect()"
      ],
      "metadata": {
        "colab": {
          "base_uri": "https://localhost:8080/"
        },
        "id": "ZKwpmMzDhiLl",
        "outputId": "9f45b386-38d1-478b-b6fd-76b00d692cf0"
      },
      "execution_count": 57,
      "outputs": [
        {
          "output_type": "execute_result",
          "data": {
            "text/plain": [
              "['1 2 3 4 5', '3 4 5 66 77', '12 43 6 7 8', '12 12 33']"
            ]
          },
          "metadata": {},
          "execution_count": 57
        }
      ]
    },
    {
      "cell_type": "code",
      "source": [
        "MappRdd = rdd.flatMap(lambda x: x.split(' '))\n",
        "MappRdd.collect()"
      ],
      "metadata": {
        "colab": {
          "base_uri": "https://localhost:8080/"
        },
        "id": "ipE-ERmVgLJu",
        "outputId": "6df0f79f-ae8f-4fde-e816-7fed073910fb"
      },
      "execution_count": 59,
      "outputs": [
        {
          "output_type": "execute_result",
          "data": {
            "text/plain": [
              "['1',\n",
              " '2',\n",
              " '3',\n",
              " '4',\n",
              " '5',\n",
              " '3',\n",
              " '4',\n",
              " '5',\n",
              " '66',\n",
              " '77',\n",
              " '12',\n",
              " '43',\n",
              " '6',\n",
              " '7',\n",
              " '8',\n",
              " '12',\n",
              " '12',\n",
              " '33']"
            ]
          },
          "metadata": {},
          "execution_count": 59
        }
      ]
    },
    {
      "cell_type": "markdown",
      "source": [
        "# Filter()\n",
        "* Filtros são utlizados para remover os elementos do RDD\n",
        "* É criado um novo RDD\n",
        "* rdd.filter(lambda x: x!=123) => se o x!= 123 é verdadeiro ele é considerado no output caso contrário não será."
      ],
      "metadata": {
        "id": "iROlept8kP8W"
      }
    },
    {
      "cell_type": "code",
      "source": [
        "rdd6 = rdd.filter(lambda x: x != '12 12 33')\n",
        "rdd6.collect()"
      ],
      "metadata": {
        "colab": {
          "base_uri": "https://localhost:8080/"
        },
        "id": "MDPAvia5kkdj",
        "outputId": "f98ece6f-a68a-43f9-ed2e-f7d6dd7bcee0"
      },
      "execution_count": 64,
      "outputs": [
        {
          "output_type": "execute_result",
          "data": {
            "text/plain": [
              "['1 2 3 4 5', '3 4 5 66 77', '12 43 6 7 8']"
            ]
          },
          "metadata": {},
          "execution_count": 64
        }
      ]
    },
    {
      "cell_type": "code",
      "source": [
        "def foo(x):\n",
        "    if x == '12 12 33':\n",
        "        return False\n",
        "    else:\n",
        "        return True\n",
        "\n",
        "\n",
        "rdd6 = rdd.filter(foo)\n",
        "rdd6.collect()"
      ],
      "metadata": {
        "colab": {
          "base_uri": "https://localhost:8080/"
        },
        "id": "UHdHeHuXl090",
        "outputId": "9df4811d-a496-4a16-c98c-f0ca8f2bbb53"
      },
      "execution_count": 72,
      "outputs": [
        {
          "output_type": "execute_result",
          "data": {
            "text/plain": [
              "['1 2 3 4 5', '3 4 5 66 77', '12 43 6 7 8']"
            ]
          },
          "metadata": {},
          "execution_count": 72
        }
      ]
    },
    {
      "cell_type": "markdown",
      "source": [
        "# Quiz\n",
        "\n",
        "Escrever um filtro que vai remover todas as palavras que começam com a ou c do rdd"
      ],
      "metadata": {
        "id": "OjWa-_D0mpmW"
      }
    },
    {
      "cell_type": "code",
      "source": [
        "conf = SparkConf().setAppName(\"FlatMap\")\n",
        "sc = SparkContext.getOrCreate(conf=conf)\n",
        "rdd = sc.textFile('/content/drive/MyDrive/PySpark/data/sample3.txt')\n",
        "rdd.collect()"
      ],
      "metadata": {
        "colab": {
          "base_uri": "https://localhost:8080/"
        },
        "id": "2foIeRMljJn0",
        "outputId": "c160c96a-80af-438f-a4f1-32237278c6f9"
      },
      "execution_count": 87,
      "outputs": [
        {
          "output_type": "execute_result",
          "data": {
            "text/plain": [
              "['this mango company animal',\n",
              " 'cat dog ant mic laptop',\n",
              " 'chair swich moble am charge cover',\n",
              " 'amanda nay alarm ant']"
            ]
          },
          "metadata": {},
          "execution_count": 87
        }
      ]
    },
    {
      "cell_type": "code",
      "source": [
        "FlatMappedRdd = rdd.flatMap(lambda x: x.split(' '))\n",
        "FlatMappedRdd.collect()"
      ],
      "metadata": {
        "colab": {
          "base_uri": "https://localhost:8080/"
        },
        "id": "7GQPV9OenCFg",
        "outputId": "a2042781-6211-4eb5-cfd9-ab125c42050d"
      },
      "execution_count": 88,
      "outputs": [
        {
          "output_type": "execute_result",
          "data": {
            "text/plain": [
              "['this',\n",
              " 'mango',\n",
              " 'company',\n",
              " 'animal',\n",
              " 'cat',\n",
              " 'dog',\n",
              " 'ant',\n",
              " 'mic',\n",
              " 'laptop',\n",
              " 'chair',\n",
              " 'swich',\n",
              " 'moble',\n",
              " 'am',\n",
              " 'charge',\n",
              " 'cover',\n",
              " 'amanda',\n",
              " 'nay',\n",
              " 'alarm',\n",
              " 'ant']"
            ]
          },
          "metadata": {},
          "execution_count": 88
        }
      ]
    },
    {
      "cell_type": "code",
      "source": [
        "def filterAandC(x):\n",
        "    if(x.startswith('a') or x.startswith('c')):\n",
        "        return False\n",
        "    else:\n",
        "        return True\n",
        "\n",
        "filteredRdd = FlatMappedRdd.filter(filterAandC)\n",
        "filteredRdd.collect()"
      ],
      "metadata": {
        "colab": {
          "base_uri": "https://localhost:8080/"
        },
        "id": "w2UadvzWokr2",
        "outputId": "e559ce59-673b-4c8c-dbbb-923246e1b8fd"
      },
      "execution_count": 89,
      "outputs": [
        {
          "output_type": "execute_result",
          "data": {
            "text/plain": [
              "['this', 'mango', 'dog', 'mic', 'laptop', 'swich', 'moble', 'nay']"
            ]
          },
          "metadata": {},
          "execution_count": 89
        }
      ]
    },
    {
      "cell_type": "code",
      "source": [
        "filterRddLambda = FlatMappedRdd.filter(lambda x: not(x.startswith('a') or x.startswith('c')) )\n",
        "filterRddLambda.collect()"
      ],
      "metadata": {
        "colab": {
          "base_uri": "https://localhost:8080/"
        },
        "id": "BjmF-eQzrKg-",
        "outputId": "182c314b-e100-464d-dc78-d378ef9b7739"
      },
      "execution_count": 94,
      "outputs": [
        {
          "output_type": "execute_result",
          "data": {
            "text/plain": [
              "['this', 'mango', 'dog', 'mic', 'laptop', 'swich', 'moble', 'nay']"
            ]
          },
          "metadata": {},
          "execution_count": 94
        }
      ]
    },
    {
      "cell_type": "markdown",
      "source": [
        "# distinct()\n",
        "\n",
        "* Distinct é usado para obter elementos distintos do RDD\n",
        "* Ele vai criar um novo RDD\n",
        "* rdd.distinct()"
      ],
      "metadata": {
        "id": "aSytd-oCr_jy"
      }
    },
    {
      "cell_type": "code",
      "source": [
        "ads"
      ],
      "metadata": {
        "id": "d9gXLsoPsN4x"
      },
      "execution_count": null,
      "outputs": []
    }
  ]
}