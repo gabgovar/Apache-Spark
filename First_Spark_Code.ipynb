{
  "nbformat": 4,
  "nbformat_minor": 0,
  "metadata": {
    "colab": {
      "name": "First Spark Code.ipynb",
      "provenance": [],
      "mount_file_id": "1hadxSx_nSSJ6NIIeWKouQ9KDsRlEdyZf",
      "authorship_tag": "ABX9TyNRu4S6wikY8DcgpC4wcu6O",
      "include_colab_link": true
    },
    "kernelspec": {
      "name": "python3",
      "display_name": "Python 3"
    },
    "language_info": {
      "name": "python"
    }
  },
  "cells": [
    {
      "cell_type": "markdown",
      "metadata": {
        "id": "view-in-github",
        "colab_type": "text"
      },
      "source": [
        "<a href=\"https://colab.research.google.com/github/gabgovar/Introducao-PySpark/blob/main/First_Spark_Code.ipynb\" target=\"_parent\"><img src=\"https://colab.research.google.com/assets/colab-badge.svg\" alt=\"Open In Colab\"/></a>"
      ]
    },
    {
      "cell_type": "markdown",
      "source": [
        "# Instalando dependências e iniciando o PySpark\n"
      ],
      "metadata": {
        "id": "BP9Kl_tysYk1"
      }
    },
    {
      "cell_type": "markdown",
      "source": [
        "## Como instalar o PySpark no Google Colab\n",
        "\n",
        "Como instalar o PySpark no Google Colab é uma dúvida comum entre aqueles que estão migrando seus projetos de Data Science para ambientes na nuvem.\n",
        "\n",
        "O termo Big Data está cada vez mais presente, e mesmo projetos pessoais podem assumir uma grande dimensionalidade devido à quantidade de dados disponíveis.\n",
        "\n",
        "Para analisar grandes volumes de dados, Big Data, com velocidade, o Apache Spark é uma ferramenta muito utilizada, dada a sua capacidade de processamento de dados e computação paralela.\n",
        "\n",
        "O Spark foi pensado para ser acessível, oferecendo diversas APIs e frameworks em Python, Scala, SQL e diversas outras linguagens.\n",
        "\n",
        "## PySpark no Google Colab\n",
        "\n",
        "PySpark é a interface alto nível que permite você conseguir acessar e usar o Spark por meio da linguagem Python. Usando o PySpark, você consegue escrever todo o seu código usando apenas o nosso estilo Python de escrever código.\n",
        "\n",
        "Já o Google Colab é uma ferramenta incrível, poderosa e gratuita – com suporte de GPU inclusive. Uma vez que roda 100% na nuvem, você não tem a necessidade de instalar qualquer coisa na sua própria máquina.\n",
        "\n",
        "No entanto, apesar da maioria das bibliotecas de Data Science estarem previamente instaladas no Colab, o mesmo não acontece com o PySpark. Para conseguir usar o PySpark é necessário alguns passos intermediários, que não são triviais para aqueles que estão começando.\n",
        "\n",
        "Dessa maneira, preparei um tutorial simples e direto ensinando a instalar as dependências e a biblioteca.\n",
        "\n",
        "## Instalando o PySpark no Google Colab\n",
        "\n",
        "Instalar o PySpark não é um processo direto como de praxe em Python. Não basta usar um pip install apenas. Na verdade, antes de tudo é necessário instalar dependências como o Java 8, Apache Spark 2.3.2 junto com o Hadoop 2.7."
      ],
      "metadata": {
        "id": "p8NFpzuHDGLu"
      }
    },
    {
      "cell_type": "markdown",
      "source": [
        "### Instalar as dependências"
      ],
      "metadata": {
        "id": "HlVXS-20EXdC"
      }
    },
    {
      "cell_type": "code",
      "execution_count": 2,
      "metadata": {
        "id": "UXvy5iUFV98q"
      },
      "outputs": [],
      "source": [
        "# instalar as dependências\n",
        "!apt-get install openjdk-8-jdk-headless -qq > /dev/null\n",
        "!wget -q https://archive.apache.org/dist/spark/spark-2.4.4/spark-2.4.4-bin-hadoop2.7.tgz\n",
        "!tar xf spark-2.4.4-bin-hadoop2.7.tgz\n",
        "!pip install -q findspark"
      ]
    },
    {
      "cell_type": "markdown",
      "source": [
        "### Configurar as variáveis de ambiente"
      ],
      "metadata": {
        "id": "vyksr-ZhEd4d"
      }
    },
    {
      "cell_type": "code",
      "source": [
        "# configurar as variáveis de ambiente\n",
        "import os\n",
        "os.environ[\"JAVA_HOME\"] = \"/usr/lib/jvm/java-8-openjdk-amd64\"\n",
        "os.environ[\"SPARK_HOME\"] = \"/content/spark-2.4.4-bin-hadoop2.7\"\n",
        "\n",
        "# tornar o pyspark \"importável\"\n",
        "import findspark\n",
        "findspark.init('spark-2.4.4-bin-hadoop2.7')"
      ],
      "metadata": {
        "id": "rXqRGp0-WdiK"
      },
      "execution_count": 3,
      "outputs": []
    },
    {
      "cell_type": "markdown",
      "source": [
        "# Funções RDD - PySpark"
      ],
      "metadata": {
        "id": "rwqJbBc-v93d"
      }
    },
    {
      "cell_type": "markdown",
      "source": [
        "## map()"
      ],
      "metadata": {
        "id": "etK7oZ4jgE1E"
      }
    },
    {
      "cell_type": "code",
      "source": [
        "from pyspark import SparkConf, SparkContext\n",
        "conf = SparkConf().setAppName(\"Map\")\n",
        "sc = SparkContext.getOrCreate(conf=conf)\n",
        "rdd = sc.textFile('/content/drive/MyDrive/PySpark/data/sample.txt')\n",
        "rdd.collect()"
      ],
      "metadata": {
        "id": "F-nHT1icCxRh"
      },
      "execution_count": null,
      "outputs": []
    },
    {
      "cell_type": "code",
      "source": [
        "rdd2 = rdd.map(lambda x: x.split(' '))"
      ],
      "metadata": {
        "id": "aOyYHD7QZx9C"
      },
      "execution_count": 20,
      "outputs": []
    },
    {
      "cell_type": "code",
      "source": [
        "rdd2.collect()"
      ],
      "metadata": {
        "colab": {
          "base_uri": "https://localhost:8080/"
        },
        "id": "NtDrYyX6apqw",
        "outputId": "e9cb7d7f-57b1-431a-b95f-d59298de7f84"
      },
      "execution_count": 21,
      "outputs": [
        {
          "output_type": "execute_result",
          "data": {
            "text/plain": [
              "[['1', '2', '3', '4', '5'],\n",
              " ['3', '4', '5', '66', '77'],\n",
              " ['12', '43', '6', '7', '8'],\n",
              " ['12', '12', '33']]"
            ]
          },
          "metadata": {},
          "execution_count": 21
        }
      ]
    },
    {
      "cell_type": "code",
      "source": [
        "def foo(x):\n",
        "    return x.split(' ')\n",
        "\n",
        "rdd3 = rdd.map(foo)\n",
        "rdd3.collect()"
      ],
      "metadata": {
        "colab": {
          "base_uri": "https://localhost:8080/"
        },
        "id": "3HjGJ845b600",
        "outputId": "c5515b3a-1236-45eb-90ad-35c6b66974c6"
      },
      "execution_count": 27,
      "outputs": [
        {
          "output_type": "execute_result",
          "data": {
            "text/plain": [
              "[['1', '2', '3', '4', '5'],\n",
              " ['3', '4', '5', '66', '77'],\n",
              " ['12', '43', '6', '7', '8'],\n",
              " ['12', '12', '33']]"
            ]
          },
          "metadata": {},
          "execution_count": 27
        }
      ]
    },
    {
      "cell_type": "markdown",
      "source": [
        "Quiz"
      ],
      "metadata": {
        "id": "116b85WLeYxq"
      }
    },
    {
      "cell_type": "code",
      "source": [
        "Sam = sc.textFile('/content/drive/MyDrive/PySpark/data/sample2.txt')"
      ],
      "metadata": {
        "id": "1TT0Dj4EeZs9"
      },
      "execution_count": 28,
      "outputs": []
    },
    {
      "cell_type": "code",
      "source": [
        "Sam2 = Sam.map(lambda x: x.split(' '))\n",
        "Sam2.collect()"
      ],
      "metadata": {
        "colab": {
          "base_uri": "https://localhost:8080/"
        },
        "id": "c6IMU7TzeqMo",
        "outputId": "810a2f03-3250-438c-dfa8-c89c10d5dfc3"
      },
      "execution_count": 58,
      "outputs": [
        {
          "output_type": "execute_result",
          "data": {
            "text/plain": [
              "[['Hi', 'how', 'are', 'you?'], ['Hpe', 'you', 'are', 'doing'], ['great']]"
            ]
          },
          "metadata": {},
          "execution_count": 58
        }
      ]
    },
    {
      "cell_type": "code",
      "source": [
        "def foo2(x):\n",
        "    l = x.split(' ')\n",
        "    l2 = []\n",
        "    for s in l:\n",
        "        l2.append(len(s))\n",
        "    return l2\n",
        "\n",
        "Sam3 = Sam.map(foo)\n",
        "Sam3.collect()"
      ],
      "metadata": {
        "colab": {
          "base_uri": "https://localhost:8080/"
        },
        "id": "DlURcqC5e72O",
        "outputId": "90c84955-e7b2-42f3-9eea-6a76baf4f75b"
      },
      "execution_count": 54,
      "outputs": [
        {
          "output_type": "execute_result",
          "data": {
            "text/plain": [
              "[['Hi', 'how', 'are', 'you?'], ['Hpe', 'you', 'are', 'doing'], ['great']]"
            ]
          },
          "metadata": {},
          "execution_count": 54
        }
      ]
    },
    {
      "cell_type": "code",
      "source": [
        ""
      ],
      "metadata": {
        "id": "9pNKvO2IfZNQ"
      },
      "execution_count": null,
      "outputs": []
    },
    {
      "cell_type": "markdown",
      "source": [
        "## flatMap()"
      ],
      "metadata": {
        "id": "DzcJDSp6gIeU"
      }
    },
    {
      "cell_type": "code",
      "source": [
        "conf = SparkConf().setAppName(\"FlatMap\")\n",
        "sc = SparkContext.getOrCreate(conf=conf)\n",
        "rdd = sc.textFile('/content/drive/MyDrive/PySpark/data/sample.txt')\n",
        "rdd.collect()"
      ],
      "metadata": {
        "colab": {
          "base_uri": "https://localhost:8080/"
        },
        "id": "ZKwpmMzDhiLl",
        "outputId": "9f45b386-38d1-478b-b6fd-76b00d692cf0"
      },
      "execution_count": 57,
      "outputs": [
        {
          "output_type": "execute_result",
          "data": {
            "text/plain": [
              "['1 2 3 4 5', '3 4 5 66 77', '12 43 6 7 8', '12 12 33']"
            ]
          },
          "metadata": {},
          "execution_count": 57
        }
      ]
    },
    {
      "cell_type": "code",
      "source": [
        "MappRdd = rdd.flatMap(lambda x: x.split(' '))\n",
        "MappRdd.collect()"
      ],
      "metadata": {
        "colab": {
          "base_uri": "https://localhost:8080/"
        },
        "id": "ipE-ERmVgLJu",
        "outputId": "6df0f79f-ae8f-4fde-e816-7fed073910fb"
      },
      "execution_count": 59,
      "outputs": [
        {
          "output_type": "execute_result",
          "data": {
            "text/plain": [
              "['1',\n",
              " '2',\n",
              " '3',\n",
              " '4',\n",
              " '5',\n",
              " '3',\n",
              " '4',\n",
              " '5',\n",
              " '66',\n",
              " '77',\n",
              " '12',\n",
              " '43',\n",
              " '6',\n",
              " '7',\n",
              " '8',\n",
              " '12',\n",
              " '12',\n",
              " '33']"
            ]
          },
          "metadata": {},
          "execution_count": 59
        }
      ]
    },
    {
      "cell_type": "markdown",
      "source": [
        "## Filter()\n",
        "* Filtros são utlizados para remover os elementos do RDD\n",
        "* É criado um novo RDD\n",
        "* rdd.filter(lambda x: x!=123) => se o x!= 123 é verdadeiro ele é considerado no output caso contrário não será."
      ],
      "metadata": {
        "id": "iROlept8kP8W"
      }
    },
    {
      "cell_type": "code",
      "source": [
        "rdd6 = rdd.filter(lambda x: x != '12 12 33')\n",
        "rdd6.collect()"
      ],
      "metadata": {
        "colab": {
          "base_uri": "https://localhost:8080/"
        },
        "id": "MDPAvia5kkdj",
        "outputId": "f98ece6f-a68a-43f9-ed2e-f7d6dd7bcee0"
      },
      "execution_count": 64,
      "outputs": [
        {
          "output_type": "execute_result",
          "data": {
            "text/plain": [
              "['1 2 3 4 5', '3 4 5 66 77', '12 43 6 7 8']"
            ]
          },
          "metadata": {},
          "execution_count": 64
        }
      ]
    },
    {
      "cell_type": "code",
      "source": [
        "def foo(x):\n",
        "    if x == '12 12 33':\n",
        "        return False\n",
        "    else:\n",
        "        return True\n",
        "\n",
        "\n",
        "rdd6 = rdd.filter(foo)\n",
        "rdd6.collect()"
      ],
      "metadata": {
        "colab": {
          "base_uri": "https://localhost:8080/"
        },
        "id": "UHdHeHuXl090",
        "outputId": "9df4811d-a496-4a16-c98c-f0ca8f2bbb53"
      },
      "execution_count": 72,
      "outputs": [
        {
          "output_type": "execute_result",
          "data": {
            "text/plain": [
              "['1 2 3 4 5', '3 4 5 66 77', '12 43 6 7 8']"
            ]
          },
          "metadata": {},
          "execution_count": 72
        }
      ]
    },
    {
      "cell_type": "markdown",
      "source": [
        "### Exemplo\n",
        "\n",
        "Escrever um filtro que vai remover todas as palavras que começam com a ou c do rdd"
      ],
      "metadata": {
        "id": "OjWa-_D0mpmW"
      }
    },
    {
      "cell_type": "code",
      "source": [
        "conf = SparkConf().setAppName(\"FlatMap\")\n",
        "sc = SparkContext.getOrCreate(conf=conf)\n",
        "rdd = sc.textFile('/content/drive/MyDrive/PySpark/data/sample3.txt')\n",
        "rdd.collect()"
      ],
      "metadata": {
        "colab": {
          "base_uri": "https://localhost:8080/"
        },
        "id": "2foIeRMljJn0",
        "outputId": "c160c96a-80af-438f-a4f1-32237278c6f9"
      },
      "execution_count": 87,
      "outputs": [
        {
          "output_type": "execute_result",
          "data": {
            "text/plain": [
              "['this mango company animal',\n",
              " 'cat dog ant mic laptop',\n",
              " 'chair swich moble am charge cover',\n",
              " 'amanda nay alarm ant']"
            ]
          },
          "metadata": {},
          "execution_count": 87
        }
      ]
    },
    {
      "cell_type": "code",
      "source": [
        "FlatMappedRdd = rdd.flatMap(lambda x: x.split(' '))\n",
        "FlatMappedRdd.collect()"
      ],
      "metadata": {
        "colab": {
          "base_uri": "https://localhost:8080/"
        },
        "id": "7GQPV9OenCFg",
        "outputId": "a2042781-6211-4eb5-cfd9-ab125c42050d"
      },
      "execution_count": 88,
      "outputs": [
        {
          "output_type": "execute_result",
          "data": {
            "text/plain": [
              "['this',\n",
              " 'mango',\n",
              " 'company',\n",
              " 'animal',\n",
              " 'cat',\n",
              " 'dog',\n",
              " 'ant',\n",
              " 'mic',\n",
              " 'laptop',\n",
              " 'chair',\n",
              " 'swich',\n",
              " 'moble',\n",
              " 'am',\n",
              " 'charge',\n",
              " 'cover',\n",
              " 'amanda',\n",
              " 'nay',\n",
              " 'alarm',\n",
              " 'ant']"
            ]
          },
          "metadata": {},
          "execution_count": 88
        }
      ]
    },
    {
      "cell_type": "code",
      "source": [
        "def filterAandC(x):\n",
        "    if(x.startswith('a') or x.startswith('c')):\n",
        "        return False\n",
        "    else:\n",
        "        return True\n",
        "\n",
        "filteredRdd = FlatMappedRdd.filter(filterAandC)\n",
        "filteredRdd.collect()"
      ],
      "metadata": {
        "colab": {
          "base_uri": "https://localhost:8080/"
        },
        "id": "w2UadvzWokr2",
        "outputId": "e559ce59-673b-4c8c-dbbb-923246e1b8fd"
      },
      "execution_count": 89,
      "outputs": [
        {
          "output_type": "execute_result",
          "data": {
            "text/plain": [
              "['this', 'mango', 'dog', 'mic', 'laptop', 'swich', 'moble', 'nay']"
            ]
          },
          "metadata": {},
          "execution_count": 89
        }
      ]
    },
    {
      "cell_type": "code",
      "source": [
        "filterRddLambda = FlatMappedRdd.filter(lambda x: not(x.startswith('a') or x.startswith('c')) )\n",
        "filterRddLambda.collect()"
      ],
      "metadata": {
        "colab": {
          "base_uri": "https://localhost:8080/"
        },
        "id": "BjmF-eQzrKg-",
        "outputId": "182c314b-e100-464d-dc78-d378ef9b7739"
      },
      "execution_count": 94,
      "outputs": [
        {
          "output_type": "execute_result",
          "data": {
            "text/plain": [
              "['this', 'mango', 'dog', 'mic', 'laptop', 'swich', 'moble', 'nay']"
            ]
          },
          "metadata": {},
          "execution_count": 94
        }
      ]
    },
    {
      "cell_type": "markdown",
      "source": [
        "## distinct()\n",
        "\n",
        "* Distinct é usado para obter elementos distintos do RDD\n",
        "* Ele vai criar um novo RDD\n",
        "* rdd.distinct()"
      ],
      "metadata": {
        "id": "aSytd-oCr_jy"
      }
    },
    {
      "cell_type": "code",
      "source": [
        "conf = SparkConf().setAppName(\"Distinct\")\n",
        "sc = SparkContext.getOrCreate(conf=conf)\n",
        "rdd = sc.textFile('/content/drive/MyDrive/PySpark/data/sample.txt')"
      ],
      "metadata": {
        "colab": {
          "base_uri": "https://localhost:8080/"
        },
        "id": "d9gXLsoPsN4x",
        "outputId": "a40a14a7-8ad0-4d0e-b735-d0bf479e3ced"
      },
      "execution_count": 95,
      "outputs": [
        {
          "output_type": "execute_result",
          "data": {
            "text/plain": [
              "['1 2 3 4 5', '3 4 5 66 77', '12 43 6 7 8', '12 12 33']"
            ]
          },
          "metadata": {},
          "execution_count": 95
        }
      ]
    },
    {
      "cell_type": "code",
      "source": [
        "rdd2 = rdd.distinct()\n",
        "rdd2.collect()"
      ],
      "metadata": {
        "colab": {
          "base_uri": "https://localhost:8080/"
        },
        "id": "X0UBdaaMukqL",
        "outputId": "7a6392fb-0104-439c-892d-e733efce7ef3"
      },
      "execution_count": 96,
      "outputs": [
        {
          "output_type": "execute_result",
          "data": {
            "text/plain": [
              "['3 4 5 66 77', '12 43 6 7 8', '12 12 33', '1 2 3 4 5']"
            ]
          },
          "metadata": {},
          "execution_count": 96
        }
      ]
    },
    {
      "cell_type": "code",
      "source": [
        "rdd2 = rdd.flatMap(lambda x: x.split(' '))\n",
        "rdd3 = rdd2.distinct()\n",
        "rdd3.collect()"
      ],
      "metadata": {
        "colab": {
          "base_uri": "https://localhost:8080/"
        },
        "id": "l_uW9d_tuzf7",
        "outputId": "89b60342-fc5f-4fe3-f125-2f80f2c3a9c6"
      },
      "execution_count": 99,
      "outputs": [
        {
          "output_type": "execute_result",
          "data": {
            "text/plain": [
              "['1', '4', '66', '77', '12', '8', '33', '2', '3', '5', '43', '6', '7']"
            ]
          },
          "metadata": {},
          "execution_count": 99
        }
      ]
    },
    {
      "cell_type": "code",
      "source": [
        "rdd.flatMap(lambda x: x.split(' ')).distinct().collect()"
      ],
      "metadata": {
        "colab": {
          "base_uri": "https://localhost:8080/"
        },
        "id": "GP5TEOGOvWty",
        "outputId": "ead99597-7ddf-46d1-f32e-d553092f0c61"
      },
      "execution_count": 100,
      "outputs": [
        {
          "output_type": "execute_result",
          "data": {
            "text/plain": [
              "['1', '4', '66', '77', '12', '8', '33', '2', '3', '5', '43', '6', '7']"
            ]
          },
          "metadata": {},
          "execution_count": 100
        }
      ]
    },
    {
      "cell_type": "markdown",
      "source": [
        "## groupByKey()\n",
        "\n",
        "* GroupByKey é utilizado para criar grupos baseados em uma chave do RDD\n",
        "* Para o groupByKey funcionar corretamente os dados devem estar no formato de (k,v),(k,v),(k2,v),(k2,v2)\n",
        "* Exemplo: (\"Apple\",1),(\"Ball\",1),(\"Apple\",1)\n",
        "* Vai criar um novo RDD\n",
        "* rdd.groupByKey()\n",
        "* mapValues(list) é usualmente utilizado para obter os dados do grupo"
      ],
      "metadata": {
        "id": "FFQucJCiv3vM"
      }
    },
    {
      "cell_type": "code",
      "source": [
        "conf = SparkConf().setAppName(\"GroupByKey\")\n",
        "sc = SparkContext.getOrCreate(conf=conf)\n",
        "rdd = sc.textFile('/content/drive/MyDrive/PySpark/data/sample3.txt')"
      ],
      "metadata": {
        "id": "e8a0eViCxowe"
      },
      "execution_count": 112,
      "outputs": []
    },
    {
      "cell_type": "code",
      "source": [
        "rdd.map(lambda x: (x, 1)).collect()"
      ],
      "metadata": {
        "colab": {
          "base_uri": "https://localhost:8080/"
        },
        "id": "pM6DpOQ8z2L9",
        "outputId": "26ef2ff3-42a0-4a2e-8dfd-b1699b3d8613"
      },
      "execution_count": 113,
      "outputs": [
        {
          "output_type": "execute_result",
          "data": {
            "text/plain": [
              "[('this mango company animal', 1),\n",
              " ('cat dog ant mic laptop', 1),\n",
              " ('chair swich moble am charge cover', 1),\n",
              " ('amanda any alarm ant', 1)]"
            ]
          },
          "metadata": {},
          "execution_count": 113
        }
      ]
    },
    {
      "cell_type": "code",
      "source": [
        "rdd.map(lambda x: (x, len(x.split()))).collect()"
      ],
      "metadata": {
        "colab": {
          "base_uri": "https://localhost:8080/"
        },
        "id": "b1MtwyoazKB3",
        "outputId": "bc6f2cfb-5e87-4dd0-cf22-be1c3ccd8094"
      },
      "execution_count": 115,
      "outputs": [
        {
          "output_type": "execute_result",
          "data": {
            "text/plain": [
              "[('this mango company animal', 4),\n",
              " ('cat dog ant mic laptop', 5),\n",
              " ('chair swich moble am charge cover', 6),\n",
              " ('amanda any alarm ant', 4)]"
            ]
          },
          "metadata": {},
          "execution_count": 115
        }
      ]
    },
    {
      "cell_type": "code",
      "source": [
        "rdd2 = rdd.flatMap(lambda x: x.split(' '))\n",
        "rdd2 .collect()"
      ],
      "metadata": {
        "colab": {
          "base_uri": "https://localhost:8080/"
        },
        "id": "OcyGbt1v0HDC",
        "outputId": "8d52aa88-530a-4b3c-a880-a34fb5abfd09"
      },
      "execution_count": 121,
      "outputs": [
        {
          "output_type": "execute_result",
          "data": {
            "text/plain": [
              "['this',\n",
              " 'mango',\n",
              " 'company',\n",
              " 'animal',\n",
              " 'cat',\n",
              " 'dog',\n",
              " 'ant',\n",
              " 'mic',\n",
              " 'laptop',\n",
              " 'chair',\n",
              " 'swich',\n",
              " 'moble',\n",
              " 'am',\n",
              " 'charge',\n",
              " 'cover',\n",
              " 'amanda',\n",
              " 'any',\n",
              " 'alarm',\n",
              " 'ant']"
            ]
          },
          "metadata": {},
          "execution_count": 121
        }
      ]
    },
    {
      "cell_type": "code",
      "source": [
        "rdd3 = rdd2.map(lambda x: (x,len(x)))"
      ],
      "metadata": {
        "id": "H7L5vTsY1OvP"
      },
      "execution_count": 126,
      "outputs": []
    },
    {
      "cell_type": "code",
      "source": [
        "rdd3.groupByKey().mapValues(list).collect()"
      ],
      "metadata": {
        "colab": {
          "base_uri": "https://localhost:8080/"
        },
        "id": "VekPOB6T1jj0",
        "outputId": "70e7dddc-2284-4ac7-f959-1f847cb6ca8f"
      },
      "execution_count": 130,
      "outputs": [
        {
          "output_type": "execute_result",
          "data": {
            "text/plain": [
              "[('this', [4]),\n",
              " ('mango', [5]),\n",
              " ('cat', [3]),\n",
              " ('ant', [3, 3]),\n",
              " ('laptop', [6]),\n",
              " ('chair', [5]),\n",
              " ('moble', [5]),\n",
              " ('am', [2]),\n",
              " ('charge', [6]),\n",
              " ('company', [7]),\n",
              " ('animal', [6]),\n",
              " ('dog', [3]),\n",
              " ('mic', [3]),\n",
              " ('swich', [5]),\n",
              " ('cover', [5]),\n",
              " ('amanda', [6]),\n",
              " ('any', [3]),\n",
              " ('alarm', [5])]"
            ]
          },
          "metadata": {},
          "execution_count": 130
        }
      ]
    },
    {
      "cell_type": "markdown",
      "source": [
        ""
      ],
      "metadata": {
        "id": "j47IiCrgxjoj"
      }
    },
    {
      "cell_type": "markdown",
      "source": [
        "## reduceByKey()\n",
        "\n",
        "* ReduceByKey é utilizado para combinar dados baseado nas chaves do RDD\n",
        "* Para o groupByKey funcionar corretamente os dados devem estar no formato de (k,v),(k,v),(k2,v),(k2,v2)\n",
        "* Exemplo: (\"Apple\",1),(\"Ball\",1),(\"Apple\",1)\n",
        "* Vai criar um novo RDD\n",
        "* rdd.reduceByKey(lambda x, y: x + y)"
      ],
      "metadata": {
        "id": "vOFRHAgz3eoX"
      }
    },
    {
      "cell_type": "code",
      "source": [
        "conf = SparkConf().setAppName(\"ReduceByKey\")\n",
        "sc = SparkContext.getOrCreate(conf=conf)\n",
        "rdd = sc.textFile('/content/drive/MyDrive/PySpark/data/sample.txt')\n",
        "rdd.collect()"
      ],
      "metadata": {
        "colab": {
          "base_uri": "https://localhost:8080/"
        },
        "id": "aMRleyQF4A_0",
        "outputId": "dd135d54-664a-459f-f792-b4476ca391fc"
      },
      "execution_count": 147,
      "outputs": [
        {
          "output_type": "execute_result",
          "data": {
            "text/plain": [
              "['1 2 3 4 5', '3 4 5 66 77', '12 43 6 7 8', '12 12 33']"
            ]
          },
          "metadata": {},
          "execution_count": 147
        }
      ]
    },
    {
      "cell_type": "code",
      "source": [
        "rdd2 = rdd.flatMap(lambda x: x.split(' '))"
      ],
      "metadata": {
        "id": "RS57phCN-_5E"
      },
      "execution_count": 148,
      "outputs": []
    },
    {
      "cell_type": "code",
      "source": [
        "rdd3 = rdd2.map(lambda x: (x,1))"
      ],
      "metadata": {
        "id": "ZxvMZ2Qa_Itu"
      },
      "execution_count": 149,
      "outputs": []
    },
    {
      "cell_type": "code",
      "source": [
        "rdd3.reduceByKey(lambda x, y : x + y).collect()"
      ],
      "metadata": {
        "colab": {
          "base_uri": "https://localhost:8080/"
        },
        "id": "qUOZtkx0_8Uk",
        "outputId": "8b053114-f147-4ade-e448-db6d1e89484e"
      },
      "execution_count": 152,
      "outputs": [
        {
          "output_type": "execute_result",
          "data": {
            "text/plain": [
              "[('1', 1),\n",
              " ('4', 2),\n",
              " ('66', 1),\n",
              " ('77', 1),\n",
              " ('12', 3),\n",
              " ('8', 1),\n",
              " ('33', 1),\n",
              " ('2', 1),\n",
              " ('3', 2),\n",
              " ('5', 2),\n",
              " ('43', 1),\n",
              " ('6', 1),\n",
              " ('7', 1)]"
            ]
          },
          "metadata": {},
          "execution_count": 152
        }
      ]
    },
    {
      "cell_type": "markdown",
      "source": [
        "### Exemplo\n",
        "\n",
        "Escreva um fluxo de transformação que retornará a contagem de palavras de cada palavra presente no arquivo como par (valor-chave)"
      ],
      "metadata": {
        "id": "gv3dcj5OBMGS"
      }
    },
    {
      "cell_type": "code",
      "source": [
        "conf = SparkConf().setAppName(\"Exemplo-Map-Reduce\")\n",
        "sc = SparkContext.getOrCreate(conf=conf)\n",
        "rdd = sc.textFile('/content/drive/MyDrive/PySpark/data/sample4.txt')\n",
        "rdd.collect()"
      ],
      "metadata": {
        "colab": {
          "base_uri": "https://localhost:8080/"
        },
        "id": "0HovRTH3Bhaa",
        "outputId": "5765b51a-3c2b-4cb8-cb99-dc9ac0cbd7ab"
      },
      "execution_count": 157,
      "outputs": [
        {
          "output_type": "execute_result",
          "data": {
            "text/plain": [
              "['this mango company',\n",
              " 'cat mango ant animal laptop',\n",
              " 'chair switch mango am charge cover',\n",
              " 'animalany mango ant laptop laptop',\n",
              " 'this']"
            ]
          },
          "metadata": {},
          "execution_count": 157
        }
      ]
    },
    {
      "cell_type": "code",
      "source": [
        "rdd2 = rdd.flatMap(lambda x: x.split(' '))"
      ],
      "metadata": {
        "id": "1Qm_izbTB7o8"
      },
      "execution_count": 158,
      "outputs": []
    },
    {
      "cell_type": "code",
      "source": [
        "rdd3 = rdd2.map(lambda x: (x,1))"
      ],
      "metadata": {
        "id": "2uBJw3iqB-HI"
      },
      "execution_count": 159,
      "outputs": []
    },
    {
      "cell_type": "code",
      "source": [
        "rdd3.reduceByKey(lambda x, y : x + y).collect()"
      ],
      "metadata": {
        "colab": {
          "base_uri": "https://localhost:8080/"
        },
        "id": "f4Lq6WbMB_4Y",
        "outputId": "00a9a98d-8c12-4c59-85af-cb99c0b247d2"
      },
      "execution_count": 160,
      "outputs": [
        {
          "output_type": "execute_result",
          "data": {
            "text/plain": [
              "[('this', 2),\n",
              " ('mango', 4),\n",
              " ('cat', 1),\n",
              " ('ant', 2),\n",
              " ('laptop', 3),\n",
              " ('chair', 1),\n",
              " ('switch', 1),\n",
              " ('am', 1),\n",
              " ('charge', 1),\n",
              " ('company', 1),\n",
              " ('animal', 1),\n",
              " ('cover', 1),\n",
              " ('animalany', 1)]"
            ]
          },
          "metadata": {},
          "execution_count": 160
        }
      ]
    },
    {
      "cell_type": "code",
      "source": [
        "rdd.flatMap(lambda x: x.split(' ')).map(lambda x: (x ,1)).reduceByKey(lambda x ,y : x + y).collect()"
      ],
      "metadata": {
        "colab": {
          "base_uri": "https://localhost:8080/"
        },
        "id": "jzFrtMiYFmtn",
        "outputId": "602c4599-ce0c-414b-c84f-b775ea465714"
      },
      "execution_count": 165,
      "outputs": [
        {
          "output_type": "execute_result",
          "data": {
            "text/plain": [
              "[('this', 2),\n",
              " ('mango', 4),\n",
              " ('cat', 1),\n",
              " ('ant', 2),\n",
              " ('laptop', 3),\n",
              " ('chair', 1),\n",
              " ('switch', 1),\n",
              " ('am', 1),\n",
              " ('charge', 1),\n",
              " ('company', 1),\n",
              " ('animal', 1),\n",
              " ('cover', 1),\n",
              " ('animalany', 1)]"
            ]
          },
          "metadata": {},
          "execution_count": 165
        }
      ]
    },
    {
      "cell_type": "markdown",
      "source": [
        "## count()\n",
        "\n",
        "* count retorna o número de elementos no RDD\n",
        "* count é uma ação\n",
        "* rdd.count()"
      ],
      "metadata": {
        "id": "AxbKhDb2J7sM"
      }
    },
    {
      "cell_type": "code",
      "source": [
        "conf = SparkConf().setAppName(\"count\")\n",
        "sc = SparkContext.getOrCreate(conf=conf)\n",
        "rdd = sc.textFile('/content/drive/MyDrive/PySpark/data/sample4.txt')\n",
        "rdd.collect()"
      ],
      "metadata": {
        "colab": {
          "base_uri": "https://localhost:8080/"
        },
        "id": "xqNkpyCiKPpw",
        "outputId": "c3026c42-8b22-4b27-b222-b150ceb662c7"
      },
      "execution_count": 166,
      "outputs": [
        {
          "output_type": "execute_result",
          "data": {
            "text/plain": [
              "['this mango company',\n",
              " 'cat mango ant animal laptop',\n",
              " 'chair switch mango am charge cover',\n",
              " 'animalany mango ant laptop laptop',\n",
              " 'this']"
            ]
          },
          "metadata": {},
          "execution_count": 166
        }
      ]
    },
    {
      "cell_type": "code",
      "source": [
        "rdd2 = rdd.flatMap(lambda x: x.split(' '))"
      ],
      "metadata": {
        "id": "_gW0Yf1FKj1v"
      },
      "execution_count": 170,
      "outputs": []
    },
    {
      "cell_type": "code",
      "source": [
        "rdd2.count()"
      ],
      "metadata": {
        "colab": {
          "base_uri": "https://localhost:8080/"
        },
        "id": "WvUCUW2uK_ja",
        "outputId": "1ed91403-1a4f-483a-ab73-730288b2e693"
      },
      "execution_count": 171,
      "outputs": [
        {
          "output_type": "execute_result",
          "data": {
            "text/plain": [
              "20"
            ]
          },
          "metadata": {},
          "execution_count": 171
        }
      ]
    },
    {
      "cell_type": "markdown",
      "source": [
        "## coutByValue()\n",
        "\n",
        "* contByValue fornece quantas vezes cada valor ocorre no RDD\n",
        "* count é uma ação\n",
        "* rdd.countByValue()"
      ],
      "metadata": {
        "id": "79rzMkMzLI8-"
      }
    },
    {
      "cell_type": "code",
      "source": [
        "rdd.countByValue()"
      ],
      "metadata": {
        "colab": {
          "base_uri": "https://localhost:8080/"
        },
        "id": "kvpLl6YcLY9V",
        "outputId": "9194c79e-5622-4242-9dcb-ca17daf190e0"
      },
      "execution_count": 174,
      "outputs": [
        {
          "output_type": "execute_result",
          "data": {
            "text/plain": [
              "defaultdict(int,\n",
              "            {'animalany mango ant laptop laptop': 1,\n",
              "             'cat mango ant animal laptop': 1,\n",
              "             'chair switch mango am charge cover': 1,\n",
              "             'this': 1,\n",
              "             'this mango company': 1})"
            ]
          },
          "metadata": {},
          "execution_count": 174
        }
      ]
    },
    {
      "cell_type": "code",
      "source": [
        "rdd2 = rdd.flatMap(lambda x: x.split(' '))\n",
        "rdd2.collect()"
      ],
      "metadata": {
        "colab": {
          "base_uri": "https://localhost:8080/"
        },
        "id": "3AAL81ozL9QU",
        "outputId": "30d91acb-5c8a-44f8-e863-01642a3c194d"
      },
      "execution_count": 177,
      "outputs": [
        {
          "output_type": "execute_result",
          "data": {
            "text/plain": [
              "['this',\n",
              " 'mango',\n",
              " 'company',\n",
              " 'cat',\n",
              " 'mango',\n",
              " 'ant',\n",
              " 'animal',\n",
              " 'laptop',\n",
              " 'chair',\n",
              " 'switch',\n",
              " 'mango',\n",
              " 'am',\n",
              " 'charge',\n",
              " 'cover',\n",
              " 'animalany',\n",
              " 'mango',\n",
              " 'ant',\n",
              " 'laptop',\n",
              " 'laptop',\n",
              " 'this']"
            ]
          },
          "metadata": {},
          "execution_count": 177
        }
      ]
    },
    {
      "cell_type": "code",
      "source": [
        "rdd2.countByValue()"
      ],
      "metadata": {
        "colab": {
          "base_uri": "https://localhost:8080/"
        },
        "id": "rj295fANMWtc",
        "outputId": "b0e33639-69dd-4fea-c68f-cf03856d1835"
      },
      "execution_count": 178,
      "outputs": [
        {
          "output_type": "execute_result",
          "data": {
            "text/plain": [
              "defaultdict(int,\n",
              "            {'am': 1,\n",
              "             'animal': 1,\n",
              "             'animalany': 1,\n",
              "             'ant': 2,\n",
              "             'cat': 1,\n",
              "             'chair': 1,\n",
              "             'charge': 1,\n",
              "             'company': 1,\n",
              "             'cover': 1,\n",
              "             'laptop': 3,\n",
              "             'mango': 4,\n",
              "             'switch': 1,\n",
              "             'this': 2})"
            ]
          },
          "metadata": {},
          "execution_count": 178
        }
      ]
    },
    {
      "cell_type": "code",
      "source": [
        "rdd.flatMap(lambda x: x.split(' ')).countByValue()"
      ],
      "metadata": {
        "colab": {
          "base_uri": "https://localhost:8080/"
        },
        "id": "C8ehp6hPMb4T",
        "outputId": "71ba3cb1-b1bd-446f-d768-1cbda7823c8b"
      },
      "execution_count": 179,
      "outputs": [
        {
          "output_type": "execute_result",
          "data": {
            "text/plain": [
              "defaultdict(int,\n",
              "            {'am': 1,\n",
              "             'animal': 1,\n",
              "             'animalany': 1,\n",
              "             'ant': 2,\n",
              "             'cat': 1,\n",
              "             'chair': 1,\n",
              "             'charge': 1,\n",
              "             'company': 1,\n",
              "             'cover': 1,\n",
              "             'laptop': 3,\n",
              "             'mango': 4,\n",
              "             'switch': 1,\n",
              "             'this': 2})"
            ]
          },
          "metadata": {},
          "execution_count": 179
        }
      ]
    }
  ]
}