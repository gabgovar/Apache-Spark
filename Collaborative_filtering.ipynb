{
  "nbformat": 4,
  "nbformat_minor": 0,
  "metadata": {
    "colab": {
      "name": "Collaborative_filtering.ipynb",
      "provenance": [],
      "mount_file_id": "1vjRQFjmMZ3k0-U68M_lbKIwBi6g5zRdG",
      "authorship_tag": "ABX9TyMb7tPLojbBRstg/zwADD9x",
      "include_colab_link": true
    },
    "kernelspec": {
      "name": "python3",
      "display_name": "Python 3"
    },
    "language_info": {
      "name": "python"
    },
    "accelerator": "GPU"
  },
  "cells": [
    {
      "cell_type": "markdown",
      "metadata": {
        "id": "view-in-github",
        "colab_type": "text"
      },
      "source": [
        "<a href=\"https://colab.research.google.com/github/gabgovar/Apache-Spark/blob/main/Collaborative_filtering.ipynb\" target=\"_parent\"><img src=\"https://colab.research.google.com/assets/colab-badge.svg\" alt=\"Open In Colab\"/></a>"
      ]
    },
    {
      "cell_type": "markdown",
      "source": [
        "# Colaborative filtering"
      ],
      "metadata": {
        "id": "KdbS6w3tvS0P"
      }
    },
    {
      "cell_type": "markdown",
      "source": [
        "## Instalando as Demendências do Hadoop Spark no Google Colab"
      ],
      "metadata": {
        "id": "2f-magFGvG7t"
      }
    },
    {
      "cell_type": "code",
      "execution_count": 1,
      "metadata": {
        "id": "a9JSzmCJvBlY"
      },
      "outputs": [],
      "source": [
        "# instalar as dependências\n",
        "!apt-get install openjdk-8-jdk-headless -qq > /dev/null\n",
        "!wget -q https://archive.apache.org/dist/spark/spark-2.4.4/spark-2.4.4-bin-hadoop2.7.tgz\n",
        "!tar xf spark-2.4.4-bin-hadoop2.7.tgz\n",
        "!pip install -q findspark"
      ]
    },
    {
      "cell_type": "markdown",
      "source": [
        "## Configurando as Demendências do Hadoop Spark no Google Colab"
      ],
      "metadata": {
        "id": "QNEm4zv8vJ58"
      }
    },
    {
      "cell_type": "code",
      "source": [
        "# configurar as variáveis de ambiente\n",
        "import os\n",
        "os.environ[\"JAVA_HOME\"] = \"/usr/lib/jvm/java-8-openjdk-amd64\"\n",
        "os.environ[\"SPARK_HOME\"] = \"/content/spark-2.4.4-bin-hadoop2.7\"\n",
        "\n",
        "# tornar o pyspark \"importável\"\n",
        "import findspark\n",
        "findspark.init('spark-2.4.4-bin-hadoop2.7')\n",
        "findspark.find()"
      ],
      "metadata": {
        "colab": {
          "base_uri": "https://localhost:8080/",
          "height": 36
        },
        "id": "5hnYxjirvNUA",
        "outputId": "d94b05e8-8dc2-4260-faa6-07874f1aecde"
      },
      "execution_count": 2,
      "outputs": [
        {
          "output_type": "execute_result",
          "data": {
            "application/vnd.google.colaboratory.intrinsic+json": {
              "type": "string"
            },
            "text/plain": [
              "'spark-2.4.4-bin-hadoop2.7/python/pyspark'"
            ]
          },
          "metadata": {},
          "execution_count": 2
        }
      ]
    },
    {
      "cell_type": "markdown",
      "source": [
        "## Lendo os DF's"
      ],
      "metadata": {
        "id": "lLOp5W7P1Dzq"
      }
    },
    {
      "cell_type": "code",
      "source": [
        "from pyspark.sql import SparkSession\n",
        "from pyspark.ml.recommendation import ALS\n",
        "from pyspark.ml.evaluation import RegressionEvaluator\n",
        "from pyspark.ml.tuning import ParamGridBuilder, CrossValidator\n",
        "from pyspark.sql.functions import col,explode\n",
        "spark = SparkSession.builder.appName(\"Collaborative filtering\").getOrCreate()"
      ],
      "metadata": {
        "id": "tUdoizQEyPQI"
      },
      "execution_count": 21,
      "outputs": []
    },
    {
      "cell_type": "code",
      "source": [
        "moviesDF = spark.read.options(header = \"True\", inferSchema = \"True\").csv(\"/content/drive/MyDrive/PySpark/data/movies.csv\")\n",
        "ratingsDF = spark.read.options(header = \"True\", inferSchema = \"True\").csv(\"/content/drive/MyDrive/PySpark/data/ratings.csv\")\n",
        "\n",
        "moviesDF.show()\n",
        "ratingsDF.show()"
      ],
      "metadata": {
        "colab": {
          "base_uri": "https://localhost:8080/"
        },
        "id": "hsU9iZDVzGq5",
        "outputId": "6fb3b2bf-b874-43ba-fbb9-2a461a67c9d5"
      },
      "execution_count": 25,
      "outputs": [
        {
          "output_type": "stream",
          "name": "stdout",
          "text": [
            "+-------+--------------------+--------------------+\n",
            "|movieId|               title|              genres|\n",
            "+-------+--------------------+--------------------+\n",
            "|      1|    Toy Story (1995)|Adventure|Animati...|\n",
            "|      2|      Jumanji (1995)|Adventure|Childre...|\n",
            "|      3|Grumpier Old Men ...|      Comedy|Romance|\n",
            "|      4|Waiting to Exhale...|Comedy|Drama|Romance|\n",
            "|      5|Father of the Bri...|              Comedy|\n",
            "|      6|         Heat (1995)|Action|Crime|Thri...|\n",
            "|      7|      Sabrina (1995)|      Comedy|Romance|\n",
            "|      8| Tom and Huck (1995)|  Adventure|Children|\n",
            "|      9| Sudden Death (1995)|              Action|\n",
            "|     10|    GoldenEye (1995)|Action|Adventure|...|\n",
            "|     11|American Presiden...|Comedy|Drama|Romance|\n",
            "|     12|Dracula: Dead and...|       Comedy|Horror|\n",
            "|     13|        Balto (1995)|Adventure|Animati...|\n",
            "|     14|        Nixon (1995)|               Drama|\n",
            "|     15|Cutthroat Island ...|Action|Adventure|...|\n",
            "|     16|       Casino (1995)|         Crime|Drama|\n",
            "|     17|Sense and Sensibi...|       Drama|Romance|\n",
            "|     18|   Four Rooms (1995)|              Comedy|\n",
            "|     19|Ace Ventura: When...|              Comedy|\n",
            "|     20|  Money Train (1995)|Action|Comedy|Cri...|\n",
            "+-------+--------------------+--------------------+\n",
            "only showing top 20 rows\n",
            "\n",
            "+------+-------+------+---------+\n",
            "|userId|movieId|rating|timestamp|\n",
            "+------+-------+------+---------+\n",
            "|     1|      1|   4.0|964982703|\n",
            "|     1|      3|   4.0|964981247|\n",
            "|     1|      6|   4.0|964982224|\n",
            "|     1|     47|   5.0|964983815|\n",
            "|     1|     50|   5.0|964982931|\n",
            "|     1|     70|   3.0|964982400|\n",
            "|     1|    101|   5.0|964980868|\n",
            "|     1|    110|   4.0|964982176|\n",
            "|     1|    151|   5.0|964984041|\n",
            "|     1|    157|   5.0|964984100|\n",
            "|     1|    163|   5.0|964983650|\n",
            "|     1|    216|   5.0|964981208|\n",
            "|     1|    223|   3.0|964980985|\n",
            "|     1|    231|   5.0|964981179|\n",
            "|     1|    235|   4.0|964980908|\n",
            "|     1|    260|   5.0|964981680|\n",
            "|     1|    296|   3.0|964982967|\n",
            "|     1|    316|   3.0|964982310|\n",
            "|     1|    333|   5.0|964981179|\n",
            "|     1|    349|   4.0|964982563|\n",
            "+------+-------+------+---------+\n",
            "only showing top 20 rows\n",
            "\n"
          ]
        }
      ]
    },
    {
      "cell_type": "markdown",
      "source": [
        "## Joining DFs"
      ],
      "metadata": {
        "id": "3B_VcIgz07VI"
      }
    },
    {
      "cell_type": "code",
      "source": [
        "ratings = ratingsDF.join(moviesDF, 'movieId', 'left')"
      ],
      "metadata": {
        "id": "t-S9cY9U1xE8"
      },
      "execution_count": 28,
      "outputs": []
    },
    {
      "cell_type": "markdown",
      "source": [
        "## Dados de treino e teste"
      ],
      "metadata": {
        "id": "dagPhwOu86-D"
      }
    },
    {
      "cell_type": "code",
      "source": [
        "# separando em 80% de treino e 20% de teste\n",
        "(train, test) = ratings.randomSplit([0.8,0.2])"
      ],
      "metadata": {
        "id": "OtSyBOKw3yWF"
      },
      "execution_count": 29,
      "outputs": []
    },
    {
      "cell_type": "code",
      "source": [
        "ratings.count()"
      ],
      "metadata": {
        "colab": {
          "base_uri": "https://localhost:8080/"
        },
        "id": "AiTk31WKHMGw",
        "outputId": "0bed63d7-3c92-4b37-d9cb-c64e9510620c"
      },
      "execution_count": 30,
      "outputs": [
        {
          "output_type": "execute_result",
          "data": {
            "text/plain": [
              "100836"
            ]
          },
          "metadata": {},
          "execution_count": 30
        }
      ]
    },
    {
      "cell_type": "code",
      "source": [
        "print(train.count())\n",
        "train.show()"
      ],
      "metadata": {
        "colab": {
          "base_uri": "https://localhost:8080/"
        },
        "id": "o4k2k_vr5LXE",
        "outputId": "248f9f64-bc9a-44c9-968e-8df8191078ee"
      },
      "execution_count": 31,
      "outputs": [
        {
          "output_type": "stream",
          "name": "stdout",
          "text": [
            "80543\n",
            "+-------+------+------+----------+----------------+--------------------+\n",
            "|movieId|userId|rating| timestamp|           title|              genres|\n",
            "+-------+------+------+----------+----------------+--------------------+\n",
            "|      1|     5|   4.0| 847434962|Toy Story (1995)|Adventure|Animati...|\n",
            "|      1|    17|   4.5|1305696483|Toy Story (1995)|Adventure|Animati...|\n",
            "|      1|    18|   3.5|1455209816|Toy Story (1995)|Adventure|Animati...|\n",
            "|      1|    19|   4.0| 965705637|Toy Story (1995)|Adventure|Animati...|\n",
            "|      1|    21|   3.5|1407618878|Toy Story (1995)|Adventure|Animati...|\n",
            "|      1|    27|   3.0| 962685262|Toy Story (1995)|Adventure|Animati...|\n",
            "|      1|    31|   5.0| 850466616|Toy Story (1995)|Adventure|Animati...|\n",
            "|      1|    32|   3.0| 856736119|Toy Story (1995)|Adventure|Animati...|\n",
            "|      1|    33|   3.0| 939647444|Toy Story (1995)|Adventure|Animati...|\n",
            "|      1|    43|   5.0| 848993983|Toy Story (1995)|Adventure|Animati...|\n",
            "|      1|    44|   3.0| 869251860|Toy Story (1995)|Adventure|Animati...|\n",
            "|      1|    45|   4.0| 951170182|Toy Story (1995)|Adventure|Animati...|\n",
            "|      1|    46|   5.0| 834787906|Toy Story (1995)|Adventure|Animati...|\n",
            "|      1|    54|   3.0| 830247330|Toy Story (1995)|Adventure|Animati...|\n",
            "|      1|    63|   5.0|1443199669|Toy Story (1995)|Adventure|Animati...|\n",
            "|      1|    64|   4.0|1161520134|Toy Story (1995)|Adventure|Animati...|\n",
            "|      1|    66|   4.0|1104643957|Toy Story (1995)|Adventure|Animati...|\n",
            "|      1|    68|   2.5|1158531426|Toy Story (1995)|Adventure|Animati...|\n",
            "|      1|    73|   4.5|1464196374|Toy Story (1995)|Adventure|Animati...|\n",
            "|      1|    76|   0.5|1439165548|Toy Story (1995)|Adventure|Animati...|\n",
            "+-------+------+------+----------+----------------+--------------------+\n",
            "only showing top 20 rows\n",
            "\n"
          ]
        }
      ]
    },
    {
      "cell_type": "code",
      "source": [
        "print(test.count())\n",
        "test.show()"
      ],
      "metadata": {
        "colab": {
          "base_uri": "https://localhost:8080/"
        },
        "id": "HaqSBlr_5PZx",
        "outputId": "c384fc5a-b1c9-46ec-ae61-b7a533d2bc80"
      },
      "execution_count": 32,
      "outputs": [
        {
          "output_type": "stream",
          "name": "stdout",
          "text": [
            "20293\n",
            "+-------+------+------+----------+----------------+--------------------+\n",
            "|movieId|userId|rating| timestamp|           title|              genres|\n",
            "+-------+------+------+----------+----------------+--------------------+\n",
            "|      1|     1|   4.0| 964982703|Toy Story (1995)|Adventure|Animati...|\n",
            "|      1|     7|   4.5|1106635946|Toy Story (1995)|Adventure|Animati...|\n",
            "|      1|    15|   2.5|1510577970|Toy Story (1995)|Adventure|Animati...|\n",
            "|      1|    40|   5.0| 832058959|Toy Story (1995)|Adventure|Animati...|\n",
            "|      1|    50|   3.0|1514238116|Toy Story (1995)|Adventure|Animati...|\n",
            "|      1|    57|   5.0| 965796031|Toy Story (1995)|Adventure|Animati...|\n",
            "|      1|    71|   5.0| 864737933|Toy Story (1995)|Adventure|Animati...|\n",
            "|      1|    78|   4.0|1252575124|Toy Story (1995)|Adventure|Animati...|\n",
            "|      1|    89|   3.0|1520408314|Toy Story (1995)|Adventure|Animati...|\n",
            "|      1|    98|   4.5|1532457849|Toy Story (1995)|Adventure|Animati...|\n",
            "|      1|   107|   4.0| 829322340|Toy Story (1995)|Adventure|Animati...|\n",
            "|      1|   124|   4.0|1336584336|Toy Story (1995)|Adventure|Animati...|\n",
            "|      1|   130|   3.0| 832589610|Toy Story (1995)|Adventure|Animati...|\n",
            "|      1|   137|   4.0|1204859907|Toy Story (1995)|Adventure|Animati...|\n",
            "|      1|   144|   3.5|1137323419|Toy Story (1995)|Adventure|Animati...|\n",
            "|      1|   202|   4.0| 974923506|Toy Story (1995)|Adventure|Animati...|\n",
            "|      1|   240|   5.0| 849122434|Toy Story (1995)|Adventure|Animati...|\n",
            "|      1|   249|   4.0|1347317775|Toy Story (1995)|Adventure|Animati...|\n",
            "|      1|   263|   4.0| 940384199|Toy Story (1995)|Adventure|Animati...|\n",
            "|      1|   270|   5.0| 853918728|Toy Story (1995)|Adventure|Animati...|\n",
            "+-------+------+------+----------+----------------+--------------------+\n",
            "only showing top 20 rows\n",
            "\n"
          ]
        }
      ]
    },
    {
      "cell_type": "markdown",
      "source": [
        "## Modelo ALS "
      ],
      "metadata": {
        "id": "pK_Ko3OW8QDB"
      }
    },
    {
      "cell_type": "code",
      "source": [
        "als = ALS(userCol = \"userId\", itemCol=\"movieId\", ratingCol=\"rating\", nonnegative=True,implicitPrefs=False, coldStartStrategy=\"drop\")"
      ],
      "metadata": {
        "id": "Yhqo0cYj6e1M"
      },
      "execution_count": 33,
      "outputs": []
    },
    {
      "cell_type": "markdown",
      "source": [
        "## Ajuste de hiperparâmetros e validação cruzada"
      ],
      "metadata": {
        "id": "xsjVQaGU8IOe"
      }
    },
    {
      "cell_type": "code",
      "source": [
        "param_grid = ParamGridBuilder() \\\n",
        "            .addGrid(als.rank, [10, 50, 100, 150]) \\\n",
        "            .addGrid(als.regParam, [.01, .05, .1, .15]) \\\n",
        "            .build()"
      ],
      "metadata": {
        "id": "rXcHAqQO9FVY"
      },
      "execution_count": 34,
      "outputs": []
    },
    {
      "cell_type": "code",
      "source": [
        "evaluator = RegressionEvaluator(\n",
        "           metricName=\"rmse\", \n",
        "           labelCol=\"rating\", \n",
        "           predictionCol=\"prediction\")"
      ],
      "metadata": {
        "id": "IjyzG7gA_c_u"
      },
      "execution_count": 35,
      "outputs": []
    },
    {
      "cell_type": "code",
      "source": [
        "cv = CrossValidator(estimator=als, estimatorParamMaps=param_grid, evaluator=evaluator, numFolds=5)"
      ],
      "metadata": {
        "id": "4lGBZazS_89q"
      },
      "execution_count": 36,
      "outputs": []
    },
    {
      "cell_type": "code",
      "source": [
        "model = cv.fit(train)"
      ],
      "metadata": {
        "id": "tTEzgWyQA_uj"
      },
      "execution_count": 37,
      "outputs": []
    },
    {
      "cell_type": "code",
      "source": [
        "best_model = model.bestModel\n",
        "test_predictions = best_model.transform(test)\n",
        "RMSE = evaluator.evaluate(test_predictions)\n",
        "print(RMSE)"
      ],
      "metadata": {
        "colab": {
          "base_uri": "https://localhost:8080/"
        },
        "id": "LkGdHOE4Crgg",
        "outputId": "85cf8c02-32af-431b-bbeb-deddbe501711"
      },
      "execution_count": 38,
      "outputs": [
        {
          "output_type": "stream",
          "name": "stdout",
          "text": [
            "0.8594451578310159\n"
          ]
        }
      ]
    },
    {
      "cell_type": "code",
      "source": [
        "recommendations = best_model.recommendForAllUsers(5)"
      ],
      "metadata": {
        "id": "NiXr635BW-IE"
      },
      "execution_count": 39,
      "outputs": []
    },
    {
      "cell_type": "code",
      "source": [
        "df = recommendations"
      ],
      "metadata": {
        "id": "2LaGjxz8XAUw"
      },
      "execution_count": 40,
      "outputs": []
    },
    {
      "cell_type": "code",
      "source": [
        "df.show()"
      ],
      "metadata": {
        "colab": {
          "base_uri": "https://localhost:8080/"
        },
        "id": "vrgQdfJlXAro",
        "outputId": "da1a1b35-4db7-4e24-e61a-53982e2387c0"
      },
      "execution_count": 41,
      "outputs": [
        {
          "output_type": "stream",
          "name": "stdout",
          "text": [
            "+------+--------------------+\n",
            "|userId|     recommendations|\n",
            "+------+--------------------+\n",
            "|   471|[[68945, 4.852309...|\n",
            "|   463|[[68945, 5.041718...|\n",
            "|   496|[[68945, 4.286804...|\n",
            "|   148|[[170355, 4.45189...|\n",
            "|   540|[[170355, 5.65680...|\n",
            "|   392|[[68945, 4.664522...|\n",
            "|   243|[[67618, 5.619018...|\n",
            "|    31|[[170355, 5.03692...|\n",
            "|   516|[[170355, 4.84768...|\n",
            "|   580|[[68945, 4.790042...|\n",
            "|   251|[[170355, 5.86506...|\n",
            "|   451|[[68945, 5.302093...|\n",
            "|    85|[[1140, 4.84152],...|\n",
            "|   137|[[170355, 4.93007...|\n",
            "|    65|[[68945, 4.944324...|\n",
            "|   458|[[67618, 5.489680...|\n",
            "|   481|[[5867, 3.9843266...|\n",
            "|    53|[[68945, 6.651965...|\n",
            "|   255|[[7842, 3.5909836...|\n",
            "|   588|[[170355, 4.70744...|\n",
            "+------+--------------------+\n",
            "only showing top 20 rows\n",
            "\n"
          ]
        }
      ]
    },
    {
      "cell_type": "code",
      "source": [
        "df2 = df.withColumn(\"movieid_rating\", explode(\"recommendations\"))"
      ],
      "metadata": {
        "id": "FhVfw9LHXGBc"
      },
      "execution_count": 42,
      "outputs": []
    },
    {
      "cell_type": "code",
      "source": [
        "df2.show()"
      ],
      "metadata": {
        "colab": {
          "base_uri": "https://localhost:8080/"
        },
        "id": "kxDCu7UuXHlE",
        "outputId": "58808faf-8bad-4a41-8d5e-12aefb832741"
      },
      "execution_count": 43,
      "outputs": [
        {
          "output_type": "stream",
          "name": "stdout",
          "text": [
            "+------+--------------------+-------------------+\n",
            "|userId|     recommendations|     movieid_rating|\n",
            "+------+--------------------+-------------------+\n",
            "|   471|[[68945, 4.852309...|  [68945, 4.852309]|\n",
            "|   471|[[68945, 4.852309...| [170355, 4.852309]|\n",
            "|   471|[[68945, 4.852309...|   [3379, 4.852309]|\n",
            "|   471|[[68945, 4.852309...|   [6818, 4.625158]|\n",
            "|   471|[[68945, 4.852309...|  [8477, 4.6076508]|\n",
            "|   463|[[68945, 5.041718...| [68945, 5.0417185]|\n",
            "|   463|[[68945, 5.041718...|[170355, 5.0417185]|\n",
            "|   463|[[68945, 5.041718...|  [3379, 5.0417185]|\n",
            "|   463|[[68945, 5.041718...|  [59018, 4.712633]|\n",
            "|   463|[[68945, 5.041718...|  [60943, 4.712633]|\n",
            "|   496|[[68945, 4.286804...|  [68945, 4.286804]|\n",
            "|   496|[[68945, 4.286804...| [170355, 4.286804]|\n",
            "|   496|[[68945, 4.286804...|   [3379, 4.286804]|\n",
            "|   496|[[68945, 4.286804...| [84847, 4.2657585]|\n",
            "|   496|[[68945, 4.286804...| [158966, 4.196594]|\n",
            "|   148|[[170355, 4.45189...|[170355, 4.4518933]|\n",
            "|   148|[[170355, 4.45189...| [68945, 4.4518933]|\n",
            "|   148|[[170355, 4.45189...|  [3379, 4.4518933]|\n",
            "|   148|[[170355, 4.45189...| [67618, 4.3692966]|\n",
            "|   148|[[170355, 4.45189...| [25906, 4.3385787]|\n",
            "+------+--------------------+-------------------+\n",
            "only showing top 20 rows\n",
            "\n"
          ]
        }
      ]
    },
    {
      "cell_type": "code",
      "source": [
        "df2.select(\"userId\", col(\"movieid_rating.movieId\"), col(\"movieid_rating.rating\")).show()"
      ],
      "metadata": {
        "colab": {
          "base_uri": "https://localhost:8080/"
        },
        "id": "p3h_tg75XNXD",
        "outputId": "7d00cdcf-d1e2-473b-b7e8-edccf6749d39"
      },
      "execution_count": 44,
      "outputs": [
        {
          "output_type": "stream",
          "name": "stdout",
          "text": [
            "+------+-------+---------+\n",
            "|userId|movieId|   rating|\n",
            "+------+-------+---------+\n",
            "|   471|  68945| 4.852309|\n",
            "|   471| 170355| 4.852309|\n",
            "|   471|   3379| 4.852309|\n",
            "|   471|   6818| 4.625158|\n",
            "|   471|   8477|4.6076508|\n",
            "|   463|  68945|5.0417185|\n",
            "|   463| 170355|5.0417185|\n",
            "|   463|   3379|5.0417185|\n",
            "|   463|  59018| 4.712633|\n",
            "|   463|  60943| 4.712633|\n",
            "|   496|  68945| 4.286804|\n",
            "|   496| 170355| 4.286804|\n",
            "|   496|   3379| 4.286804|\n",
            "|   496|  84847|4.2657585|\n",
            "|   496| 158966| 4.196594|\n",
            "|   148| 170355|4.4518933|\n",
            "|   148|  68945|4.4518933|\n",
            "|   148|   3379|4.4518933|\n",
            "|   148|  67618|4.3692966|\n",
            "|   148|  25906|4.3385787|\n",
            "+------+-------+---------+\n",
            "only showing top 20 rows\n",
            "\n"
          ]
        }
      ]
    }
  ]
}