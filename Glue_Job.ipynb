{
  "nbformat": 4,
  "nbformat_minor": 0,
  "metadata": {
    "colab": {
      "name": "Glue Job.ipynb",
      "provenance": [],
      "mount_file_id": "1KIFAhlnWzo2apZ1qveWjAJO4VgplS-Cg",
      "authorship_tag": "ABX9TyPefo2jt8/h81vLGZBSXTqN",
      "include_colab_link": true
    },
    "kernelspec": {
      "name": "python3",
      "display_name": "Python 3"
    },
    "language_info": {
      "name": "python"
    }
  },
  "cells": [
    {
      "cell_type": "markdown",
      "metadata": {
        "id": "view-in-github",
        "colab_type": "text"
      },
      "source": [
        "<a href=\"https://colab.research.google.com/github/gabgovar/Apache-Spark/blob/main/Glue_Job.ipynb\" target=\"_parent\"><img src=\"https://colab.research.google.com/assets/colab-badge.svg\" alt=\"Open In Colab\"/></a>"
      ]
    },
    {
      "cell_type": "code",
      "execution_count": 1,
      "metadata": {
        "id": "Hba_1TBk3Ydc"
      },
      "outputs": [],
      "source": [
        "# instalar as dependências\n",
        "!apt-get install openjdk-8-jdk-headless -qq > /dev/null\n",
        "!wget -q https://archive.apache.org/dist/spark/spark-2.4.4/spark-2.4.4-bin-hadoop2.7.tgz\n",
        "!tar xf spark-2.4.4-bin-hadoop2.7.tgz\n",
        "!pip install -q findspark"
      ]
    },
    {
      "cell_type": "code",
      "source": [
        "# configurar as variáveis de ambiente\n",
        "import os\n",
        "os.environ[\"JAVA_HOME\"] = \"/usr/lib/jvm/java-8-openjdk-amd64\"\n",
        "os.environ[\"SPARK_HOME\"] = \"/content/spark-2.4.4-bin-hadoop2.7\"\n",
        "\n",
        "# tornar o pyspark \"importável\"\n",
        "import findspark\n",
        "findspark.init('spark-2.4.4-bin-hadoop2.7')\n",
        "findspark.find()"
      ],
      "metadata": {
        "colab": {
          "base_uri": "https://localhost:8080/",
          "height": 36
        },
        "id": "o0wwfly23bJ_",
        "outputId": "5a81cd1f-85bb-4fb0-bb84-b59fe77bbe49"
      },
      "execution_count": 2,
      "outputs": [
        {
          "output_type": "execute_result",
          "data": {
            "application/vnd.google.colaboratory.intrinsic+json": {
              "type": "string"
            },
            "text/plain": [
              "'spark-2.4.4-bin-hadoop2.7/python/pyspark'"
            ]
          },
          "metadata": {},
          "execution_count": 2
        }
      ]
    },
    {
      "cell_type": "code",
      "source": [
        "from pyspark.sql.functions import when\n",
        "from pyspark.sql import SparkSession\n",
        "\n",
        "spark = SparkSession.builder.appName(\"CDC\").getOrCreate()"
      ],
      "metadata": {
        "id": "zBzPyYe27xye"
      },
      "execution_count": 29,
      "outputs": []
    },
    {
      "cell_type": "code",
      "source": [
        "# Banco de dados full\n",
        "fldf = spark.read.csv(\"/content/drive/MyDrive/PySpark/data/Pipeline_proj/LOAD00000001.csv\")\n",
        "fldf = fldf.withColumnRenamed(\"_c0\", \"id\").withColumnRenamed(\"_c1\", \"FullName\").withColumnRenamed(\"_c2\", \"City\")\n",
        "fldf.write.mode(\"overwrite\").csv(\"/content/drive/MyDrive/PySpark/data/Pipeline_proj/finalOutput/finalFile.csv\")"
      ],
      "metadata": {
        "id": "Up2PsdehVt9b"
      },
      "execution_count": 45,
      "outputs": []
    },
    {
      "cell_type": "code",
      "source": [
        "# updated file => updf\n",
        "updf = spark.read.csv(\"/content/drive/MyDrive/PySpark/data/Pipeline_proj/20220203-203246530.csv\")\n",
        "updf = updf.withColumnRenamed(\"_c0\", \"action\").withColumnRenamed(\"_c1\", \"id\").withColumnRenamed(\"_c2\", \"FullName\").withColumnRenamed(\"_c3\", \"City\")\n",
        "ffdf = spark.read.csv(\"/content/drive/MyDrive/PySpark/data/Pipeline_proj/finalOutput/finalFile.csv\")\n",
        "ffdf = ffdf.withColumnRenamed(\"_c0\", \"id\").withColumnRenamed(\"_c1\", \"FullName\").withColumnRenamed(\"_c2\", \"City\")\n",
        "updf.show()"
      ],
      "metadata": {
        "colab": {
          "base_uri": "https://localhost:8080/"
        },
        "id": "dPcDr6BrXhn_",
        "outputId": "2c548b07-8fa6-4d3e-a816-a639fe4689d8"
      },
      "execution_count": 46,
      "outputs": [
        {
          "output_type": "stream",
          "name": "stdout",
          "text": [
            "+------+---+-------------+--------+\n",
            "|action| id|     FullName|    City|\n",
            "+------+---+-------------+--------+\n",
            "|     U|  7|      ABC XYZ| Phoenix|\n",
            "|     I|130|   Alica Bing|New York|\n",
            "|     I|131| Malinda Bing| Detroit|\n",
            "|     I|132|Chandler Bing|Portland|\n",
            "|     U|  8|      ABC XYZ|  Denver|\n",
            "|     D| 10|   Jack Hicks| Houston|\n",
            "+------+---+-------------+--------+\n",
            "\n"
          ]
        }
      ]
    },
    {
      "cell_type": "code",
      "source": [
        "ffdf.toPandas()"
      ],
      "metadata": {
        "colab": {
          "base_uri": "https://localhost:8080/",
          "height": 655
        },
        "id": "boKjh8j5v8qX",
        "outputId": "8ae924b2-a03b-41ac-d407-7eaaae255fbd"
      },
      "execution_count": 51,
      "outputs": [
        {
          "output_type": "execute_result",
          "data": {
            "text/html": [
              "\n",
              "  <div id=\"df-a7293ac5-42cd-41c8-855e-b98122748ea2\">\n",
              "    <div class=\"colab-df-container\">\n",
              "      <div>\n",
              "<style scoped>\n",
              "    .dataframe tbody tr th:only-of-type {\n",
              "        vertical-align: middle;\n",
              "    }\n",
              "\n",
              "    .dataframe tbody tr th {\n",
              "        vertical-align: top;\n",
              "    }\n",
              "\n",
              "    .dataframe thead th {\n",
              "        text-align: right;\n",
              "    }\n",
              "</style>\n",
              "<table border=\"1\" class=\"dataframe\">\n",
              "  <thead>\n",
              "    <tr style=\"text-align: right;\">\n",
              "      <th></th>\n",
              "      <th>id</th>\n",
              "      <th>FullName</th>\n",
              "      <th>City</th>\n",
              "    </tr>\n",
              "  </thead>\n",
              "  <tbody>\n",
              "    <tr>\n",
              "      <th>0</th>\n",
              "      <td>0</td>\n",
              "      <td>Herman Zimmerman</td>\n",
              "      <td>Oklahoma City</td>\n",
              "    </tr>\n",
              "    <tr>\n",
              "      <th>1</th>\n",
              "      <td>1</td>\n",
              "      <td>Lisa Ray</td>\n",
              "      <td>Columbus</td>\n",
              "    </tr>\n",
              "    <tr>\n",
              "      <th>2</th>\n",
              "      <td>2</td>\n",
              "      <td>Terrell Reeves</td>\n",
              "      <td>Jacksonville</td>\n",
              "    </tr>\n",
              "    <tr>\n",
              "      <th>3</th>\n",
              "      <td>3</td>\n",
              "      <td>Steve Goodwin</td>\n",
              "      <td>Charlotte</td>\n",
              "    </tr>\n",
              "    <tr>\n",
              "      <th>4</th>\n",
              "      <td>4</td>\n",
              "      <td>Leah Tran</td>\n",
              "      <td>Detroit</td>\n",
              "    </tr>\n",
              "    <tr>\n",
              "      <th>...</th>\n",
              "      <td>...</td>\n",
              "      <td>...</td>\n",
              "      <td>...</td>\n",
              "    </tr>\n",
              "    <tr>\n",
              "      <th>101</th>\n",
              "      <td>131</td>\n",
              "      <td>Malinda Bing</td>\n",
              "      <td>Detroit</td>\n",
              "    </tr>\n",
              "    <tr>\n",
              "      <th>102</th>\n",
              "      <td>132</td>\n",
              "      <td>Chandler Bing</td>\n",
              "      <td>Portland</td>\n",
              "    </tr>\n",
              "    <tr>\n",
              "      <th>103</th>\n",
              "      <td>130</td>\n",
              "      <td>Alica Bing</td>\n",
              "      <td>New York</td>\n",
              "    </tr>\n",
              "    <tr>\n",
              "      <th>104</th>\n",
              "      <td>131</td>\n",
              "      <td>Malinda Bing</td>\n",
              "      <td>Detroit</td>\n",
              "    </tr>\n",
              "    <tr>\n",
              "      <th>105</th>\n",
              "      <td>132</td>\n",
              "      <td>Chandler Bing</td>\n",
              "      <td>Portland</td>\n",
              "    </tr>\n",
              "  </tbody>\n",
              "</table>\n",
              "<p>106 rows × 3 columns</p>\n",
              "</div>\n",
              "      <button class=\"colab-df-convert\" onclick=\"convertToInteractive('df-a7293ac5-42cd-41c8-855e-b98122748ea2')\"\n",
              "              title=\"Convert this dataframe to an interactive table.\"\n",
              "              style=\"display:none;\">\n",
              "        \n",
              "  <svg xmlns=\"http://www.w3.org/2000/svg\" height=\"24px\"viewBox=\"0 0 24 24\"\n",
              "       width=\"24px\">\n",
              "    <path d=\"M0 0h24v24H0V0z\" fill=\"none\"/>\n",
              "    <path d=\"M18.56 5.44l.94 2.06.94-2.06 2.06-.94-2.06-.94-.94-2.06-.94 2.06-2.06.94zm-11 1L8.5 8.5l.94-2.06 2.06-.94-2.06-.94L8.5 2.5l-.94 2.06-2.06.94zm10 10l.94 2.06.94-2.06 2.06-.94-2.06-.94-.94-2.06-.94 2.06-2.06.94z\"/><path d=\"M17.41 7.96l-1.37-1.37c-.4-.4-.92-.59-1.43-.59-.52 0-1.04.2-1.43.59L10.3 9.45l-7.72 7.72c-.78.78-.78 2.05 0 2.83L4 21.41c.39.39.9.59 1.41.59.51 0 1.02-.2 1.41-.59l7.78-7.78 2.81-2.81c.8-.78.8-2.07 0-2.86zM5.41 20L4 18.59l7.72-7.72 1.47 1.35L5.41 20z\"/>\n",
              "  </svg>\n",
              "      </button>\n",
              "      \n",
              "  <style>\n",
              "    .colab-df-container {\n",
              "      display:flex;\n",
              "      flex-wrap:wrap;\n",
              "      gap: 12px;\n",
              "    }\n",
              "\n",
              "    .colab-df-convert {\n",
              "      background-color: #E8F0FE;\n",
              "      border: none;\n",
              "      border-radius: 50%;\n",
              "      cursor: pointer;\n",
              "      display: none;\n",
              "      fill: #1967D2;\n",
              "      height: 32px;\n",
              "      padding: 0 0 0 0;\n",
              "      width: 32px;\n",
              "    }\n",
              "\n",
              "    .colab-df-convert:hover {\n",
              "      background-color: #E2EBFA;\n",
              "      box-shadow: 0px 1px 2px rgba(60, 64, 67, 0.3), 0px 1px 3px 1px rgba(60, 64, 67, 0.15);\n",
              "      fill: #174EA6;\n",
              "    }\n",
              "\n",
              "    [theme=dark] .colab-df-convert {\n",
              "      background-color: #3B4455;\n",
              "      fill: #D2E3FC;\n",
              "    }\n",
              "\n",
              "    [theme=dark] .colab-df-convert:hover {\n",
              "      background-color: #434B5C;\n",
              "      box-shadow: 0px 1px 3px 1px rgba(0, 0, 0, 0.15);\n",
              "      filter: drop-shadow(0px 1px 2px rgba(0, 0, 0, 0.3));\n",
              "      fill: #FFFFFF;\n",
              "    }\n",
              "  </style>\n",
              "\n",
              "      <script>\n",
              "        const buttonEl =\n",
              "          document.querySelector('#df-a7293ac5-42cd-41c8-855e-b98122748ea2 button.colab-df-convert');\n",
              "        buttonEl.style.display =\n",
              "          google.colab.kernel.accessAllowed ? 'block' : 'none';\n",
              "\n",
              "        async function convertToInteractive(key) {\n",
              "          const element = document.querySelector('#df-a7293ac5-42cd-41c8-855e-b98122748ea2');\n",
              "          const dataTable =\n",
              "            await google.colab.kernel.invokeFunction('convertToInteractive',\n",
              "                                                     [key], {});\n",
              "          if (!dataTable) return;\n",
              "\n",
              "          const docLinkHtml = 'Like what you see? Visit the ' +\n",
              "            '<a target=\"_blank\" href=https://colab.research.google.com/notebooks/data_table.ipynb>data table notebook</a>'\n",
              "            + ' to learn more about interactive tables.';\n",
              "          element.innerHTML = '';\n",
              "          dataTable['output_type'] = 'display_data';\n",
              "          await google.colab.output.renderOutput(dataTable, element);\n",
              "          const docLink = document.createElement('div');\n",
              "          docLink.innerHTML = docLinkHtml;\n",
              "          element.appendChild(docLink);\n",
              "        }\n",
              "      </script>\n",
              "    </div>\n",
              "  </div>\n",
              "  "
            ],
            "text/plain": [
              "      id          FullName           City\n",
              "0      0  Herman Zimmerman  Oklahoma City\n",
              "1      1          Lisa Ray       Columbus\n",
              "2      2    Terrell Reeves   Jacksonville\n",
              "3      3     Steve Goodwin      Charlotte\n",
              "4      4         Leah Tran        Detroit\n",
              "..   ...               ...            ...\n",
              "101  131      Malinda Bing        Detroit\n",
              "102  132     Chandler Bing       Portland\n",
              "103  130        Alica Bing       New York\n",
              "104  131      Malinda Bing        Detroit\n",
              "105  132     Chandler Bing       Portland\n",
              "\n",
              "[106 rows x 3 columns]"
            ]
          },
          "metadata": {},
          "execution_count": 51
        }
      ]
    },
    {
      "cell_type": "code",
      "source": [
        "for row in updf.collect():\n",
        "    #Faz o Update\n",
        "    if (row[\"action\"] == \"U\"):\n",
        "        ffdf = ffdf.withColumn(\"FullName\", when(ffdf[\"id\"] == row [\"id\"], row[\"FullName\"]).otherwise(ffdf[\"FullName\"]))\n",
        "        ffdf = ffdf.withColumn(\"City\", when(ffdf[\"id\"] == row[\"id\"], row[\"City\"]).otherwise(ffdf[\"City\"]))\n",
        "    # Faz o Insert\n",
        "    if (row[\"action\"] == \"I\"):\n",
        "        insertedRow = [list(row)[1:]]\n",
        "        columns = ['id', 'FullName', 'City']\n",
        "        newdf = spark.createDataFrame(insertedRow, columns)\n",
        "        ffdf = ffdf.union(newdf)\n",
        "    # Faz o Delete    \n",
        "    if (row[\"action\"] == \"D\"):\n",
        "        ffdf = ffdf.filter(ffdf.id != row[\"id\"])\n",
        "\n",
        "# Exporta o arquivo\n",
        "fldf.write.mode(\"overwrite\").csv(\"/content/drive/MyDrive/PySpark/data/Pipeline_proj/finalOutput/finalFile.csv\")\n",
        "\n",
        "\n"
      ],
      "metadata": {
        "id": "ZbHlbCX-r5kb"
      },
      "execution_count": 50,
      "outputs": []
    }
  ]
}