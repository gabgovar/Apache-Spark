{
  "nbformat": 4,
  "nbformat_minor": 0,
  "metadata": {
    "colab": {
      "name": "ETL Pipeline.ipynb",
      "provenance": [],
      "mount_file_id": "1vDCB-iFZ5bm_rz6tdUwSmsaYwk_eBzSy",
      "authorship_tag": "ABX9TyPqayDbu9fnFfW163sIfXAK",
      "include_colab_link": true
    },
    "kernelspec": {
      "name": "python3",
      "display_name": "Python 3"
    },
    "language_info": {
      "name": "python"
    }
  },
  "cells": [
    {
      "cell_type": "markdown",
      "metadata": {
        "id": "view-in-github",
        "colab_type": "text"
      },
      "source": [
        "<a href=\"https://colab.research.google.com/github/gabgovar/Apache-Spark/blob/main/ETL_Pipeline.ipynb\" target=\"_parent\"><img src=\"https://colab.research.google.com/assets/colab-badge.svg\" alt=\"Open In Colab\"/></a>"
      ]
    },
    {
      "cell_type": "code",
      "execution_count": 1,
      "metadata": {
        "id": "NWIglKpAl162"
      },
      "outputs": [],
      "source": [
        "# instalar as dependências\n",
        "!apt-get install openjdk-8-jdk-headless -qq > /dev/null\n",
        "!wget -q https://archive.apache.org/dist/spark/spark-2.4.4/spark-2.4.4-bin-hadoop2.7.tgz\n",
        "!tar xf spark-2.4.4-bin-hadoop2.7.tgz\n",
        "!pip install -q findspark"
      ]
    },
    {
      "cell_type": "code",
      "source": [
        "# configurar as variáveis de ambiente\n",
        "import os\n",
        "os.environ[\"JAVA_HOME\"] = \"/usr/lib/jvm/java-8-openjdk-amd64\"\n",
        "os.environ[\"SPARK_HOME\"] = \"/content/spark-2.4.4-bin-hadoop2.7\"\n",
        "\n",
        "# tornar o pyspark \"importável\"\n",
        "import findspark\n",
        "findspark.init('spark-2.4.4-bin-hadoop2.7')\n",
        "findspark.find()"
      ],
      "metadata": {
        "colab": {
          "base_uri": "https://localhost:8080/",
          "height": 36
        },
        "id": "8rXs1f7bl-GN",
        "outputId": "24722c73-2333-4509-af76-8713c59cac56"
      },
      "execution_count": 2,
      "outputs": [
        {
          "output_type": "execute_result",
          "data": {
            "application/vnd.google.colaboratory.intrinsic+json": {
              "type": "string"
            },
            "text/plain": [
              "'spark-2.4.4-bin-hadoop2.7/python/pyspark'"
            ]
          },
          "metadata": {},
          "execution_count": 2
        }
      ]
    },
    {
      "cell_type": "code",
      "source": [
        "from pyspark.sql import SparkSession\n",
        "from pyspark.sql.functions import lit, col, explode\n",
        "import pyspark.sql.functions as f"
      ],
      "metadata": {
        "id": "e4cBudowoSBm"
      },
      "execution_count": 8,
      "outputs": []
    },
    {
      "cell_type": "code",
      "source": [
        "# Extract\n",
        "from pyspark.sql import SparkSession\n",
        "spark = SparkSession.builder.appName(\"ETL Pileline\").getOrCreate()\n",
        "df = spark.read.text(\"/content/drive/MyDrive/PySpark/data/data_test/DataSet.txt\")\n",
        "df.show()"
      ],
      "metadata": {
        "colab": {
          "base_uri": "https://localhost:8080/"
        },
        "id": "fccyW47zmaYt",
        "outputId": "6c2759a4-d995-48de-9806-538f032cd5d2"
      },
      "execution_count": 3,
      "outputs": [
        {
          "output_type": "stream",
          "name": "stdout",
          "text": [
            "+--------------------+\n",
            "|               value|\n",
            "+--------------------+\n",
            "|This is a Japanes...|\n",
            "|The team members ...|\n",
            "|As the years pass...|\n",
            "|If you don't like...|\n",
            "|He was disappoint...|\n",
            "|When he encounter...|\n",
            "|Situps are a terr...|\n",
            "|Toddlers feeding ...|\n",
            "|Edith could decid...|\n",
            "|Her daily goal wa...|\n",
            "|Tomorrow will bri...|\n",
            "|His son quipped t...|\n",
            "|He wondered why a...|\n",
            "|If my calculator ...|\n",
            "|The hummingbird's...|\n",
            "|He went on a whis...|\n",
            "|This is the last ...|\n",
            "|I come from a tri...|\n",
            "|The delicious aro...|\n",
            "|Weather is not tr...|\n",
            "+--------------------+\n",
            "only showing top 20 rows\n",
            "\n"
          ]
        }
      ]
    },
    {
      "cell_type": "code",
      "source": [
        "# transformation\n",
        "df2 = df.withColumn(\"splitedData\", f.split(\"value\", \" \"))\n",
        "df3 = df2.withColumn(\"words\", explode(\"splitedData\"))\n",
        "wordsDF = df3.select(\"words\")\n",
        "wordsDF.groupBy(\"words\").count().show()"
      ],
      "metadata": {
        "colab": {
          "base_uri": "https://localhost:8080/"
        },
        "id": "WEvN5pWXnjOg",
        "outputId": "40560281-ae3a-4dfe-df89-9d846231e112"
      },
      "execution_count": 16,
      "outputs": [
        {
          "output_type": "stream",
          "name": "stdout",
          "text": [
            "+-----------+-----+\n",
            "|      words|count|\n",
            "+-----------+-----+\n",
            "|   Tomorrow|    4|\n",
            "|         If|    8|\n",
            "|      leave|    4|\n",
            "|      corny|    4|\n",
            "|        day|    4|\n",
            "|preoccupied|    4|\n",
            "|       even|    8|\n",
            "|      crazy|    4|\n",
            "|    bananas|    4|\n",
            "|     priest|    4|\n",
            "|        did|    4|\n",
            "|    whether|    4|\n",
            "|     Having|    4|\n",
            "|        I'm|    4|\n",
            "|      crime|    4|\n",
            "|  surprised|    4|\n",
            "|      James|    4|\n",
            "|      could|    8|\n",
            "|        buy|    4|\n",
            "|        him|    8|\n",
            "+-----------+-----+\n",
            "only showing top 20 rows\n",
            "\n"
          ]
        }
      ]
    },
    {
      "cell_type": "code",
      "source": [
        "#Load\n",
        "driver = \"org.postgresql.Driver\"\n",
        "url = \"jdbc:postgresql://data-1.rds.amazonaws.com/\"\n",
        "table = \"gab_schema_pyspark.WordCount\"\n",
        "user = \"postgres\"\n",
        "password = \"password\""
      ],
      "metadata": {
        "id": "jxPahV7-sA_0"
      },
      "execution_count": 21,
      "outputs": []
    },
    {
      "cell_type": "code",
      "source": [
        ""
      ],
      "metadata": {
        "id": "BIB7W8Ws0tsC"
      },
      "execution_count": null,
      "outputs": []
    }
  ]
}