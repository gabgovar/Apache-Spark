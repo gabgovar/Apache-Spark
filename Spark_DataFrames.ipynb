{
  "nbformat": 4,
  "nbformat_minor": 0,
  "metadata": {
    "colab": {
      "name": "Spark DataFrames.ipynb",
      "provenance": [],
      "mount_file_id": "1fF2qkvZfxIcA_lHsLP3RE9uyCI-p21CE",
      "authorship_tag": "ABX9TyPLrhSUOvvaI+bIFCd6In1G",
      "include_colab_link": true
    },
    "kernelspec": {
      "name": "python3",
      "display_name": "Python 3"
    },
    "language_info": {
      "name": "python"
    }
  },
  "cells": [
    {
      "cell_type": "markdown",
      "metadata": {
        "id": "view-in-github",
        "colab_type": "text"
      },
      "source": [
        "<a href=\"https://colab.research.google.com/github/gabgovar/Apache-Spark/blob/main/Spark_DataFrames.ipynb\" target=\"_parent\"><img src=\"https://colab.research.google.com/assets/colab-badge.svg\" alt=\"Open In Colab\"/></a>"
      ]
    },
    {
      "cell_type": "markdown",
      "source": [
        "# Spark DataFrame"
      ],
      "metadata": {
        "id": "jPTNHSjXGlAa"
      }
    },
    {
      "cell_type": "markdown",
      "source": [
        "## Montando o Google Colab no Google Drive"
      ],
      "metadata": {
        "id": "KRW5fNKaF6mI"
      }
    },
    {
      "cell_type": "code",
      "source": [
        "from google.colab import drive\n",
        "drive.mount('/content/drive')"
      ],
      "metadata": {
        "colab": {
          "base_uri": "https://localhost:8080/"
        },
        "id": "CITLuGxgEV9q",
        "outputId": "1e2cc2d9-bc23-402a-9557-606b8504517e"
      },
      "execution_count": 13,
      "outputs": [
        {
          "output_type": "stream",
          "name": "stdout",
          "text": [
            "Mounted at /content/drive\n"
          ]
        }
      ]
    },
    {
      "cell_type": "markdown",
      "source": [
        "## Instalando as Demendências do Hadoop Spark no Google Colab"
      ],
      "metadata": {
        "id": "FRfsRr0VGJYZ"
      }
    },
    {
      "cell_type": "code",
      "execution_count": 3,
      "metadata": {
        "id": "cL-O-bNB-9g7"
      },
      "outputs": [],
      "source": [
        "# instalar as dependências\n",
        "!apt-get install openjdk-8-jdk-headless -qq > /dev/null\n",
        "!wget -q https://archive.apache.org/dist/spark/spark-2.4.4/spark-2.4.4-bin-hadoop2.7.tgz\n",
        "!tar xf spark-2.4.4-bin-hadoop2.7.tgz\n",
        "!pip install -q findspark"
      ]
    },
    {
      "cell_type": "markdown",
      "source": [
        "## Configurando as Demendências do Hadoop Spark no Google Colab"
      ],
      "metadata": {
        "id": "b9Y_fkTvGMIg"
      }
    },
    {
      "cell_type": "code",
      "source": [
        "# configurar as variáveis de ambiente\n",
        "import os\n",
        "os.environ[\"JAVA_HOME\"] = \"/usr/lib/jvm/java-8-openjdk-amd64\"\n",
        "os.environ[\"SPARK_HOME\"] = \"/content/spark-2.4.4-bin-hadoop2.7\"\n",
        "\n",
        "# tornar o pyspark \"importável\"\n",
        "import findspark\n",
        "findspark.init('spark-2.4.4-bin-hadoop2.7')\n",
        "findspark.find()"
      ],
      "metadata": {
        "colab": {
          "base_uri": "https://localhost:8080/",
          "height": 36
        },
        "id": "uSqN-IlR_EZz",
        "outputId": "78679ab5-81b4-49ff-95bd-146a3c323a93"
      },
      "execution_count": 4,
      "outputs": [
        {
          "output_type": "execute_result",
          "data": {
            "application/vnd.google.colaboratory.intrinsic+json": {
              "type": "string"
            },
            "text/plain": [
              "'spark-2.4.4-bin-hadoop2.7/python/pyspark'"
            ]
          },
          "metadata": {},
          "execution_count": 4
        }
      ]
    },
    {
      "cell_type": "markdown",
      "source": [
        "## Leitura de um DataFrame pelo Spark"
      ],
      "metadata": {
        "id": "gnTSEcnHGSw6"
      }
    },
    {
      "cell_type": "code",
      "source": [
        "from pyspark.sql import SparkSession\n",
        "\n",
        "spark = SparkSession\\\n",
        "        .builder\\\n",
        "        .appName(\"Spark_DataFrames\")\\\n",
        "        .getOrCreate()"
      ],
      "metadata": {
        "id": "3wPVCG4jBQLI"
      },
      "execution_count": 36,
      "outputs": []
    },
    {
      "cell_type": "markdown",
      "source": [
        "* A primeira linha são as informações do DF, então o .option(\"header\", True) insere o cabeçalho no DF"
      ],
      "metadata": {
        "id": "lbKGsDj4Ff6n"
      }
    },
    {
      "cell_type": "code",
      "source": [
        "df = spark.read.option(\"header\", True).csv('/content/drive/MyDrive/PySpark/data/StudentData.csv')\n",
        "df.show()"
      ],
      "metadata": {
        "colab": {
          "base_uri": "https://localhost:8080/"
        },
        "id": "6fe-TxvpCt9R",
        "outputId": "385c65ca-bf7e-4ef4-c277-c116ab1f8f3d"
      },
      "execution_count": 37,
      "outputs": [
        {
          "output_type": "stream",
          "name": "stdout",
          "text": [
            "+---+------+----------------+------+------+-----+--------------------+\n",
            "|age|gender|            name|course|  roll|marks|               email|\n",
            "+---+------+----------------+------+------+-----+--------------------+\n",
            "| 28|Female| Hubert Oliveras|    DB| 02984|   59|Annika Hoffman_Na...|\n",
            "| 29|Female|Toshiko Hillyard| Cloud| 12899|   62|Margene Moores_Ma...|\n",
            "| 28|  Male|  Celeste Lollis|    PF| 21267|   45|Jeannetta Golden_...|\n",
            "| 29|Female|    Elenore Choy|    DB| 32877|   29|Billi Clore_Mitzi...|\n",
            "| 28|  Male|  Sheryll Towler|   DSA| 41487|   41|Claude Panos_Judi...|\n",
            "| 28|  Male|  Margene Moores|   MVC| 52771|   32|Toshiko Hillyard_...|\n",
            "| 28|  Male|     Neda Briski|   OOP| 61973|   69|Alberta Freund_El...|\n",
            "| 28|Female|    Claude Panos| Cloud| 72409|   85|Sheryll Towler_Al...|\n",
            "| 28|  Male|  Celeste Lollis|   MVC| 81492|   64|Nicole Harwood_Cl...|\n",
            "| 29|  Male|  Cordie Harnois|   OOP| 92882|   51|Judie Chipps_Clem...|\n",
            "| 29|Female|       Kena Wild|   DSA|102285|   35|Dustin Feagins_Ma...|\n",
            "| 29|  Male| Ernest Rossbach|    DB|111449|   53|Maybell Duguay_Ab...|\n",
            "| 28|Female|  Latia Vanhoose|    DB|122502|   27|Latia Vanhoose_Mi...|\n",
            "| 29|Female|  Latia Vanhoose|   MVC|132110|   55|Eda Neathery_Nico...|\n",
            "| 29|  Male|     Neda Briski|    PF|141770|   42|Margene Moores_Mi...|\n",
            "| 29|Female|  Latia Vanhoose|    DB|152159|   27|Claude Panos_Sant...|\n",
            "| 29|  Male|  Loris Crossett|   MVC|161771|   36|Mitzi Seldon_Jenn...|\n",
            "| 29|  Male|  Annika Hoffman|   OOP|171660|   22|Taryn Brownlee_Mi...|\n",
            "| 29|  Male|   Santa Kerfien|    PF|182129|   56|Judie Chipps_Tary...|\n",
            "| 28|Female|Mickey Cortright|    DB|192537|   62|Ernest Rossbach_M...|\n",
            "+---+------+----------------+------+------+-----+--------------------+\n",
            "only showing top 20 rows\n",
            "\n"
          ]
        }
      ]
    },
    {
      "cell_type": "markdown",
      "source": [
        "## Schema de um DataFrame\n",
        "\n",
        "* option(\"inferSchema\", True) ⇒ define automáticamente o Type do dado no interior do DF\n",
        "\n",
        "* se estiver utilizando um delimitador diferente da virgula (,), por exemplo tab (tsv, separado por tab), dentro do options inserir o comando .option(delimiter = '\\t')"
      ],
      "metadata": {
        "id": "y8awArqwG7oE"
      }
    },
    {
      "cell_type": "code",
      "source": [
        "df = spark.read.options(inferSchema='True', header = 'True', delimiter = ',').csv('/content/drive/MyDrive/PySpark/data/StudentData.csv')"
      ],
      "metadata": {
        "id": "HHGVMU44HB4M"
      },
      "execution_count": 23,
      "outputs": []
    },
    {
      "cell_type": "code",
      "source": [
        "df.printSchema()"
      ],
      "metadata": {
        "colab": {
          "base_uri": "https://localhost:8080/"
        },
        "id": "Rhq9sSDlIN50",
        "outputId": "bd3fb7e8-e043-413a-b4b8-9f37958f0528"
      },
      "execution_count": 24,
      "outputs": [
        {
          "output_type": "stream",
          "name": "stdout",
          "text": [
            "root\n",
            " |-- age: integer (nullable = true)\n",
            " |-- gender: string (nullable = true)\n",
            " |-- name: string (nullable = true)\n",
            " |-- course: string (nullable = true)\n",
            " |-- roll: integer (nullable = true)\n",
            " |-- marks: integer (nullable = true)\n",
            " |-- email: string (nullable = true)\n",
            "\n"
          ]
        }
      ]
    },
    {
      "cell_type": "code",
      "source": [
        "df.show()"
      ],
      "metadata": {
        "colab": {
          "base_uri": "https://localhost:8080/"
        },
        "id": "HYRvMYGnIPFx",
        "outputId": "a0ce811d-97da-46b2-e2d5-6ba5d1770b8a"
      },
      "execution_count": 25,
      "outputs": [
        {
          "output_type": "stream",
          "name": "stdout",
          "text": [
            "+---+------+----------------+------+------+-----+--------------------+\n",
            "|age|gender|            name|course|  roll|marks|               email|\n",
            "+---+------+----------------+------+------+-----+--------------------+\n",
            "| 28|Female| Hubert Oliveras|    DB|  2984|   59|Annika Hoffman_Na...|\n",
            "| 29|Female|Toshiko Hillyard| Cloud| 12899|   62|Margene Moores_Ma...|\n",
            "| 28|  Male|  Celeste Lollis|    PF| 21267|   45|Jeannetta Golden_...|\n",
            "| 29|Female|    Elenore Choy|    DB| 32877|   29|Billi Clore_Mitzi...|\n",
            "| 28|  Male|  Sheryll Towler|   DSA| 41487|   41|Claude Panos_Judi...|\n",
            "| 28|  Male|  Margene Moores|   MVC| 52771|   32|Toshiko Hillyard_...|\n",
            "| 28|  Male|     Neda Briski|   OOP| 61973|   69|Alberta Freund_El...|\n",
            "| 28|Female|    Claude Panos| Cloud| 72409|   85|Sheryll Towler_Al...|\n",
            "| 28|  Male|  Celeste Lollis|   MVC| 81492|   64|Nicole Harwood_Cl...|\n",
            "| 29|  Male|  Cordie Harnois|   OOP| 92882|   51|Judie Chipps_Clem...|\n",
            "| 29|Female|       Kena Wild|   DSA|102285|   35|Dustin Feagins_Ma...|\n",
            "| 29|  Male| Ernest Rossbach|    DB|111449|   53|Maybell Duguay_Ab...|\n",
            "| 28|Female|  Latia Vanhoose|    DB|122502|   27|Latia Vanhoose_Mi...|\n",
            "| 29|Female|  Latia Vanhoose|   MVC|132110|   55|Eda Neathery_Nico...|\n",
            "| 29|  Male|     Neda Briski|    PF|141770|   42|Margene Moores_Mi...|\n",
            "| 29|Female|  Latia Vanhoose|    DB|152159|   27|Claude Panos_Sant...|\n",
            "| 29|  Male|  Loris Crossett|   MVC|161771|   36|Mitzi Seldon_Jenn...|\n",
            "| 29|  Male|  Annika Hoffman|   OOP|171660|   22|Taryn Brownlee_Mi...|\n",
            "| 29|  Male|   Santa Kerfien|    PF|182129|   56|Judie Chipps_Tary...|\n",
            "| 28|Female|Mickey Cortright|    DB|192537|   62|Ernest Rossbach_M...|\n",
            "+---+------+----------------+------+------+-----+--------------------+\n",
            "only showing top 20 rows\n",
            "\n"
          ]
        }
      ]
    },
    {
      "cell_type": "markdown",
      "source": [
        "## Fornecendo o Schema DataFrame"
      ],
      "metadata": {
        "id": "hn4SGkIfJb2Y"
      }
    },
    {
      "cell_type": "code",
      "source": [
        "from pyspark.sql.types import StructType, StructField, StringType, IntegerType\n",
        "\n",
        "schema = StructType([\n",
        "                     StructField(\"age\", IntegerType(), True),\n",
        "                     StructField(\"gender\", StringType(), True),\n",
        "                     StructField(\"name\", StringType(), True),\n",
        "                     StructField(\"course\", StringType(), True),\n",
        "                     StructField(\"roll\", StringType(), True),\n",
        "                     StructField(\"marks\", IntegerType(), True),\n",
        "                     StructField(\"email\", StringType(), True)\n",
        "])"
      ],
      "metadata": {
        "id": "Rlw9HKkQJprB"
      },
      "execution_count": 26,
      "outputs": []
    },
    {
      "cell_type": "code",
      "source": [
        "df = spark.read.options(header = 'True').schema(schema).csv('/content/drive/MyDrive/PySpark/data/StudentData.csv')\n",
        "df.printSchema()"
      ],
      "metadata": {
        "colab": {
          "base_uri": "https://localhost:8080/"
        },
        "id": "Mv1NmVJ6LRrF",
        "outputId": "f8adbaba-f407-427d-e73f-1130264326fc"
      },
      "execution_count": 29,
      "outputs": [
        {
          "output_type": "stream",
          "name": "stdout",
          "text": [
            "root\n",
            " |-- age: integer (nullable = true)\n",
            " |-- gender: string (nullable = true)\n",
            " |-- name: string (nullable = true)\n",
            " |-- course: string (nullable = true)\n",
            " |-- roll: string (nullable = true)\n",
            " |-- marks: integer (nullable = true)\n",
            " |-- email: string (nullable = true)\n",
            "\n"
          ]
        }
      ]
    },
    {
      "cell_type": "markdown",
      "source": [
        "## Criando um DF a partir de um RDD"
      ],
      "metadata": {
        "id": "rkS7nb_4MyJf"
      }
    },
    {
      "cell_type": "code",
      "source": [
        "from pyspark.sql import SparkSession\n",
        "spark = SparkSession\\\n",
        "        .builder\\\n",
        "        .appName(\"Spark DataFrame\")\\\n",
        "        .get0rCreate()"
      ],
      "metadata": {
        "colab": {
          "base_uri": "https://localhost:8080/",
          "height": 191
        },
        "id": "2e6gkz4PNDF3",
        "outputId": "6a8d6dd7-17f6-49ad-85f3-c31b4b547abf"
      },
      "execution_count": 45,
      "outputs": [
        {
          "output_type": "error",
          "ename": "AttributeError",
          "evalue": "ignored",
          "traceback": [
            "\u001b[0;31m---------------------------------------------------------------------------\u001b[0m",
            "\u001b[0;31mAttributeError\u001b[0m                            Traceback (most recent call last)",
            "\u001b[0;32m<ipython-input-45-238b2d208147>\u001b[0m in \u001b[0;36m<module>\u001b[0;34m()\u001b[0m\n\u001b[1;32m      1\u001b[0m \u001b[0;32mfrom\u001b[0m \u001b[0mpyspark\u001b[0m\u001b[0;34m.\u001b[0m\u001b[0msql\u001b[0m \u001b[0;32mimport\u001b[0m \u001b[0mSparkSession\u001b[0m\u001b[0;34m\u001b[0m\u001b[0;34m\u001b[0m\u001b[0m\n\u001b[0;32m----> 2\u001b[0;31m \u001b[0mspark\u001b[0m \u001b[0;34m=\u001b[0m \u001b[0mSparkSession\u001b[0m        \u001b[0;34m.\u001b[0m\u001b[0mbuilder\u001b[0m        \u001b[0;34m.\u001b[0m\u001b[0mappName\u001b[0m\u001b[0;34m(\u001b[0m\u001b[0;34m\"Spark DataFrame\"\u001b[0m\u001b[0;34m)\u001b[0m        \u001b[0;34m.\u001b[0m\u001b[0mget0rCreate\u001b[0m\u001b[0;34m(\u001b[0m\u001b[0;34m)\u001b[0m\u001b[0;34m\u001b[0m\u001b[0;34m\u001b[0m\u001b[0m\n\u001b[0m",
            "\u001b[0;31mAttributeError\u001b[0m: 'Builder' object has no attribute 'get0rCreate'"
          ]
        }
      ]
    },
    {
      "cell_type": "code",
      "source": [
        "from pyspark import SparkConf, SparkContext\n",
        "conf = SparkConf().setAppName(\"RDD\")\n",
        "sc = SparkContext.getOrCreate(conf=conf)\n",
        "\n",
        "rdd = sc.textFile('/content/drive/MyDrive/PySpark/data/StudentData.csv')\n",
        "headers = rdd.first()\n",
        "\n",
        "rdd = rdd.filter(lambda x: x!= headers).map(lambda x: x.split(','))\n",
        "rdd = rdd.map(lambda x: [int(x[0]), x[1], x[2], x[3], x[4], int(x[5]), x[6]])"
      ],
      "metadata": {
        "id": "OATXbJcpNWWX"
      },
      "execution_count": 52,
      "outputs": []
    },
    {
      "cell_type": "code",
      "source": [
        "columns = headers.split(\",\")\n",
        "dfRdd = rdd.toDF(columns)\n",
        "dfRdd.show()"
      ],
      "metadata": {
        "colab": {
          "base_uri": "https://localhost:8080/"
        },
        "id": "HOzPbMezOZ3J",
        "outputId": "fb9d4acc-8d25-497d-f9ae-4c5bb6c8e38a"
      },
      "execution_count": 53,
      "outputs": [
        {
          "output_type": "stream",
          "name": "stdout",
          "text": [
            "+---+------+----------------+------+------+-----+--------------------+\n",
            "|age|gender|            name|course|  roll|marks|               email|\n",
            "+---+------+----------------+------+------+-----+--------------------+\n",
            "| 28|Female| Hubert Oliveras|    DB| 02984|   59|Annika Hoffman_Na...|\n",
            "| 29|Female|Toshiko Hillyard| Cloud| 12899|   62|Margene Moores_Ma...|\n",
            "| 28|  Male|  Celeste Lollis|    PF| 21267|   45|Jeannetta Golden_...|\n",
            "| 29|Female|    Elenore Choy|    DB| 32877|   29|Billi Clore_Mitzi...|\n",
            "| 28|  Male|  Sheryll Towler|   DSA| 41487|   41|Claude Panos_Judi...|\n",
            "| 28|  Male|  Margene Moores|   MVC| 52771|   32|Toshiko Hillyard_...|\n",
            "| 28|  Male|     Neda Briski|   OOP| 61973|   69|Alberta Freund_El...|\n",
            "| 28|Female|    Claude Panos| Cloud| 72409|   85|Sheryll Towler_Al...|\n",
            "| 28|  Male|  Celeste Lollis|   MVC| 81492|   64|Nicole Harwood_Cl...|\n",
            "| 29|  Male|  Cordie Harnois|   OOP| 92882|   51|Judie Chipps_Clem...|\n",
            "| 29|Female|       Kena Wild|   DSA|102285|   35|Dustin Feagins_Ma...|\n",
            "| 29|  Male| Ernest Rossbach|    DB|111449|   53|Maybell Duguay_Ab...|\n",
            "| 28|Female|  Latia Vanhoose|    DB|122502|   27|Latia Vanhoose_Mi...|\n",
            "| 29|Female|  Latia Vanhoose|   MVC|132110|   55|Eda Neathery_Nico...|\n",
            "| 29|  Male|     Neda Briski|    PF|141770|   42|Margene Moores_Mi...|\n",
            "| 29|Female|  Latia Vanhoose|    DB|152159|   27|Claude Panos_Sant...|\n",
            "| 29|  Male|  Loris Crossett|   MVC|161771|   36|Mitzi Seldon_Jenn...|\n",
            "| 29|  Male|  Annika Hoffman|   OOP|171660|   22|Taryn Brownlee_Mi...|\n",
            "| 29|  Male|   Santa Kerfien|    PF|182129|   56|Judie Chipps_Tary...|\n",
            "| 28|Female|Mickey Cortright|    DB|192537|   62|Ernest Rossbach_M...|\n",
            "+---+------+----------------+------+------+-----+--------------------+\n",
            "only showing top 20 rows\n",
            "\n"
          ]
        }
      ]
    },
    {
      "cell_type": "code",
      "source": [
        "from pyspark.sql.types import StructType, StructField, StringType, IntegerType\n",
        "\n",
        "schema = StructType([\n",
        "                     StructField(\"age\", IntegerType(), True),\n",
        "                     StructField(\"gender\", StringType(), True),\n",
        "                     StructField(\"name\", StringType(), True),\n",
        "                     StructField(\"course\", StringType(), True),\n",
        "                     StructField(\"roll\", StringType(), True),\n",
        "                     StructField(\"marks\", IntegerType(), True),\n",
        "                     StructField(\"email\", StringType(), True)\n",
        "])"
      ],
      "metadata": {
        "id": "0BQelXPyO9LQ"
      },
      "execution_count": 54,
      "outputs": []
    },
    {
      "cell_type": "code",
      "source": [
        "dfRdd2 = spark.createDataFrame(rdd, schema=schema)\n",
        "dfRdd2.show()\n",
        "dfRdd2.printSchema()"
      ],
      "metadata": {
        "colab": {
          "base_uri": "https://localhost:8080/"
        },
        "id": "uuQFUpwcQAnL",
        "outputId": "9594f1b0-359e-4993-a605-b41dcefd918c"
      },
      "execution_count": 55,
      "outputs": [
        {
          "output_type": "stream",
          "name": "stdout",
          "text": [
            "+---+------+----------------+------+------+-----+--------------------+\n",
            "|age|gender|            name|course|  roll|marks|               email|\n",
            "+---+------+----------------+------+------+-----+--------------------+\n",
            "| 28|Female| Hubert Oliveras|    DB| 02984|   59|Annika Hoffman_Na...|\n",
            "| 29|Female|Toshiko Hillyard| Cloud| 12899|   62|Margene Moores_Ma...|\n",
            "| 28|  Male|  Celeste Lollis|    PF| 21267|   45|Jeannetta Golden_...|\n",
            "| 29|Female|    Elenore Choy|    DB| 32877|   29|Billi Clore_Mitzi...|\n",
            "| 28|  Male|  Sheryll Towler|   DSA| 41487|   41|Claude Panos_Judi...|\n",
            "| 28|  Male|  Margene Moores|   MVC| 52771|   32|Toshiko Hillyard_...|\n",
            "| 28|  Male|     Neda Briski|   OOP| 61973|   69|Alberta Freund_El...|\n",
            "| 28|Female|    Claude Panos| Cloud| 72409|   85|Sheryll Towler_Al...|\n",
            "| 28|  Male|  Celeste Lollis|   MVC| 81492|   64|Nicole Harwood_Cl...|\n",
            "| 29|  Male|  Cordie Harnois|   OOP| 92882|   51|Judie Chipps_Clem...|\n",
            "| 29|Female|       Kena Wild|   DSA|102285|   35|Dustin Feagins_Ma...|\n",
            "| 29|  Male| Ernest Rossbach|    DB|111449|   53|Maybell Duguay_Ab...|\n",
            "| 28|Female|  Latia Vanhoose|    DB|122502|   27|Latia Vanhoose_Mi...|\n",
            "| 29|Female|  Latia Vanhoose|   MVC|132110|   55|Eda Neathery_Nico...|\n",
            "| 29|  Male|     Neda Briski|    PF|141770|   42|Margene Moores_Mi...|\n",
            "| 29|Female|  Latia Vanhoose|    DB|152159|   27|Claude Panos_Sant...|\n",
            "| 29|  Male|  Loris Crossett|   MVC|161771|   36|Mitzi Seldon_Jenn...|\n",
            "| 29|  Male|  Annika Hoffman|   OOP|171660|   22|Taryn Brownlee_Mi...|\n",
            "| 29|  Male|   Santa Kerfien|    PF|182129|   56|Judie Chipps_Tary...|\n",
            "| 28|Female|Mickey Cortright|    DB|192537|   62|Ernest Rossbach_M...|\n",
            "+---+------+----------------+------+------+-----+--------------------+\n",
            "only showing top 20 rows\n",
            "\n",
            "root\n",
            " |-- age: integer (nullable = true)\n",
            " |-- gender: string (nullable = true)\n",
            " |-- name: string (nullable = true)\n",
            " |-- course: string (nullable = true)\n",
            " |-- roll: string (nullable = true)\n",
            " |-- marks: integer (nullable = true)\n",
            " |-- email: string (nullable = true)\n",
            "\n"
          ]
        }
      ]
    },
    {
      "cell_type": "markdown",
      "source": [
        "## Select colunas do DataFrame"
      ],
      "metadata": {
        "id": "_UICMExkSI3w"
      }
    },
    {
      "cell_type": "code",
      "source": [
        "from pyspark.sql import SparkSession\n",
        "spark = SparkSession.builder.appName(\"Spark DataFrames\").getOrCreate()\n"
      ],
      "metadata": {
        "id": "CzRFTQ7jSPXB"
      },
      "execution_count": 56,
      "outputs": []
    },
    {
      "cell_type": "code",
      "source": [
        "df = spark.read.options(header = 'True', inferSchema = 'True').csv('/content/drive/MyDrive/PySpark/data/StudentData.csv')\n",
        "df.show()"
      ],
      "metadata": {
        "colab": {
          "base_uri": "https://localhost:8080/"
        },
        "id": "rfFmggRTSg_q",
        "outputId": "dcfb316c-6d43-4ab2-c7fc-10fc086bbdde"
      },
      "execution_count": 58,
      "outputs": [
        {
          "output_type": "stream",
          "name": "stdout",
          "text": [
            "+---+------+----------------+------+------+-----+--------------------+\n",
            "|age|gender|            name|course|  roll|marks|               email|\n",
            "+---+------+----------------+------+------+-----+--------------------+\n",
            "| 28|Female| Hubert Oliveras|    DB|  2984|   59|Annika Hoffman_Na...|\n",
            "| 29|Female|Toshiko Hillyard| Cloud| 12899|   62|Margene Moores_Ma...|\n",
            "| 28|  Male|  Celeste Lollis|    PF| 21267|   45|Jeannetta Golden_...|\n",
            "| 29|Female|    Elenore Choy|    DB| 32877|   29|Billi Clore_Mitzi...|\n",
            "| 28|  Male|  Sheryll Towler|   DSA| 41487|   41|Claude Panos_Judi...|\n",
            "| 28|  Male|  Margene Moores|   MVC| 52771|   32|Toshiko Hillyard_...|\n",
            "| 28|  Male|     Neda Briski|   OOP| 61973|   69|Alberta Freund_El...|\n",
            "| 28|Female|    Claude Panos| Cloud| 72409|   85|Sheryll Towler_Al...|\n",
            "| 28|  Male|  Celeste Lollis|   MVC| 81492|   64|Nicole Harwood_Cl...|\n",
            "| 29|  Male|  Cordie Harnois|   OOP| 92882|   51|Judie Chipps_Clem...|\n",
            "| 29|Female|       Kena Wild|   DSA|102285|   35|Dustin Feagins_Ma...|\n",
            "| 29|  Male| Ernest Rossbach|    DB|111449|   53|Maybell Duguay_Ab...|\n",
            "| 28|Female|  Latia Vanhoose|    DB|122502|   27|Latia Vanhoose_Mi...|\n",
            "| 29|Female|  Latia Vanhoose|   MVC|132110|   55|Eda Neathery_Nico...|\n",
            "| 29|  Male|     Neda Briski|    PF|141770|   42|Margene Moores_Mi...|\n",
            "| 29|Female|  Latia Vanhoose|    DB|152159|   27|Claude Panos_Sant...|\n",
            "| 29|  Male|  Loris Crossett|   MVC|161771|   36|Mitzi Seldon_Jenn...|\n",
            "| 29|  Male|  Annika Hoffman|   OOP|171660|   22|Taryn Brownlee_Mi...|\n",
            "| 29|  Male|   Santa Kerfien|    PF|182129|   56|Judie Chipps_Tary...|\n",
            "| 28|Female|Mickey Cortright|    DB|192537|   62|Ernest Rossbach_M...|\n",
            "+---+------+----------------+------+------+-----+--------------------+\n",
            "only showing top 20 rows\n",
            "\n"
          ]
        }
      ]
    },
    {
      "cell_type": "markdown",
      "source": [
        "* Como selecionar colunas no DF"
      ],
      "metadata": {
        "id": "nVFR46PmppOW"
      }
    },
    {
      "cell_type": "code",
      "source": [
        "df.select(\"name\",\"gender\").show()"
      ],
      "metadata": {
        "colab": {
          "base_uri": "https://localhost:8080/"
        },
        "id": "7AGk6V6UpktE",
        "outputId": "fe6f5257-1779-488f-f954-ae72266a7dc8"
      },
      "execution_count": 61,
      "outputs": [
        {
          "output_type": "stream",
          "name": "stdout",
          "text": [
            "+----------------+------+\n",
            "|            name|gender|\n",
            "+----------------+------+\n",
            "| Hubert Oliveras|Female|\n",
            "|Toshiko Hillyard|Female|\n",
            "|  Celeste Lollis|  Male|\n",
            "|    Elenore Choy|Female|\n",
            "|  Sheryll Towler|  Male|\n",
            "|  Margene Moores|  Male|\n",
            "|     Neda Briski|  Male|\n",
            "|    Claude Panos|Female|\n",
            "|  Celeste Lollis|  Male|\n",
            "|  Cordie Harnois|  Male|\n",
            "|       Kena Wild|Female|\n",
            "| Ernest Rossbach|  Male|\n",
            "|  Latia Vanhoose|Female|\n",
            "|  Latia Vanhoose|Female|\n",
            "|     Neda Briski|  Male|\n",
            "|  Latia Vanhoose|Female|\n",
            "|  Loris Crossett|  Male|\n",
            "|  Annika Hoffman|  Male|\n",
            "|   Santa Kerfien|  Male|\n",
            "|Mickey Cortright|Female|\n",
            "+----------------+------+\n",
            "only showing top 20 rows\n",
            "\n"
          ]
        }
      ]
    },
    {
      "cell_type": "code",
      "source": [
        "df.select(df.name, df.email).show()"
      ],
      "metadata": {
        "colab": {
          "base_uri": "https://localhost:8080/"
        },
        "id": "qQ5djo3LqAYx",
        "outputId": "9c52c3b2-a4a7-470f-cc2c-0de846646335"
      },
      "execution_count": 62,
      "outputs": [
        {
          "output_type": "stream",
          "name": "stdout",
          "text": [
            "+----------------+--------------------+\n",
            "|            name|               email|\n",
            "+----------------+--------------------+\n",
            "| Hubert Oliveras|Annika Hoffman_Na...|\n",
            "|Toshiko Hillyard|Margene Moores_Ma...|\n",
            "|  Celeste Lollis|Jeannetta Golden_...|\n",
            "|    Elenore Choy|Billi Clore_Mitzi...|\n",
            "|  Sheryll Towler|Claude Panos_Judi...|\n",
            "|  Margene Moores|Toshiko Hillyard_...|\n",
            "|     Neda Briski|Alberta Freund_El...|\n",
            "|    Claude Panos|Sheryll Towler_Al...|\n",
            "|  Celeste Lollis|Nicole Harwood_Cl...|\n",
            "|  Cordie Harnois|Judie Chipps_Clem...|\n",
            "|       Kena Wild|Dustin Feagins_Ma...|\n",
            "| Ernest Rossbach|Maybell Duguay_Ab...|\n",
            "|  Latia Vanhoose|Latia Vanhoose_Mi...|\n",
            "|  Latia Vanhoose|Eda Neathery_Nico...|\n",
            "|     Neda Briski|Margene Moores_Mi...|\n",
            "|  Latia Vanhoose|Claude Panos_Sant...|\n",
            "|  Loris Crossett|Mitzi Seldon_Jenn...|\n",
            "|  Annika Hoffman|Taryn Brownlee_Mi...|\n",
            "|   Santa Kerfien|Judie Chipps_Tary...|\n",
            "|Mickey Cortright|Ernest Rossbach_M...|\n",
            "+----------------+--------------------+\n",
            "only showing top 20 rows\n",
            "\n"
          ]
        }
      ]
    },
    {
      "cell_type": "code",
      "source": [
        "from pyspark.sql.functions import col\n",
        "\n",
        "df.select(col(\"roll\"), col(\"name\")).show()"
      ],
      "metadata": {
        "colab": {
          "base_uri": "https://localhost:8080/"
        },
        "id": "lReej62EqOCB",
        "outputId": "8f83ff18-6364-41e0-c384-273e96feb7f2"
      },
      "execution_count": 63,
      "outputs": [
        {
          "output_type": "stream",
          "name": "stdout",
          "text": [
            "+------+----------------+\n",
            "|  roll|            name|\n",
            "+------+----------------+\n",
            "|  2984| Hubert Oliveras|\n",
            "| 12899|Toshiko Hillyard|\n",
            "| 21267|  Celeste Lollis|\n",
            "| 32877|    Elenore Choy|\n",
            "| 41487|  Sheryll Towler|\n",
            "| 52771|  Margene Moores|\n",
            "| 61973|     Neda Briski|\n",
            "| 72409|    Claude Panos|\n",
            "| 81492|  Celeste Lollis|\n",
            "| 92882|  Cordie Harnois|\n",
            "|102285|       Kena Wild|\n",
            "|111449| Ernest Rossbach|\n",
            "|122502|  Latia Vanhoose|\n",
            "|132110|  Latia Vanhoose|\n",
            "|141770|     Neda Briski|\n",
            "|152159|  Latia Vanhoose|\n",
            "|161771|  Loris Crossett|\n",
            "|171660|  Annika Hoffman|\n",
            "|182129|   Santa Kerfien|\n",
            "|192537|Mickey Cortright|\n",
            "+------+----------------+\n",
            "only showing top 20 rows\n",
            "\n"
          ]
        }
      ]
    },
    {
      "cell_type": "code",
      "source": [
        "df.select('*').show()"
      ],
      "metadata": {
        "colab": {
          "base_uri": "https://localhost:8080/"
        },
        "id": "ybOBdMN9ql5-",
        "outputId": "2808c72d-7a27-4ab4-efdf-2d082585e5b2"
      },
      "execution_count": 64,
      "outputs": [
        {
          "output_type": "stream",
          "name": "stdout",
          "text": [
            "+---+------+----------------+------+------+-----+--------------------+\n",
            "|age|gender|            name|course|  roll|marks|               email|\n",
            "+---+------+----------------+------+------+-----+--------------------+\n",
            "| 28|Female| Hubert Oliveras|    DB|  2984|   59|Annika Hoffman_Na...|\n",
            "| 29|Female|Toshiko Hillyard| Cloud| 12899|   62|Margene Moores_Ma...|\n",
            "| 28|  Male|  Celeste Lollis|    PF| 21267|   45|Jeannetta Golden_...|\n",
            "| 29|Female|    Elenore Choy|    DB| 32877|   29|Billi Clore_Mitzi...|\n",
            "| 28|  Male|  Sheryll Towler|   DSA| 41487|   41|Claude Panos_Judi...|\n",
            "| 28|  Male|  Margene Moores|   MVC| 52771|   32|Toshiko Hillyard_...|\n",
            "| 28|  Male|     Neda Briski|   OOP| 61973|   69|Alberta Freund_El...|\n",
            "| 28|Female|    Claude Panos| Cloud| 72409|   85|Sheryll Towler_Al...|\n",
            "| 28|  Male|  Celeste Lollis|   MVC| 81492|   64|Nicole Harwood_Cl...|\n",
            "| 29|  Male|  Cordie Harnois|   OOP| 92882|   51|Judie Chipps_Clem...|\n",
            "| 29|Female|       Kena Wild|   DSA|102285|   35|Dustin Feagins_Ma...|\n",
            "| 29|  Male| Ernest Rossbach|    DB|111449|   53|Maybell Duguay_Ab...|\n",
            "| 28|Female|  Latia Vanhoose|    DB|122502|   27|Latia Vanhoose_Mi...|\n",
            "| 29|Female|  Latia Vanhoose|   MVC|132110|   55|Eda Neathery_Nico...|\n",
            "| 29|  Male|     Neda Briski|    PF|141770|   42|Margene Moores_Mi...|\n",
            "| 29|Female|  Latia Vanhoose|    DB|152159|   27|Claude Panos_Sant...|\n",
            "| 29|  Male|  Loris Crossett|   MVC|161771|   36|Mitzi Seldon_Jenn...|\n",
            "| 29|  Male|  Annika Hoffman|   OOP|171660|   22|Taryn Brownlee_Mi...|\n",
            "| 29|  Male|   Santa Kerfien|    PF|182129|   56|Judie Chipps_Tary...|\n",
            "| 28|Female|Mickey Cortright|    DB|192537|   62|Ernest Rossbach_M...|\n",
            "+---+------+----------------+------+------+-----+--------------------+\n",
            "only showing top 20 rows\n",
            "\n"
          ]
        }
      ]
    },
    {
      "cell_type": "code",
      "source": [
        "df.columns\n",
        "df.select('age', 'gender', 'email').show()"
      ],
      "metadata": {
        "colab": {
          "base_uri": "https://localhost:8080/"
        },
        "id": "ye5fR1TUqxd8",
        "outputId": "ad242df8-f6a3-467b-e37a-b7035666a1a4"
      },
      "execution_count": 68,
      "outputs": [
        {
          "output_type": "stream",
          "name": "stdout",
          "text": [
            "+---+------+--------------------+\n",
            "|age|gender|               email|\n",
            "+---+------+--------------------+\n",
            "| 28|Female|Annika Hoffman_Na...|\n",
            "| 29|Female|Margene Moores_Ma...|\n",
            "| 28|  Male|Jeannetta Golden_...|\n",
            "| 29|Female|Billi Clore_Mitzi...|\n",
            "| 28|  Male|Claude Panos_Judi...|\n",
            "| 28|  Male|Toshiko Hillyard_...|\n",
            "| 28|  Male|Alberta Freund_El...|\n",
            "| 28|Female|Sheryll Towler_Al...|\n",
            "| 28|  Male|Nicole Harwood_Cl...|\n",
            "| 29|  Male|Judie Chipps_Clem...|\n",
            "| 29|Female|Dustin Feagins_Ma...|\n",
            "| 29|  Male|Maybell Duguay_Ab...|\n",
            "| 28|Female|Latia Vanhoose_Mi...|\n",
            "| 29|Female|Eda Neathery_Nico...|\n",
            "| 29|  Male|Margene Moores_Mi...|\n",
            "| 29|Female|Claude Panos_Sant...|\n",
            "| 29|  Male|Mitzi Seldon_Jenn...|\n",
            "| 29|  Male|Taryn Brownlee_Mi...|\n",
            "| 29|  Male|Judie Chipps_Tary...|\n",
            "| 28|Female|Ernest Rossbach_M...|\n",
            "+---+------+--------------------+\n",
            "only showing top 20 rows\n",
            "\n"
          ]
        }
      ]
    },
    {
      "cell_type": "code",
      "source": [
        "df.select(df.columns[2:6]).show()"
      ],
      "metadata": {
        "colab": {
          "base_uri": "https://localhost:8080/"
        },
        "id": "AWDvk7nTrH-r",
        "outputId": "df9731a5-d395-4054-dbae-d547d4d602e9"
      },
      "execution_count": 73,
      "outputs": [
        {
          "output_type": "stream",
          "name": "stdout",
          "text": [
            "+----------------+------+------+-----+\n",
            "|            name|course|  roll|marks|\n",
            "+----------------+------+------+-----+\n",
            "| Hubert Oliveras|    DB|  2984|   59|\n",
            "|Toshiko Hillyard| Cloud| 12899|   62|\n",
            "|  Celeste Lollis|    PF| 21267|   45|\n",
            "|    Elenore Choy|    DB| 32877|   29|\n",
            "|  Sheryll Towler|   DSA| 41487|   41|\n",
            "|  Margene Moores|   MVC| 52771|   32|\n",
            "|     Neda Briski|   OOP| 61973|   69|\n",
            "|    Claude Panos| Cloud| 72409|   85|\n",
            "|  Celeste Lollis|   MVC| 81492|   64|\n",
            "|  Cordie Harnois|   OOP| 92882|   51|\n",
            "|       Kena Wild|   DSA|102285|   35|\n",
            "| Ernest Rossbach|    DB|111449|   53|\n",
            "|  Latia Vanhoose|    DB|122502|   27|\n",
            "|  Latia Vanhoose|   MVC|132110|   55|\n",
            "|     Neda Briski|    PF|141770|   42|\n",
            "|  Latia Vanhoose|    DB|152159|   27|\n",
            "|  Loris Crossett|   MVC|161771|   36|\n",
            "|  Annika Hoffman|   OOP|171660|   22|\n",
            "|   Santa Kerfien|    PF|182129|   56|\n",
            "|Mickey Cortright|    DB|192537|   62|\n",
            "+----------------+------+------+-----+\n",
            "only showing top 20 rows\n",
            "\n"
          ]
        }
      ]
    },
    {
      "cell_type": "code",
      "source": [
        "df2 = df.select(col(\"roll\"), col(\"name\"))"
      ],
      "metadata": {
        "id": "xKCn1Asgrowh"
      },
      "execution_count": 77,
      "outputs": []
    },
    {
      "cell_type": "code",
      "source": [
        "df2.show()"
      ],
      "metadata": {
        "colab": {
          "base_uri": "https://localhost:8080/"
        },
        "id": "m4nHbz3jscrS",
        "outputId": "5a82f9e5-9883-4cb8-e052-fa3478a76a7e"
      },
      "execution_count": 78,
      "outputs": [
        {
          "output_type": "stream",
          "name": "stdout",
          "text": [
            "+------+----------------+\n",
            "|  roll|            name|\n",
            "+------+----------------+\n",
            "|  2984| Hubert Oliveras|\n",
            "| 12899|Toshiko Hillyard|\n",
            "| 21267|  Celeste Lollis|\n",
            "| 32877|    Elenore Choy|\n",
            "| 41487|  Sheryll Towler|\n",
            "| 52771|  Margene Moores|\n",
            "| 61973|     Neda Briski|\n",
            "| 72409|    Claude Panos|\n",
            "| 81492|  Celeste Lollis|\n",
            "| 92882|  Cordie Harnois|\n",
            "|102285|       Kena Wild|\n",
            "|111449| Ernest Rossbach|\n",
            "|122502|  Latia Vanhoose|\n",
            "|132110|  Latia Vanhoose|\n",
            "|141770|     Neda Briski|\n",
            "|152159|  Latia Vanhoose|\n",
            "|161771|  Loris Crossett|\n",
            "|171660|  Annika Hoffman|\n",
            "|182129|   Santa Kerfien|\n",
            "|192537|Mickey Cortright|\n",
            "+------+----------------+\n",
            "only showing top 20 rows\n",
            "\n"
          ]
        }
      ]
    },
    {
      "cell_type": "markdown",
      "source": [
        "## with column no DataFrame"
      ],
      "metadata": {
        "id": "cCAHEntNsu1A"
      }
    },
    {
      "cell_type": "code",
      "source": [
        "from pyspark.sql import SparkSession\n",
        "spark = SparkSession.builder.appName(\"Spark DataFrames\").getOrCreate()\n",
        "df = spark.read.options(header = 'True', inferSchema = 'True').csv('/content/drive/MyDrive/PySpark/data/StudentData.csv')"
      ],
      "metadata": {
        "id": "kYjxuNIms82G"
      },
      "execution_count": 79,
      "outputs": []
    },
    {
      "cell_type": "code",
      "source": [
        "df = spark.read.options(header = 'True', inferSchema = 'True').csv('/content/drive/MyDrive/PySpark/data/StudentData.csv')\n",
        "df.show()"
      ],
      "metadata": {
        "colab": {
          "base_uri": "https://localhost:8080/"
        },
        "id": "dKb5kIRptaZD",
        "outputId": "f10d8b35-ed04-48f0-a162-613b38e66fc7"
      },
      "execution_count": 80,
      "outputs": [
        {
          "output_type": "stream",
          "name": "stdout",
          "text": [
            "+---+------+----------------+------+------+-----+--------------------+\n",
            "|age|gender|            name|course|  roll|marks|               email|\n",
            "+---+------+----------------+------+------+-----+--------------------+\n",
            "| 28|Female| Hubert Oliveras|    DB|  2984|   59|Annika Hoffman_Na...|\n",
            "| 29|Female|Toshiko Hillyard| Cloud| 12899|   62|Margene Moores_Ma...|\n",
            "| 28|  Male|  Celeste Lollis|    PF| 21267|   45|Jeannetta Golden_...|\n",
            "| 29|Female|    Elenore Choy|    DB| 32877|   29|Billi Clore_Mitzi...|\n",
            "| 28|  Male|  Sheryll Towler|   DSA| 41487|   41|Claude Panos_Judi...|\n",
            "| 28|  Male|  Margene Moores|   MVC| 52771|   32|Toshiko Hillyard_...|\n",
            "| 28|  Male|     Neda Briski|   OOP| 61973|   69|Alberta Freund_El...|\n",
            "| 28|Female|    Claude Panos| Cloud| 72409|   85|Sheryll Towler_Al...|\n",
            "| 28|  Male|  Celeste Lollis|   MVC| 81492|   64|Nicole Harwood_Cl...|\n",
            "| 29|  Male|  Cordie Harnois|   OOP| 92882|   51|Judie Chipps_Clem...|\n",
            "| 29|Female|       Kena Wild|   DSA|102285|   35|Dustin Feagins_Ma...|\n",
            "| 29|  Male| Ernest Rossbach|    DB|111449|   53|Maybell Duguay_Ab...|\n",
            "| 28|Female|  Latia Vanhoose|    DB|122502|   27|Latia Vanhoose_Mi...|\n",
            "| 29|Female|  Latia Vanhoose|   MVC|132110|   55|Eda Neathery_Nico...|\n",
            "| 29|  Male|     Neda Briski|    PF|141770|   42|Margene Moores_Mi...|\n",
            "| 29|Female|  Latia Vanhoose|    DB|152159|   27|Claude Panos_Sant...|\n",
            "| 29|  Male|  Loris Crossett|   MVC|161771|   36|Mitzi Seldon_Jenn...|\n",
            "| 29|  Male|  Annika Hoffman|   OOP|171660|   22|Taryn Brownlee_Mi...|\n",
            "| 29|  Male|   Santa Kerfien|    PF|182129|   56|Judie Chipps_Tary...|\n",
            "| 28|Female|Mickey Cortright|    DB|192537|   62|Ernest Rossbach_M...|\n",
            "+---+------+----------------+------+------+-----+--------------------+\n",
            "only showing top 20 rows\n",
            "\n"
          ]
        }
      ]
    },
    {
      "cell_type": "code",
      "source": [
        "from pyspark.sql.functions import col, lit\n",
        "df = df.withColumn(\"roll\", col(\"roll\").cast(\"string\"))"
      ],
      "metadata": {
        "id": "yyz0902xug8D"
      },
      "execution_count": 101,
      "outputs": []
    },
    {
      "cell_type": "code",
      "source": [
        "df.show()"
      ],
      "metadata": {
        "colab": {
          "base_uri": "https://localhost:8080/"
        },
        "id": "F5HzT32kvaE-",
        "outputId": "cf8c0a45-6c4e-48f8-9d51-0fd9efabeb9d"
      },
      "execution_count": 94,
      "outputs": [
        {
          "output_type": "stream",
          "name": "stdout",
          "text": [
            "+---+------+----------------+------+------+-----+--------------------+\n",
            "|age|gender|            name|course|  roll|marks|               email|\n",
            "+---+------+----------------+------+------+-----+--------------------+\n",
            "| 28|Female| Hubert Oliveras|    DB|  2984|   59|Annika Hoffman_Na...|\n",
            "| 29|Female|Toshiko Hillyard| Cloud| 12899|   62|Margene Moores_Ma...|\n",
            "| 28|  Male|  Celeste Lollis|    PF| 21267|   45|Jeannetta Golden_...|\n",
            "| 29|Female|    Elenore Choy|    DB| 32877|   29|Billi Clore_Mitzi...|\n",
            "| 28|  Male|  Sheryll Towler|   DSA| 41487|   41|Claude Panos_Judi...|\n",
            "| 28|  Male|  Margene Moores|   MVC| 52771|   32|Toshiko Hillyard_...|\n",
            "| 28|  Male|     Neda Briski|   OOP| 61973|   69|Alberta Freund_El...|\n",
            "| 28|Female|    Claude Panos| Cloud| 72409|   85|Sheryll Towler_Al...|\n",
            "| 28|  Male|  Celeste Lollis|   MVC| 81492|   64|Nicole Harwood_Cl...|\n",
            "| 29|  Male|  Cordie Harnois|   OOP| 92882|   51|Judie Chipps_Clem...|\n",
            "| 29|Female|       Kena Wild|   DSA|102285|   35|Dustin Feagins_Ma...|\n",
            "| 29|  Male| Ernest Rossbach|    DB|111449|   53|Maybell Duguay_Ab...|\n",
            "| 28|Female|  Latia Vanhoose|    DB|122502|   27|Latia Vanhoose_Mi...|\n",
            "| 29|Female|  Latia Vanhoose|   MVC|132110|   55|Eda Neathery_Nico...|\n",
            "| 29|  Male|     Neda Briski|    PF|141770|   42|Margene Moores_Mi...|\n",
            "| 29|Female|  Latia Vanhoose|    DB|152159|   27|Claude Panos_Sant...|\n",
            "| 29|  Male|  Loris Crossett|   MVC|161771|   36|Mitzi Seldon_Jenn...|\n",
            "| 29|  Male|  Annika Hoffman|   OOP|171660|   22|Taryn Brownlee_Mi...|\n",
            "| 29|  Male|   Santa Kerfien|    PF|182129|   56|Judie Chipps_Tary...|\n",
            "| 28|Female|Mickey Cortright|    DB|192537|   62|Ernest Rossbach_M...|\n",
            "+---+------+----------------+------+------+-----+--------------------+\n",
            "only showing top 20 rows\n",
            "\n"
          ]
        }
      ]
    },
    {
      "cell_type": "code",
      "source": [
        "df.printSchema()"
      ],
      "metadata": {
        "colab": {
          "base_uri": "https://localhost:8080/"
        },
        "id": "dgU8ac7LtkP8",
        "outputId": "c1ff8491-8074-4a75-9180-0ef02868a846"
      },
      "execution_count": 95,
      "outputs": [
        {
          "output_type": "stream",
          "name": "stdout",
          "text": [
            "root\n",
            " |-- age: integer (nullable = true)\n",
            " |-- gender: string (nullable = true)\n",
            " |-- name: string (nullable = true)\n",
            " |-- course: string (nullable = true)\n",
            " |-- roll: string (nullable = true)\n",
            " |-- marks: integer (nullable = true)\n",
            " |-- email: string (nullable = true)\n",
            "\n"
          ]
        }
      ]
    },
    {
      "cell_type": "code",
      "source": [
        "# Adicionando 10 a coluna marks\n",
        "df = df.withColumn(\"marks\", col('marks') + 10)\n",
        "df.show()"
      ],
      "metadata": {
        "colab": {
          "base_uri": "https://localhost:8080/"
        },
        "id": "ICLJ5RwGto0M",
        "outputId": "8c7d0719-3bb2-454b-cce9-ca9910169bec"
      },
      "execution_count": 98,
      "outputs": [
        {
          "output_type": "stream",
          "name": "stdout",
          "text": [
            "+---+------+----------------+------+------+-----+--------------------+\n",
            "|age|gender|            name|course|  roll|marks|               email|\n",
            "+---+------+----------------+------+------+-----+--------------------+\n",
            "| 28|Female| Hubert Oliveras|    DB|  2984|   69|Annika Hoffman_Na...|\n",
            "| 29|Female|Toshiko Hillyard| Cloud| 12899|   72|Margene Moores_Ma...|\n",
            "| 28|  Male|  Celeste Lollis|    PF| 21267|   55|Jeannetta Golden_...|\n",
            "| 29|Female|    Elenore Choy|    DB| 32877|   39|Billi Clore_Mitzi...|\n",
            "| 28|  Male|  Sheryll Towler|   DSA| 41487|   51|Claude Panos_Judi...|\n",
            "| 28|  Male|  Margene Moores|   MVC| 52771|   42|Toshiko Hillyard_...|\n",
            "| 28|  Male|     Neda Briski|   OOP| 61973|   79|Alberta Freund_El...|\n",
            "| 28|Female|    Claude Panos| Cloud| 72409|   95|Sheryll Towler_Al...|\n",
            "| 28|  Male|  Celeste Lollis|   MVC| 81492|   74|Nicole Harwood_Cl...|\n",
            "| 29|  Male|  Cordie Harnois|   OOP| 92882|   61|Judie Chipps_Clem...|\n",
            "| 29|Female|       Kena Wild|   DSA|102285|   45|Dustin Feagins_Ma...|\n",
            "| 29|  Male| Ernest Rossbach|    DB|111449|   63|Maybell Duguay_Ab...|\n",
            "| 28|Female|  Latia Vanhoose|    DB|122502|   37|Latia Vanhoose_Mi...|\n",
            "| 29|Female|  Latia Vanhoose|   MVC|132110|   65|Eda Neathery_Nico...|\n",
            "| 29|  Male|     Neda Briski|    PF|141770|   52|Margene Moores_Mi...|\n",
            "| 29|Female|  Latia Vanhoose|    DB|152159|   37|Claude Panos_Sant...|\n",
            "| 29|  Male|  Loris Crossett|   MVC|161771|   46|Mitzi Seldon_Jenn...|\n",
            "| 29|  Male|  Annika Hoffman|   OOP|171660|   32|Taryn Brownlee_Mi...|\n",
            "| 29|  Male|   Santa Kerfien|    PF|182129|   66|Judie Chipps_Tary...|\n",
            "| 28|Female|Mickey Cortright|    DB|192537|   72|Ernest Rossbach_M...|\n",
            "+---+------+----------------+------+------+-----+--------------------+\n",
            "only showing top 20 rows\n",
            "\n"
          ]
        }
      ]
    },
    {
      "cell_type": "code",
      "source": [
        "#Criando uma nova coluna\n",
        "df = df.withColumn(\"aggregated marks\", col('marks') -10)\n",
        "df.show()"
      ],
      "metadata": {
        "colab": {
          "base_uri": "https://localhost:8080/"
        },
        "id": "DZFTxiPawb2f",
        "outputId": "6604c1bf-50d4-4388-e98f-e8dc32a76fff"
      },
      "execution_count": 108,
      "outputs": [
        {
          "output_type": "stream",
          "name": "stdout",
          "text": [
            "+---+------+----------------+------+------+-----+--------------------+----------------+-------+\n",
            "|age|gender|            name|course|  roll|marks|               email|aggregated marks|Country|\n",
            "+---+------+----------------+------+------+-----+--------------------+----------------+-------+\n",
            "| 28|Female| Hubert Oliveras|    DB|  2984|   59|Annika Hoffman_Na...|              49|    USA|\n",
            "| 29|Female|Toshiko Hillyard| Cloud| 12899|   62|Margene Moores_Ma...|              52|    USA|\n",
            "| 28|  Male|  Celeste Lollis|    PF| 21267|   45|Jeannetta Golden_...|              35|    USA|\n",
            "| 29|Female|    Elenore Choy|    DB| 32877|   29|Billi Clore_Mitzi...|              19|    USA|\n",
            "| 28|  Male|  Sheryll Towler|   DSA| 41487|   41|Claude Panos_Judi...|              31|    USA|\n",
            "| 28|  Male|  Margene Moores|   MVC| 52771|   32|Toshiko Hillyard_...|              22|    USA|\n",
            "| 28|  Male|     Neda Briski|   OOP| 61973|   69|Alberta Freund_El...|              59|    USA|\n",
            "| 28|Female|    Claude Panos| Cloud| 72409|   85|Sheryll Towler_Al...|              75|    USA|\n",
            "| 28|  Male|  Celeste Lollis|   MVC| 81492|   64|Nicole Harwood_Cl...|              54|    USA|\n",
            "| 29|  Male|  Cordie Harnois|   OOP| 92882|   51|Judie Chipps_Clem...|              41|    USA|\n",
            "| 29|Female|       Kena Wild|   DSA|102285|   35|Dustin Feagins_Ma...|              25|    USA|\n",
            "| 29|  Male| Ernest Rossbach|    DB|111449|   53|Maybell Duguay_Ab...|              43|    USA|\n",
            "| 28|Female|  Latia Vanhoose|    DB|122502|   27|Latia Vanhoose_Mi...|              17|    USA|\n",
            "| 29|Female|  Latia Vanhoose|   MVC|132110|   55|Eda Neathery_Nico...|              45|    USA|\n",
            "| 29|  Male|     Neda Briski|    PF|141770|   42|Margene Moores_Mi...|              32|    USA|\n",
            "| 29|Female|  Latia Vanhoose|    DB|152159|   27|Claude Panos_Sant...|              17|    USA|\n",
            "| 29|  Male|  Loris Crossett|   MVC|161771|   36|Mitzi Seldon_Jenn...|              26|    USA|\n",
            "| 29|  Male|  Annika Hoffman|   OOP|171660|   22|Taryn Brownlee_Mi...|              12|    USA|\n",
            "| 29|  Male|   Santa Kerfien|    PF|182129|   56|Judie Chipps_Tary...|              46|    USA|\n",
            "| 28|Female|Mickey Cortright|    DB|192537|   62|Ernest Rossbach_M...|              52|    USA|\n",
            "+---+------+----------------+------+------+-----+--------------------+----------------+-------+\n",
            "only showing top 20 rows\n",
            "\n"
          ]
        }
      ]
    },
    {
      "cell_type": "code",
      "source": [
        "from pyspark.sql.functions import col, lit\n",
        "df = df.withColumn(\"Country\", lit(\"USA\"))\n",
        "df.show()"
      ],
      "metadata": {
        "colab": {
          "base_uri": "https://localhost:8080/"
        },
        "id": "fD_arKyIxCzY",
        "outputId": "4db99f9a-72b7-4df2-d1d1-0f6f05015ae5"
      },
      "execution_count": 104,
      "outputs": [
        {
          "output_type": "stream",
          "name": "stdout",
          "text": [
            "+---+------+----------------+------+------+-----+--------------------+----------------+-------+\n",
            "|age|gender|            name|course|  roll|marks|               email|aggregated marks|Country|\n",
            "+---+------+----------------+------+------+-----+--------------------+----------------+-------+\n",
            "| 28|Female| Hubert Oliveras|    DB|  2984|   59|Annika Hoffman_Na...|              49|    USA|\n",
            "| 29|Female|Toshiko Hillyard| Cloud| 12899|   62|Margene Moores_Ma...|              52|    USA|\n",
            "| 28|  Male|  Celeste Lollis|    PF| 21267|   45|Jeannetta Golden_...|              35|    USA|\n",
            "| 29|Female|    Elenore Choy|    DB| 32877|   29|Billi Clore_Mitzi...|              19|    USA|\n",
            "| 28|  Male|  Sheryll Towler|   DSA| 41487|   41|Claude Panos_Judi...|              31|    USA|\n",
            "| 28|  Male|  Margene Moores|   MVC| 52771|   32|Toshiko Hillyard_...|              22|    USA|\n",
            "| 28|  Male|     Neda Briski|   OOP| 61973|   69|Alberta Freund_El...|              59|    USA|\n",
            "| 28|Female|    Claude Panos| Cloud| 72409|   85|Sheryll Towler_Al...|              75|    USA|\n",
            "| 28|  Male|  Celeste Lollis|   MVC| 81492|   64|Nicole Harwood_Cl...|              54|    USA|\n",
            "| 29|  Male|  Cordie Harnois|   OOP| 92882|   51|Judie Chipps_Clem...|              41|    USA|\n",
            "| 29|Female|       Kena Wild|   DSA|102285|   35|Dustin Feagins_Ma...|              25|    USA|\n",
            "| 29|  Male| Ernest Rossbach|    DB|111449|   53|Maybell Duguay_Ab...|              43|    USA|\n",
            "| 28|Female|  Latia Vanhoose|    DB|122502|   27|Latia Vanhoose_Mi...|              17|    USA|\n",
            "| 29|Female|  Latia Vanhoose|   MVC|132110|   55|Eda Neathery_Nico...|              45|    USA|\n",
            "| 29|  Male|     Neda Briski|    PF|141770|   42|Margene Moores_Mi...|              32|    USA|\n",
            "| 29|Female|  Latia Vanhoose|    DB|152159|   27|Claude Panos_Sant...|              17|    USA|\n",
            "| 29|  Male|  Loris Crossett|   MVC|161771|   36|Mitzi Seldon_Jenn...|              26|    USA|\n",
            "| 29|  Male|  Annika Hoffman|   OOP|171660|   22|Taryn Brownlee_Mi...|              12|    USA|\n",
            "| 29|  Male|   Santa Kerfien|    PF|182129|   56|Judie Chipps_Tary...|              46|    USA|\n",
            "| 28|Female|Mickey Cortright|    DB|192537|   62|Ernest Rossbach_M...|              52|    USA|\n",
            "+---+------+----------------+------+------+-----+--------------------+----------------+-------+\n",
            "only showing top 20 rows\n",
            "\n"
          ]
        }
      ]
    },
    {
      "cell_type": "code",
      "source": [
        "df.withColumn(\"marks\", col(\"marks\")- 10).withColumn(\"updated marks\", col(\"marks\") + 20).withColumn(\"Country\", lit(\"USA\")).show()"
      ],
      "metadata": {
        "colab": {
          "base_uri": "https://localhost:8080/"
        },
        "id": "X-IaWZrKxr-Z",
        "outputId": "6a422c88-3cb5-4c83-a57d-0677cf7157c9"
      },
      "execution_count": 110,
      "outputs": [
        {
          "output_type": "stream",
          "name": "stdout",
          "text": [
            "+---+------+----------------+------+------+-----+--------------------+----------------+-------+-------------+\n",
            "|age|gender|            name|course|  roll|marks|               email|aggregated marks|Country|updated marks|\n",
            "+---+------+----------------+------+------+-----+--------------------+----------------+-------+-------------+\n",
            "| 28|Female| Hubert Oliveras|    DB|  2984|   49|Annika Hoffman_Na...|              49|    USA|           69|\n",
            "| 29|Female|Toshiko Hillyard| Cloud| 12899|   52|Margene Moores_Ma...|              52|    USA|           72|\n",
            "| 28|  Male|  Celeste Lollis|    PF| 21267|   35|Jeannetta Golden_...|              35|    USA|           55|\n",
            "| 29|Female|    Elenore Choy|    DB| 32877|   19|Billi Clore_Mitzi...|              19|    USA|           39|\n",
            "| 28|  Male|  Sheryll Towler|   DSA| 41487|   31|Claude Panos_Judi...|              31|    USA|           51|\n",
            "| 28|  Male|  Margene Moores|   MVC| 52771|   22|Toshiko Hillyard_...|              22|    USA|           42|\n",
            "| 28|  Male|     Neda Briski|   OOP| 61973|   59|Alberta Freund_El...|              59|    USA|           79|\n",
            "| 28|Female|    Claude Panos| Cloud| 72409|   75|Sheryll Towler_Al...|              75|    USA|           95|\n",
            "| 28|  Male|  Celeste Lollis|   MVC| 81492|   54|Nicole Harwood_Cl...|              54|    USA|           74|\n",
            "| 29|  Male|  Cordie Harnois|   OOP| 92882|   41|Judie Chipps_Clem...|              41|    USA|           61|\n",
            "| 29|Female|       Kena Wild|   DSA|102285|   25|Dustin Feagins_Ma...|              25|    USA|           45|\n",
            "| 29|  Male| Ernest Rossbach|    DB|111449|   43|Maybell Duguay_Ab...|              43|    USA|           63|\n",
            "| 28|Female|  Latia Vanhoose|    DB|122502|   17|Latia Vanhoose_Mi...|              17|    USA|           37|\n",
            "| 29|Female|  Latia Vanhoose|   MVC|132110|   45|Eda Neathery_Nico...|              45|    USA|           65|\n",
            "| 29|  Male|     Neda Briski|    PF|141770|   32|Margene Moores_Mi...|              32|    USA|           52|\n",
            "| 29|Female|  Latia Vanhoose|    DB|152159|   17|Claude Panos_Sant...|              17|    USA|           37|\n",
            "| 29|  Male|  Loris Crossett|   MVC|161771|   26|Mitzi Seldon_Jenn...|              26|    USA|           46|\n",
            "| 29|  Male|  Annika Hoffman|   OOP|171660|   12|Taryn Brownlee_Mi...|              12|    USA|           32|\n",
            "| 29|  Male|   Santa Kerfien|    PF|182129|   46|Judie Chipps_Tary...|              46|    USA|           66|\n",
            "| 28|Female|Mickey Cortright|    DB|192537|   52|Ernest Rossbach_M...|              52|    USA|           72|\n",
            "+---+------+----------------+------+------+-----+--------------------+----------------+-------+-------------+\n",
            "only showing top 20 rows\n",
            "\n"
          ]
        }
      ]
    },
    {
      "cell_type": "markdown",
      "source": [
        "### Spark DF withcolumn renomendo e alias"
      ],
      "metadata": {
        "id": "ISPb-hAhzcdc"
      }
    },
    {
      "cell_type": "code",
      "source": [
        "from pyspark.sql import SparkSession\n",
        "spark = SparkSession.builder.appName(\"Spark DataFrames\").getOrCreate()\n",
        "df = spark.read.options(header = 'True', inferSchema = 'True').csv('/content/drive/MyDrive/PySpark/data/StudentData.csv')\n",
        "df.show()"
      ],
      "metadata": {
        "colab": {
          "base_uri": "https://localhost:8080/"
        },
        "id": "vhBZ5F5CzjK_",
        "outputId": "7c10e526-8008-4113-e02d-7519b35dfeb2"
      },
      "execution_count": 5,
      "outputs": [
        {
          "output_type": "stream",
          "name": "stdout",
          "text": [
            "+---+------+----------------+------+------+-----+--------------------+\n",
            "|age|gender|            name|course|  roll|marks|               email|\n",
            "+---+------+----------------+------+------+-----+--------------------+\n",
            "| 28|Female| Hubert Oliveras|    DB|  2984|   59|Annika Hoffman_Na...|\n",
            "| 29|Female|Toshiko Hillyard| Cloud| 12899|   62|Margene Moores_Ma...|\n",
            "| 28|  Male|  Celeste Lollis|    PF| 21267|   45|Jeannetta Golden_...|\n",
            "| 29|Female|    Elenore Choy|    DB| 32877|   29|Billi Clore_Mitzi...|\n",
            "| 28|  Male|  Sheryll Towler|   DSA| 41487|   41|Claude Panos_Judi...|\n",
            "| 28|  Male|  Margene Moores|   MVC| 52771|   32|Toshiko Hillyard_...|\n",
            "| 28|  Male|     Neda Briski|   OOP| 61973|   69|Alberta Freund_El...|\n",
            "| 28|Female|    Claude Panos| Cloud| 72409|   85|Sheryll Towler_Al...|\n",
            "| 28|  Male|  Celeste Lollis|   MVC| 81492|   64|Nicole Harwood_Cl...|\n",
            "| 29|  Male|  Cordie Harnois|   OOP| 92882|   51|Judie Chipps_Clem...|\n",
            "| 29|Female|       Kena Wild|   DSA|102285|   35|Dustin Feagins_Ma...|\n",
            "| 29|  Male| Ernest Rossbach|    DB|111449|   53|Maybell Duguay_Ab...|\n",
            "| 28|Female|  Latia Vanhoose|    DB|122502|   27|Latia Vanhoose_Mi...|\n",
            "| 29|Female|  Latia Vanhoose|   MVC|132110|   55|Eda Neathery_Nico...|\n",
            "| 29|  Male|     Neda Briski|    PF|141770|   42|Margene Moores_Mi...|\n",
            "| 29|Female|  Latia Vanhoose|    DB|152159|   27|Claude Panos_Sant...|\n",
            "| 29|  Male|  Loris Crossett|   MVC|161771|   36|Mitzi Seldon_Jenn...|\n",
            "| 29|  Male|  Annika Hoffman|   OOP|171660|   22|Taryn Brownlee_Mi...|\n",
            "| 29|  Male|   Santa Kerfien|    PF|182129|   56|Judie Chipps_Tary...|\n",
            "| 28|Female|Mickey Cortright|    DB|192537|   62|Ernest Rossbach_M...|\n",
            "+---+------+----------------+------+------+-----+--------------------+\n",
            "only showing top 20 rows\n",
            "\n"
          ]
        }
      ]
    },
    {
      "cell_type": "code",
      "source": [
        "#renomenando uma coluna\n",
        "df = df.withColumnRenamed(\"gender\",\"sex\").withColumnRenamed(\"roll\", \"Roll namber\")\n",
        "df.show()"
      ],
      "metadata": {
        "colab": {
          "base_uri": "https://localhost:8080/"
        },
        "id": "e94rviRUzyJK",
        "outputId": "966b2f01-cad5-454c-b5f3-021599b98ea1"
      },
      "execution_count": 7,
      "outputs": [
        {
          "output_type": "stream",
          "name": "stdout",
          "text": [
            "+---+------+----------------+------+-----------+-----+--------------------+\n",
            "|age|   sex|            name|course|Roll namber|marks|               email|\n",
            "+---+------+----------------+------+-----------+-----+--------------------+\n",
            "| 28|Female| Hubert Oliveras|    DB|       2984|   59|Annika Hoffman_Na...|\n",
            "| 29|Female|Toshiko Hillyard| Cloud|      12899|   62|Margene Moores_Ma...|\n",
            "| 28|  Male|  Celeste Lollis|    PF|      21267|   45|Jeannetta Golden_...|\n",
            "| 29|Female|    Elenore Choy|    DB|      32877|   29|Billi Clore_Mitzi...|\n",
            "| 28|  Male|  Sheryll Towler|   DSA|      41487|   41|Claude Panos_Judi...|\n",
            "| 28|  Male|  Margene Moores|   MVC|      52771|   32|Toshiko Hillyard_...|\n",
            "| 28|  Male|     Neda Briski|   OOP|      61973|   69|Alberta Freund_El...|\n",
            "| 28|Female|    Claude Panos| Cloud|      72409|   85|Sheryll Towler_Al...|\n",
            "| 28|  Male|  Celeste Lollis|   MVC|      81492|   64|Nicole Harwood_Cl...|\n",
            "| 29|  Male|  Cordie Harnois|   OOP|      92882|   51|Judie Chipps_Clem...|\n",
            "| 29|Female|       Kena Wild|   DSA|     102285|   35|Dustin Feagins_Ma...|\n",
            "| 29|  Male| Ernest Rossbach|    DB|     111449|   53|Maybell Duguay_Ab...|\n",
            "| 28|Female|  Latia Vanhoose|    DB|     122502|   27|Latia Vanhoose_Mi...|\n",
            "| 29|Female|  Latia Vanhoose|   MVC|     132110|   55|Eda Neathery_Nico...|\n",
            "| 29|  Male|     Neda Briski|    PF|     141770|   42|Margene Moores_Mi...|\n",
            "| 29|Female|  Latia Vanhoose|    DB|     152159|   27|Claude Panos_Sant...|\n",
            "| 29|  Male|  Loris Crossett|   MVC|     161771|   36|Mitzi Seldon_Jenn...|\n",
            "| 29|  Male|  Annika Hoffman|   OOP|     171660|   22|Taryn Brownlee_Mi...|\n",
            "| 29|  Male|   Santa Kerfien|    PF|     182129|   56|Judie Chipps_Tary...|\n",
            "| 28|Female|Mickey Cortright|    DB|     192537|   62|Ernest Rossbach_M...|\n",
            "+---+------+----------------+------+-----------+-----+--------------------+\n",
            "only showing top 20 rows\n",
            "\n"
          ]
        }
      ]
    },
    {
      "cell_type": "markdown",
      "source": [
        "* utlizando o alias"
      ],
      "metadata": {
        "id": "9XfD0BXO0vtq"
      }
    },
    {
      "cell_type": "code",
      "source": [
        "from pyspark.sql.functions import col, lit\n",
        "df.select(col(\"name\").alias(\"Full name\")).show()"
      ],
      "metadata": {
        "colab": {
          "base_uri": "https://localhost:8080/"
        },
        "id": "yUO_g22G0keF",
        "outputId": "c8eb789c-fa86-4d4e-ab3b-9df0d82e503a"
      },
      "execution_count": 9,
      "outputs": [
        {
          "output_type": "stream",
          "name": "stdout",
          "text": [
            "+----------------+\n",
            "|       Full name|\n",
            "+----------------+\n",
            "| Hubert Oliveras|\n",
            "|Toshiko Hillyard|\n",
            "|  Celeste Lollis|\n",
            "|    Elenore Choy|\n",
            "|  Sheryll Towler|\n",
            "|  Margene Moores|\n",
            "|     Neda Briski|\n",
            "|    Claude Panos|\n",
            "|  Celeste Lollis|\n",
            "|  Cordie Harnois|\n",
            "|       Kena Wild|\n",
            "| Ernest Rossbach|\n",
            "|  Latia Vanhoose|\n",
            "|  Latia Vanhoose|\n",
            "|     Neda Briski|\n",
            "|  Latia Vanhoose|\n",
            "|  Loris Crossett|\n",
            "|  Annika Hoffman|\n",
            "|   Santa Kerfien|\n",
            "|Mickey Cortright|\n",
            "+----------------+\n",
            "only showing top 20 rows\n",
            "\n"
          ]
        }
      ]
    },
    {
      "cell_type": "markdown",
      "source": [
        "## withColumnRenamed no DataFrame"
      ],
      "metadata": {
        "id": "NcSukU7BhXFd"
      }
    },
    {
      "cell_type": "code",
      "source": [
        "from pyspark.sql import SparkSession\n",
        "from pyspark.sql.functions import col, lit\n",
        "spark = SparkSession.builder.appName(\"Spark DataFrames\").getOrCreate()\n",
        "df = spark.read.options(header = 'True', inferSchema = 'True').csv('/content/drive/MyDrive/PySpark/data/StudentData.csv')\n",
        "df.show()"
      ],
      "metadata": {
        "colab": {
          "base_uri": "https://localhost:8080/"
        },
        "id": "vVDPRaQehffE",
        "outputId": "58632bff-414c-4a01-904a-f116f5dd4021"
      },
      "execution_count": 10,
      "outputs": [
        {
          "output_type": "stream",
          "name": "stdout",
          "text": [
            "+---+------+----------------+------+------+-----+--------------------+\n",
            "|age|gender|            name|course|  roll|marks|               email|\n",
            "+---+------+----------------+------+------+-----+--------------------+\n",
            "| 28|Female| Hubert Oliveras|    DB|  2984|   59|Annika Hoffman_Na...|\n",
            "| 29|Female|Toshiko Hillyard| Cloud| 12899|   62|Margene Moores_Ma...|\n",
            "| 28|  Male|  Celeste Lollis|    PF| 21267|   45|Jeannetta Golden_...|\n",
            "| 29|Female|    Elenore Choy|    DB| 32877|   29|Billi Clore_Mitzi...|\n",
            "| 28|  Male|  Sheryll Towler|   DSA| 41487|   41|Claude Panos_Judi...|\n",
            "| 28|  Male|  Margene Moores|   MVC| 52771|   32|Toshiko Hillyard_...|\n",
            "| 28|  Male|     Neda Briski|   OOP| 61973|   69|Alberta Freund_El...|\n",
            "| 28|Female|    Claude Panos| Cloud| 72409|   85|Sheryll Towler_Al...|\n",
            "| 28|  Male|  Celeste Lollis|   MVC| 81492|   64|Nicole Harwood_Cl...|\n",
            "| 29|  Male|  Cordie Harnois|   OOP| 92882|   51|Judie Chipps_Clem...|\n",
            "| 29|Female|       Kena Wild|   DSA|102285|   35|Dustin Feagins_Ma...|\n",
            "| 29|  Male| Ernest Rossbach|    DB|111449|   53|Maybell Duguay_Ab...|\n",
            "| 28|Female|  Latia Vanhoose|    DB|122502|   27|Latia Vanhoose_Mi...|\n",
            "| 29|Female|  Latia Vanhoose|   MVC|132110|   55|Eda Neathery_Nico...|\n",
            "| 29|  Male|     Neda Briski|    PF|141770|   42|Margene Moores_Mi...|\n",
            "| 29|Female|  Latia Vanhoose|    DB|152159|   27|Claude Panos_Sant...|\n",
            "| 29|  Male|  Loris Crossett|   MVC|161771|   36|Mitzi Seldon_Jenn...|\n",
            "| 29|  Male|  Annika Hoffman|   OOP|171660|   22|Taryn Brownlee_Mi...|\n",
            "| 29|  Male|   Santa Kerfien|    PF|182129|   56|Judie Chipps_Tary...|\n",
            "| 28|Female|Mickey Cortright|    DB|192537|   62|Ernest Rossbach_M...|\n",
            "+---+------+----------------+------+------+-----+--------------------+\n",
            "only showing top 20 rows\n",
            "\n"
          ]
        }
      ]
    },
    {
      "cell_type": "code",
      "source": [
        "df = df.withColumnRenamed(\"gender\", \"sex\").withColumnRenamed(\"roll\", \"roll number\")\n",
        "df.show()"
      ],
      "metadata": {
        "colab": {
          "base_uri": "https://localhost:8080/"
        },
        "id": "9jBZHVdVhsWG",
        "outputId": "83eedbdd-0b6c-4037-d02d-2d5890e969e8"
      },
      "execution_count": 12,
      "outputs": [
        {
          "output_type": "stream",
          "name": "stdout",
          "text": [
            "+---+------+----------------+------+-----------+-----+--------------------+\n",
            "|age|   sex|            name|course|roll number|marks|               email|\n",
            "+---+------+----------------+------+-----------+-----+--------------------+\n",
            "| 28|Female| Hubert Oliveras|    DB|       2984|   59|Annika Hoffman_Na...|\n",
            "| 29|Female|Toshiko Hillyard| Cloud|      12899|   62|Margene Moores_Ma...|\n",
            "| 28|  Male|  Celeste Lollis|    PF|      21267|   45|Jeannetta Golden_...|\n",
            "| 29|Female|    Elenore Choy|    DB|      32877|   29|Billi Clore_Mitzi...|\n",
            "| 28|  Male|  Sheryll Towler|   DSA|      41487|   41|Claude Panos_Judi...|\n",
            "| 28|  Male|  Margene Moores|   MVC|      52771|   32|Toshiko Hillyard_...|\n",
            "| 28|  Male|     Neda Briski|   OOP|      61973|   69|Alberta Freund_El...|\n",
            "| 28|Female|    Claude Panos| Cloud|      72409|   85|Sheryll Towler_Al...|\n",
            "| 28|  Male|  Celeste Lollis|   MVC|      81492|   64|Nicole Harwood_Cl...|\n",
            "| 29|  Male|  Cordie Harnois|   OOP|      92882|   51|Judie Chipps_Clem...|\n",
            "| 29|Female|       Kena Wild|   DSA|     102285|   35|Dustin Feagins_Ma...|\n",
            "| 29|  Male| Ernest Rossbach|    DB|     111449|   53|Maybell Duguay_Ab...|\n",
            "| 28|Female|  Latia Vanhoose|    DB|     122502|   27|Latia Vanhoose_Mi...|\n",
            "| 29|Female|  Latia Vanhoose|   MVC|     132110|   55|Eda Neathery_Nico...|\n",
            "| 29|  Male|     Neda Briski|    PF|     141770|   42|Margene Moores_Mi...|\n",
            "| 29|Female|  Latia Vanhoose|    DB|     152159|   27|Claude Panos_Sant...|\n",
            "| 29|  Male|  Loris Crossett|   MVC|     161771|   36|Mitzi Seldon_Jenn...|\n",
            "| 29|  Male|  Annika Hoffman|   OOP|     171660|   22|Taryn Brownlee_Mi...|\n",
            "| 29|  Male|   Santa Kerfien|    PF|     182129|   56|Judie Chipps_Tary...|\n",
            "| 28|Female|Mickey Cortright|    DB|     192537|   62|Ernest Rossbach_M...|\n",
            "+---+------+----------------+------+-----------+-----+--------------------+\n",
            "only showing top 20 rows\n",
            "\n"
          ]
        }
      ]
    },
    {
      "cell_type": "code",
      "source": [
        "df.select(col(\"name\").alias(\"Full Name\")).show()"
      ],
      "metadata": {
        "colab": {
          "base_uri": "https://localhost:8080/"
        },
        "id": "SN6ZjkShiaQN",
        "outputId": "ecc05fb1-93c5-46e8-f7fe-8d2072864a0d"
      },
      "execution_count": 14,
      "outputs": [
        {
          "output_type": "stream",
          "name": "stdout",
          "text": [
            "+----------------+\n",
            "|       Full Name|\n",
            "+----------------+\n",
            "| Hubert Oliveras|\n",
            "|Toshiko Hillyard|\n",
            "|  Celeste Lollis|\n",
            "|    Elenore Choy|\n",
            "|  Sheryll Towler|\n",
            "|  Margene Moores|\n",
            "|     Neda Briski|\n",
            "|    Claude Panos|\n",
            "|  Celeste Lollis|\n",
            "|  Cordie Harnois|\n",
            "|       Kena Wild|\n",
            "| Ernest Rossbach|\n",
            "|  Latia Vanhoose|\n",
            "|  Latia Vanhoose|\n",
            "|     Neda Briski|\n",
            "|  Latia Vanhoose|\n",
            "|  Loris Crossett|\n",
            "|  Annika Hoffman|\n",
            "|   Santa Kerfien|\n",
            "|Mickey Cortright|\n",
            "+----------------+\n",
            "only showing top 20 rows\n",
            "\n"
          ]
        }
      ]
    },
    {
      "cell_type": "markdown",
      "source": [
        "## filter / where no DataFrame"
      ],
      "metadata": {
        "id": "0O0H5Mzri9C3"
      }
    },
    {
      "cell_type": "code",
      "source": [
        "from pyspark.sql import SparkSession\n",
        "from pyspark.sql.functions import col, lit\n",
        "spark = SparkSession.builder.appName(\"Spark DataFrames\").getOrCreate()\n",
        "df = spark.read.options(header = 'True', inferSchema = 'True').csv('/content/drive/MyDrive/PySpark/data/StudentData.csv')\n",
        "df.show()"
      ],
      "metadata": {
        "colab": {
          "base_uri": "https://localhost:8080/"
        },
        "id": "fLskSeNLjBut",
        "outputId": "c2a1ae97-3f20-4223-d625-d10b6282ebfd"
      },
      "execution_count": 15,
      "outputs": [
        {
          "output_type": "stream",
          "name": "stdout",
          "text": [
            "+---+------+----------------+------+------+-----+--------------------+\n",
            "|age|gender|            name|course|  roll|marks|               email|\n",
            "+---+------+----------------+------+------+-----+--------------------+\n",
            "| 28|Female| Hubert Oliveras|    DB|  2984|   59|Annika Hoffman_Na...|\n",
            "| 29|Female|Toshiko Hillyard| Cloud| 12899|   62|Margene Moores_Ma...|\n",
            "| 28|  Male|  Celeste Lollis|    PF| 21267|   45|Jeannetta Golden_...|\n",
            "| 29|Female|    Elenore Choy|    DB| 32877|   29|Billi Clore_Mitzi...|\n",
            "| 28|  Male|  Sheryll Towler|   DSA| 41487|   41|Claude Panos_Judi...|\n",
            "| 28|  Male|  Margene Moores|   MVC| 52771|   32|Toshiko Hillyard_...|\n",
            "| 28|  Male|     Neda Briski|   OOP| 61973|   69|Alberta Freund_El...|\n",
            "| 28|Female|    Claude Panos| Cloud| 72409|   85|Sheryll Towler_Al...|\n",
            "| 28|  Male|  Celeste Lollis|   MVC| 81492|   64|Nicole Harwood_Cl...|\n",
            "| 29|  Male|  Cordie Harnois|   OOP| 92882|   51|Judie Chipps_Clem...|\n",
            "| 29|Female|       Kena Wild|   DSA|102285|   35|Dustin Feagins_Ma...|\n",
            "| 29|  Male| Ernest Rossbach|    DB|111449|   53|Maybell Duguay_Ab...|\n",
            "| 28|Female|  Latia Vanhoose|    DB|122502|   27|Latia Vanhoose_Mi...|\n",
            "| 29|Female|  Latia Vanhoose|   MVC|132110|   55|Eda Neathery_Nico...|\n",
            "| 29|  Male|     Neda Briski|    PF|141770|   42|Margene Moores_Mi...|\n",
            "| 29|Female|  Latia Vanhoose|    DB|152159|   27|Claude Panos_Sant...|\n",
            "| 29|  Male|  Loris Crossett|   MVC|161771|   36|Mitzi Seldon_Jenn...|\n",
            "| 29|  Male|  Annika Hoffman|   OOP|171660|   22|Taryn Brownlee_Mi...|\n",
            "| 29|  Male|   Santa Kerfien|    PF|182129|   56|Judie Chipps_Tary...|\n",
            "| 28|Female|Mickey Cortright|    DB|192537|   62|Ernest Rossbach_M...|\n",
            "+---+------+----------------+------+------+-----+--------------------+\n",
            "only showing top 20 rows\n",
            "\n"
          ]
        }
      ]
    },
    {
      "cell_type": "code",
      "source": [
        "df.filter(df.course == \"DB\").show()"
      ],
      "metadata": {
        "colab": {
          "base_uri": "https://localhost:8080/"
        },
        "id": "qjlkDI1ajKmi",
        "outputId": "d0d6ccae-0174-43c6-cb75-7213870de4a7"
      },
      "execution_count": 17,
      "outputs": [
        {
          "output_type": "stream",
          "name": "stdout",
          "text": [
            "+---+------+-----------------+------+-------+-----+--------------------+\n",
            "|age|gender|             name|course|   roll|marks|               email|\n",
            "+---+------+-----------------+------+-------+-----+--------------------+\n",
            "| 28|Female|  Hubert Oliveras|    DB|   2984|   59|Annika Hoffman_Na...|\n",
            "| 29|Female|     Elenore Choy|    DB|  32877|   29|Billi Clore_Mitzi...|\n",
            "| 29|  Male|  Ernest Rossbach|    DB| 111449|   53|Maybell Duguay_Ab...|\n",
            "| 28|Female|   Latia Vanhoose|    DB| 122502|   27|Latia Vanhoose_Mi...|\n",
            "| 29|Female|   Latia Vanhoose|    DB| 152159|   27|Claude Panos_Sant...|\n",
            "| 28|Female| Mickey Cortright|    DB| 192537|   62|Ernest Rossbach_M...|\n",
            "| 28|Female|      Anna Santos|    DB| 311589|   79|Celeste Lollis_Mi...|\n",
            "| 28|  Male|    Kizzy Brenner|    DB| 381712|   36|Paris Hutton_Kena...|\n",
            "| 28|  Male| Toshiko Hillyard|    DB| 392218|   47|Leontine Phillips...|\n",
            "| 29|  Male|     Paris Hutton|    DB| 481229|   57|Clementina Menke_...|\n",
            "| 28|Female| Mickey Cortright|    DB| 551389|   43|Tijuana Kropf_Jen...|\n",
            "| 28|Female|Leontine Phillips|    DB| 602404|   48|Neda Briski_Cheri...|\n",
            "| 28|Female|  Hubert Oliveras|    DB| 771081|   79|Kizzy Brenner_Dus...|\n",
            "| 29|Female|     Elenore Choy|    DB| 811824|   55|Maybell Duguay_Me...|\n",
            "| 29|  Male| Clementina Menke|    DB| 882200|   76|Michelle Ruggiero...|\n",
            "| 29|Female|  Sebrina Maresca|    DB| 922210|   54|Toshiko Hillyard_...|\n",
            "| 29|  Male|     Naoma Fritts|    DB| 931295|   79|Hubert Oliveras_S...|\n",
            "| 28|  Male|   Annika Hoffman|    DB|1031544|   44|Dustin Feagins_So...|\n",
            "| 28|  Male|   Nicole Harwood|    DB|1211495|   28|Melani Engberg_Jc...|\n",
            "| 29|Female|     Claude Panos|    DB|1222887|   75|Hubert Oliveras_S...|\n",
            "+---+------+-----------------+------+-------+-----+--------------------+\n",
            "only showing top 20 rows\n",
            "\n"
          ]
        }
      ]
    },
    {
      "cell_type": "code",
      "source": [
        "df.filter(col(\"course\") == \"DB\").show()"
      ],
      "metadata": {
        "colab": {
          "base_uri": "https://localhost:8080/"
        },
        "id": "un_Y5lBOjZ6A",
        "outputId": "1c10cdbc-74e5-4825-9b05-150ff2b8fa66"
      },
      "execution_count": 18,
      "outputs": [
        {
          "output_type": "stream",
          "name": "stdout",
          "text": [
            "+---+------+-----------------+------+-------+-----+--------------------+\n",
            "|age|gender|             name|course|   roll|marks|               email|\n",
            "+---+------+-----------------+------+-------+-----+--------------------+\n",
            "| 28|Female|  Hubert Oliveras|    DB|   2984|   59|Annika Hoffman_Na...|\n",
            "| 29|Female|     Elenore Choy|    DB|  32877|   29|Billi Clore_Mitzi...|\n",
            "| 29|  Male|  Ernest Rossbach|    DB| 111449|   53|Maybell Duguay_Ab...|\n",
            "| 28|Female|   Latia Vanhoose|    DB| 122502|   27|Latia Vanhoose_Mi...|\n",
            "| 29|Female|   Latia Vanhoose|    DB| 152159|   27|Claude Panos_Sant...|\n",
            "| 28|Female| Mickey Cortright|    DB| 192537|   62|Ernest Rossbach_M...|\n",
            "| 28|Female|      Anna Santos|    DB| 311589|   79|Celeste Lollis_Mi...|\n",
            "| 28|  Male|    Kizzy Brenner|    DB| 381712|   36|Paris Hutton_Kena...|\n",
            "| 28|  Male| Toshiko Hillyard|    DB| 392218|   47|Leontine Phillips...|\n",
            "| 29|  Male|     Paris Hutton|    DB| 481229|   57|Clementina Menke_...|\n",
            "| 28|Female| Mickey Cortright|    DB| 551389|   43|Tijuana Kropf_Jen...|\n",
            "| 28|Female|Leontine Phillips|    DB| 602404|   48|Neda Briski_Cheri...|\n",
            "| 28|Female|  Hubert Oliveras|    DB| 771081|   79|Kizzy Brenner_Dus...|\n",
            "| 29|Female|     Elenore Choy|    DB| 811824|   55|Maybell Duguay_Me...|\n",
            "| 29|  Male| Clementina Menke|    DB| 882200|   76|Michelle Ruggiero...|\n",
            "| 29|Female|  Sebrina Maresca|    DB| 922210|   54|Toshiko Hillyard_...|\n",
            "| 29|  Male|     Naoma Fritts|    DB| 931295|   79|Hubert Oliveras_S...|\n",
            "| 28|  Male|   Annika Hoffman|    DB|1031544|   44|Dustin Feagins_So...|\n",
            "| 28|  Male|   Nicole Harwood|    DB|1211495|   28|Melani Engberg_Jc...|\n",
            "| 29|Female|     Claude Panos|    DB|1222887|   75|Hubert Oliveras_S...|\n",
            "+---+------+-----------------+------+-------+-----+--------------------+\n",
            "only showing top 20 rows\n",
            "\n"
          ]
        }
      ]
    },
    {
      "cell_type": "code",
      "source": [
        "# Multiplas condições\n",
        "df.filter( (df.course == \"DB\") & (df.marks > 50) ).show()"
      ],
      "metadata": {
        "colab": {
          "base_uri": "https://localhost:8080/"
        },
        "id": "gidP3E_Yjqi1",
        "outputId": "a96cf9f5-2d42-4b67-9e7e-9f22c155775a"
      },
      "execution_count": 20,
      "outputs": [
        {
          "output_type": "stream",
          "name": "stdout",
          "text": [
            "+---+------+------------------+------+-------+-----+--------------------+\n",
            "|age|gender|              name|course|   roll|marks|               email|\n",
            "+---+------+------------------+------+-------+-----+--------------------+\n",
            "| 28|Female|   Hubert Oliveras|    DB|   2984|   59|Annika Hoffman_Na...|\n",
            "| 29|  Male|   Ernest Rossbach|    DB| 111449|   53|Maybell Duguay_Ab...|\n",
            "| 28|Female|  Mickey Cortright|    DB| 192537|   62|Ernest Rossbach_M...|\n",
            "| 28|Female|       Anna Santos|    DB| 311589|   79|Celeste Lollis_Mi...|\n",
            "| 29|  Male|      Paris Hutton|    DB| 481229|   57|Clementina Menke_...|\n",
            "| 28|Female|   Hubert Oliveras|    DB| 771081|   79|Kizzy Brenner_Dus...|\n",
            "| 29|Female|      Elenore Choy|    DB| 811824|   55|Maybell Duguay_Me...|\n",
            "| 29|  Male|  Clementina Menke|    DB| 882200|   76|Michelle Ruggiero...|\n",
            "| 29|Female|   Sebrina Maresca|    DB| 922210|   54|Toshiko Hillyard_...|\n",
            "| 29|  Male|      Naoma Fritts|    DB| 931295|   79|Hubert Oliveras_S...|\n",
            "| 29|Female|      Claude Panos|    DB|1222887|   75|Hubert Oliveras_S...|\n",
            "| 29|Female| Leontine Phillips|    DB|1432252|   67|Billi Clore_Shery...|\n",
            "| 28|Female|   Gonzalo Ferebee|    DB|1451513|   69|Claude Panos_Tame...|\n",
            "| 28|  Male|   Marylee Capasso|    DB|1611411|   96|Annika Hoffman_Lo...|\n",
            "| 29|  Male|    Alberta Freund|    DB|1671638|   98|Clementina Menke_...|\n",
            "| 28|Female|Priscila Tavernier|    DB|1722388|   86|Lawanda Wohlwend_...|\n",
            "| 29|  Male|    Dustin Feagins|    DB|1782045|   81|Cordie Harnois_To...|\n",
            "| 29|  Male|     Tijuana Kropf|    DB|1882795|   92|Hubert Oliveras_E...|\n",
            "| 28|  Male|   Ernest Rossbach|    DB|1901492|   54|Latia Vanhoose_Jc...|\n",
            "| 29|Female| Leontine Phillips|    DB|1972893|   64|Marylee Capasso_E...|\n",
            "+---+------+------------------+------+-------+-----+--------------------+\n",
            "only showing top 20 rows\n",
            "\n"
          ]
        }
      ]
    },
    {
      "cell_type": "code",
      "source": [
        "courses = [\"DB\", \"Cloud\", \"OPP\", \"DSA\"]\n",
        "df.filter( df.course.isin(courses) ).show()"
      ],
      "metadata": {
        "colab": {
          "base_uri": "https://localhost:8080/"
        },
        "id": "DqKwILPMkO1C",
        "outputId": "9f8e2d98-3398-4e55-b957-38332902cbc8"
      },
      "execution_count": 21,
      "outputs": [
        {
          "output_type": "stream",
          "name": "stdout",
          "text": [
            "+---+------+----------------+------+------+-----+--------------------+\n",
            "|age|gender|            name|course|  roll|marks|               email|\n",
            "+---+------+----------------+------+------+-----+--------------------+\n",
            "| 28|Female| Hubert Oliveras|    DB|  2984|   59|Annika Hoffman_Na...|\n",
            "| 29|Female|Toshiko Hillyard| Cloud| 12899|   62|Margene Moores_Ma...|\n",
            "| 29|Female|    Elenore Choy|    DB| 32877|   29|Billi Clore_Mitzi...|\n",
            "| 28|  Male|  Sheryll Towler|   DSA| 41487|   41|Claude Panos_Judi...|\n",
            "| 28|Female|    Claude Panos| Cloud| 72409|   85|Sheryll Towler_Al...|\n",
            "| 29|Female|       Kena Wild|   DSA|102285|   35|Dustin Feagins_Ma...|\n",
            "| 29|  Male| Ernest Rossbach|    DB|111449|   53|Maybell Duguay_Ab...|\n",
            "| 28|Female|  Latia Vanhoose|    DB|122502|   27|Latia Vanhoose_Mi...|\n",
            "| 29|Female|  Latia Vanhoose|    DB|152159|   27|Claude Panos_Sant...|\n",
            "| 28|Female|Mickey Cortright|    DB|192537|   62|Ernest Rossbach_M...|\n",
            "| 28|Female|       Kena Wild| Cloud|221750|   60|Mitzi Seldon_Jenn...|\n",
            "| 28|Female|    Jc Andrepont|   DSA|232060|   58|Billi Clore_Abram...|\n",
            "| 29|Female|     Anna Santos| Cloud|242254|   68|Jc Andrepont_Hube...|\n",
            "| 28|Female|  Maybell Duguay| Cloud|261439|   20|Nicole Harwood_Ju...|\n",
            "| 29|Female|    Paris Hutton|   DSA|271472|   99|Sheryll Towler_Al...|\n",
            "| 29|Female|    Cheri Kenney| Cloud|281408|   43|Annika Hoffman_Me...|\n",
            "| 28|Female|  Dustin Feagins|   DSA|291984|   82|Abram Nagao_Kena ...|\n",
            "| 29|Female|    Claude Panos| Cloud|302130|   59|Sheryll Towler_Le...|\n",
            "| 28|Female|     Anna Santos|    DB|311589|   79|Celeste Lollis_Mi...|\n",
            "| 28|Female|Mickey Cortright|   DSA|342003|   44|Mitzi Seldon_Jean...|\n",
            "+---+------+----------------+------+------+-----+--------------------+\n",
            "only showing top 20 rows\n",
            "\n"
          ]
        }
      ]
    },
    {
      "cell_type": "code",
      "source": [
        "#inicia com a expressão\n",
        "df.filter( df.course.startswith(\"D\") ).show()"
      ],
      "metadata": {
        "colab": {
          "base_uri": "https://localhost:8080/"
        },
        "id": "jDXiW6JSlA03",
        "outputId": "a7044742-5583-424b-8cb8-cd9aee1683a9"
      },
      "execution_count": 22,
      "outputs": [
        {
          "output_type": "stream",
          "name": "stdout",
          "text": [
            "+---+------+----------------+------+------+-----+--------------------+\n",
            "|age|gender|            name|course|  roll|marks|               email|\n",
            "+---+------+----------------+------+------+-----+--------------------+\n",
            "| 28|Female| Hubert Oliveras|    DB|  2984|   59|Annika Hoffman_Na...|\n",
            "| 29|Female|    Elenore Choy|    DB| 32877|   29|Billi Clore_Mitzi...|\n",
            "| 28|  Male|  Sheryll Towler|   DSA| 41487|   41|Claude Panos_Judi...|\n",
            "| 29|Female|       Kena Wild|   DSA|102285|   35|Dustin Feagins_Ma...|\n",
            "| 29|  Male| Ernest Rossbach|    DB|111449|   53|Maybell Duguay_Ab...|\n",
            "| 28|Female|  Latia Vanhoose|    DB|122502|   27|Latia Vanhoose_Mi...|\n",
            "| 29|Female|  Latia Vanhoose|    DB|152159|   27|Claude Panos_Sant...|\n",
            "| 28|Female|Mickey Cortright|    DB|192537|   62|Ernest Rossbach_M...|\n",
            "| 28|Female|    Jc Andrepont|   DSA|232060|   58|Billi Clore_Abram...|\n",
            "| 29|Female|    Paris Hutton|   DSA|271472|   99|Sheryll Towler_Al...|\n",
            "| 28|Female|  Dustin Feagins|   DSA|291984|   82|Abram Nagao_Kena ...|\n",
            "| 28|Female|     Anna Santos|    DB|311589|   79|Celeste Lollis_Mi...|\n",
            "| 28|Female|Mickey Cortright|   DSA|342003|   44|Mitzi Seldon_Jean...|\n",
            "| 28|  Male|   Kizzy Brenner|    DB|381712|   36|Paris Hutton_Kena...|\n",
            "| 28|  Male|Toshiko Hillyard|    DB|392218|   47|Leontine Phillips...|\n",
            "| 29|Female|     Anna Santos|   DSA|411479|   42|Kena Wild_Mitzi S...|\n",
            "| 28|Female|  Maybell Duguay|   DSA|452141|   29|Leontine Phillips...|\n",
            "| 29|  Male|    Paris Hutton|    DB|481229|   57|Clementina Menke_...|\n",
            "| 29|Female|    Paris Hutton|   DSA|492159|   60|Nicole Harwood_Ma...|\n",
            "| 28|Female|Mickey Cortright|    DB|551389|   43|Tijuana Kropf_Jen...|\n",
            "+---+------+----------------+------+------+-----+--------------------+\n",
            "only showing top 20 rows\n",
            "\n"
          ]
        }
      ]
    },
    {
      "cell_type": "code",
      "source": [
        "# Termina com a expressão\n",
        "df.filter( df.name.endswith(\"se\") ).show()"
      ],
      "metadata": {
        "colab": {
          "base_uri": "https://localhost:8080/"
        },
        "id": "baI-pAD8lc9k",
        "outputId": "7c23644e-e2bb-43d7-ca28-2b9fa2a6f1c6"
      },
      "execution_count": 24,
      "outputs": [
        {
          "output_type": "stream",
          "name": "stdout",
          "text": [
            "+---+------+--------------+------+-------+-----+--------------------+\n",
            "|age|gender|          name|course|   roll|marks|               email|\n",
            "+---+------+--------------+------+-------+-----+--------------------+\n",
            "| 28|Female|Latia Vanhoose|    DB| 122502|   27|Latia Vanhoose_Mi...|\n",
            "| 29|Female|Latia Vanhoose|   MVC| 132110|   55|Eda Neathery_Nico...|\n",
            "| 29|Female|Latia Vanhoose|    DB| 152159|   27|Claude Panos_Sant...|\n",
            "| 29|  Male|Latia Vanhoose| Cloud|1832268|   60|Marylee Capasso_S...|\n",
            "| 29|  Male|Latia Vanhoose|   OOP|2372748|   94|Latia Vanhoose_La...|\n",
            "| 29|Female|Latia Vanhoose|    PF|2861854|   42|Claude Panos_Nico...|\n",
            "| 29|  Male|Latia Vanhoose|   MVC|2992281|   90|Elenore Choy_Cord...|\n",
            "| 29|Female|Latia Vanhoose|   MVC|3091650|   30|Cordie Harnois_Se...|\n",
            "| 29|Female|Latia Vanhoose|   OOP|3841395|   26|Kizzy Brenner_Eda...|\n",
            "| 29|  Male|Latia Vanhoose| Cloud|4661276|   40|Jc Andrepont_Anni...|\n",
            "| 28|Female|Latia Vanhoose|   OOP|4792828|   72|Tamera Blakley_Mi...|\n",
            "| 28|Female|Latia Vanhoose|    PF|5222171|   73|Toshiko Hillyard_...|\n",
            "| 28|Female|Latia Vanhoose| Cloud|6701628|   33|Abram Nagao_Cheri...|\n",
            "| 29|Female|Latia Vanhoose|   MVC|6771882|   49|Alberta Freund_La...|\n",
            "| 28|Female|Latia Vanhoose|   MVC|7381991|   94|Eda Neathery_Mich...|\n",
            "| 29|  Male|Latia Vanhoose| Cloud|7721956|   45|Jalisa Swenson_An...|\n",
            "| 28|  Male|Latia Vanhoose|   OOP|7741757|   66|Loris Crossett_Na...|\n",
            "| 28|  Male|Latia Vanhoose|   DSA|7792270|   37|Eda Neathery_Donn...|\n",
            "| 28|  Male|Latia Vanhoose|   DSA|9442974|   29|Jc Andrepont_Cele...|\n",
            "| 28|Female|Latia Vanhoose| Cloud|9471888|   56|Naoma Fritts_Kena...|\n",
            "+---+------+--------------+------+-------+-----+--------------------+\n",
            "\n"
          ]
        }
      ]
    },
    {
      "cell_type": "code",
      "source": [
        "#contém a expressão\n",
        "df.filter( df.name.contains(\"se\") ).show()"
      ],
      "metadata": {
        "colab": {
          "base_uri": "https://localhost:8080/"
        },
        "id": "UNpVgc8ymHLR",
        "outputId": "afce6f45-bbc7-4daf-8ad1-55d6b232cd42"
      },
      "execution_count": 25,
      "outputs": [
        {
          "output_type": "stream",
          "name": "stdout",
          "text": [
            "+---+------+--------------+------+-------+-----+--------------------+\n",
            "|age|gender|          name|course|   roll|marks|               email|\n",
            "+---+------+--------------+------+-------+-----+--------------------+\n",
            "| 28|Female|Latia Vanhoose|    DB| 122502|   27|Latia Vanhoose_Mi...|\n",
            "| 29|Female|Latia Vanhoose|   MVC| 132110|   55|Eda Neathery_Nico...|\n",
            "| 29|Female|Latia Vanhoose|    DB| 152159|   27|Claude Panos_Sant...|\n",
            "| 29|  Male|Loris Crossett|   MVC| 161771|   36|Mitzi Seldon_Jenn...|\n",
            "| 29|Female|Loris Crossett|    PF| 201487|   96|Elenore Choy_Lati...|\n",
            "| 28|Female|Loris Crossett|    PF| 332739|   62|Michelle Ruggiero...|\n",
            "| 29|  Male|Loris Crossett|    PF| 911593|   46|Gonzalo Ferebee_M...|\n",
            "| 28|Female|Loris Crossett|   DSA|1662549|   86|Paris Hutton_Lati...|\n",
            "| 29|  Male|Latia Vanhoose| Cloud|1832268|   60|Marylee Capasso_S...|\n",
            "| 29|  Male|Latia Vanhoose|   OOP|2372748|   94|Latia Vanhoose_La...|\n",
            "| 28|Female|Loris Crossett|   OOP|2691881|   29|Maybell Duguay_Ni...|\n",
            "| 28|  Male|Loris Crossett|   OOP|2852490|   25|Loris Crossett_Do...|\n",
            "| 29|Female|Latia Vanhoose|    PF|2861854|   42|Claude Panos_Nico...|\n",
            "| 29|  Male|Latia Vanhoose|   MVC|2992281|   90|Elenore Choy_Cord...|\n",
            "| 29|Female|Latia Vanhoose|   MVC|3091650|   30|Cordie Harnois_Se...|\n",
            "| 28|Female|Loris Crossett|   OOP|3502780|   30|Jenna Montague_Co...|\n",
            "| 28|Female|Loris Crossett|    PF|3531684|   84|Dustin Feagins_Ta...|\n",
            "| 29|  Male|Loris Crossett|   OOP|3592529|   80|Annika Hoffman_To...|\n",
            "| 29|Female|Latia Vanhoose|   OOP|3841395|   26|Kizzy Brenner_Eda...|\n",
            "| 28|Female|Loris Crossett|    PF|3861248|   94|Dustin Feagins_Ch...|\n",
            "+---+------+--------------+------+-------+-----+--------------------+\n",
            "only showing top 20 rows\n",
            "\n"
          ]
        }
      ]
    },
    {
      "cell_type": "code",
      "source": [
        "# utilizando expressões em SQL, para mais expressões ver a documentação SQL\n",
        "df.filter( df.name.like('%se%') ).show()"
      ],
      "metadata": {
        "colab": {
          "base_uri": "https://localhost:8080/"
        },
        "id": "NgPgkgMJmdAD",
        "outputId": "c087664f-ae96-4857-adb1-725a4ca19c96"
      },
      "execution_count": 26,
      "outputs": [
        {
          "output_type": "stream",
          "name": "stdout",
          "text": [
            "+---+------+--------------+------+-------+-----+--------------------+\n",
            "|age|gender|          name|course|   roll|marks|               email|\n",
            "+---+------+--------------+------+-------+-----+--------------------+\n",
            "| 28|Female|Latia Vanhoose|    DB| 122502|   27|Latia Vanhoose_Mi...|\n",
            "| 29|Female|Latia Vanhoose|   MVC| 132110|   55|Eda Neathery_Nico...|\n",
            "| 29|Female|Latia Vanhoose|    DB| 152159|   27|Claude Panos_Sant...|\n",
            "| 29|  Male|Loris Crossett|   MVC| 161771|   36|Mitzi Seldon_Jenn...|\n",
            "| 29|Female|Loris Crossett|    PF| 201487|   96|Elenore Choy_Lati...|\n",
            "| 28|Female|Loris Crossett|    PF| 332739|   62|Michelle Ruggiero...|\n",
            "| 29|  Male|Loris Crossett|    PF| 911593|   46|Gonzalo Ferebee_M...|\n",
            "| 28|Female|Loris Crossett|   DSA|1662549|   86|Paris Hutton_Lati...|\n",
            "| 29|  Male|Latia Vanhoose| Cloud|1832268|   60|Marylee Capasso_S...|\n",
            "| 29|  Male|Latia Vanhoose|   OOP|2372748|   94|Latia Vanhoose_La...|\n",
            "| 28|Female|Loris Crossett|   OOP|2691881|   29|Maybell Duguay_Ni...|\n",
            "| 28|  Male|Loris Crossett|   OOP|2852490|   25|Loris Crossett_Do...|\n",
            "| 29|Female|Latia Vanhoose|    PF|2861854|   42|Claude Panos_Nico...|\n",
            "| 29|  Male|Latia Vanhoose|   MVC|2992281|   90|Elenore Choy_Cord...|\n",
            "| 29|Female|Latia Vanhoose|   MVC|3091650|   30|Cordie Harnois_Se...|\n",
            "| 28|Female|Loris Crossett|   OOP|3502780|   30|Jenna Montague_Co...|\n",
            "| 28|Female|Loris Crossett|    PF|3531684|   84|Dustin Feagins_Ta...|\n",
            "| 29|  Male|Loris Crossett|   OOP|3592529|   80|Annika Hoffman_To...|\n",
            "| 29|Female|Latia Vanhoose|   OOP|3841395|   26|Kizzy Brenner_Eda...|\n",
            "| 28|Female|Loris Crossett|    PF|3861248|   94|Dustin Feagins_Ch...|\n",
            "+---+------+--------------+------+-------+-----+--------------------+\n",
            "only showing top 20 rows\n",
            "\n"
          ]
        }
      ]
    },
    {
      "cell_type": "markdown",
      "source": [
        "### Exemplo\n",
        "\n",
        "* **utilizando o banco StudentData.csv**\n",
        "\n",
        "* Ler o arquivo em DF\n",
        "\n",
        "* Criar uma nova coluna no DF para as notas totais e deixe as notas totais serem 120\n",
        "\n",
        "* Criar uma nova coluna com a média das notas $\\frac{notas}{totalnotal}*100$\n",
        "\n",
        "* filtre todos os alunos que obtiveram mais de 80% de notas no curso OOP e salve-o em um novo DF\n",
        "\n",
        "* filtre todos os alunos que obtiveram mais de 60% de notas no curso Cloud e salve-o em um novo df\n",
        "\n",
        "* Imprima os nomes e notas de todos os alunos do DF acima"
      ],
      "metadata": {
        "id": "E1xVVXMYnGIJ"
      }
    },
    {
      "cell_type": "code",
      "source": [
        "from pyspark.sql import SparkSession\n",
        "from pyspark.sql.functions import col, lit\n",
        "spark = SparkSession.builder.appName(\"Spark DataFrames\").getOrCreate()\n",
        "df = spark.read.options(header = 'True', inferSchema = 'True').csv('/content/drive/MyDrive/PySpark/data/StudentData.csv')"
      ],
      "metadata": {
        "id": "3ZQWUdysopt4"
      },
      "execution_count": 96,
      "outputs": []
    },
    {
      "cell_type": "code",
      "source": [
        "df2 = df\n",
        "df2 = df2.withColumn('total_marks', lit(\"120\"))"
      ],
      "metadata": {
        "id": "Z6HsoXDorcwx"
      },
      "execution_count": 97,
      "outputs": []
    },
    {
      "cell_type": "code",
      "source": [
        "df2 = df2.withColumn( 'average', (col(\"marks\") / col(\"total_marks\")*100) )\n",
        "df2.show()"
      ],
      "metadata": {
        "colab": {
          "base_uri": "https://localhost:8080/"
        },
        "id": "ebpNU_dGqfqs",
        "outputId": "62b68539-0182-4501-cb06-6078f3582139"
      },
      "execution_count": 98,
      "outputs": [
        {
          "output_type": "stream",
          "name": "stdout",
          "text": [
            "+---+------+----------------+------+------+-----+--------------------+-----------+------------------+\n",
            "|age|gender|            name|course|  roll|marks|               email|total_marks|           average|\n",
            "+---+------+----------------+------+------+-----+--------------------+-----------+------------------+\n",
            "| 28|Female| Hubert Oliveras|    DB|  2984|   59|Annika Hoffman_Na...|        120|49.166666666666664|\n",
            "| 29|Female|Toshiko Hillyard| Cloud| 12899|   62|Margene Moores_Ma...|        120| 51.66666666666667|\n",
            "| 28|  Male|  Celeste Lollis|    PF| 21267|   45|Jeannetta Golden_...|        120|              37.5|\n",
            "| 29|Female|    Elenore Choy|    DB| 32877|   29|Billi Clore_Mitzi...|        120|24.166666666666668|\n",
            "| 28|  Male|  Sheryll Towler|   DSA| 41487|   41|Claude Panos_Judi...|        120|34.166666666666664|\n",
            "| 28|  Male|  Margene Moores|   MVC| 52771|   32|Toshiko Hillyard_...|        120|26.666666666666668|\n",
            "| 28|  Male|     Neda Briski|   OOP| 61973|   69|Alberta Freund_El...|        120| 57.49999999999999|\n",
            "| 28|Female|    Claude Panos| Cloud| 72409|   85|Sheryll Towler_Al...|        120| 70.83333333333334|\n",
            "| 28|  Male|  Celeste Lollis|   MVC| 81492|   64|Nicole Harwood_Cl...|        120|53.333333333333336|\n",
            "| 29|  Male|  Cordie Harnois|   OOP| 92882|   51|Judie Chipps_Clem...|        120|              42.5|\n",
            "| 29|Female|       Kena Wild|   DSA|102285|   35|Dustin Feagins_Ma...|        120|29.166666666666668|\n",
            "| 29|  Male| Ernest Rossbach|    DB|111449|   53|Maybell Duguay_Ab...|        120|44.166666666666664|\n",
            "| 28|Female|  Latia Vanhoose|    DB|122502|   27|Latia Vanhoose_Mi...|        120|              22.5|\n",
            "| 29|Female|  Latia Vanhoose|   MVC|132110|   55|Eda Neathery_Nico...|        120| 45.83333333333333|\n",
            "| 29|  Male|     Neda Briski|    PF|141770|   42|Margene Moores_Mi...|        120|              35.0|\n",
            "| 29|Female|  Latia Vanhoose|    DB|152159|   27|Claude Panos_Sant...|        120|              22.5|\n",
            "| 29|  Male|  Loris Crossett|   MVC|161771|   36|Mitzi Seldon_Jenn...|        120|              30.0|\n",
            "| 29|  Male|  Annika Hoffman|   OOP|171660|   22|Taryn Brownlee_Mi...|        120|18.333333333333332|\n",
            "| 29|  Male|   Santa Kerfien|    PF|182129|   56|Judie Chipps_Tary...|        120|46.666666666666664|\n",
            "| 28|Female|Mickey Cortright|    DB|192537|   62|Ernest Rossbach_M...|        120| 51.66666666666667|\n",
            "+---+------+----------------+------+------+-----+--------------------+-----------+------------------+\n",
            "only showing top 20 rows\n",
            "\n"
          ]
        }
      ]
    },
    {
      "cell_type": "code",
      "source": [
        "df_OOP = df2.filter( (df2.course == \"OOP\") & (df2.average > 80) )\n",
        "df_OOP.show()"
      ],
      "metadata": {
        "colab": {
          "base_uri": "https://localhost:8080/"
        },
        "id": "2zChB1DmDP3S",
        "outputId": "e471c47d-3e53-4a26-bdbb-b24497c3e7c3"
      },
      "execution_count": 99,
      "outputs": [
        {
          "output_type": "stream",
          "name": "stdout",
          "text": [
            "+---+------+------------------+------+-------+-----+--------------------+-----------+-----------------+\n",
            "|age|gender|              name|course|   roll|marks|               email|total_marks|          average|\n",
            "+---+------+------------------+------+-------+-----+--------------------+-----------+-----------------+\n",
            "| 28|  Male|    Jenna Montague|   OOP|3331161|   98|Leontine Phillips...|        120|81.66666666666667|\n",
            "| 29|Female|Priscila Tavernier|   OOP|3902993|   99|Celeste Lollis_Bi...|        120|             82.5|\n",
            "| 28|Female|      Judie Chipps|   OOP|5451977|   99|Tamera Blakley_Mi...|        120|             82.5|\n",
            "| 29|  Male|    Margene Moores|   OOP|5621072|   97|Sheryll Towler_Ma...|        120|80.83333333333333|\n",
            "| 29|  Male|      Jc Andrepont|   OOP|8022618|   97|Cordie Harnois_Ja...|        120|80.83333333333333|\n",
            "| 28|  Male|    Loris Crossett|   OOP|8172914|   98|Paris Hutton_Pari...|        120|81.66666666666667|\n",
            "| 28|  Male|    Loris Crossett|   OOP|9692316|   99|Judie Chipps_Mich...|        120|             82.5|\n",
            "+---+------+------------------+------+-------+-----+--------------------+-----------+-----------------+\n",
            "\n"
          ]
        }
      ]
    },
    {
      "cell_type": "code",
      "source": [
        "df_CLOUD = df2.filter( (df2.course == \"Cloud\") & (df2.average > 60) )\n",
        "df_CLOUD.show()"
      ],
      "metadata": {
        "colab": {
          "base_uri": "https://localhost:8080/"
        },
        "id": "er0Kbt0iEyiD",
        "outputId": "d7dd0955-0cd5-45ec-eaa1-2e4fcf51e4e9"
      },
      "execution_count": 100,
      "outputs": [
        {
          "output_type": "stream",
          "name": "stdout",
          "text": [
            "+---+------+-----------------+------+-------+-----+--------------------+-----------+-----------------+\n",
            "|age|gender|             name|course|   roll|marks|               email|total_marks|          average|\n",
            "+---+------+-----------------+------+-------+-----+--------------------+-----------+-----------------+\n",
            "| 28|Female|     Claude Panos| Cloud|  72409|   85|Sheryll Towler_Al...|        120|70.83333333333334|\n",
            "| 29|  Male|      Billi Clore| Cloud| 512047|   76|Taryn Brownlee_Ju...|        120|63.33333333333333|\n",
            "| 28|Female|   Somer Stoecker| Cloud| 612490|   82|Sebrina Maresca_G...|        120|68.33333333333333|\n",
            "| 29|Female|     Judie Chipps| Cloud| 632793|   75|Tijuana Kropf_Ele...|        120|             62.5|\n",
            "| 29|Female|     Eda Neathery| Cloud|1011971|   91|Margene Moores_El...|        120|75.83333333333333|\n",
            "| 28|  Male|   Bonita Higuera| Cloud|1312294|   94|Eda Neathery_Pris...|        120|78.33333333333333|\n",
            "| 29|Female|  Hubert Oliveras| Cloud|1392791|   94|Anna Santos_Alber...|        120|78.33333333333333|\n",
            "| 28|Female|      Neda Briski| Cloud|1651303|   74|Ernest Rossbach_D...|        120|61.66666666666667|\n",
            "| 28|Female|   Melani Engberg| Cloud|1872667|   99|Alberta Freund_Ni...|        120|             82.5|\n",
            "| 28|Female|     Paris Hutton| Cloud|2051881|   79|Melani Engberg_Ma...|        120|65.83333333333333|\n",
            "| 28|Female|     Eda Neathery| Cloud|2071302|   95|Latia Vanhoose_Do...|        120|79.16666666666666|\n",
            "| 28|  Male|      Neda Briski| Cloud|2092176|   81|Celeste Lollis_Ma...|        120|             67.5|\n",
            "| 28|Female|    Tijuana Kropf| Cloud|2121632|   78|Michelle Ruggiero...|        120|             65.0|\n",
            "| 28|Female|   Jenna Montague| Cloud|2402240|   96|Annika Hoffman_Du...|        120|             80.0|\n",
            "| 29|Female|   Dustin Feagins| Cloud|2421900|   89|Niki Klimek_Latia...|        120|74.16666666666667|\n",
            "| 28|Female|  Ernest Rossbach| Cloud|2602027|   83|Alberta Freund_Go...|        120|69.16666666666667|\n",
            "| 28|  Male|Leontine Phillips| Cloud|3011586|   76|Dustin Feagins_Al...|        120|63.33333333333333|\n",
            "| 29|Female|  Sebrina Maresca| Cloud|3261159|   97|Maybell Duguay_Ja...|        120|80.83333333333333|\n",
            "| 28|  Male| Clementina Menke| Cloud|3352508|   95|Naoma Fritts_Mick...|        120|79.16666666666666|\n",
            "| 28|  Male|    Kizzy Brenner| Cloud|3581303|   80|Margene Moores_Ta...|        120|66.66666666666666|\n",
            "+---+------+-----------------+------+-------+-----+--------------------+-----------+-----------------+\n",
            "only showing top 20 rows\n",
            "\n"
          ]
        }
      ]
    },
    {
      "cell_type": "code",
      "source": [
        "df_OOP.select(\"name\", \"marks\").show()"
      ],
      "metadata": {
        "colab": {
          "base_uri": "https://localhost:8080/"
        },
        "id": "cdBYbRv6Gwmq",
        "outputId": "ef0ec4d5-0ec3-4d42-d49f-cf792a4fd2a4"
      },
      "execution_count": 101,
      "outputs": [
        {
          "output_type": "stream",
          "name": "stdout",
          "text": [
            "+------------------+-----+\n",
            "|              name|marks|\n",
            "+------------------+-----+\n",
            "|    Jenna Montague|   98|\n",
            "|Priscila Tavernier|   99|\n",
            "|      Judie Chipps|   99|\n",
            "|    Margene Moores|   97|\n",
            "|      Jc Andrepont|   97|\n",
            "|    Loris Crossett|   98|\n",
            "|    Loris Crossett|   99|\n",
            "+------------------+-----+\n",
            "\n"
          ]
        }
      ]
    },
    {
      "cell_type": "code",
      "source": [
        "df_CLOUD.select(\"name\", \"marks\").show()"
      ],
      "metadata": {
        "colab": {
          "base_uri": "https://localhost:8080/"
        },
        "id": "A79QPas_G_lF",
        "outputId": "105e6182-082a-4499-b773-634dcede7ea3"
      },
      "execution_count": 102,
      "outputs": [
        {
          "output_type": "stream",
          "name": "stdout",
          "text": [
            "+-----------------+-----+\n",
            "|             name|marks|\n",
            "+-----------------+-----+\n",
            "|     Claude Panos|   85|\n",
            "|      Billi Clore|   76|\n",
            "|   Somer Stoecker|   82|\n",
            "|     Judie Chipps|   75|\n",
            "|     Eda Neathery|   91|\n",
            "|   Bonita Higuera|   94|\n",
            "|  Hubert Oliveras|   94|\n",
            "|      Neda Briski|   74|\n",
            "|   Melani Engberg|   99|\n",
            "|     Paris Hutton|   79|\n",
            "|     Eda Neathery|   95|\n",
            "|      Neda Briski|   81|\n",
            "|    Tijuana Kropf|   78|\n",
            "|   Jenna Montague|   96|\n",
            "|   Dustin Feagins|   89|\n",
            "|  Ernest Rossbach|   83|\n",
            "|Leontine Phillips|   76|\n",
            "|  Sebrina Maresca|   97|\n",
            "| Clementina Menke|   95|\n",
            "|    Kizzy Brenner|   80|\n",
            "+-----------------+-----+\n",
            "only showing top 20 rows\n",
            "\n"
          ]
        }
      ]
    },
    {
      "cell_type": "markdown",
      "source": [
        "## Count, Distinct, DropDupicates no DataFrame"
      ],
      "metadata": {
        "id": "RsdUFufSHs58"
      }
    },
    {
      "cell_type": "code",
      "source": [
        "from pyspark.sql import SparkSession\n",
        "from pyspark.sql.functions import col, lit\n",
        "spark = SparkSession.builder.appName(\"Spark DataFrames\").getOrCreate()\n",
        "df = spark.read.options(header = 'True', inferSchema = 'True').csv('/content/drive/MyDrive/PySpark/data/StudentData.csv')\n",
        "df.show()"
      ],
      "metadata": {
        "colab": {
          "base_uri": "https://localhost:8080/"
        },
        "id": "Zhb6sSwJHzXA",
        "outputId": "6a407532-e269-4e32-bf80-03a66b8208d1"
      },
      "execution_count": 103,
      "outputs": [
        {
          "output_type": "stream",
          "name": "stdout",
          "text": [
            "+---+------+----------------+------+------+-----+--------------------+\n",
            "|age|gender|            name|course|  roll|marks|               email|\n",
            "+---+------+----------------+------+------+-----+--------------------+\n",
            "| 28|Female| Hubert Oliveras|    DB|  2984|   59|Annika Hoffman_Na...|\n",
            "| 29|Female|Toshiko Hillyard| Cloud| 12899|   62|Margene Moores_Ma...|\n",
            "| 28|  Male|  Celeste Lollis|    PF| 21267|   45|Jeannetta Golden_...|\n",
            "| 29|Female|    Elenore Choy|    DB| 32877|   29|Billi Clore_Mitzi...|\n",
            "| 28|  Male|  Sheryll Towler|   DSA| 41487|   41|Claude Panos_Judi...|\n",
            "| 28|  Male|  Margene Moores|   MVC| 52771|   32|Toshiko Hillyard_...|\n",
            "| 28|  Male|     Neda Briski|   OOP| 61973|   69|Alberta Freund_El...|\n",
            "| 28|Female|    Claude Panos| Cloud| 72409|   85|Sheryll Towler_Al...|\n",
            "| 28|  Male|  Celeste Lollis|   MVC| 81492|   64|Nicole Harwood_Cl...|\n",
            "| 29|  Male|  Cordie Harnois|   OOP| 92882|   51|Judie Chipps_Clem...|\n",
            "| 29|Female|       Kena Wild|   DSA|102285|   35|Dustin Feagins_Ma...|\n",
            "| 29|  Male| Ernest Rossbach|    DB|111449|   53|Maybell Duguay_Ab...|\n",
            "| 28|Female|  Latia Vanhoose|    DB|122502|   27|Latia Vanhoose_Mi...|\n",
            "| 29|Female|  Latia Vanhoose|   MVC|132110|   55|Eda Neathery_Nico...|\n",
            "| 29|  Male|     Neda Briski|    PF|141770|   42|Margene Moores_Mi...|\n",
            "| 29|Female|  Latia Vanhoose|    DB|152159|   27|Claude Panos_Sant...|\n",
            "| 29|  Male|  Loris Crossett|   MVC|161771|   36|Mitzi Seldon_Jenn...|\n",
            "| 29|  Male|  Annika Hoffman|   OOP|171660|   22|Taryn Brownlee_Mi...|\n",
            "| 29|  Male|   Santa Kerfien|    PF|182129|   56|Judie Chipps_Tary...|\n",
            "| 28|Female|Mickey Cortright|    DB|192537|   62|Ernest Rossbach_M...|\n",
            "+---+------+----------------+------+------+-----+--------------------+\n",
            "only showing top 20 rows\n",
            "\n"
          ]
        }
      ]
    },
    {
      "cell_type": "code",
      "source": [
        "# quantidade de linhas no dataframe\n",
        "df.count()"
      ],
      "metadata": {
        "colab": {
          "base_uri": "https://localhost:8080/"
        },
        "id": "IFpfAMAzIK_Y",
        "outputId": "058492ac-4d29-4f84-fb85-dbce7be3d36f"
      },
      "execution_count": 104,
      "outputs": [
        {
          "output_type": "execute_result",
          "data": {
            "text/plain": [
              "1000"
            ]
          },
          "metadata": {},
          "execution_count": 104
        }
      ]
    },
    {
      "cell_type": "code",
      "source": [
        "#aplicando filtro e contando\n",
        "df.filter(df.course == \"DB\").count()"
      ],
      "metadata": {
        "colab": {
          "base_uri": "https://localhost:8080/"
        },
        "id": "fbm5BR02I02W",
        "outputId": "9dfc3744-94d1-4838-b826-b92d18ab751e"
      },
      "execution_count": 105,
      "outputs": [
        {
          "output_type": "execute_result",
          "data": {
            "text/plain": [
              "157"
            ]
          },
          "metadata": {},
          "execution_count": 105
        }
      ]
    },
    {
      "cell_type": "code",
      "source": [
        "# todos os dados são únicos\n",
        "df.distinct().count()"
      ],
      "metadata": {
        "colab": {
          "base_uri": "https://localhost:8080/"
        },
        "id": "I7klpyjSI-H7",
        "outputId": "4fc2cf9e-5950-4294-bcea-2d500c7bdbe2"
      },
      "execution_count": 106,
      "outputs": [
        {
          "output_type": "execute_result",
          "data": {
            "text/plain": [
              "1000"
            ]
          },
          "metadata": {},
          "execution_count": 106
        }
      ]
    },
    {
      "cell_type": "code",
      "source": [
        "# apresenta quantos dados unicos existem no DF\n",
        "df.select(\"gender\",\"age\").distinct().show()"
      ],
      "metadata": {
        "colab": {
          "base_uri": "https://localhost:8080/"
        },
        "id": "CHZGYz5eJUwt",
        "outputId": "74300002-0138-43d2-ae49-46853fd63289"
      },
      "execution_count": 109,
      "outputs": [
        {
          "output_type": "stream",
          "name": "stdout",
          "text": [
            "+------+---+\n",
            "|gender|age|\n",
            "+------+---+\n",
            "|Female| 29|\n",
            "|Female| 28|\n",
            "|  Male| 28|\n",
            "|  Male| 29|\n",
            "+------+---+\n",
            "\n"
          ]
        }
      ]
    },
    {
      "cell_type": "code",
      "source": [
        "# retira os dados duplicados em uma coluna\n",
        "df.dropDuplicates([\"gender\"]).show()"
      ],
      "metadata": {
        "colab": {
          "base_uri": "https://localhost:8080/"
        },
        "id": "VYKt0GU6Jt85",
        "outputId": "c1db4006-5b41-40cd-cb19-1dab3e04feaa"
      },
      "execution_count": 110,
      "outputs": [
        {
          "output_type": "stream",
          "name": "stdout",
          "text": [
            "+---+------+---------------+------+-----+-----+--------------------+\n",
            "|age|gender|           name|course| roll|marks|               email|\n",
            "+---+------+---------------+------+-----+-----+--------------------+\n",
            "| 28|Female|Hubert Oliveras|    DB| 2984|   59|Annika Hoffman_Na...|\n",
            "| 28|  Male| Celeste Lollis|    PF|21267|   45|Jeannetta Golden_...|\n",
            "+---+------+---------------+------+-----+-----+--------------------+\n",
            "\n"
          ]
        }
      ]
    },
    {
      "cell_type": "code",
      "source": [
        "# retira os dados duplicados em uma coluna\n",
        "df.dropDuplicates([\"gender\", \"course\"]).show()"
      ],
      "metadata": {
        "colab": {
          "base_uri": "https://localhost:8080/"
        },
        "id": "kTVSUuGEKlEV",
        "outputId": "691c32e3-eced-4aa0-8313-e588173c60b7"
      },
      "execution_count": 111,
      "outputs": [
        {
          "output_type": "stream",
          "name": "stdout",
          "text": [
            "+---+------+----------------+------+------+-----+--------------------+\n",
            "|age|gender|            name|course|  roll|marks|               email|\n",
            "+---+------+----------------+------+------+-----+--------------------+\n",
            "| 29|Female|Toshiko Hillyard| Cloud| 12899|   62|Margene Moores_Ma...|\n",
            "| 28|Female|  Alberta Freund|   OOP|251805|   83|Annika Hoffman_Sh...|\n",
            "| 28|  Male|  Celeste Lollis|    PF| 21267|   45|Jeannetta Golden_...|\n",
            "| 29|  Male| Ernest Rossbach|    DB|111449|   53|Maybell Duguay_Ab...|\n",
            "| 29|  Male|     Billi Clore| Cloud|512047|   76|Taryn Brownlee_Ju...|\n",
            "| 28|  Male|     Neda Briski|   OOP| 61973|   69|Alberta Freund_El...|\n",
            "| 29|Female|       Kena Wild|   DSA|102285|   35|Dustin Feagins_Ma...|\n",
            "| 28|Female| Hubert Oliveras|    DB|  2984|   59|Annika Hoffman_Na...|\n",
            "| 28|  Male|  Sheryll Towler|   DSA| 41487|   41|Claude Panos_Judi...|\n",
            "| 28|  Male|  Margene Moores|   MVC| 52771|   32|Toshiko Hillyard_...|\n",
            "| 29|Female|  Latia Vanhoose|   MVC|132110|   55|Eda Neathery_Nico...|\n",
            "| 29|Female|  Loris Crossett|    PF|201487|   96|Elenore Choy_Lati...|\n",
            "+---+------+----------------+------+------+-----+--------------------+\n",
            "\n"
          ]
        }
      ]
    },
    {
      "cell_type": "markdown",
      "source": [
        "## Exemplo\n",
        "\n",
        "* Escrever um código para mostrar as linhas unicas por idade, genero, e curso"
      ],
      "metadata": {
        "id": "zArQh9HLL13E"
      }
    },
    {
      "cell_type": "code",
      "source": [
        "df.dropDuplicates([\"gender\", \"course\", \"age\"]).show()"
      ],
      "metadata": {
        "colab": {
          "base_uri": "https://localhost:8080/"
        },
        "id": "-EHA0f0lL20p",
        "outputId": "cb6bb283-05d9-4a7d-9a5d-9e785881271e"
      },
      "execution_count": 112,
      "outputs": [
        {
          "output_type": "stream",
          "name": "stdout",
          "text": [
            "+---+------+----------------+------+------+-----+--------------------+\n",
            "|age|gender|            name|course|  roll|marks|               email|\n",
            "+---+------+----------------+------+------+-----+--------------------+\n",
            "| 29|Female|    Claude Panos|   OOP|542821|   28|Hubert Oliveras_P...|\n",
            "| 28|Female|    Cheri Kenney|   MVC|321816|   24|Kena Wild_Michell...|\n",
            "| 28|  Male|  Margene Moores|   MVC| 52771|   32|Toshiko Hillyard_...|\n",
            "| 28|Female| Hubert Oliveras|    DB|  2984|   59|Annika Hoffman_Na...|\n",
            "| 29|  Male|     Neda Briski|    PF|141770|   42|Margene Moores_Mi...|\n",
            "| 28|Female|  Loris Crossett|    PF|332739|   62|Michelle Ruggiero...|\n",
            "| 29|  Male|  Cordie Harnois|   OOP| 92882|   51|Judie Chipps_Clem...|\n",
            "| 29|Female|       Kena Wild|   DSA|102285|   35|Dustin Feagins_Ma...|\n",
            "| 29|Female|  Loris Crossett|    PF|201487|   96|Elenore Choy_Lati...|\n",
            "| 29|Female|Toshiko Hillyard| Cloud| 12899|   62|Margene Moores_Ma...|\n",
            "| 28|Female|    Jc Andrepont|   DSA|232060|   58|Billi Clore_Abram...|\n",
            "| 28|  Male|   Kizzy Brenner|    DB|381712|   36|Paris Hutton_Kena...|\n",
            "| 28|  Male|  Celeste Lollis|    PF| 21267|   45|Jeannetta Golden_...|\n",
            "| 29|Female|    Elenore Choy|    DB| 32877|   29|Billi Clore_Mitzi...|\n",
            "| 29|Female|  Latia Vanhoose|   MVC|132110|   55|Eda Neathery_Nico...|\n",
            "| 28|  Male|  Sheryll Towler|   DSA| 41487|   41|Claude Panos_Judi...|\n",
            "| 28|  Male|     Neda Briski|   OOP| 61973|   69|Alberta Freund_El...|\n",
            "| 29|  Male|  Loris Crossett|   MVC|161771|   36|Mitzi Seldon_Jenn...|\n",
            "| 28|Female|    Claude Panos| Cloud| 72409|   85|Sheryll Towler_Al...|\n",
            "| 29|  Male|  Celeste Lollis|   DSA|562065|   85|Jc Andrepont_Mela...|\n",
            "+---+------+----------------+------+------+-----+--------------------+\n",
            "only showing top 20 rows\n",
            "\n"
          ]
        }
      ]
    },
    {
      "cell_type": "code",
      "source": [
        "df.dropDuplicates([\"gender\", \"course\", \"age\"]).count()"
      ],
      "metadata": {
        "colab": {
          "base_uri": "https://localhost:8080/"
        },
        "id": "RSc9XHAbMfi0",
        "outputId": "0f97b5fe-c45b-4faa-c007-459d97f3e247"
      },
      "execution_count": 114,
      "outputs": [
        {
          "output_type": "execute_result",
          "data": {
            "text/plain": [
              "24"
            ]
          },
          "metadata": {},
          "execution_count": 114
        }
      ]
    },
    {
      "cell_type": "code",
      "source": [
        "df.select(\"gender\", \"course\", \"age\").distinct().show()"
      ],
      "metadata": {
        "colab": {
          "base_uri": "https://localhost:8080/"
        },
        "id": "Dv6VbW8bMNe4",
        "outputId": "b00d87c3-c567-4cf2-8179-babf6204a06f"
      },
      "execution_count": 113,
      "outputs": [
        {
          "output_type": "stream",
          "name": "stdout",
          "text": [
            "+------+------+---+\n",
            "|gender|course|age|\n",
            "+------+------+---+\n",
            "|Female|   OOP| 29|\n",
            "|  Male|   MVC| 28|\n",
            "|Female|   MVC| 28|\n",
            "|Female|    DB| 28|\n",
            "|  Male|    PF| 29|\n",
            "|  Male|   OOP| 29|\n",
            "|Female|    PF| 28|\n",
            "|Female|   DSA| 29|\n",
            "|Female|    PF| 29|\n",
            "|Female| Cloud| 29|\n",
            "|Female|   DSA| 28|\n",
            "|  Male|    DB| 28|\n",
            "|  Male|    PF| 28|\n",
            "|Female|    DB| 29|\n",
            "|Female|   MVC| 29|\n",
            "|  Male|   DSA| 28|\n",
            "|  Male|   OOP| 28|\n",
            "|  Male|   MVC| 29|\n",
            "|Female| Cloud| 28|\n",
            "|  Male|   DSA| 29|\n",
            "+------+------+---+\n",
            "only showing top 20 rows\n",
            "\n"
          ]
        }
      ]
    },
    {
      "cell_type": "code",
      "source": [
        "df.select(\"gender\", \"course\", \"age\").distinct().count()"
      ],
      "metadata": {
        "colab": {
          "base_uri": "https://localhost:8080/"
        },
        "id": "gg-EFEzoMiJr",
        "outputId": "f77f4dba-0433-4bf8-b5f4-8ad6bcb26ccb"
      },
      "execution_count": 115,
      "outputs": [
        {
          "output_type": "execute_result",
          "data": {
            "text/plain": [
              "24"
            ]
          },
          "metadata": {},
          "execution_count": 115
        }
      ]
    },
    {
      "cell_type": "markdown",
      "source": [
        "## sort / orderBy no DataFrame"
      ],
      "metadata": {
        "id": "YbZ1TSU0NHZx"
      }
    },
    {
      "cell_type": "code",
      "source": [
        "df.show()"
      ],
      "metadata": {
        "colab": {
          "base_uri": "https://localhost:8080/"
        },
        "id": "8lWU5DQ0NmyC",
        "outputId": "879472eb-99c6-4e51-e72e-9d9776f9e76f"
      },
      "execution_count": 118,
      "outputs": [
        {
          "output_type": "stream",
          "name": "stdout",
          "text": [
            "+---+------+----------------+------+------+-----+--------------------+\n",
            "|age|gender|            name|course|  roll|marks|               email|\n",
            "+---+------+----------------+------+------+-----+--------------------+\n",
            "| 28|Female| Hubert Oliveras|    DB|  2984|   59|Annika Hoffman_Na...|\n",
            "| 29|Female|Toshiko Hillyard| Cloud| 12899|   62|Margene Moores_Ma...|\n",
            "| 28|  Male|  Celeste Lollis|    PF| 21267|   45|Jeannetta Golden_...|\n",
            "| 29|Female|    Elenore Choy|    DB| 32877|   29|Billi Clore_Mitzi...|\n",
            "| 28|  Male|  Sheryll Towler|   DSA| 41487|   41|Claude Panos_Judi...|\n",
            "| 28|  Male|  Margene Moores|   MVC| 52771|   32|Toshiko Hillyard_...|\n",
            "| 28|  Male|     Neda Briski|   OOP| 61973|   69|Alberta Freund_El...|\n",
            "| 28|Female|    Claude Panos| Cloud| 72409|   85|Sheryll Towler_Al...|\n",
            "| 28|  Male|  Celeste Lollis|   MVC| 81492|   64|Nicole Harwood_Cl...|\n",
            "| 29|  Male|  Cordie Harnois|   OOP| 92882|   51|Judie Chipps_Clem...|\n",
            "| 29|Female|       Kena Wild|   DSA|102285|   35|Dustin Feagins_Ma...|\n",
            "| 29|  Male| Ernest Rossbach|    DB|111449|   53|Maybell Duguay_Ab...|\n",
            "| 28|Female|  Latia Vanhoose|    DB|122502|   27|Latia Vanhoose_Mi...|\n",
            "| 29|Female|  Latia Vanhoose|   MVC|132110|   55|Eda Neathery_Nico...|\n",
            "| 29|  Male|     Neda Briski|    PF|141770|   42|Margene Moores_Mi...|\n",
            "| 29|Female|  Latia Vanhoose|    DB|152159|   27|Claude Panos_Sant...|\n",
            "| 29|  Male|  Loris Crossett|   MVC|161771|   36|Mitzi Seldon_Jenn...|\n",
            "| 29|  Male|  Annika Hoffman|   OOP|171660|   22|Taryn Brownlee_Mi...|\n",
            "| 29|  Male|   Santa Kerfien|    PF|182129|   56|Judie Chipps_Tary...|\n",
            "| 28|Female|Mickey Cortright|    DB|192537|   62|Ernest Rossbach_M...|\n",
            "+---+------+----------------+------+------+-----+--------------------+\n",
            "only showing top 20 rows\n",
            "\n"
          ]
        }
      ]
    },
    {
      "cell_type": "code",
      "source": [
        "# ordernar em ordem crescente\n",
        "df.sort(\"marks\").show()"
      ],
      "metadata": {
        "colab": {
          "base_uri": "https://localhost:8080/"
        },
        "id": "A0RxGsdYNMYR",
        "outputId": "6fb430e7-d04e-4c03-95fd-31dbc28134df"
      },
      "execution_count": 117,
      "outputs": [
        {
          "output_type": "stream",
          "name": "stdout",
          "text": [
            "+---+------+-----------------+------+-------+-----+--------------------+\n",
            "|age|gender|             name|course|   roll|marks|               email|\n",
            "+---+------+-----------------+------+-------+-----+--------------------+\n",
            "| 28|Female|   Maybell Duguay| Cloud| 261439|   20|Nicole Harwood_Ju...|\n",
            "| 29|  Male|   Jalisa Swenson|   OOP|4751515|   20|Annika Hoffman_Hu...|\n",
            "| 28|  Male|  Marylee Capasso|   DSA|2081560|   20|Sheryll Towler_Do...|\n",
            "| 29|Female|  Gonzalo Ferebee|   DSA|5631172|   20|Jeannetta Golden_...|\n",
            "| 29|  Male|Michelle Ruggiero|    PF|6001585|   20|Paris Hutton_Marg...|\n",
            "| 29|  Male|     Elenore Choy|    DB|3652057|   20|Jc Andrepont_Gonz...|\n",
            "| 29|Female|Michelle Ruggiero|    DB|9232210|   20|Donna Yerby_Latia...|\n",
            "| 29|Female|   Tamera Blakley|   DSA|3911247|   20|Donna Yerby_Bonit...|\n",
            "| 28|Female|     Jc Andrepont|    PF| 972733|   20|Eda Neathery_Eda ...|\n",
            "| 28|  Male|      Abram Nagao| Cloud|2652463|   21|Eda Neathery_Anni...|\n",
            "| 29|  Male|   Tamera Blakley|   OOP|7341268|   21|Anna Santos_Naoma...|\n",
            "| 29|Female|  Gonzalo Ferebee|   OOP|2262603|   21|Bonita Higuera_Ch...|\n",
            "| 28|  Male|    Kizzy Brenner| Cloud|4622328|   21|Leontine Phillips...|\n",
            "| 29|  Male|  Sebrina Maresca| Cloud|5042394|   21|Donna Yerby_Miche...|\n",
            "| 28|  Male|   Bonita Higuera| Cloud|7671835|   21|Taryn Brownlee_Se...|\n",
            "| 29|Female|   Nicole Harwood|    PF|8121198|   21|Bonita Higuera_Pr...|\n",
            "| 29|Female|   Alberta Freund|   OOP|4501424|   21|Toshiko Hillyard_...|\n",
            "| 28|Female|  Sebrina Maresca|    PF|5742239|   21|Bonita Higuera_Se...|\n",
            "| 28|  Male|      Billi Clore|    DB|9151306|   21|Latia Vanhoose_Er...|\n",
            "| 29|  Male|     Paris Hutton|   MVC| 752504|   22|Elenore Choy_Elen...|\n",
            "+---+------+-----------------+------+-------+-----+--------------------+\n",
            "only showing top 20 rows\n",
            "\n"
          ]
        }
      ]
    },
    {
      "cell_type": "code",
      "source": [
        "# ordenando na sequencia determinada: Primeiro pelas marks depois pela idade\n",
        "df.sort(\"marks\", \"age\").show()"
      ],
      "metadata": {
        "colab": {
          "base_uri": "https://localhost:8080/"
        },
        "id": "Eqf3fR35NspH",
        "outputId": "d805c060-8306-4072-8c41-90cedf113a10"
      },
      "execution_count": 119,
      "outputs": [
        {
          "output_type": "stream",
          "name": "stdout",
          "text": [
            "+---+------+-----------------+------+-------+-----+--------------------+\n",
            "|age|gender|             name|course|   roll|marks|               email|\n",
            "+---+------+-----------------+------+-------+-----+--------------------+\n",
            "| 28|  Male|  Marylee Capasso|   DSA|2081560|   20|Sheryll Towler_Do...|\n",
            "| 28|Female|   Maybell Duguay| Cloud| 261439|   20|Nicole Harwood_Ju...|\n",
            "| 28|Female|     Jc Andrepont|    PF| 972733|   20|Eda Neathery_Eda ...|\n",
            "| 29|Female|   Tamera Blakley|   DSA|3911247|   20|Donna Yerby_Bonit...|\n",
            "| 29|  Male|   Jalisa Swenson|   OOP|4751515|   20|Annika Hoffman_Hu...|\n",
            "| 29|Female|  Gonzalo Ferebee|   DSA|5631172|   20|Jeannetta Golden_...|\n",
            "| 29|  Male|Michelle Ruggiero|    PF|6001585|   20|Paris Hutton_Marg...|\n",
            "| 29|Female|Michelle Ruggiero|    DB|9232210|   20|Donna Yerby_Latia...|\n",
            "| 29|  Male|     Elenore Choy|    DB|3652057|   20|Jc Andrepont_Gonz...|\n",
            "| 28|  Male|      Abram Nagao| Cloud|2652463|   21|Eda Neathery_Anni...|\n",
            "| 28|  Male|   Bonita Higuera| Cloud|7671835|   21|Taryn Brownlee_Se...|\n",
            "| 28|Female|  Sebrina Maresca|    PF|5742239|   21|Bonita Higuera_Se...|\n",
            "| 28|  Male|    Kizzy Brenner| Cloud|4622328|   21|Leontine Phillips...|\n",
            "| 28|  Male|      Billi Clore|    DB|9151306|   21|Latia Vanhoose_Er...|\n",
            "| 29|  Male|  Sebrina Maresca| Cloud|5042394|   21|Donna Yerby_Miche...|\n",
            "| 29|Female|  Gonzalo Ferebee|   OOP|2262603|   21|Bonita Higuera_Ch...|\n",
            "| 29|  Male|   Tamera Blakley|   OOP|7341268|   21|Anna Santos_Naoma...|\n",
            "| 29|Female|   Alberta Freund|   OOP|4501424|   21|Toshiko Hillyard_...|\n",
            "| 29|Female|   Nicole Harwood|    PF|8121198|   21|Bonita Higuera_Pr...|\n",
            "| 28|Female|     Cheri Kenney| Cloud|2281771|   22|Tamera Blakley_Ab...|\n",
            "+---+------+-----------------+------+-------+-----+--------------------+\n",
            "only showing top 20 rows\n",
            "\n"
          ]
        }
      ]
    },
    {
      "cell_type": "code",
      "source": [
        "#outra notação\n",
        "df.sort(df.marks, df.age).show()"
      ],
      "metadata": {
        "colab": {
          "base_uri": "https://localhost:8080/"
        },
        "id": "LMVqbR41N_Z3",
        "outputId": "4b724459-1090-4bdf-e597-602e774bc825"
      },
      "execution_count": 120,
      "outputs": [
        {
          "output_type": "stream",
          "name": "stdout",
          "text": [
            "+---+------+-----------------+------+-------+-----+--------------------+\n",
            "|age|gender|             name|course|   roll|marks|               email|\n",
            "+---+------+-----------------+------+-------+-----+--------------------+\n",
            "| 28|  Male|  Marylee Capasso|   DSA|2081560|   20|Sheryll Towler_Do...|\n",
            "| 28|Female|   Maybell Duguay| Cloud| 261439|   20|Nicole Harwood_Ju...|\n",
            "| 28|Female|     Jc Andrepont|    PF| 972733|   20|Eda Neathery_Eda ...|\n",
            "| 29|Female|   Tamera Blakley|   DSA|3911247|   20|Donna Yerby_Bonit...|\n",
            "| 29|  Male|   Jalisa Swenson|   OOP|4751515|   20|Annika Hoffman_Hu...|\n",
            "| 29|Female|  Gonzalo Ferebee|   DSA|5631172|   20|Jeannetta Golden_...|\n",
            "| 29|  Male|Michelle Ruggiero|    PF|6001585|   20|Paris Hutton_Marg...|\n",
            "| 29|Female|Michelle Ruggiero|    DB|9232210|   20|Donna Yerby_Latia...|\n",
            "| 29|  Male|     Elenore Choy|    DB|3652057|   20|Jc Andrepont_Gonz...|\n",
            "| 28|  Male|      Abram Nagao| Cloud|2652463|   21|Eda Neathery_Anni...|\n",
            "| 28|  Male|   Bonita Higuera| Cloud|7671835|   21|Taryn Brownlee_Se...|\n",
            "| 28|Female|  Sebrina Maresca|    PF|5742239|   21|Bonita Higuera_Se...|\n",
            "| 28|  Male|    Kizzy Brenner| Cloud|4622328|   21|Leontine Phillips...|\n",
            "| 28|  Male|      Billi Clore|    DB|9151306|   21|Latia Vanhoose_Er...|\n",
            "| 29|  Male|  Sebrina Maresca| Cloud|5042394|   21|Donna Yerby_Miche...|\n",
            "| 29|Female|  Gonzalo Ferebee|   OOP|2262603|   21|Bonita Higuera_Ch...|\n",
            "| 29|  Male|   Tamera Blakley|   OOP|7341268|   21|Anna Santos_Naoma...|\n",
            "| 29|Female|   Alberta Freund|   OOP|4501424|   21|Toshiko Hillyard_...|\n",
            "| 29|Female|   Nicole Harwood|    PF|8121198|   21|Bonita Higuera_Pr...|\n",
            "| 28|Female|     Cheri Kenney| Cloud|2281771|   22|Tamera Blakley_Ab...|\n",
            "+---+------+-----------------+------+-------+-----+--------------------+\n",
            "only showing top 20 rows\n",
            "\n"
          ]
        }
      ]
    },
    {
      "cell_type": "code",
      "source": [
        "# ordenando ascendente ou descendente\n",
        "\n",
        "df.sort(df.marks.asc(), df.age.desc()).show()"
      ],
      "metadata": {
        "colab": {
          "base_uri": "https://localhost:8080/"
        },
        "id": "es1U-7aPOOZT",
        "outputId": "476362cb-d9d2-436d-d591-6a943370e512"
      },
      "execution_count": 122,
      "outputs": [
        {
          "output_type": "stream",
          "name": "stdout",
          "text": [
            "+---+------+-----------------+------+-------+-----+--------------------+\n",
            "|age|gender|             name|course|   roll|marks|               email|\n",
            "+---+------+-----------------+------+-------+-----+--------------------+\n",
            "| 29|Female|Michelle Ruggiero|    DB|9232210|   20|Donna Yerby_Latia...|\n",
            "| 29|  Male|     Elenore Choy|    DB|3652057|   20|Jc Andrepont_Gonz...|\n",
            "| 29|  Male|   Jalisa Swenson|   OOP|4751515|   20|Annika Hoffman_Hu...|\n",
            "| 29|Female|  Gonzalo Ferebee|   DSA|5631172|   20|Jeannetta Golden_...|\n",
            "| 29|Female|   Tamera Blakley|   DSA|3911247|   20|Donna Yerby_Bonit...|\n",
            "| 29|  Male|Michelle Ruggiero|    PF|6001585|   20|Paris Hutton_Marg...|\n",
            "| 28|Female|   Maybell Duguay| Cloud| 261439|   20|Nicole Harwood_Ju...|\n",
            "| 28|  Male|  Marylee Capasso|   DSA|2081560|   20|Sheryll Towler_Do...|\n",
            "| 28|Female|     Jc Andrepont|    PF| 972733|   20|Eda Neathery_Eda ...|\n",
            "| 29|  Male|  Sebrina Maresca| Cloud|5042394|   21|Donna Yerby_Miche...|\n",
            "| 29|Female|   Nicole Harwood|    PF|8121198|   21|Bonita Higuera_Pr...|\n",
            "| 29|  Male|   Tamera Blakley|   OOP|7341268|   21|Anna Santos_Naoma...|\n",
            "| 29|Female|   Alberta Freund|   OOP|4501424|   21|Toshiko Hillyard_...|\n",
            "| 29|Female|  Gonzalo Ferebee|   OOP|2262603|   21|Bonita Higuera_Ch...|\n",
            "| 28|  Male|    Kizzy Brenner| Cloud|4622328|   21|Leontine Phillips...|\n",
            "| 28|  Male|   Bonita Higuera| Cloud|7671835|   21|Taryn Brownlee_Se...|\n",
            "| 28|  Male|      Abram Nagao| Cloud|2652463|   21|Eda Neathery_Anni...|\n",
            "| 28|Female|  Sebrina Maresca|    PF|5742239|   21|Bonita Higuera_Se...|\n",
            "| 28|  Male|      Billi Clore|    DB|9151306|   21|Latia Vanhoose_Er...|\n",
            "| 29|Female|   Maybell Duguay|   MVC|1102536|   22|Somer Stoecker_Ma...|\n",
            "+---+------+-----------------+------+-------+-----+--------------------+\n",
            "only showing top 20 rows\n",
            "\n"
          ]
        }
      ]
    },
    {
      "cell_type": "code",
      "source": [
        "# utilizando o orderBy\n",
        "\n",
        "#sort é mais utilizado em inteiro\n",
        "\n",
        "#orderBy é mais utilizado por orderBy\n",
        "\n",
        "df.orderBy(df.marks.asc(), df.age.desc()).show()"
      ],
      "metadata": {
        "colab": {
          "base_uri": "https://localhost:8080/"
        },
        "id": "IX-IKJ7AOgr6",
        "outputId": "2d8f4511-cbde-4eac-fc70-bd3186c7d69c"
      },
      "execution_count": 123,
      "outputs": [
        {
          "output_type": "stream",
          "name": "stdout",
          "text": [
            "+---+------+-----------------+------+-------+-----+--------------------+\n",
            "|age|gender|             name|course|   roll|marks|               email|\n",
            "+---+------+-----------------+------+-------+-----+--------------------+\n",
            "| 29|Female|Michelle Ruggiero|    DB|9232210|   20|Donna Yerby_Latia...|\n",
            "| 29|  Male|     Elenore Choy|    DB|3652057|   20|Jc Andrepont_Gonz...|\n",
            "| 29|  Male|   Jalisa Swenson|   OOP|4751515|   20|Annika Hoffman_Hu...|\n",
            "| 29|Female|  Gonzalo Ferebee|   DSA|5631172|   20|Jeannetta Golden_...|\n",
            "| 29|Female|   Tamera Blakley|   DSA|3911247|   20|Donna Yerby_Bonit...|\n",
            "| 29|  Male|Michelle Ruggiero|    PF|6001585|   20|Paris Hutton_Marg...|\n",
            "| 28|Female|   Maybell Duguay| Cloud| 261439|   20|Nicole Harwood_Ju...|\n",
            "| 28|  Male|  Marylee Capasso|   DSA|2081560|   20|Sheryll Towler_Do...|\n",
            "| 28|Female|     Jc Andrepont|    PF| 972733|   20|Eda Neathery_Eda ...|\n",
            "| 29|  Male|  Sebrina Maresca| Cloud|5042394|   21|Donna Yerby_Miche...|\n",
            "| 29|Female|   Nicole Harwood|    PF|8121198|   21|Bonita Higuera_Pr...|\n",
            "| 29|  Male|   Tamera Blakley|   OOP|7341268|   21|Anna Santos_Naoma...|\n",
            "| 29|Female|   Alberta Freund|   OOP|4501424|   21|Toshiko Hillyard_...|\n",
            "| 29|Female|  Gonzalo Ferebee|   OOP|2262603|   21|Bonita Higuera_Ch...|\n",
            "| 28|  Male|    Kizzy Brenner| Cloud|4622328|   21|Leontine Phillips...|\n",
            "| 28|  Male|   Bonita Higuera| Cloud|7671835|   21|Taryn Brownlee_Se...|\n",
            "| 28|  Male|      Abram Nagao| Cloud|2652463|   21|Eda Neathery_Anni...|\n",
            "| 28|Female|  Sebrina Maresca|    PF|5742239|   21|Bonita Higuera_Se...|\n",
            "| 28|  Male|      Billi Clore|    DB|9151306|   21|Latia Vanhoose_Er...|\n",
            "| 29|Female|   Maybell Duguay|   MVC|1102536|   22|Somer Stoecker_Ma...|\n",
            "+---+------+-----------------+------+-------+-----+--------------------+\n",
            "only showing top 20 rows\n",
            "\n"
          ]
        }
      ]
    },
    {
      "cell_type": "code",
      "source": [
        "df.orderBy(df.name.asc(), df.age.desc()).show()"
      ],
      "metadata": {
        "colab": {
          "base_uri": "https://localhost:8080/"
        },
        "id": "pPUTYz77O9FM",
        "outputId": "ecb136a5-7f1c-4704-aeeb-77b41a2bfbcf"
      },
      "execution_count": 124,
      "outputs": [
        {
          "output_type": "stream",
          "name": "stdout",
          "text": [
            "+---+------+--------------+------+-------+-----+--------------------+\n",
            "|age|gender|          name|course|   roll|marks|               email|\n",
            "+---+------+--------------+------+-------+-----+--------------------+\n",
            "| 29|Female|   Abram Nagao|   DSA|2041248|   72|Latia Vanhoose_Ke...|\n",
            "| 29|  Male|   Abram Nagao|    DB|2841061|   25|Leontine Phillips...|\n",
            "| 29|  Male|   Abram Nagao| Cloud|4531204|   50|Loris Crossett_Se...|\n",
            "| 29|Female|   Abram Nagao|   DSA|1181007|   57|Anna Santos_Anna ...|\n",
            "| 29|  Male|   Abram Nagao|   DSA|5022738|   42|Margene Moores_La...|\n",
            "| 29|Female|   Abram Nagao|    PF|6182152|   50|Santa Kerfien_Cla...|\n",
            "| 29|  Male|   Abram Nagao|   MVC| 962235|   32|Jenna Montague_Go...|\n",
            "| 29|Female|   Abram Nagao| Cloud|9422898|   38|Cheri Kenney_Sant...|\n",
            "| 29|Female|   Abram Nagao|    PF|9711154|   23|Judie Chipps_Naom...|\n",
            "| 29|  Male|   Abram Nagao|    PF|1112161|   42|Nicole Harwood_Ni...|\n",
            "| 28|Female|   Abram Nagao|    DB|2632057|   25|Margene Moores_So...|\n",
            "| 28|  Male|   Abram Nagao|   DSA|1382959|   66|Michelle Ruggiero...|\n",
            "| 28|  Male|   Abram Nagao| Cloud|2652463|   21|Eda Neathery_Anni...|\n",
            "| 28|Female|   Abram Nagao| Cloud|2811189|   54|Kena Wild_Donna Y...|\n",
            "| 28|Female|   Abram Nagao| Cloud|5301859|   50|Elenore Choy_Clau...|\n",
            "| 28|  Male|   Abram Nagao|   DSA|3781521|   45|Taryn Brownlee_Mi...|\n",
            "| 28|  Male|   Abram Nagao|   OOP|5571082|   85|Santa Kerfien_Jal...|\n",
            "| 29|Female|Alberta Freund|   DSA|4152288|   78|Elenore Choy_Lawa...|\n",
            "| 29|  Male|Alberta Freund|   DSA|2341989|   68|Jeannetta Golden_...|\n",
            "| 29|  Male|Alberta Freund|   OOP|1841931|   37|Jenna Montague_Ta...|\n",
            "+---+------+--------------+------+-------+-----+--------------------+\n",
            "only showing top 20 rows\n",
            "\n"
          ]
        }
      ]
    },
    {
      "cell_type": "markdown",
      "source": [
        "\n",
        "## groupBy em uma unica coluna no DataFrame\n"
      ],
      "metadata": {
        "id": "dEEZPLOFPFAg"
      }
    },
    {
      "cell_type": "code",
      "source": [
        "#cria um grupo e elemento de agregação\n",
        "df.groupBy(\"gender\").sum(\"marks\").show()"
      ],
      "metadata": {
        "colab": {
          "base_uri": "https://localhost:8080/"
        },
        "id": "2L93E8GgPfH5",
        "outputId": "df6e79c5-ca32-413f-809c-6b9bfb859102"
      },
      "execution_count": 128,
      "outputs": [
        {
          "output_type": "stream",
          "name": "stdout",
          "text": [
            "+------+----------+\n",
            "|gender|sum(marks)|\n",
            "+------+----------+\n",
            "|Female|     29636|\n",
            "|  Male|     30461|\n",
            "+------+----------+\n",
            "\n"
          ]
        }
      ]
    },
    {
      "cell_type": "code",
      "source": [
        "df.groupBy(\"gender\").count().show()\n",
        "df.groupBy(\"course\").count().show()\n",
        "df.groupBy(\"course\").sum(\"marks\").show()"
      ],
      "metadata": {
        "colab": {
          "base_uri": "https://localhost:8080/"
        },
        "id": "A9TCOfRaRjIq",
        "outputId": "33e5a818-cb36-464c-9d9e-532f3dbe85f5"
      },
      "execution_count": 132,
      "outputs": [
        {
          "output_type": "stream",
          "name": "stdout",
          "text": [
            "+------+-----+\n",
            "|gender|count|\n",
            "+------+-----+\n",
            "|Female|  501|\n",
            "|  Male|  499|\n",
            "+------+-----+\n",
            "\n",
            "+------+-----+\n",
            "|course|count|\n",
            "+------+-----+\n",
            "|    PF|  166|\n",
            "|    DB|  157|\n",
            "|   MVC|  157|\n",
            "|   DSA|  176|\n",
            "| Cloud|  192|\n",
            "|   OOP|  152|\n",
            "+------+-----+\n",
            "\n",
            "+------+----------+\n",
            "|course|sum(marks)|\n",
            "+------+----------+\n",
            "|    PF|      9933|\n",
            "|    DB|      9270|\n",
            "|   MVC|      9585|\n",
            "|   DSA|     10950|\n",
            "| Cloud|     11443|\n",
            "|   OOP|      8916|\n",
            "+------+----------+\n",
            "\n"
          ]
        }
      ]
    },
    {
      "cell_type": "code",
      "source": [
        "#agrupar por máximo e minimo\n",
        "df.groupBy(\"gender\").max(\"marks\").show()\n",
        "df.groupBy(\"course\").max(\"marks\").show()\n",
        "df.groupBy(\"gender\").min(\"marks\").show()\n",
        "df.groupBy(\"course\").min(\"marks\").show()"
      ],
      "metadata": {
        "colab": {
          "base_uri": "https://localhost:8080/"
        },
        "id": "4jw-HV36SPZy",
        "outputId": "945cf7ea-8642-4c2b-da7a-d0b8b752af2f"
      },
      "execution_count": 135,
      "outputs": [
        {
          "output_type": "stream",
          "name": "stdout",
          "text": [
            "+------+----------+\n",
            "|gender|max(marks)|\n",
            "+------+----------+\n",
            "|Female|        99|\n",
            "|  Male|        99|\n",
            "+------+----------+\n",
            "\n",
            "+------+----------+\n",
            "|course|max(marks)|\n",
            "+------+----------+\n",
            "|    PF|        99|\n",
            "|    DB|        98|\n",
            "|   MVC|        99|\n",
            "|   DSA|        99|\n",
            "| Cloud|        99|\n",
            "|   OOP|        99|\n",
            "+------+----------+\n",
            "\n",
            "+------+----------+\n",
            "|gender|min(marks)|\n",
            "+------+----------+\n",
            "|Female|        20|\n",
            "|  Male|        20|\n",
            "+------+----------+\n",
            "\n",
            "+------+----------+\n",
            "|course|min(marks)|\n",
            "+------+----------+\n",
            "|    PF|        20|\n",
            "|    DB|        20|\n",
            "|   MVC|        22|\n",
            "|   DSA|        20|\n",
            "| Cloud|        20|\n",
            "|   OOP|        20|\n",
            "+------+----------+\n",
            "\n"
          ]
        }
      ]
    },
    {
      "cell_type": "code",
      "source": [
        "#groupBy por medias\n",
        "df.groupBy(\"age\").avg(\"marks\").show()\n",
        "df.groupBy(\"course\").avg(\"marks\").show()"
      ],
      "metadata": {
        "colab": {
          "base_uri": "https://localhost:8080/"
        },
        "id": "LzkiPFDySwSo",
        "outputId": "32a61fb8-2ec9-4a8f-cfa8-70313fa819b8"
      },
      "execution_count": 137,
      "outputs": [
        {
          "output_type": "stream",
          "name": "stdout",
          "text": [
            "+---+------------------+\n",
            "|age|        avg(marks)|\n",
            "+---+------------------+\n",
            "| 28|60.487854251012145|\n",
            "| 29|59.715415019762844|\n",
            "+---+------------------+\n",
            "\n",
            "+------+------------------+\n",
            "|course|        avg(marks)|\n",
            "+------+------------------+\n",
            "|    PF| 59.83734939759036|\n",
            "|    DB|59.044585987261144|\n",
            "|   MVC| 61.05095541401274|\n",
            "|   DSA| 62.21590909090909|\n",
            "| Cloud|59.598958333333336|\n",
            "|   OOP|  58.6578947368421|\n",
            "+------+------------------+\n",
            "\n"
          ]
        }
      ]
    },
    {
      "cell_type": "code",
      "source": [
        "df.groupBy(\"gender\").mean(\"marks\").show()\n",
        "df.groupBy(\"course\").mean(\"marks\").show()"
      ],
      "metadata": {
        "colab": {
          "base_uri": "https://localhost:8080/"
        },
        "id": "jnJ1-dKxTAGG",
        "outputId": "bec3ac97-37b2-4ff4-ff2a-e9c9aee268ac"
      },
      "execution_count": 139,
      "outputs": [
        {
          "output_type": "stream",
          "name": "stdout",
          "text": [
            "+------+------------------+\n",
            "|gender|        avg(marks)|\n",
            "+------+------------------+\n",
            "|Female|59.153692614770456|\n",
            "|  Male| 61.04408817635271|\n",
            "+------+------------------+\n",
            "\n",
            "+------+------------------+\n",
            "|course|        avg(marks)|\n",
            "+------+------------------+\n",
            "|    PF| 59.83734939759036|\n",
            "|    DB|59.044585987261144|\n",
            "|   MVC| 61.05095541401274|\n",
            "|   DSA| 62.21590909090909|\n",
            "| Cloud|59.598958333333336|\n",
            "|   OOP|  58.6578947368421|\n",
            "+------+------------------+\n",
            "\n"
          ]
        }
      ]
    },
    {
      "cell_type": "markdown",
      "source": [
        "## groupBy em multiplas coluna no DataFrame"
      ],
      "metadata": {
        "id": "cK_SElrpTdDk"
      }
    },
    {
      "cell_type": "code",
      "source": [
        "df.groupBy(\"course\").count().show()\n",
        "df.groupBy(\"course\", \"gender\").count().orderBy(\"course\").show()"
      ],
      "metadata": {
        "colab": {
          "base_uri": "https://localhost:8080/"
        },
        "id": "NtfQBTu_Th4b",
        "outputId": "74cc4e77-3f28-40be-871c-04ea21d1f6b4"
      },
      "execution_count": 142,
      "outputs": [
        {
          "output_type": "stream",
          "name": "stdout",
          "text": [
            "+------+-----+\n",
            "|course|count|\n",
            "+------+-----+\n",
            "|    PF|  166|\n",
            "|    DB|  157|\n",
            "|   MVC|  157|\n",
            "|   DSA|  176|\n",
            "| Cloud|  192|\n",
            "|   OOP|  152|\n",
            "+------+-----+\n",
            "\n",
            "+------+------+-----+\n",
            "|course|gender|count|\n",
            "+------+------+-----+\n",
            "| Cloud|  Male|   86|\n",
            "| Cloud|Female|  106|\n",
            "|    DB|Female|   75|\n",
            "|    DB|  Male|   82|\n",
            "|   DSA|  Male|   78|\n",
            "|   DSA|Female|   98|\n",
            "|   MVC|Female|   71|\n",
            "|   MVC|  Male|   86|\n",
            "|   OOP|  Male|   70|\n",
            "|   OOP|Female|   82|\n",
            "|    PF|  Male|   97|\n",
            "|    PF|Female|   69|\n",
            "+------+------+-----+\n",
            "\n"
          ]
        }
      ]
    },
    {
      "cell_type": "code",
      "source": [
        "from pyspark.sql.functions import sum, avg, max, min, mean, count"
      ],
      "metadata": {
        "id": "zAC32MzxUj-b"
      },
      "execution_count": 143,
      "outputs": []
    },
    {
      "cell_type": "code",
      "source": [
        "# * considera todas as colunas \n",
        "# como calcular tudo de uma vez\n",
        "df.groupBy(\"course\", \"gender\").agg(count(\"*\")\\\n",
        "                                   .alias(\"total_enrllments\"),\\\n",
        "                                   sum(\"marks\").alias(\"total_marks\"),\\\n",
        "                                   min(\"marks\").alias(\"min_marks\"),\\\n",
        "                                   max(\"marks\").alias(\"max_marks\"),\\\n",
        "                                   avg(\"marks\").alias(\"avg_marks\"))\\\n",
        "                                   .orderBy(\"course\").show()"
      ],
      "metadata": {
        "colab": {
          "base_uri": "https://localhost:8080/"
        },
        "id": "3sSjMVV_U7wk",
        "outputId": "f0b32af3-07bb-4a08-9d05-181efff6fee7"
      },
      "execution_count": 154,
      "outputs": [
        {
          "output_type": "stream",
          "name": "stdout",
          "text": [
            "+------+------+----------------+-----------+---------+---------+------------------+\n",
            "|course|gender|total_enrllments|total_marks|min_marks|max_marks|         avg_marks|\n",
            "+------+------+----------------+-----------+---------+---------+------------------+\n",
            "| Cloud|  Male|              86|       5127|       21|       97|59.616279069767444|\n",
            "| Cloud|Female|             106|       6316|       20|       99| 59.58490566037736|\n",
            "|    DB|  Male|              82|       5073|       20|       98| 61.86585365853659|\n",
            "|    DB|Female|              75|       4197|       20|       96|             55.96|\n",
            "|   DSA|Female|              98|       6124|       20|       99| 62.48979591836735|\n",
            "|   DSA|  Male|              78|       4826|       20|       99| 61.87179487179487|\n",
            "|   MVC|Female|              71|       4344|       22|       99|61.183098591549296|\n",
            "|   MVC|  Male|              86|       5241|       22|       99| 60.94186046511628|\n",
            "|   OOP|Female|              82|       4682|       21|       99| 57.09756097560975|\n",
            "|   OOP|  Male|              70|       4234|       20|       99| 60.48571428571429|\n",
            "|    PF|  Male|              97|       5960|       20|       99| 61.44329896907217|\n",
            "|    PF|Female|              69|       3973|       20|       99| 57.57971014492754|\n",
            "+------+------+----------------+-----------+---------+---------+------------------+\n",
            "\n"
          ]
        }
      ]
    },
    {
      "cell_type": "code",
      "source": [
        "from pyspark.sql import SparkSession\n",
        "from pyspark.sql.functions import col, lit\n",
        "from pyspark.sql.functions import sum, avg, max, min, mean, count\n",
        "spark = SparkSession.builder.appName(\"Spark DataFrames\").getOrCreate()\n",
        "df = spark.read.options(header = 'True', inferSchema = 'True').csv('/content/drive/MyDrive/PySpark/data/OfficeData.csv')\n",
        "df.show()"
      ],
      "metadata": {
        "colab": {
          "base_uri": "https://localhost:8080/"
        },
        "id": "ZOiZZ76scRlk",
        "outputId": "5937d4b8-6347-412d-c8e0-88834731d972"
      },
      "execution_count": 155,
      "outputs": [
        {
          "output_type": "stream",
          "name": "stdout",
          "text": [
            "+-------------+----------+-----+------+---+-----+\n",
            "|employee_name|department|state|salary|age|bonus|\n",
            "+-------------+----------+-----+------+---+-----+\n",
            "|        James|     Sales|   NY| 90000| 34|10000|\n",
            "|      Michael|     Sales|   NY| 86000| 56|20000|\n",
            "|       Robert|     Sales|   CA| 81000| 30|23000|\n",
            "|        Maria|   Finance|   CA| 90000| 24|23000|\n",
            "|        Raman|   Finance|   CA| 99000| 40|24000|\n",
            "|        Scott|   Finance|   NY| 83000| 36|19000|\n",
            "|          Jen|   Finance|   NY| 79000| 53|15000|\n",
            "|         Jeff| Marketing|   CA| 80000| 25|18000|\n",
            "|        Kumar| Marketing|   NY| 91000| 50|21000|\n",
            "+-------------+----------+-----+------+---+-----+\n",
            "\n"
          ]
        }
      ]
    },
    {
      "cell_type": "code",
      "source": [
        "df.groupBy(\"department\").count().show()"
      ],
      "metadata": {
        "colab": {
          "base_uri": "https://localhost:8080/"
        },
        "id": "AJpz1B6MdB--",
        "outputId": "e9cadd77-035b-4f7f-8df4-642b9fbf5bfb"
      },
      "execution_count": 156,
      "outputs": [
        {
          "output_type": "stream",
          "name": "stdout",
          "text": [
            "+----------+-----+\n",
            "|department|count|\n",
            "+----------+-----+\n",
            "|     Sales|    3|\n",
            "|   Finance|    4|\n",
            "| Marketing|    2|\n",
            "+----------+-----+\n",
            "\n"
          ]
        }
      ]
    },
    {
      "cell_type": "code",
      "source": [
        "df.groupBy(\"department\").sum('salary').show()"
      ],
      "metadata": {
        "colab": {
          "base_uri": "https://localhost:8080/"
        },
        "id": "8CadYZdXd0dx",
        "outputId": "4118e301-61d0-4c5c-f2a0-170e04a722b6"
      },
      "execution_count": 159,
      "outputs": [
        {
          "output_type": "stream",
          "name": "stdout",
          "text": [
            "+----------+-----------+\n",
            "|department|sum(salary)|\n",
            "+----------+-----------+\n",
            "|     Sales|     257000|\n",
            "|   Finance|     351000|\n",
            "| Marketing|     171000|\n",
            "+----------+-----------+\n",
            "\n"
          ]
        }
      ]
    },
    {
      "cell_type": "code",
      "source": [
        "df.groupBy(\"department\").agg(sum('salary'), min('salary')).show()"
      ],
      "metadata": {
        "colab": {
          "base_uri": "https://localhost:8080/"
        },
        "id": "NXgbd75SeP_u",
        "outputId": "3384fed2-e00a-4290-c04e-86108a4b2c33"
      },
      "execution_count": 161,
      "outputs": [
        {
          "output_type": "stream",
          "name": "stdout",
          "text": [
            "+----------+-----------+-----------+\n",
            "|department|sum(salary)|min(salary)|\n",
            "+----------+-----------+-----------+\n",
            "|     Sales|     257000|      81000|\n",
            "|   Finance|     351000|      79000|\n",
            "| Marketing|     171000|      80000|\n",
            "+----------+-----------+-----------+\n",
            "\n"
          ]
        }
      ]
    },
    {
      "cell_type": "code",
      "source": [
        "#Criando multiplos grupos\n",
        "\n",
        "df.groupBy(\"department\", \"state\").agg(count('*')).show()"
      ],
      "metadata": {
        "colab": {
          "base_uri": "https://localhost:8080/"
        },
        "id": "fvs8M9z1e32-",
        "outputId": "cbc2147e-c842-4c45-97a1-34d98e698b69"
      },
      "execution_count": 163,
      "outputs": [
        {
          "output_type": "stream",
          "name": "stdout",
          "text": [
            "+----------+-----+--------+\n",
            "|department|state|count(1)|\n",
            "+----------+-----+--------+\n",
            "|   Finance|   NY|       2|\n",
            "| Marketing|   NY|       1|\n",
            "|     Sales|   CA|       1|\n",
            "| Marketing|   CA|       1|\n",
            "|   Finance|   CA|       2|\n",
            "|     Sales|   NY|       2|\n",
            "+----------+-----+--------+\n",
            "\n"
          ]
        }
      ]
    },
    {
      "cell_type": "markdown",
      "source": [
        "### filter no groupBy"
      ],
      "metadata": {
        "id": "TzQGTiJLffnQ"
      }
    },
    {
      "cell_type": "code",
      "source": [
        "from pyspark.sql import SparkSession\n",
        "from pyspark.sql.functions import col, lit\n",
        "from pyspark.sql.functions import sum, avg, max, min, mean, count\n",
        "spark = SparkSession.builder.appName(\"Spark DataFrames\").getOrCreate()\n",
        "df = spark.read.options(header = 'True', inferSchema = 'True').csv('/content/drive/MyDrive/PySpark/data/StudentData.csv')\n",
        "df.show()"
      ],
      "metadata": {
        "colab": {
          "base_uri": "https://localhost:8080/"
        },
        "id": "h5Shvkc1fjw7",
        "outputId": "2a03957e-5180-4e65-a029-562882b63200"
      },
      "execution_count": 164,
      "outputs": [
        {
          "output_type": "stream",
          "name": "stdout",
          "text": [
            "+---+------+----------------+------+------+-----+--------------------+\n",
            "|age|gender|            name|course|  roll|marks|               email|\n",
            "+---+------+----------------+------+------+-----+--------------------+\n",
            "| 28|Female| Hubert Oliveras|    DB|  2984|   59|Annika Hoffman_Na...|\n",
            "| 29|Female|Toshiko Hillyard| Cloud| 12899|   62|Margene Moores_Ma...|\n",
            "| 28|  Male|  Celeste Lollis|    PF| 21267|   45|Jeannetta Golden_...|\n",
            "| 29|Female|    Elenore Choy|    DB| 32877|   29|Billi Clore_Mitzi...|\n",
            "| 28|  Male|  Sheryll Towler|   DSA| 41487|   41|Claude Panos_Judi...|\n",
            "| 28|  Male|  Margene Moores|   MVC| 52771|   32|Toshiko Hillyard_...|\n",
            "| 28|  Male|     Neda Briski|   OOP| 61973|   69|Alberta Freund_El...|\n",
            "| 28|Female|    Claude Panos| Cloud| 72409|   85|Sheryll Towler_Al...|\n",
            "| 28|  Male|  Celeste Lollis|   MVC| 81492|   64|Nicole Harwood_Cl...|\n",
            "| 29|  Male|  Cordie Harnois|   OOP| 92882|   51|Judie Chipps_Clem...|\n",
            "| 29|Female|       Kena Wild|   DSA|102285|   35|Dustin Feagins_Ma...|\n",
            "| 29|  Male| Ernest Rossbach|    DB|111449|   53|Maybell Duguay_Ab...|\n",
            "| 28|Female|  Latia Vanhoose|    DB|122502|   27|Latia Vanhoose_Mi...|\n",
            "| 29|Female|  Latia Vanhoose|   MVC|132110|   55|Eda Neathery_Nico...|\n",
            "| 29|  Male|     Neda Briski|    PF|141770|   42|Margene Moores_Mi...|\n",
            "| 29|Female|  Latia Vanhoose|    DB|152159|   27|Claude Panos_Sant...|\n",
            "| 29|  Male|  Loris Crossett|   MVC|161771|   36|Mitzi Seldon_Jenn...|\n",
            "| 29|  Male|  Annika Hoffman|   OOP|171660|   22|Taryn Brownlee_Mi...|\n",
            "| 29|  Male|   Santa Kerfien|    PF|182129|   56|Judie Chipps_Tary...|\n",
            "| 28|Female|Mickey Cortright|    DB|192537|   62|Ernest Rossbach_M...|\n",
            "+---+------+----------------+------+------+-----+--------------------+\n",
            "only showing top 20 rows\n",
            "\n"
          ]
        }
      ]
    },
    {
      "cell_type": "code",
      "source": [
        "df2 = df.filter(df.gender == \"Male\")\n",
        "df2.groupBy(\"gender\").agg((count('*'))).show()\n",
        "df2.show()"
      ],
      "metadata": {
        "colab": {
          "base_uri": "https://localhost:8080/"
        },
        "id": "ANovNTy5ftQR",
        "outputId": "ebd96d9f-170b-4eba-9d88-1f5583526476"
      },
      "execution_count": 169,
      "outputs": [
        {
          "output_type": "stream",
          "name": "stdout",
          "text": [
            "+------+--------+\n",
            "|gender|count(1)|\n",
            "+------+--------+\n",
            "|  Male|     499|\n",
            "+------+--------+\n",
            "\n",
            "+---+------+----------------+------+------+-----+--------------------+\n",
            "|age|gender|            name|course|  roll|marks|               email|\n",
            "+---+------+----------------+------+------+-----+--------------------+\n",
            "| 28|  Male|  Celeste Lollis|    PF| 21267|   45|Jeannetta Golden_...|\n",
            "| 28|  Male|  Sheryll Towler|   DSA| 41487|   41|Claude Panos_Judi...|\n",
            "| 28|  Male|  Margene Moores|   MVC| 52771|   32|Toshiko Hillyard_...|\n",
            "| 28|  Male|     Neda Briski|   OOP| 61973|   69|Alberta Freund_El...|\n",
            "| 28|  Male|  Celeste Lollis|   MVC| 81492|   64|Nicole Harwood_Cl...|\n",
            "| 29|  Male|  Cordie Harnois|   OOP| 92882|   51|Judie Chipps_Clem...|\n",
            "| 29|  Male| Ernest Rossbach|    DB|111449|   53|Maybell Duguay_Ab...|\n",
            "| 29|  Male|     Neda Briski|    PF|141770|   42|Margene Moores_Mi...|\n",
            "| 29|  Male|  Loris Crossett|   MVC|161771|   36|Mitzi Seldon_Jenn...|\n",
            "| 29|  Male|  Annika Hoffman|   OOP|171660|   22|Taryn Brownlee_Mi...|\n",
            "| 29|  Male|   Santa Kerfien|    PF|182129|   56|Judie Chipps_Tary...|\n",
            "| 28|  Male| Hubert Oliveras|   OOP|351719|   63|Lawanda Wohlwend_...|\n",
            "| 28|  Male| Sebrina Maresca|    PF|361316|   62|Nicole Harwood_La...|\n",
            "| 29|  Male|  Jalisa Swenson|    PF|372873|   45|Ernest Rossbach_T...|\n",
            "| 28|  Male|   Kizzy Brenner|    DB|381712|   36|Paris Hutton_Kena...|\n",
            "| 28|  Male|Toshiko Hillyard|    DB|392218|   47|Leontine Phillips...|\n",
            "| 28|  Male|    Elenore Choy|    PF|422704|   66|Marylee Capasso_N...|\n",
            "| 28|  Male|  Dustin Feagins|    PF|461839|   51|Neda Briski_Eleno...|\n",
            "| 29|  Male|  Annika Hoffman|   OOP|472550|   35|Mitzi Seldon_Abra...|\n",
            "| 29|  Male|    Paris Hutton|    DB|481229|   57|Clementina Menke_...|\n",
            "+---+------+----------------+------+------+-----+--------------------+\n",
            "only showing top 20 rows\n",
            "\n"
          ]
        }
      ]
    },
    {
      "cell_type": "code",
      "source": [
        "df3 = df2.groupBy(\"course\", \"gender\").agg((count('*').alias(\"total_enrollments\")))\n",
        "df3.show()"
      ],
      "metadata": {
        "colab": {
          "base_uri": "https://localhost:8080/"
        },
        "id": "M32D1Cn3gnkT",
        "outputId": "13d71ebb-bbc1-4965-fafd-2f3ba774e2f6"
      },
      "execution_count": 173,
      "outputs": [
        {
          "output_type": "stream",
          "name": "stdout",
          "text": [
            "+------+------+-----------------+\n",
            "|course|gender|total_enrollments|\n",
            "+------+------+-----------------+\n",
            "|   OOP|  Male|               70|\n",
            "|    DB|  Male|               82|\n",
            "|   MVC|  Male|               86|\n",
            "|    PF|  Male|               97|\n",
            "| Cloud|  Male|               86|\n",
            "|   DSA|  Male|               78|\n",
            "+------+------+-----------------+\n",
            "\n"
          ]
        }
      ]
    },
    {
      "cell_type": "code",
      "source": [
        "# outra maneira de aplicar filtro\n",
        "df3.where(df3.total_enrollments > 85).show()\n",
        "df3.filter(df3.total_enrollments > 85).show()"
      ],
      "metadata": {
        "colab": {
          "base_uri": "https://localhost:8080/"
        },
        "id": "c1II1ToVhdAW",
        "outputId": "64596708-757c-4dcb-c6eb-859ef36c65f8"
      },
      "execution_count": 175,
      "outputs": [
        {
          "output_type": "stream",
          "name": "stdout",
          "text": [
            "+------+------+-----------------+\n",
            "|course|gender|total_enrollments|\n",
            "+------+------+-----------------+\n",
            "|   MVC|  Male|               86|\n",
            "|    PF|  Male|               97|\n",
            "| Cloud|  Male|               86|\n",
            "+------+------+-----------------+\n",
            "\n",
            "+------+------+-----------------+\n",
            "|course|gender|total_enrollments|\n",
            "+------+------+-----------------+\n",
            "|   MVC|  Male|               86|\n",
            "|    PF|  Male|               97|\n",
            "| Cloud|  Male|               86|\n",
            "+------+------+-----------------+\n",
            "\n"
          ]
        }
      ]
    },
    {
      "cell_type": "code",
      "source": [
        "df.filter(df.gender == \"Male\").groupBy(\"course\", \"gender\").agg(count('*').alias(\"total_enrollments\")).show()"
      ],
      "metadata": {
        "colab": {
          "base_uri": "https://localhost:8080/"
        },
        "id": "_nkV4fq2g_uf",
        "outputId": "0e65ef52-d147-402a-ebfb-63ea12d78ced"
      },
      "execution_count": 178,
      "outputs": [
        {
          "output_type": "stream",
          "name": "stdout",
          "text": [
            "+------+------+-----------------+\n",
            "|course|gender|total_enrollments|\n",
            "+------+------+-----------------+\n",
            "|   OOP|  Male|               70|\n",
            "|    DB|  Male|               82|\n",
            "|   MVC|  Male|               86|\n",
            "|    PF|  Male|               97|\n",
            "| Cloud|  Male|               86|\n",
            "|   DSA|  Male|               78|\n",
            "+------+------+-----------------+\n",
            "\n"
          ]
        }
      ]
    },
    {
      "cell_type": "code",
      "source": [
        "df.filter(df.gender == \"Male\").groupBy(\"course\", \"gender\").agg(count('*').alias(\"total_enrollments\")).filter(col(\"total_enrollments\") > 85).show()"
      ],
      "metadata": {
        "colab": {
          "base_uri": "https://localhost:8080/"
        },
        "id": "rRTIWfrVi952",
        "outputId": "e3526d40-7045-4bac-81ef-9f4830581f51"
      },
      "execution_count": 184,
      "outputs": [
        {
          "output_type": "stream",
          "name": "stdout",
          "text": [
            "+------+------+-----------------+\n",
            "|course|gender|total_enrollments|\n",
            "+------+------+-----------------+\n",
            "|   MVC|  Male|               86|\n",
            "|    PF|  Male|               97|\n",
            "| Cloud|  Male|               86|\n",
            "+------+------+-----------------+\n",
            "\n"
          ]
        }
      ]
    },
    {
      "cell_type": "markdown",
      "source": [
        "# Exemplos\n",
        "\n",
        "* Exibe o número total de alunos matriculados em cada curso\n",
        "* Exibe o número total de alunos do sexo masculino e feminino matriculados em cada curso\n",
        "* Exibir o total de notas alcançadas por cada gênero em cada curso\n",
        "* Exibir as notas mínimas, máximas e médias alcançadas em cada curso por cada faixa etária"
      ],
      "metadata": {
        "id": "kJDjsHxskJ3v"
      }
    },
    {
      "cell_type": "code",
      "source": [
        "from pyspark.sql import SparkSession\n",
        "from pyspark.sql.functions import col, lit\n",
        "from pyspark.sql.functions import sum, avg, max, min, mean, count\n",
        "spark = SparkSession.builder.appName(\"Spark DataFrames\").getOrCreate()\n",
        "df = spark.read.options(header = 'True', inferSchema = 'True').csv('/content/drive/MyDrive/PySpark/data/StudentData.csv')\n",
        "df.show()"
      ],
      "metadata": {
        "colab": {
          "base_uri": "https://localhost:8080/"
        },
        "id": "-ZiB9H9smNmN",
        "outputId": "bf0974d2-0da6-4647-c7c9-9f4129e45cb7"
      },
      "execution_count": 185,
      "outputs": [
        {
          "output_type": "stream",
          "name": "stdout",
          "text": [
            "+---+------+----------------+------+------+-----+--------------------+\n",
            "|age|gender|            name|course|  roll|marks|               email|\n",
            "+---+------+----------------+------+------+-----+--------------------+\n",
            "| 28|Female| Hubert Oliveras|    DB|  2984|   59|Annika Hoffman_Na...|\n",
            "| 29|Female|Toshiko Hillyard| Cloud| 12899|   62|Margene Moores_Ma...|\n",
            "| 28|  Male|  Celeste Lollis|    PF| 21267|   45|Jeannetta Golden_...|\n",
            "| 29|Female|    Elenore Choy|    DB| 32877|   29|Billi Clore_Mitzi...|\n",
            "| 28|  Male|  Sheryll Towler|   DSA| 41487|   41|Claude Panos_Judi...|\n",
            "| 28|  Male|  Margene Moores|   MVC| 52771|   32|Toshiko Hillyard_...|\n",
            "| 28|  Male|     Neda Briski|   OOP| 61973|   69|Alberta Freund_El...|\n",
            "| 28|Female|    Claude Panos| Cloud| 72409|   85|Sheryll Towler_Al...|\n",
            "| 28|  Male|  Celeste Lollis|   MVC| 81492|   64|Nicole Harwood_Cl...|\n",
            "| 29|  Male|  Cordie Harnois|   OOP| 92882|   51|Judie Chipps_Clem...|\n",
            "| 29|Female|       Kena Wild|   DSA|102285|   35|Dustin Feagins_Ma...|\n",
            "| 29|  Male| Ernest Rossbach|    DB|111449|   53|Maybell Duguay_Ab...|\n",
            "| 28|Female|  Latia Vanhoose|    DB|122502|   27|Latia Vanhoose_Mi...|\n",
            "| 29|Female|  Latia Vanhoose|   MVC|132110|   55|Eda Neathery_Nico...|\n",
            "| 29|  Male|     Neda Briski|    PF|141770|   42|Margene Moores_Mi...|\n",
            "| 29|Female|  Latia Vanhoose|    DB|152159|   27|Claude Panos_Sant...|\n",
            "| 29|  Male|  Loris Crossett|   MVC|161771|   36|Mitzi Seldon_Jenn...|\n",
            "| 29|  Male|  Annika Hoffman|   OOP|171660|   22|Taryn Brownlee_Mi...|\n",
            "| 29|  Male|   Santa Kerfien|    PF|182129|   56|Judie Chipps_Tary...|\n",
            "| 28|Female|Mickey Cortright|    DB|192537|   62|Ernest Rossbach_M...|\n",
            "+---+------+----------------+------+------+-----+--------------------+\n",
            "only showing top 20 rows\n",
            "\n"
          ]
        }
      ]
    },
    {
      "cell_type": "code",
      "source": [
        "df.groupBy(\"course\").count().show()"
      ],
      "metadata": {
        "colab": {
          "base_uri": "https://localhost:8080/"
        },
        "id": "9bl0OoicmTgq",
        "outputId": "e1ac4fb2-93a7-462f-d285-7735945ea44c"
      },
      "execution_count": 186,
      "outputs": [
        {
          "output_type": "stream",
          "name": "stdout",
          "text": [
            "+------+-----+\n",
            "|course|count|\n",
            "+------+-----+\n",
            "|    PF|  166|\n",
            "|    DB|  157|\n",
            "|   MVC|  157|\n",
            "|   DSA|  176|\n",
            "| Cloud|  192|\n",
            "|   OOP|  152|\n",
            "+------+-----+\n",
            "\n"
          ]
        }
      ]
    },
    {
      "cell_type": "code",
      "source": [
        "df.groupBy(\"course\", \"gender\").count().orderBy(\"course\").show()"
      ],
      "metadata": {
        "colab": {
          "base_uri": "https://localhost:8080/"
        },
        "id": "-8NtF65Xmj1K",
        "outputId": "920e26e1-3821-4a50-953d-bb941579a088"
      },
      "execution_count": 188,
      "outputs": [
        {
          "output_type": "stream",
          "name": "stdout",
          "text": [
            "+------+------+-----+\n",
            "|course|gender|count|\n",
            "+------+------+-----+\n",
            "| Cloud|  Male|   86|\n",
            "| Cloud|Female|  106|\n",
            "|    DB|  Male|   82|\n",
            "|    DB|Female|   75|\n",
            "|   DSA|Female|   98|\n",
            "|   DSA|  Male|   78|\n",
            "|   MVC|  Male|   86|\n",
            "|   MVC|Female|   71|\n",
            "|   OOP|  Male|   70|\n",
            "|   OOP|Female|   82|\n",
            "|    PF|  Male|   97|\n",
            "|    PF|Female|   69|\n",
            "+------+------+-----+\n",
            "\n"
          ]
        }
      ]
    },
    {
      "cell_type": "code",
      "source": [
        "df.groupby(\"gender\").agg(sum(\"marks\").alias(\"total_marks\")).show()"
      ],
      "metadata": {
        "colab": {
          "base_uri": "https://localhost:8080/"
        },
        "id": "FrRpgegHm2qg",
        "outputId": "8d0c9f81-0ceb-438e-ac18-11308bc26701"
      },
      "execution_count": 190,
      "outputs": [
        {
          "output_type": "stream",
          "name": "stdout",
          "text": [
            "+------+-----------+\n",
            "|gender|total_marks|\n",
            "+------+-----------+\n",
            "|Female|      29636|\n",
            "|  Male|      30461|\n",
            "+------+-----------+\n",
            "\n"
          ]
        }
      ]
    },
    {
      "cell_type": "code",
      "source": [
        "df.groupby(\"age\", \"course\").agg( min(\"marks\").alias(\"min_marks\"), max(\"marks\").alias(\"max_marks\"),avg(\"marks\").alias(\"average_marks\") ).orderBy(\"course\").show()"
      ],
      "metadata": {
        "colab": {
          "base_uri": "https://localhost:8080/"
        },
        "id": "AOTjykKAnKZd",
        "outputId": "ea29655e-36a3-40c2-901b-7d914b43d411"
      },
      "execution_count": 192,
      "outputs": [
        {
          "output_type": "stream",
          "name": "stdout",
          "text": [
            "+---+------+---------+---------+------------------+\n",
            "|age|course|min_marks|max_marks|     average_marks|\n",
            "+---+------+---------+---------+------------------+\n",
            "| 28| Cloud|       20|       99|             58.08|\n",
            "| 29| Cloud|       21|       98|             61.25|\n",
            "| 28|    DB|       21|       98| 58.76829268292683|\n",
            "| 29|    DB|       20|       98|59.346666666666664|\n",
            "| 29|   DSA|       20|       99| 60.01075268817204|\n",
            "| 28|   DSA|       20|       99|  64.6867469879518|\n",
            "| 28|   MVC|       23|       99| 60.44444444444444|\n",
            "| 29|   MVC|       22|       99| 61.56470588235294|\n",
            "| 29|   OOP|       20|       99|59.729729729729726|\n",
            "| 28|   OOP|       23|       99| 57.64102564102564|\n",
            "| 28|    PF|       20|       98| 63.75949367088607|\n",
            "| 29|    PF|       20|       99|56.275862068965516|\n",
            "+---+------+---------+---------+------------------+\n",
            "\n"
          ]
        }
      ]
    }
  ]
}