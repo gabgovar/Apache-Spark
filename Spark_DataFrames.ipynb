{
  "nbformat": 4,
  "nbformat_minor": 0,
  "metadata": {
    "colab": {
      "name": "Spark DataFrames.ipynb",
      "provenance": [],
      "mount_file_id": "1fF2qkvZfxIcA_lHsLP3RE9uyCI-p21CE",
      "authorship_tag": "ABX9TyP5hjsuQCRfQX1rUgigtehe",
      "include_colab_link": true
    },
    "kernelspec": {
      "name": "python3",
      "display_name": "Python 3"
    },
    "language_info": {
      "name": "python"
    }
  },
  "cells": [
    {
      "cell_type": "markdown",
      "metadata": {
        "id": "view-in-github",
        "colab_type": "text"
      },
      "source": [
        "<a href=\"https://colab.research.google.com/github/gabgovar/Apache-Spark/blob/main/Spark_DataFrames.ipynb\" target=\"_parent\"><img src=\"https://colab.research.google.com/assets/colab-badge.svg\" alt=\"Open In Colab\"/></a>"
      ]
    },
    {
      "cell_type": "markdown",
      "source": [
        "# Spark DataFrame"
      ],
      "metadata": {
        "id": "jPTNHSjXGlAa"
      }
    },
    {
      "cell_type": "markdown",
      "source": [
        "## Montando o Google Colab no Google Drive"
      ],
      "metadata": {
        "id": "KRW5fNKaF6mI"
      }
    },
    {
      "cell_type": "code",
      "source": [
        "from google.colab import drive\n",
        "drive.mount('/content/drive')"
      ],
      "metadata": {
        "colab": {
          "base_uri": "https://localhost:8080/"
        },
        "id": "CITLuGxgEV9q",
        "outputId": "1e2cc2d9-bc23-402a-9557-606b8504517e"
      },
      "execution_count": 13,
      "outputs": [
        {
          "output_type": "stream",
          "name": "stdout",
          "text": [
            "Mounted at /content/drive\n"
          ]
        }
      ]
    },
    {
      "cell_type": "markdown",
      "source": [
        "## Instalando as Demendências do Hadoop Spark no Google Colab"
      ],
      "metadata": {
        "id": "FRfsRr0VGJYZ"
      }
    },
    {
      "cell_type": "code",
      "execution_count": 1,
      "metadata": {
        "id": "cL-O-bNB-9g7"
      },
      "outputs": [],
      "source": [
        "# instalar as dependências\n",
        "!apt-get install openjdk-8-jdk-headless -qq > /dev/null\n",
        "!wget -q https://archive.apache.org/dist/spark/spark-2.4.4/spark-2.4.4-bin-hadoop2.7.tgz\n",
        "!tar xf spark-2.4.4-bin-hadoop2.7.tgz\n",
        "!pip install -q findspark"
      ]
    },
    {
      "cell_type": "markdown",
      "source": [
        "## Configurando as Demendências do Hadoop Spark no Google Colab"
      ],
      "metadata": {
        "id": "b9Y_fkTvGMIg"
      }
    },
    {
      "cell_type": "code",
      "source": [
        "# configurar as variáveis de ambiente\n",
        "import os\n",
        "os.environ[\"JAVA_HOME\"] = \"/usr/lib/jvm/java-8-openjdk-amd64\"\n",
        "os.environ[\"SPARK_HOME\"] = \"/content/spark-2.4.4-bin-hadoop2.7\"\n",
        "\n",
        "# tornar o pyspark \"importável\"\n",
        "import findspark\n",
        "findspark.init('spark-2.4.4-bin-hadoop2.7')\n",
        "findspark.find()"
      ],
      "metadata": {
        "colab": {
          "base_uri": "https://localhost:8080/",
          "height": 36
        },
        "id": "uSqN-IlR_EZz",
        "outputId": "30761e7e-7798-487f-bead-dd7af65c911e"
      },
      "execution_count": 11,
      "outputs": [
        {
          "output_type": "execute_result",
          "data": {
            "application/vnd.google.colaboratory.intrinsic+json": {
              "type": "string"
            },
            "text/plain": [
              "'spark-2.4.4-bin-hadoop2.7/python/pyspark'"
            ]
          },
          "metadata": {},
          "execution_count": 11
        }
      ]
    },
    {
      "cell_type": "markdown",
      "source": [
        "## Leitura de um DataFrame pelo Spark"
      ],
      "metadata": {
        "id": "gnTSEcnHGSw6"
      }
    },
    {
      "cell_type": "code",
      "source": [
        "from pyspark.sql import SparkSession\n",
        "\n",
        "spark = SparkSession\\\n",
        "        .builder\\\n",
        "        .appName(\"Spark_DataFrames\")\\\n",
        "        .getOrCreate()"
      ],
      "metadata": {
        "id": "3wPVCG4jBQLI"
      },
      "execution_count": 12,
      "outputs": []
    },
    {
      "cell_type": "markdown",
      "source": [
        "* A primeira linha são as informações do DF, então o .option(\"header\", True) insere o cabeçalho no DF"
      ],
      "metadata": {
        "id": "lbKGsDj4Ff6n"
      }
    },
    {
      "cell_type": "code",
      "source": [
        "df = spark.read.option(\"header\", True).csv('/content/drive/MyDrive/PySpark/data/StudentData.csv')\n",
        "df.show()"
      ],
      "metadata": {
        "colab": {
          "base_uri": "https://localhost:8080/"
        },
        "id": "6fe-TxvpCt9R",
        "outputId": "3d577b59-94b1-442f-91cc-f60a1dc537ab"
      },
      "execution_count": 16,
      "outputs": [
        {
          "output_type": "stream",
          "name": "stdout",
          "text": [
            "+---+------+----------------+------+------+-----+--------------------+\n",
            "|age|gender|            name|course|  roll|marks|               email|\n",
            "+---+------+----------------+------+------+-----+--------------------+\n",
            "| 28|Female| Hubert Oliveras|    DB| 02984|   59|Annika Hoffman_Na...|\n",
            "| 29|Female|Toshiko Hillyard| Cloud| 12899|   62|Margene Moores_Ma...|\n",
            "| 28|  Male|  Celeste Lollis|    PF| 21267|   45|Jeannetta Golden_...|\n",
            "| 29|Female|    Elenore Choy|    DB| 32877|   29|Billi Clore_Mitzi...|\n",
            "| 28|  Male|  Sheryll Towler|   DSA| 41487|   41|Claude Panos_Judi...|\n",
            "| 28|  Male|  Margene Moores|   MVC| 52771|   32|Toshiko Hillyard_...|\n",
            "| 28|  Male|     Neda Briski|   OOP| 61973|   69|Alberta Freund_El...|\n",
            "| 28|Female|    Claude Panos| Cloud| 72409|   85|Sheryll Towler_Al...|\n",
            "| 28|  Male|  Celeste Lollis|   MVC| 81492|   64|Nicole Harwood_Cl...|\n",
            "| 29|  Male|  Cordie Harnois|   OOP| 92882|   51|Judie Chipps_Clem...|\n",
            "| 29|Female|       Kena Wild|   DSA|102285|   35|Dustin Feagins_Ma...|\n",
            "| 29|  Male| Ernest Rossbach|    DB|111449|   53|Maybell Duguay_Ab...|\n",
            "| 28|Female|  Latia Vanhoose|    DB|122502|   27|Latia Vanhoose_Mi...|\n",
            "| 29|Female|  Latia Vanhoose|   MVC|132110|   55|Eda Neathery_Nico...|\n",
            "| 29|  Male|     Neda Briski|    PF|141770|   42|Margene Moores_Mi...|\n",
            "| 29|Female|  Latia Vanhoose|    DB|152159|   27|Claude Panos_Sant...|\n",
            "| 29|  Male|  Loris Crossett|   MVC|161771|   36|Mitzi Seldon_Jenn...|\n",
            "| 29|  Male|  Annika Hoffman|   OOP|171660|   22|Taryn Brownlee_Mi...|\n",
            "| 29|  Male|   Santa Kerfien|    PF|182129|   56|Judie Chipps_Tary...|\n",
            "| 28|Female|Mickey Cortright|    DB|192537|   62|Ernest Rossbach_M...|\n",
            "+---+------+----------------+------+------+-----+--------------------+\n",
            "only showing top 20 rows\n",
            "\n"
          ]
        }
      ]
    },
    {
      "cell_type": "markdown",
      "source": [
        "## Schema de um DataFrame\n",
        "\n",
        "* option(\"inferSchema\", True) ⇒ define automáticamente o Type do dado no interior do DF\n",
        "\n",
        "* se estiver utilizando um delimitador diferente da virgula (,), por exemplo tab (tsv, separado por tab), dentro do options inserir o comando .option(delimiter = '\\t')"
      ],
      "metadata": {
        "id": "y8awArqwG7oE"
      }
    },
    {
      "cell_type": "code",
      "source": [
        "df = spark.read.options(inferSchema='True', header = 'True', delimiter = ',').csv('/content/drive/MyDrive/PySpark/data/StudentData.csv')"
      ],
      "metadata": {
        "id": "HHGVMU44HB4M"
      },
      "execution_count": 23,
      "outputs": []
    },
    {
      "cell_type": "code",
      "source": [
        "df.printSchema()"
      ],
      "metadata": {
        "colab": {
          "base_uri": "https://localhost:8080/"
        },
        "id": "Rhq9sSDlIN50",
        "outputId": "bd3fb7e8-e043-413a-b4b8-9f37958f0528"
      },
      "execution_count": 24,
      "outputs": [
        {
          "output_type": "stream",
          "name": "stdout",
          "text": [
            "root\n",
            " |-- age: integer (nullable = true)\n",
            " |-- gender: string (nullable = true)\n",
            " |-- name: string (nullable = true)\n",
            " |-- course: string (nullable = true)\n",
            " |-- roll: integer (nullable = true)\n",
            " |-- marks: integer (nullable = true)\n",
            " |-- email: string (nullable = true)\n",
            "\n"
          ]
        }
      ]
    },
    {
      "cell_type": "code",
      "source": [
        "df.show()"
      ],
      "metadata": {
        "colab": {
          "base_uri": "https://localhost:8080/"
        },
        "id": "HYRvMYGnIPFx",
        "outputId": "a0ce811d-97da-46b2-e2d5-6ba5d1770b8a"
      },
      "execution_count": 25,
      "outputs": [
        {
          "output_type": "stream",
          "name": "stdout",
          "text": [
            "+---+------+----------------+------+------+-----+--------------------+\n",
            "|age|gender|            name|course|  roll|marks|               email|\n",
            "+---+------+----------------+------+------+-----+--------------------+\n",
            "| 28|Female| Hubert Oliveras|    DB|  2984|   59|Annika Hoffman_Na...|\n",
            "| 29|Female|Toshiko Hillyard| Cloud| 12899|   62|Margene Moores_Ma...|\n",
            "| 28|  Male|  Celeste Lollis|    PF| 21267|   45|Jeannetta Golden_...|\n",
            "| 29|Female|    Elenore Choy|    DB| 32877|   29|Billi Clore_Mitzi...|\n",
            "| 28|  Male|  Sheryll Towler|   DSA| 41487|   41|Claude Panos_Judi...|\n",
            "| 28|  Male|  Margene Moores|   MVC| 52771|   32|Toshiko Hillyard_...|\n",
            "| 28|  Male|     Neda Briski|   OOP| 61973|   69|Alberta Freund_El...|\n",
            "| 28|Female|    Claude Panos| Cloud| 72409|   85|Sheryll Towler_Al...|\n",
            "| 28|  Male|  Celeste Lollis|   MVC| 81492|   64|Nicole Harwood_Cl...|\n",
            "| 29|  Male|  Cordie Harnois|   OOP| 92882|   51|Judie Chipps_Clem...|\n",
            "| 29|Female|       Kena Wild|   DSA|102285|   35|Dustin Feagins_Ma...|\n",
            "| 29|  Male| Ernest Rossbach|    DB|111449|   53|Maybell Duguay_Ab...|\n",
            "| 28|Female|  Latia Vanhoose|    DB|122502|   27|Latia Vanhoose_Mi...|\n",
            "| 29|Female|  Latia Vanhoose|   MVC|132110|   55|Eda Neathery_Nico...|\n",
            "| 29|  Male|     Neda Briski|    PF|141770|   42|Margene Moores_Mi...|\n",
            "| 29|Female|  Latia Vanhoose|    DB|152159|   27|Claude Panos_Sant...|\n",
            "| 29|  Male|  Loris Crossett|   MVC|161771|   36|Mitzi Seldon_Jenn...|\n",
            "| 29|  Male|  Annika Hoffman|   OOP|171660|   22|Taryn Brownlee_Mi...|\n",
            "| 29|  Male|   Santa Kerfien|    PF|182129|   56|Judie Chipps_Tary...|\n",
            "| 28|Female|Mickey Cortright|    DB|192537|   62|Ernest Rossbach_M...|\n",
            "+---+------+----------------+------+------+-----+--------------------+\n",
            "only showing top 20 rows\n",
            "\n"
          ]
        }
      ]
    },
    {
      "cell_type": "markdown",
      "source": [
        "## Fornecendo o Schema DataFrame"
      ],
      "metadata": {
        "id": "hn4SGkIfJb2Y"
      }
    },
    {
      "cell_type": "code",
      "source": [
        "from pyspark.sql.types import StructType, StructField, StringType, IntegerType\n",
        "\n",
        "schema = StructType([\n",
        "                     StructField(\"age\", IntegerType(), True),\n",
        "                     StructField(\"gender\", StringType(), True),\n",
        "                     StructField(\"name\", StringType(), True),\n",
        "                     StructField(\"course\", StringType(), True),\n",
        "                     StructField(\"roll\", StringType(), True),\n",
        "                     StructField(\"marks\", IntegerType(), True),\n",
        "                     StructField(\"email\", StringType(), True)\n",
        "])"
      ],
      "metadata": {
        "id": "Rlw9HKkQJprB"
      },
      "execution_count": 26,
      "outputs": []
    },
    {
      "cell_type": "code",
      "source": [
        "df = spark.read.options(header = 'True').schema(schema).csv('/content/drive/MyDrive/PySpark/data/StudentData.csv')\n",
        "df.printSchema()"
      ],
      "metadata": {
        "colab": {
          "base_uri": "https://localhost:8080/"
        },
        "id": "Mv1NmVJ6LRrF",
        "outputId": "f8adbaba-f407-427d-e73f-1130264326fc"
      },
      "execution_count": 29,
      "outputs": [
        {
          "output_type": "stream",
          "name": "stdout",
          "text": [
            "root\n",
            " |-- age: integer (nullable = true)\n",
            " |-- gender: string (nullable = true)\n",
            " |-- name: string (nullable = true)\n",
            " |-- course: string (nullable = true)\n",
            " |-- roll: string (nullable = true)\n",
            " |-- marks: integer (nullable = true)\n",
            " |-- email: string (nullable = true)\n",
            "\n"
          ]
        }
      ]
    },
    {
      "cell_type": "markdown",
      "source": [
        "## Criando um DF a partir de um RDD"
      ],
      "metadata": {
        "id": "rkS7nb_4MyJf"
      }
    },
    {
      "cell_type": "code",
      "source": [
        "from pyspark.sql import SparkSession\n",
        "spark = SparkSession\\\n",
        "        .builder\\\n",
        "        .appName(\"Spark DataFrame\")\\\n",
        "        .get0rCreate()"
      ],
      "metadata": {
        "colab": {
          "base_uri": "https://localhost:8080/",
          "height": 191
        },
        "id": "2e6gkz4PNDF3",
        "outputId": "6a8d6dd7-17f6-49ad-85f3-c31b4b547abf"
      },
      "execution_count": 45,
      "outputs": [
        {
          "output_type": "error",
          "ename": "AttributeError",
          "evalue": "ignored",
          "traceback": [
            "\u001b[0;31m---------------------------------------------------------------------------\u001b[0m",
            "\u001b[0;31mAttributeError\u001b[0m                            Traceback (most recent call last)",
            "\u001b[0;32m<ipython-input-45-238b2d208147>\u001b[0m in \u001b[0;36m<module>\u001b[0;34m()\u001b[0m\n\u001b[1;32m      1\u001b[0m \u001b[0;32mfrom\u001b[0m \u001b[0mpyspark\u001b[0m\u001b[0;34m.\u001b[0m\u001b[0msql\u001b[0m \u001b[0;32mimport\u001b[0m \u001b[0mSparkSession\u001b[0m\u001b[0;34m\u001b[0m\u001b[0;34m\u001b[0m\u001b[0m\n\u001b[0;32m----> 2\u001b[0;31m \u001b[0mspark\u001b[0m \u001b[0;34m=\u001b[0m \u001b[0mSparkSession\u001b[0m        \u001b[0;34m.\u001b[0m\u001b[0mbuilder\u001b[0m        \u001b[0;34m.\u001b[0m\u001b[0mappName\u001b[0m\u001b[0;34m(\u001b[0m\u001b[0;34m\"Spark DataFrame\"\u001b[0m\u001b[0;34m)\u001b[0m        \u001b[0;34m.\u001b[0m\u001b[0mget0rCreate\u001b[0m\u001b[0;34m(\u001b[0m\u001b[0;34m)\u001b[0m\u001b[0;34m\u001b[0m\u001b[0;34m\u001b[0m\u001b[0m\n\u001b[0m",
            "\u001b[0;31mAttributeError\u001b[0m: 'Builder' object has no attribute 'get0rCreate'"
          ]
        }
      ]
    },
    {
      "cell_type": "code",
      "source": [
        "from pyspark import SparkConf, SparkContext\n",
        "conf = SparkConf().setAppName(\"RDD\")\n",
        "sc = SparkContext.getOrCreate(conf=conf)\n",
        "\n",
        "rdd = sc.textFile('/content/drive/MyDrive/PySpark/data/StudentData.csv')\n",
        "headers = rdd.first()\n",
        "\n",
        "rdd = rdd.filter(lambda x: x!= headers).map(lambda x: x.split(','))\n",
        "rdd = rdd.map(lambda x: [int(x[0]), x[1], x[2], x[3], x[4], int(x[5]), x[6]])"
      ],
      "metadata": {
        "id": "OATXbJcpNWWX"
      },
      "execution_count": 52,
      "outputs": []
    },
    {
      "cell_type": "code",
      "source": [
        "columns = headers.split(\",\")\n",
        "dfRdd = rdd.toDF(columns)\n",
        "dfRdd.show()"
      ],
      "metadata": {
        "colab": {
          "base_uri": "https://localhost:8080/"
        },
        "id": "HOzPbMezOZ3J",
        "outputId": "fb9d4acc-8d25-497d-f9ae-4c5bb6c8e38a"
      },
      "execution_count": 53,
      "outputs": [
        {
          "output_type": "stream",
          "name": "stdout",
          "text": [
            "+---+------+----------------+------+------+-----+--------------------+\n",
            "|age|gender|            name|course|  roll|marks|               email|\n",
            "+---+------+----------------+------+------+-----+--------------------+\n",
            "| 28|Female| Hubert Oliveras|    DB| 02984|   59|Annika Hoffman_Na...|\n",
            "| 29|Female|Toshiko Hillyard| Cloud| 12899|   62|Margene Moores_Ma...|\n",
            "| 28|  Male|  Celeste Lollis|    PF| 21267|   45|Jeannetta Golden_...|\n",
            "| 29|Female|    Elenore Choy|    DB| 32877|   29|Billi Clore_Mitzi...|\n",
            "| 28|  Male|  Sheryll Towler|   DSA| 41487|   41|Claude Panos_Judi...|\n",
            "| 28|  Male|  Margene Moores|   MVC| 52771|   32|Toshiko Hillyard_...|\n",
            "| 28|  Male|     Neda Briski|   OOP| 61973|   69|Alberta Freund_El...|\n",
            "| 28|Female|    Claude Panos| Cloud| 72409|   85|Sheryll Towler_Al...|\n",
            "| 28|  Male|  Celeste Lollis|   MVC| 81492|   64|Nicole Harwood_Cl...|\n",
            "| 29|  Male|  Cordie Harnois|   OOP| 92882|   51|Judie Chipps_Clem...|\n",
            "| 29|Female|       Kena Wild|   DSA|102285|   35|Dustin Feagins_Ma...|\n",
            "| 29|  Male| Ernest Rossbach|    DB|111449|   53|Maybell Duguay_Ab...|\n",
            "| 28|Female|  Latia Vanhoose|    DB|122502|   27|Latia Vanhoose_Mi...|\n",
            "| 29|Female|  Latia Vanhoose|   MVC|132110|   55|Eda Neathery_Nico...|\n",
            "| 29|  Male|     Neda Briski|    PF|141770|   42|Margene Moores_Mi...|\n",
            "| 29|Female|  Latia Vanhoose|    DB|152159|   27|Claude Panos_Sant...|\n",
            "| 29|  Male|  Loris Crossett|   MVC|161771|   36|Mitzi Seldon_Jenn...|\n",
            "| 29|  Male|  Annika Hoffman|   OOP|171660|   22|Taryn Brownlee_Mi...|\n",
            "| 29|  Male|   Santa Kerfien|    PF|182129|   56|Judie Chipps_Tary...|\n",
            "| 28|Female|Mickey Cortright|    DB|192537|   62|Ernest Rossbach_M...|\n",
            "+---+------+----------------+------+------+-----+--------------------+\n",
            "only showing top 20 rows\n",
            "\n"
          ]
        }
      ]
    },
    {
      "cell_type": "code",
      "source": [
        "from pyspark.sql.types import StructType, StructField, StringType, IntegerType\n",
        "\n",
        "schema = StructType([\n",
        "                     StructField(\"age\", IntegerType(), True),\n",
        "                     StructField(\"gender\", StringType(), True),\n",
        "                     StructField(\"name\", StringType(), True),\n",
        "                     StructField(\"course\", StringType(), True),\n",
        "                     StructField(\"roll\", StringType(), True),\n",
        "                     StructField(\"marks\", IntegerType(), True),\n",
        "                     StructField(\"email\", StringType(), True)\n",
        "])"
      ],
      "metadata": {
        "id": "0BQelXPyO9LQ"
      },
      "execution_count": 54,
      "outputs": []
    },
    {
      "cell_type": "code",
      "source": [
        "dfRdd2 = spark.createDataFrame(rdd, schema=schema)\n",
        "dfRdd2.show()\n",
        "dfRdd2.printSchema()"
      ],
      "metadata": {
        "colab": {
          "base_uri": "https://localhost:8080/"
        },
        "id": "uuQFUpwcQAnL",
        "outputId": "9594f1b0-359e-4993-a605-b41dcefd918c"
      },
      "execution_count": 55,
      "outputs": [
        {
          "output_type": "stream",
          "name": "stdout",
          "text": [
            "+---+------+----------------+------+------+-----+--------------------+\n",
            "|age|gender|            name|course|  roll|marks|               email|\n",
            "+---+------+----------------+------+------+-----+--------------------+\n",
            "| 28|Female| Hubert Oliveras|    DB| 02984|   59|Annika Hoffman_Na...|\n",
            "| 29|Female|Toshiko Hillyard| Cloud| 12899|   62|Margene Moores_Ma...|\n",
            "| 28|  Male|  Celeste Lollis|    PF| 21267|   45|Jeannetta Golden_...|\n",
            "| 29|Female|    Elenore Choy|    DB| 32877|   29|Billi Clore_Mitzi...|\n",
            "| 28|  Male|  Sheryll Towler|   DSA| 41487|   41|Claude Panos_Judi...|\n",
            "| 28|  Male|  Margene Moores|   MVC| 52771|   32|Toshiko Hillyard_...|\n",
            "| 28|  Male|     Neda Briski|   OOP| 61973|   69|Alberta Freund_El...|\n",
            "| 28|Female|    Claude Panos| Cloud| 72409|   85|Sheryll Towler_Al...|\n",
            "| 28|  Male|  Celeste Lollis|   MVC| 81492|   64|Nicole Harwood_Cl...|\n",
            "| 29|  Male|  Cordie Harnois|   OOP| 92882|   51|Judie Chipps_Clem...|\n",
            "| 29|Female|       Kena Wild|   DSA|102285|   35|Dustin Feagins_Ma...|\n",
            "| 29|  Male| Ernest Rossbach|    DB|111449|   53|Maybell Duguay_Ab...|\n",
            "| 28|Female|  Latia Vanhoose|    DB|122502|   27|Latia Vanhoose_Mi...|\n",
            "| 29|Female|  Latia Vanhoose|   MVC|132110|   55|Eda Neathery_Nico...|\n",
            "| 29|  Male|     Neda Briski|    PF|141770|   42|Margene Moores_Mi...|\n",
            "| 29|Female|  Latia Vanhoose|    DB|152159|   27|Claude Panos_Sant...|\n",
            "| 29|  Male|  Loris Crossett|   MVC|161771|   36|Mitzi Seldon_Jenn...|\n",
            "| 29|  Male|  Annika Hoffman|   OOP|171660|   22|Taryn Brownlee_Mi...|\n",
            "| 29|  Male|   Santa Kerfien|    PF|182129|   56|Judie Chipps_Tary...|\n",
            "| 28|Female|Mickey Cortright|    DB|192537|   62|Ernest Rossbach_M...|\n",
            "+---+------+----------------+------+------+-----+--------------------+\n",
            "only showing top 20 rows\n",
            "\n",
            "root\n",
            " |-- age: integer (nullable = true)\n",
            " |-- gender: string (nullable = true)\n",
            " |-- name: string (nullable = true)\n",
            " |-- course: string (nullable = true)\n",
            " |-- roll: string (nullable = true)\n",
            " |-- marks: integer (nullable = true)\n",
            " |-- email: string (nullable = true)\n",
            "\n"
          ]
        }
      ]
    },
    {
      "cell_type": "markdown",
      "source": [
        "## Select colunas do DataFrame"
      ],
      "metadata": {
        "id": "_UICMExkSI3w"
      }
    },
    {
      "cell_type": "code",
      "source": [
        "from pyspark.sql import SparkSession\n",
        "spark = SparkSession.builder.appName(\"Spark DataFrames\").getOrCreate()\n"
      ],
      "metadata": {
        "id": "CzRFTQ7jSPXB"
      },
      "execution_count": 56,
      "outputs": []
    },
    {
      "cell_type": "code",
      "source": [
        "df = spark.read.options(header = 'True', inferSchema = 'True').csv('/content/drive/MyDrive/PySpark/data/StudentData.csv')\n",
        "df.show()"
      ],
      "metadata": {
        "colab": {
          "base_uri": "https://localhost:8080/"
        },
        "id": "rfFmggRTSg_q",
        "outputId": "dcfb316c-6d43-4ab2-c7fc-10fc086bbdde"
      },
      "execution_count": 58,
      "outputs": [
        {
          "output_type": "stream",
          "name": "stdout",
          "text": [
            "+---+------+----------------+------+------+-----+--------------------+\n",
            "|age|gender|            name|course|  roll|marks|               email|\n",
            "+---+------+----------------+------+------+-----+--------------------+\n",
            "| 28|Female| Hubert Oliveras|    DB|  2984|   59|Annika Hoffman_Na...|\n",
            "| 29|Female|Toshiko Hillyard| Cloud| 12899|   62|Margene Moores_Ma...|\n",
            "| 28|  Male|  Celeste Lollis|    PF| 21267|   45|Jeannetta Golden_...|\n",
            "| 29|Female|    Elenore Choy|    DB| 32877|   29|Billi Clore_Mitzi...|\n",
            "| 28|  Male|  Sheryll Towler|   DSA| 41487|   41|Claude Panos_Judi...|\n",
            "| 28|  Male|  Margene Moores|   MVC| 52771|   32|Toshiko Hillyard_...|\n",
            "| 28|  Male|     Neda Briski|   OOP| 61973|   69|Alberta Freund_El...|\n",
            "| 28|Female|    Claude Panos| Cloud| 72409|   85|Sheryll Towler_Al...|\n",
            "| 28|  Male|  Celeste Lollis|   MVC| 81492|   64|Nicole Harwood_Cl...|\n",
            "| 29|  Male|  Cordie Harnois|   OOP| 92882|   51|Judie Chipps_Clem...|\n",
            "| 29|Female|       Kena Wild|   DSA|102285|   35|Dustin Feagins_Ma...|\n",
            "| 29|  Male| Ernest Rossbach|    DB|111449|   53|Maybell Duguay_Ab...|\n",
            "| 28|Female|  Latia Vanhoose|    DB|122502|   27|Latia Vanhoose_Mi...|\n",
            "| 29|Female|  Latia Vanhoose|   MVC|132110|   55|Eda Neathery_Nico...|\n",
            "| 29|  Male|     Neda Briski|    PF|141770|   42|Margene Moores_Mi...|\n",
            "| 29|Female|  Latia Vanhoose|    DB|152159|   27|Claude Panos_Sant...|\n",
            "| 29|  Male|  Loris Crossett|   MVC|161771|   36|Mitzi Seldon_Jenn...|\n",
            "| 29|  Male|  Annika Hoffman|   OOP|171660|   22|Taryn Brownlee_Mi...|\n",
            "| 29|  Male|   Santa Kerfien|    PF|182129|   56|Judie Chipps_Tary...|\n",
            "| 28|Female|Mickey Cortright|    DB|192537|   62|Ernest Rossbach_M...|\n",
            "+---+------+----------------+------+------+-----+--------------------+\n",
            "only showing top 20 rows\n",
            "\n"
          ]
        }
      ]
    },
    {
      "cell_type": "markdown",
      "source": [
        "* Como selecionar colunas no DF"
      ],
      "metadata": {
        "id": "nVFR46PmppOW"
      }
    },
    {
      "cell_type": "code",
      "source": [
        "df.select(\"name\",\"gender\").show()"
      ],
      "metadata": {
        "colab": {
          "base_uri": "https://localhost:8080/"
        },
        "id": "7AGk6V6UpktE",
        "outputId": "fe6f5257-1779-488f-f954-ae72266a7dc8"
      },
      "execution_count": 61,
      "outputs": [
        {
          "output_type": "stream",
          "name": "stdout",
          "text": [
            "+----------------+------+\n",
            "|            name|gender|\n",
            "+----------------+------+\n",
            "| Hubert Oliveras|Female|\n",
            "|Toshiko Hillyard|Female|\n",
            "|  Celeste Lollis|  Male|\n",
            "|    Elenore Choy|Female|\n",
            "|  Sheryll Towler|  Male|\n",
            "|  Margene Moores|  Male|\n",
            "|     Neda Briski|  Male|\n",
            "|    Claude Panos|Female|\n",
            "|  Celeste Lollis|  Male|\n",
            "|  Cordie Harnois|  Male|\n",
            "|       Kena Wild|Female|\n",
            "| Ernest Rossbach|  Male|\n",
            "|  Latia Vanhoose|Female|\n",
            "|  Latia Vanhoose|Female|\n",
            "|     Neda Briski|  Male|\n",
            "|  Latia Vanhoose|Female|\n",
            "|  Loris Crossett|  Male|\n",
            "|  Annika Hoffman|  Male|\n",
            "|   Santa Kerfien|  Male|\n",
            "|Mickey Cortright|Female|\n",
            "+----------------+------+\n",
            "only showing top 20 rows\n",
            "\n"
          ]
        }
      ]
    },
    {
      "cell_type": "code",
      "source": [
        "df.select(df.name, df.email).show()"
      ],
      "metadata": {
        "colab": {
          "base_uri": "https://localhost:8080/"
        },
        "id": "qQ5djo3LqAYx",
        "outputId": "9c52c3b2-a4a7-470f-cc2c-0de846646335"
      },
      "execution_count": 62,
      "outputs": [
        {
          "output_type": "stream",
          "name": "stdout",
          "text": [
            "+----------------+--------------------+\n",
            "|            name|               email|\n",
            "+----------------+--------------------+\n",
            "| Hubert Oliveras|Annika Hoffman_Na...|\n",
            "|Toshiko Hillyard|Margene Moores_Ma...|\n",
            "|  Celeste Lollis|Jeannetta Golden_...|\n",
            "|    Elenore Choy|Billi Clore_Mitzi...|\n",
            "|  Sheryll Towler|Claude Panos_Judi...|\n",
            "|  Margene Moores|Toshiko Hillyard_...|\n",
            "|     Neda Briski|Alberta Freund_El...|\n",
            "|    Claude Panos|Sheryll Towler_Al...|\n",
            "|  Celeste Lollis|Nicole Harwood_Cl...|\n",
            "|  Cordie Harnois|Judie Chipps_Clem...|\n",
            "|       Kena Wild|Dustin Feagins_Ma...|\n",
            "| Ernest Rossbach|Maybell Duguay_Ab...|\n",
            "|  Latia Vanhoose|Latia Vanhoose_Mi...|\n",
            "|  Latia Vanhoose|Eda Neathery_Nico...|\n",
            "|     Neda Briski|Margene Moores_Mi...|\n",
            "|  Latia Vanhoose|Claude Panos_Sant...|\n",
            "|  Loris Crossett|Mitzi Seldon_Jenn...|\n",
            "|  Annika Hoffman|Taryn Brownlee_Mi...|\n",
            "|   Santa Kerfien|Judie Chipps_Tary...|\n",
            "|Mickey Cortright|Ernest Rossbach_M...|\n",
            "+----------------+--------------------+\n",
            "only showing top 20 rows\n",
            "\n"
          ]
        }
      ]
    },
    {
      "cell_type": "code",
      "source": [
        "from pyspark.sql.functions import col\n",
        "\n",
        "df.select(col(\"roll\"), col(\"name\")).show()"
      ],
      "metadata": {
        "colab": {
          "base_uri": "https://localhost:8080/"
        },
        "id": "lReej62EqOCB",
        "outputId": "8f83ff18-6364-41e0-c384-273e96feb7f2"
      },
      "execution_count": 63,
      "outputs": [
        {
          "output_type": "stream",
          "name": "stdout",
          "text": [
            "+------+----------------+\n",
            "|  roll|            name|\n",
            "+------+----------------+\n",
            "|  2984| Hubert Oliveras|\n",
            "| 12899|Toshiko Hillyard|\n",
            "| 21267|  Celeste Lollis|\n",
            "| 32877|    Elenore Choy|\n",
            "| 41487|  Sheryll Towler|\n",
            "| 52771|  Margene Moores|\n",
            "| 61973|     Neda Briski|\n",
            "| 72409|    Claude Panos|\n",
            "| 81492|  Celeste Lollis|\n",
            "| 92882|  Cordie Harnois|\n",
            "|102285|       Kena Wild|\n",
            "|111449| Ernest Rossbach|\n",
            "|122502|  Latia Vanhoose|\n",
            "|132110|  Latia Vanhoose|\n",
            "|141770|     Neda Briski|\n",
            "|152159|  Latia Vanhoose|\n",
            "|161771|  Loris Crossett|\n",
            "|171660|  Annika Hoffman|\n",
            "|182129|   Santa Kerfien|\n",
            "|192537|Mickey Cortright|\n",
            "+------+----------------+\n",
            "only showing top 20 rows\n",
            "\n"
          ]
        }
      ]
    },
    {
      "cell_type": "code",
      "source": [
        "df.select('*').show()"
      ],
      "metadata": {
        "colab": {
          "base_uri": "https://localhost:8080/"
        },
        "id": "ybOBdMN9ql5-",
        "outputId": "2808c72d-7a27-4ab4-efdf-2d082585e5b2"
      },
      "execution_count": 64,
      "outputs": [
        {
          "output_type": "stream",
          "name": "stdout",
          "text": [
            "+---+------+----------------+------+------+-----+--------------------+\n",
            "|age|gender|            name|course|  roll|marks|               email|\n",
            "+---+------+----------------+------+------+-----+--------------------+\n",
            "| 28|Female| Hubert Oliveras|    DB|  2984|   59|Annika Hoffman_Na...|\n",
            "| 29|Female|Toshiko Hillyard| Cloud| 12899|   62|Margene Moores_Ma...|\n",
            "| 28|  Male|  Celeste Lollis|    PF| 21267|   45|Jeannetta Golden_...|\n",
            "| 29|Female|    Elenore Choy|    DB| 32877|   29|Billi Clore_Mitzi...|\n",
            "| 28|  Male|  Sheryll Towler|   DSA| 41487|   41|Claude Panos_Judi...|\n",
            "| 28|  Male|  Margene Moores|   MVC| 52771|   32|Toshiko Hillyard_...|\n",
            "| 28|  Male|     Neda Briski|   OOP| 61973|   69|Alberta Freund_El...|\n",
            "| 28|Female|    Claude Panos| Cloud| 72409|   85|Sheryll Towler_Al...|\n",
            "| 28|  Male|  Celeste Lollis|   MVC| 81492|   64|Nicole Harwood_Cl...|\n",
            "| 29|  Male|  Cordie Harnois|   OOP| 92882|   51|Judie Chipps_Clem...|\n",
            "| 29|Female|       Kena Wild|   DSA|102285|   35|Dustin Feagins_Ma...|\n",
            "| 29|  Male| Ernest Rossbach|    DB|111449|   53|Maybell Duguay_Ab...|\n",
            "| 28|Female|  Latia Vanhoose|    DB|122502|   27|Latia Vanhoose_Mi...|\n",
            "| 29|Female|  Latia Vanhoose|   MVC|132110|   55|Eda Neathery_Nico...|\n",
            "| 29|  Male|     Neda Briski|    PF|141770|   42|Margene Moores_Mi...|\n",
            "| 29|Female|  Latia Vanhoose|    DB|152159|   27|Claude Panos_Sant...|\n",
            "| 29|  Male|  Loris Crossett|   MVC|161771|   36|Mitzi Seldon_Jenn...|\n",
            "| 29|  Male|  Annika Hoffman|   OOP|171660|   22|Taryn Brownlee_Mi...|\n",
            "| 29|  Male|   Santa Kerfien|    PF|182129|   56|Judie Chipps_Tary...|\n",
            "| 28|Female|Mickey Cortright|    DB|192537|   62|Ernest Rossbach_M...|\n",
            "+---+------+----------------+------+------+-----+--------------------+\n",
            "only showing top 20 rows\n",
            "\n"
          ]
        }
      ]
    },
    {
      "cell_type": "code",
      "source": [
        "df.columns\n",
        "df.select('age', 'gender', 'email').show()"
      ],
      "metadata": {
        "colab": {
          "base_uri": "https://localhost:8080/"
        },
        "id": "ye5fR1TUqxd8",
        "outputId": "ad242df8-f6a3-467b-e37a-b7035666a1a4"
      },
      "execution_count": 68,
      "outputs": [
        {
          "output_type": "stream",
          "name": "stdout",
          "text": [
            "+---+------+--------------------+\n",
            "|age|gender|               email|\n",
            "+---+------+--------------------+\n",
            "| 28|Female|Annika Hoffman_Na...|\n",
            "| 29|Female|Margene Moores_Ma...|\n",
            "| 28|  Male|Jeannetta Golden_...|\n",
            "| 29|Female|Billi Clore_Mitzi...|\n",
            "| 28|  Male|Claude Panos_Judi...|\n",
            "| 28|  Male|Toshiko Hillyard_...|\n",
            "| 28|  Male|Alberta Freund_El...|\n",
            "| 28|Female|Sheryll Towler_Al...|\n",
            "| 28|  Male|Nicole Harwood_Cl...|\n",
            "| 29|  Male|Judie Chipps_Clem...|\n",
            "| 29|Female|Dustin Feagins_Ma...|\n",
            "| 29|  Male|Maybell Duguay_Ab...|\n",
            "| 28|Female|Latia Vanhoose_Mi...|\n",
            "| 29|Female|Eda Neathery_Nico...|\n",
            "| 29|  Male|Margene Moores_Mi...|\n",
            "| 29|Female|Claude Panos_Sant...|\n",
            "| 29|  Male|Mitzi Seldon_Jenn...|\n",
            "| 29|  Male|Taryn Brownlee_Mi...|\n",
            "| 29|  Male|Judie Chipps_Tary...|\n",
            "| 28|Female|Ernest Rossbach_M...|\n",
            "+---+------+--------------------+\n",
            "only showing top 20 rows\n",
            "\n"
          ]
        }
      ]
    },
    {
      "cell_type": "code",
      "source": [
        "df.select(df.columns[2:6]).show()"
      ],
      "metadata": {
        "colab": {
          "base_uri": "https://localhost:8080/"
        },
        "id": "AWDvk7nTrH-r",
        "outputId": "df9731a5-d395-4054-dbae-d547d4d602e9"
      },
      "execution_count": 73,
      "outputs": [
        {
          "output_type": "stream",
          "name": "stdout",
          "text": [
            "+----------------+------+------+-----+\n",
            "|            name|course|  roll|marks|\n",
            "+----------------+------+------+-----+\n",
            "| Hubert Oliveras|    DB|  2984|   59|\n",
            "|Toshiko Hillyard| Cloud| 12899|   62|\n",
            "|  Celeste Lollis|    PF| 21267|   45|\n",
            "|    Elenore Choy|    DB| 32877|   29|\n",
            "|  Sheryll Towler|   DSA| 41487|   41|\n",
            "|  Margene Moores|   MVC| 52771|   32|\n",
            "|     Neda Briski|   OOP| 61973|   69|\n",
            "|    Claude Panos| Cloud| 72409|   85|\n",
            "|  Celeste Lollis|   MVC| 81492|   64|\n",
            "|  Cordie Harnois|   OOP| 92882|   51|\n",
            "|       Kena Wild|   DSA|102285|   35|\n",
            "| Ernest Rossbach|    DB|111449|   53|\n",
            "|  Latia Vanhoose|    DB|122502|   27|\n",
            "|  Latia Vanhoose|   MVC|132110|   55|\n",
            "|     Neda Briski|    PF|141770|   42|\n",
            "|  Latia Vanhoose|    DB|152159|   27|\n",
            "|  Loris Crossett|   MVC|161771|   36|\n",
            "|  Annika Hoffman|   OOP|171660|   22|\n",
            "|   Santa Kerfien|    PF|182129|   56|\n",
            "|Mickey Cortright|    DB|192537|   62|\n",
            "+----------------+------+------+-----+\n",
            "only showing top 20 rows\n",
            "\n"
          ]
        }
      ]
    },
    {
      "cell_type": "code",
      "source": [
        "df2 = df.select(col(\"roll\"), col(\"name\"))"
      ],
      "metadata": {
        "id": "xKCn1Asgrowh"
      },
      "execution_count": 77,
      "outputs": []
    },
    {
      "cell_type": "code",
      "source": [
        "df2.show()"
      ],
      "metadata": {
        "colab": {
          "base_uri": "https://localhost:8080/"
        },
        "id": "m4nHbz3jscrS",
        "outputId": "5a82f9e5-9883-4cb8-e052-fa3478a76a7e"
      },
      "execution_count": 78,
      "outputs": [
        {
          "output_type": "stream",
          "name": "stdout",
          "text": [
            "+------+----------------+\n",
            "|  roll|            name|\n",
            "+------+----------------+\n",
            "|  2984| Hubert Oliveras|\n",
            "| 12899|Toshiko Hillyard|\n",
            "| 21267|  Celeste Lollis|\n",
            "| 32877|    Elenore Choy|\n",
            "| 41487|  Sheryll Towler|\n",
            "| 52771|  Margene Moores|\n",
            "| 61973|     Neda Briski|\n",
            "| 72409|    Claude Panos|\n",
            "| 81492|  Celeste Lollis|\n",
            "| 92882|  Cordie Harnois|\n",
            "|102285|       Kena Wild|\n",
            "|111449| Ernest Rossbach|\n",
            "|122502|  Latia Vanhoose|\n",
            "|132110|  Latia Vanhoose|\n",
            "|141770|     Neda Briski|\n",
            "|152159|  Latia Vanhoose|\n",
            "|161771|  Loris Crossett|\n",
            "|171660|  Annika Hoffman|\n",
            "|182129|   Santa Kerfien|\n",
            "|192537|Mickey Cortright|\n",
            "+------+----------------+\n",
            "only showing top 20 rows\n",
            "\n"
          ]
        }
      ]
    },
    {
      "cell_type": "markdown",
      "source": [
        "## with column no DataFrame"
      ],
      "metadata": {
        "id": "cCAHEntNsu1A"
      }
    },
    {
      "cell_type": "code",
      "source": [
        "from pyspark.sql import SparkSession\n",
        "spark = SparkSession.builder.appName(\"Spark DataFrames\").getOrCreate()\n",
        "df = spark.read.options(header = 'True', inferSchema = 'True').csv('/content/drive/MyDrive/PySpark/data/StudentData.csv')"
      ],
      "metadata": {
        "id": "kYjxuNIms82G"
      },
      "execution_count": 79,
      "outputs": []
    },
    {
      "cell_type": "code",
      "source": [
        "df = spark.read.options(header = 'True', inferSchema = 'True').csv('/content/drive/MyDrive/PySpark/data/StudentData.csv')\n",
        "df.show()"
      ],
      "metadata": {
        "colab": {
          "base_uri": "https://localhost:8080/"
        },
        "id": "dKb5kIRptaZD",
        "outputId": "f10d8b35-ed04-48f0-a162-613b38e66fc7"
      },
      "execution_count": 80,
      "outputs": [
        {
          "output_type": "stream",
          "name": "stdout",
          "text": [
            "+---+------+----------------+------+------+-----+--------------------+\n",
            "|age|gender|            name|course|  roll|marks|               email|\n",
            "+---+------+----------------+------+------+-----+--------------------+\n",
            "| 28|Female| Hubert Oliveras|    DB|  2984|   59|Annika Hoffman_Na...|\n",
            "| 29|Female|Toshiko Hillyard| Cloud| 12899|   62|Margene Moores_Ma...|\n",
            "| 28|  Male|  Celeste Lollis|    PF| 21267|   45|Jeannetta Golden_...|\n",
            "| 29|Female|    Elenore Choy|    DB| 32877|   29|Billi Clore_Mitzi...|\n",
            "| 28|  Male|  Sheryll Towler|   DSA| 41487|   41|Claude Panos_Judi...|\n",
            "| 28|  Male|  Margene Moores|   MVC| 52771|   32|Toshiko Hillyard_...|\n",
            "| 28|  Male|     Neda Briski|   OOP| 61973|   69|Alberta Freund_El...|\n",
            "| 28|Female|    Claude Panos| Cloud| 72409|   85|Sheryll Towler_Al...|\n",
            "| 28|  Male|  Celeste Lollis|   MVC| 81492|   64|Nicole Harwood_Cl...|\n",
            "| 29|  Male|  Cordie Harnois|   OOP| 92882|   51|Judie Chipps_Clem...|\n",
            "| 29|Female|       Kena Wild|   DSA|102285|   35|Dustin Feagins_Ma...|\n",
            "| 29|  Male| Ernest Rossbach|    DB|111449|   53|Maybell Duguay_Ab...|\n",
            "| 28|Female|  Latia Vanhoose|    DB|122502|   27|Latia Vanhoose_Mi...|\n",
            "| 29|Female|  Latia Vanhoose|   MVC|132110|   55|Eda Neathery_Nico...|\n",
            "| 29|  Male|     Neda Briski|    PF|141770|   42|Margene Moores_Mi...|\n",
            "| 29|Female|  Latia Vanhoose|    DB|152159|   27|Claude Panos_Sant...|\n",
            "| 29|  Male|  Loris Crossett|   MVC|161771|   36|Mitzi Seldon_Jenn...|\n",
            "| 29|  Male|  Annika Hoffman|   OOP|171660|   22|Taryn Brownlee_Mi...|\n",
            "| 29|  Male|   Santa Kerfien|    PF|182129|   56|Judie Chipps_Tary...|\n",
            "| 28|Female|Mickey Cortright|    DB|192537|   62|Ernest Rossbach_M...|\n",
            "+---+------+----------------+------+------+-----+--------------------+\n",
            "only showing top 20 rows\n",
            "\n"
          ]
        }
      ]
    },
    {
      "cell_type": "code",
      "source": [
        "from pyspark.sql.functions import col, lit\n",
        "df = df.withColumn(\"roll\", col(\"roll\").cast(\"string\"))"
      ],
      "metadata": {
        "id": "yyz0902xug8D"
      },
      "execution_count": 101,
      "outputs": []
    },
    {
      "cell_type": "code",
      "source": [
        "df.show()"
      ],
      "metadata": {
        "colab": {
          "base_uri": "https://localhost:8080/"
        },
        "id": "F5HzT32kvaE-",
        "outputId": "cf8c0a45-6c4e-48f8-9d51-0fd9efabeb9d"
      },
      "execution_count": 94,
      "outputs": [
        {
          "output_type": "stream",
          "name": "stdout",
          "text": [
            "+---+------+----------------+------+------+-----+--------------------+\n",
            "|age|gender|            name|course|  roll|marks|               email|\n",
            "+---+------+----------------+------+------+-----+--------------------+\n",
            "| 28|Female| Hubert Oliveras|    DB|  2984|   59|Annika Hoffman_Na...|\n",
            "| 29|Female|Toshiko Hillyard| Cloud| 12899|   62|Margene Moores_Ma...|\n",
            "| 28|  Male|  Celeste Lollis|    PF| 21267|   45|Jeannetta Golden_...|\n",
            "| 29|Female|    Elenore Choy|    DB| 32877|   29|Billi Clore_Mitzi...|\n",
            "| 28|  Male|  Sheryll Towler|   DSA| 41487|   41|Claude Panos_Judi...|\n",
            "| 28|  Male|  Margene Moores|   MVC| 52771|   32|Toshiko Hillyard_...|\n",
            "| 28|  Male|     Neda Briski|   OOP| 61973|   69|Alberta Freund_El...|\n",
            "| 28|Female|    Claude Panos| Cloud| 72409|   85|Sheryll Towler_Al...|\n",
            "| 28|  Male|  Celeste Lollis|   MVC| 81492|   64|Nicole Harwood_Cl...|\n",
            "| 29|  Male|  Cordie Harnois|   OOP| 92882|   51|Judie Chipps_Clem...|\n",
            "| 29|Female|       Kena Wild|   DSA|102285|   35|Dustin Feagins_Ma...|\n",
            "| 29|  Male| Ernest Rossbach|    DB|111449|   53|Maybell Duguay_Ab...|\n",
            "| 28|Female|  Latia Vanhoose|    DB|122502|   27|Latia Vanhoose_Mi...|\n",
            "| 29|Female|  Latia Vanhoose|   MVC|132110|   55|Eda Neathery_Nico...|\n",
            "| 29|  Male|     Neda Briski|    PF|141770|   42|Margene Moores_Mi...|\n",
            "| 29|Female|  Latia Vanhoose|    DB|152159|   27|Claude Panos_Sant...|\n",
            "| 29|  Male|  Loris Crossett|   MVC|161771|   36|Mitzi Seldon_Jenn...|\n",
            "| 29|  Male|  Annika Hoffman|   OOP|171660|   22|Taryn Brownlee_Mi...|\n",
            "| 29|  Male|   Santa Kerfien|    PF|182129|   56|Judie Chipps_Tary...|\n",
            "| 28|Female|Mickey Cortright|    DB|192537|   62|Ernest Rossbach_M...|\n",
            "+---+------+----------------+------+------+-----+--------------------+\n",
            "only showing top 20 rows\n",
            "\n"
          ]
        }
      ]
    },
    {
      "cell_type": "code",
      "source": [
        "df.printSchema()"
      ],
      "metadata": {
        "colab": {
          "base_uri": "https://localhost:8080/"
        },
        "id": "dgU8ac7LtkP8",
        "outputId": "c1ff8491-8074-4a75-9180-0ef02868a846"
      },
      "execution_count": 95,
      "outputs": [
        {
          "output_type": "stream",
          "name": "stdout",
          "text": [
            "root\n",
            " |-- age: integer (nullable = true)\n",
            " |-- gender: string (nullable = true)\n",
            " |-- name: string (nullable = true)\n",
            " |-- course: string (nullable = true)\n",
            " |-- roll: string (nullable = true)\n",
            " |-- marks: integer (nullable = true)\n",
            " |-- email: string (nullable = true)\n",
            "\n"
          ]
        }
      ]
    },
    {
      "cell_type": "code",
      "source": [
        "# Adicionando 10 a coluna marks\n",
        "df = df.withColumn(\"marks\", col('marks') + 10)\n",
        "df.show()"
      ],
      "metadata": {
        "colab": {
          "base_uri": "https://localhost:8080/"
        },
        "id": "ICLJ5RwGto0M",
        "outputId": "8c7d0719-3bb2-454b-cce9-ca9910169bec"
      },
      "execution_count": 98,
      "outputs": [
        {
          "output_type": "stream",
          "name": "stdout",
          "text": [
            "+---+------+----------------+------+------+-----+--------------------+\n",
            "|age|gender|            name|course|  roll|marks|               email|\n",
            "+---+------+----------------+------+------+-----+--------------------+\n",
            "| 28|Female| Hubert Oliveras|    DB|  2984|   69|Annika Hoffman_Na...|\n",
            "| 29|Female|Toshiko Hillyard| Cloud| 12899|   72|Margene Moores_Ma...|\n",
            "| 28|  Male|  Celeste Lollis|    PF| 21267|   55|Jeannetta Golden_...|\n",
            "| 29|Female|    Elenore Choy|    DB| 32877|   39|Billi Clore_Mitzi...|\n",
            "| 28|  Male|  Sheryll Towler|   DSA| 41487|   51|Claude Panos_Judi...|\n",
            "| 28|  Male|  Margene Moores|   MVC| 52771|   42|Toshiko Hillyard_...|\n",
            "| 28|  Male|     Neda Briski|   OOP| 61973|   79|Alberta Freund_El...|\n",
            "| 28|Female|    Claude Panos| Cloud| 72409|   95|Sheryll Towler_Al...|\n",
            "| 28|  Male|  Celeste Lollis|   MVC| 81492|   74|Nicole Harwood_Cl...|\n",
            "| 29|  Male|  Cordie Harnois|   OOP| 92882|   61|Judie Chipps_Clem...|\n",
            "| 29|Female|       Kena Wild|   DSA|102285|   45|Dustin Feagins_Ma...|\n",
            "| 29|  Male| Ernest Rossbach|    DB|111449|   63|Maybell Duguay_Ab...|\n",
            "| 28|Female|  Latia Vanhoose|    DB|122502|   37|Latia Vanhoose_Mi...|\n",
            "| 29|Female|  Latia Vanhoose|   MVC|132110|   65|Eda Neathery_Nico...|\n",
            "| 29|  Male|     Neda Briski|    PF|141770|   52|Margene Moores_Mi...|\n",
            "| 29|Female|  Latia Vanhoose|    DB|152159|   37|Claude Panos_Sant...|\n",
            "| 29|  Male|  Loris Crossett|   MVC|161771|   46|Mitzi Seldon_Jenn...|\n",
            "| 29|  Male|  Annika Hoffman|   OOP|171660|   32|Taryn Brownlee_Mi...|\n",
            "| 29|  Male|   Santa Kerfien|    PF|182129|   66|Judie Chipps_Tary...|\n",
            "| 28|Female|Mickey Cortright|    DB|192537|   72|Ernest Rossbach_M...|\n",
            "+---+------+----------------+------+------+-----+--------------------+\n",
            "only showing top 20 rows\n",
            "\n"
          ]
        }
      ]
    },
    {
      "cell_type": "code",
      "source": [
        "#Criando uma nova coluna\n",
        "df = df.withColumn(\"aggregated marks\", col('marks') -10)\n",
        "df.show()"
      ],
      "metadata": {
        "colab": {
          "base_uri": "https://localhost:8080/"
        },
        "id": "DZFTxiPawb2f",
        "outputId": "6604c1bf-50d4-4388-e98f-e8dc32a76fff"
      },
      "execution_count": 108,
      "outputs": [
        {
          "output_type": "stream",
          "name": "stdout",
          "text": [
            "+---+------+----------------+------+------+-----+--------------------+----------------+-------+\n",
            "|age|gender|            name|course|  roll|marks|               email|aggregated marks|Country|\n",
            "+---+------+----------------+------+------+-----+--------------------+----------------+-------+\n",
            "| 28|Female| Hubert Oliveras|    DB|  2984|   59|Annika Hoffman_Na...|              49|    USA|\n",
            "| 29|Female|Toshiko Hillyard| Cloud| 12899|   62|Margene Moores_Ma...|              52|    USA|\n",
            "| 28|  Male|  Celeste Lollis|    PF| 21267|   45|Jeannetta Golden_...|              35|    USA|\n",
            "| 29|Female|    Elenore Choy|    DB| 32877|   29|Billi Clore_Mitzi...|              19|    USA|\n",
            "| 28|  Male|  Sheryll Towler|   DSA| 41487|   41|Claude Panos_Judi...|              31|    USA|\n",
            "| 28|  Male|  Margene Moores|   MVC| 52771|   32|Toshiko Hillyard_...|              22|    USA|\n",
            "| 28|  Male|     Neda Briski|   OOP| 61973|   69|Alberta Freund_El...|              59|    USA|\n",
            "| 28|Female|    Claude Panos| Cloud| 72409|   85|Sheryll Towler_Al...|              75|    USA|\n",
            "| 28|  Male|  Celeste Lollis|   MVC| 81492|   64|Nicole Harwood_Cl...|              54|    USA|\n",
            "| 29|  Male|  Cordie Harnois|   OOP| 92882|   51|Judie Chipps_Clem...|              41|    USA|\n",
            "| 29|Female|       Kena Wild|   DSA|102285|   35|Dustin Feagins_Ma...|              25|    USA|\n",
            "| 29|  Male| Ernest Rossbach|    DB|111449|   53|Maybell Duguay_Ab...|              43|    USA|\n",
            "| 28|Female|  Latia Vanhoose|    DB|122502|   27|Latia Vanhoose_Mi...|              17|    USA|\n",
            "| 29|Female|  Latia Vanhoose|   MVC|132110|   55|Eda Neathery_Nico...|              45|    USA|\n",
            "| 29|  Male|     Neda Briski|    PF|141770|   42|Margene Moores_Mi...|              32|    USA|\n",
            "| 29|Female|  Latia Vanhoose|    DB|152159|   27|Claude Panos_Sant...|              17|    USA|\n",
            "| 29|  Male|  Loris Crossett|   MVC|161771|   36|Mitzi Seldon_Jenn...|              26|    USA|\n",
            "| 29|  Male|  Annika Hoffman|   OOP|171660|   22|Taryn Brownlee_Mi...|              12|    USA|\n",
            "| 29|  Male|   Santa Kerfien|    PF|182129|   56|Judie Chipps_Tary...|              46|    USA|\n",
            "| 28|Female|Mickey Cortright|    DB|192537|   62|Ernest Rossbach_M...|              52|    USA|\n",
            "+---+------+----------------+------+------+-----+--------------------+----------------+-------+\n",
            "only showing top 20 rows\n",
            "\n"
          ]
        }
      ]
    },
    {
      "cell_type": "code",
      "source": [
        "from pyspark.sql.functions import col, lit\n",
        "df = df.withColumn(\"Country\", lit(\"USA\"))\n",
        "df.show()"
      ],
      "metadata": {
        "colab": {
          "base_uri": "https://localhost:8080/"
        },
        "id": "fD_arKyIxCzY",
        "outputId": "4db99f9a-72b7-4df2-d1d1-0f6f05015ae5"
      },
      "execution_count": 104,
      "outputs": [
        {
          "output_type": "stream",
          "name": "stdout",
          "text": [
            "+---+------+----------------+------+------+-----+--------------------+----------------+-------+\n",
            "|age|gender|            name|course|  roll|marks|               email|aggregated marks|Country|\n",
            "+---+------+----------------+------+------+-----+--------------------+----------------+-------+\n",
            "| 28|Female| Hubert Oliveras|    DB|  2984|   59|Annika Hoffman_Na...|              49|    USA|\n",
            "| 29|Female|Toshiko Hillyard| Cloud| 12899|   62|Margene Moores_Ma...|              52|    USA|\n",
            "| 28|  Male|  Celeste Lollis|    PF| 21267|   45|Jeannetta Golden_...|              35|    USA|\n",
            "| 29|Female|    Elenore Choy|    DB| 32877|   29|Billi Clore_Mitzi...|              19|    USA|\n",
            "| 28|  Male|  Sheryll Towler|   DSA| 41487|   41|Claude Panos_Judi...|              31|    USA|\n",
            "| 28|  Male|  Margene Moores|   MVC| 52771|   32|Toshiko Hillyard_...|              22|    USA|\n",
            "| 28|  Male|     Neda Briski|   OOP| 61973|   69|Alberta Freund_El...|              59|    USA|\n",
            "| 28|Female|    Claude Panos| Cloud| 72409|   85|Sheryll Towler_Al...|              75|    USA|\n",
            "| 28|  Male|  Celeste Lollis|   MVC| 81492|   64|Nicole Harwood_Cl...|              54|    USA|\n",
            "| 29|  Male|  Cordie Harnois|   OOP| 92882|   51|Judie Chipps_Clem...|              41|    USA|\n",
            "| 29|Female|       Kena Wild|   DSA|102285|   35|Dustin Feagins_Ma...|              25|    USA|\n",
            "| 29|  Male| Ernest Rossbach|    DB|111449|   53|Maybell Duguay_Ab...|              43|    USA|\n",
            "| 28|Female|  Latia Vanhoose|    DB|122502|   27|Latia Vanhoose_Mi...|              17|    USA|\n",
            "| 29|Female|  Latia Vanhoose|   MVC|132110|   55|Eda Neathery_Nico...|              45|    USA|\n",
            "| 29|  Male|     Neda Briski|    PF|141770|   42|Margene Moores_Mi...|              32|    USA|\n",
            "| 29|Female|  Latia Vanhoose|    DB|152159|   27|Claude Panos_Sant...|              17|    USA|\n",
            "| 29|  Male|  Loris Crossett|   MVC|161771|   36|Mitzi Seldon_Jenn...|              26|    USA|\n",
            "| 29|  Male|  Annika Hoffman|   OOP|171660|   22|Taryn Brownlee_Mi...|              12|    USA|\n",
            "| 29|  Male|   Santa Kerfien|    PF|182129|   56|Judie Chipps_Tary...|              46|    USA|\n",
            "| 28|Female|Mickey Cortright|    DB|192537|   62|Ernest Rossbach_M...|              52|    USA|\n",
            "+---+------+----------------+------+------+-----+--------------------+----------------+-------+\n",
            "only showing top 20 rows\n",
            "\n"
          ]
        }
      ]
    },
    {
      "cell_type": "code",
      "source": [
        "df.withColumn(\"marks\", col(\"marks\")- 10).withColumn(\"updated marks\", col(\"marks\") + 20).withColumn(\"Country\", lit(\"USA\")).show()"
      ],
      "metadata": {
        "colab": {
          "base_uri": "https://localhost:8080/"
        },
        "id": "X-IaWZrKxr-Z",
        "outputId": "6a422c88-3cb5-4c83-a57d-0677cf7157c9"
      },
      "execution_count": 110,
      "outputs": [
        {
          "output_type": "stream",
          "name": "stdout",
          "text": [
            "+---+------+----------------+------+------+-----+--------------------+----------------+-------+-------------+\n",
            "|age|gender|            name|course|  roll|marks|               email|aggregated marks|Country|updated marks|\n",
            "+---+------+----------------+------+------+-----+--------------------+----------------+-------+-------------+\n",
            "| 28|Female| Hubert Oliveras|    DB|  2984|   49|Annika Hoffman_Na...|              49|    USA|           69|\n",
            "| 29|Female|Toshiko Hillyard| Cloud| 12899|   52|Margene Moores_Ma...|              52|    USA|           72|\n",
            "| 28|  Male|  Celeste Lollis|    PF| 21267|   35|Jeannetta Golden_...|              35|    USA|           55|\n",
            "| 29|Female|    Elenore Choy|    DB| 32877|   19|Billi Clore_Mitzi...|              19|    USA|           39|\n",
            "| 28|  Male|  Sheryll Towler|   DSA| 41487|   31|Claude Panos_Judi...|              31|    USA|           51|\n",
            "| 28|  Male|  Margene Moores|   MVC| 52771|   22|Toshiko Hillyard_...|              22|    USA|           42|\n",
            "| 28|  Male|     Neda Briski|   OOP| 61973|   59|Alberta Freund_El...|              59|    USA|           79|\n",
            "| 28|Female|    Claude Panos| Cloud| 72409|   75|Sheryll Towler_Al...|              75|    USA|           95|\n",
            "| 28|  Male|  Celeste Lollis|   MVC| 81492|   54|Nicole Harwood_Cl...|              54|    USA|           74|\n",
            "| 29|  Male|  Cordie Harnois|   OOP| 92882|   41|Judie Chipps_Clem...|              41|    USA|           61|\n",
            "| 29|Female|       Kena Wild|   DSA|102285|   25|Dustin Feagins_Ma...|              25|    USA|           45|\n",
            "| 29|  Male| Ernest Rossbach|    DB|111449|   43|Maybell Duguay_Ab...|              43|    USA|           63|\n",
            "| 28|Female|  Latia Vanhoose|    DB|122502|   17|Latia Vanhoose_Mi...|              17|    USA|           37|\n",
            "| 29|Female|  Latia Vanhoose|   MVC|132110|   45|Eda Neathery_Nico...|              45|    USA|           65|\n",
            "| 29|  Male|     Neda Briski|    PF|141770|   32|Margene Moores_Mi...|              32|    USA|           52|\n",
            "| 29|Female|  Latia Vanhoose|    DB|152159|   17|Claude Panos_Sant...|              17|    USA|           37|\n",
            "| 29|  Male|  Loris Crossett|   MVC|161771|   26|Mitzi Seldon_Jenn...|              26|    USA|           46|\n",
            "| 29|  Male|  Annika Hoffman|   OOP|171660|   12|Taryn Brownlee_Mi...|              12|    USA|           32|\n",
            "| 29|  Male|   Santa Kerfien|    PF|182129|   46|Judie Chipps_Tary...|              46|    USA|           66|\n",
            "| 28|Female|Mickey Cortright|    DB|192537|   52|Ernest Rossbach_M...|              52|    USA|           72|\n",
            "+---+------+----------------+------+------+-----+--------------------+----------------+-------+-------------+\n",
            "only showing top 20 rows\n",
            "\n"
          ]
        }
      ]
    },
    {
      "cell_type": "markdown",
      "source": [
        "### Spark DF withcolumn renomendo e alias"
      ],
      "metadata": {
        "id": "ISPb-hAhzcdc"
      }
    },
    {
      "cell_type": "code",
      "source": [
        "from pyspark.sql import SparkSession\n",
        "spark = SparkSession.builder.appName(\"Spark DataFrames\").getOrCreate()\n",
        "df = spark.read.options(header = 'True', inferSchema = 'True').csv('/content/drive/MyDrive/PySpark/data/StudentData.csv')\n",
        "df.show()"
      ],
      "metadata": {
        "colab": {
          "base_uri": "https://localhost:8080/"
        },
        "id": "vhBZ5F5CzjK_",
        "outputId": "471ac9ae-af5c-4bc1-bf6d-3dbdbae9ecbd"
      },
      "execution_count": 112,
      "outputs": [
        {
          "output_type": "stream",
          "name": "stdout",
          "text": [
            "+---+------+----------------+------+------+-----+--------------------+\n",
            "|age|gender|            name|course|  roll|marks|               email|\n",
            "+---+------+----------------+------+------+-----+--------------------+\n",
            "| 28|Female| Hubert Oliveras|    DB|  2984|   59|Annika Hoffman_Na...|\n",
            "| 29|Female|Toshiko Hillyard| Cloud| 12899|   62|Margene Moores_Ma...|\n",
            "| 28|  Male|  Celeste Lollis|    PF| 21267|   45|Jeannetta Golden_...|\n",
            "| 29|Female|    Elenore Choy|    DB| 32877|   29|Billi Clore_Mitzi...|\n",
            "| 28|  Male|  Sheryll Towler|   DSA| 41487|   41|Claude Panos_Judi...|\n",
            "| 28|  Male|  Margene Moores|   MVC| 52771|   32|Toshiko Hillyard_...|\n",
            "| 28|  Male|     Neda Briski|   OOP| 61973|   69|Alberta Freund_El...|\n",
            "| 28|Female|    Claude Panos| Cloud| 72409|   85|Sheryll Towler_Al...|\n",
            "| 28|  Male|  Celeste Lollis|   MVC| 81492|   64|Nicole Harwood_Cl...|\n",
            "| 29|  Male|  Cordie Harnois|   OOP| 92882|   51|Judie Chipps_Clem...|\n",
            "| 29|Female|       Kena Wild|   DSA|102285|   35|Dustin Feagins_Ma...|\n",
            "| 29|  Male| Ernest Rossbach|    DB|111449|   53|Maybell Duguay_Ab...|\n",
            "| 28|Female|  Latia Vanhoose|    DB|122502|   27|Latia Vanhoose_Mi...|\n",
            "| 29|Female|  Latia Vanhoose|   MVC|132110|   55|Eda Neathery_Nico...|\n",
            "| 29|  Male|     Neda Briski|    PF|141770|   42|Margene Moores_Mi...|\n",
            "| 29|Female|  Latia Vanhoose|    DB|152159|   27|Claude Panos_Sant...|\n",
            "| 29|  Male|  Loris Crossett|   MVC|161771|   36|Mitzi Seldon_Jenn...|\n",
            "| 29|  Male|  Annika Hoffman|   OOP|171660|   22|Taryn Brownlee_Mi...|\n",
            "| 29|  Male|   Santa Kerfien|    PF|182129|   56|Judie Chipps_Tary...|\n",
            "| 28|Female|Mickey Cortright|    DB|192537|   62|Ernest Rossbach_M...|\n",
            "+---+------+----------------+------+------+-----+--------------------+\n",
            "only showing top 20 rows\n",
            "\n"
          ]
        }
      ]
    },
    {
      "cell_type": "code",
      "source": [
        "#renomenando uma coluna\n",
        "df = df.withColumnRenamed(\"gender\",\"sex\").withColumnRenamed(\"roll\", \"Roll namber\")\n",
        "df.show()"
      ],
      "metadata": {
        "colab": {
          "base_uri": "https://localhost:8080/"
        },
        "id": "e94rviRUzyJK",
        "outputId": "c1634aea-89d8-4f4f-cbf8-a0996df8e971"
      },
      "execution_count": 115,
      "outputs": [
        {
          "output_type": "stream",
          "name": "stdout",
          "text": [
            "+---+------+----------------+------+-----------+-----+--------------------+\n",
            "|age|   sex|            name|course|Roll namber|marks|               email|\n",
            "+---+------+----------------+------+-----------+-----+--------------------+\n",
            "| 28|Female| Hubert Oliveras|    DB|       2984|   59|Annika Hoffman_Na...|\n",
            "| 29|Female|Toshiko Hillyard| Cloud|      12899|   62|Margene Moores_Ma...|\n",
            "| 28|  Male|  Celeste Lollis|    PF|      21267|   45|Jeannetta Golden_...|\n",
            "| 29|Female|    Elenore Choy|    DB|      32877|   29|Billi Clore_Mitzi...|\n",
            "| 28|  Male|  Sheryll Towler|   DSA|      41487|   41|Claude Panos_Judi...|\n",
            "| 28|  Male|  Margene Moores|   MVC|      52771|   32|Toshiko Hillyard_...|\n",
            "| 28|  Male|     Neda Briski|   OOP|      61973|   69|Alberta Freund_El...|\n",
            "| 28|Female|    Claude Panos| Cloud|      72409|   85|Sheryll Towler_Al...|\n",
            "| 28|  Male|  Celeste Lollis|   MVC|      81492|   64|Nicole Harwood_Cl...|\n",
            "| 29|  Male|  Cordie Harnois|   OOP|      92882|   51|Judie Chipps_Clem...|\n",
            "| 29|Female|       Kena Wild|   DSA|     102285|   35|Dustin Feagins_Ma...|\n",
            "| 29|  Male| Ernest Rossbach|    DB|     111449|   53|Maybell Duguay_Ab...|\n",
            "| 28|Female|  Latia Vanhoose|    DB|     122502|   27|Latia Vanhoose_Mi...|\n",
            "| 29|Female|  Latia Vanhoose|   MVC|     132110|   55|Eda Neathery_Nico...|\n",
            "| 29|  Male|     Neda Briski|    PF|     141770|   42|Margene Moores_Mi...|\n",
            "| 29|Female|  Latia Vanhoose|    DB|     152159|   27|Claude Panos_Sant...|\n",
            "| 29|  Male|  Loris Crossett|   MVC|     161771|   36|Mitzi Seldon_Jenn...|\n",
            "| 29|  Male|  Annika Hoffman|   OOP|     171660|   22|Taryn Brownlee_Mi...|\n",
            "| 29|  Male|   Santa Kerfien|    PF|     182129|   56|Judie Chipps_Tary...|\n",
            "| 28|Female|Mickey Cortright|    DB|     192537|   62|Ernest Rossbach_M...|\n",
            "+---+------+----------------+------+-----------+-----+--------------------+\n",
            "only showing top 20 rows\n",
            "\n"
          ]
        }
      ]
    },
    {
      "cell_type": "markdown",
      "source": [
        "* utlizando o alias"
      ],
      "metadata": {
        "id": "9XfD0BXO0vtq"
      }
    },
    {
      "cell_type": "code",
      "source": [
        "df.select(col(\"name\").alias(\"Full name\")).show()"
      ],
      "metadata": {
        "colab": {
          "base_uri": "https://localhost:8080/"
        },
        "id": "yUO_g22G0keF",
        "outputId": "1be6e498-843e-4c2f-b39b-60434fcdf55c"
      },
      "execution_count": 118,
      "outputs": [
        {
          "output_type": "stream",
          "name": "stdout",
          "text": [
            "+----------------+\n",
            "|       Full name|\n",
            "+----------------+\n",
            "| Hubert Oliveras|\n",
            "|Toshiko Hillyard|\n",
            "|  Celeste Lollis|\n",
            "|    Elenore Choy|\n",
            "|  Sheryll Towler|\n",
            "|  Margene Moores|\n",
            "|     Neda Briski|\n",
            "|    Claude Panos|\n",
            "|  Celeste Lollis|\n",
            "|  Cordie Harnois|\n",
            "|       Kena Wild|\n",
            "| Ernest Rossbach|\n",
            "|  Latia Vanhoose|\n",
            "|  Latia Vanhoose|\n",
            "|     Neda Briski|\n",
            "|  Latia Vanhoose|\n",
            "|  Loris Crossett|\n",
            "|  Annika Hoffman|\n",
            "|   Santa Kerfien|\n",
            "|Mickey Cortright|\n",
            "+----------------+\n",
            "only showing top 20 rows\n",
            "\n"
          ]
        }
      ]
    }
  ]
}