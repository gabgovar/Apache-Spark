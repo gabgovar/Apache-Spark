{
  "nbformat": 4,
  "nbformat_minor": 0,
  "metadata": {
    "colab": {
      "name": "Spark DataFrames.ipynb",
      "provenance": [],
      "collapsed_sections": [
        "hn4SGkIfJb2Y",
        "rkS7nb_4MyJf",
        "_UICMExkSI3w",
        "cCAHEntNsu1A",
        "ISPb-hAhzcdc",
        "NcSukU7BhXFd",
        "0O0H5Mzri9C3",
        "E1xVVXMYnGIJ",
        "zArQh9HLL13E",
        "dEEZPLOFPFAg",
        "kJDjsHxskJ3v",
        "VwHt9hNmwhGL",
        "qqMVX2LGboTR",
        "uY2RPf9fekWt",
        "VXPFS2wQljP8"
      ],
      "mount_file_id": "1fF2qkvZfxIcA_lHsLP3RE9uyCI-p21CE",
      "authorship_tag": "ABX9TyMuvT7GMSskZICa1vrwWrRk",
      "include_colab_link": true
    },
    "kernelspec": {
      "name": "python3",
      "display_name": "Python 3"
    },
    "language_info": {
      "name": "python"
    }
  },
  "cells": [
    {
      "cell_type": "markdown",
      "metadata": {
        "id": "view-in-github",
        "colab_type": "text"
      },
      "source": [
        "<a href=\"https://colab.research.google.com/github/gabgovar/Apache-Spark/blob/main/Spark_DataFrames.ipynb\" target=\"_parent\"><img src=\"https://colab.research.google.com/assets/colab-badge.svg\" alt=\"Open In Colab\"/></a>"
      ]
    },
    {
      "cell_type": "markdown",
      "source": [
        "# Spark DataFrame"
      ],
      "metadata": {
        "id": "jPTNHSjXGlAa"
      }
    },
    {
      "cell_type": "markdown",
      "source": [
        "## Montando o Google Colab no Google Drive"
      ],
      "metadata": {
        "id": "KRW5fNKaF6mI"
      }
    },
    {
      "cell_type": "code",
      "source": [
        "from google.colab import drive\n",
        "drive.mount('/content/drive')"
      ],
      "metadata": {
        "colab": {
          "base_uri": "https://localhost:8080/"
        },
        "id": "CITLuGxgEV9q",
        "outputId": "1e2cc2d9-bc23-402a-9557-606b8504517e"
      },
      "execution_count": null,
      "outputs": [
        {
          "output_type": "stream",
          "name": "stdout",
          "text": [
            "Mounted at /content/drive\n"
          ]
        }
      ]
    },
    {
      "cell_type": "markdown",
      "source": [
        "## Instalando as Demendências do Hadoop Spark no Google Colab"
      ],
      "metadata": {
        "id": "FRfsRr0VGJYZ"
      }
    },
    {
      "cell_type": "code",
      "execution_count": null,
      "metadata": {
        "id": "cL-O-bNB-9g7"
      },
      "outputs": [],
      "source": [
        "# instalar as dependências\n",
        "!apt-get install openjdk-8-jdk-headless -qq > /dev/null\n",
        "!wget -q https://archive.apache.org/dist/spark/spark-2.4.4/spark-2.4.4-bin-hadoop2.7.tgz\n",
        "!tar xf spark-2.4.4-bin-hadoop2.7.tgz\n",
        "!pip install -q findspark"
      ]
    },
    {
      "cell_type": "markdown",
      "source": [
        "## Configurando as Demendências do Hadoop Spark no Google Colab"
      ],
      "metadata": {
        "id": "b9Y_fkTvGMIg"
      }
    },
    {
      "cell_type": "code",
      "source": [
        "# configurar as variáveis de ambiente\n",
        "import os\n",
        "os.environ[\"JAVA_HOME\"] = \"/usr/lib/jvm/java-8-openjdk-amd64\"\n",
        "os.environ[\"SPARK_HOME\"] = \"/content/spark-2.4.4-bin-hadoop2.7\"\n",
        "\n",
        "# tornar o pyspark \"importável\"\n",
        "import findspark\n",
        "findspark.init('spark-2.4.4-bin-hadoop2.7')\n",
        "findspark.find()"
      ],
      "metadata": {
        "colab": {
          "base_uri": "https://localhost:8080/",
          "height": 36
        },
        "id": "uSqN-IlR_EZz",
        "outputId": "770c5315-fd9f-40ef-8113-8da63df516a1"
      },
      "execution_count": null,
      "outputs": [
        {
          "output_type": "execute_result",
          "data": {
            "application/vnd.google.colaboratory.intrinsic+json": {
              "type": "string"
            },
            "text/plain": [
              "'spark-2.4.4-bin-hadoop2.7/python/pyspark'"
            ]
          },
          "metadata": {},
          "execution_count": 2
        }
      ]
    },
    {
      "cell_type": "markdown",
      "source": [
        "## Leitura de um DataFrame pelo Spark"
      ],
      "metadata": {
        "id": "gnTSEcnHGSw6"
      }
    },
    {
      "cell_type": "code",
      "source": [
        "from pyspark.sql import SparkSession\n",
        "\n",
        "spark = SparkSession\\\n",
        "        .builder\\\n",
        "        .appName(\"Spark_DataFrames\")\\\n",
        "        .getOrCreate()"
      ],
      "metadata": {
        "id": "3wPVCG4jBQLI"
      },
      "execution_count": 114,
      "outputs": []
    },
    {
      "cell_type": "markdown",
      "source": [
        "* A primeira linha são as informações do DF, então o .option(\"header\", True) insere o cabeçalho no DF"
      ],
      "metadata": {
        "id": "lbKGsDj4Ff6n"
      }
    },
    {
      "cell_type": "code",
      "source": [
        "df = spark.read.option(\"header\", True).csv('/content/drive/MyDrive/PySpark/data/StudentData.csv')\n",
        "df.show()"
      ],
      "metadata": {
        "colab": {
          "base_uri": "https://localhost:8080/"
        },
        "id": "6fe-TxvpCt9R",
        "outputId": "e9331982-37c1-48f3-9e6b-30cbf8da9b65"
      },
      "execution_count": 115,
      "outputs": [
        {
          "output_type": "stream",
          "name": "stdout",
          "text": [
            "+---+------+----------------+------+------+-----+--------------------+\n",
            "|age|gender|            name|course|  roll|marks|               email|\n",
            "+---+------+----------------+------+------+-----+--------------------+\n",
            "| 28|Female| Hubert Oliveras|    DB| 02984|   59|Annika Hoffman_Na...|\n",
            "| 29|Female|Toshiko Hillyard| Cloud| 12899|   62|Margene Moores_Ma...|\n",
            "| 28|  Male|  Celeste Lollis|    PF| 21267|   45|Jeannetta Golden_...|\n",
            "| 29|Female|    Elenore Choy|    DB| 32877|   29|Billi Clore_Mitzi...|\n",
            "| 28|  Male|  Sheryll Towler|   DSA| 41487|   41|Claude Panos_Judi...|\n",
            "| 28|  Male|  Margene Moores|   MVC| 52771|   32|Toshiko Hillyard_...|\n",
            "| 28|  Male|     Neda Briski|   OOP| 61973|   69|Alberta Freund_El...|\n",
            "| 28|Female|    Claude Panos| Cloud| 72409|   85|Sheryll Towler_Al...|\n",
            "| 28|  Male|  Celeste Lollis|   MVC| 81492|   64|Nicole Harwood_Cl...|\n",
            "| 29|  Male|  Cordie Harnois|   OOP| 92882|   51|Judie Chipps_Clem...|\n",
            "| 29|Female|       Kena Wild|   DSA|102285|   35|Dustin Feagins_Ma...|\n",
            "| 29|  Male| Ernest Rossbach|    DB|111449|   53|Maybell Duguay_Ab...|\n",
            "| 28|Female|  Latia Vanhoose|    DB|122502|   27|Latia Vanhoose_Mi...|\n",
            "| 29|Female|  Latia Vanhoose|   MVC|132110|   55|Eda Neathery_Nico...|\n",
            "| 29|  Male|     Neda Briski|    PF|141770|   42|Margene Moores_Mi...|\n",
            "| 29|Female|  Latia Vanhoose|    DB|152159|   27|Claude Panos_Sant...|\n",
            "| 29|  Male|  Loris Crossett|   MVC|161771|   36|Mitzi Seldon_Jenn...|\n",
            "| 29|  Male|  Annika Hoffman|   OOP|171660|   22|Taryn Brownlee_Mi...|\n",
            "| 29|  Male|   Santa Kerfien|    PF|182129|   56|Judie Chipps_Tary...|\n",
            "| 28|Female|Mickey Cortright|    DB|192537|   62|Ernest Rossbach_M...|\n",
            "+---+------+----------------+------+------+-----+--------------------+\n",
            "only showing top 20 rows\n",
            "\n"
          ]
        }
      ]
    },
    {
      "cell_type": "markdown",
      "source": [
        "## Schema de um DataFrame\n",
        "\n",
        "* option(\"inferSchema\", True) ⇒ define automáticamente o Type do dado no interior do DF\n",
        "\n",
        "* se estiver utilizando um delimitador diferente da virgula (,), por exemplo tab (tsv, separado por tab), dentro do options inserir o comando .option(delimiter = '\\t')"
      ],
      "metadata": {
        "id": "y8awArqwG7oE"
      }
    },
    {
      "cell_type": "code",
      "source": [
        "df = spark.read.options(inferSchema='True', header = 'True', delimiter = ',').csv('/content/drive/MyDrive/PySpark/data/StudentData.csv')"
      ],
      "metadata": {
        "id": "HHGVMU44HB4M"
      },
      "execution_count": 116,
      "outputs": []
    },
    {
      "cell_type": "code",
      "source": [
        "df.printSchema()"
      ],
      "metadata": {
        "colab": {
          "base_uri": "https://localhost:8080/"
        },
        "id": "Rhq9sSDlIN50",
        "outputId": "f19a7577-472c-44f4-91bf-2e8d3bb9027c"
      },
      "execution_count": 117,
      "outputs": [
        {
          "output_type": "stream",
          "name": "stdout",
          "text": [
            "root\n",
            " |-- age: integer (nullable = true)\n",
            " |-- gender: string (nullable = true)\n",
            " |-- name: string (nullable = true)\n",
            " |-- course: string (nullable = true)\n",
            " |-- roll: integer (nullable = true)\n",
            " |-- marks: integer (nullable = true)\n",
            " |-- email: string (nullable = true)\n",
            "\n"
          ]
        }
      ]
    },
    {
      "cell_type": "code",
      "source": [
        "df.show()"
      ],
      "metadata": {
        "colab": {
          "base_uri": "https://localhost:8080/"
        },
        "id": "HYRvMYGnIPFx",
        "outputId": "f167a54b-5e21-4125-9b1d-5a2a0caa83f6"
      },
      "execution_count": 118,
      "outputs": [
        {
          "output_type": "stream",
          "name": "stdout",
          "text": [
            "+---+------+----------------+------+------+-----+--------------------+\n",
            "|age|gender|            name|course|  roll|marks|               email|\n",
            "+---+------+----------------+------+------+-----+--------------------+\n",
            "| 28|Female| Hubert Oliveras|    DB|  2984|   59|Annika Hoffman_Na...|\n",
            "| 29|Female|Toshiko Hillyard| Cloud| 12899|   62|Margene Moores_Ma...|\n",
            "| 28|  Male|  Celeste Lollis|    PF| 21267|   45|Jeannetta Golden_...|\n",
            "| 29|Female|    Elenore Choy|    DB| 32877|   29|Billi Clore_Mitzi...|\n",
            "| 28|  Male|  Sheryll Towler|   DSA| 41487|   41|Claude Panos_Judi...|\n",
            "| 28|  Male|  Margene Moores|   MVC| 52771|   32|Toshiko Hillyard_...|\n",
            "| 28|  Male|     Neda Briski|   OOP| 61973|   69|Alberta Freund_El...|\n",
            "| 28|Female|    Claude Panos| Cloud| 72409|   85|Sheryll Towler_Al...|\n",
            "| 28|  Male|  Celeste Lollis|   MVC| 81492|   64|Nicole Harwood_Cl...|\n",
            "| 29|  Male|  Cordie Harnois|   OOP| 92882|   51|Judie Chipps_Clem...|\n",
            "| 29|Female|       Kena Wild|   DSA|102285|   35|Dustin Feagins_Ma...|\n",
            "| 29|  Male| Ernest Rossbach|    DB|111449|   53|Maybell Duguay_Ab...|\n",
            "| 28|Female|  Latia Vanhoose|    DB|122502|   27|Latia Vanhoose_Mi...|\n",
            "| 29|Female|  Latia Vanhoose|   MVC|132110|   55|Eda Neathery_Nico...|\n",
            "| 29|  Male|     Neda Briski|    PF|141770|   42|Margene Moores_Mi...|\n",
            "| 29|Female|  Latia Vanhoose|    DB|152159|   27|Claude Panos_Sant...|\n",
            "| 29|  Male|  Loris Crossett|   MVC|161771|   36|Mitzi Seldon_Jenn...|\n",
            "| 29|  Male|  Annika Hoffman|   OOP|171660|   22|Taryn Brownlee_Mi...|\n",
            "| 29|  Male|   Santa Kerfien|    PF|182129|   56|Judie Chipps_Tary...|\n",
            "| 28|Female|Mickey Cortright|    DB|192537|   62|Ernest Rossbach_M...|\n",
            "+---+------+----------------+------+------+-----+--------------------+\n",
            "only showing top 20 rows\n",
            "\n"
          ]
        }
      ]
    },
    {
      "cell_type": "markdown",
      "source": [
        "## Fornecendo o Schema DataFrame"
      ],
      "metadata": {
        "id": "hn4SGkIfJb2Y"
      }
    },
    {
      "cell_type": "code",
      "source": [
        "from pyspark.sql.types import StructType, StructField, StringType, IntegerType\n",
        "\n",
        "schema = StructType([\n",
        "                     StructField(\"age\", IntegerType(), True),\n",
        "                     StructField(\"gender\", StringType(), True),\n",
        "                     StructField(\"name\", StringType(), True),\n",
        "                     StructField(\"course\", StringType(), True),\n",
        "                     StructField(\"roll\", StringType(), True),\n",
        "                     StructField(\"marks\", IntegerType(), True),\n",
        "                     StructField(\"email\", StringType(), True)\n",
        "])"
      ],
      "metadata": {
        "id": "Rlw9HKkQJprB"
      },
      "execution_count": 119,
      "outputs": []
    },
    {
      "cell_type": "code",
      "source": [
        "df = spark.read.options(header = 'True').schema(schema).csv('/content/drive/MyDrive/PySpark/data/StudentData.csv')\n",
        "df.printSchema()"
      ],
      "metadata": {
        "colab": {
          "base_uri": "https://localhost:8080/"
        },
        "id": "Mv1NmVJ6LRrF",
        "outputId": "fc6f6368-a098-420e-b322-96efde555fc6"
      },
      "execution_count": 120,
      "outputs": [
        {
          "output_type": "stream",
          "name": "stdout",
          "text": [
            "root\n",
            " |-- age: integer (nullable = true)\n",
            " |-- gender: string (nullable = true)\n",
            " |-- name: string (nullable = true)\n",
            " |-- course: string (nullable = true)\n",
            " |-- roll: string (nullable = true)\n",
            " |-- marks: integer (nullable = true)\n",
            " |-- email: string (nullable = true)\n",
            "\n"
          ]
        }
      ]
    },
    {
      "cell_type": "markdown",
      "source": [
        "## Criando um DF a partir de um RDD"
      ],
      "metadata": {
        "id": "rkS7nb_4MyJf"
      }
    },
    {
      "cell_type": "code",
      "source": [
        "from pyspark.sql import SparkSession\n",
        "spark = SparkSession\\\n",
        "        .builder\\\n",
        "        .appName(\"Spark DataFrame\")\\\n",
        "        .getOrCreate()"
      ],
      "metadata": {
        "id": "2e6gkz4PNDF3"
      },
      "execution_count": 126,
      "outputs": []
    },
    {
      "cell_type": "code",
      "source": [
        "from pyspark import SparkConf, SparkContext\n",
        "conf = SparkConf().setAppName(\"RDD\")\n",
        "sc = SparkContext.getOrCreate(conf=conf)\n",
        "\n",
        "rdd = sc.textFile('/content/drive/MyDrive/PySpark/data/StudentData.csv')\n",
        "headers = rdd.first()\n",
        "\n",
        "rdd = rdd.filter(lambda x: x!= headers).map(lambda x: x.split(','))\n",
        "rdd = rdd.map(lambda x: [int(x[0]), x[1], x[2], x[3], x[4], int(x[5]), x[6]])"
      ],
      "metadata": {
        "id": "OATXbJcpNWWX"
      },
      "execution_count": 122,
      "outputs": []
    },
    {
      "cell_type": "code",
      "source": [
        "columns = headers.split(\",\")\n",
        "dfRdd = rdd.toDF(columns)\n",
        "dfRdd.show()"
      ],
      "metadata": {
        "colab": {
          "base_uri": "https://localhost:8080/"
        },
        "id": "HOzPbMezOZ3J",
        "outputId": "d2f963b3-ac98-42d2-cf21-2ca73a6ba2a8"
      },
      "execution_count": 123,
      "outputs": [
        {
          "output_type": "stream",
          "name": "stdout",
          "text": [
            "+---+------+----------------+------+------+-----+--------------------+\n",
            "|age|gender|            name|course|  roll|marks|               email|\n",
            "+---+------+----------------+------+------+-----+--------------------+\n",
            "| 28|Female| Hubert Oliveras|    DB| 02984|   59|Annika Hoffman_Na...|\n",
            "| 29|Female|Toshiko Hillyard| Cloud| 12899|   62|Margene Moores_Ma...|\n",
            "| 28|  Male|  Celeste Lollis|    PF| 21267|   45|Jeannetta Golden_...|\n",
            "| 29|Female|    Elenore Choy|    DB| 32877|   29|Billi Clore_Mitzi...|\n",
            "| 28|  Male|  Sheryll Towler|   DSA| 41487|   41|Claude Panos_Judi...|\n",
            "| 28|  Male|  Margene Moores|   MVC| 52771|   32|Toshiko Hillyard_...|\n",
            "| 28|  Male|     Neda Briski|   OOP| 61973|   69|Alberta Freund_El...|\n",
            "| 28|Female|    Claude Panos| Cloud| 72409|   85|Sheryll Towler_Al...|\n",
            "| 28|  Male|  Celeste Lollis|   MVC| 81492|   64|Nicole Harwood_Cl...|\n",
            "| 29|  Male|  Cordie Harnois|   OOP| 92882|   51|Judie Chipps_Clem...|\n",
            "| 29|Female|       Kena Wild|   DSA|102285|   35|Dustin Feagins_Ma...|\n",
            "| 29|  Male| Ernest Rossbach|    DB|111449|   53|Maybell Duguay_Ab...|\n",
            "| 28|Female|  Latia Vanhoose|    DB|122502|   27|Latia Vanhoose_Mi...|\n",
            "| 29|Female|  Latia Vanhoose|   MVC|132110|   55|Eda Neathery_Nico...|\n",
            "| 29|  Male|     Neda Briski|    PF|141770|   42|Margene Moores_Mi...|\n",
            "| 29|Female|  Latia Vanhoose|    DB|152159|   27|Claude Panos_Sant...|\n",
            "| 29|  Male|  Loris Crossett|   MVC|161771|   36|Mitzi Seldon_Jenn...|\n",
            "| 29|  Male|  Annika Hoffman|   OOP|171660|   22|Taryn Brownlee_Mi...|\n",
            "| 29|  Male|   Santa Kerfien|    PF|182129|   56|Judie Chipps_Tary...|\n",
            "| 28|Female|Mickey Cortright|    DB|192537|   62|Ernest Rossbach_M...|\n",
            "+---+------+----------------+------+------+-----+--------------------+\n",
            "only showing top 20 rows\n",
            "\n"
          ]
        }
      ]
    },
    {
      "cell_type": "code",
      "source": [
        "from pyspark.sql.types import StructType, StructField, StringType, IntegerType\n",
        "\n",
        "schema = StructType([\n",
        "                     StructField(\"age\", IntegerType(), True),\n",
        "                     StructField(\"gender\", StringType(), True),\n",
        "                     StructField(\"name\", StringType(), True),\n",
        "                     StructField(\"course\", StringType(), True),\n",
        "                     StructField(\"roll\", StringType(), True),\n",
        "                     StructField(\"marks\", IntegerType(), True),\n",
        "                     StructField(\"email\", StringType(), True)\n",
        "])"
      ],
      "metadata": {
        "id": "0BQelXPyO9LQ"
      },
      "execution_count": 124,
      "outputs": []
    },
    {
      "cell_type": "code",
      "source": [
        "dfRdd2 = spark.createDataFrame(rdd, schema=schema)\n",
        "dfRdd2.show()\n",
        "dfRdd2.printSchema()"
      ],
      "metadata": {
        "colab": {
          "base_uri": "https://localhost:8080/"
        },
        "id": "uuQFUpwcQAnL",
        "outputId": "dc624248-d4be-40a9-863e-5bd26b61f79d"
      },
      "execution_count": 125,
      "outputs": [
        {
          "output_type": "stream",
          "name": "stdout",
          "text": [
            "+---+------+----------------+------+------+-----+--------------------+\n",
            "|age|gender|            name|course|  roll|marks|               email|\n",
            "+---+------+----------------+------+------+-----+--------------------+\n",
            "| 28|Female| Hubert Oliveras|    DB| 02984|   59|Annika Hoffman_Na...|\n",
            "| 29|Female|Toshiko Hillyard| Cloud| 12899|   62|Margene Moores_Ma...|\n",
            "| 28|  Male|  Celeste Lollis|    PF| 21267|   45|Jeannetta Golden_...|\n",
            "| 29|Female|    Elenore Choy|    DB| 32877|   29|Billi Clore_Mitzi...|\n",
            "| 28|  Male|  Sheryll Towler|   DSA| 41487|   41|Claude Panos_Judi...|\n",
            "| 28|  Male|  Margene Moores|   MVC| 52771|   32|Toshiko Hillyard_...|\n",
            "| 28|  Male|     Neda Briski|   OOP| 61973|   69|Alberta Freund_El...|\n",
            "| 28|Female|    Claude Panos| Cloud| 72409|   85|Sheryll Towler_Al...|\n",
            "| 28|  Male|  Celeste Lollis|   MVC| 81492|   64|Nicole Harwood_Cl...|\n",
            "| 29|  Male|  Cordie Harnois|   OOP| 92882|   51|Judie Chipps_Clem...|\n",
            "| 29|Female|       Kena Wild|   DSA|102285|   35|Dustin Feagins_Ma...|\n",
            "| 29|  Male| Ernest Rossbach|    DB|111449|   53|Maybell Duguay_Ab...|\n",
            "| 28|Female|  Latia Vanhoose|    DB|122502|   27|Latia Vanhoose_Mi...|\n",
            "| 29|Female|  Latia Vanhoose|   MVC|132110|   55|Eda Neathery_Nico...|\n",
            "| 29|  Male|     Neda Briski|    PF|141770|   42|Margene Moores_Mi...|\n",
            "| 29|Female|  Latia Vanhoose|    DB|152159|   27|Claude Panos_Sant...|\n",
            "| 29|  Male|  Loris Crossett|   MVC|161771|   36|Mitzi Seldon_Jenn...|\n",
            "| 29|  Male|  Annika Hoffman|   OOP|171660|   22|Taryn Brownlee_Mi...|\n",
            "| 29|  Male|   Santa Kerfien|    PF|182129|   56|Judie Chipps_Tary...|\n",
            "| 28|Female|Mickey Cortright|    DB|192537|   62|Ernest Rossbach_M...|\n",
            "+---+------+----------------+------+------+-----+--------------------+\n",
            "only showing top 20 rows\n",
            "\n",
            "root\n",
            " |-- age: integer (nullable = true)\n",
            " |-- gender: string (nullable = true)\n",
            " |-- name: string (nullable = true)\n",
            " |-- course: string (nullable = true)\n",
            " |-- roll: string (nullable = true)\n",
            " |-- marks: integer (nullable = true)\n",
            " |-- email: string (nullable = true)\n",
            "\n"
          ]
        }
      ]
    },
    {
      "cell_type": "markdown",
      "source": [
        "## Select colunas do DataFrame"
      ],
      "metadata": {
        "id": "_UICMExkSI3w"
      }
    },
    {
      "cell_type": "code",
      "source": [
        "from pyspark.sql import SparkSession\n",
        "spark = SparkSession.builder.appName(\"Spark DataFrames\").getOrCreate()\n"
      ],
      "metadata": {
        "id": "CzRFTQ7jSPXB"
      },
      "execution_count": 127,
      "outputs": []
    },
    {
      "cell_type": "code",
      "source": [
        "df = spark.read.options(header = 'True', inferSchema = 'True').csv('/content/drive/MyDrive/PySpark/data/StudentData.csv')\n",
        "df.show()"
      ],
      "metadata": {
        "colab": {
          "base_uri": "https://localhost:8080/"
        },
        "id": "rfFmggRTSg_q",
        "outputId": "06d845cf-66ae-4868-82d7-9b7848b16bc5"
      },
      "execution_count": 128,
      "outputs": [
        {
          "output_type": "stream",
          "name": "stdout",
          "text": [
            "+---+------+----------------+------+------+-----+--------------------+\n",
            "|age|gender|            name|course|  roll|marks|               email|\n",
            "+---+------+----------------+------+------+-----+--------------------+\n",
            "| 28|Female| Hubert Oliveras|    DB|  2984|   59|Annika Hoffman_Na...|\n",
            "| 29|Female|Toshiko Hillyard| Cloud| 12899|   62|Margene Moores_Ma...|\n",
            "| 28|  Male|  Celeste Lollis|    PF| 21267|   45|Jeannetta Golden_...|\n",
            "| 29|Female|    Elenore Choy|    DB| 32877|   29|Billi Clore_Mitzi...|\n",
            "| 28|  Male|  Sheryll Towler|   DSA| 41487|   41|Claude Panos_Judi...|\n",
            "| 28|  Male|  Margene Moores|   MVC| 52771|   32|Toshiko Hillyard_...|\n",
            "| 28|  Male|     Neda Briski|   OOP| 61973|   69|Alberta Freund_El...|\n",
            "| 28|Female|    Claude Panos| Cloud| 72409|   85|Sheryll Towler_Al...|\n",
            "| 28|  Male|  Celeste Lollis|   MVC| 81492|   64|Nicole Harwood_Cl...|\n",
            "| 29|  Male|  Cordie Harnois|   OOP| 92882|   51|Judie Chipps_Clem...|\n",
            "| 29|Female|       Kena Wild|   DSA|102285|   35|Dustin Feagins_Ma...|\n",
            "| 29|  Male| Ernest Rossbach|    DB|111449|   53|Maybell Duguay_Ab...|\n",
            "| 28|Female|  Latia Vanhoose|    DB|122502|   27|Latia Vanhoose_Mi...|\n",
            "| 29|Female|  Latia Vanhoose|   MVC|132110|   55|Eda Neathery_Nico...|\n",
            "| 29|  Male|     Neda Briski|    PF|141770|   42|Margene Moores_Mi...|\n",
            "| 29|Female|  Latia Vanhoose|    DB|152159|   27|Claude Panos_Sant...|\n",
            "| 29|  Male|  Loris Crossett|   MVC|161771|   36|Mitzi Seldon_Jenn...|\n",
            "| 29|  Male|  Annika Hoffman|   OOP|171660|   22|Taryn Brownlee_Mi...|\n",
            "| 29|  Male|   Santa Kerfien|    PF|182129|   56|Judie Chipps_Tary...|\n",
            "| 28|Female|Mickey Cortright|    DB|192537|   62|Ernest Rossbach_M...|\n",
            "+---+------+----------------+------+------+-----+--------------------+\n",
            "only showing top 20 rows\n",
            "\n"
          ]
        }
      ]
    },
    {
      "cell_type": "markdown",
      "source": [
        "* Como selecionar colunas no DF"
      ],
      "metadata": {
        "id": "nVFR46PmppOW"
      }
    },
    {
      "cell_type": "code",
      "source": [
        "df.select(\"name\",\"gender\").show()"
      ],
      "metadata": {
        "colab": {
          "base_uri": "https://localhost:8080/"
        },
        "id": "7AGk6V6UpktE",
        "outputId": "7fedd477-88b8-4694-fdfe-f1c6a434126c"
      },
      "execution_count": 129,
      "outputs": [
        {
          "output_type": "stream",
          "name": "stdout",
          "text": [
            "+----------------+------+\n",
            "|            name|gender|\n",
            "+----------------+------+\n",
            "| Hubert Oliveras|Female|\n",
            "|Toshiko Hillyard|Female|\n",
            "|  Celeste Lollis|  Male|\n",
            "|    Elenore Choy|Female|\n",
            "|  Sheryll Towler|  Male|\n",
            "|  Margene Moores|  Male|\n",
            "|     Neda Briski|  Male|\n",
            "|    Claude Panos|Female|\n",
            "|  Celeste Lollis|  Male|\n",
            "|  Cordie Harnois|  Male|\n",
            "|       Kena Wild|Female|\n",
            "| Ernest Rossbach|  Male|\n",
            "|  Latia Vanhoose|Female|\n",
            "|  Latia Vanhoose|Female|\n",
            "|     Neda Briski|  Male|\n",
            "|  Latia Vanhoose|Female|\n",
            "|  Loris Crossett|  Male|\n",
            "|  Annika Hoffman|  Male|\n",
            "|   Santa Kerfien|  Male|\n",
            "|Mickey Cortright|Female|\n",
            "+----------------+------+\n",
            "only showing top 20 rows\n",
            "\n"
          ]
        }
      ]
    },
    {
      "cell_type": "code",
      "source": [
        "df.select(df.name, df.email).show()"
      ],
      "metadata": {
        "colab": {
          "base_uri": "https://localhost:8080/"
        },
        "id": "qQ5djo3LqAYx",
        "outputId": "f5f3a414-27da-4ddf-e7be-5ca0eed53194"
      },
      "execution_count": 130,
      "outputs": [
        {
          "output_type": "stream",
          "name": "stdout",
          "text": [
            "+----------------+--------------------+\n",
            "|            name|               email|\n",
            "+----------------+--------------------+\n",
            "| Hubert Oliveras|Annika Hoffman_Na...|\n",
            "|Toshiko Hillyard|Margene Moores_Ma...|\n",
            "|  Celeste Lollis|Jeannetta Golden_...|\n",
            "|    Elenore Choy|Billi Clore_Mitzi...|\n",
            "|  Sheryll Towler|Claude Panos_Judi...|\n",
            "|  Margene Moores|Toshiko Hillyard_...|\n",
            "|     Neda Briski|Alberta Freund_El...|\n",
            "|    Claude Panos|Sheryll Towler_Al...|\n",
            "|  Celeste Lollis|Nicole Harwood_Cl...|\n",
            "|  Cordie Harnois|Judie Chipps_Clem...|\n",
            "|       Kena Wild|Dustin Feagins_Ma...|\n",
            "| Ernest Rossbach|Maybell Duguay_Ab...|\n",
            "|  Latia Vanhoose|Latia Vanhoose_Mi...|\n",
            "|  Latia Vanhoose|Eda Neathery_Nico...|\n",
            "|     Neda Briski|Margene Moores_Mi...|\n",
            "|  Latia Vanhoose|Claude Panos_Sant...|\n",
            "|  Loris Crossett|Mitzi Seldon_Jenn...|\n",
            "|  Annika Hoffman|Taryn Brownlee_Mi...|\n",
            "|   Santa Kerfien|Judie Chipps_Tary...|\n",
            "|Mickey Cortright|Ernest Rossbach_M...|\n",
            "+----------------+--------------------+\n",
            "only showing top 20 rows\n",
            "\n"
          ]
        }
      ]
    },
    {
      "cell_type": "code",
      "source": [
        "from pyspark.sql.functions import col\n",
        "\n",
        "df.select(col(\"roll\"), col(\"name\")).show()"
      ],
      "metadata": {
        "colab": {
          "base_uri": "https://localhost:8080/"
        },
        "id": "lReej62EqOCB",
        "outputId": "4badb455-cd00-405e-9e20-8abed3be11dd"
      },
      "execution_count": 131,
      "outputs": [
        {
          "output_type": "stream",
          "name": "stdout",
          "text": [
            "+------+----------------+\n",
            "|  roll|            name|\n",
            "+------+----------------+\n",
            "|  2984| Hubert Oliveras|\n",
            "| 12899|Toshiko Hillyard|\n",
            "| 21267|  Celeste Lollis|\n",
            "| 32877|    Elenore Choy|\n",
            "| 41487|  Sheryll Towler|\n",
            "| 52771|  Margene Moores|\n",
            "| 61973|     Neda Briski|\n",
            "| 72409|    Claude Panos|\n",
            "| 81492|  Celeste Lollis|\n",
            "| 92882|  Cordie Harnois|\n",
            "|102285|       Kena Wild|\n",
            "|111449| Ernest Rossbach|\n",
            "|122502|  Latia Vanhoose|\n",
            "|132110|  Latia Vanhoose|\n",
            "|141770|     Neda Briski|\n",
            "|152159|  Latia Vanhoose|\n",
            "|161771|  Loris Crossett|\n",
            "|171660|  Annika Hoffman|\n",
            "|182129|   Santa Kerfien|\n",
            "|192537|Mickey Cortright|\n",
            "+------+----------------+\n",
            "only showing top 20 rows\n",
            "\n"
          ]
        }
      ]
    },
    {
      "cell_type": "code",
      "source": [
        "df.select('*').show()"
      ],
      "metadata": {
        "colab": {
          "base_uri": "https://localhost:8080/"
        },
        "id": "ybOBdMN9ql5-",
        "outputId": "f9d799b0-246d-4723-b613-7c0105e87370"
      },
      "execution_count": 132,
      "outputs": [
        {
          "output_type": "stream",
          "name": "stdout",
          "text": [
            "+---+------+----------------+------+------+-----+--------------------+\n",
            "|age|gender|            name|course|  roll|marks|               email|\n",
            "+---+------+----------------+------+------+-----+--------------------+\n",
            "| 28|Female| Hubert Oliveras|    DB|  2984|   59|Annika Hoffman_Na...|\n",
            "| 29|Female|Toshiko Hillyard| Cloud| 12899|   62|Margene Moores_Ma...|\n",
            "| 28|  Male|  Celeste Lollis|    PF| 21267|   45|Jeannetta Golden_...|\n",
            "| 29|Female|    Elenore Choy|    DB| 32877|   29|Billi Clore_Mitzi...|\n",
            "| 28|  Male|  Sheryll Towler|   DSA| 41487|   41|Claude Panos_Judi...|\n",
            "| 28|  Male|  Margene Moores|   MVC| 52771|   32|Toshiko Hillyard_...|\n",
            "| 28|  Male|     Neda Briski|   OOP| 61973|   69|Alberta Freund_El...|\n",
            "| 28|Female|    Claude Panos| Cloud| 72409|   85|Sheryll Towler_Al...|\n",
            "| 28|  Male|  Celeste Lollis|   MVC| 81492|   64|Nicole Harwood_Cl...|\n",
            "| 29|  Male|  Cordie Harnois|   OOP| 92882|   51|Judie Chipps_Clem...|\n",
            "| 29|Female|       Kena Wild|   DSA|102285|   35|Dustin Feagins_Ma...|\n",
            "| 29|  Male| Ernest Rossbach|    DB|111449|   53|Maybell Duguay_Ab...|\n",
            "| 28|Female|  Latia Vanhoose|    DB|122502|   27|Latia Vanhoose_Mi...|\n",
            "| 29|Female|  Latia Vanhoose|   MVC|132110|   55|Eda Neathery_Nico...|\n",
            "| 29|  Male|     Neda Briski|    PF|141770|   42|Margene Moores_Mi...|\n",
            "| 29|Female|  Latia Vanhoose|    DB|152159|   27|Claude Panos_Sant...|\n",
            "| 29|  Male|  Loris Crossett|   MVC|161771|   36|Mitzi Seldon_Jenn...|\n",
            "| 29|  Male|  Annika Hoffman|   OOP|171660|   22|Taryn Brownlee_Mi...|\n",
            "| 29|  Male|   Santa Kerfien|    PF|182129|   56|Judie Chipps_Tary...|\n",
            "| 28|Female|Mickey Cortright|    DB|192537|   62|Ernest Rossbach_M...|\n",
            "+---+------+----------------+------+------+-----+--------------------+\n",
            "only showing top 20 rows\n",
            "\n"
          ]
        }
      ]
    },
    {
      "cell_type": "code",
      "source": [
        "df.columns\n",
        "df.select('age', 'gender', 'email').show()"
      ],
      "metadata": {
        "colab": {
          "base_uri": "https://localhost:8080/"
        },
        "id": "ye5fR1TUqxd8",
        "outputId": "4860343c-7d1e-4e98-c25d-b0f70a7e1185"
      },
      "execution_count": 133,
      "outputs": [
        {
          "output_type": "stream",
          "name": "stdout",
          "text": [
            "+---+------+--------------------+\n",
            "|age|gender|               email|\n",
            "+---+------+--------------------+\n",
            "| 28|Female|Annika Hoffman_Na...|\n",
            "| 29|Female|Margene Moores_Ma...|\n",
            "| 28|  Male|Jeannetta Golden_...|\n",
            "| 29|Female|Billi Clore_Mitzi...|\n",
            "| 28|  Male|Claude Panos_Judi...|\n",
            "| 28|  Male|Toshiko Hillyard_...|\n",
            "| 28|  Male|Alberta Freund_El...|\n",
            "| 28|Female|Sheryll Towler_Al...|\n",
            "| 28|  Male|Nicole Harwood_Cl...|\n",
            "| 29|  Male|Judie Chipps_Clem...|\n",
            "| 29|Female|Dustin Feagins_Ma...|\n",
            "| 29|  Male|Maybell Duguay_Ab...|\n",
            "| 28|Female|Latia Vanhoose_Mi...|\n",
            "| 29|Female|Eda Neathery_Nico...|\n",
            "| 29|  Male|Margene Moores_Mi...|\n",
            "| 29|Female|Claude Panos_Sant...|\n",
            "| 29|  Male|Mitzi Seldon_Jenn...|\n",
            "| 29|  Male|Taryn Brownlee_Mi...|\n",
            "| 29|  Male|Judie Chipps_Tary...|\n",
            "| 28|Female|Ernest Rossbach_M...|\n",
            "+---+------+--------------------+\n",
            "only showing top 20 rows\n",
            "\n"
          ]
        }
      ]
    },
    {
      "cell_type": "code",
      "source": [
        "df.select(df.columns[2:6]).show()"
      ],
      "metadata": {
        "colab": {
          "base_uri": "https://localhost:8080/"
        },
        "id": "AWDvk7nTrH-r",
        "outputId": "76778741-061f-46fa-f738-8fbebca4f7ce"
      },
      "execution_count": 134,
      "outputs": [
        {
          "output_type": "stream",
          "name": "stdout",
          "text": [
            "+----------------+------+------+-----+\n",
            "|            name|course|  roll|marks|\n",
            "+----------------+------+------+-----+\n",
            "| Hubert Oliveras|    DB|  2984|   59|\n",
            "|Toshiko Hillyard| Cloud| 12899|   62|\n",
            "|  Celeste Lollis|    PF| 21267|   45|\n",
            "|    Elenore Choy|    DB| 32877|   29|\n",
            "|  Sheryll Towler|   DSA| 41487|   41|\n",
            "|  Margene Moores|   MVC| 52771|   32|\n",
            "|     Neda Briski|   OOP| 61973|   69|\n",
            "|    Claude Panos| Cloud| 72409|   85|\n",
            "|  Celeste Lollis|   MVC| 81492|   64|\n",
            "|  Cordie Harnois|   OOP| 92882|   51|\n",
            "|       Kena Wild|   DSA|102285|   35|\n",
            "| Ernest Rossbach|    DB|111449|   53|\n",
            "|  Latia Vanhoose|    DB|122502|   27|\n",
            "|  Latia Vanhoose|   MVC|132110|   55|\n",
            "|     Neda Briski|    PF|141770|   42|\n",
            "|  Latia Vanhoose|    DB|152159|   27|\n",
            "|  Loris Crossett|   MVC|161771|   36|\n",
            "|  Annika Hoffman|   OOP|171660|   22|\n",
            "|   Santa Kerfien|    PF|182129|   56|\n",
            "|Mickey Cortright|    DB|192537|   62|\n",
            "+----------------+------+------+-----+\n",
            "only showing top 20 rows\n",
            "\n"
          ]
        }
      ]
    },
    {
      "cell_type": "code",
      "source": [
        "df2 = df.select(col(\"roll\"), col(\"name\"))"
      ],
      "metadata": {
        "id": "xKCn1Asgrowh"
      },
      "execution_count": 135,
      "outputs": []
    },
    {
      "cell_type": "code",
      "source": [
        "df2.show()"
      ],
      "metadata": {
        "colab": {
          "base_uri": "https://localhost:8080/"
        },
        "id": "m4nHbz3jscrS",
        "outputId": "9fb78a1a-ed14-41f6-8996-c08908a4bb4b"
      },
      "execution_count": 136,
      "outputs": [
        {
          "output_type": "stream",
          "name": "stdout",
          "text": [
            "+------+----------------+\n",
            "|  roll|            name|\n",
            "+------+----------------+\n",
            "|  2984| Hubert Oliveras|\n",
            "| 12899|Toshiko Hillyard|\n",
            "| 21267|  Celeste Lollis|\n",
            "| 32877|    Elenore Choy|\n",
            "| 41487|  Sheryll Towler|\n",
            "| 52771|  Margene Moores|\n",
            "| 61973|     Neda Briski|\n",
            "| 72409|    Claude Panos|\n",
            "| 81492|  Celeste Lollis|\n",
            "| 92882|  Cordie Harnois|\n",
            "|102285|       Kena Wild|\n",
            "|111449| Ernest Rossbach|\n",
            "|122502|  Latia Vanhoose|\n",
            "|132110|  Latia Vanhoose|\n",
            "|141770|     Neda Briski|\n",
            "|152159|  Latia Vanhoose|\n",
            "|161771|  Loris Crossett|\n",
            "|171660|  Annika Hoffman|\n",
            "|182129|   Santa Kerfien|\n",
            "|192537|Mickey Cortright|\n",
            "+------+----------------+\n",
            "only showing top 20 rows\n",
            "\n"
          ]
        }
      ]
    },
    {
      "cell_type": "markdown",
      "source": [
        "## with column no DataFrame"
      ],
      "metadata": {
        "id": "cCAHEntNsu1A"
      }
    },
    {
      "cell_type": "code",
      "source": [
        "from pyspark.sql import SparkSession\n",
        "spark = SparkSession.builder.appName(\"Spark DataFrames\").getOrCreate()\n",
        "df = spark.read.options(header = 'True', inferSchema = 'True').csv('/content/drive/MyDrive/PySpark/data/StudentData.csv')"
      ],
      "metadata": {
        "id": "kYjxuNIms82G"
      },
      "execution_count": 137,
      "outputs": []
    },
    {
      "cell_type": "code",
      "source": [
        "df = spark.read.options(header = 'True', inferSchema = 'True').csv('/content/drive/MyDrive/PySpark/data/StudentData.csv')\n",
        "df.show()"
      ],
      "metadata": {
        "colab": {
          "base_uri": "https://localhost:8080/"
        },
        "id": "dKb5kIRptaZD",
        "outputId": "75e3d644-78f1-4dad-ccbf-0094538c134f"
      },
      "execution_count": 138,
      "outputs": [
        {
          "output_type": "stream",
          "name": "stdout",
          "text": [
            "+---+------+----------------+------+------+-----+--------------------+\n",
            "|age|gender|            name|course|  roll|marks|               email|\n",
            "+---+------+----------------+------+------+-----+--------------------+\n",
            "| 28|Female| Hubert Oliveras|    DB|  2984|   59|Annika Hoffman_Na...|\n",
            "| 29|Female|Toshiko Hillyard| Cloud| 12899|   62|Margene Moores_Ma...|\n",
            "| 28|  Male|  Celeste Lollis|    PF| 21267|   45|Jeannetta Golden_...|\n",
            "| 29|Female|    Elenore Choy|    DB| 32877|   29|Billi Clore_Mitzi...|\n",
            "| 28|  Male|  Sheryll Towler|   DSA| 41487|   41|Claude Panos_Judi...|\n",
            "| 28|  Male|  Margene Moores|   MVC| 52771|   32|Toshiko Hillyard_...|\n",
            "| 28|  Male|     Neda Briski|   OOP| 61973|   69|Alberta Freund_El...|\n",
            "| 28|Female|    Claude Panos| Cloud| 72409|   85|Sheryll Towler_Al...|\n",
            "| 28|  Male|  Celeste Lollis|   MVC| 81492|   64|Nicole Harwood_Cl...|\n",
            "| 29|  Male|  Cordie Harnois|   OOP| 92882|   51|Judie Chipps_Clem...|\n",
            "| 29|Female|       Kena Wild|   DSA|102285|   35|Dustin Feagins_Ma...|\n",
            "| 29|  Male| Ernest Rossbach|    DB|111449|   53|Maybell Duguay_Ab...|\n",
            "| 28|Female|  Latia Vanhoose|    DB|122502|   27|Latia Vanhoose_Mi...|\n",
            "| 29|Female|  Latia Vanhoose|   MVC|132110|   55|Eda Neathery_Nico...|\n",
            "| 29|  Male|     Neda Briski|    PF|141770|   42|Margene Moores_Mi...|\n",
            "| 29|Female|  Latia Vanhoose|    DB|152159|   27|Claude Panos_Sant...|\n",
            "| 29|  Male|  Loris Crossett|   MVC|161771|   36|Mitzi Seldon_Jenn...|\n",
            "| 29|  Male|  Annika Hoffman|   OOP|171660|   22|Taryn Brownlee_Mi...|\n",
            "| 29|  Male|   Santa Kerfien|    PF|182129|   56|Judie Chipps_Tary...|\n",
            "| 28|Female|Mickey Cortright|    DB|192537|   62|Ernest Rossbach_M...|\n",
            "+---+------+----------------+------+------+-----+--------------------+\n",
            "only showing top 20 rows\n",
            "\n"
          ]
        }
      ]
    },
    {
      "cell_type": "code",
      "source": [
        "from pyspark.sql.functions import col, lit\n",
        "df = df.withColumn(\"roll\", col(\"roll\").cast(\"string\"))"
      ],
      "metadata": {
        "id": "yyz0902xug8D"
      },
      "execution_count": 139,
      "outputs": []
    },
    {
      "cell_type": "code",
      "source": [
        "df.show()"
      ],
      "metadata": {
        "colab": {
          "base_uri": "https://localhost:8080/"
        },
        "id": "F5HzT32kvaE-",
        "outputId": "2422a9df-181e-43df-a9a1-c131616a0a74"
      },
      "execution_count": 140,
      "outputs": [
        {
          "output_type": "stream",
          "name": "stdout",
          "text": [
            "+---+------+----------------+------+------+-----+--------------------+\n",
            "|age|gender|            name|course|  roll|marks|               email|\n",
            "+---+------+----------------+------+------+-----+--------------------+\n",
            "| 28|Female| Hubert Oliveras|    DB|  2984|   59|Annika Hoffman_Na...|\n",
            "| 29|Female|Toshiko Hillyard| Cloud| 12899|   62|Margene Moores_Ma...|\n",
            "| 28|  Male|  Celeste Lollis|    PF| 21267|   45|Jeannetta Golden_...|\n",
            "| 29|Female|    Elenore Choy|    DB| 32877|   29|Billi Clore_Mitzi...|\n",
            "| 28|  Male|  Sheryll Towler|   DSA| 41487|   41|Claude Panos_Judi...|\n",
            "| 28|  Male|  Margene Moores|   MVC| 52771|   32|Toshiko Hillyard_...|\n",
            "| 28|  Male|     Neda Briski|   OOP| 61973|   69|Alberta Freund_El...|\n",
            "| 28|Female|    Claude Panos| Cloud| 72409|   85|Sheryll Towler_Al...|\n",
            "| 28|  Male|  Celeste Lollis|   MVC| 81492|   64|Nicole Harwood_Cl...|\n",
            "| 29|  Male|  Cordie Harnois|   OOP| 92882|   51|Judie Chipps_Clem...|\n",
            "| 29|Female|       Kena Wild|   DSA|102285|   35|Dustin Feagins_Ma...|\n",
            "| 29|  Male| Ernest Rossbach|    DB|111449|   53|Maybell Duguay_Ab...|\n",
            "| 28|Female|  Latia Vanhoose|    DB|122502|   27|Latia Vanhoose_Mi...|\n",
            "| 29|Female|  Latia Vanhoose|   MVC|132110|   55|Eda Neathery_Nico...|\n",
            "| 29|  Male|     Neda Briski|    PF|141770|   42|Margene Moores_Mi...|\n",
            "| 29|Female|  Latia Vanhoose|    DB|152159|   27|Claude Panos_Sant...|\n",
            "| 29|  Male|  Loris Crossett|   MVC|161771|   36|Mitzi Seldon_Jenn...|\n",
            "| 29|  Male|  Annika Hoffman|   OOP|171660|   22|Taryn Brownlee_Mi...|\n",
            "| 29|  Male|   Santa Kerfien|    PF|182129|   56|Judie Chipps_Tary...|\n",
            "| 28|Female|Mickey Cortright|    DB|192537|   62|Ernest Rossbach_M...|\n",
            "+---+------+----------------+------+------+-----+--------------------+\n",
            "only showing top 20 rows\n",
            "\n"
          ]
        }
      ]
    },
    {
      "cell_type": "code",
      "source": [
        "df.printSchema()"
      ],
      "metadata": {
        "colab": {
          "base_uri": "https://localhost:8080/"
        },
        "id": "dgU8ac7LtkP8",
        "outputId": "1fa20b39-1e81-44d1-81e2-a6738fbb8a9e"
      },
      "execution_count": 141,
      "outputs": [
        {
          "output_type": "stream",
          "name": "stdout",
          "text": [
            "root\n",
            " |-- age: integer (nullable = true)\n",
            " |-- gender: string (nullable = true)\n",
            " |-- name: string (nullable = true)\n",
            " |-- course: string (nullable = true)\n",
            " |-- roll: string (nullable = true)\n",
            " |-- marks: integer (nullable = true)\n",
            " |-- email: string (nullable = true)\n",
            "\n"
          ]
        }
      ]
    },
    {
      "cell_type": "code",
      "source": [
        "# Adicionando 10 a coluna marks\n",
        "df = df.withColumn(\"marks\", col('marks') + 10)\n",
        "df.show()"
      ],
      "metadata": {
        "colab": {
          "base_uri": "https://localhost:8080/"
        },
        "id": "ICLJ5RwGto0M",
        "outputId": "43502ab8-d42e-4057-cf77-058095d78b77"
      },
      "execution_count": 142,
      "outputs": [
        {
          "output_type": "stream",
          "name": "stdout",
          "text": [
            "+---+------+----------------+------+------+-----+--------------------+\n",
            "|age|gender|            name|course|  roll|marks|               email|\n",
            "+---+------+----------------+------+------+-----+--------------------+\n",
            "| 28|Female| Hubert Oliveras|    DB|  2984|   69|Annika Hoffman_Na...|\n",
            "| 29|Female|Toshiko Hillyard| Cloud| 12899|   72|Margene Moores_Ma...|\n",
            "| 28|  Male|  Celeste Lollis|    PF| 21267|   55|Jeannetta Golden_...|\n",
            "| 29|Female|    Elenore Choy|    DB| 32877|   39|Billi Clore_Mitzi...|\n",
            "| 28|  Male|  Sheryll Towler|   DSA| 41487|   51|Claude Panos_Judi...|\n",
            "| 28|  Male|  Margene Moores|   MVC| 52771|   42|Toshiko Hillyard_...|\n",
            "| 28|  Male|     Neda Briski|   OOP| 61973|   79|Alberta Freund_El...|\n",
            "| 28|Female|    Claude Panos| Cloud| 72409|   95|Sheryll Towler_Al...|\n",
            "| 28|  Male|  Celeste Lollis|   MVC| 81492|   74|Nicole Harwood_Cl...|\n",
            "| 29|  Male|  Cordie Harnois|   OOP| 92882|   61|Judie Chipps_Clem...|\n",
            "| 29|Female|       Kena Wild|   DSA|102285|   45|Dustin Feagins_Ma...|\n",
            "| 29|  Male| Ernest Rossbach|    DB|111449|   63|Maybell Duguay_Ab...|\n",
            "| 28|Female|  Latia Vanhoose|    DB|122502|   37|Latia Vanhoose_Mi...|\n",
            "| 29|Female|  Latia Vanhoose|   MVC|132110|   65|Eda Neathery_Nico...|\n",
            "| 29|  Male|     Neda Briski|    PF|141770|   52|Margene Moores_Mi...|\n",
            "| 29|Female|  Latia Vanhoose|    DB|152159|   37|Claude Panos_Sant...|\n",
            "| 29|  Male|  Loris Crossett|   MVC|161771|   46|Mitzi Seldon_Jenn...|\n",
            "| 29|  Male|  Annika Hoffman|   OOP|171660|   32|Taryn Brownlee_Mi...|\n",
            "| 29|  Male|   Santa Kerfien|    PF|182129|   66|Judie Chipps_Tary...|\n",
            "| 28|Female|Mickey Cortright|    DB|192537|   72|Ernest Rossbach_M...|\n",
            "+---+------+----------------+------+------+-----+--------------------+\n",
            "only showing top 20 rows\n",
            "\n"
          ]
        }
      ]
    },
    {
      "cell_type": "code",
      "source": [
        "#Criando uma nova coluna\n",
        "df = df.withColumn(\"aggregated marks\", col('marks') -10)\n",
        "df.show()"
      ],
      "metadata": {
        "colab": {
          "base_uri": "https://localhost:8080/"
        },
        "id": "DZFTxiPawb2f",
        "outputId": "04c1ef4f-5319-4985-daa5-ed52812768ba"
      },
      "execution_count": 143,
      "outputs": [
        {
          "output_type": "stream",
          "name": "stdout",
          "text": [
            "+---+------+----------------+------+------+-----+--------------------+----------------+\n",
            "|age|gender|            name|course|  roll|marks|               email|aggregated marks|\n",
            "+---+------+----------------+------+------+-----+--------------------+----------------+\n",
            "| 28|Female| Hubert Oliveras|    DB|  2984|   69|Annika Hoffman_Na...|              59|\n",
            "| 29|Female|Toshiko Hillyard| Cloud| 12899|   72|Margene Moores_Ma...|              62|\n",
            "| 28|  Male|  Celeste Lollis|    PF| 21267|   55|Jeannetta Golden_...|              45|\n",
            "| 29|Female|    Elenore Choy|    DB| 32877|   39|Billi Clore_Mitzi...|              29|\n",
            "| 28|  Male|  Sheryll Towler|   DSA| 41487|   51|Claude Panos_Judi...|              41|\n",
            "| 28|  Male|  Margene Moores|   MVC| 52771|   42|Toshiko Hillyard_...|              32|\n",
            "| 28|  Male|     Neda Briski|   OOP| 61973|   79|Alberta Freund_El...|              69|\n",
            "| 28|Female|    Claude Panos| Cloud| 72409|   95|Sheryll Towler_Al...|              85|\n",
            "| 28|  Male|  Celeste Lollis|   MVC| 81492|   74|Nicole Harwood_Cl...|              64|\n",
            "| 29|  Male|  Cordie Harnois|   OOP| 92882|   61|Judie Chipps_Clem...|              51|\n",
            "| 29|Female|       Kena Wild|   DSA|102285|   45|Dustin Feagins_Ma...|              35|\n",
            "| 29|  Male| Ernest Rossbach|    DB|111449|   63|Maybell Duguay_Ab...|              53|\n",
            "| 28|Female|  Latia Vanhoose|    DB|122502|   37|Latia Vanhoose_Mi...|              27|\n",
            "| 29|Female|  Latia Vanhoose|   MVC|132110|   65|Eda Neathery_Nico...|              55|\n",
            "| 29|  Male|     Neda Briski|    PF|141770|   52|Margene Moores_Mi...|              42|\n",
            "| 29|Female|  Latia Vanhoose|    DB|152159|   37|Claude Panos_Sant...|              27|\n",
            "| 29|  Male|  Loris Crossett|   MVC|161771|   46|Mitzi Seldon_Jenn...|              36|\n",
            "| 29|  Male|  Annika Hoffman|   OOP|171660|   32|Taryn Brownlee_Mi...|              22|\n",
            "| 29|  Male|   Santa Kerfien|    PF|182129|   66|Judie Chipps_Tary...|              56|\n",
            "| 28|Female|Mickey Cortright|    DB|192537|   72|Ernest Rossbach_M...|              62|\n",
            "+---+------+----------------+------+------+-----+--------------------+----------------+\n",
            "only showing top 20 rows\n",
            "\n"
          ]
        }
      ]
    },
    {
      "cell_type": "code",
      "source": [
        "from pyspark.sql.functions import col, lit\n",
        "df = df.withColumn(\"Country\", lit(\"USA\"))\n",
        "df.show()"
      ],
      "metadata": {
        "colab": {
          "base_uri": "https://localhost:8080/"
        },
        "id": "fD_arKyIxCzY",
        "outputId": "058ab5f0-d693-4ac6-faf3-78f739c194b1"
      },
      "execution_count": 144,
      "outputs": [
        {
          "output_type": "stream",
          "name": "stdout",
          "text": [
            "+---+------+----------------+------+------+-----+--------------------+----------------+-------+\n",
            "|age|gender|            name|course|  roll|marks|               email|aggregated marks|Country|\n",
            "+---+------+----------------+------+------+-----+--------------------+----------------+-------+\n",
            "| 28|Female| Hubert Oliveras|    DB|  2984|   69|Annika Hoffman_Na...|              59|    USA|\n",
            "| 29|Female|Toshiko Hillyard| Cloud| 12899|   72|Margene Moores_Ma...|              62|    USA|\n",
            "| 28|  Male|  Celeste Lollis|    PF| 21267|   55|Jeannetta Golden_...|              45|    USA|\n",
            "| 29|Female|    Elenore Choy|    DB| 32877|   39|Billi Clore_Mitzi...|              29|    USA|\n",
            "| 28|  Male|  Sheryll Towler|   DSA| 41487|   51|Claude Panos_Judi...|              41|    USA|\n",
            "| 28|  Male|  Margene Moores|   MVC| 52771|   42|Toshiko Hillyard_...|              32|    USA|\n",
            "| 28|  Male|     Neda Briski|   OOP| 61973|   79|Alberta Freund_El...|              69|    USA|\n",
            "| 28|Female|    Claude Panos| Cloud| 72409|   95|Sheryll Towler_Al...|              85|    USA|\n",
            "| 28|  Male|  Celeste Lollis|   MVC| 81492|   74|Nicole Harwood_Cl...|              64|    USA|\n",
            "| 29|  Male|  Cordie Harnois|   OOP| 92882|   61|Judie Chipps_Clem...|              51|    USA|\n",
            "| 29|Female|       Kena Wild|   DSA|102285|   45|Dustin Feagins_Ma...|              35|    USA|\n",
            "| 29|  Male| Ernest Rossbach|    DB|111449|   63|Maybell Duguay_Ab...|              53|    USA|\n",
            "| 28|Female|  Latia Vanhoose|    DB|122502|   37|Latia Vanhoose_Mi...|              27|    USA|\n",
            "| 29|Female|  Latia Vanhoose|   MVC|132110|   65|Eda Neathery_Nico...|              55|    USA|\n",
            "| 29|  Male|     Neda Briski|    PF|141770|   52|Margene Moores_Mi...|              42|    USA|\n",
            "| 29|Female|  Latia Vanhoose|    DB|152159|   37|Claude Panos_Sant...|              27|    USA|\n",
            "| 29|  Male|  Loris Crossett|   MVC|161771|   46|Mitzi Seldon_Jenn...|              36|    USA|\n",
            "| 29|  Male|  Annika Hoffman|   OOP|171660|   32|Taryn Brownlee_Mi...|              22|    USA|\n",
            "| 29|  Male|   Santa Kerfien|    PF|182129|   66|Judie Chipps_Tary...|              56|    USA|\n",
            "| 28|Female|Mickey Cortright|    DB|192537|   72|Ernest Rossbach_M...|              62|    USA|\n",
            "+---+------+----------------+------+------+-----+--------------------+----------------+-------+\n",
            "only showing top 20 rows\n",
            "\n"
          ]
        }
      ]
    },
    {
      "cell_type": "code",
      "source": [
        "df.withColumn(\"marks\", col(\"marks\")- 10).withColumn(\"updated marks\", col(\"marks\") + 20).withColumn(\"Country\", lit(\"USA\")).show()"
      ],
      "metadata": {
        "colab": {
          "base_uri": "https://localhost:8080/"
        },
        "id": "X-IaWZrKxr-Z",
        "outputId": "216a6f0d-8aee-4d81-f446-e07a007a0c74"
      },
      "execution_count": 145,
      "outputs": [
        {
          "output_type": "stream",
          "name": "stdout",
          "text": [
            "+---+------+----------------+------+------+-----+--------------------+----------------+-------+-------------+\n",
            "|age|gender|            name|course|  roll|marks|               email|aggregated marks|Country|updated marks|\n",
            "+---+------+----------------+------+------+-----+--------------------+----------------+-------+-------------+\n",
            "| 28|Female| Hubert Oliveras|    DB|  2984|   59|Annika Hoffman_Na...|              59|    USA|           79|\n",
            "| 29|Female|Toshiko Hillyard| Cloud| 12899|   62|Margene Moores_Ma...|              62|    USA|           82|\n",
            "| 28|  Male|  Celeste Lollis|    PF| 21267|   45|Jeannetta Golden_...|              45|    USA|           65|\n",
            "| 29|Female|    Elenore Choy|    DB| 32877|   29|Billi Clore_Mitzi...|              29|    USA|           49|\n",
            "| 28|  Male|  Sheryll Towler|   DSA| 41487|   41|Claude Panos_Judi...|              41|    USA|           61|\n",
            "| 28|  Male|  Margene Moores|   MVC| 52771|   32|Toshiko Hillyard_...|              32|    USA|           52|\n",
            "| 28|  Male|     Neda Briski|   OOP| 61973|   69|Alberta Freund_El...|              69|    USA|           89|\n",
            "| 28|Female|    Claude Panos| Cloud| 72409|   85|Sheryll Towler_Al...|              85|    USA|          105|\n",
            "| 28|  Male|  Celeste Lollis|   MVC| 81492|   64|Nicole Harwood_Cl...|              64|    USA|           84|\n",
            "| 29|  Male|  Cordie Harnois|   OOP| 92882|   51|Judie Chipps_Clem...|              51|    USA|           71|\n",
            "| 29|Female|       Kena Wild|   DSA|102285|   35|Dustin Feagins_Ma...|              35|    USA|           55|\n",
            "| 29|  Male| Ernest Rossbach|    DB|111449|   53|Maybell Duguay_Ab...|              53|    USA|           73|\n",
            "| 28|Female|  Latia Vanhoose|    DB|122502|   27|Latia Vanhoose_Mi...|              27|    USA|           47|\n",
            "| 29|Female|  Latia Vanhoose|   MVC|132110|   55|Eda Neathery_Nico...|              55|    USA|           75|\n",
            "| 29|  Male|     Neda Briski|    PF|141770|   42|Margene Moores_Mi...|              42|    USA|           62|\n",
            "| 29|Female|  Latia Vanhoose|    DB|152159|   27|Claude Panos_Sant...|              27|    USA|           47|\n",
            "| 29|  Male|  Loris Crossett|   MVC|161771|   36|Mitzi Seldon_Jenn...|              36|    USA|           56|\n",
            "| 29|  Male|  Annika Hoffman|   OOP|171660|   22|Taryn Brownlee_Mi...|              22|    USA|           42|\n",
            "| 29|  Male|   Santa Kerfien|    PF|182129|   56|Judie Chipps_Tary...|              56|    USA|           76|\n",
            "| 28|Female|Mickey Cortright|    DB|192537|   62|Ernest Rossbach_M...|              62|    USA|           82|\n",
            "+---+------+----------------+------+------+-----+--------------------+----------------+-------+-------------+\n",
            "only showing top 20 rows\n",
            "\n"
          ]
        }
      ]
    },
    {
      "cell_type": "markdown",
      "source": [
        "### Spark DF withcolumn renomendo e alias"
      ],
      "metadata": {
        "id": "ISPb-hAhzcdc"
      }
    },
    {
      "cell_type": "code",
      "source": [
        "from pyspark.sql import SparkSession\n",
        "spark = SparkSession.builder.appName(\"Spark DataFrames\").getOrCreate()\n",
        "df = spark.read.options(header = 'True', inferSchema = 'True').csv('/content/drive/MyDrive/PySpark/data/StudentData.csv')\n",
        "df.show()"
      ],
      "metadata": {
        "colab": {
          "base_uri": "https://localhost:8080/"
        },
        "id": "vhBZ5F5CzjK_",
        "outputId": "9f8d98c4-e57b-4fc6-9d90-328064302b21"
      },
      "execution_count": 146,
      "outputs": [
        {
          "output_type": "stream",
          "name": "stdout",
          "text": [
            "+---+------+----------------+------+------+-----+--------------------+\n",
            "|age|gender|            name|course|  roll|marks|               email|\n",
            "+---+------+----------------+------+------+-----+--------------------+\n",
            "| 28|Female| Hubert Oliveras|    DB|  2984|   59|Annika Hoffman_Na...|\n",
            "| 29|Female|Toshiko Hillyard| Cloud| 12899|   62|Margene Moores_Ma...|\n",
            "| 28|  Male|  Celeste Lollis|    PF| 21267|   45|Jeannetta Golden_...|\n",
            "| 29|Female|    Elenore Choy|    DB| 32877|   29|Billi Clore_Mitzi...|\n",
            "| 28|  Male|  Sheryll Towler|   DSA| 41487|   41|Claude Panos_Judi...|\n",
            "| 28|  Male|  Margene Moores|   MVC| 52771|   32|Toshiko Hillyard_...|\n",
            "| 28|  Male|     Neda Briski|   OOP| 61973|   69|Alberta Freund_El...|\n",
            "| 28|Female|    Claude Panos| Cloud| 72409|   85|Sheryll Towler_Al...|\n",
            "| 28|  Male|  Celeste Lollis|   MVC| 81492|   64|Nicole Harwood_Cl...|\n",
            "| 29|  Male|  Cordie Harnois|   OOP| 92882|   51|Judie Chipps_Clem...|\n",
            "| 29|Female|       Kena Wild|   DSA|102285|   35|Dustin Feagins_Ma...|\n",
            "| 29|  Male| Ernest Rossbach|    DB|111449|   53|Maybell Duguay_Ab...|\n",
            "| 28|Female|  Latia Vanhoose|    DB|122502|   27|Latia Vanhoose_Mi...|\n",
            "| 29|Female|  Latia Vanhoose|   MVC|132110|   55|Eda Neathery_Nico...|\n",
            "| 29|  Male|     Neda Briski|    PF|141770|   42|Margene Moores_Mi...|\n",
            "| 29|Female|  Latia Vanhoose|    DB|152159|   27|Claude Panos_Sant...|\n",
            "| 29|  Male|  Loris Crossett|   MVC|161771|   36|Mitzi Seldon_Jenn...|\n",
            "| 29|  Male|  Annika Hoffman|   OOP|171660|   22|Taryn Brownlee_Mi...|\n",
            "| 29|  Male|   Santa Kerfien|    PF|182129|   56|Judie Chipps_Tary...|\n",
            "| 28|Female|Mickey Cortright|    DB|192537|   62|Ernest Rossbach_M...|\n",
            "+---+------+----------------+------+------+-----+--------------------+\n",
            "only showing top 20 rows\n",
            "\n"
          ]
        }
      ]
    },
    {
      "cell_type": "code",
      "source": [
        "#renomenando uma coluna\n",
        "df = df.withColumnRenamed(\"gender\",\"sex\").withColumnRenamed(\"roll\", \"Roll namber\")\n",
        "df.show()"
      ],
      "metadata": {
        "colab": {
          "base_uri": "https://localhost:8080/"
        },
        "id": "e94rviRUzyJK",
        "outputId": "240be57a-b2e1-4d49-a30e-9e6fc01697f2"
      },
      "execution_count": 147,
      "outputs": [
        {
          "output_type": "stream",
          "name": "stdout",
          "text": [
            "+---+------+----------------+------+-----------+-----+--------------------+\n",
            "|age|   sex|            name|course|Roll namber|marks|               email|\n",
            "+---+------+----------------+------+-----------+-----+--------------------+\n",
            "| 28|Female| Hubert Oliveras|    DB|       2984|   59|Annika Hoffman_Na...|\n",
            "| 29|Female|Toshiko Hillyard| Cloud|      12899|   62|Margene Moores_Ma...|\n",
            "| 28|  Male|  Celeste Lollis|    PF|      21267|   45|Jeannetta Golden_...|\n",
            "| 29|Female|    Elenore Choy|    DB|      32877|   29|Billi Clore_Mitzi...|\n",
            "| 28|  Male|  Sheryll Towler|   DSA|      41487|   41|Claude Panos_Judi...|\n",
            "| 28|  Male|  Margene Moores|   MVC|      52771|   32|Toshiko Hillyard_...|\n",
            "| 28|  Male|     Neda Briski|   OOP|      61973|   69|Alberta Freund_El...|\n",
            "| 28|Female|    Claude Panos| Cloud|      72409|   85|Sheryll Towler_Al...|\n",
            "| 28|  Male|  Celeste Lollis|   MVC|      81492|   64|Nicole Harwood_Cl...|\n",
            "| 29|  Male|  Cordie Harnois|   OOP|      92882|   51|Judie Chipps_Clem...|\n",
            "| 29|Female|       Kena Wild|   DSA|     102285|   35|Dustin Feagins_Ma...|\n",
            "| 29|  Male| Ernest Rossbach|    DB|     111449|   53|Maybell Duguay_Ab...|\n",
            "| 28|Female|  Latia Vanhoose|    DB|     122502|   27|Latia Vanhoose_Mi...|\n",
            "| 29|Female|  Latia Vanhoose|   MVC|     132110|   55|Eda Neathery_Nico...|\n",
            "| 29|  Male|     Neda Briski|    PF|     141770|   42|Margene Moores_Mi...|\n",
            "| 29|Female|  Latia Vanhoose|    DB|     152159|   27|Claude Panos_Sant...|\n",
            "| 29|  Male|  Loris Crossett|   MVC|     161771|   36|Mitzi Seldon_Jenn...|\n",
            "| 29|  Male|  Annika Hoffman|   OOP|     171660|   22|Taryn Brownlee_Mi...|\n",
            "| 29|  Male|   Santa Kerfien|    PF|     182129|   56|Judie Chipps_Tary...|\n",
            "| 28|Female|Mickey Cortright|    DB|     192537|   62|Ernest Rossbach_M...|\n",
            "+---+------+----------------+------+-----------+-----+--------------------+\n",
            "only showing top 20 rows\n",
            "\n"
          ]
        }
      ]
    },
    {
      "cell_type": "markdown",
      "source": [
        "* utlizando o alias"
      ],
      "metadata": {
        "id": "9XfD0BXO0vtq"
      }
    },
    {
      "cell_type": "code",
      "source": [
        "from pyspark.sql.functions import col, lit\n",
        "df.select(col(\"name\").alias(\"Full name\")).show()"
      ],
      "metadata": {
        "colab": {
          "base_uri": "https://localhost:8080/"
        },
        "id": "yUO_g22G0keF",
        "outputId": "ea81b8ab-1e68-4af5-a565-8f1804071e2b"
      },
      "execution_count": 148,
      "outputs": [
        {
          "output_type": "stream",
          "name": "stdout",
          "text": [
            "+----------------+\n",
            "|       Full name|\n",
            "+----------------+\n",
            "| Hubert Oliveras|\n",
            "|Toshiko Hillyard|\n",
            "|  Celeste Lollis|\n",
            "|    Elenore Choy|\n",
            "|  Sheryll Towler|\n",
            "|  Margene Moores|\n",
            "|     Neda Briski|\n",
            "|    Claude Panos|\n",
            "|  Celeste Lollis|\n",
            "|  Cordie Harnois|\n",
            "|       Kena Wild|\n",
            "| Ernest Rossbach|\n",
            "|  Latia Vanhoose|\n",
            "|  Latia Vanhoose|\n",
            "|     Neda Briski|\n",
            "|  Latia Vanhoose|\n",
            "|  Loris Crossett|\n",
            "|  Annika Hoffman|\n",
            "|   Santa Kerfien|\n",
            "|Mickey Cortright|\n",
            "+----------------+\n",
            "only showing top 20 rows\n",
            "\n"
          ]
        }
      ]
    },
    {
      "cell_type": "markdown",
      "source": [
        "## withColumnRenamed no DataFrame"
      ],
      "metadata": {
        "id": "NcSukU7BhXFd"
      }
    },
    {
      "cell_type": "code",
      "source": [
        "from pyspark.sql import SparkSession\n",
        "from pyspark.sql.functions import col, lit\n",
        "spark = SparkSession.builder.appName(\"Spark DataFrames\").getOrCreate()\n",
        "df = spark.read.options(header = 'True', inferSchema = 'True').csv('/content/drive/MyDrive/PySpark/data/StudentData.csv')\n",
        "df.show()"
      ],
      "metadata": {
        "colab": {
          "base_uri": "https://localhost:8080/"
        },
        "id": "vVDPRaQehffE",
        "outputId": "eba6c437-637e-402c-cb4e-b9381fe2fca6"
      },
      "execution_count": 149,
      "outputs": [
        {
          "output_type": "stream",
          "name": "stdout",
          "text": [
            "+---+------+----------------+------+------+-----+--------------------+\n",
            "|age|gender|            name|course|  roll|marks|               email|\n",
            "+---+------+----------------+------+------+-----+--------------------+\n",
            "| 28|Female| Hubert Oliveras|    DB|  2984|   59|Annika Hoffman_Na...|\n",
            "| 29|Female|Toshiko Hillyard| Cloud| 12899|   62|Margene Moores_Ma...|\n",
            "| 28|  Male|  Celeste Lollis|    PF| 21267|   45|Jeannetta Golden_...|\n",
            "| 29|Female|    Elenore Choy|    DB| 32877|   29|Billi Clore_Mitzi...|\n",
            "| 28|  Male|  Sheryll Towler|   DSA| 41487|   41|Claude Panos_Judi...|\n",
            "| 28|  Male|  Margene Moores|   MVC| 52771|   32|Toshiko Hillyard_...|\n",
            "| 28|  Male|     Neda Briski|   OOP| 61973|   69|Alberta Freund_El...|\n",
            "| 28|Female|    Claude Panos| Cloud| 72409|   85|Sheryll Towler_Al...|\n",
            "| 28|  Male|  Celeste Lollis|   MVC| 81492|   64|Nicole Harwood_Cl...|\n",
            "| 29|  Male|  Cordie Harnois|   OOP| 92882|   51|Judie Chipps_Clem...|\n",
            "| 29|Female|       Kena Wild|   DSA|102285|   35|Dustin Feagins_Ma...|\n",
            "| 29|  Male| Ernest Rossbach|    DB|111449|   53|Maybell Duguay_Ab...|\n",
            "| 28|Female|  Latia Vanhoose|    DB|122502|   27|Latia Vanhoose_Mi...|\n",
            "| 29|Female|  Latia Vanhoose|   MVC|132110|   55|Eda Neathery_Nico...|\n",
            "| 29|  Male|     Neda Briski|    PF|141770|   42|Margene Moores_Mi...|\n",
            "| 29|Female|  Latia Vanhoose|    DB|152159|   27|Claude Panos_Sant...|\n",
            "| 29|  Male|  Loris Crossett|   MVC|161771|   36|Mitzi Seldon_Jenn...|\n",
            "| 29|  Male|  Annika Hoffman|   OOP|171660|   22|Taryn Brownlee_Mi...|\n",
            "| 29|  Male|   Santa Kerfien|    PF|182129|   56|Judie Chipps_Tary...|\n",
            "| 28|Female|Mickey Cortright|    DB|192537|   62|Ernest Rossbach_M...|\n",
            "+---+------+----------------+------+------+-----+--------------------+\n",
            "only showing top 20 rows\n",
            "\n"
          ]
        }
      ]
    },
    {
      "cell_type": "code",
      "source": [
        "df = df.withColumnRenamed(\"gender\", \"sex\").withColumnRenamed(\"roll\", \"roll number\")\n",
        "df.show()"
      ],
      "metadata": {
        "colab": {
          "base_uri": "https://localhost:8080/"
        },
        "id": "9jBZHVdVhsWG",
        "outputId": "23495b57-2733-44f0-a759-898d893de7d9"
      },
      "execution_count": 150,
      "outputs": [
        {
          "output_type": "stream",
          "name": "stdout",
          "text": [
            "+---+------+----------------+------+-----------+-----+--------------------+\n",
            "|age|   sex|            name|course|roll number|marks|               email|\n",
            "+---+------+----------------+------+-----------+-----+--------------------+\n",
            "| 28|Female| Hubert Oliveras|    DB|       2984|   59|Annika Hoffman_Na...|\n",
            "| 29|Female|Toshiko Hillyard| Cloud|      12899|   62|Margene Moores_Ma...|\n",
            "| 28|  Male|  Celeste Lollis|    PF|      21267|   45|Jeannetta Golden_...|\n",
            "| 29|Female|    Elenore Choy|    DB|      32877|   29|Billi Clore_Mitzi...|\n",
            "| 28|  Male|  Sheryll Towler|   DSA|      41487|   41|Claude Panos_Judi...|\n",
            "| 28|  Male|  Margene Moores|   MVC|      52771|   32|Toshiko Hillyard_...|\n",
            "| 28|  Male|     Neda Briski|   OOP|      61973|   69|Alberta Freund_El...|\n",
            "| 28|Female|    Claude Panos| Cloud|      72409|   85|Sheryll Towler_Al...|\n",
            "| 28|  Male|  Celeste Lollis|   MVC|      81492|   64|Nicole Harwood_Cl...|\n",
            "| 29|  Male|  Cordie Harnois|   OOP|      92882|   51|Judie Chipps_Clem...|\n",
            "| 29|Female|       Kena Wild|   DSA|     102285|   35|Dustin Feagins_Ma...|\n",
            "| 29|  Male| Ernest Rossbach|    DB|     111449|   53|Maybell Duguay_Ab...|\n",
            "| 28|Female|  Latia Vanhoose|    DB|     122502|   27|Latia Vanhoose_Mi...|\n",
            "| 29|Female|  Latia Vanhoose|   MVC|     132110|   55|Eda Neathery_Nico...|\n",
            "| 29|  Male|     Neda Briski|    PF|     141770|   42|Margene Moores_Mi...|\n",
            "| 29|Female|  Latia Vanhoose|    DB|     152159|   27|Claude Panos_Sant...|\n",
            "| 29|  Male|  Loris Crossett|   MVC|     161771|   36|Mitzi Seldon_Jenn...|\n",
            "| 29|  Male|  Annika Hoffman|   OOP|     171660|   22|Taryn Brownlee_Mi...|\n",
            "| 29|  Male|   Santa Kerfien|    PF|     182129|   56|Judie Chipps_Tary...|\n",
            "| 28|Female|Mickey Cortright|    DB|     192537|   62|Ernest Rossbach_M...|\n",
            "+---+------+----------------+------+-----------+-----+--------------------+\n",
            "only showing top 20 rows\n",
            "\n"
          ]
        }
      ]
    },
    {
      "cell_type": "code",
      "source": [
        "df.select(col(\"name\").alias(\"Full Name\")).show()"
      ],
      "metadata": {
        "colab": {
          "base_uri": "https://localhost:8080/"
        },
        "id": "SN6ZjkShiaQN",
        "outputId": "54b5f167-3f7c-486e-844a-b54ebccbd300"
      },
      "execution_count": 151,
      "outputs": [
        {
          "output_type": "stream",
          "name": "stdout",
          "text": [
            "+----------------+\n",
            "|       Full Name|\n",
            "+----------------+\n",
            "| Hubert Oliveras|\n",
            "|Toshiko Hillyard|\n",
            "|  Celeste Lollis|\n",
            "|    Elenore Choy|\n",
            "|  Sheryll Towler|\n",
            "|  Margene Moores|\n",
            "|     Neda Briski|\n",
            "|    Claude Panos|\n",
            "|  Celeste Lollis|\n",
            "|  Cordie Harnois|\n",
            "|       Kena Wild|\n",
            "| Ernest Rossbach|\n",
            "|  Latia Vanhoose|\n",
            "|  Latia Vanhoose|\n",
            "|     Neda Briski|\n",
            "|  Latia Vanhoose|\n",
            "|  Loris Crossett|\n",
            "|  Annika Hoffman|\n",
            "|   Santa Kerfien|\n",
            "|Mickey Cortright|\n",
            "+----------------+\n",
            "only showing top 20 rows\n",
            "\n"
          ]
        }
      ]
    },
    {
      "cell_type": "markdown",
      "source": [
        "## filter / where no DataFrame"
      ],
      "metadata": {
        "id": "0O0H5Mzri9C3"
      }
    },
    {
      "cell_type": "code",
      "source": [
        "from pyspark.sql import SparkSession\n",
        "from pyspark.sql.functions import col, lit\n",
        "spark = SparkSession.builder.appName(\"Spark DataFrames\").getOrCreate()\n",
        "df = spark.read.options(header = 'True', inferSchema = 'True').csv('/content/drive/MyDrive/PySpark/data/StudentData.csv')\n",
        "df.show()"
      ],
      "metadata": {
        "colab": {
          "base_uri": "https://localhost:8080/"
        },
        "id": "fLskSeNLjBut",
        "outputId": "b1616704-44ce-4363-a7b1-d71ce589d28b"
      },
      "execution_count": 152,
      "outputs": [
        {
          "output_type": "stream",
          "name": "stdout",
          "text": [
            "+---+------+----------------+------+------+-----+--------------------+\n",
            "|age|gender|            name|course|  roll|marks|               email|\n",
            "+---+------+----------------+------+------+-----+--------------------+\n",
            "| 28|Female| Hubert Oliveras|    DB|  2984|   59|Annika Hoffman_Na...|\n",
            "| 29|Female|Toshiko Hillyard| Cloud| 12899|   62|Margene Moores_Ma...|\n",
            "| 28|  Male|  Celeste Lollis|    PF| 21267|   45|Jeannetta Golden_...|\n",
            "| 29|Female|    Elenore Choy|    DB| 32877|   29|Billi Clore_Mitzi...|\n",
            "| 28|  Male|  Sheryll Towler|   DSA| 41487|   41|Claude Panos_Judi...|\n",
            "| 28|  Male|  Margene Moores|   MVC| 52771|   32|Toshiko Hillyard_...|\n",
            "| 28|  Male|     Neda Briski|   OOP| 61973|   69|Alberta Freund_El...|\n",
            "| 28|Female|    Claude Panos| Cloud| 72409|   85|Sheryll Towler_Al...|\n",
            "| 28|  Male|  Celeste Lollis|   MVC| 81492|   64|Nicole Harwood_Cl...|\n",
            "| 29|  Male|  Cordie Harnois|   OOP| 92882|   51|Judie Chipps_Clem...|\n",
            "| 29|Female|       Kena Wild|   DSA|102285|   35|Dustin Feagins_Ma...|\n",
            "| 29|  Male| Ernest Rossbach|    DB|111449|   53|Maybell Duguay_Ab...|\n",
            "| 28|Female|  Latia Vanhoose|    DB|122502|   27|Latia Vanhoose_Mi...|\n",
            "| 29|Female|  Latia Vanhoose|   MVC|132110|   55|Eda Neathery_Nico...|\n",
            "| 29|  Male|     Neda Briski|    PF|141770|   42|Margene Moores_Mi...|\n",
            "| 29|Female|  Latia Vanhoose|    DB|152159|   27|Claude Panos_Sant...|\n",
            "| 29|  Male|  Loris Crossett|   MVC|161771|   36|Mitzi Seldon_Jenn...|\n",
            "| 29|  Male|  Annika Hoffman|   OOP|171660|   22|Taryn Brownlee_Mi...|\n",
            "| 29|  Male|   Santa Kerfien|    PF|182129|   56|Judie Chipps_Tary...|\n",
            "| 28|Female|Mickey Cortright|    DB|192537|   62|Ernest Rossbach_M...|\n",
            "+---+------+----------------+------+------+-----+--------------------+\n",
            "only showing top 20 rows\n",
            "\n"
          ]
        }
      ]
    },
    {
      "cell_type": "code",
      "source": [
        "df.filter(df.course == \"DB\").show()"
      ],
      "metadata": {
        "colab": {
          "base_uri": "https://localhost:8080/"
        },
        "id": "qjlkDI1ajKmi",
        "outputId": "8ba612eb-5a95-4c97-be8e-5f59e9ecdecd"
      },
      "execution_count": 153,
      "outputs": [
        {
          "output_type": "stream",
          "name": "stdout",
          "text": [
            "+---+------+-----------------+------+-------+-----+--------------------+\n",
            "|age|gender|             name|course|   roll|marks|               email|\n",
            "+---+------+-----------------+------+-------+-----+--------------------+\n",
            "| 28|Female|  Hubert Oliveras|    DB|   2984|   59|Annika Hoffman_Na...|\n",
            "| 29|Female|     Elenore Choy|    DB|  32877|   29|Billi Clore_Mitzi...|\n",
            "| 29|  Male|  Ernest Rossbach|    DB| 111449|   53|Maybell Duguay_Ab...|\n",
            "| 28|Female|   Latia Vanhoose|    DB| 122502|   27|Latia Vanhoose_Mi...|\n",
            "| 29|Female|   Latia Vanhoose|    DB| 152159|   27|Claude Panos_Sant...|\n",
            "| 28|Female| Mickey Cortright|    DB| 192537|   62|Ernest Rossbach_M...|\n",
            "| 28|Female|      Anna Santos|    DB| 311589|   79|Celeste Lollis_Mi...|\n",
            "| 28|  Male|    Kizzy Brenner|    DB| 381712|   36|Paris Hutton_Kena...|\n",
            "| 28|  Male| Toshiko Hillyard|    DB| 392218|   47|Leontine Phillips...|\n",
            "| 29|  Male|     Paris Hutton|    DB| 481229|   57|Clementina Menke_...|\n",
            "| 28|Female| Mickey Cortright|    DB| 551389|   43|Tijuana Kropf_Jen...|\n",
            "| 28|Female|Leontine Phillips|    DB| 602404|   48|Neda Briski_Cheri...|\n",
            "| 28|Female|  Hubert Oliveras|    DB| 771081|   79|Kizzy Brenner_Dus...|\n",
            "| 29|Female|     Elenore Choy|    DB| 811824|   55|Maybell Duguay_Me...|\n",
            "| 29|  Male| Clementina Menke|    DB| 882200|   76|Michelle Ruggiero...|\n",
            "| 29|Female|  Sebrina Maresca|    DB| 922210|   54|Toshiko Hillyard_...|\n",
            "| 29|  Male|     Naoma Fritts|    DB| 931295|   79|Hubert Oliveras_S...|\n",
            "| 28|  Male|   Annika Hoffman|    DB|1031544|   44|Dustin Feagins_So...|\n",
            "| 28|  Male|   Nicole Harwood|    DB|1211495|   28|Melani Engberg_Jc...|\n",
            "| 29|Female|     Claude Panos|    DB|1222887|   75|Hubert Oliveras_S...|\n",
            "+---+------+-----------------+------+-------+-----+--------------------+\n",
            "only showing top 20 rows\n",
            "\n"
          ]
        }
      ]
    },
    {
      "cell_type": "code",
      "source": [
        "df.filter(col(\"course\") == \"DB\").show()"
      ],
      "metadata": {
        "colab": {
          "base_uri": "https://localhost:8080/"
        },
        "id": "un_Y5lBOjZ6A",
        "outputId": "bc09dab1-a520-4130-c808-71a8f61f9382"
      },
      "execution_count": 154,
      "outputs": [
        {
          "output_type": "stream",
          "name": "stdout",
          "text": [
            "+---+------+-----------------+------+-------+-----+--------------------+\n",
            "|age|gender|             name|course|   roll|marks|               email|\n",
            "+---+------+-----------------+------+-------+-----+--------------------+\n",
            "| 28|Female|  Hubert Oliveras|    DB|   2984|   59|Annika Hoffman_Na...|\n",
            "| 29|Female|     Elenore Choy|    DB|  32877|   29|Billi Clore_Mitzi...|\n",
            "| 29|  Male|  Ernest Rossbach|    DB| 111449|   53|Maybell Duguay_Ab...|\n",
            "| 28|Female|   Latia Vanhoose|    DB| 122502|   27|Latia Vanhoose_Mi...|\n",
            "| 29|Female|   Latia Vanhoose|    DB| 152159|   27|Claude Panos_Sant...|\n",
            "| 28|Female| Mickey Cortright|    DB| 192537|   62|Ernest Rossbach_M...|\n",
            "| 28|Female|      Anna Santos|    DB| 311589|   79|Celeste Lollis_Mi...|\n",
            "| 28|  Male|    Kizzy Brenner|    DB| 381712|   36|Paris Hutton_Kena...|\n",
            "| 28|  Male| Toshiko Hillyard|    DB| 392218|   47|Leontine Phillips...|\n",
            "| 29|  Male|     Paris Hutton|    DB| 481229|   57|Clementina Menke_...|\n",
            "| 28|Female| Mickey Cortright|    DB| 551389|   43|Tijuana Kropf_Jen...|\n",
            "| 28|Female|Leontine Phillips|    DB| 602404|   48|Neda Briski_Cheri...|\n",
            "| 28|Female|  Hubert Oliveras|    DB| 771081|   79|Kizzy Brenner_Dus...|\n",
            "| 29|Female|     Elenore Choy|    DB| 811824|   55|Maybell Duguay_Me...|\n",
            "| 29|  Male| Clementina Menke|    DB| 882200|   76|Michelle Ruggiero...|\n",
            "| 29|Female|  Sebrina Maresca|    DB| 922210|   54|Toshiko Hillyard_...|\n",
            "| 29|  Male|     Naoma Fritts|    DB| 931295|   79|Hubert Oliveras_S...|\n",
            "| 28|  Male|   Annika Hoffman|    DB|1031544|   44|Dustin Feagins_So...|\n",
            "| 28|  Male|   Nicole Harwood|    DB|1211495|   28|Melani Engberg_Jc...|\n",
            "| 29|Female|     Claude Panos|    DB|1222887|   75|Hubert Oliveras_S...|\n",
            "+---+------+-----------------+------+-------+-----+--------------------+\n",
            "only showing top 20 rows\n",
            "\n"
          ]
        }
      ]
    },
    {
      "cell_type": "code",
      "source": [
        "# Multiplas condições\n",
        "df.filter( (df.course == \"DB\") & (df.marks > 50) ).show()"
      ],
      "metadata": {
        "colab": {
          "base_uri": "https://localhost:8080/"
        },
        "id": "gidP3E_Yjqi1",
        "outputId": "ea32cf61-54ce-4e10-a9b3-3835294133d2"
      },
      "execution_count": 155,
      "outputs": [
        {
          "output_type": "stream",
          "name": "stdout",
          "text": [
            "+---+------+------------------+------+-------+-----+--------------------+\n",
            "|age|gender|              name|course|   roll|marks|               email|\n",
            "+---+------+------------------+------+-------+-----+--------------------+\n",
            "| 28|Female|   Hubert Oliveras|    DB|   2984|   59|Annika Hoffman_Na...|\n",
            "| 29|  Male|   Ernest Rossbach|    DB| 111449|   53|Maybell Duguay_Ab...|\n",
            "| 28|Female|  Mickey Cortright|    DB| 192537|   62|Ernest Rossbach_M...|\n",
            "| 28|Female|       Anna Santos|    DB| 311589|   79|Celeste Lollis_Mi...|\n",
            "| 29|  Male|      Paris Hutton|    DB| 481229|   57|Clementina Menke_...|\n",
            "| 28|Female|   Hubert Oliveras|    DB| 771081|   79|Kizzy Brenner_Dus...|\n",
            "| 29|Female|      Elenore Choy|    DB| 811824|   55|Maybell Duguay_Me...|\n",
            "| 29|  Male|  Clementina Menke|    DB| 882200|   76|Michelle Ruggiero...|\n",
            "| 29|Female|   Sebrina Maresca|    DB| 922210|   54|Toshiko Hillyard_...|\n",
            "| 29|  Male|      Naoma Fritts|    DB| 931295|   79|Hubert Oliveras_S...|\n",
            "| 29|Female|      Claude Panos|    DB|1222887|   75|Hubert Oliveras_S...|\n",
            "| 29|Female| Leontine Phillips|    DB|1432252|   67|Billi Clore_Shery...|\n",
            "| 28|Female|   Gonzalo Ferebee|    DB|1451513|   69|Claude Panos_Tame...|\n",
            "| 28|  Male|   Marylee Capasso|    DB|1611411|   96|Annika Hoffman_Lo...|\n",
            "| 29|  Male|    Alberta Freund|    DB|1671638|   98|Clementina Menke_...|\n",
            "| 28|Female|Priscila Tavernier|    DB|1722388|   86|Lawanda Wohlwend_...|\n",
            "| 29|  Male|    Dustin Feagins|    DB|1782045|   81|Cordie Harnois_To...|\n",
            "| 29|  Male|     Tijuana Kropf|    DB|1882795|   92|Hubert Oliveras_E...|\n",
            "| 28|  Male|   Ernest Rossbach|    DB|1901492|   54|Latia Vanhoose_Jc...|\n",
            "| 29|Female| Leontine Phillips|    DB|1972893|   64|Marylee Capasso_E...|\n",
            "+---+------+------------------+------+-------+-----+--------------------+\n",
            "only showing top 20 rows\n",
            "\n"
          ]
        }
      ]
    },
    {
      "cell_type": "code",
      "source": [
        "courses = [\"DB\", \"Cloud\", \"OPP\", \"DSA\"]\n",
        "df.filter( df.course.isin(courses) ).show()"
      ],
      "metadata": {
        "colab": {
          "base_uri": "https://localhost:8080/"
        },
        "id": "DqKwILPMkO1C",
        "outputId": "cbe96272-b555-4448-8dbf-668ec999a316"
      },
      "execution_count": 156,
      "outputs": [
        {
          "output_type": "stream",
          "name": "stdout",
          "text": [
            "+---+------+----------------+------+------+-----+--------------------+\n",
            "|age|gender|            name|course|  roll|marks|               email|\n",
            "+---+------+----------------+------+------+-----+--------------------+\n",
            "| 28|Female| Hubert Oliveras|    DB|  2984|   59|Annika Hoffman_Na...|\n",
            "| 29|Female|Toshiko Hillyard| Cloud| 12899|   62|Margene Moores_Ma...|\n",
            "| 29|Female|    Elenore Choy|    DB| 32877|   29|Billi Clore_Mitzi...|\n",
            "| 28|  Male|  Sheryll Towler|   DSA| 41487|   41|Claude Panos_Judi...|\n",
            "| 28|Female|    Claude Panos| Cloud| 72409|   85|Sheryll Towler_Al...|\n",
            "| 29|Female|       Kena Wild|   DSA|102285|   35|Dustin Feagins_Ma...|\n",
            "| 29|  Male| Ernest Rossbach|    DB|111449|   53|Maybell Duguay_Ab...|\n",
            "| 28|Female|  Latia Vanhoose|    DB|122502|   27|Latia Vanhoose_Mi...|\n",
            "| 29|Female|  Latia Vanhoose|    DB|152159|   27|Claude Panos_Sant...|\n",
            "| 28|Female|Mickey Cortright|    DB|192537|   62|Ernest Rossbach_M...|\n",
            "| 28|Female|       Kena Wild| Cloud|221750|   60|Mitzi Seldon_Jenn...|\n",
            "| 28|Female|    Jc Andrepont|   DSA|232060|   58|Billi Clore_Abram...|\n",
            "| 29|Female|     Anna Santos| Cloud|242254|   68|Jc Andrepont_Hube...|\n",
            "| 28|Female|  Maybell Duguay| Cloud|261439|   20|Nicole Harwood_Ju...|\n",
            "| 29|Female|    Paris Hutton|   DSA|271472|   99|Sheryll Towler_Al...|\n",
            "| 29|Female|    Cheri Kenney| Cloud|281408|   43|Annika Hoffman_Me...|\n",
            "| 28|Female|  Dustin Feagins|   DSA|291984|   82|Abram Nagao_Kena ...|\n",
            "| 29|Female|    Claude Panos| Cloud|302130|   59|Sheryll Towler_Le...|\n",
            "| 28|Female|     Anna Santos|    DB|311589|   79|Celeste Lollis_Mi...|\n",
            "| 28|Female|Mickey Cortright|   DSA|342003|   44|Mitzi Seldon_Jean...|\n",
            "+---+------+----------------+------+------+-----+--------------------+\n",
            "only showing top 20 rows\n",
            "\n"
          ]
        }
      ]
    },
    {
      "cell_type": "code",
      "source": [
        "#inicia com a expressão\n",
        "df.filter( df.course.startswith(\"D\") ).show()"
      ],
      "metadata": {
        "colab": {
          "base_uri": "https://localhost:8080/"
        },
        "id": "jDXiW6JSlA03",
        "outputId": "d93607a3-4d2d-4679-c7cb-d5b268352dda"
      },
      "execution_count": 157,
      "outputs": [
        {
          "output_type": "stream",
          "name": "stdout",
          "text": [
            "+---+------+----------------+------+------+-----+--------------------+\n",
            "|age|gender|            name|course|  roll|marks|               email|\n",
            "+---+------+----------------+------+------+-----+--------------------+\n",
            "| 28|Female| Hubert Oliveras|    DB|  2984|   59|Annika Hoffman_Na...|\n",
            "| 29|Female|    Elenore Choy|    DB| 32877|   29|Billi Clore_Mitzi...|\n",
            "| 28|  Male|  Sheryll Towler|   DSA| 41487|   41|Claude Panos_Judi...|\n",
            "| 29|Female|       Kena Wild|   DSA|102285|   35|Dustin Feagins_Ma...|\n",
            "| 29|  Male| Ernest Rossbach|    DB|111449|   53|Maybell Duguay_Ab...|\n",
            "| 28|Female|  Latia Vanhoose|    DB|122502|   27|Latia Vanhoose_Mi...|\n",
            "| 29|Female|  Latia Vanhoose|    DB|152159|   27|Claude Panos_Sant...|\n",
            "| 28|Female|Mickey Cortright|    DB|192537|   62|Ernest Rossbach_M...|\n",
            "| 28|Female|    Jc Andrepont|   DSA|232060|   58|Billi Clore_Abram...|\n",
            "| 29|Female|    Paris Hutton|   DSA|271472|   99|Sheryll Towler_Al...|\n",
            "| 28|Female|  Dustin Feagins|   DSA|291984|   82|Abram Nagao_Kena ...|\n",
            "| 28|Female|     Anna Santos|    DB|311589|   79|Celeste Lollis_Mi...|\n",
            "| 28|Female|Mickey Cortright|   DSA|342003|   44|Mitzi Seldon_Jean...|\n",
            "| 28|  Male|   Kizzy Brenner|    DB|381712|   36|Paris Hutton_Kena...|\n",
            "| 28|  Male|Toshiko Hillyard|    DB|392218|   47|Leontine Phillips...|\n",
            "| 29|Female|     Anna Santos|   DSA|411479|   42|Kena Wild_Mitzi S...|\n",
            "| 28|Female|  Maybell Duguay|   DSA|452141|   29|Leontine Phillips...|\n",
            "| 29|  Male|    Paris Hutton|    DB|481229|   57|Clementina Menke_...|\n",
            "| 29|Female|    Paris Hutton|   DSA|492159|   60|Nicole Harwood_Ma...|\n",
            "| 28|Female|Mickey Cortright|    DB|551389|   43|Tijuana Kropf_Jen...|\n",
            "+---+------+----------------+------+------+-----+--------------------+\n",
            "only showing top 20 rows\n",
            "\n"
          ]
        }
      ]
    },
    {
      "cell_type": "code",
      "source": [
        "# Termina com a expressão\n",
        "df.filter( df.name.endswith(\"se\") ).show()"
      ],
      "metadata": {
        "colab": {
          "base_uri": "https://localhost:8080/"
        },
        "id": "baI-pAD8lc9k",
        "outputId": "b0efbe41-9636-4229-98f8-d20556dd0e67"
      },
      "execution_count": 158,
      "outputs": [
        {
          "output_type": "stream",
          "name": "stdout",
          "text": [
            "+---+------+--------------+------+-------+-----+--------------------+\n",
            "|age|gender|          name|course|   roll|marks|               email|\n",
            "+---+------+--------------+------+-------+-----+--------------------+\n",
            "| 28|Female|Latia Vanhoose|    DB| 122502|   27|Latia Vanhoose_Mi...|\n",
            "| 29|Female|Latia Vanhoose|   MVC| 132110|   55|Eda Neathery_Nico...|\n",
            "| 29|Female|Latia Vanhoose|    DB| 152159|   27|Claude Panos_Sant...|\n",
            "| 29|  Male|Latia Vanhoose| Cloud|1832268|   60|Marylee Capasso_S...|\n",
            "| 29|  Male|Latia Vanhoose|   OOP|2372748|   94|Latia Vanhoose_La...|\n",
            "| 29|Female|Latia Vanhoose|    PF|2861854|   42|Claude Panos_Nico...|\n",
            "| 29|  Male|Latia Vanhoose|   MVC|2992281|   90|Elenore Choy_Cord...|\n",
            "| 29|Female|Latia Vanhoose|   MVC|3091650|   30|Cordie Harnois_Se...|\n",
            "| 29|Female|Latia Vanhoose|   OOP|3841395|   26|Kizzy Brenner_Eda...|\n",
            "| 29|  Male|Latia Vanhoose| Cloud|4661276|   40|Jc Andrepont_Anni...|\n",
            "| 28|Female|Latia Vanhoose|   OOP|4792828|   72|Tamera Blakley_Mi...|\n",
            "| 28|Female|Latia Vanhoose|    PF|5222171|   73|Toshiko Hillyard_...|\n",
            "| 28|Female|Latia Vanhoose| Cloud|6701628|   33|Abram Nagao_Cheri...|\n",
            "| 29|Female|Latia Vanhoose|   MVC|6771882|   49|Alberta Freund_La...|\n",
            "| 28|Female|Latia Vanhoose|   MVC|7381991|   94|Eda Neathery_Mich...|\n",
            "| 29|  Male|Latia Vanhoose| Cloud|7721956|   45|Jalisa Swenson_An...|\n",
            "| 28|  Male|Latia Vanhoose|   OOP|7741757|   66|Loris Crossett_Na...|\n",
            "| 28|  Male|Latia Vanhoose|   DSA|7792270|   37|Eda Neathery_Donn...|\n",
            "| 28|  Male|Latia Vanhoose|   DSA|9442974|   29|Jc Andrepont_Cele...|\n",
            "| 28|Female|Latia Vanhoose| Cloud|9471888|   56|Naoma Fritts_Kena...|\n",
            "+---+------+--------------+------+-------+-----+--------------------+\n",
            "\n"
          ]
        }
      ]
    },
    {
      "cell_type": "code",
      "source": [
        "#contém a expressão\n",
        "df.filter( df.name.contains(\"se\") ).show()"
      ],
      "metadata": {
        "colab": {
          "base_uri": "https://localhost:8080/"
        },
        "id": "UNpVgc8ymHLR",
        "outputId": "faa0ebdf-74a7-4a7e-aedb-2c148b8a8c9c"
      },
      "execution_count": 159,
      "outputs": [
        {
          "output_type": "stream",
          "name": "stdout",
          "text": [
            "+---+------+--------------+------+-------+-----+--------------------+\n",
            "|age|gender|          name|course|   roll|marks|               email|\n",
            "+---+------+--------------+------+-------+-----+--------------------+\n",
            "| 28|Female|Latia Vanhoose|    DB| 122502|   27|Latia Vanhoose_Mi...|\n",
            "| 29|Female|Latia Vanhoose|   MVC| 132110|   55|Eda Neathery_Nico...|\n",
            "| 29|Female|Latia Vanhoose|    DB| 152159|   27|Claude Panos_Sant...|\n",
            "| 29|  Male|Loris Crossett|   MVC| 161771|   36|Mitzi Seldon_Jenn...|\n",
            "| 29|Female|Loris Crossett|    PF| 201487|   96|Elenore Choy_Lati...|\n",
            "| 28|Female|Loris Crossett|    PF| 332739|   62|Michelle Ruggiero...|\n",
            "| 29|  Male|Loris Crossett|    PF| 911593|   46|Gonzalo Ferebee_M...|\n",
            "| 28|Female|Loris Crossett|   DSA|1662549|   86|Paris Hutton_Lati...|\n",
            "| 29|  Male|Latia Vanhoose| Cloud|1832268|   60|Marylee Capasso_S...|\n",
            "| 29|  Male|Latia Vanhoose|   OOP|2372748|   94|Latia Vanhoose_La...|\n",
            "| 28|Female|Loris Crossett|   OOP|2691881|   29|Maybell Duguay_Ni...|\n",
            "| 28|  Male|Loris Crossett|   OOP|2852490|   25|Loris Crossett_Do...|\n",
            "| 29|Female|Latia Vanhoose|    PF|2861854|   42|Claude Panos_Nico...|\n",
            "| 29|  Male|Latia Vanhoose|   MVC|2992281|   90|Elenore Choy_Cord...|\n",
            "| 29|Female|Latia Vanhoose|   MVC|3091650|   30|Cordie Harnois_Se...|\n",
            "| 28|Female|Loris Crossett|   OOP|3502780|   30|Jenna Montague_Co...|\n",
            "| 28|Female|Loris Crossett|    PF|3531684|   84|Dustin Feagins_Ta...|\n",
            "| 29|  Male|Loris Crossett|   OOP|3592529|   80|Annika Hoffman_To...|\n",
            "| 29|Female|Latia Vanhoose|   OOP|3841395|   26|Kizzy Brenner_Eda...|\n",
            "| 28|Female|Loris Crossett|    PF|3861248|   94|Dustin Feagins_Ch...|\n",
            "+---+------+--------------+------+-------+-----+--------------------+\n",
            "only showing top 20 rows\n",
            "\n"
          ]
        }
      ]
    },
    {
      "cell_type": "code",
      "source": [
        "# utilizando expressões em SQL, para mais expressões ver a documentação SQL\n",
        "df.filter( df.name.like('%se%') ).show()"
      ],
      "metadata": {
        "colab": {
          "base_uri": "https://localhost:8080/"
        },
        "id": "NgPgkgMJmdAD",
        "outputId": "43932a84-aa4f-47bc-fe24-ce26ee5b30d2"
      },
      "execution_count": 160,
      "outputs": [
        {
          "output_type": "stream",
          "name": "stdout",
          "text": [
            "+---+------+--------------+------+-------+-----+--------------------+\n",
            "|age|gender|          name|course|   roll|marks|               email|\n",
            "+---+------+--------------+------+-------+-----+--------------------+\n",
            "| 28|Female|Latia Vanhoose|    DB| 122502|   27|Latia Vanhoose_Mi...|\n",
            "| 29|Female|Latia Vanhoose|   MVC| 132110|   55|Eda Neathery_Nico...|\n",
            "| 29|Female|Latia Vanhoose|    DB| 152159|   27|Claude Panos_Sant...|\n",
            "| 29|  Male|Loris Crossett|   MVC| 161771|   36|Mitzi Seldon_Jenn...|\n",
            "| 29|Female|Loris Crossett|    PF| 201487|   96|Elenore Choy_Lati...|\n",
            "| 28|Female|Loris Crossett|    PF| 332739|   62|Michelle Ruggiero...|\n",
            "| 29|  Male|Loris Crossett|    PF| 911593|   46|Gonzalo Ferebee_M...|\n",
            "| 28|Female|Loris Crossett|   DSA|1662549|   86|Paris Hutton_Lati...|\n",
            "| 29|  Male|Latia Vanhoose| Cloud|1832268|   60|Marylee Capasso_S...|\n",
            "| 29|  Male|Latia Vanhoose|   OOP|2372748|   94|Latia Vanhoose_La...|\n",
            "| 28|Female|Loris Crossett|   OOP|2691881|   29|Maybell Duguay_Ni...|\n",
            "| 28|  Male|Loris Crossett|   OOP|2852490|   25|Loris Crossett_Do...|\n",
            "| 29|Female|Latia Vanhoose|    PF|2861854|   42|Claude Panos_Nico...|\n",
            "| 29|  Male|Latia Vanhoose|   MVC|2992281|   90|Elenore Choy_Cord...|\n",
            "| 29|Female|Latia Vanhoose|   MVC|3091650|   30|Cordie Harnois_Se...|\n",
            "| 28|Female|Loris Crossett|   OOP|3502780|   30|Jenna Montague_Co...|\n",
            "| 28|Female|Loris Crossett|    PF|3531684|   84|Dustin Feagins_Ta...|\n",
            "| 29|  Male|Loris Crossett|   OOP|3592529|   80|Annika Hoffman_To...|\n",
            "| 29|Female|Latia Vanhoose|   OOP|3841395|   26|Kizzy Brenner_Eda...|\n",
            "| 28|Female|Loris Crossett|    PF|3861248|   94|Dustin Feagins_Ch...|\n",
            "+---+------+--------------+------+-------+-----+--------------------+\n",
            "only showing top 20 rows\n",
            "\n"
          ]
        }
      ]
    },
    {
      "cell_type": "markdown",
      "source": [
        "### Exemplo\n",
        "\n",
        "* **utilizando o banco StudentData.csv**\n",
        "\n",
        "* Ler o arquivo em DF\n",
        "\n",
        "* Criar uma nova coluna no DF para as notas totais e deixe as notas totais serem 120\n",
        "\n",
        "* Criar uma nova coluna com a média das notas $\\frac{notas}{totalnotal}*100$\n",
        "\n",
        "* filtre todos os alunos que obtiveram mais de 80% de notas no curso OOP e salve-o em um novo DF\n",
        "\n",
        "* filtre todos os alunos que obtiveram mais de 60% de notas no curso Cloud e salve-o em um novo df\n",
        "\n",
        "* Imprima os nomes e notas de todos os alunos do DF acima"
      ],
      "metadata": {
        "id": "E1xVVXMYnGIJ"
      }
    },
    {
      "cell_type": "code",
      "source": [
        "from pyspark.sql import SparkSession\n",
        "from pyspark.sql.functions import col, lit\n",
        "spark = SparkSession.builder.appName(\"Spark DataFrames\").getOrCreate()\n",
        "df = spark.read.options(header = 'True', inferSchema = 'True').csv('/content/drive/MyDrive/PySpark/data/StudentData.csv')"
      ],
      "metadata": {
        "id": "3ZQWUdysopt4"
      },
      "execution_count": 161,
      "outputs": []
    },
    {
      "cell_type": "code",
      "source": [
        "df2 = df\n",
        "df2 = df2.withColumn('total_marks', lit(\"120\"))"
      ],
      "metadata": {
        "id": "Z6HsoXDorcwx"
      },
      "execution_count": 162,
      "outputs": []
    },
    {
      "cell_type": "code",
      "source": [
        "df2 = df2.withColumn( 'average', (col(\"marks\") / col(\"total_marks\")*100) )\n",
        "df2.show()"
      ],
      "metadata": {
        "colab": {
          "base_uri": "https://localhost:8080/"
        },
        "id": "ebpNU_dGqfqs",
        "outputId": "71ad268b-9026-49eb-b667-9e1ef738b8ca"
      },
      "execution_count": 163,
      "outputs": [
        {
          "output_type": "stream",
          "name": "stdout",
          "text": [
            "+---+------+----------------+------+------+-----+--------------------+-----------+------------------+\n",
            "|age|gender|            name|course|  roll|marks|               email|total_marks|           average|\n",
            "+---+------+----------------+------+------+-----+--------------------+-----------+------------------+\n",
            "| 28|Female| Hubert Oliveras|    DB|  2984|   59|Annika Hoffman_Na...|        120|49.166666666666664|\n",
            "| 29|Female|Toshiko Hillyard| Cloud| 12899|   62|Margene Moores_Ma...|        120| 51.66666666666667|\n",
            "| 28|  Male|  Celeste Lollis|    PF| 21267|   45|Jeannetta Golden_...|        120|              37.5|\n",
            "| 29|Female|    Elenore Choy|    DB| 32877|   29|Billi Clore_Mitzi...|        120|24.166666666666668|\n",
            "| 28|  Male|  Sheryll Towler|   DSA| 41487|   41|Claude Panos_Judi...|        120|34.166666666666664|\n",
            "| 28|  Male|  Margene Moores|   MVC| 52771|   32|Toshiko Hillyard_...|        120|26.666666666666668|\n",
            "| 28|  Male|     Neda Briski|   OOP| 61973|   69|Alberta Freund_El...|        120| 57.49999999999999|\n",
            "| 28|Female|    Claude Panos| Cloud| 72409|   85|Sheryll Towler_Al...|        120| 70.83333333333334|\n",
            "| 28|  Male|  Celeste Lollis|   MVC| 81492|   64|Nicole Harwood_Cl...|        120|53.333333333333336|\n",
            "| 29|  Male|  Cordie Harnois|   OOP| 92882|   51|Judie Chipps_Clem...|        120|              42.5|\n",
            "| 29|Female|       Kena Wild|   DSA|102285|   35|Dustin Feagins_Ma...|        120|29.166666666666668|\n",
            "| 29|  Male| Ernest Rossbach|    DB|111449|   53|Maybell Duguay_Ab...|        120|44.166666666666664|\n",
            "| 28|Female|  Latia Vanhoose|    DB|122502|   27|Latia Vanhoose_Mi...|        120|              22.5|\n",
            "| 29|Female|  Latia Vanhoose|   MVC|132110|   55|Eda Neathery_Nico...|        120| 45.83333333333333|\n",
            "| 29|  Male|     Neda Briski|    PF|141770|   42|Margene Moores_Mi...|        120|              35.0|\n",
            "| 29|Female|  Latia Vanhoose|    DB|152159|   27|Claude Panos_Sant...|        120|              22.5|\n",
            "| 29|  Male|  Loris Crossett|   MVC|161771|   36|Mitzi Seldon_Jenn...|        120|              30.0|\n",
            "| 29|  Male|  Annika Hoffman|   OOP|171660|   22|Taryn Brownlee_Mi...|        120|18.333333333333332|\n",
            "| 29|  Male|   Santa Kerfien|    PF|182129|   56|Judie Chipps_Tary...|        120|46.666666666666664|\n",
            "| 28|Female|Mickey Cortright|    DB|192537|   62|Ernest Rossbach_M...|        120| 51.66666666666667|\n",
            "+---+------+----------------+------+------+-----+--------------------+-----------+------------------+\n",
            "only showing top 20 rows\n",
            "\n"
          ]
        }
      ]
    },
    {
      "cell_type": "code",
      "source": [
        "df_OOP = df2.filter( (df2.course == \"OOP\") & (df2.average > 80) )\n",
        "df_OOP.show()"
      ],
      "metadata": {
        "colab": {
          "base_uri": "https://localhost:8080/"
        },
        "id": "2zChB1DmDP3S",
        "outputId": "5ed375c3-e4ff-4b4b-a5c0-de3ea726fb4f"
      },
      "execution_count": 164,
      "outputs": [
        {
          "output_type": "stream",
          "name": "stdout",
          "text": [
            "+---+------+------------------+------+-------+-----+--------------------+-----------+-----------------+\n",
            "|age|gender|              name|course|   roll|marks|               email|total_marks|          average|\n",
            "+---+------+------------------+------+-------+-----+--------------------+-----------+-----------------+\n",
            "| 28|  Male|    Jenna Montague|   OOP|3331161|   98|Leontine Phillips...|        120|81.66666666666667|\n",
            "| 29|Female|Priscila Tavernier|   OOP|3902993|   99|Celeste Lollis_Bi...|        120|             82.5|\n",
            "| 28|Female|      Judie Chipps|   OOP|5451977|   99|Tamera Blakley_Mi...|        120|             82.5|\n",
            "| 29|  Male|    Margene Moores|   OOP|5621072|   97|Sheryll Towler_Ma...|        120|80.83333333333333|\n",
            "| 29|  Male|      Jc Andrepont|   OOP|8022618|   97|Cordie Harnois_Ja...|        120|80.83333333333333|\n",
            "| 28|  Male|    Loris Crossett|   OOP|8172914|   98|Paris Hutton_Pari...|        120|81.66666666666667|\n",
            "| 28|  Male|    Loris Crossett|   OOP|9692316|   99|Judie Chipps_Mich...|        120|             82.5|\n",
            "+---+------+------------------+------+-------+-----+--------------------+-----------+-----------------+\n",
            "\n"
          ]
        }
      ]
    },
    {
      "cell_type": "code",
      "source": [
        "df_CLOUD = df2.filter( (df2.course == \"Cloud\") & (df2.average > 60) )\n",
        "df_CLOUD.show()"
      ],
      "metadata": {
        "colab": {
          "base_uri": "https://localhost:8080/"
        },
        "id": "er0Kbt0iEyiD",
        "outputId": "f059ce2b-9ee6-4c0d-c360-4f661d33a743"
      },
      "execution_count": 165,
      "outputs": [
        {
          "output_type": "stream",
          "name": "stdout",
          "text": [
            "+---+------+-----------------+------+-------+-----+--------------------+-----------+-----------------+\n",
            "|age|gender|             name|course|   roll|marks|               email|total_marks|          average|\n",
            "+---+------+-----------------+------+-------+-----+--------------------+-----------+-----------------+\n",
            "| 28|Female|     Claude Panos| Cloud|  72409|   85|Sheryll Towler_Al...|        120|70.83333333333334|\n",
            "| 29|  Male|      Billi Clore| Cloud| 512047|   76|Taryn Brownlee_Ju...|        120|63.33333333333333|\n",
            "| 28|Female|   Somer Stoecker| Cloud| 612490|   82|Sebrina Maresca_G...|        120|68.33333333333333|\n",
            "| 29|Female|     Judie Chipps| Cloud| 632793|   75|Tijuana Kropf_Ele...|        120|             62.5|\n",
            "| 29|Female|     Eda Neathery| Cloud|1011971|   91|Margene Moores_El...|        120|75.83333333333333|\n",
            "| 28|  Male|   Bonita Higuera| Cloud|1312294|   94|Eda Neathery_Pris...|        120|78.33333333333333|\n",
            "| 29|Female|  Hubert Oliveras| Cloud|1392791|   94|Anna Santos_Alber...|        120|78.33333333333333|\n",
            "| 28|Female|      Neda Briski| Cloud|1651303|   74|Ernest Rossbach_D...|        120|61.66666666666667|\n",
            "| 28|Female|   Melani Engberg| Cloud|1872667|   99|Alberta Freund_Ni...|        120|             82.5|\n",
            "| 28|Female|     Paris Hutton| Cloud|2051881|   79|Melani Engberg_Ma...|        120|65.83333333333333|\n",
            "| 28|Female|     Eda Neathery| Cloud|2071302|   95|Latia Vanhoose_Do...|        120|79.16666666666666|\n",
            "| 28|  Male|      Neda Briski| Cloud|2092176|   81|Celeste Lollis_Ma...|        120|             67.5|\n",
            "| 28|Female|    Tijuana Kropf| Cloud|2121632|   78|Michelle Ruggiero...|        120|             65.0|\n",
            "| 28|Female|   Jenna Montague| Cloud|2402240|   96|Annika Hoffman_Du...|        120|             80.0|\n",
            "| 29|Female|   Dustin Feagins| Cloud|2421900|   89|Niki Klimek_Latia...|        120|74.16666666666667|\n",
            "| 28|Female|  Ernest Rossbach| Cloud|2602027|   83|Alberta Freund_Go...|        120|69.16666666666667|\n",
            "| 28|  Male|Leontine Phillips| Cloud|3011586|   76|Dustin Feagins_Al...|        120|63.33333333333333|\n",
            "| 29|Female|  Sebrina Maresca| Cloud|3261159|   97|Maybell Duguay_Ja...|        120|80.83333333333333|\n",
            "| 28|  Male| Clementina Menke| Cloud|3352508|   95|Naoma Fritts_Mick...|        120|79.16666666666666|\n",
            "| 28|  Male|    Kizzy Brenner| Cloud|3581303|   80|Margene Moores_Ta...|        120|66.66666666666666|\n",
            "+---+------+-----------------+------+-------+-----+--------------------+-----------+-----------------+\n",
            "only showing top 20 rows\n",
            "\n"
          ]
        }
      ]
    },
    {
      "cell_type": "code",
      "source": [
        "df_OOP.select(\"name\", \"marks\").show()"
      ],
      "metadata": {
        "colab": {
          "base_uri": "https://localhost:8080/"
        },
        "id": "cdBYbRv6Gwmq",
        "outputId": "32a417e7-f7d6-4fac-8247-355d44dc8ea8"
      },
      "execution_count": 166,
      "outputs": [
        {
          "output_type": "stream",
          "name": "stdout",
          "text": [
            "+------------------+-----+\n",
            "|              name|marks|\n",
            "+------------------+-----+\n",
            "|    Jenna Montague|   98|\n",
            "|Priscila Tavernier|   99|\n",
            "|      Judie Chipps|   99|\n",
            "|    Margene Moores|   97|\n",
            "|      Jc Andrepont|   97|\n",
            "|    Loris Crossett|   98|\n",
            "|    Loris Crossett|   99|\n",
            "+------------------+-----+\n",
            "\n"
          ]
        }
      ]
    },
    {
      "cell_type": "code",
      "source": [
        "df_CLOUD.select(\"name\", \"marks\").show()"
      ],
      "metadata": {
        "colab": {
          "base_uri": "https://localhost:8080/"
        },
        "id": "A79QPas_G_lF",
        "outputId": "fa1a37b7-cf9b-40ae-e82a-7b6001a111bb"
      },
      "execution_count": 167,
      "outputs": [
        {
          "output_type": "stream",
          "name": "stdout",
          "text": [
            "+-----------------+-----+\n",
            "|             name|marks|\n",
            "+-----------------+-----+\n",
            "|     Claude Panos|   85|\n",
            "|      Billi Clore|   76|\n",
            "|   Somer Stoecker|   82|\n",
            "|     Judie Chipps|   75|\n",
            "|     Eda Neathery|   91|\n",
            "|   Bonita Higuera|   94|\n",
            "|  Hubert Oliveras|   94|\n",
            "|      Neda Briski|   74|\n",
            "|   Melani Engberg|   99|\n",
            "|     Paris Hutton|   79|\n",
            "|     Eda Neathery|   95|\n",
            "|      Neda Briski|   81|\n",
            "|    Tijuana Kropf|   78|\n",
            "|   Jenna Montague|   96|\n",
            "|   Dustin Feagins|   89|\n",
            "|  Ernest Rossbach|   83|\n",
            "|Leontine Phillips|   76|\n",
            "|  Sebrina Maresca|   97|\n",
            "| Clementina Menke|   95|\n",
            "|    Kizzy Brenner|   80|\n",
            "+-----------------+-----+\n",
            "only showing top 20 rows\n",
            "\n"
          ]
        }
      ]
    },
    {
      "cell_type": "markdown",
      "source": [
        "## Count, Distinct, DropDupicates no DataFrame"
      ],
      "metadata": {
        "id": "RsdUFufSHs58"
      }
    },
    {
      "cell_type": "code",
      "source": [
        "from pyspark.sql import SparkSession\n",
        "from pyspark.sql.functions import col, lit\n",
        "spark = SparkSession.builder.appName(\"Spark DataFrames\").getOrCreate()\n",
        "df = spark.read.options(header = 'True', inferSchema = 'True').csv('/content/drive/MyDrive/PySpark/data/StudentData.csv')\n",
        "df.show()"
      ],
      "metadata": {
        "colab": {
          "base_uri": "https://localhost:8080/"
        },
        "id": "Zhb6sSwJHzXA",
        "outputId": "944c533a-514b-4f18-cc43-a384c236a5a9"
      },
      "execution_count": 168,
      "outputs": [
        {
          "output_type": "stream",
          "name": "stdout",
          "text": [
            "+---+------+----------------+------+------+-----+--------------------+\n",
            "|age|gender|            name|course|  roll|marks|               email|\n",
            "+---+------+----------------+------+------+-----+--------------------+\n",
            "| 28|Female| Hubert Oliveras|    DB|  2984|   59|Annika Hoffman_Na...|\n",
            "| 29|Female|Toshiko Hillyard| Cloud| 12899|   62|Margene Moores_Ma...|\n",
            "| 28|  Male|  Celeste Lollis|    PF| 21267|   45|Jeannetta Golden_...|\n",
            "| 29|Female|    Elenore Choy|    DB| 32877|   29|Billi Clore_Mitzi...|\n",
            "| 28|  Male|  Sheryll Towler|   DSA| 41487|   41|Claude Panos_Judi...|\n",
            "| 28|  Male|  Margene Moores|   MVC| 52771|   32|Toshiko Hillyard_...|\n",
            "| 28|  Male|     Neda Briski|   OOP| 61973|   69|Alberta Freund_El...|\n",
            "| 28|Female|    Claude Panos| Cloud| 72409|   85|Sheryll Towler_Al...|\n",
            "| 28|  Male|  Celeste Lollis|   MVC| 81492|   64|Nicole Harwood_Cl...|\n",
            "| 29|  Male|  Cordie Harnois|   OOP| 92882|   51|Judie Chipps_Clem...|\n",
            "| 29|Female|       Kena Wild|   DSA|102285|   35|Dustin Feagins_Ma...|\n",
            "| 29|  Male| Ernest Rossbach|    DB|111449|   53|Maybell Duguay_Ab...|\n",
            "| 28|Female|  Latia Vanhoose|    DB|122502|   27|Latia Vanhoose_Mi...|\n",
            "| 29|Female|  Latia Vanhoose|   MVC|132110|   55|Eda Neathery_Nico...|\n",
            "| 29|  Male|     Neda Briski|    PF|141770|   42|Margene Moores_Mi...|\n",
            "| 29|Female|  Latia Vanhoose|    DB|152159|   27|Claude Panos_Sant...|\n",
            "| 29|  Male|  Loris Crossett|   MVC|161771|   36|Mitzi Seldon_Jenn...|\n",
            "| 29|  Male|  Annika Hoffman|   OOP|171660|   22|Taryn Brownlee_Mi...|\n",
            "| 29|  Male|   Santa Kerfien|    PF|182129|   56|Judie Chipps_Tary...|\n",
            "| 28|Female|Mickey Cortright|    DB|192537|   62|Ernest Rossbach_M...|\n",
            "+---+------+----------------+------+------+-----+--------------------+\n",
            "only showing top 20 rows\n",
            "\n"
          ]
        }
      ]
    },
    {
      "cell_type": "code",
      "source": [
        "# quantidade de linhas no dataframe\n",
        "df.count()"
      ],
      "metadata": {
        "colab": {
          "base_uri": "https://localhost:8080/"
        },
        "id": "IFpfAMAzIK_Y",
        "outputId": "f2209566-f3da-4946-8fbe-0b900f9349d9"
      },
      "execution_count": 169,
      "outputs": [
        {
          "output_type": "execute_result",
          "data": {
            "text/plain": [
              "1000"
            ]
          },
          "metadata": {},
          "execution_count": 169
        }
      ]
    },
    {
      "cell_type": "code",
      "source": [
        "#aplicando filtro e contando\n",
        "df.filter(df.course == \"DB\").count()"
      ],
      "metadata": {
        "colab": {
          "base_uri": "https://localhost:8080/"
        },
        "id": "fbm5BR02I02W",
        "outputId": "9510d604-f067-40ac-fab0-63508c870dfb"
      },
      "execution_count": 170,
      "outputs": [
        {
          "output_type": "execute_result",
          "data": {
            "text/plain": [
              "157"
            ]
          },
          "metadata": {},
          "execution_count": 170
        }
      ]
    },
    {
      "cell_type": "code",
      "source": [
        "# todos os dados são únicos\n",
        "df.distinct().count()"
      ],
      "metadata": {
        "colab": {
          "base_uri": "https://localhost:8080/"
        },
        "id": "I7klpyjSI-H7",
        "outputId": "28bafe00-78d0-43d7-a692-35959b2ee589"
      },
      "execution_count": 171,
      "outputs": [
        {
          "output_type": "execute_result",
          "data": {
            "text/plain": [
              "1000"
            ]
          },
          "metadata": {},
          "execution_count": 171
        }
      ]
    },
    {
      "cell_type": "code",
      "source": [
        "# apresenta quantos dados unicos existem no DF\n",
        "df.select(\"gender\",\"age\").distinct().show()"
      ],
      "metadata": {
        "colab": {
          "base_uri": "https://localhost:8080/"
        },
        "id": "CHZGYz5eJUwt",
        "outputId": "d8d84048-4ce4-4d28-cd60-e7d75a8211c0"
      },
      "execution_count": 172,
      "outputs": [
        {
          "output_type": "stream",
          "name": "stdout",
          "text": [
            "+------+---+\n",
            "|gender|age|\n",
            "+------+---+\n",
            "|Female| 29|\n",
            "|Female| 28|\n",
            "|  Male| 28|\n",
            "|  Male| 29|\n",
            "+------+---+\n",
            "\n"
          ]
        }
      ]
    },
    {
      "cell_type": "code",
      "source": [
        "# retira os dados duplicados em uma coluna\n",
        "df.dropDuplicates([\"gender\"]).show()"
      ],
      "metadata": {
        "colab": {
          "base_uri": "https://localhost:8080/"
        },
        "id": "VYKt0GU6Jt85",
        "outputId": "3a7ce3ae-dc14-4908-baa6-0479089156ba"
      },
      "execution_count": 173,
      "outputs": [
        {
          "output_type": "stream",
          "name": "stdout",
          "text": [
            "+---+------+---------------+------+-----+-----+--------------------+\n",
            "|age|gender|           name|course| roll|marks|               email|\n",
            "+---+------+---------------+------+-----+-----+--------------------+\n",
            "| 28|Female|Hubert Oliveras|    DB| 2984|   59|Annika Hoffman_Na...|\n",
            "| 28|  Male| Celeste Lollis|    PF|21267|   45|Jeannetta Golden_...|\n",
            "+---+------+---------------+------+-----+-----+--------------------+\n",
            "\n"
          ]
        }
      ]
    },
    {
      "cell_type": "code",
      "source": [
        "# retira os dados duplicados em uma coluna\n",
        "df.dropDuplicates([\"gender\", \"course\"]).show()"
      ],
      "metadata": {
        "colab": {
          "base_uri": "https://localhost:8080/"
        },
        "id": "kTVSUuGEKlEV",
        "outputId": "d875b724-74d9-428e-b984-f6d654b12839"
      },
      "execution_count": 174,
      "outputs": [
        {
          "output_type": "stream",
          "name": "stdout",
          "text": [
            "+---+------+----------------+------+------+-----+--------------------+\n",
            "|age|gender|            name|course|  roll|marks|               email|\n",
            "+---+------+----------------+------+------+-----+--------------------+\n",
            "| 29|Female|Toshiko Hillyard| Cloud| 12899|   62|Margene Moores_Ma...|\n",
            "| 28|Female|  Alberta Freund|   OOP|251805|   83|Annika Hoffman_Sh...|\n",
            "| 28|  Male|  Celeste Lollis|    PF| 21267|   45|Jeannetta Golden_...|\n",
            "| 29|  Male| Ernest Rossbach|    DB|111449|   53|Maybell Duguay_Ab...|\n",
            "| 29|  Male|     Billi Clore| Cloud|512047|   76|Taryn Brownlee_Ju...|\n",
            "| 28|  Male|     Neda Briski|   OOP| 61973|   69|Alberta Freund_El...|\n",
            "| 29|Female|       Kena Wild|   DSA|102285|   35|Dustin Feagins_Ma...|\n",
            "| 28|Female| Hubert Oliveras|    DB|  2984|   59|Annika Hoffman_Na...|\n",
            "| 28|  Male|  Sheryll Towler|   DSA| 41487|   41|Claude Panos_Judi...|\n",
            "| 28|  Male|  Margene Moores|   MVC| 52771|   32|Toshiko Hillyard_...|\n",
            "| 29|Female|  Latia Vanhoose|   MVC|132110|   55|Eda Neathery_Nico...|\n",
            "| 29|Female|  Loris Crossett|    PF|201487|   96|Elenore Choy_Lati...|\n",
            "+---+------+----------------+------+------+-----+--------------------+\n",
            "\n"
          ]
        }
      ]
    },
    {
      "cell_type": "markdown",
      "source": [
        "### Exemplo\n",
        "\n",
        "* Escrever um código para mostrar as linhas unicas por idade, genero, e curso"
      ],
      "metadata": {
        "id": "zArQh9HLL13E"
      }
    },
    {
      "cell_type": "code",
      "source": [
        "df.dropDuplicates([\"gender\", \"course\", \"age\"]).show()"
      ],
      "metadata": {
        "colab": {
          "base_uri": "https://localhost:8080/"
        },
        "id": "-EHA0f0lL20p",
        "outputId": "34be3257-0ec6-4d34-affe-c028852d7078"
      },
      "execution_count": 175,
      "outputs": [
        {
          "output_type": "stream",
          "name": "stdout",
          "text": [
            "+---+------+----------------+------+------+-----+--------------------+\n",
            "|age|gender|            name|course|  roll|marks|               email|\n",
            "+---+------+----------------+------+------+-----+--------------------+\n",
            "| 29|Female|    Claude Panos|   OOP|542821|   28|Hubert Oliveras_P...|\n",
            "| 28|Female|    Cheri Kenney|   MVC|321816|   24|Kena Wild_Michell...|\n",
            "| 28|  Male|  Margene Moores|   MVC| 52771|   32|Toshiko Hillyard_...|\n",
            "| 28|Female| Hubert Oliveras|    DB|  2984|   59|Annika Hoffman_Na...|\n",
            "| 29|  Male|     Neda Briski|    PF|141770|   42|Margene Moores_Mi...|\n",
            "| 28|Female|  Loris Crossett|    PF|332739|   62|Michelle Ruggiero...|\n",
            "| 29|  Male|  Cordie Harnois|   OOP| 92882|   51|Judie Chipps_Clem...|\n",
            "| 29|Female|       Kena Wild|   DSA|102285|   35|Dustin Feagins_Ma...|\n",
            "| 29|Female|  Loris Crossett|    PF|201487|   96|Elenore Choy_Lati...|\n",
            "| 29|Female|Toshiko Hillyard| Cloud| 12899|   62|Margene Moores_Ma...|\n",
            "| 28|Female|    Jc Andrepont|   DSA|232060|   58|Billi Clore_Abram...|\n",
            "| 28|  Male|   Kizzy Brenner|    DB|381712|   36|Paris Hutton_Kena...|\n",
            "| 28|  Male|  Celeste Lollis|    PF| 21267|   45|Jeannetta Golden_...|\n",
            "| 29|Female|    Elenore Choy|    DB| 32877|   29|Billi Clore_Mitzi...|\n",
            "| 29|Female|  Latia Vanhoose|   MVC|132110|   55|Eda Neathery_Nico...|\n",
            "| 28|  Male|  Sheryll Towler|   DSA| 41487|   41|Claude Panos_Judi...|\n",
            "| 28|  Male|     Neda Briski|   OOP| 61973|   69|Alberta Freund_El...|\n",
            "| 29|  Male|  Loris Crossett|   MVC|161771|   36|Mitzi Seldon_Jenn...|\n",
            "| 28|Female|    Claude Panos| Cloud| 72409|   85|Sheryll Towler_Al...|\n",
            "| 29|  Male|  Celeste Lollis|   DSA|562065|   85|Jc Andrepont_Mela...|\n",
            "+---+------+----------------+------+------+-----+--------------------+\n",
            "only showing top 20 rows\n",
            "\n"
          ]
        }
      ]
    },
    {
      "cell_type": "code",
      "source": [
        "df.dropDuplicates([\"gender\", \"course\", \"age\"]).count()"
      ],
      "metadata": {
        "colab": {
          "base_uri": "https://localhost:8080/"
        },
        "id": "RSc9XHAbMfi0",
        "outputId": "d9a016f2-6dc4-43fd-af5b-d3490de4dd9e"
      },
      "execution_count": 176,
      "outputs": [
        {
          "output_type": "execute_result",
          "data": {
            "text/plain": [
              "24"
            ]
          },
          "metadata": {},
          "execution_count": 176
        }
      ]
    },
    {
      "cell_type": "code",
      "source": [
        "df.select(\"gender\", \"course\", \"age\").distinct().show()"
      ],
      "metadata": {
        "colab": {
          "base_uri": "https://localhost:8080/"
        },
        "id": "Dv6VbW8bMNe4",
        "outputId": "f693d84a-de4a-41d7-9d44-965d660e67d7"
      },
      "execution_count": 177,
      "outputs": [
        {
          "output_type": "stream",
          "name": "stdout",
          "text": [
            "+------+------+---+\n",
            "|gender|course|age|\n",
            "+------+------+---+\n",
            "|Female|   OOP| 29|\n",
            "|  Male|   MVC| 28|\n",
            "|Female|   MVC| 28|\n",
            "|Female|    DB| 28|\n",
            "|  Male|    PF| 29|\n",
            "|  Male|   OOP| 29|\n",
            "|Female|    PF| 28|\n",
            "|Female|   DSA| 29|\n",
            "|Female|    PF| 29|\n",
            "|Female| Cloud| 29|\n",
            "|Female|   DSA| 28|\n",
            "|  Male|    DB| 28|\n",
            "|  Male|    PF| 28|\n",
            "|Female|    DB| 29|\n",
            "|Female|   MVC| 29|\n",
            "|  Male|   DSA| 28|\n",
            "|  Male|   OOP| 28|\n",
            "|  Male|   MVC| 29|\n",
            "|Female| Cloud| 28|\n",
            "|  Male|   DSA| 29|\n",
            "+------+------+---+\n",
            "only showing top 20 rows\n",
            "\n"
          ]
        }
      ]
    },
    {
      "cell_type": "code",
      "source": [
        "df.select(\"gender\", \"course\", \"age\").distinct().count()"
      ],
      "metadata": {
        "colab": {
          "base_uri": "https://localhost:8080/"
        },
        "id": "gg-EFEzoMiJr",
        "outputId": "9b5469c6-f230-4454-9bc8-d8d0bd6d73d8"
      },
      "execution_count": 178,
      "outputs": [
        {
          "output_type": "execute_result",
          "data": {
            "text/plain": [
              "24"
            ]
          },
          "metadata": {},
          "execution_count": 178
        }
      ]
    },
    {
      "cell_type": "markdown",
      "source": [
        "## sort / orderBy no DataFrame"
      ],
      "metadata": {
        "id": "YbZ1TSU0NHZx"
      }
    },
    {
      "cell_type": "code",
      "source": [
        "df.show()"
      ],
      "metadata": {
        "colab": {
          "base_uri": "https://localhost:8080/"
        },
        "id": "8lWU5DQ0NmyC",
        "outputId": "879472eb-99c6-4e51-e72e-9d9776f9e76f"
      },
      "execution_count": null,
      "outputs": [
        {
          "output_type": "stream",
          "name": "stdout",
          "text": [
            "+---+------+----------------+------+------+-----+--------------------+\n",
            "|age|gender|            name|course|  roll|marks|               email|\n",
            "+---+------+----------------+------+------+-----+--------------------+\n",
            "| 28|Female| Hubert Oliveras|    DB|  2984|   59|Annika Hoffman_Na...|\n",
            "| 29|Female|Toshiko Hillyard| Cloud| 12899|   62|Margene Moores_Ma...|\n",
            "| 28|  Male|  Celeste Lollis|    PF| 21267|   45|Jeannetta Golden_...|\n",
            "| 29|Female|    Elenore Choy|    DB| 32877|   29|Billi Clore_Mitzi...|\n",
            "| 28|  Male|  Sheryll Towler|   DSA| 41487|   41|Claude Panos_Judi...|\n",
            "| 28|  Male|  Margene Moores|   MVC| 52771|   32|Toshiko Hillyard_...|\n",
            "| 28|  Male|     Neda Briski|   OOP| 61973|   69|Alberta Freund_El...|\n",
            "| 28|Female|    Claude Panos| Cloud| 72409|   85|Sheryll Towler_Al...|\n",
            "| 28|  Male|  Celeste Lollis|   MVC| 81492|   64|Nicole Harwood_Cl...|\n",
            "| 29|  Male|  Cordie Harnois|   OOP| 92882|   51|Judie Chipps_Clem...|\n",
            "| 29|Female|       Kena Wild|   DSA|102285|   35|Dustin Feagins_Ma...|\n",
            "| 29|  Male| Ernest Rossbach|    DB|111449|   53|Maybell Duguay_Ab...|\n",
            "| 28|Female|  Latia Vanhoose|    DB|122502|   27|Latia Vanhoose_Mi...|\n",
            "| 29|Female|  Latia Vanhoose|   MVC|132110|   55|Eda Neathery_Nico...|\n",
            "| 29|  Male|     Neda Briski|    PF|141770|   42|Margene Moores_Mi...|\n",
            "| 29|Female|  Latia Vanhoose|    DB|152159|   27|Claude Panos_Sant...|\n",
            "| 29|  Male|  Loris Crossett|   MVC|161771|   36|Mitzi Seldon_Jenn...|\n",
            "| 29|  Male|  Annika Hoffman|   OOP|171660|   22|Taryn Brownlee_Mi...|\n",
            "| 29|  Male|   Santa Kerfien|    PF|182129|   56|Judie Chipps_Tary...|\n",
            "| 28|Female|Mickey Cortright|    DB|192537|   62|Ernest Rossbach_M...|\n",
            "+---+------+----------------+------+------+-----+--------------------+\n",
            "only showing top 20 rows\n",
            "\n"
          ]
        }
      ]
    },
    {
      "cell_type": "code",
      "source": [
        "# ordernar em ordem crescente\n",
        "df.sort(\"marks\").show()"
      ],
      "metadata": {
        "colab": {
          "base_uri": "https://localhost:8080/"
        },
        "id": "A0RxGsdYNMYR",
        "outputId": "6fb430e7-d04e-4c03-95fd-31dbc28134df"
      },
      "execution_count": null,
      "outputs": [
        {
          "output_type": "stream",
          "name": "stdout",
          "text": [
            "+---+------+-----------------+------+-------+-----+--------------------+\n",
            "|age|gender|             name|course|   roll|marks|               email|\n",
            "+---+------+-----------------+------+-------+-----+--------------------+\n",
            "| 28|Female|   Maybell Duguay| Cloud| 261439|   20|Nicole Harwood_Ju...|\n",
            "| 29|  Male|   Jalisa Swenson|   OOP|4751515|   20|Annika Hoffman_Hu...|\n",
            "| 28|  Male|  Marylee Capasso|   DSA|2081560|   20|Sheryll Towler_Do...|\n",
            "| 29|Female|  Gonzalo Ferebee|   DSA|5631172|   20|Jeannetta Golden_...|\n",
            "| 29|  Male|Michelle Ruggiero|    PF|6001585|   20|Paris Hutton_Marg...|\n",
            "| 29|  Male|     Elenore Choy|    DB|3652057|   20|Jc Andrepont_Gonz...|\n",
            "| 29|Female|Michelle Ruggiero|    DB|9232210|   20|Donna Yerby_Latia...|\n",
            "| 29|Female|   Tamera Blakley|   DSA|3911247|   20|Donna Yerby_Bonit...|\n",
            "| 28|Female|     Jc Andrepont|    PF| 972733|   20|Eda Neathery_Eda ...|\n",
            "| 28|  Male|      Abram Nagao| Cloud|2652463|   21|Eda Neathery_Anni...|\n",
            "| 29|  Male|   Tamera Blakley|   OOP|7341268|   21|Anna Santos_Naoma...|\n",
            "| 29|Female|  Gonzalo Ferebee|   OOP|2262603|   21|Bonita Higuera_Ch...|\n",
            "| 28|  Male|    Kizzy Brenner| Cloud|4622328|   21|Leontine Phillips...|\n",
            "| 29|  Male|  Sebrina Maresca| Cloud|5042394|   21|Donna Yerby_Miche...|\n",
            "| 28|  Male|   Bonita Higuera| Cloud|7671835|   21|Taryn Brownlee_Se...|\n",
            "| 29|Female|   Nicole Harwood|    PF|8121198|   21|Bonita Higuera_Pr...|\n",
            "| 29|Female|   Alberta Freund|   OOP|4501424|   21|Toshiko Hillyard_...|\n",
            "| 28|Female|  Sebrina Maresca|    PF|5742239|   21|Bonita Higuera_Se...|\n",
            "| 28|  Male|      Billi Clore|    DB|9151306|   21|Latia Vanhoose_Er...|\n",
            "| 29|  Male|     Paris Hutton|   MVC| 752504|   22|Elenore Choy_Elen...|\n",
            "+---+------+-----------------+------+-------+-----+--------------------+\n",
            "only showing top 20 rows\n",
            "\n"
          ]
        }
      ]
    },
    {
      "cell_type": "code",
      "source": [
        "# ordenando na sequencia determinada: Primeiro pelas marks depois pela idade\n",
        "df.sort(\"marks\", \"age\").show()"
      ],
      "metadata": {
        "colab": {
          "base_uri": "https://localhost:8080/"
        },
        "id": "Eqf3fR35NspH",
        "outputId": "d805c060-8306-4072-8c41-90cedf113a10"
      },
      "execution_count": null,
      "outputs": [
        {
          "output_type": "stream",
          "name": "stdout",
          "text": [
            "+---+------+-----------------+------+-------+-----+--------------------+\n",
            "|age|gender|             name|course|   roll|marks|               email|\n",
            "+---+------+-----------------+------+-------+-----+--------------------+\n",
            "| 28|  Male|  Marylee Capasso|   DSA|2081560|   20|Sheryll Towler_Do...|\n",
            "| 28|Female|   Maybell Duguay| Cloud| 261439|   20|Nicole Harwood_Ju...|\n",
            "| 28|Female|     Jc Andrepont|    PF| 972733|   20|Eda Neathery_Eda ...|\n",
            "| 29|Female|   Tamera Blakley|   DSA|3911247|   20|Donna Yerby_Bonit...|\n",
            "| 29|  Male|   Jalisa Swenson|   OOP|4751515|   20|Annika Hoffman_Hu...|\n",
            "| 29|Female|  Gonzalo Ferebee|   DSA|5631172|   20|Jeannetta Golden_...|\n",
            "| 29|  Male|Michelle Ruggiero|    PF|6001585|   20|Paris Hutton_Marg...|\n",
            "| 29|Female|Michelle Ruggiero|    DB|9232210|   20|Donna Yerby_Latia...|\n",
            "| 29|  Male|     Elenore Choy|    DB|3652057|   20|Jc Andrepont_Gonz...|\n",
            "| 28|  Male|      Abram Nagao| Cloud|2652463|   21|Eda Neathery_Anni...|\n",
            "| 28|  Male|   Bonita Higuera| Cloud|7671835|   21|Taryn Brownlee_Se...|\n",
            "| 28|Female|  Sebrina Maresca|    PF|5742239|   21|Bonita Higuera_Se...|\n",
            "| 28|  Male|    Kizzy Brenner| Cloud|4622328|   21|Leontine Phillips...|\n",
            "| 28|  Male|      Billi Clore|    DB|9151306|   21|Latia Vanhoose_Er...|\n",
            "| 29|  Male|  Sebrina Maresca| Cloud|5042394|   21|Donna Yerby_Miche...|\n",
            "| 29|Female|  Gonzalo Ferebee|   OOP|2262603|   21|Bonita Higuera_Ch...|\n",
            "| 29|  Male|   Tamera Blakley|   OOP|7341268|   21|Anna Santos_Naoma...|\n",
            "| 29|Female|   Alberta Freund|   OOP|4501424|   21|Toshiko Hillyard_...|\n",
            "| 29|Female|   Nicole Harwood|    PF|8121198|   21|Bonita Higuera_Pr...|\n",
            "| 28|Female|     Cheri Kenney| Cloud|2281771|   22|Tamera Blakley_Ab...|\n",
            "+---+------+-----------------+------+-------+-----+--------------------+\n",
            "only showing top 20 rows\n",
            "\n"
          ]
        }
      ]
    },
    {
      "cell_type": "code",
      "source": [
        "#outra notação\n",
        "df.sort(df.marks, df.age).show()"
      ],
      "metadata": {
        "colab": {
          "base_uri": "https://localhost:8080/"
        },
        "id": "LMVqbR41N_Z3",
        "outputId": "4b724459-1090-4bdf-e597-602e774bc825"
      },
      "execution_count": null,
      "outputs": [
        {
          "output_type": "stream",
          "name": "stdout",
          "text": [
            "+---+------+-----------------+------+-------+-----+--------------------+\n",
            "|age|gender|             name|course|   roll|marks|               email|\n",
            "+---+------+-----------------+------+-------+-----+--------------------+\n",
            "| 28|  Male|  Marylee Capasso|   DSA|2081560|   20|Sheryll Towler_Do...|\n",
            "| 28|Female|   Maybell Duguay| Cloud| 261439|   20|Nicole Harwood_Ju...|\n",
            "| 28|Female|     Jc Andrepont|    PF| 972733|   20|Eda Neathery_Eda ...|\n",
            "| 29|Female|   Tamera Blakley|   DSA|3911247|   20|Donna Yerby_Bonit...|\n",
            "| 29|  Male|   Jalisa Swenson|   OOP|4751515|   20|Annika Hoffman_Hu...|\n",
            "| 29|Female|  Gonzalo Ferebee|   DSA|5631172|   20|Jeannetta Golden_...|\n",
            "| 29|  Male|Michelle Ruggiero|    PF|6001585|   20|Paris Hutton_Marg...|\n",
            "| 29|Female|Michelle Ruggiero|    DB|9232210|   20|Donna Yerby_Latia...|\n",
            "| 29|  Male|     Elenore Choy|    DB|3652057|   20|Jc Andrepont_Gonz...|\n",
            "| 28|  Male|      Abram Nagao| Cloud|2652463|   21|Eda Neathery_Anni...|\n",
            "| 28|  Male|   Bonita Higuera| Cloud|7671835|   21|Taryn Brownlee_Se...|\n",
            "| 28|Female|  Sebrina Maresca|    PF|5742239|   21|Bonita Higuera_Se...|\n",
            "| 28|  Male|    Kizzy Brenner| Cloud|4622328|   21|Leontine Phillips...|\n",
            "| 28|  Male|      Billi Clore|    DB|9151306|   21|Latia Vanhoose_Er...|\n",
            "| 29|  Male|  Sebrina Maresca| Cloud|5042394|   21|Donna Yerby_Miche...|\n",
            "| 29|Female|  Gonzalo Ferebee|   OOP|2262603|   21|Bonita Higuera_Ch...|\n",
            "| 29|  Male|   Tamera Blakley|   OOP|7341268|   21|Anna Santos_Naoma...|\n",
            "| 29|Female|   Alberta Freund|   OOP|4501424|   21|Toshiko Hillyard_...|\n",
            "| 29|Female|   Nicole Harwood|    PF|8121198|   21|Bonita Higuera_Pr...|\n",
            "| 28|Female|     Cheri Kenney| Cloud|2281771|   22|Tamera Blakley_Ab...|\n",
            "+---+------+-----------------+------+-------+-----+--------------------+\n",
            "only showing top 20 rows\n",
            "\n"
          ]
        }
      ]
    },
    {
      "cell_type": "code",
      "source": [
        "# ordenando ascendente ou descendente\n",
        "\n",
        "df.sort(df.marks.asc(), df.age.desc()).show()"
      ],
      "metadata": {
        "colab": {
          "base_uri": "https://localhost:8080/"
        },
        "id": "es1U-7aPOOZT",
        "outputId": "476362cb-d9d2-436d-d591-6a943370e512"
      },
      "execution_count": null,
      "outputs": [
        {
          "output_type": "stream",
          "name": "stdout",
          "text": [
            "+---+------+-----------------+------+-------+-----+--------------------+\n",
            "|age|gender|             name|course|   roll|marks|               email|\n",
            "+---+------+-----------------+------+-------+-----+--------------------+\n",
            "| 29|Female|Michelle Ruggiero|    DB|9232210|   20|Donna Yerby_Latia...|\n",
            "| 29|  Male|     Elenore Choy|    DB|3652057|   20|Jc Andrepont_Gonz...|\n",
            "| 29|  Male|   Jalisa Swenson|   OOP|4751515|   20|Annika Hoffman_Hu...|\n",
            "| 29|Female|  Gonzalo Ferebee|   DSA|5631172|   20|Jeannetta Golden_...|\n",
            "| 29|Female|   Tamera Blakley|   DSA|3911247|   20|Donna Yerby_Bonit...|\n",
            "| 29|  Male|Michelle Ruggiero|    PF|6001585|   20|Paris Hutton_Marg...|\n",
            "| 28|Female|   Maybell Duguay| Cloud| 261439|   20|Nicole Harwood_Ju...|\n",
            "| 28|  Male|  Marylee Capasso|   DSA|2081560|   20|Sheryll Towler_Do...|\n",
            "| 28|Female|     Jc Andrepont|    PF| 972733|   20|Eda Neathery_Eda ...|\n",
            "| 29|  Male|  Sebrina Maresca| Cloud|5042394|   21|Donna Yerby_Miche...|\n",
            "| 29|Female|   Nicole Harwood|    PF|8121198|   21|Bonita Higuera_Pr...|\n",
            "| 29|  Male|   Tamera Blakley|   OOP|7341268|   21|Anna Santos_Naoma...|\n",
            "| 29|Female|   Alberta Freund|   OOP|4501424|   21|Toshiko Hillyard_...|\n",
            "| 29|Female|  Gonzalo Ferebee|   OOP|2262603|   21|Bonita Higuera_Ch...|\n",
            "| 28|  Male|    Kizzy Brenner| Cloud|4622328|   21|Leontine Phillips...|\n",
            "| 28|  Male|   Bonita Higuera| Cloud|7671835|   21|Taryn Brownlee_Se...|\n",
            "| 28|  Male|      Abram Nagao| Cloud|2652463|   21|Eda Neathery_Anni...|\n",
            "| 28|Female|  Sebrina Maresca|    PF|5742239|   21|Bonita Higuera_Se...|\n",
            "| 28|  Male|      Billi Clore|    DB|9151306|   21|Latia Vanhoose_Er...|\n",
            "| 29|Female|   Maybell Duguay|   MVC|1102536|   22|Somer Stoecker_Ma...|\n",
            "+---+------+-----------------+------+-------+-----+--------------------+\n",
            "only showing top 20 rows\n",
            "\n"
          ]
        }
      ]
    },
    {
      "cell_type": "code",
      "source": [
        "# utilizando o orderBy\n",
        "\n",
        "#sort é mais utilizado em inteiro\n",
        "\n",
        "#orderBy é mais utilizado por orderBy\n",
        "\n",
        "df.orderBy(df.marks.asc(), df.age.desc()).show()"
      ],
      "metadata": {
        "colab": {
          "base_uri": "https://localhost:8080/"
        },
        "id": "IX-IKJ7AOgr6",
        "outputId": "2d8f4511-cbde-4eac-fc70-bd3186c7d69c"
      },
      "execution_count": null,
      "outputs": [
        {
          "output_type": "stream",
          "name": "stdout",
          "text": [
            "+---+------+-----------------+------+-------+-----+--------------------+\n",
            "|age|gender|             name|course|   roll|marks|               email|\n",
            "+---+------+-----------------+------+-------+-----+--------------------+\n",
            "| 29|Female|Michelle Ruggiero|    DB|9232210|   20|Donna Yerby_Latia...|\n",
            "| 29|  Male|     Elenore Choy|    DB|3652057|   20|Jc Andrepont_Gonz...|\n",
            "| 29|  Male|   Jalisa Swenson|   OOP|4751515|   20|Annika Hoffman_Hu...|\n",
            "| 29|Female|  Gonzalo Ferebee|   DSA|5631172|   20|Jeannetta Golden_...|\n",
            "| 29|Female|   Tamera Blakley|   DSA|3911247|   20|Donna Yerby_Bonit...|\n",
            "| 29|  Male|Michelle Ruggiero|    PF|6001585|   20|Paris Hutton_Marg...|\n",
            "| 28|Female|   Maybell Duguay| Cloud| 261439|   20|Nicole Harwood_Ju...|\n",
            "| 28|  Male|  Marylee Capasso|   DSA|2081560|   20|Sheryll Towler_Do...|\n",
            "| 28|Female|     Jc Andrepont|    PF| 972733|   20|Eda Neathery_Eda ...|\n",
            "| 29|  Male|  Sebrina Maresca| Cloud|5042394|   21|Donna Yerby_Miche...|\n",
            "| 29|Female|   Nicole Harwood|    PF|8121198|   21|Bonita Higuera_Pr...|\n",
            "| 29|  Male|   Tamera Blakley|   OOP|7341268|   21|Anna Santos_Naoma...|\n",
            "| 29|Female|   Alberta Freund|   OOP|4501424|   21|Toshiko Hillyard_...|\n",
            "| 29|Female|  Gonzalo Ferebee|   OOP|2262603|   21|Bonita Higuera_Ch...|\n",
            "| 28|  Male|    Kizzy Brenner| Cloud|4622328|   21|Leontine Phillips...|\n",
            "| 28|  Male|   Bonita Higuera| Cloud|7671835|   21|Taryn Brownlee_Se...|\n",
            "| 28|  Male|      Abram Nagao| Cloud|2652463|   21|Eda Neathery_Anni...|\n",
            "| 28|Female|  Sebrina Maresca|    PF|5742239|   21|Bonita Higuera_Se...|\n",
            "| 28|  Male|      Billi Clore|    DB|9151306|   21|Latia Vanhoose_Er...|\n",
            "| 29|Female|   Maybell Duguay|   MVC|1102536|   22|Somer Stoecker_Ma...|\n",
            "+---+------+-----------------+------+-------+-----+--------------------+\n",
            "only showing top 20 rows\n",
            "\n"
          ]
        }
      ]
    },
    {
      "cell_type": "code",
      "source": [
        "df.orderBy(df.name.asc(), df.age.desc()).show()"
      ],
      "metadata": {
        "colab": {
          "base_uri": "https://localhost:8080/"
        },
        "id": "pPUTYz77O9FM",
        "outputId": "ecb136a5-7f1c-4704-aeeb-77b41a2bfbcf"
      },
      "execution_count": null,
      "outputs": [
        {
          "output_type": "stream",
          "name": "stdout",
          "text": [
            "+---+------+--------------+------+-------+-----+--------------------+\n",
            "|age|gender|          name|course|   roll|marks|               email|\n",
            "+---+------+--------------+------+-------+-----+--------------------+\n",
            "| 29|Female|   Abram Nagao|   DSA|2041248|   72|Latia Vanhoose_Ke...|\n",
            "| 29|  Male|   Abram Nagao|    DB|2841061|   25|Leontine Phillips...|\n",
            "| 29|  Male|   Abram Nagao| Cloud|4531204|   50|Loris Crossett_Se...|\n",
            "| 29|Female|   Abram Nagao|   DSA|1181007|   57|Anna Santos_Anna ...|\n",
            "| 29|  Male|   Abram Nagao|   DSA|5022738|   42|Margene Moores_La...|\n",
            "| 29|Female|   Abram Nagao|    PF|6182152|   50|Santa Kerfien_Cla...|\n",
            "| 29|  Male|   Abram Nagao|   MVC| 962235|   32|Jenna Montague_Go...|\n",
            "| 29|Female|   Abram Nagao| Cloud|9422898|   38|Cheri Kenney_Sant...|\n",
            "| 29|Female|   Abram Nagao|    PF|9711154|   23|Judie Chipps_Naom...|\n",
            "| 29|  Male|   Abram Nagao|    PF|1112161|   42|Nicole Harwood_Ni...|\n",
            "| 28|Female|   Abram Nagao|    DB|2632057|   25|Margene Moores_So...|\n",
            "| 28|  Male|   Abram Nagao|   DSA|1382959|   66|Michelle Ruggiero...|\n",
            "| 28|  Male|   Abram Nagao| Cloud|2652463|   21|Eda Neathery_Anni...|\n",
            "| 28|Female|   Abram Nagao| Cloud|2811189|   54|Kena Wild_Donna Y...|\n",
            "| 28|Female|   Abram Nagao| Cloud|5301859|   50|Elenore Choy_Clau...|\n",
            "| 28|  Male|   Abram Nagao|   DSA|3781521|   45|Taryn Brownlee_Mi...|\n",
            "| 28|  Male|   Abram Nagao|   OOP|5571082|   85|Santa Kerfien_Jal...|\n",
            "| 29|Female|Alberta Freund|   DSA|4152288|   78|Elenore Choy_Lawa...|\n",
            "| 29|  Male|Alberta Freund|   DSA|2341989|   68|Jeannetta Golden_...|\n",
            "| 29|  Male|Alberta Freund|   OOP|1841931|   37|Jenna Montague_Ta...|\n",
            "+---+------+--------------+------+-------+-----+--------------------+\n",
            "only showing top 20 rows\n",
            "\n"
          ]
        }
      ]
    },
    {
      "cell_type": "markdown",
      "source": [
        "\n",
        "## groupBy em uma unica coluna no DataFrame\n"
      ],
      "metadata": {
        "id": "dEEZPLOFPFAg"
      }
    },
    {
      "cell_type": "code",
      "source": [
        "#cria um grupo e elemento de agregação\n",
        "df.groupBy(\"gender\").sum(\"marks\").show()"
      ],
      "metadata": {
        "colab": {
          "base_uri": "https://localhost:8080/"
        },
        "id": "2L93E8GgPfH5",
        "outputId": "df6e79c5-ca32-413f-809c-6b9bfb859102"
      },
      "execution_count": null,
      "outputs": [
        {
          "output_type": "stream",
          "name": "stdout",
          "text": [
            "+------+----------+\n",
            "|gender|sum(marks)|\n",
            "+------+----------+\n",
            "|Female|     29636|\n",
            "|  Male|     30461|\n",
            "+------+----------+\n",
            "\n"
          ]
        }
      ]
    },
    {
      "cell_type": "code",
      "source": [
        "df.groupBy(\"gender\").count().show()\n",
        "df.groupBy(\"course\").count().show()\n",
        "df.groupBy(\"course\").sum(\"marks\").show()"
      ],
      "metadata": {
        "colab": {
          "base_uri": "https://localhost:8080/"
        },
        "id": "A9TCOfRaRjIq",
        "outputId": "33e5a818-cb36-464c-9d9e-532f3dbe85f5"
      },
      "execution_count": null,
      "outputs": [
        {
          "output_type": "stream",
          "name": "stdout",
          "text": [
            "+------+-----+\n",
            "|gender|count|\n",
            "+------+-----+\n",
            "|Female|  501|\n",
            "|  Male|  499|\n",
            "+------+-----+\n",
            "\n",
            "+------+-----+\n",
            "|course|count|\n",
            "+------+-----+\n",
            "|    PF|  166|\n",
            "|    DB|  157|\n",
            "|   MVC|  157|\n",
            "|   DSA|  176|\n",
            "| Cloud|  192|\n",
            "|   OOP|  152|\n",
            "+------+-----+\n",
            "\n",
            "+------+----------+\n",
            "|course|sum(marks)|\n",
            "+------+----------+\n",
            "|    PF|      9933|\n",
            "|    DB|      9270|\n",
            "|   MVC|      9585|\n",
            "|   DSA|     10950|\n",
            "| Cloud|     11443|\n",
            "|   OOP|      8916|\n",
            "+------+----------+\n",
            "\n"
          ]
        }
      ]
    },
    {
      "cell_type": "code",
      "source": [
        "#agrupar por máximo e minimo\n",
        "df.groupBy(\"gender\").max(\"marks\").show()\n",
        "df.groupBy(\"course\").max(\"marks\").show()\n",
        "df.groupBy(\"gender\").min(\"marks\").show()\n",
        "df.groupBy(\"course\").min(\"marks\").show()"
      ],
      "metadata": {
        "colab": {
          "base_uri": "https://localhost:8080/"
        },
        "id": "4jw-HV36SPZy",
        "outputId": "945cf7ea-8642-4c2b-da7a-d0b8b752af2f"
      },
      "execution_count": null,
      "outputs": [
        {
          "output_type": "stream",
          "name": "stdout",
          "text": [
            "+------+----------+\n",
            "|gender|max(marks)|\n",
            "+------+----------+\n",
            "|Female|        99|\n",
            "|  Male|        99|\n",
            "+------+----------+\n",
            "\n",
            "+------+----------+\n",
            "|course|max(marks)|\n",
            "+------+----------+\n",
            "|    PF|        99|\n",
            "|    DB|        98|\n",
            "|   MVC|        99|\n",
            "|   DSA|        99|\n",
            "| Cloud|        99|\n",
            "|   OOP|        99|\n",
            "+------+----------+\n",
            "\n",
            "+------+----------+\n",
            "|gender|min(marks)|\n",
            "+------+----------+\n",
            "|Female|        20|\n",
            "|  Male|        20|\n",
            "+------+----------+\n",
            "\n",
            "+------+----------+\n",
            "|course|min(marks)|\n",
            "+------+----------+\n",
            "|    PF|        20|\n",
            "|    DB|        20|\n",
            "|   MVC|        22|\n",
            "|   DSA|        20|\n",
            "| Cloud|        20|\n",
            "|   OOP|        20|\n",
            "+------+----------+\n",
            "\n"
          ]
        }
      ]
    },
    {
      "cell_type": "code",
      "source": [
        "#groupBy por medias\n",
        "df.groupBy(\"age\").avg(\"marks\").show()\n",
        "df.groupBy(\"course\").avg(\"marks\").show()"
      ],
      "metadata": {
        "colab": {
          "base_uri": "https://localhost:8080/"
        },
        "id": "LzkiPFDySwSo",
        "outputId": "32a61fb8-2ec9-4a8f-cfa8-70313fa819b8"
      },
      "execution_count": null,
      "outputs": [
        {
          "output_type": "stream",
          "name": "stdout",
          "text": [
            "+---+------------------+\n",
            "|age|        avg(marks)|\n",
            "+---+------------------+\n",
            "| 28|60.487854251012145|\n",
            "| 29|59.715415019762844|\n",
            "+---+------------------+\n",
            "\n",
            "+------+------------------+\n",
            "|course|        avg(marks)|\n",
            "+------+------------------+\n",
            "|    PF| 59.83734939759036|\n",
            "|    DB|59.044585987261144|\n",
            "|   MVC| 61.05095541401274|\n",
            "|   DSA| 62.21590909090909|\n",
            "| Cloud|59.598958333333336|\n",
            "|   OOP|  58.6578947368421|\n",
            "+------+------------------+\n",
            "\n"
          ]
        }
      ]
    },
    {
      "cell_type": "code",
      "source": [
        "df.groupBy(\"gender\").mean(\"marks\").show()\n",
        "df.groupBy(\"course\").mean(\"marks\").show()"
      ],
      "metadata": {
        "colab": {
          "base_uri": "https://localhost:8080/"
        },
        "id": "jnJ1-dKxTAGG",
        "outputId": "bec3ac97-37b2-4ff4-ff2a-e9c9aee268ac"
      },
      "execution_count": null,
      "outputs": [
        {
          "output_type": "stream",
          "name": "stdout",
          "text": [
            "+------+------------------+\n",
            "|gender|        avg(marks)|\n",
            "+------+------------------+\n",
            "|Female|59.153692614770456|\n",
            "|  Male| 61.04408817635271|\n",
            "+------+------------------+\n",
            "\n",
            "+------+------------------+\n",
            "|course|        avg(marks)|\n",
            "+------+------------------+\n",
            "|    PF| 59.83734939759036|\n",
            "|    DB|59.044585987261144|\n",
            "|   MVC| 61.05095541401274|\n",
            "|   DSA| 62.21590909090909|\n",
            "| Cloud|59.598958333333336|\n",
            "|   OOP|  58.6578947368421|\n",
            "+------+------------------+\n",
            "\n"
          ]
        }
      ]
    },
    {
      "cell_type": "markdown",
      "source": [
        "## groupBy em multiplas coluna no DataFrame"
      ],
      "metadata": {
        "id": "cK_SElrpTdDk"
      }
    },
    {
      "cell_type": "code",
      "source": [
        "df.groupBy(\"course\").count().show()\n",
        "df.groupBy(\"course\", \"gender\").count().orderBy(\"course\").show()"
      ],
      "metadata": {
        "colab": {
          "base_uri": "https://localhost:8080/"
        },
        "id": "NtfQBTu_Th4b",
        "outputId": "74cc4e77-3f28-40be-871c-04ea21d1f6b4"
      },
      "execution_count": null,
      "outputs": [
        {
          "output_type": "stream",
          "name": "stdout",
          "text": [
            "+------+-----+\n",
            "|course|count|\n",
            "+------+-----+\n",
            "|    PF|  166|\n",
            "|    DB|  157|\n",
            "|   MVC|  157|\n",
            "|   DSA|  176|\n",
            "| Cloud|  192|\n",
            "|   OOP|  152|\n",
            "+------+-----+\n",
            "\n",
            "+------+------+-----+\n",
            "|course|gender|count|\n",
            "+------+------+-----+\n",
            "| Cloud|  Male|   86|\n",
            "| Cloud|Female|  106|\n",
            "|    DB|Female|   75|\n",
            "|    DB|  Male|   82|\n",
            "|   DSA|  Male|   78|\n",
            "|   DSA|Female|   98|\n",
            "|   MVC|Female|   71|\n",
            "|   MVC|  Male|   86|\n",
            "|   OOP|  Male|   70|\n",
            "|   OOP|Female|   82|\n",
            "|    PF|  Male|   97|\n",
            "|    PF|Female|   69|\n",
            "+------+------+-----+\n",
            "\n"
          ]
        }
      ]
    },
    {
      "cell_type": "code",
      "source": [
        "from pyspark.sql.functions import sum, avg, max, min, mean, count"
      ],
      "metadata": {
        "id": "zAC32MzxUj-b"
      },
      "execution_count": null,
      "outputs": []
    },
    {
      "cell_type": "code",
      "source": [
        "# * considera todas as colunas \n",
        "# como calcular tudo de uma vez\n",
        "df.groupBy(\"course\", \"gender\").agg(count(\"*\")\\\n",
        "                                   .alias(\"total_enrllments\"),\\\n",
        "                                   sum(\"marks\").alias(\"total_marks\"),\\\n",
        "                                   min(\"marks\").alias(\"min_marks\"),\\\n",
        "                                   max(\"marks\").alias(\"max_marks\"),\\\n",
        "                                   avg(\"marks\").alias(\"avg_marks\"))\\\n",
        "                                   .orderBy(\"course\").show()"
      ],
      "metadata": {
        "colab": {
          "base_uri": "https://localhost:8080/"
        },
        "id": "3sSjMVV_U7wk",
        "outputId": "f0b32af3-07bb-4a08-9d05-181efff6fee7"
      },
      "execution_count": null,
      "outputs": [
        {
          "output_type": "stream",
          "name": "stdout",
          "text": [
            "+------+------+----------------+-----------+---------+---------+------------------+\n",
            "|course|gender|total_enrllments|total_marks|min_marks|max_marks|         avg_marks|\n",
            "+------+------+----------------+-----------+---------+---------+------------------+\n",
            "| Cloud|  Male|              86|       5127|       21|       97|59.616279069767444|\n",
            "| Cloud|Female|             106|       6316|       20|       99| 59.58490566037736|\n",
            "|    DB|  Male|              82|       5073|       20|       98| 61.86585365853659|\n",
            "|    DB|Female|              75|       4197|       20|       96|             55.96|\n",
            "|   DSA|Female|              98|       6124|       20|       99| 62.48979591836735|\n",
            "|   DSA|  Male|              78|       4826|       20|       99| 61.87179487179487|\n",
            "|   MVC|Female|              71|       4344|       22|       99|61.183098591549296|\n",
            "|   MVC|  Male|              86|       5241|       22|       99| 60.94186046511628|\n",
            "|   OOP|Female|              82|       4682|       21|       99| 57.09756097560975|\n",
            "|   OOP|  Male|              70|       4234|       20|       99| 60.48571428571429|\n",
            "|    PF|  Male|              97|       5960|       20|       99| 61.44329896907217|\n",
            "|    PF|Female|              69|       3973|       20|       99| 57.57971014492754|\n",
            "+------+------+----------------+-----------+---------+---------+------------------+\n",
            "\n"
          ]
        }
      ]
    },
    {
      "cell_type": "code",
      "source": [
        "from pyspark.sql import SparkSession\n",
        "from pyspark.sql.functions import col, lit\n",
        "from pyspark.sql.functions import sum, avg, max, min, mean, count\n",
        "spark = SparkSession.builder.appName(\"Spark DataFrames\").getOrCreate()\n",
        "df = spark.read.options(header = 'True', inferSchema = 'True').csv('/content/drive/MyDrive/PySpark/data/OfficeData.csv')\n",
        "df.show()"
      ],
      "metadata": {
        "colab": {
          "base_uri": "https://localhost:8080/"
        },
        "id": "ZOiZZ76scRlk",
        "outputId": "5937d4b8-6347-412d-c8e0-88834731d972"
      },
      "execution_count": null,
      "outputs": [
        {
          "output_type": "stream",
          "name": "stdout",
          "text": [
            "+-------------+----------+-----+------+---+-----+\n",
            "|employee_name|department|state|salary|age|bonus|\n",
            "+-------------+----------+-----+------+---+-----+\n",
            "|        James|     Sales|   NY| 90000| 34|10000|\n",
            "|      Michael|     Sales|   NY| 86000| 56|20000|\n",
            "|       Robert|     Sales|   CA| 81000| 30|23000|\n",
            "|        Maria|   Finance|   CA| 90000| 24|23000|\n",
            "|        Raman|   Finance|   CA| 99000| 40|24000|\n",
            "|        Scott|   Finance|   NY| 83000| 36|19000|\n",
            "|          Jen|   Finance|   NY| 79000| 53|15000|\n",
            "|         Jeff| Marketing|   CA| 80000| 25|18000|\n",
            "|        Kumar| Marketing|   NY| 91000| 50|21000|\n",
            "+-------------+----------+-----+------+---+-----+\n",
            "\n"
          ]
        }
      ]
    },
    {
      "cell_type": "code",
      "source": [
        "df.groupBy(\"department\").count().show()"
      ],
      "metadata": {
        "colab": {
          "base_uri": "https://localhost:8080/"
        },
        "id": "AJpz1B6MdB--",
        "outputId": "e9cadd77-035b-4f7f-8df4-642b9fbf5bfb"
      },
      "execution_count": null,
      "outputs": [
        {
          "output_type": "stream",
          "name": "stdout",
          "text": [
            "+----------+-----+\n",
            "|department|count|\n",
            "+----------+-----+\n",
            "|     Sales|    3|\n",
            "|   Finance|    4|\n",
            "| Marketing|    2|\n",
            "+----------+-----+\n",
            "\n"
          ]
        }
      ]
    },
    {
      "cell_type": "code",
      "source": [
        "df.groupBy(\"department\").sum('salary').show()"
      ],
      "metadata": {
        "colab": {
          "base_uri": "https://localhost:8080/"
        },
        "id": "8CadYZdXd0dx",
        "outputId": "4118e301-61d0-4c5c-f2a0-170e04a722b6"
      },
      "execution_count": null,
      "outputs": [
        {
          "output_type": "stream",
          "name": "stdout",
          "text": [
            "+----------+-----------+\n",
            "|department|sum(salary)|\n",
            "+----------+-----------+\n",
            "|     Sales|     257000|\n",
            "|   Finance|     351000|\n",
            "| Marketing|     171000|\n",
            "+----------+-----------+\n",
            "\n"
          ]
        }
      ]
    },
    {
      "cell_type": "code",
      "source": [
        "df.groupBy(\"department\").agg(sum('salary'), min('salary')).show()"
      ],
      "metadata": {
        "colab": {
          "base_uri": "https://localhost:8080/"
        },
        "id": "NXgbd75SeP_u",
        "outputId": "3384fed2-e00a-4290-c04e-86108a4b2c33"
      },
      "execution_count": null,
      "outputs": [
        {
          "output_type": "stream",
          "name": "stdout",
          "text": [
            "+----------+-----------+-----------+\n",
            "|department|sum(salary)|min(salary)|\n",
            "+----------+-----------+-----------+\n",
            "|     Sales|     257000|      81000|\n",
            "|   Finance|     351000|      79000|\n",
            "| Marketing|     171000|      80000|\n",
            "+----------+-----------+-----------+\n",
            "\n"
          ]
        }
      ]
    },
    {
      "cell_type": "code",
      "source": [
        "#Criando multiplos grupos\n",
        "\n",
        "df.groupBy(\"department\", \"state\").agg(count('*')).show()"
      ],
      "metadata": {
        "colab": {
          "base_uri": "https://localhost:8080/"
        },
        "id": "fvs8M9z1e32-",
        "outputId": "cbc2147e-c842-4c45-97a1-34d98e698b69"
      },
      "execution_count": null,
      "outputs": [
        {
          "output_type": "stream",
          "name": "stdout",
          "text": [
            "+----------+-----+--------+\n",
            "|department|state|count(1)|\n",
            "+----------+-----+--------+\n",
            "|   Finance|   NY|       2|\n",
            "| Marketing|   NY|       1|\n",
            "|     Sales|   CA|       1|\n",
            "| Marketing|   CA|       1|\n",
            "|   Finance|   CA|       2|\n",
            "|     Sales|   NY|       2|\n",
            "+----------+-----+--------+\n",
            "\n"
          ]
        }
      ]
    },
    {
      "cell_type": "markdown",
      "source": [
        "### filter no groupBy"
      ],
      "metadata": {
        "id": "TzQGTiJLffnQ"
      }
    },
    {
      "cell_type": "code",
      "source": [
        "from pyspark.sql import SparkSession\n",
        "from pyspark.sql.functions import col, lit\n",
        "from pyspark.sql.functions import sum, avg, max, min, mean, count\n",
        "spark = SparkSession.builder.appName(\"Spark DataFrames\").getOrCreate()\n",
        "df = spark.read.options(header = 'True', inferSchema = 'True').csv('/content/drive/MyDrive/PySpark/data/StudentData.csv')\n",
        "df.show()"
      ],
      "metadata": {
        "colab": {
          "base_uri": "https://localhost:8080/"
        },
        "id": "h5Shvkc1fjw7",
        "outputId": "2a03957e-5180-4e65-a029-562882b63200"
      },
      "execution_count": null,
      "outputs": [
        {
          "output_type": "stream",
          "name": "stdout",
          "text": [
            "+---+------+----------------+------+------+-----+--------------------+\n",
            "|age|gender|            name|course|  roll|marks|               email|\n",
            "+---+------+----------------+------+------+-----+--------------------+\n",
            "| 28|Female| Hubert Oliveras|    DB|  2984|   59|Annika Hoffman_Na...|\n",
            "| 29|Female|Toshiko Hillyard| Cloud| 12899|   62|Margene Moores_Ma...|\n",
            "| 28|  Male|  Celeste Lollis|    PF| 21267|   45|Jeannetta Golden_...|\n",
            "| 29|Female|    Elenore Choy|    DB| 32877|   29|Billi Clore_Mitzi...|\n",
            "| 28|  Male|  Sheryll Towler|   DSA| 41487|   41|Claude Panos_Judi...|\n",
            "| 28|  Male|  Margene Moores|   MVC| 52771|   32|Toshiko Hillyard_...|\n",
            "| 28|  Male|     Neda Briski|   OOP| 61973|   69|Alberta Freund_El...|\n",
            "| 28|Female|    Claude Panos| Cloud| 72409|   85|Sheryll Towler_Al...|\n",
            "| 28|  Male|  Celeste Lollis|   MVC| 81492|   64|Nicole Harwood_Cl...|\n",
            "| 29|  Male|  Cordie Harnois|   OOP| 92882|   51|Judie Chipps_Clem...|\n",
            "| 29|Female|       Kena Wild|   DSA|102285|   35|Dustin Feagins_Ma...|\n",
            "| 29|  Male| Ernest Rossbach|    DB|111449|   53|Maybell Duguay_Ab...|\n",
            "| 28|Female|  Latia Vanhoose|    DB|122502|   27|Latia Vanhoose_Mi...|\n",
            "| 29|Female|  Latia Vanhoose|   MVC|132110|   55|Eda Neathery_Nico...|\n",
            "| 29|  Male|     Neda Briski|    PF|141770|   42|Margene Moores_Mi...|\n",
            "| 29|Female|  Latia Vanhoose|    DB|152159|   27|Claude Panos_Sant...|\n",
            "| 29|  Male|  Loris Crossett|   MVC|161771|   36|Mitzi Seldon_Jenn...|\n",
            "| 29|  Male|  Annika Hoffman|   OOP|171660|   22|Taryn Brownlee_Mi...|\n",
            "| 29|  Male|   Santa Kerfien|    PF|182129|   56|Judie Chipps_Tary...|\n",
            "| 28|Female|Mickey Cortright|    DB|192537|   62|Ernest Rossbach_M...|\n",
            "+---+------+----------------+------+------+-----+--------------------+\n",
            "only showing top 20 rows\n",
            "\n"
          ]
        }
      ]
    },
    {
      "cell_type": "code",
      "source": [
        "df2 = df.filter(df.gender == \"Male\")\n",
        "df2.groupBy(\"gender\").agg((count('*'))).show()\n",
        "df2.show()"
      ],
      "metadata": {
        "colab": {
          "base_uri": "https://localhost:8080/"
        },
        "id": "ANovNTy5ftQR",
        "outputId": "ebd96d9f-170b-4eba-9d88-1f5583526476"
      },
      "execution_count": null,
      "outputs": [
        {
          "output_type": "stream",
          "name": "stdout",
          "text": [
            "+------+--------+\n",
            "|gender|count(1)|\n",
            "+------+--------+\n",
            "|  Male|     499|\n",
            "+------+--------+\n",
            "\n",
            "+---+------+----------------+------+------+-----+--------------------+\n",
            "|age|gender|            name|course|  roll|marks|               email|\n",
            "+---+------+----------------+------+------+-----+--------------------+\n",
            "| 28|  Male|  Celeste Lollis|    PF| 21267|   45|Jeannetta Golden_...|\n",
            "| 28|  Male|  Sheryll Towler|   DSA| 41487|   41|Claude Panos_Judi...|\n",
            "| 28|  Male|  Margene Moores|   MVC| 52771|   32|Toshiko Hillyard_...|\n",
            "| 28|  Male|     Neda Briski|   OOP| 61973|   69|Alberta Freund_El...|\n",
            "| 28|  Male|  Celeste Lollis|   MVC| 81492|   64|Nicole Harwood_Cl...|\n",
            "| 29|  Male|  Cordie Harnois|   OOP| 92882|   51|Judie Chipps_Clem...|\n",
            "| 29|  Male| Ernest Rossbach|    DB|111449|   53|Maybell Duguay_Ab...|\n",
            "| 29|  Male|     Neda Briski|    PF|141770|   42|Margene Moores_Mi...|\n",
            "| 29|  Male|  Loris Crossett|   MVC|161771|   36|Mitzi Seldon_Jenn...|\n",
            "| 29|  Male|  Annika Hoffman|   OOP|171660|   22|Taryn Brownlee_Mi...|\n",
            "| 29|  Male|   Santa Kerfien|    PF|182129|   56|Judie Chipps_Tary...|\n",
            "| 28|  Male| Hubert Oliveras|   OOP|351719|   63|Lawanda Wohlwend_...|\n",
            "| 28|  Male| Sebrina Maresca|    PF|361316|   62|Nicole Harwood_La...|\n",
            "| 29|  Male|  Jalisa Swenson|    PF|372873|   45|Ernest Rossbach_T...|\n",
            "| 28|  Male|   Kizzy Brenner|    DB|381712|   36|Paris Hutton_Kena...|\n",
            "| 28|  Male|Toshiko Hillyard|    DB|392218|   47|Leontine Phillips...|\n",
            "| 28|  Male|    Elenore Choy|    PF|422704|   66|Marylee Capasso_N...|\n",
            "| 28|  Male|  Dustin Feagins|    PF|461839|   51|Neda Briski_Eleno...|\n",
            "| 29|  Male|  Annika Hoffman|   OOP|472550|   35|Mitzi Seldon_Abra...|\n",
            "| 29|  Male|    Paris Hutton|    DB|481229|   57|Clementina Menke_...|\n",
            "+---+------+----------------+------+------+-----+--------------------+\n",
            "only showing top 20 rows\n",
            "\n"
          ]
        }
      ]
    },
    {
      "cell_type": "code",
      "source": [
        "df3 = df2.groupBy(\"course\", \"gender\").agg((count('*').alias(\"total_enrollments\")))\n",
        "df3.show()"
      ],
      "metadata": {
        "colab": {
          "base_uri": "https://localhost:8080/"
        },
        "id": "M32D1Cn3gnkT",
        "outputId": "13d71ebb-bbc1-4965-fafd-2f3ba774e2f6"
      },
      "execution_count": null,
      "outputs": [
        {
          "output_type": "stream",
          "name": "stdout",
          "text": [
            "+------+------+-----------------+\n",
            "|course|gender|total_enrollments|\n",
            "+------+------+-----------------+\n",
            "|   OOP|  Male|               70|\n",
            "|    DB|  Male|               82|\n",
            "|   MVC|  Male|               86|\n",
            "|    PF|  Male|               97|\n",
            "| Cloud|  Male|               86|\n",
            "|   DSA|  Male|               78|\n",
            "+------+------+-----------------+\n",
            "\n"
          ]
        }
      ]
    },
    {
      "cell_type": "code",
      "source": [
        "# outra maneira de aplicar filtro\n",
        "df3.where(df3.total_enrollments > 85).show()\n",
        "df3.filter(df3.total_enrollments > 85).show()"
      ],
      "metadata": {
        "colab": {
          "base_uri": "https://localhost:8080/"
        },
        "id": "c1II1ToVhdAW",
        "outputId": "64596708-757c-4dcb-c6eb-859ef36c65f8"
      },
      "execution_count": null,
      "outputs": [
        {
          "output_type": "stream",
          "name": "stdout",
          "text": [
            "+------+------+-----------------+\n",
            "|course|gender|total_enrollments|\n",
            "+------+------+-----------------+\n",
            "|   MVC|  Male|               86|\n",
            "|    PF|  Male|               97|\n",
            "| Cloud|  Male|               86|\n",
            "+------+------+-----------------+\n",
            "\n",
            "+------+------+-----------------+\n",
            "|course|gender|total_enrollments|\n",
            "+------+------+-----------------+\n",
            "|   MVC|  Male|               86|\n",
            "|    PF|  Male|               97|\n",
            "| Cloud|  Male|               86|\n",
            "+------+------+-----------------+\n",
            "\n"
          ]
        }
      ]
    },
    {
      "cell_type": "code",
      "source": [
        "df.filter(df.gender == \"Male\").groupBy(\"course\", \"gender\").agg(count('*').alias(\"total_enrollments\")).show()"
      ],
      "metadata": {
        "colab": {
          "base_uri": "https://localhost:8080/"
        },
        "id": "_nkV4fq2g_uf",
        "outputId": "0e65ef52-d147-402a-ebfb-63ea12d78ced"
      },
      "execution_count": null,
      "outputs": [
        {
          "output_type": "stream",
          "name": "stdout",
          "text": [
            "+------+------+-----------------+\n",
            "|course|gender|total_enrollments|\n",
            "+------+------+-----------------+\n",
            "|   OOP|  Male|               70|\n",
            "|    DB|  Male|               82|\n",
            "|   MVC|  Male|               86|\n",
            "|    PF|  Male|               97|\n",
            "| Cloud|  Male|               86|\n",
            "|   DSA|  Male|               78|\n",
            "+------+------+-----------------+\n",
            "\n"
          ]
        }
      ]
    },
    {
      "cell_type": "code",
      "source": [
        "df.filter(df.gender == \"Male\").groupBy(\"course\", \"gender\").agg(count('*').alias(\"total_enrollments\")).filter(col(\"total_enrollments\") > 85).show()"
      ],
      "metadata": {
        "colab": {
          "base_uri": "https://localhost:8080/"
        },
        "id": "rRTIWfrVi952",
        "outputId": "e3526d40-7045-4bac-81ef-9f4830581f51"
      },
      "execution_count": null,
      "outputs": [
        {
          "output_type": "stream",
          "name": "stdout",
          "text": [
            "+------+------+-----------------+\n",
            "|course|gender|total_enrollments|\n",
            "+------+------+-----------------+\n",
            "|   MVC|  Male|               86|\n",
            "|    PF|  Male|               97|\n",
            "| Cloud|  Male|               86|\n",
            "+------+------+-----------------+\n",
            "\n"
          ]
        }
      ]
    },
    {
      "cell_type": "markdown",
      "source": [
        "### Exemplos\n",
        "\n",
        "* Exibe o número total de alunos matriculados em cada curso\n",
        "* Exibe o número total de alunos do sexo masculino e feminino matriculados em cada curso\n",
        "* Exibir o total de notas alcançadas por cada gênero em cada curso\n",
        "* Exibir as notas mínimas, máximas e médias alcançadas em cada curso por cada faixa etária"
      ],
      "metadata": {
        "id": "kJDjsHxskJ3v"
      }
    },
    {
      "cell_type": "code",
      "source": [
        "from pyspark.sql import SparkSession\n",
        "from pyspark.sql.functions import col, lit\n",
        "from pyspark.sql.functions import sum, avg, max, min, mean, count\n",
        "spark = SparkSession.builder.appName(\"Spark DataFrames\").getOrCreate()\n",
        "df = spark.read.options(header = 'True', inferSchema = 'True').csv('/content/drive/MyDrive/PySpark/data/StudentData.csv')\n",
        "df.show()"
      ],
      "metadata": {
        "colab": {
          "base_uri": "https://localhost:8080/"
        },
        "id": "-ZiB9H9smNmN",
        "outputId": "bf0974d2-0da6-4647-c7c9-9f4129e45cb7"
      },
      "execution_count": null,
      "outputs": [
        {
          "output_type": "stream",
          "name": "stdout",
          "text": [
            "+---+------+----------------+------+------+-----+--------------------+\n",
            "|age|gender|            name|course|  roll|marks|               email|\n",
            "+---+------+----------------+------+------+-----+--------------------+\n",
            "| 28|Female| Hubert Oliveras|    DB|  2984|   59|Annika Hoffman_Na...|\n",
            "| 29|Female|Toshiko Hillyard| Cloud| 12899|   62|Margene Moores_Ma...|\n",
            "| 28|  Male|  Celeste Lollis|    PF| 21267|   45|Jeannetta Golden_...|\n",
            "| 29|Female|    Elenore Choy|    DB| 32877|   29|Billi Clore_Mitzi...|\n",
            "| 28|  Male|  Sheryll Towler|   DSA| 41487|   41|Claude Panos_Judi...|\n",
            "| 28|  Male|  Margene Moores|   MVC| 52771|   32|Toshiko Hillyard_...|\n",
            "| 28|  Male|     Neda Briski|   OOP| 61973|   69|Alberta Freund_El...|\n",
            "| 28|Female|    Claude Panos| Cloud| 72409|   85|Sheryll Towler_Al...|\n",
            "| 28|  Male|  Celeste Lollis|   MVC| 81492|   64|Nicole Harwood_Cl...|\n",
            "| 29|  Male|  Cordie Harnois|   OOP| 92882|   51|Judie Chipps_Clem...|\n",
            "| 29|Female|       Kena Wild|   DSA|102285|   35|Dustin Feagins_Ma...|\n",
            "| 29|  Male| Ernest Rossbach|    DB|111449|   53|Maybell Duguay_Ab...|\n",
            "| 28|Female|  Latia Vanhoose|    DB|122502|   27|Latia Vanhoose_Mi...|\n",
            "| 29|Female|  Latia Vanhoose|   MVC|132110|   55|Eda Neathery_Nico...|\n",
            "| 29|  Male|     Neda Briski|    PF|141770|   42|Margene Moores_Mi...|\n",
            "| 29|Female|  Latia Vanhoose|    DB|152159|   27|Claude Panos_Sant...|\n",
            "| 29|  Male|  Loris Crossett|   MVC|161771|   36|Mitzi Seldon_Jenn...|\n",
            "| 29|  Male|  Annika Hoffman|   OOP|171660|   22|Taryn Brownlee_Mi...|\n",
            "| 29|  Male|   Santa Kerfien|    PF|182129|   56|Judie Chipps_Tary...|\n",
            "| 28|Female|Mickey Cortright|    DB|192537|   62|Ernest Rossbach_M...|\n",
            "+---+------+----------------+------+------+-----+--------------------+\n",
            "only showing top 20 rows\n",
            "\n"
          ]
        }
      ]
    },
    {
      "cell_type": "code",
      "source": [
        "df.groupBy(\"course\").count().show()"
      ],
      "metadata": {
        "colab": {
          "base_uri": "https://localhost:8080/"
        },
        "id": "9bl0OoicmTgq",
        "outputId": "e1ac4fb2-93a7-462f-d285-7735945ea44c"
      },
      "execution_count": null,
      "outputs": [
        {
          "output_type": "stream",
          "name": "stdout",
          "text": [
            "+------+-----+\n",
            "|course|count|\n",
            "+------+-----+\n",
            "|    PF|  166|\n",
            "|    DB|  157|\n",
            "|   MVC|  157|\n",
            "|   DSA|  176|\n",
            "| Cloud|  192|\n",
            "|   OOP|  152|\n",
            "+------+-----+\n",
            "\n"
          ]
        }
      ]
    },
    {
      "cell_type": "code",
      "source": [
        "df.groupBy(\"course\", \"gender\").count().orderBy(\"course\").show()"
      ],
      "metadata": {
        "colab": {
          "base_uri": "https://localhost:8080/"
        },
        "id": "-8NtF65Xmj1K",
        "outputId": "920e26e1-3821-4a50-953d-bb941579a088"
      },
      "execution_count": null,
      "outputs": [
        {
          "output_type": "stream",
          "name": "stdout",
          "text": [
            "+------+------+-----+\n",
            "|course|gender|count|\n",
            "+------+------+-----+\n",
            "| Cloud|  Male|   86|\n",
            "| Cloud|Female|  106|\n",
            "|    DB|  Male|   82|\n",
            "|    DB|Female|   75|\n",
            "|   DSA|Female|   98|\n",
            "|   DSA|  Male|   78|\n",
            "|   MVC|  Male|   86|\n",
            "|   MVC|Female|   71|\n",
            "|   OOP|  Male|   70|\n",
            "|   OOP|Female|   82|\n",
            "|    PF|  Male|   97|\n",
            "|    PF|Female|   69|\n",
            "+------+------+-----+\n",
            "\n"
          ]
        }
      ]
    },
    {
      "cell_type": "code",
      "source": [
        "df.groupby(\"course\", \"gender\").agg(sum(\"marks\").alias(\"total_marks\")).orderBy(\"course\").show()"
      ],
      "metadata": {
        "id": "FrRpgegHm2qg",
        "outputId": "4858acff-7c40-42b4-9c6f-57f759a2b871",
        "colab": {
          "base_uri": "https://localhost:8080/"
        }
      },
      "execution_count": null,
      "outputs": [
        {
          "output_type": "stream",
          "name": "stdout",
          "text": [
            "+------+------+-----------+\n",
            "|course|gender|total_marks|\n",
            "+------+------+-----------+\n",
            "| Cloud|  Male|       5127|\n",
            "| Cloud|Female|       6316|\n",
            "|    DB|Female|       4197|\n",
            "|    DB|  Male|       5073|\n",
            "|   DSA|  Male|       4826|\n",
            "|   DSA|Female|       6124|\n",
            "|   MVC|  Male|       5241|\n",
            "|   MVC|Female|       4344|\n",
            "|   OOP|  Male|       4234|\n",
            "|   OOP|Female|       4682|\n",
            "|    PF|  Male|       5960|\n",
            "|    PF|Female|       3973|\n",
            "+------+------+-----------+\n",
            "\n"
          ]
        }
      ]
    },
    {
      "cell_type": "code",
      "source": [
        "df.groupby(\"age\", \"course\").agg( min(\"marks\").alias(\"min_marks\"), max(\"marks\").alias(\"max_marks\"),avg(\"marks\").alias(\"average_marks\") ).orderBy(\"course\").show()"
      ],
      "metadata": {
        "id": "AOTjykKAnKZd",
        "outputId": "ea29655e-36a3-40c2-901b-7d914b43d411",
        "colab": {
          "base_uri": "https://localhost:8080/"
        }
      },
      "execution_count": null,
      "outputs": [
        {
          "output_type": "stream",
          "name": "stdout",
          "text": [
            "+---+------+---------+---------+------------------+\n",
            "|age|course|min_marks|max_marks|     average_marks|\n",
            "+---+------+---------+---------+------------------+\n",
            "| 28| Cloud|       20|       99|             58.08|\n",
            "| 29| Cloud|       21|       98|             61.25|\n",
            "| 28|    DB|       21|       98| 58.76829268292683|\n",
            "| 29|    DB|       20|       98|59.346666666666664|\n",
            "| 29|   DSA|       20|       99| 60.01075268817204|\n",
            "| 28|   DSA|       20|       99|  64.6867469879518|\n",
            "| 28|   MVC|       23|       99| 60.44444444444444|\n",
            "| 29|   MVC|       22|       99| 61.56470588235294|\n",
            "| 29|   OOP|       20|       99|59.729729729729726|\n",
            "| 28|   OOP|       23|       99| 57.64102564102564|\n",
            "| 28|    PF|       20|       98| 63.75949367088607|\n",
            "| 29|    PF|       20|       99|56.275862068965516|\n",
            "+---+------+---------+---------+------------------+\n",
            "\n"
          ]
        }
      ]
    },
    {
      "cell_type": "markdown",
      "source": [
        "### Exemplo\n",
        "\n",
        "* Calcular e mostrar quantas palavra de cada estão presentes no arquivo"
      ],
      "metadata": {
        "id": "VwHt9hNmwhGL"
      }
    },
    {
      "cell_type": "code",
      "source": [
        "from pyspark.sql import SparkSession\n",
        "from pyspark.sql.functions import col, lit\n",
        "from pyspark.sql.functions import sum, avg, max, min, mean, count\n",
        "spark = SparkSession.builder.appName(\"Spark DataFrames\").getOrCreate()\n",
        "df = spark.read.options().text('/content/drive/MyDrive/PySpark/data/WordData.txt')\n",
        "df.show()\n"
      ],
      "metadata": {
        "colab": {
          "base_uri": "https://localhost:8080/"
        },
        "id": "cI-1xOudwXUT",
        "outputId": "ed47e30e-19c7-40e3-e394-da73e3f894ae"
      },
      "execution_count": null,
      "outputs": [
        {
          "output_type": "stream",
          "name": "stdout",
          "text": [
            "+------+\n",
            "| value|\n",
            "+------+\n",
            "| Apple|\n",
            "|   Mic|\n",
            "|   Mic|\n",
            "| Apple|\n",
            "|Laptop|\n",
            "| Apple|\n",
            "|   Mic|\n",
            "|   Mic|\n",
            "| Apple|\n",
            "|Laptop|\n",
            "| Chair|\n",
            "| Chair|\n",
            "| Chair|\n",
            "|   Bag|\n",
            "|Mobile|\n",
            "|  Book|\n",
            "| Chair|\n",
            "| Chair|\n",
            "| Chair|\n",
            "|   Bag|\n",
            "+------+\n",
            "only showing top 20 rows\n",
            "\n"
          ]
        }
      ]
    },
    {
      "cell_type": "code",
      "source": [
        "df.groupBy(\"value\").count().orderBy(\"value\").show()"
      ],
      "metadata": {
        "colab": {
          "base_uri": "https://localhost:8080/"
        },
        "id": "XSA79VthxIL2",
        "outputId": "c86b4dda-2493-45d6-8db5-680a1d9acca9"
      },
      "execution_count": null,
      "outputs": [
        {
          "output_type": "stream",
          "name": "stdout",
          "text": [
            "+------+-----+\n",
            "| value|count|\n",
            "+------+-----+\n",
            "| Apple|   10|\n",
            "|   Bag|    5|\n",
            "|  Book|    5|\n",
            "| Chair|   15|\n",
            "|Laptop|    5|\n",
            "|   Mic|   10|\n",
            "|Mobile|    5|\n",
            "+------+-----+\n",
            "\n"
          ]
        }
      ]
    },
    {
      "cell_type": "markdown",
      "source": [
        "## UDFs no DataFrame"
      ],
      "metadata": {
        "id": "tqCQKiVnx0SV"
      }
    },
    {
      "cell_type": "code",
      "source": [
        "from pyspark.sql import SparkSession\n",
        "from pyspark.sql.functions import col, lit\n",
        "from pyspark.sql.types import IntegerType\n",
        "from pyspark.sql.functions import udf\n",
        "spark = SparkSession.builder.appName(\"Spark DataFrames\").getOrCreate()\n",
        "df = spark.read.options(header = 'True', inferSchema = 'True').csv('/content/drive/MyDrive/PySpark/data/OfficeData.csv')\n",
        "df.show()"
      ],
      "metadata": {
        "colab": {
          "base_uri": "https://localhost:8080/"
        },
        "id": "4eVnuztlx3YC",
        "outputId": "cff77518-d063-4d9d-ee7d-76ad69b248d7"
      },
      "execution_count": null,
      "outputs": [
        {
          "output_type": "stream",
          "name": "stdout",
          "text": [
            "+-------------+----------+-----+------+---+-----+\n",
            "|employee_name|department|state|salary|age|bonus|\n",
            "+-------------+----------+-----+------+---+-----+\n",
            "|        James|     Sales|   NY| 90000| 34|10000|\n",
            "|      Michael|     Sales|   NY| 86000| 56|20000|\n",
            "|       Robert|     Sales|   CA| 81000| 30|23000|\n",
            "|        Maria|   Finance|   CA| 90000| 24|23000|\n",
            "|        Raman|   Finance|   CA| 99000| 40|24000|\n",
            "|        Scott|   Finance|   NY| 83000| 36|19000|\n",
            "|          Jen|   Finance|   NY| 79000| 53|15000|\n",
            "|         Jeff| Marketing|   CA| 80000| 25|18000|\n",
            "|        Kumar| Marketing|   NY| 91000| 50|21000|\n",
            "+-------------+----------+-----+------+---+-----+\n",
            "\n"
          ]
        }
      ]
    },
    {
      "cell_type": "code",
      "source": [
        "def get_total_salary(salary, bonus):\n",
        "    return salary + bonus\n",
        "\n",
        "totalSalaryUDF = udf(lambda x,y: get_total_salary(x,y), IntegerType())\n",
        "\n",
        "df.withColumn(\"total_salary\", totalSalaryUDF(df.salary, df.bonus)).show()"
      ],
      "metadata": {
        "colab": {
          "base_uri": "https://localhost:8080/"
        },
        "id": "pmzbBNsIzhIT",
        "outputId": "4e85bf86-1f64-4064-8a78-3830800e03d7"
      },
      "execution_count": null,
      "outputs": [
        {
          "output_type": "stream",
          "name": "stdout",
          "text": [
            "+-------------+----------+-----+------+---+-----+------------+\n",
            "|employee_name|department|state|salary|age|bonus|total_salary|\n",
            "+-------------+----------+-----+------+---+-----+------------+\n",
            "|        James|     Sales|   NY| 90000| 34|10000|      100000|\n",
            "|      Michael|     Sales|   NY| 86000| 56|20000|      106000|\n",
            "|       Robert|     Sales|   CA| 81000| 30|23000|      104000|\n",
            "|        Maria|   Finance|   CA| 90000| 24|23000|      113000|\n",
            "|        Raman|   Finance|   CA| 99000| 40|24000|      123000|\n",
            "|        Scott|   Finance|   NY| 83000| 36|19000|      102000|\n",
            "|          Jen|   Finance|   NY| 79000| 53|15000|       94000|\n",
            "|         Jeff| Marketing|   CA| 80000| 25|18000|       98000|\n",
            "|        Kumar| Marketing|   NY| 91000| 50|21000|      112000|\n",
            "+-------------+----------+-----+------+---+-----+------------+\n",
            "\n"
          ]
        }
      ]
    },
    {
      "cell_type": "markdown",
      "source": [
        "### Exemplo\n",
        "\n",
        "* Crie um novo incremento de coluna e forneça o incremento aos funcionários nos seguintes critérios\n",
        "\n",
        "* se o funcionário estiver no estado de NY, seu incremento seria de 10% do salário mais 5% de bônus\n",
        "\n",
        "* Se o funcionário estiver no estado de CA, seu incremento será de 12% do salário mais 3% de bônus"
      ],
      "metadata": {
        "id": "_d-8cVEp5-pf"
      }
    },
    {
      "cell_type": "code",
      "source": [
        "from pyspark.sql import SparkSession\n",
        "from pyspark.sql.functions import col, lit\n",
        "from pyspark.sql.types import DoubleType\n",
        "from pyspark.sql.functions import udf\n",
        "spark = SparkSession.builder.appName(\"Spark DataFrames\").getOrCreate()\n",
        "df = spark.read.options(header = 'True', inferSchema = 'True').csv('/content/drive/MyDrive/PySpark/data/OfficeData.csv')\n",
        "df.show()"
      ],
      "metadata": {
        "colab": {
          "base_uri": "https://localhost:8080/"
        },
        "id": "qOjmiPyaavbj",
        "outputId": "3b3dbf4c-2d79-440b-9465-4d2757c6783a"
      },
      "execution_count": null,
      "outputs": [
        {
          "output_type": "stream",
          "name": "stdout",
          "text": [
            "+-------------+----------+-----+------+---+-----+\n",
            "|employee_name|department|state|salary|age|bonus|\n",
            "+-------------+----------+-----+------+---+-----+\n",
            "|        James|     Sales|   NY| 90000| 34|10000|\n",
            "|      Michael|     Sales|   NY| 86000| 56|20000|\n",
            "|       Robert|     Sales|   CA| 81000| 30|23000|\n",
            "|        Maria|   Finance|   CA| 90000| 24|23000|\n",
            "|        Raman|   Finance|   CA| 99000| 40|24000|\n",
            "|        Scott|   Finance|   NY| 83000| 36|19000|\n",
            "|          Jen|   Finance|   NY| 79000| 53|15000|\n",
            "|         Jeff| Marketing|   CA| 80000| 25|18000|\n",
            "|        Kumar| Marketing|   NY| 91000| 50|21000|\n",
            "+-------------+----------+-----+------+---+-----+\n",
            "\n"
          ]
        }
      ]
    },
    {
      "cell_type": "code",
      "source": [
        "def UP_Salary(state, salary, bonus):\n",
        "    sum = 0\n",
        "    if (state == \"NY\"):\n",
        "        sum = salary*0.10\n",
        "        sum += bonus*0.05\n",
        "    elif (state == \"CA\"):\n",
        "        sum = salary*0.12\n",
        "        sum += bonus*0.03\n",
        "    return sum\n",
        "\n",
        "incrUDF = udf(lambda x,y,z: UP_Salary(x,y,z), DoubleType())\n",
        "\n",
        "df.withColumn(\"increment\", incrUDF(df.state, df.salary, df.bonus),).show()\n",
        "\n"
      ],
      "metadata": {
        "colab": {
          "base_uri": "https://localhost:8080/"
        },
        "id": "Nscu9pf06esg",
        "outputId": "daf384e2-46f1-44a4-cca2-30f1a4da8514"
      },
      "execution_count": null,
      "outputs": [
        {
          "output_type": "stream",
          "name": "stdout",
          "text": [
            "+-------------+----------+-----+------+---+-----+---------+\n",
            "|employee_name|department|state|salary|age|bonus|increment|\n",
            "+-------------+----------+-----+------+---+-----+---------+\n",
            "|        James|     Sales|   NY| 90000| 34|10000|   9500.0|\n",
            "|      Michael|     Sales|   NY| 86000| 56|20000|   9600.0|\n",
            "|       Robert|     Sales|   CA| 81000| 30|23000|  10410.0|\n",
            "|        Maria|   Finance|   CA| 90000| 24|23000|  11490.0|\n",
            "|        Raman|   Finance|   CA| 99000| 40|24000|  12600.0|\n",
            "|        Scott|   Finance|   NY| 83000| 36|19000|   9250.0|\n",
            "|          Jen|   Finance|   NY| 79000| 53|15000|   8650.0|\n",
            "|         Jeff| Marketing|   CA| 80000| 25|18000|  10140.0|\n",
            "|        Kumar| Marketing|   NY| 91000| 50|21000|  10150.0|\n",
            "+-------------+----------+-----+------+---+-----+---------+\n",
            "\n"
          ]
        }
      ]
    },
    {
      "cell_type": "markdown",
      "source": [
        "## Cache e Persist"
      ],
      "metadata": {
        "id": "qqMVX2LGboTR"
      }
    },
    {
      "cell_type": "code",
      "source": [
        "from pyspark.sql import SparkSession\n",
        "from pyspark.sql.functions import col, lit\n",
        "from pyspark.sql.types import DoubleType\n",
        "from pyspark.sql.functions import udf\n",
        "spark = SparkSession.builder.appName(\"Spark DataFrames\").getOrCreate()\n",
        "df = spark.read.options(header = 'True', inferSchema = 'True').csv('/content/drive/MyDrive/PySpark/data/StudentData.csv')\n",
        "df.show()"
      ],
      "metadata": {
        "colab": {
          "base_uri": "https://localhost:8080/"
        },
        "id": "lnFo37TQbqHU",
        "outputId": "6a57aabd-67ab-4b19-e487-9866268da0fd"
      },
      "execution_count": null,
      "outputs": [
        {
          "output_type": "stream",
          "name": "stdout",
          "text": [
            "+---+------+----------------+------+------+-----+--------------------+\n",
            "|age|gender|            name|course|  roll|marks|               email|\n",
            "+---+------+----------------+------+------+-----+--------------------+\n",
            "| 28|Female| Hubert Oliveras|    DB|  2984|   59|Annika Hoffman_Na...|\n",
            "| 29|Female|Toshiko Hillyard| Cloud| 12899|   62|Margene Moores_Ma...|\n",
            "| 28|  Male|  Celeste Lollis|    PF| 21267|   45|Jeannetta Golden_...|\n",
            "| 29|Female|    Elenore Choy|    DB| 32877|   29|Billi Clore_Mitzi...|\n",
            "| 28|  Male|  Sheryll Towler|   DSA| 41487|   41|Claude Panos_Judi...|\n",
            "| 28|  Male|  Margene Moores|   MVC| 52771|   32|Toshiko Hillyard_...|\n",
            "| 28|  Male|     Neda Briski|   OOP| 61973|   69|Alberta Freund_El...|\n",
            "| 28|Female|    Claude Panos| Cloud| 72409|   85|Sheryll Towler_Al...|\n",
            "| 28|  Male|  Celeste Lollis|   MVC| 81492|   64|Nicole Harwood_Cl...|\n",
            "| 29|  Male|  Cordie Harnois|   OOP| 92882|   51|Judie Chipps_Clem...|\n",
            "| 29|Female|       Kena Wild|   DSA|102285|   35|Dustin Feagins_Ma...|\n",
            "| 29|  Male| Ernest Rossbach|    DB|111449|   53|Maybell Duguay_Ab...|\n",
            "| 28|Female|  Latia Vanhoose|    DB|122502|   27|Latia Vanhoose_Mi...|\n",
            "| 29|Female|  Latia Vanhoose|   MVC|132110|   55|Eda Neathery_Nico...|\n",
            "| 29|  Male|     Neda Briski|    PF|141770|   42|Margene Moores_Mi...|\n",
            "| 29|Female|  Latia Vanhoose|    DB|152159|   27|Claude Panos_Sant...|\n",
            "| 29|  Male|  Loris Crossett|   MVC|161771|   36|Mitzi Seldon_Jenn...|\n",
            "| 29|  Male|  Annika Hoffman|   OOP|171660|   22|Taryn Brownlee_Mi...|\n",
            "| 29|  Male|   Santa Kerfien|    PF|182129|   56|Judie Chipps_Tary...|\n",
            "| 28|Female|Mickey Cortright|    DB|192537|   62|Ernest Rossbach_M...|\n",
            "+---+------+----------------+------+------+-----+--------------------+\n",
            "only showing top 20 rows\n",
            "\n"
          ]
        }
      ]
    },
    {
      "cell_type": "code",
      "source": [
        "df = df.groupBy(\"course\", \"gender\", \"age\").count()"
      ],
      "metadata": {
        "id": "ugN3xRBFdfK7"
      },
      "execution_count": null,
      "outputs": []
    },
    {
      "cell_type": "code",
      "source": [
        "df = df.withColumn(\"dummy\", col(\"age\")*100)"
      ],
      "metadata": {
        "id": "6vxoY6oVdpHM"
      },
      "execution_count": null,
      "outputs": []
    },
    {
      "cell_type": "code",
      "source": [
        "df.show()"
      ],
      "metadata": {
        "colab": {
          "base_uri": "https://localhost:8080/"
        },
        "id": "ax4uNsyHd-Ag",
        "outputId": "9d09a9be-6290-4212-b238-af57f4b46d21"
      },
      "execution_count": null,
      "outputs": [
        {
          "output_type": "stream",
          "name": "stdout",
          "text": [
            "+------+------+---+-----+-----+\n",
            "|course|gender|age|count|dummy|\n",
            "+------+------+---+-----+-----+\n",
            "| Cloud|Female| 29|   49| 2900|\n",
            "|   DSA|Female| 28|   47| 2800|\n",
            "|    PF|Female| 29|   34| 2900|\n",
            "|   OOP|Female| 29|   39| 2900|\n",
            "|   DSA|Female| 29|   51| 2900|\n",
            "|    PF|Female| 28|   35| 2800|\n",
            "|   MVC|Female| 28|   34| 2800|\n",
            "|    DB|  Male| 28|   42| 2800|\n",
            "|   OOP|  Male| 29|   35| 2900|\n",
            "|   MVC|  Male| 29|   48| 2900|\n",
            "|   MVC|Female| 29|   37| 2900|\n",
            "|    DB|Female| 29|   35| 2900|\n",
            "|   OOP|Female| 28|   43| 2800|\n",
            "| Cloud|Female| 28|   57| 2800|\n",
            "| Cloud|  Male| 29|   43| 2900|\n",
            "|    PF|  Male| 28|   44| 2800|\n",
            "|   DSA|  Male| 28|   36| 2800|\n",
            "|    DB|Female| 28|   40| 2800|\n",
            "|    DB|  Male| 29|   40| 2900|\n",
            "|    PF|  Male| 29|   53| 2900|\n",
            "+------+------+---+-----+-----+\n",
            "only showing top 20 rows\n",
            "\n"
          ]
        }
      ]
    },
    {
      "cell_type": "code",
      "source": [
        "df.cache()"
      ],
      "metadata": {
        "colab": {
          "base_uri": "https://localhost:8080/"
        },
        "id": "EWXIWiZhd_uX",
        "outputId": "4ca51009-47ea-4993-84c0-2ab51326d185"
      },
      "execution_count": null,
      "outputs": [
        {
          "output_type": "execute_result",
          "data": {
            "text/plain": [
              "DataFrame[course: string, gender: string, age: int, count: bigint, dummy: int]"
            ]
          },
          "metadata": {},
          "execution_count": 31
        }
      ]
    },
    {
      "cell_type": "code",
      "source": [
        "df.show()"
      ],
      "metadata": {
        "colab": {
          "base_uri": "https://localhost:8080/"
        },
        "id": "vJZdm0SDeBnV",
        "outputId": "ff9482fa-26c4-4b9b-fc99-3005d924e9d6"
      },
      "execution_count": null,
      "outputs": [
        {
          "output_type": "stream",
          "name": "stdout",
          "text": [
            "+------+------+---+-----+-----+\n",
            "|course|gender|age|count|dummy|\n",
            "+------+------+---+-----+-----+\n",
            "| Cloud|Female| 29|   49| 2900|\n",
            "|   DSA|Female| 28|   47| 2800|\n",
            "|    PF|Female| 29|   34| 2900|\n",
            "|   OOP|Female| 29|   39| 2900|\n",
            "|   DSA|Female| 29|   51| 2900|\n",
            "|    PF|Female| 28|   35| 2800|\n",
            "|   MVC|Female| 28|   34| 2800|\n",
            "|    DB|  Male| 28|   42| 2800|\n",
            "|   OOP|  Male| 29|   35| 2900|\n",
            "|   MVC|  Male| 29|   48| 2900|\n",
            "|   MVC|Female| 29|   37| 2900|\n",
            "|    DB|Female| 29|   35| 2900|\n",
            "|   OOP|Female| 28|   43| 2800|\n",
            "| Cloud|Female| 28|   57| 2800|\n",
            "| Cloud|  Male| 29|   43| 2900|\n",
            "|    PF|  Male| 28|   44| 2800|\n",
            "|   DSA|  Male| 28|   36| 2800|\n",
            "|    DB|Female| 28|   40| 2800|\n",
            "|    DB|  Male| 29|   40| 2900|\n",
            "|    PF|  Male| 29|   53| 2900|\n",
            "+------+------+---+-----+-----+\n",
            "only showing top 20 rows\n",
            "\n"
          ]
        }
      ]
    },
    {
      "cell_type": "markdown",
      "source": [
        "## DF para RDD"
      ],
      "metadata": {
        "id": "uY2RPf9fekWt"
      }
    },
    {
      "cell_type": "code",
      "source": [
        "from pyspark.sql import SparkSession\n",
        "from pyspark.sql.functions import col, lit\n",
        "spark = SparkSession.builder.appName(\"Spark DataFrames\").getOrCreate()\n",
        "df = spark.read.options(header = 'True', inferSchema = 'True').csv('/content/drive/MyDrive/PySpark/data/StudentData.csv')\n",
        "df.show()"
      ],
      "metadata": {
        "colab": {
          "base_uri": "https://localhost:8080/"
        },
        "id": "c4KqPYIVeo8n",
        "outputId": "298af064-7a7a-442c-f589-8db5fb2635df"
      },
      "execution_count": null,
      "outputs": [
        {
          "output_type": "stream",
          "name": "stdout",
          "text": [
            "+---+------+----------------+------+------+-----+--------------------+\n",
            "|age|gender|            name|course|  roll|marks|               email|\n",
            "+---+------+----------------+------+------+-----+--------------------+\n",
            "| 28|Female| Hubert Oliveras|    DB|  2984|   59|Annika Hoffman_Na...|\n",
            "| 29|Female|Toshiko Hillyard| Cloud| 12899|   62|Margene Moores_Ma...|\n",
            "| 28|  Male|  Celeste Lollis|    PF| 21267|   45|Jeannetta Golden_...|\n",
            "| 29|Female|    Elenore Choy|    DB| 32877|   29|Billi Clore_Mitzi...|\n",
            "| 28|  Male|  Sheryll Towler|   DSA| 41487|   41|Claude Panos_Judi...|\n",
            "| 28|  Male|  Margene Moores|   MVC| 52771|   32|Toshiko Hillyard_...|\n",
            "| 28|  Male|     Neda Briski|   OOP| 61973|   69|Alberta Freund_El...|\n",
            "| 28|Female|    Claude Panos| Cloud| 72409|   85|Sheryll Towler_Al...|\n",
            "| 28|  Male|  Celeste Lollis|   MVC| 81492|   64|Nicole Harwood_Cl...|\n",
            "| 29|  Male|  Cordie Harnois|   OOP| 92882|   51|Judie Chipps_Clem...|\n",
            "| 29|Female|       Kena Wild|   DSA|102285|   35|Dustin Feagins_Ma...|\n",
            "| 29|  Male| Ernest Rossbach|    DB|111449|   53|Maybell Duguay_Ab...|\n",
            "| 28|Female|  Latia Vanhoose|    DB|122502|   27|Latia Vanhoose_Mi...|\n",
            "| 29|Female|  Latia Vanhoose|   MVC|132110|   55|Eda Neathery_Nico...|\n",
            "| 29|  Male|     Neda Briski|    PF|141770|   42|Margene Moores_Mi...|\n",
            "| 29|Female|  Latia Vanhoose|    DB|152159|   27|Claude Panos_Sant...|\n",
            "| 29|  Male|  Loris Crossett|   MVC|161771|   36|Mitzi Seldon_Jenn...|\n",
            "| 29|  Male|  Annika Hoffman|   OOP|171660|   22|Taryn Brownlee_Mi...|\n",
            "| 29|  Male|   Santa Kerfien|    PF|182129|   56|Judie Chipps_Tary...|\n",
            "| 28|Female|Mickey Cortright|    DB|192537|   62|Ernest Rossbach_M...|\n",
            "+---+------+----------------+------+------+-----+--------------------+\n",
            "only showing top 20 rows\n",
            "\n"
          ]
        }
      ]
    },
    {
      "cell_type": "code",
      "source": [
        "type(df)"
      ],
      "metadata": {
        "colab": {
          "base_uri": "https://localhost:8080/"
        },
        "id": "vtuTo5RJfIWW",
        "outputId": "cab98c87-9dd5-4df7-e2c6-3d996949694f"
      },
      "execution_count": null,
      "outputs": [
        {
          "output_type": "execute_result",
          "data": {
            "text/plain": [
              "pyspark.sql.dataframe.DataFrame"
            ]
          },
          "metadata": {},
          "execution_count": 35
        }
      ]
    },
    {
      "cell_type": "code",
      "source": [
        "rdd = df.rdd"
      ],
      "metadata": {
        "id": "PFGH1NF9fLee"
      },
      "execution_count": null,
      "outputs": []
    },
    {
      "cell_type": "code",
      "source": [
        "type(rdd)"
      ],
      "metadata": {
        "colab": {
          "base_uri": "https://localhost:8080/"
        },
        "id": "710mMZMwfQgF",
        "outputId": "be105f1b-8279-4226-b7fb-da78bbc0f2a4"
      },
      "execution_count": null,
      "outputs": [
        {
          "output_type": "execute_result",
          "data": {
            "text/plain": [
              "pyspark.rdd.RDD"
            ]
          },
          "metadata": {},
          "execution_count": 37
        }
      ]
    },
    {
      "cell_type": "code",
      "source": [
        "rdd.collect()"
      ],
      "metadata": {
        "colab": {
          "base_uri": "https://localhost:8080/"
        },
        "id": "-wponqa3fVAz",
        "outputId": "dae36688-af40-4c31-c351-ae23752ecdab"
      },
      "execution_count": null,
      "outputs": [
        {
          "output_type": "execute_result",
          "data": {
            "text/plain": [
              "[Row(age=28, gender='Female', name='Hubert Oliveras', course='DB', roll=2984, marks=59, email='Annika Hoffman_Naoma Fritts@OOP.com'),\n",
              " Row(age=29, gender='Female', name='Toshiko Hillyard', course='Cloud', roll=12899, marks=62, email='Margene Moores_Marylee Capasso@DB.com'),\n",
              " Row(age=28, gender='Male', name='Celeste Lollis', course='PF', roll=21267, marks=45, email='Jeannetta Golden_Jenna Montague@DSA.com'),\n",
              " Row(age=29, gender='Female', name='Elenore Choy', course='DB', roll=32877, marks=29, email='Billi Clore_Mitzi Seldon@DB.com'),\n",
              " Row(age=28, gender='Male', name='Sheryll Towler', course='DSA', roll=41487, marks=41, email='Claude Panos_Judie Chipps@OOP.com'),\n",
              " Row(age=28, gender='Male', name='Margene Moores', course='MVC', roll=52771, marks=32, email='Toshiko Hillyard_Clementina Menke@MVC.com'),\n",
              " Row(age=28, gender='Male', name='Neda Briski', course='OOP', roll=61973, marks=69, email='Alberta Freund_Elenore Choy@DB.com'),\n",
              " Row(age=28, gender='Female', name='Claude Panos', course='Cloud', roll=72409, marks=85, email='Sheryll Towler_Alberta Freund@Cloud.com'),\n",
              " Row(age=28, gender='Male', name='Celeste Lollis', course='MVC', roll=81492, marks=64, email='Nicole Harwood_Claude Panos@MVC.com'),\n",
              " Row(age=29, gender='Male', name='Cordie Harnois', course='OOP', roll=92882, marks=51, email='Judie Chipps_Clementina Menke@MVC.com'),\n",
              " Row(age=29, gender='Female', name='Kena Wild', course='DSA', roll=102285, marks=35, email='Dustin Feagins_Margene Moores@OOP.com'),\n",
              " Row(age=29, gender='Male', name='Ernest Rossbach', course='DB', roll=111449, marks=53, email='Maybell Duguay_Abram Nagao@OOP.com'),\n",
              " Row(age=28, gender='Female', name='Latia Vanhoose', course='DB', roll=122502, marks=27, email='Latia Vanhoose_Mitzi Seldon@OOP.com'),\n",
              " Row(age=29, gender='Female', name='Latia Vanhoose', course='MVC', roll=132110, marks=55, email='Eda Neathery_Nicole Harwood@Cloud.com'),\n",
              " Row(age=29, gender='Male', name='Neda Briski', course='PF', roll=141770, marks=42, email='Margene Moores_Michelle Ruggiero@MVC.com'),\n",
              " Row(age=29, gender='Female', name='Latia Vanhoose', course='DB', roll=152159, marks=27, email='Claude Panos_Santa Kerfien@DB.com'),\n",
              " Row(age=29, gender='Male', name='Loris Crossett', course='MVC', roll=161771, marks=36, email='Mitzi Seldon_Jenna Montague@MVC.com'),\n",
              " Row(age=29, gender='Male', name='Annika Hoffman', course='OOP', roll=171660, marks=22, email='Taryn Brownlee_Mitzi Seldon@MVC.com'),\n",
              " Row(age=29, gender='Male', name='Santa Kerfien', course='PF', roll=182129, marks=56, email='Judie Chipps_Taryn Brownlee@Cloud.com'),\n",
              " Row(age=28, gender='Female', name='Mickey Cortright', course='DB', roll=192537, marks=62, email='Ernest Rossbach_Marylee Capasso@Cloud.com'),\n",
              " Row(age=29, gender='Female', name='Loris Crossett', course='PF', roll=201487, marks=96, email='Elenore Choy_Latia Vanhoose@Cloud.com'),\n",
              " Row(age=29, gender='Female', name='Niki Klimek', course='PF', roll=211508, marks=23, email='Cordie Harnois_Judie Chipps@PF.com'),\n",
              " Row(age=28, gender='Female', name='Kena Wild', course='Cloud', roll=221750, marks=60, email='Mitzi Seldon_Jenna Montague@DSA.com'),\n",
              " Row(age=28, gender='Female', name='Jc Andrepont', course='DSA', roll=232060, marks=58, email='Billi Clore_Abram Nagao@MVC.com'),\n",
              " Row(age=29, gender='Female', name='Anna Santos', course='Cloud', roll=242254, marks=68, email='Jc Andrepont_Hubert Oliveras@Cloud.com'),\n",
              " Row(age=28, gender='Female', name='Alberta Freund', course='OOP', roll=251805, marks=83, email='Annika Hoffman_Sheryll Towler@MVC.com'),\n",
              " Row(age=28, gender='Female', name='Maybell Duguay', course='Cloud', roll=261439, marks=20, email='Nicole Harwood_Judie Chipps@DB.com'),\n",
              " Row(age=29, gender='Female', name='Paris Hutton', course='DSA', roll=271472, marks=99, email='Sheryll Towler_Alberta Freund@DSA.com'),\n",
              " Row(age=29, gender='Female', name='Cheri Kenney', course='Cloud', roll=281408, marks=43, email='Annika Hoffman_Melani Engberg@Cloud.com'),\n",
              " Row(age=28, gender='Female', name='Dustin Feagins', course='DSA', roll=291984, marks=82, email='Abram Nagao_Kena Wild@Cloud.com'),\n",
              " Row(age=29, gender='Female', name='Claude Panos', course='Cloud', roll=302130, marks=59, email='Sheryll Towler_Leontine Phillips@PF.com'),\n",
              " Row(age=28, gender='Female', name='Anna Santos', course='DB', roll=311589, marks=79, email='Celeste Lollis_Mickey Cortright@DSA.com'),\n",
              " Row(age=28, gender='Female', name='Cheri Kenney', course='MVC', roll=321816, marks=24, email='Kena Wild_Michelle Ruggiero@DB.com'),\n",
              " Row(age=28, gender='Female', name='Loris Crossett', course='PF', roll=332739, marks=62, email='Michelle Ruggiero_Clementina Menke@DB.com'),\n",
              " Row(age=28, gender='Female', name='Mickey Cortright', course='DSA', roll=342003, marks=44, email='Mitzi Seldon_Jeannetta Golden@PF.com'),\n",
              " Row(age=28, gender='Male', name='Hubert Oliveras', course='OOP', roll=351719, marks=63, email='Lawanda Wohlwend_Abram Nagao@MVC.com'),\n",
              " Row(age=28, gender='Male', name='Sebrina Maresca', course='PF', roll=361316, marks=62, email='Nicole Harwood_Latia Vanhoose@DB.com'),\n",
              " Row(age=29, gender='Male', name='Jalisa Swenson', course='PF', roll=372873, marks=45, email='Ernest Rossbach_Toshiko Hillyard@DB.com'),\n",
              " Row(age=28, gender='Male', name='Kizzy Brenner', course='DB', roll=381712, marks=36, email='Paris Hutton_Kena Wild@MVC.com'),\n",
              " Row(age=28, gender='Male', name='Toshiko Hillyard', course='DB', roll=392218, marks=47, email='Leontine Phillips_Billi Clore@MVC.com'),\n",
              " Row(age=28, gender='Female', name='Kizzy Brenner', course='Cloud', roll=402409, marks=27, email='Ernest Rossbach_Gonzalo Ferebee@OOP.com'),\n",
              " Row(age=29, gender='Female', name='Anna Santos', course='DSA', roll=411479, marks=42, email='Kena Wild_Mitzi Seldon@DB.com'),\n",
              " Row(age=28, gender='Male', name='Elenore Choy', course='PF', roll=422704, marks=66, email='Marylee Capasso_Nicole Harwood@MVC.com'),\n",
              " Row(age=28, gender='Female', name='Jalisa Swenson', course='OOP', roll=431352, marks=25, email='Gonzalo Ferebee_Judie Chipps@DB.com'),\n",
              " Row(age=29, gender='Female', name='Somer Stoecker', course='Cloud', roll=442028, marks=34, email='Taryn Brownlee_Taryn Brownlee@MVC.com'),\n",
              " Row(age=28, gender='Female', name='Maybell Duguay', course='DSA', roll=452141, marks=29, email='Leontine Phillips_Elenore Choy@Cloud.com'),\n",
              " Row(age=28, gender='Male', name='Dustin Feagins', course='PF', roll=461839, marks=51, email='Neda Briski_Elenore Choy@Cloud.com'),\n",
              " Row(age=29, gender='Male', name='Annika Hoffman', course='OOP', roll=472550, marks=35, email='Mitzi Seldon_Abram Nagao@DSA.com'),\n",
              " Row(age=29, gender='Male', name='Paris Hutton', course='DB', roll=481229, marks=57, email='Clementina Menke_Paris Hutton@MVC.com'),\n",
              " Row(age=29, gender='Female', name='Paris Hutton', course='DSA', roll=492159, marks=60, email='Nicole Harwood_Marylee Capasso@OOP.com'),\n",
              " Row(age=29, gender='Female', name='Jenna Montague', course='MVC', roll=502585, marks=43, email='Hubert Oliveras_Jc Andrepont@DSA.com'),\n",
              " Row(age=29, gender='Male', name='Billi Clore', course='Cloud', roll=512047, marks=76, email='Taryn Brownlee_Judie Chipps@DSA.com'),\n",
              " Row(age=29, gender='Male', name='Toshiko Hillyard', course='OOP', roll=521221, marks=77, email='Hubert Oliveras_Latia Vanhoose@MVC.com'),\n",
              " Row(age=28, gender='Male', name='Margene Moores', course='PF', roll=531530, marks=53, email='Cheri Kenney_Melani Engberg@OOP.com'),\n",
              " Row(age=29, gender='Female', name='Claude Panos', course='OOP', roll=542821, marks=28, email='Hubert Oliveras_Priscila Tavernier@PF.com'),\n",
              " Row(age=28, gender='Female', name='Mickey Cortright', course='DB', roll=551389, marks=43, email='Tijuana Kropf_Jenna Montague@DB.com'),\n",
              " Row(age=29, gender='Male', name='Celeste Lollis', course='DSA', roll=562065, marks=85, email='Jc Andrepont_Melani Engberg@OOP.com'),\n",
              " Row(age=28, gender='Female', name='Tijuana Kropf', course='PF', roll=571047, marks=41, email='Loris Crossett_Sebrina Maresca@PF.com'),\n",
              " Row(age=28, gender='Male', name='Marylee Capasso', course='OOP', roll=581756, marks=52, email='Jeannetta Golden_Loris Crossett@MVC.com'),\n",
              " Row(age=29, gender='Male', name='Maybell Duguay', course='DSA', roll=592061, marks=83, email='Eda Neathery_Jenna Montague@Cloud.com'),\n",
              " Row(age=28, gender='Female', name='Leontine Phillips', course='DB', roll=602404, marks=48, email='Neda Briski_Cheri Kenney@PF.com'),\n",
              " Row(age=28, gender='Female', name='Somer Stoecker', course='Cloud', roll=612490, marks=82, email='Sebrina Maresca_Gonzalo Ferebee@DSA.com'),\n",
              " Row(age=28, gender='Male', name='Mitzi Seldon', course='DSA', roll=622981, marks=45, email='Lawanda Wohlwend_Loris Crossett@DSA.com'),\n",
              " Row(age=29, gender='Female', name='Judie Chipps', course='Cloud', roll=632793, marks=75, email='Tijuana Kropf_Elenore Choy@PF.com'),\n",
              " Row(age=28, gender='Male', name='Priscila Tavernier', course='PF', roll=642594, marks=27, email='Marylee Capasso_Claude Panos@DSA.com'),\n",
              " Row(age=29, gender='Male', name='Tamera Blakley', course='MVC', roll=651649, marks=92, email='Latia Vanhoose_Toshiko Hillyard@MVC.com'),\n",
              " Row(age=28, gender='Male', name='Sheryll Towler', course='MVC', roll=661079, marks=89, email='Tijuana Kropf_Mickey Cortright@DB.com'),\n",
              " Row(age=29, gender='Male', name='Hubert Oliveras', course='MVC', roll=672451, marks=28, email='Annika Hoffman_Mickey Cortright@DSA.com'),\n",
              " Row(age=29, gender='Male', name='Sheryll Towler', course='PF', roll=682533, marks=42, email='Billi Clore_Anna Santos@PF.com'),\n",
              " Row(age=28, gender='Female', name='Jenna Montague', course='DSA', roll=691564, marks=26, email='Mitzi Seldon_Sebrina Maresca@Cloud.com'),\n",
              " Row(age=29, gender='Male', name='Maybell Duguay', course='PF', roll=701486, marks=99, email='Clementina Menke_Latia Vanhoose@Cloud.com'),\n",
              " Row(age=29, gender='Male', name='Jenna Montague', course='MVC', roll=711153, marks=45, email='Marylee Capasso_Hubert Oliveras@DB.com'),\n",
              " Row(age=28, gender='Male', name='Annika Hoffman', course='Cloud', roll=722193, marks=55, email='Taryn Brownlee_Elenore Choy@DB.com'),\n",
              " Row(age=28, gender='Female', name='Celeste Lollis', course='DSA', roll=731879, marks=76, email='Hubert Oliveras_Gonzalo Ferebee@DSA.com'),\n",
              " Row(age=29, gender='Male', name='Jeannetta Golden', course='MVC', roll=741875, marks=57, email='Sheryll Towler_Cheri Kenney@DSA.com'),\n",
              " Row(age=29, gender='Male', name='Paris Hutton', course='MVC', roll=752504, marks=22, email='Elenore Choy_Elenore Choy@DB.com'),\n",
              " Row(age=29, gender='Female', name='Margene Moores', course='MVC', roll=761843, marks=48, email='Ernest Rossbach_Mickey Cortright@DSA.com'),\n",
              " Row(age=28, gender='Female', name='Hubert Oliveras', course='DB', roll=771081, marks=79, email='Kizzy Brenner_Dustin Feagins@MVC.com'),\n",
              " Row(age=28, gender='Male', name='Alberta Freund', course='PF', roll=781061, marks=75, email='Leontine Phillips_Bonita Higuera@PF.com'),\n",
              " Row(age=29, gender='Female', name='Billi Clore', course='OOP', roll=791519, marks=93, email='Elenore Choy_Jalisa Swenson@MVC.com'),\n",
              " Row(age=28, gender='Female', name='Billi Clore', course='Cloud', roll=801693, marks=38, email='Niki Klimek_Kizzy Brenner@DB.com'),\n",
              " Row(age=29, gender='Female', name='Elenore Choy', course='DB', roll=811824, marks=55, email='Maybell Duguay_Melani Engberg@DB.com'),\n",
              " Row(age=28, gender='Male', name='Anna Santos', course='OOP', roll=822396, marks=47, email='Leontine Phillips_Gonzalo Ferebee@Cloud.com'),\n",
              " Row(age=28, gender='Male', name='Sheryll Towler', course='DSA', roll=831562, marks=59, email='Kena Wild_Gonzalo Ferebee@Cloud.com'),\n",
              " Row(age=29, gender='Male', name='Neda Briski', course='PF', roll=842515, marks=68, email='Neda Briski_Hubert Oliveras@OOP.com'),\n",
              " Row(age=28, gender='Female', name='Santa Kerfien', course='Cloud', roll=851620, marks=34, email='Melani Engberg_Sheryll Towler@PF.com'),\n",
              " Row(age=29, gender='Female', name='Taryn Brownlee', course='MVC', roll=861849, marks=39, email='Billi Clore_Toshiko Hillyard@MVC.com'),\n",
              " Row(age=28, gender='Female', name='Sheryll Towler', course='DSA', roll=871967, marks=64, email='Michelle Ruggiero_Billi Clore@Cloud.com'),\n",
              " Row(age=29, gender='Male', name='Clementina Menke', course='DB', roll=882200, marks=76, email='Michelle Ruggiero_Jenna Montague@MVC.com'),\n",
              " Row(age=28, gender='Male', name='Margene Moores', course='DSA', roll=892010, marks=93, email='Anna Santos_Naoma Fritts@DSA.com'),\n",
              " Row(age=28, gender='Female', name='Somer Stoecker', course='DSA', roll=901958, marks=64, email='Kizzy Brenner_Jc Andrepont@DB.com'),\n",
              " Row(age=29, gender='Male', name='Loris Crossett', course='PF', roll=911593, marks=46, email='Gonzalo Ferebee_Mitzi Seldon@PF.com'),\n",
              " Row(age=29, gender='Female', name='Sebrina Maresca', course='DB', roll=922210, marks=54, email='Toshiko Hillyard_Santa Kerfien@MVC.com'),\n",
              " Row(age=29, gender='Male', name='Naoma Fritts', course='DB', roll=931295, marks=79, email='Hubert Oliveras_Sheryll Towler@DSA.com'),\n",
              " Row(age=28, gender='Female', name='Santa Kerfien', course='MVC', roll=941783, marks=94, email='Paris Hutton_Naoma Fritts@DB.com'),\n",
              " Row(age=28, gender='Female', name='Lawanda Wohlwend', course='DSA', roll=951686, marks=60, email='Loris Crossett_Nicole Harwood@DSA.com'),\n",
              " Row(age=29, gender='Male', name='Abram Nagao', course='MVC', roll=962235, marks=32, email='Jenna Montague_Gonzalo Ferebee@DSA.com'),\n",
              " Row(age=28, gender='Female', name='Jc Andrepont', course='PF', roll=972733, marks=20, email='Eda Neathery_Eda Neathery@MVC.com'),\n",
              " Row(age=29, gender='Male', name='Niki Klimek', course='PF', roll=982443, marks=94, email='Santa Kerfien_Kizzy Brenner@DB.com'),\n",
              " Row(age=28, gender='Female', name='Marylee Capasso', course='OOP', roll=991770, marks=86, email='Margene Moores_Clementina Menke@DB.com'),\n",
              " Row(age=28, gender='Male', name='Jenna Montague', course='DSA', roll=1002103, marks=36, email='Melani Engberg_Hubert Oliveras@PF.com'),\n",
              " Row(age=29, gender='Female', name='Eda Neathery', course='Cloud', roll=1011971, marks=91, email='Margene Moores_Elenore Choy@MVC.com'),\n",
              " Row(age=29, gender='Male', name='Michelle Ruggiero', course='DSA', roll=1022971, marks=99, email='Cordie Harnois_Clementina Menke@OOP.com'),\n",
              " Row(age=28, gender='Male', name='Annika Hoffman', course='DB', roll=1031544, marks=44, email='Dustin Feagins_Somer Stoecker@DB.com'),\n",
              " Row(age=29, gender='Female', name='Hubert Oliveras', course='DSA', roll=1041483, marks=28, email='Billi Clore_Santa Kerfien@DSA.com'),\n",
              " Row(age=28, gender='Male', name='Billi Clore', course='MVC', roll=1052566, marks=78, email='Naoma Fritts_Margene Moores@DSA.com'),\n",
              " Row(age=28, gender='Female', name='Nicole Harwood', course='MVC', roll=1061068, marks=82, email='Santa Kerfien_Hubert Oliveras@MVC.com'),\n",
              " Row(age=29, gender='Male', name='Clementina Menke', course='PF', roll=1071717, marks=54, email='Celeste Lollis_Leontine Phillips@OOP.com'),\n",
              " Row(age=28, gender='Female', name='Claude Panos', course='OOP', roll=1081294, marks=94, email='Kizzy Brenner_Anna Santos@OOP.com'),\n",
              " Row(age=29, gender='Male', name='Donna Yerby', course='DSA', roll=1092702, marks=79, email='Marylee Capasso_Alberta Freund@OOP.com'),\n",
              " Row(age=29, gender='Female', name='Maybell Duguay', course='MVC', roll=1102536, marks=22, email='Somer Stoecker_Marylee Capasso@OOP.com'),\n",
              " Row(age=29, gender='Male', name='Abram Nagao', course='PF', roll=1112161, marks=42, email='Nicole Harwood_Niki Klimek@DB.com'),\n",
              " Row(age=28, gender='Female', name='Bonita Higuera', course='DSA', roll=1122348, marks=51, email='Somer Stoecker_Jenna Montague@DB.com'),\n",
              " Row(age=29, gender='Female', name='Melani Engberg', course='OOP', roll=1132093, marks=76, email='Kena Wild_Neda Briski@Cloud.com'),\n",
              " Row(age=29, gender='Female', name='Marylee Capasso', course='OOP', roll=1142653, marks=61, email='Cordie Harnois_Alberta Freund@DSA.com'),\n",
              " Row(age=29, gender='Male', name='Nicole Harwood', course='Cloud', roll=1152571, marks=62, email='Latia Vanhoose_Maybell Duguay@PF.com'),\n",
              " Row(age=29, gender='Female', name='Dustin Feagins', course='OOP', roll=1161607, marks=37, email='Eda Neathery_Marylee Capasso@MVC.com'),\n",
              " Row(age=28, gender='Female', name='Niki Klimek', course='PF', roll=1172784, marks=24, email='Jeannetta Golden_Abram Nagao@MVC.com'),\n",
              " Row(age=29, gender='Female', name='Abram Nagao', course='DSA', roll=1181007, marks=57, email='Anna Santos_Anna Santos@DSA.com'),\n",
              " Row(age=28, gender='Male', name='Jalisa Swenson', course='PF', roll=1192555, marks=77, email='Marylee Capasso_Celeste Lollis@Cloud.com'),\n",
              " Row(age=29, gender='Female', name='Ernest Rossbach', course='MVC', roll=1201427, marks=80, email='Elenore Choy_Jenna Montague@OOP.com'),\n",
              " Row(age=28, gender='Male', name='Nicole Harwood', course='DB', roll=1211495, marks=28, email='Melani Engberg_Jc Andrepont@Cloud.com'),\n",
              " Row(age=29, gender='Female', name='Claude Panos', course='DB', roll=1222887, marks=75, email='Hubert Oliveras_Somer Stoecker@Cloud.com'),\n",
              " Row(age=28, gender='Female', name='Cordie Harnois', course='OOP', roll=1231943, marks=68, email='Mickey Cortright_Kizzy Brenner@OOP.com'),\n",
              " Row(age=28, gender='Male', name='Nicole Harwood', course='OOP', roll=1242426, marks=71, email='Billi Clore_Loris Crossett@Cloud.com'),\n",
              " Row(age=28, gender='Male', name='Gonzalo Ferebee', course='Cloud', roll=1251176, marks=60, email='Santa Kerfien_Tamera Blakley@PF.com'),\n",
              " Row(age=29, gender='Male', name='Jalisa Swenson', course='Cloud', roll=1261533, marks=70, email='Dustin Feagins_Nicole Harwood@PF.com'),\n",
              " Row(age=28, gender='Female', name='Eda Neathery', course='Cloud', roll=1272870, marks=69, email='Somer Stoecker_Dustin Feagins@DB.com'),\n",
              " Row(age=28, gender='Female', name='Toshiko Hillyard', course='DSA', roll=1282835, marks=79, email='Somer Stoecker_Toshiko Hillyard@OOP.com'),\n",
              " Row(age=28, gender='Male', name='Paris Hutton', course='MVC', roll=1292279, marks=26, email='Paris Hutton_Eda Neathery@DSA.com'),\n",
              " Row(age=29, gender='Female', name='Niki Klimek', course='DB', roll=1301784, marks=24, email='Celeste Lollis_Tamera Blakley@DB.com'),\n",
              " Row(age=28, gender='Male', name='Bonita Higuera', course='Cloud', roll=1312294, marks=94, email='Eda Neathery_Priscila Tavernier@PF.com'),\n",
              " Row(age=28, gender='Female', name='Leontine Phillips', course='MVC', roll=1322629, marks=87, email='Judie Chipps_Michelle Ruggiero@Cloud.com'),\n",
              " Row(age=29, gender='Male', name='Jalisa Swenson', course='PF', roll=1332072, marks=88, email='Billi Clore_Kizzy Brenner@Cloud.com'),\n",
              " Row(age=28, gender='Male', name='Clementina Menke', course='OOP', roll=1341574, marks=46, email='Elenore Choy_Mickey Cortright@DB.com'),\n",
              " Row(age=28, gender='Male', name='Gonzalo Ferebee', course='PF', roll=1352348, marks=95, email='Neda Briski_Somer Stoecker@DB.com'),\n",
              " Row(age=29, gender='Female', name='Jalisa Swenson', course='DSA', roll=1362151, marks=51, email='Lawanda Wohlwend_Jenna Montague@PF.com'),\n",
              " Row(age=28, gender='Male', name='Lawanda Wohlwend', course='PF', roll=1372552, marks=88, email='Hubert Oliveras_Tijuana Kropf@DSA.com'),\n",
              " Row(age=28, gender='Male', name='Abram Nagao', course='DSA', roll=1382959, marks=66, email='Michelle Ruggiero_Kena Wild@OOP.com'),\n",
              " Row(age=29, gender='Female', name='Hubert Oliveras', course='Cloud', roll=1392791, marks=94, email='Anna Santos_Alberta Freund@Cloud.com'),\n",
              " Row(age=28, gender='Male', name='Bonita Higuera', course='Cloud', roll=1401526, marks=24, email='Jc Andrepont_Cheri Kenney@Cloud.com'),\n",
              " Row(age=29, gender='Female', name='Clementina Menke', course='OOP', roll=1412376, marks=65, email='Elenore Choy_Latia Vanhoose@DSA.com'),\n",
              " Row(age=29, gender='Female', name='Mickey Cortright', course='Cloud', roll=1421542, marks=71, email='Latia Vanhoose_Kena Wild@OOP.com'),\n",
              " Row(age=29, gender='Female', name='Leontine Phillips', course='DB', roll=1432252, marks=67, email='Billi Clore_Sheryll Towler@DB.com'),\n",
              " Row(age=28, gender='Female', name='Nicole Harwood', course='PF', roll=1441367, marks=95, email='Jc Andrepont_Anna Santos@DSA.com'),\n",
              " Row(age=28, gender='Female', name='Gonzalo Ferebee', course='DB', roll=1451513, marks=69, email='Claude Panos_Tamera Blakley@PF.com'),\n",
              " Row(age=29, gender='Female', name='Judie Chipps', course='DB', roll=1461078, marks=31, email='Tijuana Kropf_Billi Clore@OOP.com'),\n",
              " Row(age=29, gender='Male', name='Niki Klimek', course='MVC', roll=1472917, marks=36, email='Sebrina Maresca_Sheryll Towler@MVC.com'),\n",
              " Row(age=29, gender='Female', name='Lawanda Wohlwend', course='MVC', roll=1482889, marks=65, email='Gonzalo Ferebee_Dustin Feagins@PF.com'),\n",
              " Row(age=28, gender='Male', name='Jc Andrepont', course='DSA', roll=1492828, marks=78, email='Celeste Lollis_Kizzy Brenner@MVC.com'),\n",
              " Row(age=28, gender='Female', name='Cordie Harnois', course='MVC', roll=1501333, marks=94, email='Gonzalo Ferebee_Tijuana Kropf@OOP.com'),\n",
              " Row(age=29, gender='Female', name='Taryn Brownlee', course='OOP', roll=1511213, marks=72, email='Cheri Kenney_Donna Yerby@DSA.com'),\n",
              " Row(age=28, gender='Male', name='Hubert Oliveras', course='PF', roll=1521724, marks=91, email='Eda Neathery_Jeannetta Golden@MVC.com'),\n",
              " Row(age=29, gender='Female', name='Naoma Fritts', course='MVC', roll=1532260, marks=73, email='Elenore Choy_Judie Chipps@DSA.com'),\n",
              " Row(age=28, gender='Female', name='Marylee Capasso', course='Cloud', roll=1541030, marks=58, email='Cordie Harnois_Celeste Lollis@PF.com'),\n",
              " Row(age=29, gender='Female', name='Annika Hoffman', course='OOP', roll=1551846, marks=50, email='Paris Hutton_Melani Engberg@DB.com'),\n",
              " Row(age=28, gender='Female', name='Jeannetta Golden', course='OOP', roll=1562758, marks=40, email='Jeannetta Golden_Billi Clore@Cloud.com'),\n",
              " Row(age=29, gender='Female', name='Cheri Kenney', course='MVC', roll=1571310, marks=88, email='Cordie Harnois_Lawanda Wohlwend@MVC.com'),\n",
              " Row(age=29, gender='Female', name='Jeannetta Golden', course='PF', roll=1581770, marks=39, email='Bonita Higuera_Santa Kerfien@OOP.com'),\n",
              " Row(age=28, gender='Female', name='Tamera Blakley', course='PF', roll=1591554, marks=78, email='Sebrina Maresca_Tijuana Kropf@OOP.com'),\n",
              " Row(age=28, gender='Male', name='Paris Hutton', course='MVC', roll=1602777, marks=53, email='Sheryll Towler_Loris Crossett@DSA.com'),\n",
              " Row(age=28, gender='Male', name='Marylee Capasso', course='DB', roll=1611411, marks=96, email='Annika Hoffman_Loris Crossett@PF.com'),\n",
              " Row(age=28, gender='Male', name='Anna Santos', course='OOP', roll=1621905, marks=24, email='Elenore Choy_Santa Kerfien@DB.com'),\n",
              " Row(age=28, gender='Male', name='Neda Briski', course='DSA', roll=1632185, marks=93, email='Clementina Menke_Toshiko Hillyard@Cloud.com'),\n",
              " Row(age=29, gender='Female', name='Michelle Ruggiero', course='DB', roll=1642509, marks=45, email='Hubert Oliveras_Marylee Capasso@DB.com'),\n",
              " Row(age=28, gender='Female', name='Neda Briski', course='Cloud', roll=1651303, marks=74, email='Ernest Rossbach_Donna Yerby@OOP.com'),\n",
              " Row(age=28, gender='Female', name='Loris Crossett', course='DSA', roll=1662549, marks=86, email='Paris Hutton_Latia Vanhoose@Cloud.com'),\n",
              " Row(age=29, gender='Male', name='Alberta Freund', course='DB', roll=1671638, marks=98, email='Clementina Menke_Jalisa Swenson@Cloud.com'),\n",
              " Row(age=28, gender='Female', name='Sebrina Maresca', course='MVC', roll=1681804, marks=27, email='Celeste Lollis_Ernest Rossbach@MVC.com'),\n",
              " Row(age=28, gender='Male', name='Celeste Lollis', course='DB', roll=1692106, marks=36, email='Neda Briski_Abram Nagao@MVC.com'),\n",
              " Row(age=29, gender='Female', name='Anna Santos', course='DSA', roll=1702439, marks=64, email='Naoma Fritts_Toshiko Hillyard@DB.com'),\n",
              " Row(age=28, gender='Female', name='Margene Moores', course='DSA', roll=1712967, marks=41, email='Tijuana Kropf_Sheryll Towler@DB.com'),\n",
              " Row(age=28, gender='Female', name='Priscila Tavernier', course='DB', roll=1722388, marks=86, email='Lawanda Wohlwend_Loris Crossett@DSA.com'),\n",
              " Row(age=29, gender='Female', name='Jc Andrepont', course='MVC', roll=1731652, marks=74, email='Hubert Oliveras_Michelle Ruggiero@DSA.com'),\n",
              " Row(age=28, gender='Female', name='Anna Santos', course='DSA', roll=1741879, marks=89, email='Nicole Harwood_Lawanda Wohlwend@DB.com'),\n",
              " Row(age=29, gender='Female', name='Lawanda Wohlwend', course='MVC', roll=1751381, marks=75, email='Jalisa Swenson_Nicole Harwood@OOP.com'),\n",
              " Row(age=29, gender='Male', name='Nicole Harwood', course='MVC', roll=1761454, marks=34, email='Taryn Brownlee_Billi Clore@DSA.com'),\n",
              " Row(age=29, gender='Male', name='Claude Panos', course='DSA', roll=1771605, marks=50, email='Claude Panos_Tamera Blakley@OOP.com'),\n",
              " Row(age=29, gender='Male', name='Dustin Feagins', course='DB', roll=1782045, marks=81, email='Cordie Harnois_Toshiko Hillyard@OOP.com'),\n",
              " Row(age=29, gender='Male', name='Toshiko Hillyard', course='DSA', roll=1791364, marks=50, email='Jc Andrepont_Nicole Harwood@MVC.com'),\n",
              " Row(age=28, gender='Male', name='Alberta Freund', course='Cloud', roll=1802934, marks=24, email='Maybell Duguay_Paris Hutton@PF.com'),\n",
              " Row(age=29, gender='Female', name='Tijuana Kropf', course='MVC', roll=1811192, marks=51, email='Anna Santos_Latia Vanhoose@DSA.com'),\n",
              " Row(age=29, gender='Female', name='Ernest Rossbach', course='Cloud', roll=1821977, marks=28, email='Annika Hoffman_Kizzy Brenner@DSA.com'),\n",
              " Row(age=29, gender='Male', name='Latia Vanhoose', course='Cloud', roll=1832268, marks=60, email='Marylee Capasso_Santa Kerfien@MVC.com'),\n",
              " Row(age=29, gender='Male', name='Alberta Freund', course='OOP', roll=1841931, marks=37, email='Jenna Montague_Taryn Brownlee@Cloud.com'),\n",
              " Row(age=28, gender='Female', name='Lawanda Wohlwend', course='DB', roll=1852072, marks=30, email='Bonita Higuera_Jenna Montague@DB.com'),\n",
              " Row(age=29, gender='Male', name='Celeste Lollis', course='PF', roll=1861656, marks=67, email='Niki Klimek_Lawanda Wohlwend@DB.com'),\n",
              " Row(age=28, gender='Female', name='Melani Engberg', course='Cloud', roll=1872667, marks=99, email='Alberta Freund_Nicole Harwood@DB.com'),\n",
              " Row(age=29, gender='Male', name='Tijuana Kropf', course='DB', roll=1882795, marks=92, email='Hubert Oliveras_Elenore Choy@Cloud.com'),\n",
              " Row(age=28, gender='Male', name='Somer Stoecker', course='Cloud', roll=1891261, marks=30, email='Taryn Brownlee_Sheryll Towler@PF.com'),\n",
              " Row(age=28, gender='Male', name='Ernest Rossbach', course='DB', roll=1901492, marks=54, email='Latia Vanhoose_Jc Andrepont@MVC.com'),\n",
              " Row(age=28, gender='Female', name='Anna Santos', course='PF', roll=1911870, marks=92, email='Sebrina Maresca_Clementina Menke@OOP.com'),\n",
              " Row(age=28, gender='Female', name='Melani Engberg', course='PF', roll=1922525, marks=83, email='Marylee Capasso_Celeste Lollis@PF.com'),\n",
              " Row(age=29, gender='Male', name='Sebrina Maresca', course='PF', roll=1932455, marks=23, email='Tijuana Kropf_Naoma Fritts@Cloud.com'),\n",
              " Row(age=29, gender='Male', name='Marylee Capasso', course='DSA', roll=1942185, marks=37, email='Tijuana Kropf_Latia Vanhoose@DSA.com'),\n",
              " Row(age=29, gender='Male', name='Jeannetta Golden', course='Cloud', roll=1952763, marks=67, email='Jenna Montague_Jeannetta Golden@OOP.com'),\n",
              " Row(age=29, gender='Male', name='Niki Klimek', course='MVC', roll=1962371, marks=78, email='Marylee Capasso_Mickey Cortright@PF.com'),\n",
              " Row(age=29, gender='Female', name='Leontine Phillips', course='DB', roll=1972893, marks=64, email='Marylee Capasso_Elenore Choy@OOP.com'),\n",
              " Row(age=29, gender='Male', name='Tamera Blakley', course='OOP', roll=1981124, marks=46, email='Taryn Brownlee_Eda Neathery@DB.com'),\n",
              " Row(age=28, gender='Male', name='Santa Kerfien', course='MVC', roll=1992202, marks=23, email='Annika Hoffman_Tamera Blakley@OOP.com'),\n",
              " Row(age=29, gender='Female', name='Donna Yerby', course='OOP', roll=2002040, marks=85, email='Jeannetta Golden_Clementina Menke@OOP.com'),\n",
              " Row(age=29, gender='Male', name='Somer Stoecker', course='OOP', roll=2011301, marks=47, email='Somer Stoecker_Anna Santos@MVC.com'),\n",
              " Row(age=28, gender='Male', name='Billi Clore', course='PF', roll=2022282, marks=77, email='Anna Santos_Claude Panos@Cloud.com'),\n",
              " Row(age=28, gender='Male', name='Kena Wild', course='DB', roll=2031530, marks=93, email='Jc Andrepont_Jc Andrepont@PF.com'),\n",
              " Row(age=29, gender='Female', name='Abram Nagao', course='DSA', roll=2041248, marks=72, email='Latia Vanhoose_Kena Wild@DSA.com'),\n",
              " Row(age=28, gender='Female', name='Paris Hutton', course='Cloud', roll=2051881, marks=79, email='Melani Engberg_Marylee Capasso@PF.com'),\n",
              " Row(age=28, gender='Female', name='Claude Panos', course='OOP', roll=2061187, marks=58, email='Cheri Kenney_Cordie Harnois@PF.com'),\n",
              " Row(age=28, gender='Female', name='Eda Neathery', course='Cloud', roll=2071302, marks=95, email='Latia Vanhoose_Donna Yerby@Cloud.com'),\n",
              " Row(age=28, gender='Male', name='Marylee Capasso', course='DSA', roll=2081560, marks=20, email='Sheryll Towler_Donna Yerby@Cloud.com'),\n",
              " Row(age=28, gender='Male', name='Neda Briski', course='Cloud', roll=2092176, marks=81, email='Celeste Lollis_Maybell Duguay@PF.com'),\n",
              " Row(age=29, gender='Male', name='Donna Yerby', course='DSA', roll=2102495, marks=97, email='Paris Hutton_Celeste Lollis@PF.com'),\n",
              " Row(age=29, gender='Male', name='Judie Chipps', course='DB', roll=2112234, marks=94, email='Dustin Feagins_Tamera Blakley@PF.com'),\n",
              " Row(age=28, gender='Female', name='Tijuana Kropf', course='Cloud', roll=2121632, marks=78, email='Michelle Ruggiero_Anna Santos@OOP.com'),\n",
              " Row(age=29, gender='Male', name='Jeannetta Golden', course='MVC', roll=2132781, marks=93, email='Kizzy Brenner_Cheri Kenney@MVC.com'),\n",
              " Row(age=29, gender='Male', name='Naoma Fritts', course='PF', roll=2141246, marks=91, email='Mitzi Seldon_Cordie Harnois@Cloud.com'),\n",
              " Row(age=29, gender='Male', name='Somer Stoecker', course='MVC', roll=2151024, marks=36, email='Loris Crossett_Tamera Blakley@DB.com'),\n",
              " Row(age=28, gender='Male', name='Toshiko Hillyard', course='PF', roll=2162776, marks=54, email='Jenna Montague_Niki Klimek@MVC.com'),\n",
              " Row(age=28, gender='Male', name='Jeannetta Golden', course='DB', roll=2171387, marks=76, email='Cheri Kenney_Billi Clore@DB.com'),\n",
              " Row(age=28, gender='Female', name='Billi Clore', course='DB', roll=2181375, marks=58, email='Latia Vanhoose_Eda Neathery@DSA.com'),\n",
              " Row(age=29, gender='Female', name='Annika Hoffman', course='PF', roll=2192313, marks=49, email='Naoma Fritts_Tijuana Kropf@DB.com'),\n",
              " Row(age=29, gender='Male', name='Mitzi Seldon', course='Cloud', roll=2202649, marks=43, email='Santa Kerfien_Loris Crossett@Cloud.com'),\n",
              " Row(age=29, gender='Female', name='Niki Klimek', course='DB', roll=2211319, marks=61, email='Celeste Lollis_Sheryll Towler@DB.com'),\n",
              " Row(age=28, gender='Male', name='Jalisa Swenson', course='DSA', roll=2222704, marks=91, email='Judie Chipps_Jalisa Swenson@Cloud.com'),\n",
              " Row(age=28, gender='Male', name='Priscila Tavernier', course='OOP', roll=2232863, marks=60, email='Bonita Higuera_Lawanda Wohlwend@MVC.com'),\n",
              " Row(age=29, gender='Male', name='Margene Moores', course='Cloud', roll=2241434, marks=71, email='Mitzi Seldon_Michelle Ruggiero@Cloud.com'),\n",
              " Row(age=28, gender='Female', name='Jc Andrepont', course='MVC', roll=2251960, marks=96, email='Somer Stoecker_Melani Engberg@DSA.com'),\n",
              " Row(age=29, gender='Female', name='Gonzalo Ferebee', course='OOP', roll=2262603, marks=21, email='Bonita Higuera_Cheri Kenney@PF.com'),\n",
              " Row(age=29, gender='Female', name='Bonita Higuera', course='OOP', roll=2272587, marks=46, email='Gonzalo Ferebee_Toshiko Hillyard@DB.com'),\n",
              " Row(age=28, gender='Female', name='Cheri Kenney', course='Cloud', roll=2281771, marks=22, email='Tamera Blakley_Abram Nagao@OOP.com'),\n",
              " Row(age=28, gender='Female', name='Marylee Capasso', course='Cloud', roll=2291595, marks=36, email='Ernest Rossbach_Mickey Cortright@MVC.com'),\n",
              " Row(age=29, gender='Male', name='Annika Hoffman', course='PF', roll=2301940, marks=81, email='Jenna Montague_Sheryll Towler@Cloud.com'),\n",
              " Row(age=29, gender='Female', name='Bonita Higuera', course='DSA', roll=2312783, marks=77, email='Melani Engberg_Mitzi Seldon@DSA.com'),\n",
              " Row(age=28, gender='Male', name='Kizzy Brenner', course='DB', roll=2322537, marks=56, email='Jenna Montague_Latia Vanhoose@MVC.com'),\n",
              " Row(age=29, gender='Male', name='Michelle Ruggiero', course='Cloud', roll=2332207, marks=72, email='Gonzalo Ferebee_Melani Engberg@OOP.com'),\n",
              " Row(age=29, gender='Male', name='Alberta Freund', course='DSA', roll=2341989, marks=68, email='Jeannetta Golden_Priscila Tavernier@PF.com'),\n",
              " Row(age=29, gender='Female', name='Somer Stoecker', course='OOP', roll=2352466, marks=67, email='Jenna Montague_Mitzi Seldon@MVC.com'),\n",
              " Row(age=29, gender='Male', name='Mickey Cortright', course='OOP', roll=2361202, marks=59, email='Kizzy Brenner_Eda Neathery@MVC.com'),\n",
              " Row(age=29, gender='Male', name='Latia Vanhoose', course='OOP', roll=2372748, marks=94, email='Latia Vanhoose_Latia Vanhoose@OOP.com'),\n",
              " Row(age=29, gender='Male', name='Naoma Fritts', course='OOP', roll=2382829, marks=37, email='Ernest Rossbach_Celeste Lollis@PF.com'),\n",
              " Row(age=28, gender='Female', name='Taryn Brownlee', course='DSA', roll=2392929, marks=91, email='Sebrina Maresca_Jenna Montague@Cloud.com'),\n",
              " Row(age=28, gender='Female', name='Jenna Montague', course='Cloud', roll=2402240, marks=96, email='Annika Hoffman_Dustin Feagins@Cloud.com'),\n",
              " Row(age=28, gender='Male', name='Melani Engberg', course='MVC', roll=2412019, marks=54, email='Latia Vanhoose_Melani Engberg@DSA.com'),\n",
              " Row(age=29, gender='Female', name='Dustin Feagins', course='Cloud', roll=2421900, marks=89, email='Niki Klimek_Latia Vanhoose@Cloud.com'),\n",
              " Row(age=28, gender='Female', name='Santa Kerfien', course='Cloud', roll=2431828, marks=26, email='Margene Moores_Somer Stoecker@PF.com'),\n",
              " Row(age=28, gender='Female', name='Jenna Montague', course='MVC', roll=2441637, marks=72, email='Cordie Harnois_Alberta Freund@OOP.com'),\n",
              " Row(age=28, gender='Male', name='Sebrina Maresca', course='Cloud', roll=2452108, marks=41, email='Billi Clore_Loris Crossett@DSA.com'),\n",
              " Row(age=28, gender='Male', name='Judie Chipps', course='DB', roll=2461986, marks=53, email='Niki Klimek_Judie Chipps@MVC.com'),\n",
              " Row(age=29, gender='Male', name='Jenna Montague', course='DSA', roll=2472773, marks=81, email='Margene Moores_Bonita Higuera@DSA.com'),\n",
              " Row(age=29, gender='Female', name='Nicole Harwood', course='MVC', roll=2481418, marks=91, email='Kizzy Brenner_Priscila Tavernier@DB.com'),\n",
              " Row(age=29, gender='Male', name='Cheri Kenney', course='Cloud', roll=2491705, marks=64, email='Toshiko Hillyard_Mickey Cortright@PF.com'),\n",
              " Row(age=28, gender='Female', name='Bonita Higuera', course='DSA', roll=2501639, marks=66, email='Paris Hutton_Naoma Fritts@PF.com'),\n",
              " Row(age=29, gender='Female', name='Marylee Capasso', course='DSA', roll=2512456, marks=75, email='Mitzi Seldon_Donna Yerby@Cloud.com'),\n",
              " Row(age=28, gender='Female', name='Jeannetta Golden', course='DB', roll=2522775, marks=83, email='Kizzy Brenner_Bonita Higuera@DB.com'),\n",
              " Row(age=29, gender='Female', name='Annika Hoffman', course='PF', roll=2532233, marks=74, email='Somer Stoecker_Annika Hoffman@MVC.com'),\n",
              " Row(age=28, gender='Female', name='Kizzy Brenner', course='OOP', roll=2542257, marks=96, email='Eda Neathery_Lawanda Wohlwend@Cloud.com'),\n",
              " Row(age=28, gender='Male', name='Priscila Tavernier', course='Cloud', roll=2552194, marks=42, email='Jeannetta Golden_Abram Nagao@PF.com'),\n",
              " Row(age=28, gender='Male', name='Claude Panos', course='OOP', roll=2562357, marks=50, email='Naoma Fritts_Anna Santos@Cloud.com'),\n",
              " Row(age=28, gender='Male', name='Gonzalo Ferebee', course='MVC', roll=2572197, marks=43, email='Marylee Capasso_Jc Andrepont@DB.com'),\n",
              " Row(age=29, gender='Male', name='Nicole Harwood', course='Cloud', roll=2581369, marks=26, email='Paris Hutton_Alberta Freund@MVC.com'),\n",
              " Row(age=28, gender='Male', name='Paris Hutton', course='OOP', roll=2592369, marks=60, email='Taryn Brownlee_Sheryll Towler@OOP.com'),\n",
              " Row(age=28, gender='Female', name='Ernest Rossbach', course='Cloud', roll=2602027, marks=83, email='Alberta Freund_Gonzalo Ferebee@MVC.com'),\n",
              " Row(age=28, gender='Male', name='Sheryll Towler', course='DSA', roll=2612360, marks=27, email='Celeste Lollis_Paris Hutton@OOP.com'),\n",
              " Row(age=28, gender='Male', name='Mitzi Seldon', course='DB', roll=2622118, marks=55, email='Mickey Cortright_Mitzi Seldon@MVC.com'),\n",
              " Row(age=28, gender='Female', name='Abram Nagao', course='DB', roll=2632057, marks=25, email='Margene Moores_Somer Stoecker@DB.com'),\n",
              " Row(age=28, gender='Male', name='Billi Clore', course='PF', roll=2642909, marks=58, email='Loris Crossett_Sebrina Maresca@OOP.com'),\n",
              " Row(age=28, gender='Male', name='Abram Nagao', course='Cloud', roll=2652463, marks=21, email='Eda Neathery_Annika Hoffman@Cloud.com'),\n",
              " Row(age=29, gender='Male', name='Tamera Blakley', course='DSA', roll=2661934, marks=23, email='Alberta Freund_Tijuana Kropf@Cloud.com'),\n",
              " Row(age=29, gender='Female', name='Naoma Fritts', course='PF', roll=2672130, marks=49, email='Kizzy Brenner_Alberta Freund@Cloud.com'),\n",
              " Row(age=28, gender='Female', name='Maybell Duguay', course='Cloud', roll=2682466, marks=36, email='Priscila Tavernier_Mitzi Seldon@PF.com'),\n",
              " Row(age=28, gender='Female', name='Loris Crossett', course='OOP', roll=2691881, marks=29, email='Maybell Duguay_Niki Klimek@OOP.com'),\n",
              " Row(age=28, gender='Male', name='Mitzi Seldon', course='PF', roll=2701239, marks=76, email='Alberta Freund_Cordie Harnois@Cloud.com'),\n",
              " Row(age=29, gender='Male', name='Sebrina Maresca', course='PF', roll=2712040, marks=23, email='Jeannetta Golden_Judie Chipps@DB.com'),\n",
              " Row(age=29, gender='Male', name='Somer Stoecker', course='PF', roll=2721652, marks=36, email='Tijuana Kropf_Michelle Ruggiero@Cloud.com'),\n",
              " Row(age=28, gender='Male', name='Santa Kerfien', course='DB', roll=2732421, marks=79, email='Claude Panos_Alberta Freund@DB.com'),\n",
              " Row(age=28, gender='Female', name='Billi Clore', course='MVC', roll=2741290, marks=32, email='Abram Nagao_Elenore Choy@MVC.com'),\n",
              " Row(age=29, gender='Female', name='Nicole Harwood', course='DSA', roll=2751838, marks=47, email='Donna Yerby_Lawanda Wohlwend@MVC.com'),\n",
              " Row(age=29, gender='Female', name='Sheryll Towler', course='DSA', roll=2762045, marks=88, email='Eda Neathery_Priscila Tavernier@DSA.com'),\n",
              " Row(age=28, gender='Male', name='Clementina Menke', course='DSA', roll=2772189, marks=98, email='Donna Yerby_Judie Chipps@PF.com'),\n",
              " Row(age=29, gender='Male', name='Tijuana Kropf', course='Cloud', roll=2781801, marks=68, email='Alberta Freund_Cordie Harnois@Cloud.com'),\n",
              " Row(age=28, gender='Female', name='Billi Clore', course='PF', roll=2792977, marks=71, email='Jalisa Swenson_Nicole Harwood@MVC.com'),\n",
              " Row(age=29, gender='Female', name='Eda Neathery', course='DB', roll=2802988, marks=72, email='Jenna Montague_Toshiko Hillyard@Cloud.com'),\n",
              " Row(age=28, gender='Female', name='Abram Nagao', course='Cloud', roll=2811189, marks=54, email='Kena Wild_Donna Yerby@DSA.com'),\n",
              " Row(age=29, gender='Female', name='Eda Neathery', course='MVC', roll=2821243, marks=97, email='Tamera Blakley_Eda Neathery@DB.com'),\n",
              " Row(age=29, gender='Male', name='Leontine Phillips', course='PF', roll=2832158, marks=26, email='Margene Moores_Claude Panos@MVC.com'),\n",
              " Row(age=29, gender='Male', name='Abram Nagao', course='DB', roll=2841061, marks=25, email='Leontine Phillips_Toshiko Hillyard@Cloud.com'),\n",
              " Row(age=28, gender='Male', name='Loris Crossett', course='OOP', roll=2852490, marks=25, email='Loris Crossett_Donna Yerby@DSA.com'),\n",
              " Row(age=29, gender='Female', name='Latia Vanhoose', course='PF', roll=2861854, marks=42, email='Claude Panos_Nicole Harwood@DSA.com'),\n",
              " Row(age=28, gender='Female', name='Michelle Ruggiero', course='PF', roll=2872130, marks=70, email='Cheri Kenney_Lawanda Wohlwend@DSA.com'),\n",
              " Row(age=28, gender='Female', name='Alberta Freund', course='OOP', roll=2881304, marks=62, email='Loris Crossett_Jc Andrepont@Cloud.com'),\n",
              " Row(age=28, gender='Male', name='Michelle Ruggiero', course='DB', roll=2891164, marks=60, email='Gonzalo Ferebee_Priscila Tavernier@DSA.com'),\n",
              " Row(age=29, gender='Female', name='Naoma Fritts', course='MVC', roll=2902779, marks=60, email='Sebrina Maresca_Niki Klimek@PF.com'),\n",
              " Row(age=29, gender='Male', name='Niki Klimek', course='DB', roll=2912538, marks=67, email='Jc Andrepont_Mitzi Seldon@DSA.com'),\n",
              " Row(age=28, gender='Male', name='Gonzalo Ferebee', course='Cloud', roll=2922041, marks=38, email='Clementina Menke_Taryn Brownlee@OOP.com'),\n",
              " Row(age=28, gender='Female', name='Kena Wild', course='PF', roll=2931712, marks=52, email='Melani Engberg_Leontine Phillips@PF.com'),\n",
              " Row(age=29, gender='Male', name='Melani Engberg', course='DB', roll=2941257, marks=98, email='Claude Panos_Kena Wild@DB.com'),\n",
              " Row(age=29, gender='Male', name='Billi Clore', course='DSA', roll=2952091, marks=52, email='Jenna Montague_Mickey Cortright@DB.com'),\n",
              " Row(age=29, gender='Male', name='Claude Panos', course='PF', roll=2961015, marks=33, email='Elenore Choy_Santa Kerfien@DSA.com'),\n",
              " Row(age=29, gender='Female', name='Jenna Montague', course='DSA', roll=2972673, marks=71, email='Toshiko Hillyard_Naoma Fritts@DB.com'),\n",
              " Row(age=28, gender='Female', name='Dustin Feagins', course='PF', roll=2981342, marks=86, email='Somer Stoecker_Neda Briski@Cloud.com'),\n",
              " Row(age=29, gender='Male', name='Latia Vanhoose', course='MVC', roll=2992281, marks=90, email='Elenore Choy_Cordie Harnois@DSA.com'),\n",
              " Row(age=29, gender='Male', name='Margene Moores', course='PF', roll=3002277, marks=32, email='Somer Stoecker_Maybell Duguay@DSA.com'),\n",
              " Row(age=28, gender='Male', name='Leontine Phillips', course='Cloud', roll=3011586, marks=76, email='Dustin Feagins_Alberta Freund@DB.com'),\n",
              " Row(age=29, gender='Male', name='Naoma Fritts', course='MVC', roll=3021768, marks=34, email='Bonita Higuera_Anna Santos@Cloud.com'),\n",
              " Row(age=29, gender='Female', name='Neda Briski', course='DSA', roll=3031196, marks=27, email='Jc Andrepont_Abram Nagao@DSA.com'),\n",
              " Row(age=29, gender='Female', name='Alberta Freund', course='DB', roll=3041340, marks=60, email='Celeste Lollis_Abram Nagao@PF.com'),\n",
              " Row(age=29, gender='Male', name='Annika Hoffman', course='Cloud', roll=3051363, marks=57, email='Paris Hutton_Leontine Phillips@Cloud.com'),\n",
              " Row(age=29, gender='Male', name='Anna Santos', course='Cloud', roll=3061386, marks=57, email='Michelle Ruggiero_Abram Nagao@Cloud.com'),\n",
              " Row(age=29, gender='Female', name='Anna Santos', course='DSA', roll=3072690, marks=36, email='Sheryll Towler_Latia Vanhoose@PF.com'),\n",
              " Row(age=29, gender='Female', name='Judie Chipps', course='MVC', roll=3082254, marks=78, email='Kena Wild_Anna Santos@MVC.com'),\n",
              " Row(age=29, gender='Female', name='Latia Vanhoose', course='MVC', roll=3091650, marks=30, email='Cordie Harnois_Sebrina Maresca@PF.com'),\n",
              " Row(age=28, gender='Female', name='Mitzi Seldon', course='Cloud', roll=3101372, marks=54, email='Gonzalo Ferebee_Cordie Harnois@MVC.com'),\n",
              " Row(age=28, gender='Male', name='Tijuana Kropf', course='DB', roll=3111175, marks=70, email='Latia Vanhoose_Somer Stoecker@DSA.com'),\n",
              " Row(age=28, gender='Male', name='Kizzy Brenner', course='MVC', roll=3121184, marks=29, email='Tijuana Kropf_Elenore Choy@DB.com'),\n",
              " Row(age=29, gender='Male', name='Nicole Harwood', course='OOP', roll=3132620, marks=88, email='Jeannetta Golden_Lawanda Wohlwend@PF.com'),\n",
              " Row(age=29, gender='Male', name='Gonzalo Ferebee', course='DSA', roll=3141791, marks=62, email='Ernest Rossbach_Sheryll Towler@MVC.com'),\n",
              " Row(age=29, gender='Male', name='Billi Clore', course='MVC', roll=3152247, marks=96, email='Ernest Rossbach_Clementina Menke@PF.com'),\n",
              " Row(age=29, gender='Male', name='Elenore Choy', course='Cloud', roll=3161233, marks=45, email='Dustin Feagins_Dustin Feagins@Cloud.com'),\n",
              " Row(age=29, gender='Male', name='Judie Chipps', course='MVC', roll=3172827, marks=67, email='Eda Neathery_Eda Neathery@DSA.com'),\n",
              " Row(age=28, gender='Male', name='Lawanda Wohlwend', course='Cloud', roll=3181337, marks=39, email='Sebrina Maresca_Billi Clore@MVC.com'),\n",
              " Row(age=29, gender='Male', name='Jalisa Swenson', course='DB', roll=3192192, marks=74, email='Ernest Rossbach_Cordie Harnois@DB.com'),\n",
              " Row(age=29, gender='Male', name='Cordie Harnois', course='PF', roll=3201624, marks=41, email='Maybell Duguay_Somer Stoecker@PF.com'),\n",
              " Row(age=28, gender='Male', name='Tijuana Kropf', course='MVC', roll=3212517, marks=48, email='Somer Stoecker_Mickey Cortright@PF.com'),\n",
              " Row(age=28, gender='Female', name='Billi Clore', course='DB', roll=3221997, marks=61, email='Taryn Brownlee_Santa Kerfien@PF.com'),\n",
              " Row(age=29, gender='Female', name='Margene Moores', course='Cloud', roll=3232893, marks=24, email='Elenore Choy_Niki Klimek@MVC.com'),\n",
              " Row(age=29, gender='Female', name='Paris Hutton', course='DB', roll=3241324, marks=72, email='Abram Nagao_Cordie Harnois@DSA.com'),\n",
              " Row(age=28, gender='Female', name='Neda Briski', course='PF', roll=3251377, marks=23, email='Kizzy Brenner_Mickey Cortright@DSA.com'),\n",
              " Row(age=29, gender='Female', name='Sebrina Maresca', course='Cloud', roll=3261159, marks=97, email='Maybell Duguay_Jalisa Swenson@Cloud.com'),\n",
              " Row(age=28, gender='Female', name='Sebrina Maresca', course='PF', roll=3272192, marks=30, email='Jeannetta Golden_Cordie Harnois@PF.com'),\n",
              " Row(age=29, gender='Male', name='Donna Yerby', course='PF', roll=3282057, marks=87, email='Kizzy Brenner_Loris Crossett@DB.com'),\n",
              " Row(age=28, gender='Female', name='Kena Wild', course='PF', roll=3291691, marks=96, email='Tamera Blakley_Naoma Fritts@Cloud.com'),\n",
              " Row(age=29, gender='Male', name='Tijuana Kropf', course='PF', roll=3301891, marks=60, email='Tamera Blakley_Neda Briski@DSA.com'),\n",
              " Row(age=28, gender='Female', name='Marylee Capasso', course='MVC', roll=3312606, marks=57, email='Marylee Capasso_Gonzalo Ferebee@MVC.com'),\n",
              " Row(age=28, gender='Male', name='Sheryll Towler', course='OOP', roll=3322308, marks=32, email='Clementina Menke_Naoma Fritts@OOP.com'),\n",
              " Row(age=28, gender='Male', name='Jenna Montague', course='OOP', roll=3331161, marks=98, email='Leontine Phillips_Judie Chipps@DSA.com'),\n",
              " Row(age=28, gender='Male', name='Mitzi Seldon', course='PF', roll=3342819, marks=68, email='Cheri Kenney_Naoma Fritts@PF.com'),\n",
              " Row(age=28, gender='Male', name='Clementina Menke', course='Cloud', roll=3352508, marks=95, email='Naoma Fritts_Mickey Cortright@Cloud.com'),\n",
              " Row(age=28, gender='Female', name='Niki Klimek', course='DB', roll=3361932, marks=27, email='Nicole Harwood_Bonita Higuera@DB.com'),\n",
              " Row(age=29, gender='Male', name='Sebrina Maresca', course='DB', roll=3371719, marks=86, email='Marylee Capasso_Margene Moores@DSA.com'),\n",
              " Row(age=28, gender='Male', name='Niki Klimek', course='PF', roll=3381919, marks=97, email='Hubert Oliveras_Latia Vanhoose@DB.com'),\n",
              " Row(age=29, gender='Female', name='Cordie Harnois', course='MVC', roll=3391820, marks=55, email='Paris Hutton_Alberta Freund@DB.com'),\n",
              " Row(age=29, gender='Female', name='Jenna Montague', course='DSA', roll=3402028, marks=40, email='Ernest Rossbach_Alberta Freund@DSA.com'),\n",
              " Row(age=29, gender='Male', name='Dustin Feagins', course='OOP', roll=3412915, marks=62, email='Toshiko Hillyard_Priscila Tavernier@MVC.com'),\n",
              " Row(age=28, gender='Female', name='Naoma Fritts', course='DSA', roll=3422822, marks=54, email='Nicole Harwood_Anna Santos@PF.com'),\n",
              " Row(age=29, gender='Female', name='Celeste Lollis', course='MVC', roll=3431117, marks=84, email='Dustin Feagins_Melani Engberg@DSA.com'),\n",
              " Row(age=29, gender='Female', name='Niki Klimek', course='DB', roll=3441033, marks=93, email='Hubert Oliveras_Tijuana Kropf@Cloud.com'),\n",
              " Row(age=29, gender='Female', name='Dustin Feagins', course='PF', roll=3451343, marks=88, email='Cordie Harnois_Abram Nagao@Cloud.com'),\n",
              " Row(age=29, gender='Female', name='Celeste Lollis', course='DSA', roll=3461783, marks=50, email='Loris Crossett_Ernest Rossbach@Cloud.com'),\n",
              " Row(age=29, gender='Male', name='Annika Hoffman', course='DSA', roll=3471063, marks=42, email='Bonita Higuera_Cordie Harnois@Cloud.com'),\n",
              " Row(age=28, gender='Female', name='Sebrina Maresca', course='PF', roll=3481728, marks=73, email='Billi Clore_Billi Clore@OOP.com'),\n",
              " Row(age=28, gender='Male', name='Taryn Brownlee', course='PF', roll=3491666, marks=76, email='Neda Briski_Priscila Tavernier@DB.com'),\n",
              " Row(age=28, gender='Female', name='Loris Crossett', course='OOP', roll=3502780, marks=30, email='Jenna Montague_Cordie Harnois@MVC.com'),\n",
              " Row(age=29, gender='Male', name='Kizzy Brenner', course='PF', roll=3512215, marks=50, email='Naoma Fritts_Melani Engberg@Cloud.com'),\n",
              " Row(age=28, gender='Female', name='Elenore Choy', course='OOP', roll=3521960, marks=90, email='Sebrina Maresca_Tijuana Kropf@PF.com'),\n",
              " Row(age=28, gender='Female', name='Loris Crossett', course='PF', roll=3531684, marks=84, email='Dustin Feagins_Tamera Blakley@DSA.com'),\n",
              " Row(age=29, gender='Female', name='Leontine Phillips', course='OOP', roll=3541954, marks=65, email='Margene Moores_Jeannetta Golden@MVC.com'),\n",
              " Row(age=29, gender='Female', name='Billi Clore', course='OOP', roll=3551532, marks=81, email='Dustin Feagins_Annika Hoffman@PF.com'),\n",
              " Row(age=28, gender='Female', name='Neda Briski', course='Cloud', roll=3562470, marks=26, email='Gonzalo Ferebee_Kizzy Brenner@DB.com'),\n",
              " Row(age=29, gender='Female', name='Eda Neathery', course='MVC', roll=3572648, marks=77, email='Melani Engberg_Margene Moores@DB.com'),\n",
              " Row(age=28, gender='Male', name='Kizzy Brenner', course='Cloud', roll=3581303, marks=80, email='Margene Moores_Tamera Blakley@PF.com'),\n",
              " Row(age=29, gender='Male', name='Loris Crossett', course='OOP', roll=3592529, marks=80, email='Annika Hoffman_Toshiko Hillyard@PF.com'),\n",
              " Row(age=28, gender='Female', name='Toshiko Hillyard', course='DB', roll=3602005, marks=54, email='Loris Crossett_Annika Hoffman@DB.com'),\n",
              " Row(age=28, gender='Male', name='Mickey Cortright', course='Cloud', roll=3612300, marks=92, email='Cordie Harnois_Sheryll Towler@OOP.com'),\n",
              " Row(age=28, gender='Female', name='Sebrina Maresca', course='OOP', roll=3621436, marks=81, email='Maybell Duguay_Marylee Capasso@DSA.com'),\n",
              " Row(age=28, gender='Male', name='Hubert Oliveras', course='Cloud', roll=3632954, marks=34, email='Ernest Rossbach_Annika Hoffman@OOP.com'),\n",
              " Row(age=29, gender='Female', name='Taryn Brownlee', course='MVC', roll=3641757, marks=47, email='Alberta Freund_Dustin Feagins@OOP.com'),\n",
              " Row(age=29, gender='Male', name='Elenore Choy', course='DB', roll=3652057, marks=20, email='Jc Andrepont_Gonzalo Ferebee@DB.com'),\n",
              " Row(age=29, gender='Female', name='Clementina Menke', course='Cloud', roll=3662734, marks=58, email='Jc Andrepont_Lawanda Wohlwend@MVC.com'),\n",
              " Row(age=29, gender='Female', name='Donna Yerby', course='PF', roll=3672856, marks=34, email='Alberta Freund_Claude Panos@MVC.com'),\n",
              " Row(age=28, gender='Male', name='Jalisa Swenson', course='PF', roll=3681989, marks=88, email='Toshiko Hillyard_Ernest Rossbach@DB.com'),\n",
              " Row(age=28, gender='Female', name='Leontine Phillips', course='PF', roll=3691377, marks=28, email='Tamera Blakley_Alberta Freund@Cloud.com'),\n",
              " Row(age=29, gender='Male', name='Marylee Capasso', course='MVC', roll=3702018, marks=88, email='Somer Stoecker_Latia Vanhoose@Cloud.com'),\n",
              " Row(age=29, gender='Female', name='Bonita Higuera', course='Cloud', roll=3711664, marks=35, email='Sheryll Towler_Kizzy Brenner@OOP.com'),\n",
              " Row(age=28, gender='Male', name='Jenna Montague', course='DSA', roll=3721359, marks=96, email='Naoma Fritts_Kizzy Brenner@MVC.com'),\n",
              " Row(age=28, gender='Female', name='Gonzalo Ferebee', course='MVC', roll=3732535, marks=64, email='Somer Stoecker_Ernest Rossbach@DB.com'),\n",
              " Row(age=28, gender='Male', name='Niki Klimek', course='OOP', roll=3742031, marks=82, email='Leontine Phillips_Toshiko Hillyard@Cloud.com'),\n",
              " Row(age=28, gender='Male', name='Claude Panos', course='DB', roll=3752819, marks=78, email='Toshiko Hillyard_Mickey Cortright@DB.com'),\n",
              " Row(age=29, gender='Male', name='Priscila Tavernier', course='PF', roll=3762231, marks=87, email='Celeste Lollis_Loris Crossett@Cloud.com'),\n",
              " Row(age=29, gender='Female', name='Margene Moores', course='PF', roll=3772294, marks=29, email='Melani Engberg_Kizzy Brenner@PF.com'),\n",
              " Row(age=28, gender='Male', name='Abram Nagao', course='DSA', roll=3781521, marks=45, email='Taryn Brownlee_Michelle Ruggiero@OOP.com'),\n",
              " Row(age=28, gender='Male', name='Maybell Duguay', course='Cloud', roll=3791855, marks=33, email='Tijuana Kropf_Lawanda Wohlwend@PF.com'),\n",
              " Row(age=28, gender='Male', name='Bonita Higuera', course='DB', roll=3802569, marks=77, email='Kena Wild_Kena Wild@OOP.com'),\n",
              " Row(age=28, gender='Female', name='Gonzalo Ferebee', course='DSA', roll=3811667, marks=66, email='Neda Briski_Abram Nagao@OOP.com'),\n",
              " Row(age=29, gender='Male', name='Tijuana Kropf', course='DB', roll=3821650, marks=60, email='Maybell Duguay_Donna Yerby@MVC.com'),\n",
              " Row(age=28, gender='Male', name='Eda Neathery', course='Cloud', roll=3831006, marks=75, email='Donna Yerby_Loris Crossett@DSA.com'),\n",
              " Row(age=29, gender='Female', name='Latia Vanhoose', course='OOP', roll=3841395, marks=26, email='Kizzy Brenner_Eda Neathery@Cloud.com'),\n",
              " Row(age=29, gender='Female', name='Judie Chipps', course='DSA', roll=3852601, marks=92, email='Donna Yerby_Margene Moores@OOP.com'),\n",
              " Row(age=28, gender='Female', name='Loris Crossett', course='PF', roll=3861248, marks=94, email='Dustin Feagins_Cheri Kenney@Cloud.com'),\n",
              " Row(age=29, gender='Female', name='Donna Yerby', course='DSA', roll=3872735, marks=71, email='Eda Neathery_Latia Vanhoose@Cloud.com'),\n",
              " Row(age=29, gender='Female', name='Paris Hutton', course='Cloud', roll=3882188, marks=88, email='Claude Panos_Loris Crossett@DB.com'),\n",
              " Row(age=29, gender='Male', name='Jc Andrepont', course='MVC', roll=3892788, marks=94, email='Alberta Freund_Eda Neathery@DSA.com'),\n",
              " Row(age=29, gender='Female', name='Priscila Tavernier', course='OOP', roll=3902993, marks=99, email='Celeste Lollis_Billi Clore@DB.com'),\n",
              " Row(age=29, gender='Female', name='Tamera Blakley', course='DSA', roll=3911247, marks=20, email='Donna Yerby_Bonita Higuera@DB.com'),\n",
              " Row(age=29, gender='Male', name='Dustin Feagins', course='PF', roll=3921585, marks=32, email='Dustin Feagins_Jalisa Swenson@OOP.com'),\n",
              " Row(age=28, gender='Female', name='Santa Kerfien', course='OOP', roll=3931948, marks=24, email='Jeannetta Golden_Jenna Montague@DSA.com'),\n",
              " Row(age=29, gender='Male', name='Margene Moores', course='DSA', roll=3942449, marks=22, email='Tijuana Kropf_Naoma Fritts@DSA.com'),\n",
              " Row(age=29, gender='Female', name='Ernest Rossbach', course='DSA', roll=3951575, marks=74, email='Marylee Capasso_Kizzy Brenner@PF.com'),\n",
              " Row(age=28, gender='Male', name='Santa Kerfien', course='PF', roll=3961803, marks=94, email='Jeannetta Golden_Latia Vanhoose@PF.com'),\n",
              " Row(age=29, gender='Male', name='Jalisa Swenson', course='OOP', roll=3972823, marks=92, email='Tamera Blakley_Elenore Choy@Cloud.com'),\n",
              " Row(age=29, gender='Female', name='Clementina Menke', course='DSA', roll=3982381, marks=98, email='Tamera Blakley_Kizzy Brenner@OOP.com'),\n",
              " Row(age=28, gender='Male', name='Cordie Harnois', course='PF', roll=3991186, marks=69, email='Loris Crossett_Somer Stoecker@PF.com'),\n",
              " Row(age=29, gender='Male', name='Bonita Higuera', course='Cloud', roll=4001493, marks=36, email='Priscila Tavernier_Niki Klimek@PF.com'),\n",
              " Row(age=29, gender='Female', name='Annika Hoffman', course='Cloud', roll=4012967, marks=65, email='Santa Kerfien_Elenore Choy@OOP.com'),\n",
              " Row(age=28, gender='Male', name='Jeannetta Golden', course='PF', roll=4021336, marks=63, email='Latia Vanhoose_Loris Crossett@PF.com'),\n",
              " Row(age=29, gender='Female', name='Toshiko Hillyard', course='PF', roll=4032043, marks=28, email='Naoma Fritts_Cheri Kenney@DB.com'),\n",
              " Row(age=29, gender='Male', name='Sheryll Towler', course='MVC', roll=4041358, marks=34, email='Sheryll Towler_Claude Panos@DSA.com'),\n",
              " Row(age=28, gender='Female', name='Alberta Freund', course='OOP', roll=4052753, marks=42, email='Marylee Capasso_Jenna Montague@OOP.com'),\n",
              " Row(age=29, gender='Female', name='Taryn Brownlee', course='PF', roll=4062876, marks=67, email='Claude Panos_Niki Klimek@OOP.com'),\n",
              " Row(age=28, gender='Male', name='Margene Moores', course='DSA', roll=4071164, marks=42, email='Billi Clore_Lawanda Wohlwend@DB.com'),\n",
              " Row(age=29, gender='Male', name='Ernest Rossbach', course='DB', roll=4081940, marks=41, email='Tamera Blakley_Abram Nagao@MVC.com'),\n",
              " Row(age=28, gender='Female', name='Jenna Montague', course='PF', roll=4092419, marks=54, email='Donna Yerby_Taryn Brownlee@MVC.com'),\n",
              " Row(age=28, gender='Female', name='Elenore Choy', course='OOP', roll=4102729, marks=35, email='Jenna Montague_Bonita Higuera@DB.com'),\n",
              " Row(age=29, gender='Male', name='Maybell Duguay', course='Cloud', roll=4112714, marks=54, email='Cordie Harnois_Mitzi Seldon@DB.com'),\n",
              " Row(age=29, gender='Female', name='Leontine Phillips', course='PF', roll=4122317, marks=31, email='Hubert Oliveras_Lawanda Wohlwend@PF.com'),\n",
              " Row(age=28, gender='Female', name='Mickey Cortright', course='OOP', roll=4132027, marks=49, email='Santa Kerfien_Nicole Harwood@DSA.com'),\n",
              " Row(age=28, gender='Male', name='Paris Hutton', course='OOP', roll=4141149, marks=82, email='Maybell Duguay_Marylee Capasso@DB.com'),\n",
              " Row(age=29, gender='Female', name='Alberta Freund', course='DSA', roll=4152288, marks=78, email='Elenore Choy_Lawanda Wohlwend@MVC.com'),\n",
              " Row(age=28, gender='Female', name='Annika Hoffman', course='DSA', roll=4162718, marks=63, email='Gonzalo Ferebee_Billi Clore@PF.com'),\n",
              " Row(age=28, gender='Female', name='Jc Andrepont', course='Cloud', roll=4171613, marks=65, email='Somer Stoecker_Paris Hutton@Cloud.com'),\n",
              " Row(age=29, gender='Female', name='Ernest Rossbach', course='Cloud', roll=4182371, marks=39, email='Jalisa Swenson_Cheri Kenney@DSA.com'),\n",
              " Row(age=29, gender='Male', name='Anna Santos', course='DB', roll=4192955, marks=49, email='Clementina Menke_Judie Chipps@Cloud.com'),\n",
              " Row(age=28, gender='Male', name='Celeste Lollis', course='DSA', roll=4201845, marks=46, email='Gonzalo Ferebee_Clementina Menke@MVC.com'),\n",
              " Row(age=28, gender='Female', name='Tamera Blakley', course='MVC', roll=4212111, marks=79, email='Clementina Menke_Elenore Choy@PF.com'),\n",
              " Row(age=29, gender='Male', name='Michelle Ruggiero', course='OOP', roll=4222829, marks=96, email='Kena Wild_Jalisa Swenson@Cloud.com'),\n",
              " Row(age=29, gender='Male', name='Clementina Menke', course='DSA', roll=4231581, marks=66, email='Annika Hoffman_Tamera Blakley@DSA.com'),\n",
              " Row(age=28, gender='Female', name='Michelle Ruggiero', course='DSA', roll=4242536, marks=41, email='Alberta Freund_Billi Clore@DSA.com'),\n",
              " Row(age=29, gender='Female', name='Claude Panos', course='Cloud', roll=4251762, marks=50, email='Gonzalo Ferebee_Eda Neathery@OOP.com'),\n",
              " Row(age=28, gender='Female', name='Mickey Cortright', course='OOP', roll=4261803, marks=70, email='Leontine Phillips_Melani Engberg@Cloud.com'),\n",
              " Row(age=28, gender='Female', name='Bonita Higuera', course='Cloud', roll=4271366, marks=57, email='Elenore Choy_Gonzalo Ferebee@DB.com'),\n",
              " Row(age=29, gender='Male', name='Hubert Oliveras', course='Cloud', roll=4282001, marks=70, email='Billi Clore_Elenore Choy@Cloud.com'),\n",
              " Row(age=29, gender='Male', name='Elenore Choy', course='DB', roll=4291907, marks=91, email='Hubert Oliveras_Tamera Blakley@OOP.com'),\n",
              " Row(age=28, gender='Female', name='Clementina Menke', course='OOP', roll=4301606, marks=77, email='Naoma Fritts_Leontine Phillips@MVC.com'),\n",
              " Row(age=28, gender='Male', name='Santa Kerfien', course='DB', roll=4311493, marks=90, email='Tijuana Kropf_Anna Santos@PF.com'),\n",
              " Row(age=29, gender='Female', name='Mitzi Seldon', course='Cloud', roll=4321178, marks=77, email='Kena Wild_Annika Hoffman@PF.com'),\n",
              " Row(age=29, gender='Female', name='Kizzy Brenner', course='PF', roll=4331609, marks=69, email='Taryn Brownlee_Paris Hutton@DSA.com'),\n",
              " Row(age=28, gender='Male', name='Clementina Menke', course='PF', roll=4341575, marks=89, email='Cordie Harnois_Marylee Capasso@DB.com'),\n",
              " Row(age=29, gender='Male', name='Billi Clore', course='Cloud', roll=4351588, marks=76, email='Loris Crossett_Gonzalo Ferebee@DB.com'),\n",
              " Row(age=29, gender='Female', name='Niki Klimek', course='DSA', roll=4362808, marks=69, email='Lawanda Wohlwend_Billi Clore@Cloud.com'),\n",
              " Row(age=29, gender='Male', name='Celeste Lollis', course='PF', roll=4372710, marks=63, email='Latia Vanhoose_Loris Crossett@MVC.com'),\n",
              " Row(age=28, gender='Male', name='Toshiko Hillyard', course='Cloud', roll=4381862, marks=55, email='Anna Santos_Melani Engberg@MVC.com'),\n",
              " Row(age=28, gender='Female', name='Donna Yerby', course='Cloud', roll=4392575, marks=22, email='Leontine Phillips_Jenna Montague@DSA.com'),\n",
              " Row(age=29, gender='Male', name='Margene Moores', course='OOP', roll=4401841, marks=45, email='Naoma Fritts_Eda Neathery@Cloud.com'),\n",
              " Row(age=29, gender='Male', name='Ernest Rossbach', course='DB', roll=4411585, marks=50, email='Marylee Capasso_Lawanda Wohlwend@Cloud.com'),\n",
              " Row(age=28, gender='Female', name='Paris Hutton', course='PF', roll=4421530, marks=89, email='Sebrina Maresca_Latia Vanhoose@MVC.com'),\n",
              " Row(age=28, gender='Female', name='Kena Wild', course='DB', roll=4431030, marks=59, email='Paris Hutton_Cheri Kenney@Cloud.com'),\n",
              " Row(age=29, gender='Male', name='Maybell Duguay', course='DSA', roll=4441473, marks=23, email='Billi Clore_Clementina Menke@OOP.com'),\n",
              " Row(age=29, gender='Male', name='Cheri Kenney', course='Cloud', roll=4451117, marks=73, email='Jenna Montague_Kena Wild@Cloud.com'),\n",
              " Row(age=28, gender='Female', name='Kizzy Brenner', course='Cloud', roll=4462249, marks=93, email='Naoma Fritts_Taryn Brownlee@PF.com'),\n",
              " Row(age=28, gender='Female', name='Jeannetta Golden', course='Cloud', roll=4472760, marks=79, email='Clementina Menke_Tamera Blakley@OOP.com'),\n",
              " Row(age=28, gender='Female', name='Mitzi Seldon', course='DSA', roll=4481503, marks=81, email='Jc Andrepont_Claude Panos@DB.com'),\n",
              " Row(age=29, gender='Male', name='Paris Hutton', course='DB', roll=4492478, marks=84, email='Paris Hutton_Jenna Montague@PF.com'),\n",
              " Row(age=29, gender='Female', name='Alberta Freund', course='OOP', roll=4501424, marks=21, email='Toshiko Hillyard_Celeste Lollis@MVC.com'),\n",
              " Row(age=29, gender='Male', name='Melani Engberg', course='MVC', roll=4511004, marks=71, email='Nicole Harwood_Melani Engberg@Cloud.com'),\n",
              " Row(age=28, gender='Female', name='Margene Moores', course='MVC', roll=4521977, marks=61, email='Jeannetta Golden_Jc Andrepont@MVC.com'),\n",
              " Row(age=29, gender='Male', name='Abram Nagao', course='Cloud', roll=4531204, marks=50, email='Loris Crossett_Sebrina Maresca@DB.com'),\n",
              " Row(age=29, gender='Male', name='Judie Chipps', course='DB', roll=4542925, marks=39, email='Jenna Montague_Priscila Tavernier@PF.com'),\n",
              " Row(age=29, gender='Female', name='Ernest Rossbach', course='DSA', roll=4551917, marks=79, email='Somer Stoecker_Eda Neathery@PF.com'),\n",
              " Row(age=29, gender='Female', name='Nicole Harwood', course='DSA', roll=4562217, marks=40, email='Anna Santos_Cheri Kenney@OOP.com'),\n",
              " Row(age=29, gender='Female', name='Sheryll Towler', course='DB', roll=4571866, marks=67, email='Leontine Phillips_Kizzy Brenner@Cloud.com'),\n",
              " Row(age=29, gender='Female', name='Naoma Fritts', course='DSA', roll=4582052, marks=23, email='Kena Wild_Jenna Montague@DSA.com'),\n",
              " Row(age=29, gender='Female', name='Cheri Kenney', course='PF', roll=4591235, marks=66, email='Annika Hoffman_Annika Hoffman@OOP.com'),\n",
              " Row(age=28, gender='Female', name='Celeste Lollis', course='OOP', roll=4602002, marks=61, email='Nicole Harwood_Abram Nagao@MVC.com'),\n",
              " Row(age=28, gender='Female', name='Judie Chipps', course='Cloud', roll=4612245, marks=26, email='Somer Stoecker_Naoma Fritts@Cloud.com'),\n",
              " Row(age=28, gender='Male', name='Kizzy Brenner', course='Cloud', roll=4622328, marks=21, email='Leontine Phillips_Marylee Capasso@PF.com'),\n",
              " Row(age=28, gender='Female', name='Judie Chipps', course='DSA', roll=4631068, marks=98, email='Toshiko Hillyard_Abram Nagao@MVC.com'),\n",
              " Row(age=28, gender='Male', name='Marylee Capasso', course='PF', roll=4642202, marks=94, email='Marylee Capasso_Elenore Choy@Cloud.com'),\n",
              " Row(age=28, gender='Male', name='Eda Neathery', course='DB', roll=4651622, marks=43, email='Priscila Tavernier_Hubert Oliveras@DSA.com'),\n",
              " Row(age=29, gender='Male', name='Latia Vanhoose', course='Cloud', roll=4661276, marks=40, email='Jc Andrepont_Annika Hoffman@DB.com'),\n",
              " Row(age=29, gender='Male', name='Kizzy Brenner', course='Cloud', roll=4671045, marks=81, email='Lawanda Wohlwend_Judie Chipps@OOP.com'),\n",
              " Row(age=28, gender='Male', name='Elenore Choy', course='MVC', roll=4681842, marks=88, email='Paris Hutton_Toshiko Hillyard@DB.com'),\n",
              " Row(age=29, gender='Male', name='Dustin Feagins', course='MVC', roll=4692399, marks=32, email='Gonzalo Ferebee_Somer Stoecker@OOP.com'),\n",
              " Row(age=28, gender='Female', name='Claude Panos', course='DB', roll=4701534, marks=47, email='Somer Stoecker_Naoma Fritts@DSA.com'),\n",
              " Row(age=28, gender='Female', name='Elenore Choy', course='Cloud', roll=4711825, marks=54, email='Alberta Freund_Tijuana Kropf@DSA.com'),\n",
              " Row(age=28, gender='Female', name='Mitzi Seldon', course='OOP', roll=4722700, marks=47, email='Naoma Fritts_Ernest Rossbach@DB.com'),\n",
              " Row(age=28, gender='Female', name='Tijuana Kropf', course='DSA', roll=4732921, marks=52, email='Jenna Montague_Gonzalo Ferebee@DB.com'),\n",
              " Row(age=29, gender='Male', name='Judie Chipps', course='OOP', roll=4742632, marks=94, email='Judie Chipps_Kena Wild@OOP.com'),\n",
              " Row(age=29, gender='Male', name='Jalisa Swenson', course='OOP', roll=4751515, marks=20, email='Annika Hoffman_Hubert Oliveras@Cloud.com'),\n",
              " Row(age=29, gender='Male', name='Marylee Capasso', course='MVC', roll=4762368, marks=80, email='Sebrina Maresca_Annika Hoffman@Cloud.com'),\n",
              " Row(age=28, gender='Female', name='Niki Klimek', course='DSA', roll=4772918, marks=51, email='Loris Crossett_Leontine Phillips@MVC.com'),\n",
              " Row(age=28, gender='Female', name='Priscila Tavernier', course='OOP', roll=4781044, marks=36, email='Dustin Feagins_Naoma Fritts@OOP.com'),\n",
              " Row(age=28, gender='Female', name='Latia Vanhoose', course='OOP', roll=4792828, marks=72, email='Tamera Blakley_Mitzi Seldon@DSA.com'),\n",
              " Row(age=28, gender='Male', name='Alberta Freund', course='DB', roll=4802967, marks=80, email='Naoma Fritts_Elenore Choy@DSA.com'),\n",
              " Row(age=28, gender='Female', name='Santa Kerfien', course='DB', roll=4811069, marks=85, email='Dustin Feagins_Maybell Duguay@MVC.com'),\n",
              " Row(age=29, gender='Male', name='Jalisa Swenson', course='OOP', roll=4822653, marks=70, email='Anna Santos_Abram Nagao@MVC.com'),\n",
              " Row(age=29, gender='Male', name='Elenore Choy', course='DSA', roll=4831059, marks=24, email='Abram Nagao_Kena Wild@Cloud.com'),\n",
              " Row(age=28, gender='Male', name='Cheri Kenney', course='PF', roll=4841631, marks=84, email='Abram Nagao_Naoma Fritts@MVC.com'),\n",
              " Row(age=29, gender='Female', name='Lawanda Wohlwend', course='DSA', roll=4851930, marks=64, email='Jeannetta Golden_Sheryll Towler@OOP.com'),\n",
              " Row(age=28, gender='Male', name='Cheri Kenney', course='OOP', roll=4862694, marks=68, email='Leontine Phillips_Taryn Brownlee@DB.com'),\n",
              " Row(age=28, gender='Female', name='Jeannetta Golden', course='OOP', roll=4872604, marks=58, email='Somer Stoecker_Celeste Lollis@MVC.com'),\n",
              " Row(age=28, gender='Female', name='Billi Clore', course='DSA', roll=4881063, marks=86, email='Eda Neathery_Cordie Harnois@MVC.com'),\n",
              " Row(age=28, gender='Male', name='Clementina Menke', course='DSA', roll=4891815, marks=44, email='Kena Wild_Judie Chipps@PF.com'),\n",
              " Row(age=29, gender='Male', name='Anna Santos', course='MVC', roll=4901235, marks=77, email='Gonzalo Ferebee_Sebrina Maresca@DB.com'),\n",
              " Row(age=29, gender='Male', name='Elenore Choy', course='DSA', roll=4911667, marks=52, email='Priscila Tavernier_Sheryll Towler@PF.com'),\n",
              " Row(age=29, gender='Female', name='Mitzi Seldon', course='DB', roll=4922367, marks=64, email='Annika Hoffman_Annika Hoffman@MVC.com'),\n",
              " Row(age=28, gender='Male', name='Santa Kerfien', course='DB', roll=4932764, marks=76, email='Nicole Harwood_Loris Crossett@PF.com'),\n",
              " Row(age=28, gender='Male', name='Mitzi Seldon', course='MVC', roll=4942910, marks=91, email='Tamera Blakley_Jenna Montague@DSA.com'),\n",
              " Row(age=29, gender='Female', name='Dustin Feagins', course='Cloud', roll=4952697, marks=46, email='Annika Hoffman_Elenore Choy@MVC.com'),\n",
              " Row(age=29, gender='Female', name='Paris Hutton', course='OOP', roll=4962584, marks=37, email='Anna Santos_Alberta Freund@DB.com'),\n",
              " Row(age=28, gender='Female', name='Santa Kerfien', course='DB', roll=4971408, marks=40, email='Mitzi Seldon_Naoma Fritts@PF.com'),\n",
              " Row(age=28, gender='Female', name='Toshiko Hillyard', course='Cloud', roll=4982864, marks=46, email='Michelle Ruggiero_Cordie Harnois@DB.com'),\n",
              " Row(age=28, gender='Female', name='Donna Yerby', course='DB', roll=4991657, marks=53, email='Ernest Rossbach_Somer Stoecker@DSA.com'),\n",
              " Row(age=28, gender='Female', name='Kena Wild', course='DB', roll=5001412, marks=53, email='Annika Hoffman_Jalisa Swenson@PF.com'),\n",
              " Row(age=29, gender='Male', name='Jc Andrepont', course='DB', roll=5012482, marks=60, email='Jalisa Swenson_Somer Stoecker@Cloud.com'),\n",
              " Row(age=29, gender='Male', name='Abram Nagao', course='DSA', roll=5022738, marks=42, email='Margene Moores_Latia Vanhoose@OOP.com'),\n",
              " Row(age=29, gender='Female', name='Alberta Freund', course='OOP', roll=5032356, marks=66, email='Paris Hutton_Gonzalo Ferebee@MVC.com'),\n",
              " Row(age=29, gender='Male', name='Sebrina Maresca', course='Cloud', roll=5042394, marks=21, email='Donna Yerby_Michelle Ruggiero@PF.com'),\n",
              " Row(age=29, gender='Male', name='Jeannetta Golden', course='PF', roll=5051485, marks=75, email='Neda Briski_Annika Hoffman@Cloud.com'),\n",
              " Row(age=29, gender='Male', name='Jalisa Swenson', course='OOP', roll=5061737, marks=84, email='Somer Stoecker_Latia Vanhoose@MVC.com'),\n",
              " Row(age=28, gender='Male', name='Gonzalo Ferebee', course='MVC', roll=5071004, marks=72, email='Mitzi Seldon_Taryn Brownlee@DSA.com'),\n",
              " Row(age=28, gender='Male', name='Eda Neathery', course='PF', roll=5082430, marks=22, email='Leontine Phillips_Lawanda Wohlwend@MVC.com'),\n",
              " Row(age=28, gender='Male', name='Tijuana Kropf', course='DSA', roll=5092243, marks=85, email='Jenna Montague_Loris Crossett@OOP.com'),\n",
              " Row(age=29, gender='Female', name='Leontine Phillips', course='OOP', roll=5102782, marks=86, email='Lawanda Wohlwend_Mitzi Seldon@Cloud.com'),\n",
              " Row(age=29, gender='Male', name='Alberta Freund', course='PF', roll=5112625, marks=68, email='Abram Nagao_Celeste Lollis@DSA.com'),\n",
              " Row(age=29, gender='Female', name='Niki Klimek', course='MVC', roll=5122968, marks=42, email='Jenna Montague_Hubert Oliveras@MVC.com'),\n",
              " Row(age=28, gender='Female', name='Neda Briski', course='Cloud', roll=5131604, marks=58, email='Mickey Cortright_Niki Klimek@DB.com'),\n",
              " Row(age=29, gender='Female', name='Anna Santos', course='DB', roll=5142808, marks=81, email='Donna Yerby_Naoma Fritts@DB.com'),\n",
              " Row(age=29, gender='Male', name='Gonzalo Ferebee', course='Cloud', roll=5151742, marks=46, email='Jeannetta Golden_Ernest Rossbach@DSA.com'),\n",
              " Row(age=29, gender='Male', name='Mickey Cortright', course='MVC', roll=5162191, marks=28, email='Eda Neathery_Tijuana Kropf@DB.com'),\n",
              " Row(age=28, gender='Male', name='Niki Klimek', course='DSA', roll=5172507, marks=99, email='Marylee Capasso_Elenore Choy@MVC.com'),\n",
              " Row(age=29, gender='Male', name='Elenore Choy', course='PF', roll=5181004, marks=58, email='Jc Andrepont_Loris Crossett@OOP.com'),\n",
              " Row(age=29, gender='Male', name='Loris Crossett', course='MVC', roll=5192208, marks=78, email='Tamera Blakley_Abram Nagao@DB.com'),\n",
              " Row(age=28, gender='Male', name='Jc Andrepont', course='Cloud', roll=5202136, marks=97, email='Jc Andrepont_Kena Wild@PF.com'),\n",
              " Row(age=29, gender='Female', name='Marylee Capasso', course='PF', roll=5212694, marks=64, email='Loris Crossett_Niki Klimek@Cloud.com'),\n",
              " Row(age=28, gender='Female', name='Latia Vanhoose', course='PF', roll=5222171, marks=73, email='Toshiko Hillyard_Mickey Cortright@Cloud.com'),\n",
              " Row(age=28, gender='Male', name='Eda Neathery', course='MVC', roll=5231777, marks=56, email='Judie Chipps_Jalisa Swenson@OOP.com'),\n",
              " Row(age=28, gender='Male', name='Elenore Choy', course='MVC', roll=5241419, marks=81, email='Sebrina Maresca_Taryn Brownlee@PF.com'),\n",
              " Row(age=29, gender='Female', name='Marylee Capasso', course='OOP', roll=5252441, marks=47, email='Maybell Duguay_Mickey Cortright@MVC.com'),\n",
              " Row(age=28, gender='Female', name='Taryn Brownlee', course='OOP', roll=5262828, marks=25, email='Elenore Choy_Gonzalo Ferebee@DB.com'),\n",
              " Row(age=28, gender='Male', name='Clementina Menke', course='DSA', roll=5272838, marks=27, email='Clementina Menke_Eda Neathery@MVC.com'),\n",
              " Row(age=29, gender='Male', name='Santa Kerfien', course='DB', roll=5282657, marks=81, email='Judie Chipps_Mickey Cortright@MVC.com'),\n",
              " Row(age=29, gender='Female', name='Lawanda Wohlwend', course='OOP', roll=5292220, marks=46, email='Loris Crossett_Alberta Freund@MVC.com'),\n",
              " Row(age=28, gender='Female', name='Abram Nagao', course='Cloud', roll=5301859, marks=50, email='Elenore Choy_Claude Panos@Cloud.com'),\n",
              " Row(age=28, gender='Male', name='Taryn Brownlee', course='DB', roll=5311449, marks=25, email='Santa Kerfien_Lawanda Wohlwend@OOP.com'),\n",
              " Row(age=28, gender='Male', name='Donna Yerby', course='DB', roll=5321010, marks=65, email='Jc Andrepont_Tijuana Kropf@DB.com'),\n",
              " Row(age=29, gender='Female', name='Celeste Lollis', course='Cloud', roll=5331415, marks=75, email='Leontine Phillips_Kena Wild@DB.com'),\n",
              " Row(age=28, gender='Female', name='Hubert Oliveras', course='DSA', roll=5342918, marks=82, email='Judie Chipps_Annika Hoffman@OOP.com'),\n",
              " Row(age=28, gender='Male', name='Tamera Blakley', course='DSA', roll=5352713, marks=80, email='Jeannetta Golden_Neda Briski@Cloud.com'),\n",
              " Row(age=29, gender='Male', name='Sheryll Towler', course='PF', roll=5362217, marks=36, email='Ernest Rossbach_Eda Neathery@Cloud.com'),\n",
              " Row(age=28, gender='Female', name='Ernest Rossbach', course='PF', roll=5372045, marks=87, email='Maybell Duguay_Melani Engberg@PF.com'),\n",
              " Row(age=28, gender='Male', name='Lawanda Wohlwend', course='OOP', roll=5382684, marks=34, email='Jc Andrepont_Kena Wild@Cloud.com'),\n",
              " Row(age=29, gender='Male', name='Santa Kerfien', course='OOP', roll=5391590, marks=89, email='Somer Stoecker_Loris Crossett@DB.com'),\n",
              " Row(age=29, gender='Female', name='Tamera Blakley', course='MVC', roll=5401559, marks=68, email='Alberta Freund_Jeannetta Golden@MVC.com'),\n",
              " Row(age=28, gender='Female', name='Maybell Duguay', course='Cloud', roll=5411090, marks=53, email='Jeannetta Golden_Mickey Cortright@DB.com'),\n",
              " Row(age=28, gender='Male', name='Jc Andrepont', course='DSA', roll=5421958, marks=33, email='Lawanda Wohlwend_Leontine Phillips@DB.com'),\n",
              " Row(age=28, gender='Female', name='Somer Stoecker', course='DSA', roll=5432767, marks=95, email='Mitzi Seldon_Paris Hutton@MVC.com'),\n",
              " Row(age=29, gender='Female', name='Jeannetta Golden', course='OOP', roll=5442294, marks=52, email='Elenore Choy_Sebrina Maresca@MVC.com'),\n",
              " Row(age=28, gender='Female', name='Judie Chipps', course='OOP', roll=5451977, marks=99, email='Tamera Blakley_Mickey Cortright@PF.com'),\n",
              " Row(age=28, gender='Female', name='Maybell Duguay', course='Cloud', roll=5461402, marks=29, email='Cheri Kenney_Annika Hoffman@Cloud.com'),\n",
              " Row(age=28, gender='Female', name='Jeannetta Golden', course='Cloud', roll=5472189, marks=92, email='Naoma Fritts_Annika Hoffman@DB.com'),\n",
              " Row(age=29, gender='Female', name='Lawanda Wohlwend', course='Cloud', roll=5482981, marks=37, email='Billi Clore_Eda Neathery@DB.com'),\n",
              " Row(age=29, gender='Female', name='Eda Neathery', course='Cloud', roll=5492989, marks=43, email='Cordie Harnois_Latia Vanhoose@DB.com'),\n",
              " Row(age=28, gender='Male', name='Anna Santos', course='DSA', roll=5502368, marks=84, email='Sebrina Maresca_Jc Andrepont@Cloud.com'),\n",
              " Row(age=28, gender='Female', name='Neda Briski', course='MVC', roll=5512387, marks=54, email='Jenna Montague_Melani Engberg@Cloud.com'),\n",
              " Row(age=29, gender='Female', name='Claude Panos', course='Cloud', roll=5521752, marks=94, email='Sebrina Maresca_Sheryll Towler@MVC.com'),\n",
              " Row(age=29, gender='Female', name='Judie Chipps', course='Cloud', roll=5532421, marks=80, email='Sebrina Maresca_Donna Yerby@Cloud.com'),\n",
              " Row(age=29, gender='Female', name='Hubert Oliveras', course='DSA', roll=5542363, marks=23, email='Priscila Tavernier_Niki Klimek@DSA.com'),\n",
              " Row(age=28, gender='Male', name='Gonzalo Ferebee', course='PF', roll=5552593, marks=55, email='Jeannetta Golden_Dustin Feagins@Cloud.com'),\n",
              " Row(age=28, gender='Female', name='Mickey Cortright', course='OOP', roll=5561955, marks=38, email='Jenna Montague_Hubert Oliveras@DSA.com'),\n",
              " Row(age=28, gender='Male', name='Abram Nagao', course='OOP', roll=5571082, marks=85, email='Santa Kerfien_Jalisa Swenson@PF.com'),\n",
              " Row(age=29, gender='Female', name='Dustin Feagins', course='DB', roll=5581136, marks=32, email='Alberta Freund_Celeste Lollis@Cloud.com'),\n",
              " Row(age=29, gender='Male', name='Sheryll Towler', course='DSA', roll=5591018, marks=56, email='Tijuana Kropf_Dustin Feagins@DSA.com'),\n",
              " Row(age=28, gender='Female', name='Mitzi Seldon', course='DB', roll=5602986, marks=65, email='Toshiko Hillyard_Elenore Choy@MVC.com'),\n",
              " Row(age=28, gender='Male', name='Michelle Ruggiero', course='PF', roll=5612879, marks=64, email='Tijuana Kropf_Maybell Duguay@PF.com'),\n",
              " Row(age=29, gender='Male', name='Margene Moores', course='OOP', roll=5621072, marks=97, email='Sheryll Towler_Margene Moores@MVC.com'),\n",
              " Row(age=29, gender='Female', name='Gonzalo Ferebee', course='DSA', roll=5631172, marks=20, email='Jeannetta Golden_Hubert Oliveras@MVC.com'),\n",
              " Row(age=28, gender='Male', name='Cheri Kenney', course='Cloud', roll=5641528, marks=94, email='Sebrina Maresca_Leontine Phillips@OOP.com'),\n",
              " Row(age=29, gender='Female', name='Niki Klimek', course='DSA', roll=5651181, marks=38, email='Dustin Feagins_Naoma Fritts@OOP.com'),\n",
              " Row(age=28, gender='Male', name='Tamera Blakley', course='DB', roll=5661433, marks=76, email='Abram Nagao_Leontine Phillips@MVC.com'),\n",
              " Row(age=28, gender='Male', name='Annika Hoffman', course='OOP', roll=5672977, marks=38, email='Paris Hutton_Latia Vanhoose@DB.com'),\n",
              " Row(age=29, gender='Male', name='Judie Chipps', course='OOP', roll=5682469, marks=24, email='Tamera Blakley_Maybell Duguay@DSA.com'),\n",
              " Row(age=29, gender='Male', name='Cordie Harnois', course='PF', roll=5691278, marks=24, email='Paris Hutton_Hubert Oliveras@MVC.com'),\n",
              " Row(age=29, gender='Male', name='Cheri Kenney', course='OOP', roll=5702560, marks=32, email='Lawanda Wohlwend_Naoma Fritts@Cloud.com'),\n",
              " Row(age=28, gender='Female', name='Jalisa Swenson', course='MVC', roll=5712033, marks=99, email='Dustin Feagins_Hubert Oliveras@DSA.com'),\n",
              " Row(age=29, gender='Male', name='Tamera Blakley', course='OOP', roll=5722341, marks=68, email='Jalisa Swenson_Santa Kerfien@OOP.com'),\n",
              " Row(age=29, gender='Male', name='Bonita Higuera', course='OOP', roll=5732408, marks=82, email='Mitzi Seldon_Claude Panos@PF.com'),\n",
              " Row(age=28, gender='Female', name='Sebrina Maresca', course='PF', roll=5742239, marks=21, email='Bonita Higuera_Sebrina Maresca@DB.com'),\n",
              " Row(age=29, gender='Female', name='Leontine Phillips', course='OOP', roll=5752610, marks=30, email='Jeannetta Golden_Mitzi Seldon@MVC.com'),\n",
              " Row(age=28, gender='Female', name='Sebrina Maresca', course='DSA', roll=5761415, marks=89, email='Margene Moores_Kena Wild@DSA.com'),\n",
              " Row(age=29, gender='Male', name='Gonzalo Ferebee', course='MVC', roll=5772006, marks=99, email='Niki Klimek_Margene Moores@MVC.com'),\n",
              " Row(age=28, gender='Female', name='Melani Engberg', course='Cloud', roll=5782064, marks=64, email='Ernest Rossbach_Ernest Rossbach@Cloud.com'),\n",
              " Row(age=28, gender='Male', name='Naoma Fritts', course='OOP', roll=5791890, marks=45, email='Billi Clore_Jenna Montague@Cloud.com'),\n",
              " Row(age=28, gender='Female', name='Somer Stoecker', course='MVC', roll=5801302, marks=34, email='Cheri Kenney_Bonita Higuera@OOP.com'),\n",
              " Row(age=28, gender='Male', name='Mickey Cortright', course='PF', roll=5812370, marks=39, email='Jenna Montague_Sheryll Towler@OOP.com'),\n",
              " Row(age=29, gender='Male', name='Eda Neathery', course='PF', roll=5821087, marks=55, email='Nicole Harwood_Paris Hutton@DSA.com'),\n",
              " Row(age=29, gender='Male', name='Priscila Tavernier', course='OOP', roll=5831872, marks=63, email='Somer Stoecker_Kena Wild@OOP.com'),\n",
              " Row(age=28, gender='Female', name='Alberta Freund', course='MVC', roll=5842912, marks=51, email='Cordie Harnois_Margene Moores@OOP.com'),\n",
              " Row(age=29, gender='Female', name='Paris Hutton', course='PF', roll=5852476, marks=66, email='Loris Crossett_Mickey Cortright@MVC.com'),\n",
              " Row(age=28, gender='Female', name='Nicole Harwood', course='DB', roll=5862606, marks=77, email='Clementina Menke_Donna Yerby@DB.com'),\n",
              " Row(age=28, gender='Female', name='Judie Chipps', course='DB', roll=5872939, marks=24, email='Mitzi Seldon_Paris Hutton@OOP.com'),\n",
              " Row(age=28, gender='Female', name='Somer Stoecker', course='PF', roll=5882098, marks=98, email='Judie Chipps_Clementina Menke@PF.com'),\n",
              " Row(age=29, gender='Female', name='Jenna Montague', course='Cloud', roll=5892993, marks=86, email='Jeannetta Golden_Marylee Capasso@MVC.com'),\n",
              " Row(age=28, gender='Male', name='Sebrina Maresca', course='PF', roll=5902730, marks=34, email='Michelle Ruggiero_Claude Panos@DSA.com'),\n",
              " Row(age=29, gender='Female', name='Melani Engberg', course='DSA', roll=5911007, marks=54, email='Kizzy Brenner_Tamera Blakley@OOP.com'),\n",
              " Row(age=29, gender='Female', name='Gonzalo Ferebee', course='MVC', roll=5922869, marks=80, email='Toshiko Hillyard_Naoma Fritts@OOP.com'),\n",
              " Row(age=29, gender='Male', name='Donna Yerby', course='DB', roll=5932345, marks=78, email='Leontine Phillips_Sheryll Towler@PF.com'),\n",
              " Row(age=28, gender='Female', name='Somer Stoecker', course='DSA', roll=5942293, marks=88, email='Nicole Harwood_Tamera Blakley@DB.com'),\n",
              " Row(age=28, gender='Female', name='Anna Santos', course='OOP', roll=5952812, marks=56, email='Jeannetta Golden_Eda Neathery@DB.com'),\n",
              " Row(age=28, gender='Female', name='Cheri Kenney', course='OOP', roll=5961043, marks=37, email='Bonita Higuera_Marylee Capasso@PF.com'),\n",
              " Row(age=28, gender='Female', name='Tamera Blakley', course='DSA', roll=5972030, marks=28, email='Leontine Phillips_Annika Hoffman@DSA.com'),\n",
              " Row(age=29, gender='Female', name='Dustin Feagins', course='Cloud', roll=5982620, marks=72, email='Kena Wild_Cheri Kenney@OOP.com'),\n",
              " Row(age=28, gender='Male', name='Toshiko Hillyard', course='DSA', roll=5992644, marks=77, email='Jenna Montague_Tijuana Kropf@Cloud.com'),\n",
              " Row(age=29, gender='Male', name='Michelle Ruggiero', course='PF', roll=6001585, marks=20, email='Paris Hutton_Margene Moores@PF.com'),\n",
              " Row(age=29, gender='Male', name='Kizzy Brenner', course='DSA', roll=6012402, marks=71, email='Elenore Choy_Alberta Freund@PF.com'),\n",
              " Row(age=29, gender='Female', name='Tijuana Kropf', course='Cloud', roll=6021281, marks=42, email='Alberta Freund_Sheryll Towler@PF.com'),\n",
              " Row(age=28, gender='Male', name='Gonzalo Ferebee', course='MVC', roll=6032264, marks=71, email='Jeannetta Golden_Claude Panos@Cloud.com'),\n",
              " Row(age=29, gender='Male', name='Cheri Kenney', course='DB', roll=6041254, marks=59, email='Gonzalo Ferebee_Margene Moores@PF.com'),\n",
              " Row(age=29, gender='Female', name='Paris Hutton', course='DB', roll=6052159, marks=34, email='Priscila Tavernier_Maybell Duguay@PF.com'),\n",
              " Row(age=28, gender='Female', name='Bonita Higuera', course='Cloud', roll=6061881, marks=23, email='Dustin Feagins_Lawanda Wohlwend@PF.com'),\n",
              " Row(age=29, gender='Female', name='Alberta Freund', course='DSA', roll=6071316, marks=99, email='Dustin Feagins_Sebrina Maresca@DB.com'),\n",
              " Row(age=28, gender='Male', name='Priscila Tavernier', course='DSA', roll=6082520, marks=89, email='Clementina Menke_Hubert Oliveras@DSA.com'),\n",
              " Row(age=29, gender='Male', name='Kena Wild', course='DSA', roll=6092008, marks=76, email='Sheryll Towler_Anna Santos@PF.com'),\n",
              " Row(age=29, gender='Female', name='Billi Clore', course='Cloud', roll=6101096, marks=27, email='Maybell Duguay_Claude Panos@PF.com'),\n",
              " Row(age=29, gender='Female', name='Alberta Freund', course='PF', roll=6111594, marks=89, email='Celeste Lollis_Anna Santos@Cloud.com'),\n",
              " Row(age=29, gender='Female', name='Jalisa Swenson', course='Cloud', roll=6121309, marks=59, email='Kizzy Brenner_Dustin Feagins@PF.com'),\n",
              " Row(age=28, gender='Male', name='Paris Hutton', course='DB', roll=6131084, marks=72, email='Tijuana Kropf_Abram Nagao@MVC.com'),\n",
              " Row(age=29, gender='Male', name='Jalisa Swenson', course='DB', roll=6141407, marks=97, email='Ernest Rossbach_Alberta Freund@DB.com'),\n",
              " Row(age=28, gender='Female', name='Jenna Montague', course='DSA', roll=6152830, marks=81, email='Gonzalo Ferebee_Lawanda Wohlwend@DB.com'),\n",
              " Row(age=29, gender='Female', name='Jalisa Swenson', course='Cloud', roll=6161884, marks=40, email='Bonita Higuera_Latia Vanhoose@OOP.com'),\n",
              " Row(age=29, gender='Male', name='Jc Andrepont', course='Cloud', roll=6171781, marks=88, email='Gonzalo Ferebee_Claude Panos@DB.com'),\n",
              " Row(age=29, gender='Female', name='Abram Nagao', course='PF', roll=6182152, marks=50, email='Santa Kerfien_Claude Panos@DB.com'),\n",
              " Row(age=28, gender='Female', name='Cheri Kenney', course='Cloud', roll=6192920, marks=40, email='Maybell Duguay_Neda Briski@OOP.com'),\n",
              " Row(age=28, gender='Female', name='Kena Wild', course='DSA', roll=6201485, marks=85, email='Niki Klimek_Clementina Menke@MVC.com'),\n",
              " Row(age=29, gender='Female', name='Loris Crossett', course='DB', roll=6212990, marks=39, email='Melani Engberg_Paris Hutton@Cloud.com'),\n",
              " Row(age=29, gender='Female', name='Kizzy Brenner', course='DB', roll=6222425, marks=69, email='Margene Moores_Sebrina Maresca@MVC.com'),\n",
              " Row(age=29, gender='Male', name='Neda Briski', course='DSA', roll=6231956, marks=75, email='Nicole Harwood_Santa Kerfien@Cloud.com'),\n",
              " Row(age=28, gender='Female', name='Billi Clore', course='DSA', roll=6242097, marks=97, email='Jeannetta Golden_Maybell Duguay@DSA.com'),\n",
              " Row(age=29, gender='Male', name='Melani Engberg', course='PF', roll=6252274, marks=64, email='Latia Vanhoose_Paris Hutton@OOP.com'),\n",
              " Row(age=28, gender='Female', name='Judie Chipps', course='Cloud', roll=6261948, marks=80, email='Eda Neathery_Priscila Tavernier@MVC.com'),\n",
              " Row(age=28, gender='Female', name='Sheryll Towler', course='DB', roll=6271754, marks=43, email='Elenore Choy_Melani Engberg@MVC.com'),\n",
              " Row(age=28, gender='Male', name='Tijuana Kropf', course='Cloud', roll=6281730, marks=83, email='Mickey Cortright_Celeste Lollis@Cloud.com'),\n",
              " Row(age=28, gender='Male', name='Alberta Freund', course='PF', roll=6291431, marks=68, email='Clementina Menke_Billi Clore@PF.com'),\n",
              " Row(age=28, gender='Female', name='Maybell Duguay', course='DB', roll=6301666, marks=88, email='Latia Vanhoose_Jc Andrepont@Cloud.com'),\n",
              " Row(age=29, gender='Male', name='Eda Neathery', course='DB', roll=6311969, marks=83, email='Clementina Menke_Neda Briski@DB.com'),\n",
              " Row(age=29, gender='Male', name='Claude Panos', course='OOP', roll=6321119, marks=35, email='Bonita Higuera_Eda Neathery@DSA.com'),\n",
              " Row(age=29, gender='Female', name='Dustin Feagins', course='PF', roll=6331469, marks=51, email='Melani Engberg_Margene Moores@MVC.com'),\n",
              " Row(age=28, gender='Female', name='Dustin Feagins', course='OOP', roll=6341113, marks=25, email='Latia Vanhoose_Jenna Montague@OOP.com'),\n",
              " Row(age=28, gender='Male', name='Alberta Freund', course='PF', roll=6352910, marks=52, email='Judie Chipps_Maybell Duguay@Cloud.com'),\n",
              " Row(age=28, gender='Female', name='Michelle Ruggiero', course='Cloud', roll=6362263, marks=66, email='Sheryll Towler_Donna Yerby@Cloud.com'),\n",
              " Row(age=29, gender='Male', name='Toshiko Hillyard', course='DSA', roll=6371328, marks=91, email='Somer Stoecker_Maybell Duguay@OOP.com'),\n",
              " Row(age=28, gender='Male', name='Annika Hoffman', course='MVC', roll=6381719, marks=48, email='Ernest Rossbach_Jc Andrepont@DSA.com'),\n",
              " Row(age=28, gender='Male', name='Lawanda Wohlwend', course='Cloud', roll=6391977, marks=39, email='Marylee Capasso_Melani Engberg@MVC.com'),\n",
              " Row(age=28, gender='Female', name='Eda Neathery', course='PF', roll=6402146, marks=78, email='Sheryll Towler_Somer Stoecker@PF.com'),\n",
              " Row(age=29, gender='Female', name='Eda Neathery', course='DSA', roll=6412002, marks=95, email='Sebrina Maresca_Hubert Oliveras@Cloud.com'),\n",
              " Row(age=28, gender='Male', name='Naoma Fritts', course='DB', roll=6422790, marks=95, email='Sheryll Towler_Ernest Rossbach@DSA.com'),\n",
              " Row(age=29, gender='Male', name='Elenore Choy', course='PF', roll=6431645, marks=53, email='Loris Crossett_Kena Wild@MVC.com'),\n",
              " Row(age=28, gender='Male', name='Leontine Phillips', course='PF', roll=6442094, marks=78, email='Michelle Ruggiero_Paris Hutton@OOP.com'),\n",
              " Row(age=29, gender='Female', name='Maybell Duguay', course='MVC', roll=6451082, marks=33, email='Lawanda Wohlwend_Mitzi Seldon@DB.com'),\n",
              " Row(age=29, gender='Female', name='Niki Klimek', course='PF', roll=6462485, marks=84, email='Tamera Blakley_Niki Klimek@Cloud.com'),\n",
              " Row(age=28, gender='Male', name='Taryn Brownlee', course='PF', roll=6471481, marks=76, email='Annika Hoffman_Donna Yerby@OOP.com'),\n",
              " Row(age=29, gender='Female', name='Claude Panos', course='Cloud', roll=6482574, marks=67, email='Eda Neathery_Billi Clore@Cloud.com'),\n",
              " Row(age=29, gender='Male', name='Bonita Higuera', course='MVC', roll=6491656, marks=45, email='Neda Briski_Naoma Fritts@DB.com'),\n",
              " Row(age=28, gender='Male', name='Jalisa Swenson', course='MVC', roll=6501571, marks=71, email='Naoma Fritts_Niki Klimek@MVC.com'),\n",
              " Row(age=29, gender='Male', name='Judie Chipps', course='Cloud', roll=6511826, marks=74, email='Clementina Menke_Judie Chipps@DSA.com'),\n",
              " Row(age=28, gender='Female', name='Nicole Harwood', course='DB', roll=6522046, marks=79, email='Naoma Fritts_Margene Moores@DSA.com'),\n",
              " Row(age=29, gender='Male', name='Somer Stoecker', course='DSA', roll=6531094, marks=81, email='Dustin Feagins_Kena Wild@MVC.com'),\n",
              " Row(age=28, gender='Female', name='Priscila Tavernier', course='Cloud', roll=6542640, marks=27, email='Kizzy Brenner_Loris Crossett@Cloud.com'),\n",
              " Row(age=29, gender='Male', name='Neda Briski', course='MVC', roll=6552886, marks=83, email='Abram Nagao_Marylee Capasso@OOP.com'),\n",
              " Row(age=28, gender='Male', name='Cheri Kenney', course='Cloud', roll=6562808, marks=92, email='Donna Yerby_Dustin Feagins@PF.com'),\n",
              " Row(age=29, gender='Male', name='Tijuana Kropf', course='PF', roll=6572639, marks=71, email='Sheryll Towler_Latia Vanhoose@PF.com'),\n",
              " Row(age=28, gender='Female', name='Kizzy Brenner', course='DB', roll=6582931, marks=57, email='Alberta Freund_Jc Andrepont@PF.com'),\n",
              " Row(age=29, gender='Female', name='Melani Engberg', course='Cloud', roll=6592152, marks=30, email='Gonzalo Ferebee_Hubert Oliveras@MVC.com'),\n",
              " Row(age=28, gender='Male', name='Tamera Blakley', course='Cloud', roll=6601939, marks=34, email='Jenna Montague_Clementina Menke@Cloud.com'),\n",
              " Row(age=29, gender='Male', name='Gonzalo Ferebee', course='DSA', roll=6611648, marks=66, email='Tijuana Kropf_Elenore Choy@OOP.com'),\n",
              " Row(age=29, gender='Female', name='Jeannetta Golden', course='DSA', roll=6621600, marks=32, email='Dustin Feagins_Sheryll Towler@MVC.com'),\n",
              " Row(age=28, gender='Male', name='Neda Briski', course='DB', roll=6632463, marks=48, email='Sheryll Towler_Dustin Feagins@Cloud.com'),\n",
              " Row(age=28, gender='Male', name='Maybell Duguay', course='MVC', roll=6642438, marks=56, email='Margene Moores_Bonita Higuera@DB.com'),\n",
              " Row(age=28, gender='Male', name='Naoma Fritts', course='OOP', roll=6652677, marks=77, email='Lawanda Wohlwend_Billi Clore@MVC.com'),\n",
              " Row(age=29, gender='Female', name='Margene Moores', course='OOP', roll=6662414, marks=60, email='Hubert Oliveras_Margene Moores@DSA.com'),\n",
              " Row(age=29, gender='Female', name='Sheryll Towler', course='OOP', roll=6672653, marks=23, email='Jenna Montague_Santa Kerfien@PF.com'),\n",
              " Row(age=29, gender='Male', name='Paris Hutton', course='PF', roll=6682291, marks=78, email='Margene Moores_Hubert Oliveras@PF.com'),\n",
              " Row(age=28, gender='Female', name='Taryn Brownlee', course='Cloud', roll=6692958, marks=31, email='Cordie Harnois_Cheri Kenney@OOP.com'),\n",
              " Row(age=28, gender='Female', name='Latia Vanhoose', course='Cloud', roll=6701628, marks=33, email='Abram Nagao_Cheri Kenney@DB.com'),\n",
              " Row(age=28, gender='Female', name='Kizzy Brenner', course='Cloud', roll=6711773, marks=84, email='Leontine Phillips_Donna Yerby@DSA.com'),\n",
              " Row(age=28, gender='Male', name='Paris Hutton', course='PF', roll=6722224, marks=90, email='Niki Klimek_Gonzalo Ferebee@Cloud.com'),\n",
              " Row(age=29, gender='Female', name='Anna Santos', course='DB', roll=6732334, marks=45, email='Gonzalo Ferebee_Alberta Freund@DSA.com'),\n",
              " Row(age=29, gender='Female', name='Judie Chipps', course='PF', roll=6742197, marks=62, email='Eda Neathery_Elenore Choy@MVC.com'),\n",
              " Row(age=28, gender='Male', name='Donna Yerby', course='MVC', roll=6752737, marks=26, email='Mickey Cortright_Gonzalo Ferebee@DSA.com'),\n",
              " Row(age=28, gender='Male', name='Anna Santos', course='OOP', roll=6762411, marks=81, email='Bonita Higuera_Annika Hoffman@Cloud.com'),\n",
              " Row(age=29, gender='Female', name='Latia Vanhoose', course='MVC', roll=6771882, marks=49, email='Alberta Freund_Latia Vanhoose@DB.com'),\n",
              " Row(age=29, gender='Female', name='Ernest Rossbach', course='PF', roll=6782099, marks=59, email='Claude Panos_Annika Hoffman@DSA.com'),\n",
              " Row(age=28, gender='Male', name='Paris Hutton', course='MVC', roll=6791398, marks=63, email='Bonita Higuera_Billi Clore@OOP.com'),\n",
              " Row(age=29, gender='Male', name='Billi Clore', course='Cloud', roll=6802170, marks=52, email='Dustin Feagins_Sebrina Maresca@DSA.com'),\n",
              " Row(age=29, gender='Male', name='Tamera Blakley', course='DB', roll=6811165, marks=62, email='Annika Hoffman_Bonita Higuera@PF.com'),\n",
              " Row(age=29, gender='Male', name='Tamera Blakley', course='Cloud', roll=6822429, marks=67, email='Donna Yerby_Cheri Kenney@DB.com'),\n",
              " Row(age=28, gender='Female', name='Kena Wild', course='DSA', roll=6831241, marks=94, email='Loris Crossett_Leontine Phillips@OOP.com'),\n",
              " Row(age=29, gender='Male', name='Neda Briski', course='OOP', roll=6842985, marks=80, email='Toshiko Hillyard_Cordie Harnois@MVC.com'),\n",
              " Row(age=29, gender='Female', name='Donna Yerby', course='PF', roll=6851744, marks=59, email='Maybell Duguay_Hubert Oliveras@Cloud.com'),\n",
              " Row(age=29, gender='Female', name='Mitzi Seldon', course='DB', roll=6862019, marks=78, email='Kena Wild_Celeste Lollis@DSA.com'),\n",
              " Row(age=29, gender='Male', name='Margene Moores', course='DSA', roll=6872276, marks=89, email='Leontine Phillips_Annika Hoffman@PF.com'),\n",
              " Row(age=28, gender='Female', name='Billi Clore', course='Cloud', roll=6882495, marks=46, email='Claude Panos_Latia Vanhoose@DSA.com'),\n",
              " Row(age=28, gender='Female', name='Kizzy Brenner', course='DB', roll=6892057, marks=70, email='Priscila Tavernier_Judie Chipps@OOP.com'),\n",
              " Row(age=28, gender='Male', name='Leontine Phillips', course='MVC', roll=6902478, marks=32, email='Melani Engberg_Ernest Rossbach@MVC.com'),\n",
              " Row(age=29, gender='Female', name='Kena Wild', course='DB', roll=6911600, marks=73, email='Maybell Duguay_Latia Vanhoose@PF.com'),\n",
              " Row(age=28, gender='Female', name='Paris Hutton', course='Cloud', roll=6922359, marks=46, email='Neda Briski_Dustin Feagins@DB.com'),\n",
              " Row(age=29, gender='Female', name='Maybell Duguay', course='OOP', roll=6931378, marks=55, email='Toshiko Hillyard_Latia Vanhoose@DSA.com'),\n",
              " Row(age=29, gender='Female', name='Sebrina Maresca', course='MVC', roll=6941692, marks=85, email='Billi Clore_Jc Andrepont@Cloud.com'),\n",
              " Row(age=28, gender='Female', name='Tamera Blakley', course='DSA', roll=6951836, marks=81, email='Somer Stoecker_Donna Yerby@OOP.com'),\n",
              " Row(age=29, gender='Male', name='Loris Crossett', course='MVC', roll=6962740, marks=95, email='Jeannetta Golden_Ernest Rossbach@OOP.com'),\n",
              " Row(age=28, gender='Female', name='Niki Klimek', course='DSA', roll=6971140, marks=27, email='Leontine Phillips_Gonzalo Ferebee@MVC.com'),\n",
              " Row(age=28, gender='Male', name='Elenore Choy', course='MVC', roll=6982740, marks=41, email='Latia Vanhoose_Leontine Phillips@PF.com'),\n",
              " Row(age=29, gender='Male', name='Donna Yerby', course='DSA', roll=6991370, marks=91, email='Dustin Feagins_Abram Nagao@PF.com'),\n",
              " Row(age=29, gender='Male', name='Santa Kerfien', course='OOP', roll=7001706, marks=77, email='Bonita Higuera_Nicole Harwood@DSA.com'),\n",
              " Row(age=28, gender='Female', name='Judie Chipps', course='PF', roll=7012144, marks=88, email='Nicole Harwood_Tamera Blakley@PF.com'),\n",
              " Row(age=28, gender='Female', name='Neda Briski', course='PF', roll=7021987, marks=62, email='Elenore Choy_Jenna Montague@DSA.com'),\n",
              " Row(age=29, gender='Male', name='Tamera Blakley', course='DSA', roll=7031305, marks=57, email='Clementina Menke_Toshiko Hillyard@PF.com'),\n",
              " Row(age=29, gender='Male', name='Cordie Harnois', course='DSA', roll=7041544, marks=97, email='Kizzy Brenner_Jalisa Swenson@OOP.com'),\n",
              " Row(age=28, gender='Male', name='Leontine Phillips', course='Cloud', roll=7051293, marks=77, email='Bonita Higuera_Cheri Kenney@Cloud.com'),\n",
              " Row(age=29, gender='Male', name='Margene Moores', course='MVC', roll=7062262, marks=59, email='Nicole Harwood_Michelle Ruggiero@Cloud.com'),\n",
              " Row(age=28, gender='Female', name='Mickey Cortright', course='MVC', roll=7071556, marks=36, email='Priscila Tavernier_Nicole Harwood@OOP.com'),\n",
              " Row(age=29, gender='Female', name='Annika Hoffman', course='MVC', roll=7081972, marks=95, email='Judie Chipps_Mitzi Seldon@OOP.com'),\n",
              " Row(age=28, gender='Female', name='Ernest Rossbach', course='MVC', roll=7091785, marks=57, email='Loris Crossett_Billi Clore@PF.com'),\n",
              " Row(age=29, gender='Male', name='Hubert Oliveras', course='OOP', roll=7102834, marks=44, email='Hubert Oliveras_Celeste Lollis@Cloud.com'),\n",
              " Row(age=29, gender='Male', name='Eda Neathery', course='MVC', roll=7111575, marks=47, email='Anna Santos_Tamera Blakley@DSA.com'),\n",
              " Row(age=28, gender='Female', name='Nicole Harwood', course='DSA', roll=7121730, marks=53, email='Michelle Ruggiero_Marylee Capasso@MVC.com'),\n",
              " Row(age=28, gender='Female', name='Anna Santos', course='PF', roll=7132856, marks=30, email='Elenore Choy_Paris Hutton@DSA.com'),\n",
              " Row(age=29, gender='Male', name='Cordie Harnois', course='Cloud', roll=7141186, marks=74, email='Paris Hutton_Marylee Capasso@PF.com'),\n",
              " Row(age=28, gender='Female', name='Bonita Higuera', course='OOP', roll=7151179, marks=53, email='Taryn Brownlee_Sheryll Towler@Cloud.com'),\n",
              " Row(age=28, gender='Male', name='Gonzalo Ferebee', course='OOP', roll=7162059, marks=23, email='Melani Engberg_Melani Engberg@DSA.com'),\n",
              " Row(age=28, gender='Male', name='Clementina Menke', course='DB', roll=7172058, marks=62, email='Mitzi Seldon_Clementina Menke@MVC.com'),\n",
              " Row(age=29, gender='Female', name='Jeannetta Golden', course='Cloud', roll=7182144, marks=70, email='Naoma Fritts_Niki Klimek@PF.com'),\n",
              " Row(age=28, gender='Female', name='Melani Engberg', course='OOP', roll=7192072, marks=92, email='Cheri Kenney_Ernest Rossbach@DSA.com'),\n",
              " Row(age=29, gender='Male', name='Sebrina Maresca', course='DSA', roll=7202414, marks=51, email='Ernest Rossbach_Jalisa Swenson@MVC.com'),\n",
              " Row(age=28, gender='Male', name='Dustin Feagins', course='DSA', roll=7212606, marks=51, email='Cheri Kenney_Eda Neathery@DB.com'),\n",
              " Row(age=29, gender='Female', name='Lawanda Wohlwend', course='Cloud', roll=7222880, marks=98, email='Sheryll Towler_Anna Santos@DB.com'),\n",
              " Row(age=28, gender='Female', name='Clementina Menke', course='DSA', roll=7231357, marks=42, email='Judie Chipps_Cordie Harnois@MVC.com'),\n",
              " Row(age=28, gender='Male', name='Leontine Phillips', course='DB', roll=7242704, marks=72, email='Maybell Duguay_Toshiko Hillyard@PF.com'),\n",
              " Row(age=28, gender='Male', name='Taryn Brownlee', course='PF', roll=7252400, marks=77, email='Marylee Capasso_Jeannetta Golden@DB.com'),\n",
              " Row(age=28, gender='Female', name='Lawanda Wohlwend', course='DB', roll=7261840, marks=81, email='Donna Yerby_Kizzy Brenner@Cloud.com'),\n",
              " Row(age=29, gender='Female', name='Bonita Higuera', course='Cloud', roll=7272043, marks=72, email='Alberta Freund_Latia Vanhoose@PF.com'),\n",
              " Row(age=29, gender='Male', name='Neda Briski', course='DSA', roll=7282511, marks=42, email='Jalisa Swenson_Naoma Fritts@MVC.com'),\n",
              " Row(age=28, gender='Female', name='Clementina Menke', course='Cloud', roll=7291419, marks=46, email='Bonita Higuera_Naoma Fritts@OOP.com'),\n",
              " Row(age=28, gender='Male', name='Sheryll Towler', course='Cloud', roll=7301966, marks=63, email='Jalisa Swenson_Leontine Phillips@DSA.com'),\n",
              " Row(age=28, gender='Male', name='Taryn Brownlee', course='PF', roll=7311546, marks=27, email='Clementina Menke_Melani Engberg@MVC.com'),\n",
              " Row(age=28, gender='Male', name='Cheri Kenney', course='OOP', roll=7321040, marks=83, email='Sheryll Towler_Judie Chipps@PF.com'),\n",
              " Row(age=28, gender='Male', name='Marylee Capasso', course='DSA', roll=7331984, marks=70, email='Bonita Higuera_Melani Engberg@PF.com'),\n",
              " Row(age=29, gender='Male', name='Tamera Blakley', course='OOP', roll=7341268, marks=21, email='Anna Santos_Naoma Fritts@OOP.com'),\n",
              " Row(age=29, gender='Female', name='Jc Andrepont', course='OOP', roll=7351315, marks=84, email='Judie Chipps_Margene Moores@OOP.com'),\n",
              " Row(age=29, gender='Male', name='Claude Panos', course='PF', roll=7362772, marks=92, email='Clementina Menke_Naoma Fritts@OOP.com'),\n",
              " Row(age=29, gender='Male', name='Annika Hoffman', course='MVC', roll=7372375, marks=35, email='Sheryll Towler_Taryn Brownlee@MVC.com'),\n",
              " Row(age=28, gender='Female', name='Latia Vanhoose', course='MVC', roll=7381991, marks=94, email='Eda Neathery_Michelle Ruggiero@MVC.com'),\n",
              " Row(age=29, gender='Male', name='Margene Moores', course='MVC', roll=7391087, marks=59, email='Jc Andrepont_Latia Vanhoose@DSA.com'),\n",
              " Row(age=29, gender='Female', name='Claude Panos', course='PF', roll=7402827, marks=82, email='Kizzy Brenner_Kena Wild@MVC.com'),\n",
              " Row(age=29, gender='Female', name='Santa Kerfien', course='PF', roll=7412168, marks=24, email='Eda Neathery_Abram Nagao@Cloud.com'),\n",
              " Row(age=29, gender='Male', name='Celeste Lollis', course='PF', roll=7421417, marks=83, email='Jc Andrepont_Maybell Duguay@PF.com'),\n",
              " Row(age=28, gender='Female', name='Lawanda Wohlwend', course='DSA', roll=7431179, marks=91, email='Anna Santos_Neda Briski@DB.com'),\n",
              " Row(age=28, gender='Female', name='Loris Crossett', course='Cloud', roll=7441605, marks=72, email='Sheryll Towler_Kena Wild@DB.com'),\n",
              " Row(age=28, gender='Female', name='Taryn Brownlee', course='MVC', roll=7452944, marks=33, email='Elenore Choy_Jenna Montague@MVC.com'),\n",
              " Row(age=28, gender='Male', name='Tijuana Kropf', course='MVC', roll=7462328, marks=32, email='Toshiko Hillyard_Tamera Blakley@DSA.com'),\n",
              " Row(age=29, gender='Female', name='Melani Engberg', course='DB', roll=7471313, marks=77, email='Cheri Kenney_Celeste Lollis@PF.com'),\n",
              " Row(age=29, gender='Female', name='Dustin Feagins', course='MVC', roll=7481997, marks=37, email='Mickey Cortright_Gonzalo Ferebee@MVC.com'),\n",
              " Row(age=28, gender='Female', name='Eda Neathery', course='MVC', roll=7491443, marks=46, email='Neda Briski_Margene Moores@OOP.com'),\n",
              " Row(age=28, gender='Male', name='Priscila Tavernier', course='MVC', roll=7502427, marks=97, email='Alberta Freund_Niki Klimek@OOP.com'),\n",
              " Row(age=28, gender='Male', name='Hubert Oliveras', course='MVC', roll=7512833, marks=47, email='Loris Crossett_Jenna Montague@OOP.com'),\n",
              " Row(age=29, gender='Female', name='Leontine Phillips', course='PF', roll=7522221, marks=52, email='Hubert Oliveras_Dustin Feagins@Cloud.com'),\n",
              " Row(age=28, gender='Female', name='Melani Engberg', course='Cloud', roll=7531661, marks=25, email='Gonzalo Ferebee_Dustin Feagins@MVC.com'),\n",
              " Row(age=29, gender='Female', name='Jalisa Swenson', course='DB', roll=7542285, marks=59, email='Maybell Duguay_Billi Clore@PF.com'),\n",
              " Row(age=28, gender='Female', name='Cheri Kenney', course='DB', roll=7551469, marks=33, email='Paris Hutton_Annika Hoffman@OOP.com'),\n",
              " Row(age=28, gender='Female', name='Santa Kerfien', course='MVC', roll=7561491, marks=68, email='Niki Klimek_Nicole Harwood@MVC.com'),\n",
              " Row(age=28, gender='Male', name='Kizzy Brenner', course='MVC', roll=7572603, marks=60, email='Nicole Harwood_Sheryll Towler@MVC.com'),\n",
              " Row(age=28, gender='Female', name='Taryn Brownlee', course='Cloud', roll=7582853, marks=76, email='Sebrina Maresca_Annika Hoffman@Cloud.com'),\n",
              " Row(age=28, gender='Male', name='Melani Engberg', course='Cloud', roll=7591331, marks=83, email='Billi Clore_Neda Briski@DSA.com'),\n",
              " Row(age=28, gender='Male', name='Michelle Ruggiero', course='OOP', roll=7601079, marks=82, email='Jenna Montague_Donna Yerby@DSA.com'),\n",
              " Row(age=29, gender='Female', name='Anna Santos', course='DSA', roll=7611959, marks=37, email='Gonzalo Ferebee_Claude Panos@DB.com'),\n",
              " Row(age=29, gender='Female', name='Kena Wild', course='DSA', roll=7621891, marks=69, email='Marylee Capasso_Marylee Capasso@DSA.com'),\n",
              " Row(age=29, gender='Male', name='Lawanda Wohlwend', course='MVC', roll=7631030, marks=57, email='Mitzi Seldon_Sebrina Maresca@OOP.com'),\n",
              " Row(age=29, gender='Male', name='Santa Kerfien', course='MVC', roll=7642624, marks=97, email='Santa Kerfien_Elenore Choy@Cloud.com'),\n",
              " Row(age=29, gender='Female', name='Paris Hutton', course='MVC', roll=7652057, marks=67, email='Michelle Ruggiero_Anna Santos@PF.com'),\n",
              " Row(age=29, gender='Male', name='Taryn Brownlee', course='MVC', roll=7662789, marks=60, email='Elenore Choy_Anna Santos@OOP.com'),\n",
              " Row(age=28, gender='Male', name='Bonita Higuera', course='Cloud', roll=7671835, marks=21, email='Taryn Brownlee_Sebrina Maresca@PF.com'),\n",
              " Row(age=28, gender='Female', name='Judie Chipps', course='DB', roll=7682333, marks=81, email='Toshiko Hillyard_Claude Panos@DB.com'),\n",
              " Row(age=29, gender='Female', name='Celeste Lollis', course='Cloud', roll=7691188, marks=82, email='Mitzi Seldon_Jenna Montague@PF.com'),\n",
              " Row(age=28, gender='Male', name='Mickey Cortright', course='DB', roll=7702338, marks=69, email='Latia Vanhoose_Jeannetta Golden@OOP.com'),\n",
              " Row(age=28, gender='Female', name='Billi Clore', course='DB', roll=7711330, marks=64, email='Maybell Duguay_Ernest Rossbach@Cloud.com'),\n",
              " Row(age=29, gender='Male', name='Latia Vanhoose', course='Cloud', roll=7721956, marks=45, email='Jalisa Swenson_Annika Hoffman@DB.com'),\n",
              " Row(age=29, gender='Male', name='Sebrina Maresca', course='PF', roll=7731207, marks=69, email='Leontine Phillips_Kena Wild@DSA.com'),\n",
              " Row(age=28, gender='Male', name='Latia Vanhoose', course='OOP', roll=7741757, marks=66, email='Loris Crossett_Naoma Fritts@DSA.com'),\n",
              " Row(age=28, gender='Male', name='Anna Santos', course='DSA', roll=7752196, marks=92, email='Latia Vanhoose_Tamera Blakley@OOP.com'),\n",
              " Row(age=29, gender='Female', name='Margene Moores', course='PF', roll=7761927, marks=32, email='Annika Hoffman_Taryn Brownlee@OOP.com'),\n",
              " Row(age=29, gender='Female', name='Judie Chipps', course='DSA', roll=7772671, marks=51, email='Jenna Montague_Dustin Feagins@DB.com'),\n",
              " Row(age=28, gender='Female', name='Kena Wild', course='MVC', roll=7781364, marks=75, email='Claude Panos_Sebrina Maresca@DB.com'),\n",
              " Row(age=28, gender='Male', name='Latia Vanhoose', course='DSA', roll=7792270, marks=37, email='Eda Neathery_Donna Yerby@DSA.com'),\n",
              " Row(age=29, gender='Female', name='Cordie Harnois', course='Cloud', roll=7801136, marks=57, email='Nicole Harwood_Neda Briski@DSA.com'),\n",
              " Row(age=29, gender='Male', name='Niki Klimek', course='DSA', roll=7811347, marks=42, email='Kena Wild_Maybell Duguay@DB.com'),\n",
              " Row(age=29, gender='Female', name='Jalisa Swenson', course='Cloud', roll=7821333, marks=85, email='Priscila Tavernier_Clementina Menke@PF.com'),\n",
              " Row(age=28, gender='Female', name='Marylee Capasso', course='Cloud', roll=7831780, marks=73, email='Ernest Rossbach_Michelle Ruggiero@DB.com'),\n",
              " Row(age=28, gender='Female', name='Sebrina Maresca', course='PF', roll=7841496, marks=32, email='Alberta Freund_Mitzi Seldon@PF.com'),\n",
              " Row(age=29, gender='Male', name='Niki Klimek', course='PF', roll=7852889, marks=48, email='Taryn Brownlee_Elenore Choy@PF.com'),\n",
              " Row(age=29, gender='Male', name='Kena Wild', course='PF', roll=7862418, marks=56, email='Clementina Menke_Jalisa Swenson@DB.com'),\n",
              " Row(age=29, gender='Male', name='Clementina Menke', course='DB', roll=7872434, marks=68, email='Jalisa Swenson_Alberta Freund@OOP.com'),\n",
              " Row(age=28, gender='Male', name='Taryn Brownlee', course='Cloud', roll=7881046, marks=81, email='Eda Neathery_Dustin Feagins@MVC.com'),\n",
              " Row(age=29, gender='Male', name='Alberta Freund', course='DSA', roll=7891322, marks=86, email='Maybell Duguay_Loris Crossett@PF.com'),\n",
              " Row(age=28, gender='Male', name='Tamera Blakley', course='PF', roll=7901879, marks=57, email='Taryn Brownlee_Gonzalo Ferebee@PF.com'),\n",
              " Row(age=29, gender='Female', name='Toshiko Hillyard', course='MVC', roll=7912392, marks=38, email='Kena Wild_Alberta Freund@Cloud.com'),\n",
              " Row(age=28, gender='Male', name='Marylee Capasso', course='Cloud', roll=7922051, marks=92, email='Sebrina Maresca_Dustin Feagins@OOP.com'),\n",
              " Row(age=29, gender='Female', name='Margene Moores', course='MVC', roll=7932894, marks=78, email='Mickey Cortright_Niki Klimek@OOP.com'),\n",
              " Row(age=29, gender='Male', name='Celeste Lollis', course='MVC', roll=7941313, marks=89, email='Eda Neathery_Neda Briski@OOP.com'),\n",
              " Row(age=29, gender='Male', name='Santa Kerfien', course='PF', roll=7951241, marks=31, email='Kena Wild_Niki Klimek@OOP.com'),\n",
              " Row(age=29, gender='Male', name='Leontine Phillips', course='Cloud', roll=7961043, marks=26, email='Paris Hutton_Marylee Capasso@MVC.com'),\n",
              " Row(age=28, gender='Male', name='Michelle Ruggiero', course='Cloud', roll=7972167, marks=69, email='Paris Hutton_Leontine Phillips@DB.com'),\n",
              " Row(age=28, gender='Male', name='Margene Moores', course='MVC', roll=7982164, marks=84, email='Neda Briski_Celeste Lollis@Cloud.com'),\n",
              " Row(age=29, gender='Male', name='Billi Clore', course='DB', roll=7992784, marks=58, email='Tamera Blakley_Dustin Feagins@MVC.com'),\n",
              " Row(age=29, gender='Male', name='Ernest Rossbach', course='DB', roll=8002285, marks=76, email='Marylee Capasso_Naoma Fritts@DSA.com'),\n",
              " Row(age=28, gender='Male', name='Santa Kerfien', course='OOP', roll=8011750, marks=47, email='Mitzi Seldon_Somer Stoecker@PF.com'),\n",
              " Row(age=29, gender='Male', name='Jc Andrepont', course='OOP', roll=8022618, marks=97, email='Cordie Harnois_Jalisa Swenson@OOP.com'),\n",
              " Row(age=29, gender='Female', name='Mickey Cortright', course='DB', roll=8031057, marks=66, email='Dustin Feagins_Tijuana Kropf@DB.com'),\n",
              " Row(age=29, gender='Female', name='Eda Neathery', course='DSA', roll=8042646, marks=55, email='Abram Nagao_Donna Yerby@DB.com'),\n",
              " Row(age=28, gender='Male', name='Jeannetta Golden', course='PF', roll=8052474, marks=38, email='Tamera Blakley_Sheryll Towler@DSA.com'),\n",
              " Row(age=29, gender='Female', name='Lawanda Wohlwend', course='DSA', roll=8061577, marks=27, email='Anna Santos_Elenore Choy@MVC.com'),\n",
              " Row(age=28, gender='Male', name='Cheri Kenney', course='Cloud', roll=8071605, marks=72, email='Maybell Duguay_Eda Neathery@MVC.com'),\n",
              " Row(age=29, gender='Male', name='Celeste Lollis', course='MVC', roll=8081881, marks=87, email='Jenna Montague_Dustin Feagins@MVC.com'),\n",
              " Row(age=28, gender='Male', name='Sebrina Maresca', course='DB', roll=8092398, marks=42, email='Claude Panos_Jc Andrepont@DB.com'),\n",
              " Row(age=28, gender='Male', name='Bonita Higuera', course='Cloud', roll=8101902, marks=84, email='Jc Andrepont_Neda Briski@OOP.com'),\n",
              " Row(age=29, gender='Male', name='Loris Crossett', course='PF', roll=8111334, marks=31, email='Jeannetta Golden_Mickey Cortright@DSA.com'),\n",
              " Row(age=29, gender='Female', name='Nicole Harwood', course='PF', roll=8121198, marks=21, email='Bonita Higuera_Priscila Tavernier@Cloud.com'),\n",
              " Row(age=28, gender='Female', name='Somer Stoecker', course='PF', roll=8131896, marks=40, email='Melani Engberg_Sheryll Towler@DSA.com'),\n",
              " Row(age=28, gender='Male', name='Elenore Choy', course='OOP', roll=8141533, marks=28, email='Anna Santos_Dustin Feagins@MVC.com'),\n",
              " Row(age=28, gender='Male', name='Annika Hoffman', course='MVC', roll=8152949, marks=62, email='Annika Hoffman_Naoma Fritts@MVC.com'),\n",
              " Row(age=29, gender='Male', name='Leontine Phillips', course='Cloud', roll=8162392, marks=23, email='Clementina Menke_Neda Briski@Cloud.com'),\n",
              " Row(age=28, gender='Male', name='Loris Crossett', course='OOP', roll=8172914, marks=98, email='Paris Hutton_Paris Hutton@OOP.com'),\n",
              " Row(age=28, gender='Female', name='Nicole Harwood', course='DB', roll=8181552, marks=37, email='Hubert Oliveras_Gonzalo Ferebee@Cloud.com'),\n",
              " Row(age=29, gender='Male', name='Hubert Oliveras', course='Cloud', roll=8191045, marks=29, email='Toshiko Hillyard_Leontine Phillips@DSA.com'),\n",
              " Row(age=29, gender='Male', name='Eda Neathery', course='MVC', roll=8202489, marks=30, email='Jc Andrepont_Maybell Duguay@PF.com'),\n",
              " Row(age=28, gender='Female', name='Leontine Phillips', course='OOP', roll=8212555, marks=51, email='Jenna Montague_Cheri Kenney@Cloud.com'),\n",
              " Row(age=29, gender='Male', name='Melani Engberg', course='PF', roll=8222832, marks=44, email='Niki Klimek_Billi Clore@PF.com'),\n",
              " Row(age=29, gender='Male', name='Loris Crossett', course='DSA', roll=8232415, marks=77, email='Priscila Tavernier_Kena Wild@DB.com'),\n",
              " Row(age=28, gender='Male', name='Jeannetta Golden', course='Cloud', roll=8242650, marks=62, email='Dustin Feagins_Annika Hoffman@OOP.com'),\n",
              " Row(age=28, gender='Female', name='Clementina Menke', course='OOP', roll=8251736, marks=48, email='Tamera Blakley_Loris Crossett@OOP.com'),\n",
              " Row(age=29, gender='Female', name='Ernest Rossbach', course='DSA', roll=8262618, marks=34, email='Billi Clore_Clementina Menke@Cloud.com'),\n",
              " Row(age=28, gender='Female', name='Sheryll Towler', course='DB', roll=8271000, marks=37, email='Neda Briski_Anna Santos@Cloud.com'),\n",
              " Row(age=29, gender='Male', name='Billi Clore', course='OOP', roll=8282116, marks=72, email='Elenore Choy_Clementina Menke@PF.com'),\n",
              " Row(age=28, gender='Male', name='Bonita Higuera', course='MVC', roll=8291218, marks=71, email='Jeannetta Golden_Sebrina Maresca@PF.com'),\n",
              " Row(age=29, gender='Female', name='Tamera Blakley', course='OOP', roll=8301646, marks=63, email='Abram Nagao_Mitzi Seldon@DB.com'),\n",
              " Row(age=28, gender='Female', name='Judie Chipps', course='DSA', roll=8312884, marks=88, email='Kena Wild_Clementina Menke@DB.com'),\n",
              " Row(age=28, gender='Male', name='Paris Hutton', course='PF', roll=8321357, marks=77, email='Abram Nagao_Tamera Blakley@OOP.com'),\n",
              " Row(age=29, gender='Male', name='Kena Wild', course='PF', roll=8331264, marks=46, email='Marylee Capasso_Celeste Lollis@DSA.com'),\n",
              " Row(age=29, gender='Female', name='Elenore Choy', course='DSA', roll=8342105, marks=41, email='Abram Nagao_Nicole Harwood@Cloud.com'),\n",
              " Row(age=29, gender='Female', name='Gonzalo Ferebee', course='Cloud', roll=8352347, marks=69, email='Neda Briski_Ernest Rossbach@Cloud.com'),\n",
              " Row(age=28, gender='Male', name='Dustin Feagins', course='MVC', roll=8361501, marks=53, email='Billi Clore_Kizzy Brenner@MVC.com'),\n",
              " Row(age=28, gender='Male', name='Clementina Menke', course='Cloud', roll=8372528, marks=43, email='Tamera Blakley_Somer Stoecker@MVC.com'),\n",
              " Row(age=28, gender='Male', name='Priscila Tavernier', course='OOP', roll=8382954, marks=93, email='Jeannetta Golden_Kizzy Brenner@Cloud.com'),\n",
              " Row(age=29, gender='Female', name='Gonzalo Ferebee', course='MVC', roll=8392287, marks=81, email='Santa Kerfien_Neda Briski@OOP.com'),\n",
              " Row(age=28, gender='Female', name='Paris Hutton', course='PF', roll=8401106, marks=51, email='Maybell Duguay_Michelle Ruggiero@DB.com'),\n",
              " Row(age=28, gender='Male', name='Mickey Cortright', course='DB', roll=8411430, marks=70, email='Hubert Oliveras_Ernest Rossbach@PF.com'),\n",
              " Row(age=28, gender='Female', name='Bonita Higuera', course='DSA', roll=8421653, marks=96, email='Annika Hoffman_Bonita Higuera@Cloud.com'),\n",
              " Row(age=28, gender='Female', name='Taryn Brownlee', course='OOP', roll=8431353, marks=63, email='Neda Briski_Cordie Harnois@Cloud.com'),\n",
              " Row(age=28, gender='Female', name='Eda Neathery', course='DSA', roll=8441503, marks=78, email='Jalisa Swenson_Mitzi Seldon@MVC.com'),\n",
              " Row(age=29, gender='Female', name='Cordie Harnois', course='OOP', roll=8452121, marks=84, email='Kena Wild_Dustin Feagins@DB.com'),\n",
              " Row(age=29, gender='Female', name='Mickey Cortright', course='OOP', roll=8462156, marks=77, email='Elenore Choy_Tijuana Kropf@Cloud.com'),\n",
              " Row(age=28, gender='Male', name='Kena Wild', course='DB', roll=8471833, marks=36, email='Tamera Blakley_Jeannetta Golden@OOP.com'),\n",
              " Row(age=28, gender='Male', name='Anna Santos', course='MVC', roll=8482305, marks=53, email='Sheryll Towler_Kizzy Brenner@PF.com'),\n",
              " Row(age=28, gender='Female', name='Ernest Rossbach', course='DSA', roll=8492768, marks=61, email='Jenna Montague_Elenore Choy@DSA.com'),\n",
              " Row(age=29, gender='Female', name='Annika Hoffman', course='MVC', roll=8502572, marks=71, email='Sebrina Maresca_Jeannetta Golden@Cloud.com'),\n",
              " Row(age=29, gender='Female', name='Mickey Cortright', course='OOP', roll=8511805, marks=47, email='Latia Vanhoose_Somer Stoecker@OOP.com'),\n",
              " Row(age=28, gender='Male', name='Tijuana Kropf', course='DB', roll=8522175, marks=87, email='Mickey Cortright_Claude Panos@MVC.com'),\n",
              " Row(age=28, gender='Female', name='Elenore Choy', course='MVC', roll=8532574, marks=76, email='Tijuana Kropf_Loris Crossett@Cloud.com'),\n",
              " Row(age=28, gender='Male', name='Loris Crossett', course='MVC', roll=8541796, marks=90, email='Clementina Menke_Michelle Ruggiero@Cloud.com'),\n",
              " Row(age=28, gender='Female', name='Leontine Phillips', course='MVC', roll=8551036, marks=31, email='Celeste Lollis_Anna Santos@MVC.com'),\n",
              " Row(age=29, gender='Female', name='Dustin Feagins', course='DB', roll=8561099, marks=32, email='Margene Moores_Margene Moores@Cloud.com'),\n",
              " Row(age=28, gender='Male', name='Anna Santos', course='Cloud', roll=8571411, marks=94, email='Jc Andrepont_Cordie Harnois@OOP.com'),\n",
              " Row(age=29, gender='Female', name='Loris Crossett', course='DSA', roll=8581552, marks=86, email='Taryn Brownlee_Elenore Choy@Cloud.com'),\n",
              " Row(age=29, gender='Male', name='Cordie Harnois', course='MVC', roll=8592355, marks=95, email='Ernest Rossbach_Tijuana Kropf@OOP.com'),\n",
              " Row(age=29, gender='Female', name='Taryn Brownlee', course='OOP', roll=8602786, marks=40, email='Elenore Choy_Ernest Rossbach@DB.com'),\n",
              " Row(age=28, gender='Male', name='Naoma Fritts', course='DB', roll=8611528, marks=89, email='Nicole Harwood_Clementina Menke@MVC.com'),\n",
              " Row(age=29, gender='Male', name='Marylee Capasso', course='Cloud', roll=8622148, marks=29, email='Hubert Oliveras_Claude Panos@Cloud.com'),\n",
              " Row(age=29, gender='Female', name='Clementina Menke', course='PF', roll=8632774, marks=33, email='Dustin Feagins_Latia Vanhoose@PF.com'),\n",
              " Row(age=29, gender='Female', name='Sheryll Towler', course='Cloud', roll=8641804, marks=31, email='Somer Stoecker_Marylee Capasso@PF.com'),\n",
              " Row(age=29, gender='Male', name='Cheri Kenney', course='DB', roll=8652382, marks=36, email='Santa Kerfien_Cordie Harnois@Cloud.com'),\n",
              " Row(age=28, gender='Female', name='Loris Crossett', course='OOP', roll=8661474, marks=72, email='Neda Briski_Jeannetta Golden@DB.com'),\n",
              " Row(age=29, gender='Male', name='Alberta Freund', course='Cloud', roll=8671926, marks=85, email='Paris Hutton_Somer Stoecker@PF.com'),\n",
              " Row(age=28, gender='Male', name='Neda Briski', course='OOP', roll=8681708, marks=34, email='Jenna Montague_Lawanda Wohlwend@OOP.com'),\n",
              " Row(age=28, gender='Male', name='Nicole Harwood', course='MVC', roll=8692811, marks=63, email='Neda Briski_Kena Wild@Cloud.com'),\n",
              " Row(age=29, gender='Male', name='Donna Yerby', course='DB', roll=8701973, marks=33, email='Priscila Tavernier_Mitzi Seldon@DB.com'),\n",
              " Row(age=28, gender='Female', name='Melani Engberg', course='DSA', roll=8712604, marks=69, email='Celeste Lollis_Claude Panos@MVC.com'),\n",
              " Row(age=29, gender='Female', name='Neda Briski', course='DB', roll=8722464, marks=30, email='Mickey Cortright_Anna Santos@OOP.com'),\n",
              " Row(age=28, gender='Female', name='Somer Stoecker', course='OOP', roll=8732476, marks=65, email='Annika Hoffman_Anna Santos@DB.com'),\n",
              " Row(age=29, gender='Male', name='Maybell Duguay', course='PF', roll=8741191, marks=79, email='Judie Chipps_Niki Klimek@OOP.com'),\n",
              " Row(age=29, gender='Male', name='Cheri Kenney', course='MVC', roll=8752460, marks=84, email='Cordie Harnois_Jeannetta Golden@PF.com'),\n",
              " Row(age=29, gender='Male', name='Celeste Lollis', course='MVC', roll=8762292, marks=35, email='Clementina Menke_Tijuana Kropf@DB.com'),\n",
              " Row(age=29, gender='Female', name='Annika Hoffman', course='OOP', roll=8772154, marks=79, email='Tijuana Kropf_Cordie Harnois@DSA.com'),\n",
              " Row(age=29, gender='Male', name='Niki Klimek', course='Cloud', roll=8782036, marks=72, email='Clementina Menke_Taryn Brownlee@MVC.com'),\n",
              " Row(age=29, gender='Male', name='Billi Clore', course='MVC', roll=8792432, marks=79, email='Anna Santos_Jalisa Swenson@Cloud.com'),\n",
              " Row(age=28, gender='Female', name='Toshiko Hillyard', course='MVC', roll=8801160, marks=86, email='Neda Briski_Donna Yerby@DB.com'),\n",
              " Row(age=29, gender='Male', name='Mitzi Seldon', course='DB', roll=8811681, marks=46, email='Ernest Rossbach_Eda Neathery@MVC.com'),\n",
              " Row(age=28, gender='Male', name='Tijuana Kropf', course='Cloud', roll=8822597, marks=31, email='Lawanda Wohlwend_Eda Neathery@MVC.com'),\n",
              " Row(age=28, gender='Female', name='Nicole Harwood', course='MVC', roll=8831173, marks=27, email='Gonzalo Ferebee_Dustin Feagins@OOP.com'),\n",
              " Row(age=29, gender='Female', name='Claude Panos', course='OOP', roll=8842014, marks=30, email='Annika Hoffman_Jenna Montague@Cloud.com'),\n",
              " Row(age=28, gender='Male', name='Annika Hoffman', course='Cloud', roll=8852570, marks=82, email='Kizzy Brenner_Claude Panos@MVC.com'),\n",
              " Row(age=28, gender='Female', name='Nicole Harwood', course='Cloud', roll=8862840, marks=67, email='Claude Panos_Claude Panos@DSA.com'),\n",
              " Row(age=28, gender='Male', name='Dustin Feagins', course='DB', roll=8871049, marks=98, email='Jenna Montague_Claude Panos@DSA.com'),\n",
              " Row(age=29, gender='Male', name='Nicole Harwood', course='MVC', roll=8882981, marks=32, email='Santa Kerfien_Eda Neathery@OOP.com'),\n",
              " Row(age=29, gender='Male', name='Marylee Capasso', course='OOP', roll=8891960, marks=29, email='Mickey Cortright_Billi Clore@PF.com'),\n",
              " Row(age=28, gender='Male', name='Somer Stoecker', course='DSA', roll=8902098, marks=73, email='Nicole Harwood_Paris Hutton@PF.com'),\n",
              " Row(age=28, gender='Male', name='Celeste Lollis', course='PF', roll=8911713, marks=93, email='Hubert Oliveras_Mitzi Seldon@DB.com'),\n",
              " Row(age=28, gender='Male', name='Mitzi Seldon', course='Cloud', roll=8922149, marks=65, email='Maybell Duguay_Hubert Oliveras@PF.com'),\n",
              " Row(age=28, gender='Male', name='Billi Clore', course='OOP', roll=8932725, marks=59, email='Kizzy Brenner_Latia Vanhoose@PF.com'),\n",
              " Row(age=29, gender='Female', name='Gonzalo Ferebee', course='Cloud', roll=8942812, marks=87, email='Michelle Ruggiero_Neda Briski@Cloud.com'),\n",
              " Row(age=29, gender='Female', name='Annika Hoffman', course='DSA', roll=8951068, marks=94, email='Neda Briski_Abram Nagao@OOP.com'),\n",
              " Row(age=28, gender='Female', name='Leontine Phillips', course='Cloud', roll=8962531, marks=84, email='Tamera Blakley_Marylee Capasso@Cloud.com'),\n",
              " Row(age=28, gender='Male', name='Ernest Rossbach', course='MVC', roll=8972546, marks=62, email='Sheryll Towler_Jeannetta Golden@PF.com'),\n",
              " Row(age=28, gender='Male', name='Kizzy Brenner', course='OOP', roll=8981887, marks=27, email='Naoma Fritts_Mitzi Seldon@DB.com'),\n",
              " Row(age=28, gender='Male', name='Elenore Choy', course='DSA', roll=8991321, marks=57, email='Celeste Lollis_Margene Moores@DB.com'),\n",
              " Row(age=29, gender='Male', name='Santa Kerfien', course='DSA', roll=9002004, marks=27, email='Jeannetta Golden_Clementina Menke@MVC.com'),\n",
              " Row(age=28, gender='Female', name='Lawanda Wohlwend', course='OOP', roll=9011862, marks=48, email='Jalisa Swenson_Gonzalo Ferebee@OOP.com'),\n",
              " Row(age=29, gender='Male', name='Elenore Choy', course='DB', roll=9021601, marks=46, email='Clementina Menke_Mickey Cortright@PF.com'),\n",
              " Row(age=28, gender='Male', name='Alberta Freund', course='DSA', roll=9031966, marks=56, email='Niki Klimek_Alberta Freund@PF.com'),\n",
              " Row(age=29, gender='Male', name='Celeste Lollis', course='Cloud', roll=9042870, marks=52, email='Bonita Higuera_Jeannetta Golden@PF.com'),\n",
              " Row(age=29, gender='Male', name='Sheryll Towler', course='MVC', roll=9052132, marks=88, email='Jeannetta Golden_Donna Yerby@DB.com'),\n",
              " Row(age=29, gender='Female', name='Jalisa Swenson', course='DSA', roll=9061384, marks=41, email='Jenna Montague_Melani Engberg@DSA.com'),\n",
              " Row(age=29, gender='Male', name='Celeste Lollis', course='Cloud', roll=9072506, marks=81, email='Celeste Lollis_Cordie Harnois@Cloud.com'),\n",
              " Row(age=29, gender='Female', name='Ernest Rossbach', course='Cloud', roll=9082371, marks=79, email='Jalisa Swenson_Mitzi Seldon@DB.com'),\n",
              " Row(age=29, gender='Female', name='Annika Hoffman', course='OOP', roll=9091099, marks=89, email='Kizzy Brenner_Jeannetta Golden@MVC.com'),\n",
              " Row(age=29, gender='Male', name='Gonzalo Ferebee', course='Cloud', roll=9102078, marks=45, email='Tamera Blakley_Melani Engberg@MVC.com'),\n",
              " Row(age=29, gender='Female', name='Marylee Capasso', course='DSA', roll=9112909, marks=38, email='Priscila Tavernier_Hubert Oliveras@Cloud.com'),\n",
              " Row(age=29, gender='Female', name='Lawanda Wohlwend', course='DSA', roll=9122250, marks=46, email='Jeannetta Golden_Sheryll Towler@DB.com'),\n",
              " Row(age=29, gender='Female', name='Judie Chipps', course='MVC', roll=9131672, marks=35, email='Tijuana Kropf_Taryn Brownlee@DSA.com'),\n",
              " Row(age=28, gender='Female', name='Taryn Brownlee', course='MVC', roll=9142398, marks=59, email='Lawanda Wohlwend_Billi Clore@Cloud.com'),\n",
              " Row(age=28, gender='Male', name='Billi Clore', course='DB', roll=9151306, marks=21, email='Latia Vanhoose_Ernest Rossbach@DB.com'),\n",
              " Row(age=28, gender='Female', name='Nicole Harwood', course='PF', roll=9162701, marks=61, email='Jc Andrepont_Jeannetta Golden@Cloud.com'),\n",
              " Row(age=28, gender='Male', name='Claude Panos', course='OOP', roll=9172978, marks=60, email='Cordie Harnois_Tamera Blakley@DSA.com'),\n",
              " Row(age=28, gender='Male', name='Cheri Kenney', course='DSA', roll=9181598, marks=44, email='Jc Andrepont_Maybell Duguay@OOP.com'),\n",
              " Row(age=29, gender='Female', name='Melani Engberg', course='DB', roll=9192452, marks=52, email='Niki Klimek_Niki Klimek@OOP.com'),\n",
              " Row(age=29, gender='Male', name='Ernest Rossbach', course='MVC', roll=9201305, marks=53, email='Gonzalo Ferebee_Billi Clore@DB.com'),\n",
              " Row(age=28, gender='Female', name='Cheri Kenney', course='PF', roll=9211167, marks=30, email='Mitzi Seldon_Somer Stoecker@PF.com'),\n",
              " Row(age=29, gender='Female', name='Eda Neathery', course='PF', roll=9222608, marks=99, email='Kena Wild_Lawanda Wohlwend@OOP.com'),\n",
              " Row(age=29, gender='Female', name='Michelle Ruggiero', course='DB', roll=9232210, marks=20, email='Donna Yerby_Latia Vanhoose@DB.com'),\n",
              " Row(age=29, gender='Male', name='Cordie Harnois', course='DSA', roll=9242198, marks=72, email='Maybell Duguay_Tamera Blakley@Cloud.com'),\n",
              " Row(age=29, gender='Female', name='Melani Engberg', course='DSA', roll=9252365, marks=97, email='Naoma Fritts_Melani Engberg@OOP.com'),\n",
              " Row(age=28, gender='Female', name='Taryn Brownlee', course='OOP', roll=9262265, marks=43, email='Cordie Harnois_Elenore Choy@DB.com'),\n",
              " Row(age=28, gender='Female', name='Jalisa Swenson', course='Cloud', roll=9272149, marks=39, email='Gonzalo Ferebee_Nicole Harwood@MVC.com'),\n",
              " Row(age=29, gender='Female', name='Jalisa Swenson', course='DB', roll=9282374, marks=33, email='Judie Chipps_Annika Hoffman@OOP.com'),\n",
              " Row(age=29, gender='Male', name='Mickey Cortright', course='Cloud', roll=9291579, marks=86, email='Margene Moores_Priscila Tavernier@MVC.com'),\n",
              " Row(age=29, gender='Male', name='Gonzalo Ferebee', course='Cloud', roll=9302691, marks=40, email='Niki Klimek_Alberta Freund@MVC.com'),\n",
              " Row(age=29, gender='Male', name='Niki Klimek', course='DSA', roll=9311407, marks=90, email='Marylee Capasso_Ernest Rossbach@PF.com'),\n",
              " Row(age=28, gender='Female', name='Cheri Kenney', course='DSA', roll=9322391, marks=71, email='Cheri Kenney_Claude Panos@OOP.com'),\n",
              " Row(age=29, gender='Male', name='Gonzalo Ferebee', course='PF', roll=9331055, marks=96, email='Kizzy Brenner_Alberta Freund@Cloud.com'),\n",
              " Row(age=28, gender='Female', name='Clementina Menke', course='DSA', roll=9342400, marks=37, email='Claude Panos_Ernest Rossbach@DSA.com'),\n",
              " Row(age=29, gender='Female', name='Michelle Ruggiero', course='DSA', roll=9352759, marks=97, email='Kena Wild_Nicole Harwood@DSA.com'),\n",
              " Row(age=28, gender='Male', name='Mitzi Seldon', course='PF', roll=9362744, marks=26, email='Somer Stoecker_Santa Kerfien@DSA.com'),\n",
              " Row(age=29, gender='Female', name='Ernest Rossbach', course='DB', roll=9371629, marks=96, email='Melani Engberg_Latia Vanhoose@PF.com'),\n",
              " Row(age=28, gender='Female', name='Paris Hutton', course='OOP', roll=9382928, marks=28, email='Kena Wild_Gonzalo Ferebee@PF.com'),\n",
              " Row(age=28, gender='Female', name='Jc Andrepont', course='Cloud', roll=9391046, marks=34, email='Latia Vanhoose_Taryn Brownlee@MVC.com'),\n",
              " Row(age=28, gender='Female', name='Kena Wild', course='MVC', roll=9401194, marks=24, email='Niki Klimek_Michelle Ruggiero@DB.com'),\n",
              " Row(age=28, gender='Male', name='Jenna Montague', course='DB', roll=9411416, marks=35, email='Latia Vanhoose_Paris Hutton@DSA.com'),\n",
              " Row(age=29, gender='Female', name='Abram Nagao', course='Cloud', roll=9422898, marks=38, email='Cheri Kenney_Santa Kerfien@OOP.com'),\n",
              " Row(age=29, gender='Female', name='Tijuana Kropf', course='Cloud', roll=9431799, marks=88, email='Lawanda Wohlwend_Cordie Harnois@MVC.com'),\n",
              " Row(age=28, gender='Male', name='Latia Vanhoose', course='DSA', roll=9442974, marks=29, email='Jc Andrepont_Celeste Lollis@DB.com'),\n",
              " Row(age=28, gender='Female', name='Judie Chipps', course='DB', roll=9451237, marks=49, email='Michelle Ruggiero_Sheryll Towler@MVC.com'),\n",
              " Row(age=29, gender='Female', name='Gonzalo Ferebee', course='MVC', roll=9461441, marks=31, email='Michelle Ruggiero_Elenore Choy@DSA.com'),\n",
              " Row(age=28, gender='Female', name='Latia Vanhoose', course='Cloud', roll=9471888, marks=56, email='Naoma Fritts_Kena Wild@DB.com'),\n",
              " Row(age=29, gender='Female', name='Annika Hoffman', course='OOP', roll=9482135, marks=96, email='Somer Stoecker_Somer Stoecker@OOP.com'),\n",
              " Row(age=28, gender='Male', name='Sebrina Maresca', course='PF', roll=9492805, marks=50, email='Neda Briski_Neda Briski@OOP.com'),\n",
              " Row(age=28, gender='Male', name='Toshiko Hillyard', course='DB', roll=9502901, marks=69, email='Kena Wild_Leontine Phillips@DSA.com'),\n",
              " Row(age=29, gender='Male', name='Kizzy Brenner', course='PF', roll=9512850, marks=52, email='Elenore Choy_Anna Santos@DB.com'),\n",
              " Row(age=28, gender='Female', name='Jalisa Swenson', course='OOP', roll=9522521, marks=50, email='Leontine Phillips_Cheri Kenney@DB.com'),\n",
              " Row(age=29, gender='Male', name='Celeste Lollis', course='Cloud', roll=9531936, marks=56, email='Cheri Kenney_Margene Moores@MVC.com'),\n",
              " Row(age=29, gender='Female', name='Mickey Cortright', course='MVC', roll=9542973, marks=28, email='Sebrina Maresca_Eda Neathery@MVC.com'),\n",
              " Row(age=29, gender='Male', name='Taryn Brownlee', course='PF', roll=9551574, marks=91, email='Jenna Montague_Billi Clore@MVC.com'),\n",
              " Row(age=29, gender='Male', name='Maybell Duguay', course='DB', roll=9562208, marks=44, email='Celeste Lollis_Anna Santos@DSA.com'),\n",
              " Row(age=28, gender='Female', name='Sheryll Towler', course='MVC', roll=9571308, marks=57, email='Margene Moores_Naoma Fritts@PF.com'),\n",
              " Row(age=28, gender='Female', name='Naoma Fritts', course='MVC', roll=9581172, marks=70, email='Taryn Brownlee_Cheri Kenney@Cloud.com'),\n",
              " Row(age=29, gender='Female', name='Annika Hoffman', course='OOP', roll=9592635, marks=40, email='Kena Wild_Margene Moores@Cloud.com'),\n",
              " Row(age=28, gender='Male', name='Melani Engberg', course='DB', roll=9602880, marks=42, email='Niki Klimek_Mickey Cortright@DB.com'),\n",
              " Row(age=29, gender='Male', name='Kena Wild', course='MVC', roll=9611287, marks=76, email='Cordie Harnois_Michelle Ruggiero@PF.com'),\n",
              " Row(age=28, gender='Female', name='Leontine Phillips', course='DB', roll=9622410, marks=46, email='Kena Wild_Donna Yerby@Cloud.com'),\n",
              " Row(age=28, gender='Male', name='Claude Panos', course='Cloud', roll=9631836, marks=73, email='Clementina Menke_Judie Chipps@DSA.com'),\n",
              " Row(age=29, gender='Male', name='Celeste Lollis', course='DSA', roll=9642293, marks=75, email='Maybell Duguay_Tijuana Kropf@OOP.com'),\n",
              " Row(age=28, gender='Male', name='Jc Andrepont', course='MVC', roll=9652535, marks=73, email='Michelle Ruggiero_Lawanda Wohlwend@DB.com'),\n",
              " Row(age=29, gender='Male', name='Kena Wild', course='DSA', roll=9662661, marks=41, email='Latia Vanhoose_Sebrina Maresca@DB.com'),\n",
              " Row(age=29, gender='Male', name='Leontine Phillips', course='DB', roll=9671707, marks=26, email='Sebrina Maresca_Jalisa Swenson@MVC.com'),\n",
              " Row(age=28, gender='Female', name='Clementina Menke', course='DSA', roll=9682190, marks=24, email='Clementina Menke_Dustin Feagins@DB.com'),\n",
              " Row(age=28, gender='Male', name='Loris Crossett', course='OOP', roll=9692316, marks=99, email='Judie Chipps_Michelle Ruggiero@Cloud.com'),\n",
              " Row(age=29, gender='Male', name='Paris Hutton', course='DSA', roll=9702829, marks=22, email='Hubert Oliveras_Cheri Kenney@OOP.com'),\n",
              " Row(age=29, gender='Female', name='Abram Nagao', course='PF', roll=9711154, marks=23, email='Judie Chipps_Naoma Fritts@DSA.com'),\n",
              " Row(age=28, gender='Female', name='Niki Klimek', course='MVC', roll=9722763, marks=77, email='Taryn Brownlee_Jalisa Swenson@OOP.com'),\n",
              " Row(age=29, gender='Male', name='Neda Briski', course='Cloud', roll=9732604, marks=77, email='Kena Wild_Hubert Oliveras@Cloud.com'),\n",
              " Row(age=29, gender='Female', name='Mickey Cortright', course='Cloud', roll=9741291, marks=77, email='Melani Engberg_Donna Yerby@MVC.com'),\n",
              " Row(age=28, gender='Female', name='Somer Stoecker', course='PF', roll=9751163, marks=36, email='Nicole Harwood_Margene Moores@MVC.com'),\n",
              " Row(age=28, gender='Female', name='Loris Crossett', course='OOP', roll=9761188, marks=39, email='Alberta Freund_Bonita Higuera@DSA.com'),\n",
              " Row(age=28, gender='Male', name='Anna Santos', course='DB', roll=9772185, marks=22, email='Kizzy Brenner_Annika Hoffman@PF.com'),\n",
              " Row(age=28, gender='Female', name='Celeste Lollis', course='DB', roll=9782472, marks=44, email='Kena Wild_Hubert Oliveras@DSA.com'),\n",
              " Row(age=29, gender='Female', name='Toshiko Hillyard', course='DSA', roll=9792504, marks=68, email='Nicole Harwood_Somer Stoecker@DB.com'),\n",
              " Row(age=29, gender='Male', name='Donna Yerby', course='MVC', roll=9802357, marks=41, email='Tamera Blakley_Jalisa Swenson@MVC.com'),\n",
              " Row(age=29, gender='Male', name='Santa Kerfien', course='DB', roll=9811489, marks=31, email='Abram Nagao_Melani Engberg@Cloud.com'),\n",
              " Row(age=29, gender='Male', name='Hubert Oliveras', course='DB', roll=9822797, marks=51, email='Lawanda Wohlwend_Jalisa Swenson@DB.com'),\n",
              " Row(age=28, gender='Male', name='Paris Hutton', course='DB', roll=9832215, marks=36, email='Niki Klimek_Tijuana Kropf@PF.com'),\n",
              " Row(age=29, gender='Male', name='Mitzi Seldon', course='PF', roll=9842669, marks=30, email='Jalisa Swenson_Sebrina Maresca@MVC.com'),\n",
              " Row(age=28, gender='Female', name='Donna Yerby', course='OOP', roll=9851840, marks=63, email='Ernest Rossbach_Mitzi Seldon@Cloud.com'),\n",
              " Row(age=29, gender='Female', name='Marylee Capasso', course='DB', roll=9862444, marks=60, email='Bonita Higuera_Kena Wild@OOP.com'),\n",
              " Row(age=29, gender='Female', name='Annika Hoffman', course='PF', roll=9871120, marks=84, email='Ernest Rossbach_Billi Clore@MVC.com'),\n",
              " Row(age=28, gender='Male', name='Sheryll Towler', course='MVC', roll=9881953, marks=76, email='Ernest Rossbach_Santa Kerfien@DB.com'),\n",
              " Row(age=28, gender='Male', name='Kena Wild', course='DSA', roll=9891274, marks=85, email='Donna Yerby_Leontine Phillips@Cloud.com'),\n",
              " Row(age=29, gender='Male', name='Tijuana Kropf', course='DB', roll=9902560, marks=66, email='Tijuana Kropf_Abram Nagao@Cloud.com'),\n",
              " Row(age=28, gender='Male', name='Neda Briski', course='PF', roll=9912790, marks=65, email='Hubert Oliveras_Taryn Brownlee@PF.com'),\n",
              " Row(age=29, gender='Female', name='Marylee Capasso', course='OOP', roll=9922554, marks=50, email='Naoma Fritts_Paris Hutton@DSA.com'),\n",
              " Row(age=29, gender='Male', name='Cordie Harnois', course='PF', roll=9931081, marks=97, email='Toshiko Hillyard_Abram Nagao@Cloud.com'),\n",
              " Row(age=29, gender='Female', name='Anna Santos', course='Cloud', roll=9942543, marks=87, email='Somer Stoecker_Mickey Cortright@DB.com'),\n",
              " Row(age=28, gender='Female', name='Celeste Lollis', course='DB', roll=9952416, marks=59, email='Gonzalo Ferebee_Jalisa Swenson@DB.com'),\n",
              " Row(age=29, gender='Female', name='Somer Stoecker', course='Cloud', roll=9962277, marks=84, email='Clementina Menke_Paris Hutton@OOP.com'),\n",
              " Row(age=28, gender='Male', name='Tamera Blakley', course='DSA', roll=9971217, marks=26, email='Anna Santos_Claude Panos@PF.com'),\n",
              " Row(age=28, gender='Female', name='Tamera Blakley', course='MVC', roll=9982779, marks=71, email='Toshiko Hillyard_Anna Santos@DSA.com'),\n",
              " Row(age=29, gender='Female', name='Jenna Montague', course='PF', roll=9991617, marks=23, email='Anna Santos_Jenna Montague@DB.com')]"
            ]
          },
          "metadata": {},
          "execution_count": 40
        }
      ]
    },
    {
      "cell_type": "code",
      "source": [
        "rdd.filter(lambda x: x[1] == \"Male\").collect()"
      ],
      "metadata": {
        "colab": {
          "base_uri": "https://localhost:8080/"
        },
        "id": "TsbxPmlMg-CG",
        "outputId": "09ecd382-84f1-4a53-a064-4c8828d1acaf"
      },
      "execution_count": null,
      "outputs": [
        {
          "output_type": "execute_result",
          "data": {
            "text/plain": [
              "[Row(age=28, gender='Male', name='Celeste Lollis', course='PF', roll=21267, marks=45, email='Jeannetta Golden_Jenna Montague@DSA.com'),\n",
              " Row(age=28, gender='Male', name='Sheryll Towler', course='DSA', roll=41487, marks=41, email='Claude Panos_Judie Chipps@OOP.com'),\n",
              " Row(age=28, gender='Male', name='Margene Moores', course='MVC', roll=52771, marks=32, email='Toshiko Hillyard_Clementina Menke@MVC.com'),\n",
              " Row(age=28, gender='Male', name='Neda Briski', course='OOP', roll=61973, marks=69, email='Alberta Freund_Elenore Choy@DB.com'),\n",
              " Row(age=28, gender='Male', name='Celeste Lollis', course='MVC', roll=81492, marks=64, email='Nicole Harwood_Claude Panos@MVC.com'),\n",
              " Row(age=29, gender='Male', name='Cordie Harnois', course='OOP', roll=92882, marks=51, email='Judie Chipps_Clementina Menke@MVC.com'),\n",
              " Row(age=29, gender='Male', name='Ernest Rossbach', course='DB', roll=111449, marks=53, email='Maybell Duguay_Abram Nagao@OOP.com'),\n",
              " Row(age=29, gender='Male', name='Neda Briski', course='PF', roll=141770, marks=42, email='Margene Moores_Michelle Ruggiero@MVC.com'),\n",
              " Row(age=29, gender='Male', name='Loris Crossett', course='MVC', roll=161771, marks=36, email='Mitzi Seldon_Jenna Montague@MVC.com'),\n",
              " Row(age=29, gender='Male', name='Annika Hoffman', course='OOP', roll=171660, marks=22, email='Taryn Brownlee_Mitzi Seldon@MVC.com'),\n",
              " Row(age=29, gender='Male', name='Santa Kerfien', course='PF', roll=182129, marks=56, email='Judie Chipps_Taryn Brownlee@Cloud.com'),\n",
              " Row(age=28, gender='Male', name='Hubert Oliveras', course='OOP', roll=351719, marks=63, email='Lawanda Wohlwend_Abram Nagao@MVC.com'),\n",
              " Row(age=28, gender='Male', name='Sebrina Maresca', course='PF', roll=361316, marks=62, email='Nicole Harwood_Latia Vanhoose@DB.com'),\n",
              " Row(age=29, gender='Male', name='Jalisa Swenson', course='PF', roll=372873, marks=45, email='Ernest Rossbach_Toshiko Hillyard@DB.com'),\n",
              " Row(age=28, gender='Male', name='Kizzy Brenner', course='DB', roll=381712, marks=36, email='Paris Hutton_Kena Wild@MVC.com'),\n",
              " Row(age=28, gender='Male', name='Toshiko Hillyard', course='DB', roll=392218, marks=47, email='Leontine Phillips_Billi Clore@MVC.com'),\n",
              " Row(age=28, gender='Male', name='Elenore Choy', course='PF', roll=422704, marks=66, email='Marylee Capasso_Nicole Harwood@MVC.com'),\n",
              " Row(age=28, gender='Male', name='Dustin Feagins', course='PF', roll=461839, marks=51, email='Neda Briski_Elenore Choy@Cloud.com'),\n",
              " Row(age=29, gender='Male', name='Annika Hoffman', course='OOP', roll=472550, marks=35, email='Mitzi Seldon_Abram Nagao@DSA.com'),\n",
              " Row(age=29, gender='Male', name='Paris Hutton', course='DB', roll=481229, marks=57, email='Clementina Menke_Paris Hutton@MVC.com'),\n",
              " Row(age=29, gender='Male', name='Billi Clore', course='Cloud', roll=512047, marks=76, email='Taryn Brownlee_Judie Chipps@DSA.com'),\n",
              " Row(age=29, gender='Male', name='Toshiko Hillyard', course='OOP', roll=521221, marks=77, email='Hubert Oliveras_Latia Vanhoose@MVC.com'),\n",
              " Row(age=28, gender='Male', name='Margene Moores', course='PF', roll=531530, marks=53, email='Cheri Kenney_Melani Engberg@OOP.com'),\n",
              " Row(age=29, gender='Male', name='Celeste Lollis', course='DSA', roll=562065, marks=85, email='Jc Andrepont_Melani Engberg@OOP.com'),\n",
              " Row(age=28, gender='Male', name='Marylee Capasso', course='OOP', roll=581756, marks=52, email='Jeannetta Golden_Loris Crossett@MVC.com'),\n",
              " Row(age=29, gender='Male', name='Maybell Duguay', course='DSA', roll=592061, marks=83, email='Eda Neathery_Jenna Montague@Cloud.com'),\n",
              " Row(age=28, gender='Male', name='Mitzi Seldon', course='DSA', roll=622981, marks=45, email='Lawanda Wohlwend_Loris Crossett@DSA.com'),\n",
              " Row(age=28, gender='Male', name='Priscila Tavernier', course='PF', roll=642594, marks=27, email='Marylee Capasso_Claude Panos@DSA.com'),\n",
              " Row(age=29, gender='Male', name='Tamera Blakley', course='MVC', roll=651649, marks=92, email='Latia Vanhoose_Toshiko Hillyard@MVC.com'),\n",
              " Row(age=28, gender='Male', name='Sheryll Towler', course='MVC', roll=661079, marks=89, email='Tijuana Kropf_Mickey Cortright@DB.com'),\n",
              " Row(age=29, gender='Male', name='Hubert Oliveras', course='MVC', roll=672451, marks=28, email='Annika Hoffman_Mickey Cortright@DSA.com'),\n",
              " Row(age=29, gender='Male', name='Sheryll Towler', course='PF', roll=682533, marks=42, email='Billi Clore_Anna Santos@PF.com'),\n",
              " Row(age=29, gender='Male', name='Maybell Duguay', course='PF', roll=701486, marks=99, email='Clementina Menke_Latia Vanhoose@Cloud.com'),\n",
              " Row(age=29, gender='Male', name='Jenna Montague', course='MVC', roll=711153, marks=45, email='Marylee Capasso_Hubert Oliveras@DB.com'),\n",
              " Row(age=28, gender='Male', name='Annika Hoffman', course='Cloud', roll=722193, marks=55, email='Taryn Brownlee_Elenore Choy@DB.com'),\n",
              " Row(age=29, gender='Male', name='Jeannetta Golden', course='MVC', roll=741875, marks=57, email='Sheryll Towler_Cheri Kenney@DSA.com'),\n",
              " Row(age=29, gender='Male', name='Paris Hutton', course='MVC', roll=752504, marks=22, email='Elenore Choy_Elenore Choy@DB.com'),\n",
              " Row(age=28, gender='Male', name='Alberta Freund', course='PF', roll=781061, marks=75, email='Leontine Phillips_Bonita Higuera@PF.com'),\n",
              " Row(age=28, gender='Male', name='Anna Santos', course='OOP', roll=822396, marks=47, email='Leontine Phillips_Gonzalo Ferebee@Cloud.com'),\n",
              " Row(age=28, gender='Male', name='Sheryll Towler', course='DSA', roll=831562, marks=59, email='Kena Wild_Gonzalo Ferebee@Cloud.com'),\n",
              " Row(age=29, gender='Male', name='Neda Briski', course='PF', roll=842515, marks=68, email='Neda Briski_Hubert Oliveras@OOP.com'),\n",
              " Row(age=29, gender='Male', name='Clementina Menke', course='DB', roll=882200, marks=76, email='Michelle Ruggiero_Jenna Montague@MVC.com'),\n",
              " Row(age=28, gender='Male', name='Margene Moores', course='DSA', roll=892010, marks=93, email='Anna Santos_Naoma Fritts@DSA.com'),\n",
              " Row(age=29, gender='Male', name='Loris Crossett', course='PF', roll=911593, marks=46, email='Gonzalo Ferebee_Mitzi Seldon@PF.com'),\n",
              " Row(age=29, gender='Male', name='Naoma Fritts', course='DB', roll=931295, marks=79, email='Hubert Oliveras_Sheryll Towler@DSA.com'),\n",
              " Row(age=29, gender='Male', name='Abram Nagao', course='MVC', roll=962235, marks=32, email='Jenna Montague_Gonzalo Ferebee@DSA.com'),\n",
              " Row(age=29, gender='Male', name='Niki Klimek', course='PF', roll=982443, marks=94, email='Santa Kerfien_Kizzy Brenner@DB.com'),\n",
              " Row(age=28, gender='Male', name='Jenna Montague', course='DSA', roll=1002103, marks=36, email='Melani Engberg_Hubert Oliveras@PF.com'),\n",
              " Row(age=29, gender='Male', name='Michelle Ruggiero', course='DSA', roll=1022971, marks=99, email='Cordie Harnois_Clementina Menke@OOP.com'),\n",
              " Row(age=28, gender='Male', name='Annika Hoffman', course='DB', roll=1031544, marks=44, email='Dustin Feagins_Somer Stoecker@DB.com'),\n",
              " Row(age=28, gender='Male', name='Billi Clore', course='MVC', roll=1052566, marks=78, email='Naoma Fritts_Margene Moores@DSA.com'),\n",
              " Row(age=29, gender='Male', name='Clementina Menke', course='PF', roll=1071717, marks=54, email='Celeste Lollis_Leontine Phillips@OOP.com'),\n",
              " Row(age=29, gender='Male', name='Donna Yerby', course='DSA', roll=1092702, marks=79, email='Marylee Capasso_Alberta Freund@OOP.com'),\n",
              " Row(age=29, gender='Male', name='Abram Nagao', course='PF', roll=1112161, marks=42, email='Nicole Harwood_Niki Klimek@DB.com'),\n",
              " Row(age=29, gender='Male', name='Nicole Harwood', course='Cloud', roll=1152571, marks=62, email='Latia Vanhoose_Maybell Duguay@PF.com'),\n",
              " Row(age=28, gender='Male', name='Jalisa Swenson', course='PF', roll=1192555, marks=77, email='Marylee Capasso_Celeste Lollis@Cloud.com'),\n",
              " Row(age=28, gender='Male', name='Nicole Harwood', course='DB', roll=1211495, marks=28, email='Melani Engberg_Jc Andrepont@Cloud.com'),\n",
              " Row(age=28, gender='Male', name='Nicole Harwood', course='OOP', roll=1242426, marks=71, email='Billi Clore_Loris Crossett@Cloud.com'),\n",
              " Row(age=28, gender='Male', name='Gonzalo Ferebee', course='Cloud', roll=1251176, marks=60, email='Santa Kerfien_Tamera Blakley@PF.com'),\n",
              " Row(age=29, gender='Male', name='Jalisa Swenson', course='Cloud', roll=1261533, marks=70, email='Dustin Feagins_Nicole Harwood@PF.com'),\n",
              " Row(age=28, gender='Male', name='Paris Hutton', course='MVC', roll=1292279, marks=26, email='Paris Hutton_Eda Neathery@DSA.com'),\n",
              " Row(age=28, gender='Male', name='Bonita Higuera', course='Cloud', roll=1312294, marks=94, email='Eda Neathery_Priscila Tavernier@PF.com'),\n",
              " Row(age=29, gender='Male', name='Jalisa Swenson', course='PF', roll=1332072, marks=88, email='Billi Clore_Kizzy Brenner@Cloud.com'),\n",
              " Row(age=28, gender='Male', name='Clementina Menke', course='OOP', roll=1341574, marks=46, email='Elenore Choy_Mickey Cortright@DB.com'),\n",
              " Row(age=28, gender='Male', name='Gonzalo Ferebee', course='PF', roll=1352348, marks=95, email='Neda Briski_Somer Stoecker@DB.com'),\n",
              " Row(age=28, gender='Male', name='Lawanda Wohlwend', course='PF', roll=1372552, marks=88, email='Hubert Oliveras_Tijuana Kropf@DSA.com'),\n",
              " Row(age=28, gender='Male', name='Abram Nagao', course='DSA', roll=1382959, marks=66, email='Michelle Ruggiero_Kena Wild@OOP.com'),\n",
              " Row(age=28, gender='Male', name='Bonita Higuera', course='Cloud', roll=1401526, marks=24, email='Jc Andrepont_Cheri Kenney@Cloud.com'),\n",
              " Row(age=29, gender='Male', name='Niki Klimek', course='MVC', roll=1472917, marks=36, email='Sebrina Maresca_Sheryll Towler@MVC.com'),\n",
              " Row(age=28, gender='Male', name='Jc Andrepont', course='DSA', roll=1492828, marks=78, email='Celeste Lollis_Kizzy Brenner@MVC.com'),\n",
              " Row(age=28, gender='Male', name='Hubert Oliveras', course='PF', roll=1521724, marks=91, email='Eda Neathery_Jeannetta Golden@MVC.com'),\n",
              " Row(age=28, gender='Male', name='Paris Hutton', course='MVC', roll=1602777, marks=53, email='Sheryll Towler_Loris Crossett@DSA.com'),\n",
              " Row(age=28, gender='Male', name='Marylee Capasso', course='DB', roll=1611411, marks=96, email='Annika Hoffman_Loris Crossett@PF.com'),\n",
              " Row(age=28, gender='Male', name='Anna Santos', course='OOP', roll=1621905, marks=24, email='Elenore Choy_Santa Kerfien@DB.com'),\n",
              " Row(age=28, gender='Male', name='Neda Briski', course='DSA', roll=1632185, marks=93, email='Clementina Menke_Toshiko Hillyard@Cloud.com'),\n",
              " Row(age=29, gender='Male', name='Alberta Freund', course='DB', roll=1671638, marks=98, email='Clementina Menke_Jalisa Swenson@Cloud.com'),\n",
              " Row(age=28, gender='Male', name='Celeste Lollis', course='DB', roll=1692106, marks=36, email='Neda Briski_Abram Nagao@MVC.com'),\n",
              " Row(age=29, gender='Male', name='Nicole Harwood', course='MVC', roll=1761454, marks=34, email='Taryn Brownlee_Billi Clore@DSA.com'),\n",
              " Row(age=29, gender='Male', name='Claude Panos', course='DSA', roll=1771605, marks=50, email='Claude Panos_Tamera Blakley@OOP.com'),\n",
              " Row(age=29, gender='Male', name='Dustin Feagins', course='DB', roll=1782045, marks=81, email='Cordie Harnois_Toshiko Hillyard@OOP.com'),\n",
              " Row(age=29, gender='Male', name='Toshiko Hillyard', course='DSA', roll=1791364, marks=50, email='Jc Andrepont_Nicole Harwood@MVC.com'),\n",
              " Row(age=28, gender='Male', name='Alberta Freund', course='Cloud', roll=1802934, marks=24, email='Maybell Duguay_Paris Hutton@PF.com'),\n",
              " Row(age=29, gender='Male', name='Latia Vanhoose', course='Cloud', roll=1832268, marks=60, email='Marylee Capasso_Santa Kerfien@MVC.com'),\n",
              " Row(age=29, gender='Male', name='Alberta Freund', course='OOP', roll=1841931, marks=37, email='Jenna Montague_Taryn Brownlee@Cloud.com'),\n",
              " Row(age=29, gender='Male', name='Celeste Lollis', course='PF', roll=1861656, marks=67, email='Niki Klimek_Lawanda Wohlwend@DB.com'),\n",
              " Row(age=29, gender='Male', name='Tijuana Kropf', course='DB', roll=1882795, marks=92, email='Hubert Oliveras_Elenore Choy@Cloud.com'),\n",
              " Row(age=28, gender='Male', name='Somer Stoecker', course='Cloud', roll=1891261, marks=30, email='Taryn Brownlee_Sheryll Towler@PF.com'),\n",
              " Row(age=28, gender='Male', name='Ernest Rossbach', course='DB', roll=1901492, marks=54, email='Latia Vanhoose_Jc Andrepont@MVC.com'),\n",
              " Row(age=29, gender='Male', name='Sebrina Maresca', course='PF', roll=1932455, marks=23, email='Tijuana Kropf_Naoma Fritts@Cloud.com'),\n",
              " Row(age=29, gender='Male', name='Marylee Capasso', course='DSA', roll=1942185, marks=37, email='Tijuana Kropf_Latia Vanhoose@DSA.com'),\n",
              " Row(age=29, gender='Male', name='Jeannetta Golden', course='Cloud', roll=1952763, marks=67, email='Jenna Montague_Jeannetta Golden@OOP.com'),\n",
              " Row(age=29, gender='Male', name='Niki Klimek', course='MVC', roll=1962371, marks=78, email='Marylee Capasso_Mickey Cortright@PF.com'),\n",
              " Row(age=29, gender='Male', name='Tamera Blakley', course='OOP', roll=1981124, marks=46, email='Taryn Brownlee_Eda Neathery@DB.com'),\n",
              " Row(age=28, gender='Male', name='Santa Kerfien', course='MVC', roll=1992202, marks=23, email='Annika Hoffman_Tamera Blakley@OOP.com'),\n",
              " Row(age=29, gender='Male', name='Somer Stoecker', course='OOP', roll=2011301, marks=47, email='Somer Stoecker_Anna Santos@MVC.com'),\n",
              " Row(age=28, gender='Male', name='Billi Clore', course='PF', roll=2022282, marks=77, email='Anna Santos_Claude Panos@Cloud.com'),\n",
              " Row(age=28, gender='Male', name='Kena Wild', course='DB', roll=2031530, marks=93, email='Jc Andrepont_Jc Andrepont@PF.com'),\n",
              " Row(age=28, gender='Male', name='Marylee Capasso', course='DSA', roll=2081560, marks=20, email='Sheryll Towler_Donna Yerby@Cloud.com'),\n",
              " Row(age=28, gender='Male', name='Neda Briski', course='Cloud', roll=2092176, marks=81, email='Celeste Lollis_Maybell Duguay@PF.com'),\n",
              " Row(age=29, gender='Male', name='Donna Yerby', course='DSA', roll=2102495, marks=97, email='Paris Hutton_Celeste Lollis@PF.com'),\n",
              " Row(age=29, gender='Male', name='Judie Chipps', course='DB', roll=2112234, marks=94, email='Dustin Feagins_Tamera Blakley@PF.com'),\n",
              " Row(age=29, gender='Male', name='Jeannetta Golden', course='MVC', roll=2132781, marks=93, email='Kizzy Brenner_Cheri Kenney@MVC.com'),\n",
              " Row(age=29, gender='Male', name='Naoma Fritts', course='PF', roll=2141246, marks=91, email='Mitzi Seldon_Cordie Harnois@Cloud.com'),\n",
              " Row(age=29, gender='Male', name='Somer Stoecker', course='MVC', roll=2151024, marks=36, email='Loris Crossett_Tamera Blakley@DB.com'),\n",
              " Row(age=28, gender='Male', name='Toshiko Hillyard', course='PF', roll=2162776, marks=54, email='Jenna Montague_Niki Klimek@MVC.com'),\n",
              " Row(age=28, gender='Male', name='Jeannetta Golden', course='DB', roll=2171387, marks=76, email='Cheri Kenney_Billi Clore@DB.com'),\n",
              " Row(age=29, gender='Male', name='Mitzi Seldon', course='Cloud', roll=2202649, marks=43, email='Santa Kerfien_Loris Crossett@Cloud.com'),\n",
              " Row(age=28, gender='Male', name='Jalisa Swenson', course='DSA', roll=2222704, marks=91, email='Judie Chipps_Jalisa Swenson@Cloud.com'),\n",
              " Row(age=28, gender='Male', name='Priscila Tavernier', course='OOP', roll=2232863, marks=60, email='Bonita Higuera_Lawanda Wohlwend@MVC.com'),\n",
              " Row(age=29, gender='Male', name='Margene Moores', course='Cloud', roll=2241434, marks=71, email='Mitzi Seldon_Michelle Ruggiero@Cloud.com'),\n",
              " Row(age=29, gender='Male', name='Annika Hoffman', course='PF', roll=2301940, marks=81, email='Jenna Montague_Sheryll Towler@Cloud.com'),\n",
              " Row(age=28, gender='Male', name='Kizzy Brenner', course='DB', roll=2322537, marks=56, email='Jenna Montague_Latia Vanhoose@MVC.com'),\n",
              " Row(age=29, gender='Male', name='Michelle Ruggiero', course='Cloud', roll=2332207, marks=72, email='Gonzalo Ferebee_Melani Engberg@OOP.com'),\n",
              " Row(age=29, gender='Male', name='Alberta Freund', course='DSA', roll=2341989, marks=68, email='Jeannetta Golden_Priscila Tavernier@PF.com'),\n",
              " Row(age=29, gender='Male', name='Mickey Cortright', course='OOP', roll=2361202, marks=59, email='Kizzy Brenner_Eda Neathery@MVC.com'),\n",
              " Row(age=29, gender='Male', name='Latia Vanhoose', course='OOP', roll=2372748, marks=94, email='Latia Vanhoose_Latia Vanhoose@OOP.com'),\n",
              " Row(age=29, gender='Male', name='Naoma Fritts', course='OOP', roll=2382829, marks=37, email='Ernest Rossbach_Celeste Lollis@PF.com'),\n",
              " Row(age=28, gender='Male', name='Melani Engberg', course='MVC', roll=2412019, marks=54, email='Latia Vanhoose_Melani Engberg@DSA.com'),\n",
              " Row(age=28, gender='Male', name='Sebrina Maresca', course='Cloud', roll=2452108, marks=41, email='Billi Clore_Loris Crossett@DSA.com'),\n",
              " Row(age=28, gender='Male', name='Judie Chipps', course='DB', roll=2461986, marks=53, email='Niki Klimek_Judie Chipps@MVC.com'),\n",
              " Row(age=29, gender='Male', name='Jenna Montague', course='DSA', roll=2472773, marks=81, email='Margene Moores_Bonita Higuera@DSA.com'),\n",
              " Row(age=29, gender='Male', name='Cheri Kenney', course='Cloud', roll=2491705, marks=64, email='Toshiko Hillyard_Mickey Cortright@PF.com'),\n",
              " Row(age=28, gender='Male', name='Priscila Tavernier', course='Cloud', roll=2552194, marks=42, email='Jeannetta Golden_Abram Nagao@PF.com'),\n",
              " Row(age=28, gender='Male', name='Claude Panos', course='OOP', roll=2562357, marks=50, email='Naoma Fritts_Anna Santos@Cloud.com'),\n",
              " Row(age=28, gender='Male', name='Gonzalo Ferebee', course='MVC', roll=2572197, marks=43, email='Marylee Capasso_Jc Andrepont@DB.com'),\n",
              " Row(age=29, gender='Male', name='Nicole Harwood', course='Cloud', roll=2581369, marks=26, email='Paris Hutton_Alberta Freund@MVC.com'),\n",
              " Row(age=28, gender='Male', name='Paris Hutton', course='OOP', roll=2592369, marks=60, email='Taryn Brownlee_Sheryll Towler@OOP.com'),\n",
              " Row(age=28, gender='Male', name='Sheryll Towler', course='DSA', roll=2612360, marks=27, email='Celeste Lollis_Paris Hutton@OOP.com'),\n",
              " Row(age=28, gender='Male', name='Mitzi Seldon', course='DB', roll=2622118, marks=55, email='Mickey Cortright_Mitzi Seldon@MVC.com'),\n",
              " Row(age=28, gender='Male', name='Billi Clore', course='PF', roll=2642909, marks=58, email='Loris Crossett_Sebrina Maresca@OOP.com'),\n",
              " Row(age=28, gender='Male', name='Abram Nagao', course='Cloud', roll=2652463, marks=21, email='Eda Neathery_Annika Hoffman@Cloud.com'),\n",
              " Row(age=29, gender='Male', name='Tamera Blakley', course='DSA', roll=2661934, marks=23, email='Alberta Freund_Tijuana Kropf@Cloud.com'),\n",
              " Row(age=28, gender='Male', name='Mitzi Seldon', course='PF', roll=2701239, marks=76, email='Alberta Freund_Cordie Harnois@Cloud.com'),\n",
              " Row(age=29, gender='Male', name='Sebrina Maresca', course='PF', roll=2712040, marks=23, email='Jeannetta Golden_Judie Chipps@DB.com'),\n",
              " Row(age=29, gender='Male', name='Somer Stoecker', course='PF', roll=2721652, marks=36, email='Tijuana Kropf_Michelle Ruggiero@Cloud.com'),\n",
              " Row(age=28, gender='Male', name='Santa Kerfien', course='DB', roll=2732421, marks=79, email='Claude Panos_Alberta Freund@DB.com'),\n",
              " Row(age=28, gender='Male', name='Clementina Menke', course='DSA', roll=2772189, marks=98, email='Donna Yerby_Judie Chipps@PF.com'),\n",
              " Row(age=29, gender='Male', name='Tijuana Kropf', course='Cloud', roll=2781801, marks=68, email='Alberta Freund_Cordie Harnois@Cloud.com'),\n",
              " Row(age=29, gender='Male', name='Leontine Phillips', course='PF', roll=2832158, marks=26, email='Margene Moores_Claude Panos@MVC.com'),\n",
              " Row(age=29, gender='Male', name='Abram Nagao', course='DB', roll=2841061, marks=25, email='Leontine Phillips_Toshiko Hillyard@Cloud.com'),\n",
              " Row(age=28, gender='Male', name='Loris Crossett', course='OOP', roll=2852490, marks=25, email='Loris Crossett_Donna Yerby@DSA.com'),\n",
              " Row(age=28, gender='Male', name='Michelle Ruggiero', course='DB', roll=2891164, marks=60, email='Gonzalo Ferebee_Priscila Tavernier@DSA.com'),\n",
              " Row(age=29, gender='Male', name='Niki Klimek', course='DB', roll=2912538, marks=67, email='Jc Andrepont_Mitzi Seldon@DSA.com'),\n",
              " Row(age=28, gender='Male', name='Gonzalo Ferebee', course='Cloud', roll=2922041, marks=38, email='Clementina Menke_Taryn Brownlee@OOP.com'),\n",
              " Row(age=29, gender='Male', name='Melani Engberg', course='DB', roll=2941257, marks=98, email='Claude Panos_Kena Wild@DB.com'),\n",
              " Row(age=29, gender='Male', name='Billi Clore', course='DSA', roll=2952091, marks=52, email='Jenna Montague_Mickey Cortright@DB.com'),\n",
              " Row(age=29, gender='Male', name='Claude Panos', course='PF', roll=2961015, marks=33, email='Elenore Choy_Santa Kerfien@DSA.com'),\n",
              " Row(age=29, gender='Male', name='Latia Vanhoose', course='MVC', roll=2992281, marks=90, email='Elenore Choy_Cordie Harnois@DSA.com'),\n",
              " Row(age=29, gender='Male', name='Margene Moores', course='PF', roll=3002277, marks=32, email='Somer Stoecker_Maybell Duguay@DSA.com'),\n",
              " Row(age=28, gender='Male', name='Leontine Phillips', course='Cloud', roll=3011586, marks=76, email='Dustin Feagins_Alberta Freund@DB.com'),\n",
              " Row(age=29, gender='Male', name='Naoma Fritts', course='MVC', roll=3021768, marks=34, email='Bonita Higuera_Anna Santos@Cloud.com'),\n",
              " Row(age=29, gender='Male', name='Annika Hoffman', course='Cloud', roll=3051363, marks=57, email='Paris Hutton_Leontine Phillips@Cloud.com'),\n",
              " Row(age=29, gender='Male', name='Anna Santos', course='Cloud', roll=3061386, marks=57, email='Michelle Ruggiero_Abram Nagao@Cloud.com'),\n",
              " Row(age=28, gender='Male', name='Tijuana Kropf', course='DB', roll=3111175, marks=70, email='Latia Vanhoose_Somer Stoecker@DSA.com'),\n",
              " Row(age=28, gender='Male', name='Kizzy Brenner', course='MVC', roll=3121184, marks=29, email='Tijuana Kropf_Elenore Choy@DB.com'),\n",
              " Row(age=29, gender='Male', name='Nicole Harwood', course='OOP', roll=3132620, marks=88, email='Jeannetta Golden_Lawanda Wohlwend@PF.com'),\n",
              " Row(age=29, gender='Male', name='Gonzalo Ferebee', course='DSA', roll=3141791, marks=62, email='Ernest Rossbach_Sheryll Towler@MVC.com'),\n",
              " Row(age=29, gender='Male', name='Billi Clore', course='MVC', roll=3152247, marks=96, email='Ernest Rossbach_Clementina Menke@PF.com'),\n",
              " Row(age=29, gender='Male', name='Elenore Choy', course='Cloud', roll=3161233, marks=45, email='Dustin Feagins_Dustin Feagins@Cloud.com'),\n",
              " Row(age=29, gender='Male', name='Judie Chipps', course='MVC', roll=3172827, marks=67, email='Eda Neathery_Eda Neathery@DSA.com'),\n",
              " Row(age=28, gender='Male', name='Lawanda Wohlwend', course='Cloud', roll=3181337, marks=39, email='Sebrina Maresca_Billi Clore@MVC.com'),\n",
              " Row(age=29, gender='Male', name='Jalisa Swenson', course='DB', roll=3192192, marks=74, email='Ernest Rossbach_Cordie Harnois@DB.com'),\n",
              " Row(age=29, gender='Male', name='Cordie Harnois', course='PF', roll=3201624, marks=41, email='Maybell Duguay_Somer Stoecker@PF.com'),\n",
              " Row(age=28, gender='Male', name='Tijuana Kropf', course='MVC', roll=3212517, marks=48, email='Somer Stoecker_Mickey Cortright@PF.com'),\n",
              " Row(age=29, gender='Male', name='Donna Yerby', course='PF', roll=3282057, marks=87, email='Kizzy Brenner_Loris Crossett@DB.com'),\n",
              " Row(age=29, gender='Male', name='Tijuana Kropf', course='PF', roll=3301891, marks=60, email='Tamera Blakley_Neda Briski@DSA.com'),\n",
              " Row(age=28, gender='Male', name='Sheryll Towler', course='OOP', roll=3322308, marks=32, email='Clementina Menke_Naoma Fritts@OOP.com'),\n",
              " Row(age=28, gender='Male', name='Jenna Montague', course='OOP', roll=3331161, marks=98, email='Leontine Phillips_Judie Chipps@DSA.com'),\n",
              " Row(age=28, gender='Male', name='Mitzi Seldon', course='PF', roll=3342819, marks=68, email='Cheri Kenney_Naoma Fritts@PF.com'),\n",
              " Row(age=28, gender='Male', name='Clementina Menke', course='Cloud', roll=3352508, marks=95, email='Naoma Fritts_Mickey Cortright@Cloud.com'),\n",
              " Row(age=29, gender='Male', name='Sebrina Maresca', course='DB', roll=3371719, marks=86, email='Marylee Capasso_Margene Moores@DSA.com'),\n",
              " Row(age=28, gender='Male', name='Niki Klimek', course='PF', roll=3381919, marks=97, email='Hubert Oliveras_Latia Vanhoose@DB.com'),\n",
              " Row(age=29, gender='Male', name='Dustin Feagins', course='OOP', roll=3412915, marks=62, email='Toshiko Hillyard_Priscila Tavernier@MVC.com'),\n",
              " Row(age=29, gender='Male', name='Annika Hoffman', course='DSA', roll=3471063, marks=42, email='Bonita Higuera_Cordie Harnois@Cloud.com'),\n",
              " Row(age=28, gender='Male', name='Taryn Brownlee', course='PF', roll=3491666, marks=76, email='Neda Briski_Priscila Tavernier@DB.com'),\n",
              " Row(age=29, gender='Male', name='Kizzy Brenner', course='PF', roll=3512215, marks=50, email='Naoma Fritts_Melani Engberg@Cloud.com'),\n",
              " Row(age=28, gender='Male', name='Kizzy Brenner', course='Cloud', roll=3581303, marks=80, email='Margene Moores_Tamera Blakley@PF.com'),\n",
              " Row(age=29, gender='Male', name='Loris Crossett', course='OOP', roll=3592529, marks=80, email='Annika Hoffman_Toshiko Hillyard@PF.com'),\n",
              " Row(age=28, gender='Male', name='Mickey Cortright', course='Cloud', roll=3612300, marks=92, email='Cordie Harnois_Sheryll Towler@OOP.com'),\n",
              " Row(age=28, gender='Male', name='Hubert Oliveras', course='Cloud', roll=3632954, marks=34, email='Ernest Rossbach_Annika Hoffman@OOP.com'),\n",
              " Row(age=29, gender='Male', name='Elenore Choy', course='DB', roll=3652057, marks=20, email='Jc Andrepont_Gonzalo Ferebee@DB.com'),\n",
              " Row(age=28, gender='Male', name='Jalisa Swenson', course='PF', roll=3681989, marks=88, email='Toshiko Hillyard_Ernest Rossbach@DB.com'),\n",
              " Row(age=29, gender='Male', name='Marylee Capasso', course='MVC', roll=3702018, marks=88, email='Somer Stoecker_Latia Vanhoose@Cloud.com'),\n",
              " Row(age=28, gender='Male', name='Jenna Montague', course='DSA', roll=3721359, marks=96, email='Naoma Fritts_Kizzy Brenner@MVC.com'),\n",
              " Row(age=28, gender='Male', name='Niki Klimek', course='OOP', roll=3742031, marks=82, email='Leontine Phillips_Toshiko Hillyard@Cloud.com'),\n",
              " Row(age=28, gender='Male', name='Claude Panos', course='DB', roll=3752819, marks=78, email='Toshiko Hillyard_Mickey Cortright@DB.com'),\n",
              " Row(age=29, gender='Male', name='Priscila Tavernier', course='PF', roll=3762231, marks=87, email='Celeste Lollis_Loris Crossett@Cloud.com'),\n",
              " Row(age=28, gender='Male', name='Abram Nagao', course='DSA', roll=3781521, marks=45, email='Taryn Brownlee_Michelle Ruggiero@OOP.com'),\n",
              " Row(age=28, gender='Male', name='Maybell Duguay', course='Cloud', roll=3791855, marks=33, email='Tijuana Kropf_Lawanda Wohlwend@PF.com'),\n",
              " Row(age=28, gender='Male', name='Bonita Higuera', course='DB', roll=3802569, marks=77, email='Kena Wild_Kena Wild@OOP.com'),\n",
              " Row(age=29, gender='Male', name='Tijuana Kropf', course='DB', roll=3821650, marks=60, email='Maybell Duguay_Donna Yerby@MVC.com'),\n",
              " Row(age=28, gender='Male', name='Eda Neathery', course='Cloud', roll=3831006, marks=75, email='Donna Yerby_Loris Crossett@DSA.com'),\n",
              " Row(age=29, gender='Male', name='Jc Andrepont', course='MVC', roll=3892788, marks=94, email='Alberta Freund_Eda Neathery@DSA.com'),\n",
              " Row(age=29, gender='Male', name='Dustin Feagins', course='PF', roll=3921585, marks=32, email='Dustin Feagins_Jalisa Swenson@OOP.com'),\n",
              " Row(age=29, gender='Male', name='Margene Moores', course='DSA', roll=3942449, marks=22, email='Tijuana Kropf_Naoma Fritts@DSA.com'),\n",
              " Row(age=28, gender='Male', name='Santa Kerfien', course='PF', roll=3961803, marks=94, email='Jeannetta Golden_Latia Vanhoose@PF.com'),\n",
              " Row(age=29, gender='Male', name='Jalisa Swenson', course='OOP', roll=3972823, marks=92, email='Tamera Blakley_Elenore Choy@Cloud.com'),\n",
              " Row(age=28, gender='Male', name='Cordie Harnois', course='PF', roll=3991186, marks=69, email='Loris Crossett_Somer Stoecker@PF.com'),\n",
              " Row(age=29, gender='Male', name='Bonita Higuera', course='Cloud', roll=4001493, marks=36, email='Priscila Tavernier_Niki Klimek@PF.com'),\n",
              " Row(age=28, gender='Male', name='Jeannetta Golden', course='PF', roll=4021336, marks=63, email='Latia Vanhoose_Loris Crossett@PF.com'),\n",
              " Row(age=29, gender='Male', name='Sheryll Towler', course='MVC', roll=4041358, marks=34, email='Sheryll Towler_Claude Panos@DSA.com'),\n",
              " Row(age=28, gender='Male', name='Margene Moores', course='DSA', roll=4071164, marks=42, email='Billi Clore_Lawanda Wohlwend@DB.com'),\n",
              " Row(age=29, gender='Male', name='Ernest Rossbach', course='DB', roll=4081940, marks=41, email='Tamera Blakley_Abram Nagao@MVC.com'),\n",
              " Row(age=29, gender='Male', name='Maybell Duguay', course='Cloud', roll=4112714, marks=54, email='Cordie Harnois_Mitzi Seldon@DB.com'),\n",
              " Row(age=28, gender='Male', name='Paris Hutton', course='OOP', roll=4141149, marks=82, email='Maybell Duguay_Marylee Capasso@DB.com'),\n",
              " Row(age=29, gender='Male', name='Anna Santos', course='DB', roll=4192955, marks=49, email='Clementina Menke_Judie Chipps@Cloud.com'),\n",
              " Row(age=28, gender='Male', name='Celeste Lollis', course='DSA', roll=4201845, marks=46, email='Gonzalo Ferebee_Clementina Menke@MVC.com'),\n",
              " Row(age=29, gender='Male', name='Michelle Ruggiero', course='OOP', roll=4222829, marks=96, email='Kena Wild_Jalisa Swenson@Cloud.com'),\n",
              " Row(age=29, gender='Male', name='Clementina Menke', course='DSA', roll=4231581, marks=66, email='Annika Hoffman_Tamera Blakley@DSA.com'),\n",
              " Row(age=29, gender='Male', name='Hubert Oliveras', course='Cloud', roll=4282001, marks=70, email='Billi Clore_Elenore Choy@Cloud.com'),\n",
              " Row(age=29, gender='Male', name='Elenore Choy', course='DB', roll=4291907, marks=91, email='Hubert Oliveras_Tamera Blakley@OOP.com'),\n",
              " Row(age=28, gender='Male', name='Santa Kerfien', course='DB', roll=4311493, marks=90, email='Tijuana Kropf_Anna Santos@PF.com'),\n",
              " Row(age=28, gender='Male', name='Clementina Menke', course='PF', roll=4341575, marks=89, email='Cordie Harnois_Marylee Capasso@DB.com'),\n",
              " Row(age=29, gender='Male', name='Billi Clore', course='Cloud', roll=4351588, marks=76, email='Loris Crossett_Gonzalo Ferebee@DB.com'),\n",
              " Row(age=29, gender='Male', name='Celeste Lollis', course='PF', roll=4372710, marks=63, email='Latia Vanhoose_Loris Crossett@MVC.com'),\n",
              " Row(age=28, gender='Male', name='Toshiko Hillyard', course='Cloud', roll=4381862, marks=55, email='Anna Santos_Melani Engberg@MVC.com'),\n",
              " Row(age=29, gender='Male', name='Margene Moores', course='OOP', roll=4401841, marks=45, email='Naoma Fritts_Eda Neathery@Cloud.com'),\n",
              " Row(age=29, gender='Male', name='Ernest Rossbach', course='DB', roll=4411585, marks=50, email='Marylee Capasso_Lawanda Wohlwend@Cloud.com'),\n",
              " Row(age=29, gender='Male', name='Maybell Duguay', course='DSA', roll=4441473, marks=23, email='Billi Clore_Clementina Menke@OOP.com'),\n",
              " Row(age=29, gender='Male', name='Cheri Kenney', course='Cloud', roll=4451117, marks=73, email='Jenna Montague_Kena Wild@Cloud.com'),\n",
              " Row(age=29, gender='Male', name='Paris Hutton', course='DB', roll=4492478, marks=84, email='Paris Hutton_Jenna Montague@PF.com'),\n",
              " Row(age=29, gender='Male', name='Melani Engberg', course='MVC', roll=4511004, marks=71, email='Nicole Harwood_Melani Engberg@Cloud.com'),\n",
              " Row(age=29, gender='Male', name='Abram Nagao', course='Cloud', roll=4531204, marks=50, email='Loris Crossett_Sebrina Maresca@DB.com'),\n",
              " Row(age=29, gender='Male', name='Judie Chipps', course='DB', roll=4542925, marks=39, email='Jenna Montague_Priscila Tavernier@PF.com'),\n",
              " Row(age=28, gender='Male', name='Kizzy Brenner', course='Cloud', roll=4622328, marks=21, email='Leontine Phillips_Marylee Capasso@PF.com'),\n",
              " Row(age=28, gender='Male', name='Marylee Capasso', course='PF', roll=4642202, marks=94, email='Marylee Capasso_Elenore Choy@Cloud.com'),\n",
              " Row(age=28, gender='Male', name='Eda Neathery', course='DB', roll=4651622, marks=43, email='Priscila Tavernier_Hubert Oliveras@DSA.com'),\n",
              " Row(age=29, gender='Male', name='Latia Vanhoose', course='Cloud', roll=4661276, marks=40, email='Jc Andrepont_Annika Hoffman@DB.com'),\n",
              " Row(age=29, gender='Male', name='Kizzy Brenner', course='Cloud', roll=4671045, marks=81, email='Lawanda Wohlwend_Judie Chipps@OOP.com'),\n",
              " Row(age=28, gender='Male', name='Elenore Choy', course='MVC', roll=4681842, marks=88, email='Paris Hutton_Toshiko Hillyard@DB.com'),\n",
              " Row(age=29, gender='Male', name='Dustin Feagins', course='MVC', roll=4692399, marks=32, email='Gonzalo Ferebee_Somer Stoecker@OOP.com'),\n",
              " Row(age=29, gender='Male', name='Judie Chipps', course='OOP', roll=4742632, marks=94, email='Judie Chipps_Kena Wild@OOP.com'),\n",
              " Row(age=29, gender='Male', name='Jalisa Swenson', course='OOP', roll=4751515, marks=20, email='Annika Hoffman_Hubert Oliveras@Cloud.com'),\n",
              " Row(age=29, gender='Male', name='Marylee Capasso', course='MVC', roll=4762368, marks=80, email='Sebrina Maresca_Annika Hoffman@Cloud.com'),\n",
              " Row(age=28, gender='Male', name='Alberta Freund', course='DB', roll=4802967, marks=80, email='Naoma Fritts_Elenore Choy@DSA.com'),\n",
              " Row(age=29, gender='Male', name='Jalisa Swenson', course='OOP', roll=4822653, marks=70, email='Anna Santos_Abram Nagao@MVC.com'),\n",
              " Row(age=29, gender='Male', name='Elenore Choy', course='DSA', roll=4831059, marks=24, email='Abram Nagao_Kena Wild@Cloud.com'),\n",
              " Row(age=28, gender='Male', name='Cheri Kenney', course='PF', roll=4841631, marks=84, email='Abram Nagao_Naoma Fritts@MVC.com'),\n",
              " Row(age=28, gender='Male', name='Cheri Kenney', course='OOP', roll=4862694, marks=68, email='Leontine Phillips_Taryn Brownlee@DB.com'),\n",
              " Row(age=28, gender='Male', name='Clementina Menke', course='DSA', roll=4891815, marks=44, email='Kena Wild_Judie Chipps@PF.com'),\n",
              " Row(age=29, gender='Male', name='Anna Santos', course='MVC', roll=4901235, marks=77, email='Gonzalo Ferebee_Sebrina Maresca@DB.com'),\n",
              " Row(age=29, gender='Male', name='Elenore Choy', course='DSA', roll=4911667, marks=52, email='Priscila Tavernier_Sheryll Towler@PF.com'),\n",
              " Row(age=28, gender='Male', name='Santa Kerfien', course='DB', roll=4932764, marks=76, email='Nicole Harwood_Loris Crossett@PF.com'),\n",
              " Row(age=28, gender='Male', name='Mitzi Seldon', course='MVC', roll=4942910, marks=91, email='Tamera Blakley_Jenna Montague@DSA.com'),\n",
              " Row(age=29, gender='Male', name='Jc Andrepont', course='DB', roll=5012482, marks=60, email='Jalisa Swenson_Somer Stoecker@Cloud.com'),\n",
              " Row(age=29, gender='Male', name='Abram Nagao', course='DSA', roll=5022738, marks=42, email='Margene Moores_Latia Vanhoose@OOP.com'),\n",
              " Row(age=29, gender='Male', name='Sebrina Maresca', course='Cloud', roll=5042394, marks=21, email='Donna Yerby_Michelle Ruggiero@PF.com'),\n",
              " Row(age=29, gender='Male', name='Jeannetta Golden', course='PF', roll=5051485, marks=75, email='Neda Briski_Annika Hoffman@Cloud.com'),\n",
              " Row(age=29, gender='Male', name='Jalisa Swenson', course='OOP', roll=5061737, marks=84, email='Somer Stoecker_Latia Vanhoose@MVC.com'),\n",
              " Row(age=28, gender='Male', name='Gonzalo Ferebee', course='MVC', roll=5071004, marks=72, email='Mitzi Seldon_Taryn Brownlee@DSA.com'),\n",
              " Row(age=28, gender='Male', name='Eda Neathery', course='PF', roll=5082430, marks=22, email='Leontine Phillips_Lawanda Wohlwend@MVC.com'),\n",
              " Row(age=28, gender='Male', name='Tijuana Kropf', course='DSA', roll=5092243, marks=85, email='Jenna Montague_Loris Crossett@OOP.com'),\n",
              " Row(age=29, gender='Male', name='Alberta Freund', course='PF', roll=5112625, marks=68, email='Abram Nagao_Celeste Lollis@DSA.com'),\n",
              " Row(age=29, gender='Male', name='Gonzalo Ferebee', course='Cloud', roll=5151742, marks=46, email='Jeannetta Golden_Ernest Rossbach@DSA.com'),\n",
              " Row(age=29, gender='Male', name='Mickey Cortright', course='MVC', roll=5162191, marks=28, email='Eda Neathery_Tijuana Kropf@DB.com'),\n",
              " Row(age=28, gender='Male', name='Niki Klimek', course='DSA', roll=5172507, marks=99, email='Marylee Capasso_Elenore Choy@MVC.com'),\n",
              " Row(age=29, gender='Male', name='Elenore Choy', course='PF', roll=5181004, marks=58, email='Jc Andrepont_Loris Crossett@OOP.com'),\n",
              " Row(age=29, gender='Male', name='Loris Crossett', course='MVC', roll=5192208, marks=78, email='Tamera Blakley_Abram Nagao@DB.com'),\n",
              " Row(age=28, gender='Male', name='Jc Andrepont', course='Cloud', roll=5202136, marks=97, email='Jc Andrepont_Kena Wild@PF.com'),\n",
              " Row(age=28, gender='Male', name='Eda Neathery', course='MVC', roll=5231777, marks=56, email='Judie Chipps_Jalisa Swenson@OOP.com'),\n",
              " Row(age=28, gender='Male', name='Elenore Choy', course='MVC', roll=5241419, marks=81, email='Sebrina Maresca_Taryn Brownlee@PF.com'),\n",
              " Row(age=28, gender='Male', name='Clementina Menke', course='DSA', roll=5272838, marks=27, email='Clementina Menke_Eda Neathery@MVC.com'),\n",
              " Row(age=29, gender='Male', name='Santa Kerfien', course='DB', roll=5282657, marks=81, email='Judie Chipps_Mickey Cortright@MVC.com'),\n",
              " Row(age=28, gender='Male', name='Taryn Brownlee', course='DB', roll=5311449, marks=25, email='Santa Kerfien_Lawanda Wohlwend@OOP.com'),\n",
              " Row(age=28, gender='Male', name='Donna Yerby', course='DB', roll=5321010, marks=65, email='Jc Andrepont_Tijuana Kropf@DB.com'),\n",
              " Row(age=28, gender='Male', name='Tamera Blakley', course='DSA', roll=5352713, marks=80, email='Jeannetta Golden_Neda Briski@Cloud.com'),\n",
              " Row(age=29, gender='Male', name='Sheryll Towler', course='PF', roll=5362217, marks=36, email='Ernest Rossbach_Eda Neathery@Cloud.com'),\n",
              " Row(age=28, gender='Male', name='Lawanda Wohlwend', course='OOP', roll=5382684, marks=34, email='Jc Andrepont_Kena Wild@Cloud.com'),\n",
              " Row(age=29, gender='Male', name='Santa Kerfien', course='OOP', roll=5391590, marks=89, email='Somer Stoecker_Loris Crossett@DB.com'),\n",
              " Row(age=28, gender='Male', name='Jc Andrepont', course='DSA', roll=5421958, marks=33, email='Lawanda Wohlwend_Leontine Phillips@DB.com'),\n",
              " Row(age=28, gender='Male', name='Anna Santos', course='DSA', roll=5502368, marks=84, email='Sebrina Maresca_Jc Andrepont@Cloud.com'),\n",
              " Row(age=28, gender='Male', name='Gonzalo Ferebee', course='PF', roll=5552593, marks=55, email='Jeannetta Golden_Dustin Feagins@Cloud.com'),\n",
              " Row(age=28, gender='Male', name='Abram Nagao', course='OOP', roll=5571082, marks=85, email='Santa Kerfien_Jalisa Swenson@PF.com'),\n",
              " Row(age=29, gender='Male', name='Sheryll Towler', course='DSA', roll=5591018, marks=56, email='Tijuana Kropf_Dustin Feagins@DSA.com'),\n",
              " Row(age=28, gender='Male', name='Michelle Ruggiero', course='PF', roll=5612879, marks=64, email='Tijuana Kropf_Maybell Duguay@PF.com'),\n",
              " Row(age=29, gender='Male', name='Margene Moores', course='OOP', roll=5621072, marks=97, email='Sheryll Towler_Margene Moores@MVC.com'),\n",
              " Row(age=28, gender='Male', name='Cheri Kenney', course='Cloud', roll=5641528, marks=94, email='Sebrina Maresca_Leontine Phillips@OOP.com'),\n",
              " Row(age=28, gender='Male', name='Tamera Blakley', course='DB', roll=5661433, marks=76, email='Abram Nagao_Leontine Phillips@MVC.com'),\n",
              " Row(age=28, gender='Male', name='Annika Hoffman', course='OOP', roll=5672977, marks=38, email='Paris Hutton_Latia Vanhoose@DB.com'),\n",
              " Row(age=29, gender='Male', name='Judie Chipps', course='OOP', roll=5682469, marks=24, email='Tamera Blakley_Maybell Duguay@DSA.com'),\n",
              " Row(age=29, gender='Male', name='Cordie Harnois', course='PF', roll=5691278, marks=24, email='Paris Hutton_Hubert Oliveras@MVC.com'),\n",
              " Row(age=29, gender='Male', name='Cheri Kenney', course='OOP', roll=5702560, marks=32, email='Lawanda Wohlwend_Naoma Fritts@Cloud.com'),\n",
              " Row(age=29, gender='Male', name='Tamera Blakley', course='OOP', roll=5722341, marks=68, email='Jalisa Swenson_Santa Kerfien@OOP.com'),\n",
              " Row(age=29, gender='Male', name='Bonita Higuera', course='OOP', roll=5732408, marks=82, email='Mitzi Seldon_Claude Panos@PF.com'),\n",
              " Row(age=29, gender='Male', name='Gonzalo Ferebee', course='MVC', roll=5772006, marks=99, email='Niki Klimek_Margene Moores@MVC.com'),\n",
              " Row(age=28, gender='Male', name='Naoma Fritts', course='OOP', roll=5791890, marks=45, email='Billi Clore_Jenna Montague@Cloud.com'),\n",
              " Row(age=28, gender='Male', name='Mickey Cortright', course='PF', roll=5812370, marks=39, email='Jenna Montague_Sheryll Towler@OOP.com'),\n",
              " Row(age=29, gender='Male', name='Eda Neathery', course='PF', roll=5821087, marks=55, email='Nicole Harwood_Paris Hutton@DSA.com'),\n",
              " Row(age=29, gender='Male', name='Priscila Tavernier', course='OOP', roll=5831872, marks=63, email='Somer Stoecker_Kena Wild@OOP.com'),\n",
              " Row(age=28, gender='Male', name='Sebrina Maresca', course='PF', roll=5902730, marks=34, email='Michelle Ruggiero_Claude Panos@DSA.com'),\n",
              " Row(age=29, gender='Male', name='Donna Yerby', course='DB', roll=5932345, marks=78, email='Leontine Phillips_Sheryll Towler@PF.com'),\n",
              " Row(age=28, gender='Male', name='Toshiko Hillyard', course='DSA', roll=5992644, marks=77, email='Jenna Montague_Tijuana Kropf@Cloud.com'),\n",
              " Row(age=29, gender='Male', name='Michelle Ruggiero', course='PF', roll=6001585, marks=20, email='Paris Hutton_Margene Moores@PF.com'),\n",
              " Row(age=29, gender='Male', name='Kizzy Brenner', course='DSA', roll=6012402, marks=71, email='Elenore Choy_Alberta Freund@PF.com'),\n",
              " Row(age=28, gender='Male', name='Gonzalo Ferebee', course='MVC', roll=6032264, marks=71, email='Jeannetta Golden_Claude Panos@Cloud.com'),\n",
              " Row(age=29, gender='Male', name='Cheri Kenney', course='DB', roll=6041254, marks=59, email='Gonzalo Ferebee_Margene Moores@PF.com'),\n",
              " Row(age=28, gender='Male', name='Priscila Tavernier', course='DSA', roll=6082520, marks=89, email='Clementina Menke_Hubert Oliveras@DSA.com'),\n",
              " Row(age=29, gender='Male', name='Kena Wild', course='DSA', roll=6092008, marks=76, email='Sheryll Towler_Anna Santos@PF.com'),\n",
              " Row(age=28, gender='Male', name='Paris Hutton', course='DB', roll=6131084, marks=72, email='Tijuana Kropf_Abram Nagao@MVC.com'),\n",
              " Row(age=29, gender='Male', name='Jalisa Swenson', course='DB', roll=6141407, marks=97, email='Ernest Rossbach_Alberta Freund@DB.com'),\n",
              " Row(age=29, gender='Male', name='Jc Andrepont', course='Cloud', roll=6171781, marks=88, email='Gonzalo Ferebee_Claude Panos@DB.com'),\n",
              " Row(age=29, gender='Male', name='Neda Briski', course='DSA', roll=6231956, marks=75, email='Nicole Harwood_Santa Kerfien@Cloud.com'),\n",
              " Row(age=29, gender='Male', name='Melani Engberg', course='PF', roll=6252274, marks=64, email='Latia Vanhoose_Paris Hutton@OOP.com'),\n",
              " Row(age=28, gender='Male', name='Tijuana Kropf', course='Cloud', roll=6281730, marks=83, email='Mickey Cortright_Celeste Lollis@Cloud.com'),\n",
              " Row(age=28, gender='Male', name='Alberta Freund', course='PF', roll=6291431, marks=68, email='Clementina Menke_Billi Clore@PF.com'),\n",
              " Row(age=29, gender='Male', name='Eda Neathery', course='DB', roll=6311969, marks=83, email='Clementina Menke_Neda Briski@DB.com'),\n",
              " Row(age=29, gender='Male', name='Claude Panos', course='OOP', roll=6321119, marks=35, email='Bonita Higuera_Eda Neathery@DSA.com'),\n",
              " Row(age=28, gender='Male', name='Alberta Freund', course='PF', roll=6352910, marks=52, email='Judie Chipps_Maybell Duguay@Cloud.com'),\n",
              " Row(age=29, gender='Male', name='Toshiko Hillyard', course='DSA', roll=6371328, marks=91, email='Somer Stoecker_Maybell Duguay@OOP.com'),\n",
              " Row(age=28, gender='Male', name='Annika Hoffman', course='MVC', roll=6381719, marks=48, email='Ernest Rossbach_Jc Andrepont@DSA.com'),\n",
              " Row(age=28, gender='Male', name='Lawanda Wohlwend', course='Cloud', roll=6391977, marks=39, email='Marylee Capasso_Melani Engberg@MVC.com'),\n",
              " Row(age=28, gender='Male', name='Naoma Fritts', course='DB', roll=6422790, marks=95, email='Sheryll Towler_Ernest Rossbach@DSA.com'),\n",
              " Row(age=29, gender='Male', name='Elenore Choy', course='PF', roll=6431645, marks=53, email='Loris Crossett_Kena Wild@MVC.com'),\n",
              " Row(age=28, gender='Male', name='Leontine Phillips', course='PF', roll=6442094, marks=78, email='Michelle Ruggiero_Paris Hutton@OOP.com'),\n",
              " Row(age=28, gender='Male', name='Taryn Brownlee', course='PF', roll=6471481, marks=76, email='Annika Hoffman_Donna Yerby@OOP.com'),\n",
              " Row(age=29, gender='Male', name='Bonita Higuera', course='MVC', roll=6491656, marks=45, email='Neda Briski_Naoma Fritts@DB.com'),\n",
              " Row(age=28, gender='Male', name='Jalisa Swenson', course='MVC', roll=6501571, marks=71, email='Naoma Fritts_Niki Klimek@MVC.com'),\n",
              " Row(age=29, gender='Male', name='Judie Chipps', course='Cloud', roll=6511826, marks=74, email='Clementina Menke_Judie Chipps@DSA.com'),\n",
              " Row(age=29, gender='Male', name='Somer Stoecker', course='DSA', roll=6531094, marks=81, email='Dustin Feagins_Kena Wild@MVC.com'),\n",
              " Row(age=29, gender='Male', name='Neda Briski', course='MVC', roll=6552886, marks=83, email='Abram Nagao_Marylee Capasso@OOP.com'),\n",
              " Row(age=28, gender='Male', name='Cheri Kenney', course='Cloud', roll=6562808, marks=92, email='Donna Yerby_Dustin Feagins@PF.com'),\n",
              " Row(age=29, gender='Male', name='Tijuana Kropf', course='PF', roll=6572639, marks=71, email='Sheryll Towler_Latia Vanhoose@PF.com'),\n",
              " Row(age=28, gender='Male', name='Tamera Blakley', course='Cloud', roll=6601939, marks=34, email='Jenna Montague_Clementina Menke@Cloud.com'),\n",
              " Row(age=29, gender='Male', name='Gonzalo Ferebee', course='DSA', roll=6611648, marks=66, email='Tijuana Kropf_Elenore Choy@OOP.com'),\n",
              " Row(age=28, gender='Male', name='Neda Briski', course='DB', roll=6632463, marks=48, email='Sheryll Towler_Dustin Feagins@Cloud.com'),\n",
              " Row(age=28, gender='Male', name='Maybell Duguay', course='MVC', roll=6642438, marks=56, email='Margene Moores_Bonita Higuera@DB.com'),\n",
              " Row(age=28, gender='Male', name='Naoma Fritts', course='OOP', roll=6652677, marks=77, email='Lawanda Wohlwend_Billi Clore@MVC.com'),\n",
              " Row(age=29, gender='Male', name='Paris Hutton', course='PF', roll=6682291, marks=78, email='Margene Moores_Hubert Oliveras@PF.com'),\n",
              " Row(age=28, gender='Male', name='Paris Hutton', course='PF', roll=6722224, marks=90, email='Niki Klimek_Gonzalo Ferebee@Cloud.com'),\n",
              " Row(age=28, gender='Male', name='Donna Yerby', course='MVC', roll=6752737, marks=26, email='Mickey Cortright_Gonzalo Ferebee@DSA.com'),\n",
              " Row(age=28, gender='Male', name='Anna Santos', course='OOP', roll=6762411, marks=81, email='Bonita Higuera_Annika Hoffman@Cloud.com'),\n",
              " Row(age=28, gender='Male', name='Paris Hutton', course='MVC', roll=6791398, marks=63, email='Bonita Higuera_Billi Clore@OOP.com'),\n",
              " Row(age=29, gender='Male', name='Billi Clore', course='Cloud', roll=6802170, marks=52, email='Dustin Feagins_Sebrina Maresca@DSA.com'),\n",
              " Row(age=29, gender='Male', name='Tamera Blakley', course='DB', roll=6811165, marks=62, email='Annika Hoffman_Bonita Higuera@PF.com'),\n",
              " Row(age=29, gender='Male', name='Tamera Blakley', course='Cloud', roll=6822429, marks=67, email='Donna Yerby_Cheri Kenney@DB.com'),\n",
              " Row(age=29, gender='Male', name='Neda Briski', course='OOP', roll=6842985, marks=80, email='Toshiko Hillyard_Cordie Harnois@MVC.com'),\n",
              " Row(age=29, gender='Male', name='Margene Moores', course='DSA', roll=6872276, marks=89, email='Leontine Phillips_Annika Hoffman@PF.com'),\n",
              " Row(age=28, gender='Male', name='Leontine Phillips', course='MVC', roll=6902478, marks=32, email='Melani Engberg_Ernest Rossbach@MVC.com'),\n",
              " Row(age=29, gender='Male', name='Loris Crossett', course='MVC', roll=6962740, marks=95, email='Jeannetta Golden_Ernest Rossbach@OOP.com'),\n",
              " Row(age=28, gender='Male', name='Elenore Choy', course='MVC', roll=6982740, marks=41, email='Latia Vanhoose_Leontine Phillips@PF.com'),\n",
              " Row(age=29, gender='Male', name='Donna Yerby', course='DSA', roll=6991370, marks=91, email='Dustin Feagins_Abram Nagao@PF.com'),\n",
              " Row(age=29, gender='Male', name='Santa Kerfien', course='OOP', roll=7001706, marks=77, email='Bonita Higuera_Nicole Harwood@DSA.com'),\n",
              " Row(age=29, gender='Male', name='Tamera Blakley', course='DSA', roll=7031305, marks=57, email='Clementina Menke_Toshiko Hillyard@PF.com'),\n",
              " Row(age=29, gender='Male', name='Cordie Harnois', course='DSA', roll=7041544, marks=97, email='Kizzy Brenner_Jalisa Swenson@OOP.com'),\n",
              " Row(age=28, gender='Male', name='Leontine Phillips', course='Cloud', roll=7051293, marks=77, email='Bonita Higuera_Cheri Kenney@Cloud.com'),\n",
              " Row(age=29, gender='Male', name='Margene Moores', course='MVC', roll=7062262, marks=59, email='Nicole Harwood_Michelle Ruggiero@Cloud.com'),\n",
              " Row(age=29, gender='Male', name='Hubert Oliveras', course='OOP', roll=7102834, marks=44, email='Hubert Oliveras_Celeste Lollis@Cloud.com'),\n",
              " Row(age=29, gender='Male', name='Eda Neathery', course='MVC', roll=7111575, marks=47, email='Anna Santos_Tamera Blakley@DSA.com'),\n",
              " Row(age=29, gender='Male', name='Cordie Harnois', course='Cloud', roll=7141186, marks=74, email='Paris Hutton_Marylee Capasso@PF.com'),\n",
              " Row(age=28, gender='Male', name='Gonzalo Ferebee', course='OOP', roll=7162059, marks=23, email='Melani Engberg_Melani Engberg@DSA.com'),\n",
              " Row(age=28, gender='Male', name='Clementina Menke', course='DB', roll=7172058, marks=62, email='Mitzi Seldon_Clementina Menke@MVC.com'),\n",
              " Row(age=29, gender='Male', name='Sebrina Maresca', course='DSA', roll=7202414, marks=51, email='Ernest Rossbach_Jalisa Swenson@MVC.com'),\n",
              " Row(age=28, gender='Male', name='Dustin Feagins', course='DSA', roll=7212606, marks=51, email='Cheri Kenney_Eda Neathery@DB.com'),\n",
              " Row(age=28, gender='Male', name='Leontine Phillips', course='DB', roll=7242704, marks=72, email='Maybell Duguay_Toshiko Hillyard@PF.com'),\n",
              " Row(age=28, gender='Male', name='Taryn Brownlee', course='PF', roll=7252400, marks=77, email='Marylee Capasso_Jeannetta Golden@DB.com'),\n",
              " Row(age=29, gender='Male', name='Neda Briski', course='DSA', roll=7282511, marks=42, email='Jalisa Swenson_Naoma Fritts@MVC.com'),\n",
              " Row(age=28, gender='Male', name='Sheryll Towler', course='Cloud', roll=7301966, marks=63, email='Jalisa Swenson_Leontine Phillips@DSA.com'),\n",
              " Row(age=28, gender='Male', name='Taryn Brownlee', course='PF', roll=7311546, marks=27, email='Clementina Menke_Melani Engberg@MVC.com'),\n",
              " Row(age=28, gender='Male', name='Cheri Kenney', course='OOP', roll=7321040, marks=83, email='Sheryll Towler_Judie Chipps@PF.com'),\n",
              " Row(age=28, gender='Male', name='Marylee Capasso', course='DSA', roll=7331984, marks=70, email='Bonita Higuera_Melani Engberg@PF.com'),\n",
              " Row(age=29, gender='Male', name='Tamera Blakley', course='OOP', roll=7341268, marks=21, email='Anna Santos_Naoma Fritts@OOP.com'),\n",
              " Row(age=29, gender='Male', name='Claude Panos', course='PF', roll=7362772, marks=92, email='Clementina Menke_Naoma Fritts@OOP.com'),\n",
              " Row(age=29, gender='Male', name='Annika Hoffman', course='MVC', roll=7372375, marks=35, email='Sheryll Towler_Taryn Brownlee@MVC.com'),\n",
              " Row(age=29, gender='Male', name='Margene Moores', course='MVC', roll=7391087, marks=59, email='Jc Andrepont_Latia Vanhoose@DSA.com'),\n",
              " Row(age=29, gender='Male', name='Celeste Lollis', course='PF', roll=7421417, marks=83, email='Jc Andrepont_Maybell Duguay@PF.com'),\n",
              " Row(age=28, gender='Male', name='Tijuana Kropf', course='MVC', roll=7462328, marks=32, email='Toshiko Hillyard_Tamera Blakley@DSA.com'),\n",
              " Row(age=28, gender='Male', name='Priscila Tavernier', course='MVC', roll=7502427, marks=97, email='Alberta Freund_Niki Klimek@OOP.com'),\n",
              " Row(age=28, gender='Male', name='Hubert Oliveras', course='MVC', roll=7512833, marks=47, email='Loris Crossett_Jenna Montague@OOP.com'),\n",
              " Row(age=28, gender='Male', name='Kizzy Brenner', course='MVC', roll=7572603, marks=60, email='Nicole Harwood_Sheryll Towler@MVC.com'),\n",
              " Row(age=28, gender='Male', name='Melani Engberg', course='Cloud', roll=7591331, marks=83, email='Billi Clore_Neda Briski@DSA.com'),\n",
              " Row(age=28, gender='Male', name='Michelle Ruggiero', course='OOP', roll=7601079, marks=82, email='Jenna Montague_Donna Yerby@DSA.com'),\n",
              " Row(age=29, gender='Male', name='Lawanda Wohlwend', course='MVC', roll=7631030, marks=57, email='Mitzi Seldon_Sebrina Maresca@OOP.com'),\n",
              " Row(age=29, gender='Male', name='Santa Kerfien', course='MVC', roll=7642624, marks=97, email='Santa Kerfien_Elenore Choy@Cloud.com'),\n",
              " Row(age=29, gender='Male', name='Taryn Brownlee', course='MVC', roll=7662789, marks=60, email='Elenore Choy_Anna Santos@OOP.com'),\n",
              " Row(age=28, gender='Male', name='Bonita Higuera', course='Cloud', roll=7671835, marks=21, email='Taryn Brownlee_Sebrina Maresca@PF.com'),\n",
              " Row(age=28, gender='Male', name='Mickey Cortright', course='DB', roll=7702338, marks=69, email='Latia Vanhoose_Jeannetta Golden@OOP.com'),\n",
              " Row(age=29, gender='Male', name='Latia Vanhoose', course='Cloud', roll=7721956, marks=45, email='Jalisa Swenson_Annika Hoffman@DB.com'),\n",
              " Row(age=29, gender='Male', name='Sebrina Maresca', course='PF', roll=7731207, marks=69, email='Leontine Phillips_Kena Wild@DSA.com'),\n",
              " Row(age=28, gender='Male', name='Latia Vanhoose', course='OOP', roll=7741757, marks=66, email='Loris Crossett_Naoma Fritts@DSA.com'),\n",
              " Row(age=28, gender='Male', name='Anna Santos', course='DSA', roll=7752196, marks=92, email='Latia Vanhoose_Tamera Blakley@OOP.com'),\n",
              " Row(age=28, gender='Male', name='Latia Vanhoose', course='DSA', roll=7792270, marks=37, email='Eda Neathery_Donna Yerby@DSA.com'),\n",
              " Row(age=29, gender='Male', name='Niki Klimek', course='DSA', roll=7811347, marks=42, email='Kena Wild_Maybell Duguay@DB.com'),\n",
              " Row(age=29, gender='Male', name='Niki Klimek', course='PF', roll=7852889, marks=48, email='Taryn Brownlee_Elenore Choy@PF.com'),\n",
              " Row(age=29, gender='Male', name='Kena Wild', course='PF', roll=7862418, marks=56, email='Clementina Menke_Jalisa Swenson@DB.com'),\n",
              " Row(age=29, gender='Male', name='Clementina Menke', course='DB', roll=7872434, marks=68, email='Jalisa Swenson_Alberta Freund@OOP.com'),\n",
              " Row(age=28, gender='Male', name='Taryn Brownlee', course='Cloud', roll=7881046, marks=81, email='Eda Neathery_Dustin Feagins@MVC.com'),\n",
              " Row(age=29, gender='Male', name='Alberta Freund', course='DSA', roll=7891322, marks=86, email='Maybell Duguay_Loris Crossett@PF.com'),\n",
              " Row(age=28, gender='Male', name='Tamera Blakley', course='PF', roll=7901879, marks=57, email='Taryn Brownlee_Gonzalo Ferebee@PF.com'),\n",
              " Row(age=28, gender='Male', name='Marylee Capasso', course='Cloud', roll=7922051, marks=92, email='Sebrina Maresca_Dustin Feagins@OOP.com'),\n",
              " Row(age=29, gender='Male', name='Celeste Lollis', course='MVC', roll=7941313, marks=89, email='Eda Neathery_Neda Briski@OOP.com'),\n",
              " Row(age=29, gender='Male', name='Santa Kerfien', course='PF', roll=7951241, marks=31, email='Kena Wild_Niki Klimek@OOP.com'),\n",
              " Row(age=29, gender='Male', name='Leontine Phillips', course='Cloud', roll=7961043, marks=26, email='Paris Hutton_Marylee Capasso@MVC.com'),\n",
              " Row(age=28, gender='Male', name='Michelle Ruggiero', course='Cloud', roll=7972167, marks=69, email='Paris Hutton_Leontine Phillips@DB.com'),\n",
              " Row(age=28, gender='Male', name='Margene Moores', course='MVC', roll=7982164, marks=84, email='Neda Briski_Celeste Lollis@Cloud.com'),\n",
              " Row(age=29, gender='Male', name='Billi Clore', course='DB', roll=7992784, marks=58, email='Tamera Blakley_Dustin Feagins@MVC.com'),\n",
              " Row(age=29, gender='Male', name='Ernest Rossbach', course='DB', roll=8002285, marks=76, email='Marylee Capasso_Naoma Fritts@DSA.com'),\n",
              " Row(age=28, gender='Male', name='Santa Kerfien', course='OOP', roll=8011750, marks=47, email='Mitzi Seldon_Somer Stoecker@PF.com'),\n",
              " Row(age=29, gender='Male', name='Jc Andrepont', course='OOP', roll=8022618, marks=97, email='Cordie Harnois_Jalisa Swenson@OOP.com'),\n",
              " Row(age=28, gender='Male', name='Jeannetta Golden', course='PF', roll=8052474, marks=38, email='Tamera Blakley_Sheryll Towler@DSA.com'),\n",
              " Row(age=28, gender='Male', name='Cheri Kenney', course='Cloud', roll=8071605, marks=72, email='Maybell Duguay_Eda Neathery@MVC.com'),\n",
              " Row(age=29, gender='Male', name='Celeste Lollis', course='MVC', roll=8081881, marks=87, email='Jenna Montague_Dustin Feagins@MVC.com'),\n",
              " Row(age=28, gender='Male', name='Sebrina Maresca', course='DB', roll=8092398, marks=42, email='Claude Panos_Jc Andrepont@DB.com'),\n",
              " Row(age=28, gender='Male', name='Bonita Higuera', course='Cloud', roll=8101902, marks=84, email='Jc Andrepont_Neda Briski@OOP.com'),\n",
              " Row(age=29, gender='Male', name='Loris Crossett', course='PF', roll=8111334, marks=31, email='Jeannetta Golden_Mickey Cortright@DSA.com'),\n",
              " Row(age=28, gender='Male', name='Elenore Choy', course='OOP', roll=8141533, marks=28, email='Anna Santos_Dustin Feagins@MVC.com'),\n",
              " Row(age=28, gender='Male', name='Annika Hoffman', course='MVC', roll=8152949, marks=62, email='Annika Hoffman_Naoma Fritts@MVC.com'),\n",
              " Row(age=29, gender='Male', name='Leontine Phillips', course='Cloud', roll=8162392, marks=23, email='Clementina Menke_Neda Briski@Cloud.com'),\n",
              " Row(age=28, gender='Male', name='Loris Crossett', course='OOP', roll=8172914, marks=98, email='Paris Hutton_Paris Hutton@OOP.com'),\n",
              " Row(age=29, gender='Male', name='Hubert Oliveras', course='Cloud', roll=8191045, marks=29, email='Toshiko Hillyard_Leontine Phillips@DSA.com'),\n",
              " Row(age=29, gender='Male', name='Eda Neathery', course='MVC', roll=8202489, marks=30, email='Jc Andrepont_Maybell Duguay@PF.com'),\n",
              " Row(age=29, gender='Male', name='Melani Engberg', course='PF', roll=8222832, marks=44, email='Niki Klimek_Billi Clore@PF.com'),\n",
              " Row(age=29, gender='Male', name='Loris Crossett', course='DSA', roll=8232415, marks=77, email='Priscila Tavernier_Kena Wild@DB.com'),\n",
              " Row(age=28, gender='Male', name='Jeannetta Golden', course='Cloud', roll=8242650, marks=62, email='Dustin Feagins_Annika Hoffman@OOP.com'),\n",
              " Row(age=29, gender='Male', name='Billi Clore', course='OOP', roll=8282116, marks=72, email='Elenore Choy_Clementina Menke@PF.com'),\n",
              " Row(age=28, gender='Male', name='Bonita Higuera', course='MVC', roll=8291218, marks=71, email='Jeannetta Golden_Sebrina Maresca@PF.com'),\n",
              " Row(age=28, gender='Male', name='Paris Hutton', course='PF', roll=8321357, marks=77, email='Abram Nagao_Tamera Blakley@OOP.com'),\n",
              " Row(age=29, gender='Male', name='Kena Wild', course='PF', roll=8331264, marks=46, email='Marylee Capasso_Celeste Lollis@DSA.com'),\n",
              " Row(age=28, gender='Male', name='Dustin Feagins', course='MVC', roll=8361501, marks=53, email='Billi Clore_Kizzy Brenner@MVC.com'),\n",
              " Row(age=28, gender='Male', name='Clementina Menke', course='Cloud', roll=8372528, marks=43, email='Tamera Blakley_Somer Stoecker@MVC.com'),\n",
              " Row(age=28, gender='Male', name='Priscila Tavernier', course='OOP', roll=8382954, marks=93, email='Jeannetta Golden_Kizzy Brenner@Cloud.com'),\n",
              " Row(age=28, gender='Male', name='Mickey Cortright', course='DB', roll=8411430, marks=70, email='Hubert Oliveras_Ernest Rossbach@PF.com'),\n",
              " Row(age=28, gender='Male', name='Kena Wild', course='DB', roll=8471833, marks=36, email='Tamera Blakley_Jeannetta Golden@OOP.com'),\n",
              " Row(age=28, gender='Male', name='Anna Santos', course='MVC', roll=8482305, marks=53, email='Sheryll Towler_Kizzy Brenner@PF.com'),\n",
              " Row(age=28, gender='Male', name='Tijuana Kropf', course='DB', roll=8522175, marks=87, email='Mickey Cortright_Claude Panos@MVC.com'),\n",
              " Row(age=28, gender='Male', name='Loris Crossett', course='MVC', roll=8541796, marks=90, email='Clementina Menke_Michelle Ruggiero@Cloud.com'),\n",
              " Row(age=28, gender='Male', name='Anna Santos', course='Cloud', roll=8571411, marks=94, email='Jc Andrepont_Cordie Harnois@OOP.com'),\n",
              " Row(age=29, gender='Male', name='Cordie Harnois', course='MVC', roll=8592355, marks=95, email='Ernest Rossbach_Tijuana Kropf@OOP.com'),\n",
              " Row(age=28, gender='Male', name='Naoma Fritts', course='DB', roll=8611528, marks=89, email='Nicole Harwood_Clementina Menke@MVC.com'),\n",
              " Row(age=29, gender='Male', name='Marylee Capasso', course='Cloud', roll=8622148, marks=29, email='Hubert Oliveras_Claude Panos@Cloud.com'),\n",
              " Row(age=29, gender='Male', name='Cheri Kenney', course='DB', roll=8652382, marks=36, email='Santa Kerfien_Cordie Harnois@Cloud.com'),\n",
              " Row(age=29, gender='Male', name='Alberta Freund', course='Cloud', roll=8671926, marks=85, email='Paris Hutton_Somer Stoecker@PF.com'),\n",
              " Row(age=28, gender='Male', name='Neda Briski', course='OOP', roll=8681708, marks=34, email='Jenna Montague_Lawanda Wohlwend@OOP.com'),\n",
              " Row(age=28, gender='Male', name='Nicole Harwood', course='MVC', roll=8692811, marks=63, email='Neda Briski_Kena Wild@Cloud.com'),\n",
              " Row(age=29, gender='Male', name='Donna Yerby', course='DB', roll=8701973, marks=33, email='Priscila Tavernier_Mitzi Seldon@DB.com'),\n",
              " Row(age=29, gender='Male', name='Maybell Duguay', course='PF', roll=8741191, marks=79, email='Judie Chipps_Niki Klimek@OOP.com'),\n",
              " Row(age=29, gender='Male', name='Cheri Kenney', course='MVC', roll=8752460, marks=84, email='Cordie Harnois_Jeannetta Golden@PF.com'),\n",
              " Row(age=29, gender='Male', name='Celeste Lollis', course='MVC', roll=8762292, marks=35, email='Clementina Menke_Tijuana Kropf@DB.com'),\n",
              " Row(age=29, gender='Male', name='Niki Klimek', course='Cloud', roll=8782036, marks=72, email='Clementina Menke_Taryn Brownlee@MVC.com'),\n",
              " Row(age=29, gender='Male', name='Billi Clore', course='MVC', roll=8792432, marks=79, email='Anna Santos_Jalisa Swenson@Cloud.com'),\n",
              " Row(age=29, gender='Male', name='Mitzi Seldon', course='DB', roll=8811681, marks=46, email='Ernest Rossbach_Eda Neathery@MVC.com'),\n",
              " Row(age=28, gender='Male', name='Tijuana Kropf', course='Cloud', roll=8822597, marks=31, email='Lawanda Wohlwend_Eda Neathery@MVC.com'),\n",
              " Row(age=28, gender='Male', name='Annika Hoffman', course='Cloud', roll=8852570, marks=82, email='Kizzy Brenner_Claude Panos@MVC.com'),\n",
              " Row(age=28, gender='Male', name='Dustin Feagins', course='DB', roll=8871049, marks=98, email='Jenna Montague_Claude Panos@DSA.com'),\n",
              " Row(age=29, gender='Male', name='Nicole Harwood', course='MVC', roll=8882981, marks=32, email='Santa Kerfien_Eda Neathery@OOP.com'),\n",
              " Row(age=29, gender='Male', name='Marylee Capasso', course='OOP', roll=8891960, marks=29, email='Mickey Cortright_Billi Clore@PF.com'),\n",
              " Row(age=28, gender='Male', name='Somer Stoecker', course='DSA', roll=8902098, marks=73, email='Nicole Harwood_Paris Hutton@PF.com'),\n",
              " Row(age=28, gender='Male', name='Celeste Lollis', course='PF', roll=8911713, marks=93, email='Hubert Oliveras_Mitzi Seldon@DB.com'),\n",
              " Row(age=28, gender='Male', name='Mitzi Seldon', course='Cloud', roll=8922149, marks=65, email='Maybell Duguay_Hubert Oliveras@PF.com'),\n",
              " Row(age=28, gender='Male', name='Billi Clore', course='OOP', roll=8932725, marks=59, email='Kizzy Brenner_Latia Vanhoose@PF.com'),\n",
              " Row(age=28, gender='Male', name='Ernest Rossbach', course='MVC', roll=8972546, marks=62, email='Sheryll Towler_Jeannetta Golden@PF.com'),\n",
              " Row(age=28, gender='Male', name='Kizzy Brenner', course='OOP', roll=8981887, marks=27, email='Naoma Fritts_Mitzi Seldon@DB.com'),\n",
              " Row(age=28, gender='Male', name='Elenore Choy', course='DSA', roll=8991321, marks=57, email='Celeste Lollis_Margene Moores@DB.com'),\n",
              " Row(age=29, gender='Male', name='Santa Kerfien', course='DSA', roll=9002004, marks=27, email='Jeannetta Golden_Clementina Menke@MVC.com'),\n",
              " Row(age=29, gender='Male', name='Elenore Choy', course='DB', roll=9021601, marks=46, email='Clementina Menke_Mickey Cortright@PF.com'),\n",
              " Row(age=28, gender='Male', name='Alberta Freund', course='DSA', roll=9031966, marks=56, email='Niki Klimek_Alberta Freund@PF.com'),\n",
              " Row(age=29, gender='Male', name='Celeste Lollis', course='Cloud', roll=9042870, marks=52, email='Bonita Higuera_Jeannetta Golden@PF.com'),\n",
              " Row(age=29, gender='Male', name='Sheryll Towler', course='MVC', roll=9052132, marks=88, email='Jeannetta Golden_Donna Yerby@DB.com'),\n",
              " Row(age=29, gender='Male', name='Celeste Lollis', course='Cloud', roll=9072506, marks=81, email='Celeste Lollis_Cordie Harnois@Cloud.com'),\n",
              " Row(age=29, gender='Male', name='Gonzalo Ferebee', course='Cloud', roll=9102078, marks=45, email='Tamera Blakley_Melani Engberg@MVC.com'),\n",
              " Row(age=28, gender='Male', name='Billi Clore', course='DB', roll=9151306, marks=21, email='Latia Vanhoose_Ernest Rossbach@DB.com'),\n",
              " Row(age=28, gender='Male', name='Claude Panos', course='OOP', roll=9172978, marks=60, email='Cordie Harnois_Tamera Blakley@DSA.com'),\n",
              " Row(age=28, gender='Male', name='Cheri Kenney', course='DSA', roll=9181598, marks=44, email='Jc Andrepont_Maybell Duguay@OOP.com'),\n",
              " Row(age=29, gender='Male', name='Ernest Rossbach', course='MVC', roll=9201305, marks=53, email='Gonzalo Ferebee_Billi Clore@DB.com'),\n",
              " Row(age=29, gender='Male', name='Cordie Harnois', course='DSA', roll=9242198, marks=72, email='Maybell Duguay_Tamera Blakley@Cloud.com'),\n",
              " Row(age=29, gender='Male', name='Mickey Cortright', course='Cloud', roll=9291579, marks=86, email='Margene Moores_Priscila Tavernier@MVC.com'),\n",
              " Row(age=29, gender='Male', name='Gonzalo Ferebee', course='Cloud', roll=9302691, marks=40, email='Niki Klimek_Alberta Freund@MVC.com'),\n",
              " Row(age=29, gender='Male', name='Niki Klimek', course='DSA', roll=9311407, marks=90, email='Marylee Capasso_Ernest Rossbach@PF.com'),\n",
              " Row(age=29, gender='Male', name='Gonzalo Ferebee', course='PF', roll=9331055, marks=96, email='Kizzy Brenner_Alberta Freund@Cloud.com'),\n",
              " Row(age=28, gender='Male', name='Mitzi Seldon', course='PF', roll=9362744, marks=26, email='Somer Stoecker_Santa Kerfien@DSA.com'),\n",
              " Row(age=28, gender='Male', name='Jenna Montague', course='DB', roll=9411416, marks=35, email='Latia Vanhoose_Paris Hutton@DSA.com'),\n",
              " Row(age=28, gender='Male', name='Latia Vanhoose', course='DSA', roll=9442974, marks=29, email='Jc Andrepont_Celeste Lollis@DB.com'),\n",
              " Row(age=28, gender='Male', name='Sebrina Maresca', course='PF', roll=9492805, marks=50, email='Neda Briski_Neda Briski@OOP.com'),\n",
              " Row(age=28, gender='Male', name='Toshiko Hillyard', course='DB', roll=9502901, marks=69, email='Kena Wild_Leontine Phillips@DSA.com'),\n",
              " Row(age=29, gender='Male', name='Kizzy Brenner', course='PF', roll=9512850, marks=52, email='Elenore Choy_Anna Santos@DB.com'),\n",
              " Row(age=29, gender='Male', name='Celeste Lollis', course='Cloud', roll=9531936, marks=56, email='Cheri Kenney_Margene Moores@MVC.com'),\n",
              " Row(age=29, gender='Male', name='Taryn Brownlee', course='PF', roll=9551574, marks=91, email='Jenna Montague_Billi Clore@MVC.com'),\n",
              " Row(age=29, gender='Male', name='Maybell Duguay', course='DB', roll=9562208, marks=44, email='Celeste Lollis_Anna Santos@DSA.com'),\n",
              " Row(age=28, gender='Male', name='Melani Engberg', course='DB', roll=9602880, marks=42, email='Niki Klimek_Mickey Cortright@DB.com'),\n",
              " Row(age=29, gender='Male', name='Kena Wild', course='MVC', roll=9611287, marks=76, email='Cordie Harnois_Michelle Ruggiero@PF.com'),\n",
              " Row(age=28, gender='Male', name='Claude Panos', course='Cloud', roll=9631836, marks=73, email='Clementina Menke_Judie Chipps@DSA.com'),\n",
              " Row(age=29, gender='Male', name='Celeste Lollis', course='DSA', roll=9642293, marks=75, email='Maybell Duguay_Tijuana Kropf@OOP.com'),\n",
              " Row(age=28, gender='Male', name='Jc Andrepont', course='MVC', roll=9652535, marks=73, email='Michelle Ruggiero_Lawanda Wohlwend@DB.com'),\n",
              " Row(age=29, gender='Male', name='Kena Wild', course='DSA', roll=9662661, marks=41, email='Latia Vanhoose_Sebrina Maresca@DB.com'),\n",
              " Row(age=29, gender='Male', name='Leontine Phillips', course='DB', roll=9671707, marks=26, email='Sebrina Maresca_Jalisa Swenson@MVC.com'),\n",
              " Row(age=28, gender='Male', name='Loris Crossett', course='OOP', roll=9692316, marks=99, email='Judie Chipps_Michelle Ruggiero@Cloud.com'),\n",
              " Row(age=29, gender='Male', name='Paris Hutton', course='DSA', roll=9702829, marks=22, email='Hubert Oliveras_Cheri Kenney@OOP.com'),\n",
              " Row(age=29, gender='Male', name='Neda Briski', course='Cloud', roll=9732604, marks=77, email='Kena Wild_Hubert Oliveras@Cloud.com'),\n",
              " Row(age=28, gender='Male', name='Anna Santos', course='DB', roll=9772185, marks=22, email='Kizzy Brenner_Annika Hoffman@PF.com'),\n",
              " Row(age=29, gender='Male', name='Donna Yerby', course='MVC', roll=9802357, marks=41, email='Tamera Blakley_Jalisa Swenson@MVC.com'),\n",
              " Row(age=29, gender='Male', name='Santa Kerfien', course='DB', roll=9811489, marks=31, email='Abram Nagao_Melani Engberg@Cloud.com'),\n",
              " Row(age=29, gender='Male', name='Hubert Oliveras', course='DB', roll=9822797, marks=51, email='Lawanda Wohlwend_Jalisa Swenson@DB.com'),\n",
              " Row(age=28, gender='Male', name='Paris Hutton', course='DB', roll=9832215, marks=36, email='Niki Klimek_Tijuana Kropf@PF.com'),\n",
              " Row(age=29, gender='Male', name='Mitzi Seldon', course='PF', roll=9842669, marks=30, email='Jalisa Swenson_Sebrina Maresca@MVC.com'),\n",
              " Row(age=28, gender='Male', name='Sheryll Towler', course='MVC', roll=9881953, marks=76, email='Ernest Rossbach_Santa Kerfien@DB.com'),\n",
              " Row(age=28, gender='Male', name='Kena Wild', course='DSA', roll=9891274, marks=85, email='Donna Yerby_Leontine Phillips@Cloud.com'),\n",
              " Row(age=29, gender='Male', name='Tijuana Kropf', course='DB', roll=9902560, marks=66, email='Tijuana Kropf_Abram Nagao@Cloud.com'),\n",
              " Row(age=28, gender='Male', name='Neda Briski', course='PF', roll=9912790, marks=65, email='Hubert Oliveras_Taryn Brownlee@PF.com'),\n",
              " Row(age=29, gender='Male', name='Cordie Harnois', course='PF', roll=9931081, marks=97, email='Toshiko Hillyard_Abram Nagao@Cloud.com'),\n",
              " Row(age=28, gender='Male', name='Tamera Blakley', course='DSA', roll=9971217, marks=26, email='Anna Santos_Claude Panos@PF.com')]"
            ]
          },
          "metadata": {},
          "execution_count": 43
        }
      ]
    },
    {
      "cell_type": "markdown",
      "source": [
        "## Spark SQL"
      ],
      "metadata": {
        "id": "VXPFS2wQljP8"
      }
    },
    {
      "cell_type": "code",
      "source": [
        "from pyspark.sql import SparkSession\n",
        "from pyspark.sql.functions import col, lit\n",
        "spark = SparkSession.builder.appName(\"Spark DataFrames\").getOrCreate()\n",
        "df = spark.read.options(header = 'True', inferSchema = 'True').csv('/content/drive/MyDrive/PySpark/data/StudentData.csv')\n",
        "df.show()"
      ],
      "metadata": {
        "colab": {
          "base_uri": "https://localhost:8080/"
        },
        "id": "Lk9V1Zxoljuu",
        "outputId": "65019f63-1497-44c4-8baa-ea63b77e00ce"
      },
      "execution_count": null,
      "outputs": [
        {
          "output_type": "stream",
          "name": "stdout",
          "text": [
            "+---+------+----------------+------+------+-----+--------------------+\n",
            "|age|gender|            name|course|  roll|marks|               email|\n",
            "+---+------+----------------+------+------+-----+--------------------+\n",
            "| 28|Female| Hubert Oliveras|    DB|  2984|   59|Annika Hoffman_Na...|\n",
            "| 29|Female|Toshiko Hillyard| Cloud| 12899|   62|Margene Moores_Ma...|\n",
            "| 28|  Male|  Celeste Lollis|    PF| 21267|   45|Jeannetta Golden_...|\n",
            "| 29|Female|    Elenore Choy|    DB| 32877|   29|Billi Clore_Mitzi...|\n",
            "| 28|  Male|  Sheryll Towler|   DSA| 41487|   41|Claude Panos_Judi...|\n",
            "| 28|  Male|  Margene Moores|   MVC| 52771|   32|Toshiko Hillyard_...|\n",
            "| 28|  Male|     Neda Briski|   OOP| 61973|   69|Alberta Freund_El...|\n",
            "| 28|Female|    Claude Panos| Cloud| 72409|   85|Sheryll Towler_Al...|\n",
            "| 28|  Male|  Celeste Lollis|   MVC| 81492|   64|Nicole Harwood_Cl...|\n",
            "| 29|  Male|  Cordie Harnois|   OOP| 92882|   51|Judie Chipps_Clem...|\n",
            "| 29|Female|       Kena Wild|   DSA|102285|   35|Dustin Feagins_Ma...|\n",
            "| 29|  Male| Ernest Rossbach|    DB|111449|   53|Maybell Duguay_Ab...|\n",
            "| 28|Female|  Latia Vanhoose|    DB|122502|   27|Latia Vanhoose_Mi...|\n",
            "| 29|Female|  Latia Vanhoose|   MVC|132110|   55|Eda Neathery_Nico...|\n",
            "| 29|  Male|     Neda Briski|    PF|141770|   42|Margene Moores_Mi...|\n",
            "| 29|Female|  Latia Vanhoose|    DB|152159|   27|Claude Panos_Sant...|\n",
            "| 29|  Male|  Loris Crossett|   MVC|161771|   36|Mitzi Seldon_Jenn...|\n",
            "| 29|  Male|  Annika Hoffman|   OOP|171660|   22|Taryn Brownlee_Mi...|\n",
            "| 29|  Male|   Santa Kerfien|    PF|182129|   56|Judie Chipps_Tary...|\n",
            "| 28|Female|Mickey Cortright|    DB|192537|   62|Ernest Rossbach_M...|\n",
            "+---+------+----------------+------+------+-----+--------------------+\n",
            "only showing top 20 rows\n",
            "\n"
          ]
        }
      ]
    },
    {
      "cell_type": "code",
      "source": [
        "df.createOrReplaceTempView(\"Student\")"
      ],
      "metadata": {
        "id": "QtBCv3Aemhm4"
      },
      "execution_count": null,
      "outputs": []
    },
    {
      "cell_type": "code",
      "source": [
        "spark.sql(\"SELECT * FROM student WHERE age > 20\").show()"
      ],
      "metadata": {
        "colab": {
          "base_uri": "https://localhost:8080/"
        },
        "id": "sY8GjItRm2qU",
        "outputId": "93c89a01-d526-43b2-9bbe-be1b0cefdb8e"
      },
      "execution_count": null,
      "outputs": [
        {
          "output_type": "stream",
          "name": "stdout",
          "text": [
            "+---+------+----------------+------+------+-----+--------------------+\n",
            "|age|gender|            name|course|  roll|marks|               email|\n",
            "+---+------+----------------+------+------+-----+--------------------+\n",
            "| 28|Female| Hubert Oliveras|    DB|  2984|   59|Annika Hoffman_Na...|\n",
            "| 29|Female|Toshiko Hillyard| Cloud| 12899|   62|Margene Moores_Ma...|\n",
            "| 28|  Male|  Celeste Lollis|    PF| 21267|   45|Jeannetta Golden_...|\n",
            "| 29|Female|    Elenore Choy|    DB| 32877|   29|Billi Clore_Mitzi...|\n",
            "| 28|  Male|  Sheryll Towler|   DSA| 41487|   41|Claude Panos_Judi...|\n",
            "| 28|  Male|  Margene Moores|   MVC| 52771|   32|Toshiko Hillyard_...|\n",
            "| 28|  Male|     Neda Briski|   OOP| 61973|   69|Alberta Freund_El...|\n",
            "| 28|Female|    Claude Panos| Cloud| 72409|   85|Sheryll Towler_Al...|\n",
            "| 28|  Male|  Celeste Lollis|   MVC| 81492|   64|Nicole Harwood_Cl...|\n",
            "| 29|  Male|  Cordie Harnois|   OOP| 92882|   51|Judie Chipps_Clem...|\n",
            "| 29|Female|       Kena Wild|   DSA|102285|   35|Dustin Feagins_Ma...|\n",
            "| 29|  Male| Ernest Rossbach|    DB|111449|   53|Maybell Duguay_Ab...|\n",
            "| 28|Female|  Latia Vanhoose|    DB|122502|   27|Latia Vanhoose_Mi...|\n",
            "| 29|Female|  Latia Vanhoose|   MVC|132110|   55|Eda Neathery_Nico...|\n",
            "| 29|  Male|     Neda Briski|    PF|141770|   42|Margene Moores_Mi...|\n",
            "| 29|Female|  Latia Vanhoose|    DB|152159|   27|Claude Panos_Sant...|\n",
            "| 29|  Male|  Loris Crossett|   MVC|161771|   36|Mitzi Seldon_Jenn...|\n",
            "| 29|  Male|  Annika Hoffman|   OOP|171660|   22|Taryn Brownlee_Mi...|\n",
            "| 29|  Male|   Santa Kerfien|    PF|182129|   56|Judie Chipps_Tary...|\n",
            "| 28|Female|Mickey Cortright|    DB|192537|   62|Ernest Rossbach_M...|\n",
            "+---+------+----------------+------+------+-----+--------------------+\n",
            "only showing top 20 rows\n",
            "\n"
          ]
        }
      ]
    },
    {
      "cell_type": "code",
      "source": [
        "spark.sql(\"SELECT course, gender, count(*) FROM student GROUP BY course, gender\").show()"
      ],
      "metadata": {
        "colab": {
          "base_uri": "https://localhost:8080/"
        },
        "id": "T_UWSdBQnZSA",
        "outputId": "ed955a6a-5c2a-46e0-bfda-59a069917a13"
      },
      "execution_count": null,
      "outputs": [
        {
          "output_type": "stream",
          "name": "stdout",
          "text": [
            "+------+------+--------+\n",
            "|course|gender|count(1)|\n",
            "+------+------+--------+\n",
            "|   OOP|  Male|      70|\n",
            "|    DB|  Male|      82|\n",
            "| Cloud|Female|     106|\n",
            "|   MVC|  Male|      86|\n",
            "|   DSA|Female|      98|\n",
            "|    PF|  Male|      97|\n",
            "|   MVC|Female|      71|\n",
            "| Cloud|  Male|      86|\n",
            "|    PF|Female|      69|\n",
            "|   DSA|  Male|      78|\n",
            "|    DB|Female|      75|\n",
            "|   OOP|Female|      82|\n",
            "+------+------+--------+\n",
            "\n"
          ]
        }
      ]
    },
    {
      "cell_type": "code",
      "source": [
        "spark.sql(\"SELECT course, gender, sum(marks) FROM student GROUP BY course, gender\").show()"
      ],
      "metadata": {
        "colab": {
          "base_uri": "https://localhost:8080/"
        },
        "id": "ndVtSCztn4k5",
        "outputId": "aeef145a-3859-49ed-a5fb-3b5c1dcbe1ee"
      },
      "execution_count": null,
      "outputs": [
        {
          "output_type": "stream",
          "name": "stdout",
          "text": [
            "+------+------+----------+\n",
            "|course|gender|sum(marks)|\n",
            "+------+------+----------+\n",
            "|   OOP|  Male|      4234|\n",
            "|    DB|  Male|      5073|\n",
            "| Cloud|Female|      6316|\n",
            "|   MVC|  Male|      5241|\n",
            "|   DSA|Female|      6124|\n",
            "|    PF|  Male|      5960|\n",
            "|   MVC|Female|      4344|\n",
            "| Cloud|  Male|      5127|\n",
            "|    PF|Female|      3973|\n",
            "|   DSA|  Male|      4826|\n",
            "|    DB|Female|      4197|\n",
            "|   OOP|Female|      4682|\n",
            "+------+------+----------+\n",
            "\n"
          ]
        }
      ]
    },
    {
      "cell_type": "markdown",
      "source": [
        "## Writing DataFrame"
      ],
      "metadata": {
        "id": "Ce-Mcf6ZoD38"
      }
    },
    {
      "cell_type": "code",
      "source": [
        "from pyspark.sql import SparkSession\n",
        "from pyspark.sql.functions import col, lit\n",
        "spark = SparkSession.builder.appName(\"Spark DataFrames\").getOrCreate()\n",
        "df = spark.read.options(header = 'True', inferSchema = 'True').csv('/content/drive/MyDrive/PySpark/data/StudentData.csv')\n",
        "df.show()"
      ],
      "metadata": {
        "colab": {
          "base_uri": "https://localhost:8080/"
        },
        "id": "aNS5y9BeoEWm",
        "outputId": "17ca2b00-b1dd-4ef2-dc47-6871f860508a"
      },
      "execution_count": null,
      "outputs": [
        {
          "output_type": "stream",
          "name": "stdout",
          "text": [
            "+---+------+----------------+------+------+-----+--------------------+\n",
            "|age|gender|            name|course|  roll|marks|               email|\n",
            "+---+------+----------------+------+------+-----+--------------------+\n",
            "| 28|Female| Hubert Oliveras|    DB|  2984|   59|Annika Hoffman_Na...|\n",
            "| 29|Female|Toshiko Hillyard| Cloud| 12899|   62|Margene Moores_Ma...|\n",
            "| 28|  Male|  Celeste Lollis|    PF| 21267|   45|Jeannetta Golden_...|\n",
            "| 29|Female|    Elenore Choy|    DB| 32877|   29|Billi Clore_Mitzi...|\n",
            "| 28|  Male|  Sheryll Towler|   DSA| 41487|   41|Claude Panos_Judi...|\n",
            "| 28|  Male|  Margene Moores|   MVC| 52771|   32|Toshiko Hillyard_...|\n",
            "| 28|  Male|     Neda Briski|   OOP| 61973|   69|Alberta Freund_El...|\n",
            "| 28|Female|    Claude Panos| Cloud| 72409|   85|Sheryll Towler_Al...|\n",
            "| 28|  Male|  Celeste Lollis|   MVC| 81492|   64|Nicole Harwood_Cl...|\n",
            "| 29|  Male|  Cordie Harnois|   OOP| 92882|   51|Judie Chipps_Clem...|\n",
            "| 29|Female|       Kena Wild|   DSA|102285|   35|Dustin Feagins_Ma...|\n",
            "| 29|  Male| Ernest Rossbach|    DB|111449|   53|Maybell Duguay_Ab...|\n",
            "| 28|Female|  Latia Vanhoose|    DB|122502|   27|Latia Vanhoose_Mi...|\n",
            "| 29|Female|  Latia Vanhoose|   MVC|132110|   55|Eda Neathery_Nico...|\n",
            "| 29|  Male|     Neda Briski|    PF|141770|   42|Margene Moores_Mi...|\n",
            "| 29|Female|  Latia Vanhoose|    DB|152159|   27|Claude Panos_Sant...|\n",
            "| 29|  Male|  Loris Crossett|   MVC|161771|   36|Mitzi Seldon_Jenn...|\n",
            "| 29|  Male|  Annika Hoffman|   OOP|171660|   22|Taryn Brownlee_Mi...|\n",
            "| 29|  Male|   Santa Kerfien|    PF|182129|   56|Judie Chipps_Tary...|\n",
            "| 28|Female|Mickey Cortright|    DB|192537|   62|Ernest Rossbach_M...|\n",
            "+---+------+----------------+------+------+-----+--------------------+\n",
            "only showing top 20 rows\n",
            "\n"
          ]
        }
      ]
    },
    {
      "cell_type": "code",
      "source": [
        "df.rdd.getNumPartitions()"
      ],
      "metadata": {
        "colab": {
          "base_uri": "https://localhost:8080/"
        },
        "id": "kmHsduqqqFqb",
        "outputId": "a8aa82c7-6830-4fb2-e1e6-df138ce8bd8b"
      },
      "execution_count": null,
      "outputs": [
        {
          "output_type": "execute_result",
          "data": {
            "text/plain": [
              "1"
            ]
          },
          "metadata": {},
          "execution_count": 59
        }
      ]
    },
    {
      "cell_type": "code",
      "source": [
        "df.groupBy(\"course\", \"gender\").count()"
      ],
      "metadata": {
        "colab": {
          "base_uri": "https://localhost:8080/"
        },
        "id": "RPYoxNloqJFK",
        "outputId": "d1bae63a-3f03-49c2-aba6-9bb26404d32a"
      },
      "execution_count": null,
      "outputs": [
        {
          "output_type": "stream",
          "name": "stdout",
          "text": [
            "+------+------+-----+\n",
            "|course|gender|count|\n",
            "+------+------+-----+\n",
            "|   OOP|  Male|   70|\n",
            "|    DB|  Male|   82|\n",
            "| Cloud|Female|  106|\n",
            "|   MVC|  Male|   86|\n",
            "|   DSA|Female|   98|\n",
            "|    PF|  Male|   97|\n",
            "|   MVC|Female|   71|\n",
            "| Cloud|  Male|   86|\n",
            "|    PF|Female|   69|\n",
            "|   DSA|  Male|   78|\n",
            "|    DB|Female|   75|\n",
            "|   OOP|Female|   82|\n",
            "+------+------+-----+\n",
            "\n"
          ]
        }
      ]
    },
    {
      "cell_type": "code",
      "source": [
        "# overwrite\n",
        "# append\n",
        "# igner\n",
        "# error\n",
        "# df.write.mode(overwrite or append or ignore or error).options(header = 'True').csv('/content/drive/MyDrive/PySpark/data/StudentData/output')"
      ],
      "metadata": {
        "id": "On44vjWjqeiS"
      },
      "execution_count": null,
      "outputs": []
    },
    {
      "cell_type": "code",
      "source": [
        "df.write.options(header = 'True').csv('/content/drive/MyDrive/PySpark/data/StudentData/output')"
      ],
      "metadata": {
        "id": "QC4IUv2aoXem"
      },
      "execution_count": null,
      "outputs": []
    },
    {
      "cell_type": "code",
      "source": [
        "df = spark.read.options(header = 'True', inferSchema = 'True').csv('/content/drive/MyDrive/PySpark/data/StudentData/output/part-00000-4fa31d5e-40ee-4a9b-a0ab-b7f781ee6bfe-c000.csv')\n",
        "df.show()"
      ],
      "metadata": {
        "colab": {
          "base_uri": "https://localhost:8080/"
        },
        "id": "VoI6GV-ypo4L",
        "outputId": "fd924422-8d51-4d6e-d51e-17863f5fd282"
      },
      "execution_count": null,
      "outputs": [
        {
          "output_type": "stream",
          "name": "stdout",
          "text": [
            "+---+------+----------------+------+------+-----+--------------------+\n",
            "|age|gender|            name|course|  roll|marks|               email|\n",
            "+---+------+----------------+------+------+-----+--------------------+\n",
            "| 28|Female| Hubert Oliveras|    DB|  2984|   59|Annika Hoffman_Na...|\n",
            "| 29|Female|Toshiko Hillyard| Cloud| 12899|   62|Margene Moores_Ma...|\n",
            "| 28|  Male|  Celeste Lollis|    PF| 21267|   45|Jeannetta Golden_...|\n",
            "| 29|Female|    Elenore Choy|    DB| 32877|   29|Billi Clore_Mitzi...|\n",
            "| 28|  Male|  Sheryll Towler|   DSA| 41487|   41|Claude Panos_Judi...|\n",
            "| 28|  Male|  Margene Moores|   MVC| 52771|   32|Toshiko Hillyard_...|\n",
            "| 28|  Male|     Neda Briski|   OOP| 61973|   69|Alberta Freund_El...|\n",
            "| 28|Female|    Claude Panos| Cloud| 72409|   85|Sheryll Towler_Al...|\n",
            "| 28|  Male|  Celeste Lollis|   MVC| 81492|   64|Nicole Harwood_Cl...|\n",
            "| 29|  Male|  Cordie Harnois|   OOP| 92882|   51|Judie Chipps_Clem...|\n",
            "| 29|Female|       Kena Wild|   DSA|102285|   35|Dustin Feagins_Ma...|\n",
            "| 29|  Male| Ernest Rossbach|    DB|111449|   53|Maybell Duguay_Ab...|\n",
            "| 28|Female|  Latia Vanhoose|    DB|122502|   27|Latia Vanhoose_Mi...|\n",
            "| 29|Female|  Latia Vanhoose|   MVC|132110|   55|Eda Neathery_Nico...|\n",
            "| 29|  Male|     Neda Briski|    PF|141770|   42|Margene Moores_Mi...|\n",
            "| 29|Female|  Latia Vanhoose|    DB|152159|   27|Claude Panos_Sant...|\n",
            "| 29|  Male|  Loris Crossett|   MVC|161771|   36|Mitzi Seldon_Jenn...|\n",
            "| 29|  Male|  Annika Hoffman|   OOP|171660|   22|Taryn Brownlee_Mi...|\n",
            "| 29|  Male|   Santa Kerfien|    PF|182129|   56|Judie Chipps_Tary...|\n",
            "| 28|Female|Mickey Cortright|    DB|192537|   62|Ernest Rossbach_M...|\n",
            "+---+------+----------------+------+------+-----+--------------------+\n",
            "only showing top 20 rows\n",
            "\n"
          ]
        }
      ]
    },
    {
      "cell_type": "markdown",
      "source": [
        "## Mini Projeto\n",
        "\n",
        "* Imprima o número total de funcionários da empresa\n",
        "* Imprima o total de departamentos da empresa\n",
        "* Imprima os nomes dos departamentos da empresa\n",
        "* Imprima o número total de funcionários em cada departamento\n",
        "* Imprima o número total de funcionários em cada estado\n",
        "* Imprima o número total de funcionários em cada estado em cada departamento\n",
        "* Imprima os salários mínimos e máximos de cada departamento e ordene os salários em ordem crescente\n",
        "* Imprima os nomes dos funcionários que trabalham no estado de NY no departamento financeiro cujos bônus são maiores do que os bônus médios dos funcionários no estado de NY\n",
        "* Aumentar os salários $ 500 de todos os funcionários com idade superior a 45\n",
        "* Crie DF de todos os funcionários com idade superior a 45 anos e salve-os em um arquivo"
      ],
      "metadata": {
        "id": "ZDD1lPFTrU4_"
      }
    },
    {
      "cell_type": "code",
      "source": [
        "from pyspark.sql import SparkSession\n",
        "from pyspark.sql.functions import col, lit\n",
        "from pyspark.sql.types import IntegerType\n",
        "from pyspark.sql.functions import udf\n",
        "from pyspark.sql.functions import sum, avg, max, min, mean, count\n",
        "spark = SparkSession.builder.appName(\"Spark DataFrames\").getOrCreate()\n",
        "df = spark.read.options(header = 'True', inferSchema = 'True').csv('/content/drive/MyDrive/PySpark/data/OfficeDataProject.csv')\n",
        "df.show()"
      ],
      "metadata": {
        "id": "cqc79MW4smV8",
        "colab": {
          "base_uri": "https://localhost:8080/"
        },
        "outputId": "dabb31ab-d0ef-4d48-8bc0-a32e73d29686"
      },
      "execution_count": null,
      "outputs": [
        {
          "output_type": "stream",
          "name": "stdout",
          "text": [
            "+-----------+-------------------+----------+-----+------+---+-----+\n",
            "|employee_id|      employee_name|department|state|salary|age|bonus|\n",
            "+-----------+-------------------+----------+-----+------+---+-----+\n",
            "|       1000|          Nitz Leif| Marketing|   CA|  6131| 26|  543|\n",
            "|       1001|    Melissia Dedman|   Finance|   AK|  4027| 43| 1290|\n",
            "|       1002|  Rudolph Barringer|        HR|   LA|  3122| 43| 1445|\n",
            "|       1003|        Tamra Amber|  Accounts|   AK|  5717| 47| 1291|\n",
            "|       1004|        Mullan Nitz|Purchasing|   CA|  5685| 34| 1394|\n",
            "|       1005|      Zollner Karie|  Accounts|   CA|  2843| 27| 1078|\n",
            "|       1006|Kaczorowski Zollner|     Sales|   CA|  7201| 21| 1834|\n",
            "|       1007|      Nakano Locust| Marketing|   LA|  3444| 23| 1823|\n",
            "|       1008|  Recalde Kensinger|  Accounts|   LA|  3704| 48| 1330|\n",
            "|       1009|        Imai Hallie|  Accounts|   AK|  5061| 38| 1557|\n",
            "|       1010|    Debroah Gallman|  Accounts|   NY|  9308| 35|  817|\n",
            "|       1011|   Barringer Escoto|Purchasing|   WA|  1685| 49| 1706|\n",
            "|       1012|      Soules Coogan|  Accounts|   AK|  8330| 43| 1914|\n",
            "|       1013|      Luisa Suzanne|  Accounts|   CA|  1151| 37| 1095|\n",
            "|       1014|      Marvis Cobian|Purchasing|   NY|  5061| 41| 1765|\n",
            "|       1015|   Cobian Kensinger|     Sales|   LA|  1983| 21|  632|\n",
            "|       1016|      Gilma Margret| Marketing|   CA|  2919| 45| 1762|\n",
            "|       1017| Ellingsworth Ilana|  Accounts|   WA|  9614| 26| 1964|\n",
            "|       1018| Vankirk Jacquelyne|Purchasing|   NY|  8636| 47| 1192|\n",
            "|       1019|    Zollner Juliana|        HR|   NY|  9739| 30| 1119|\n",
            "+-----------+-------------------+----------+-----+------+---+-----+\n",
            "only showing top 20 rows\n",
            "\n"
          ]
        }
      ]
    },
    {
      "cell_type": "code",
      "source": [
        "# Imprima o número total de funcionários da empresa\n",
        "df.distinct().count()"
      ],
      "metadata": {
        "colab": {
          "base_uri": "https://localhost:8080/"
        },
        "id": "V4eN8ikiVZ3s",
        "outputId": "caf3637d-d455-4cef-a762-71968e9535e4"
      },
      "execution_count": null,
      "outputs": [
        {
          "output_type": "execute_result",
          "data": {
            "text/plain": [
              "1000"
            ]
          },
          "metadata": {},
          "execution_count": 13
        }
      ]
    },
    {
      "cell_type": "code",
      "source": [
        "#Imprima o total de departamentos da empresa\n",
        "df.select(\"department\").distinct().count()"
      ],
      "metadata": {
        "colab": {
          "base_uri": "https://localhost:8080/"
        },
        "id": "tzdG8L5eVvVt",
        "outputId": "3246bac9-8796-4ff8-9961-dd03146e617d"
      },
      "execution_count": null,
      "outputs": [
        {
          "output_type": "execute_result",
          "data": {
            "text/plain": [
              "6"
            ]
          },
          "metadata": {},
          "execution_count": 18
        }
      ]
    },
    {
      "cell_type": "code",
      "source": [
        "# Imprima os nomes dos departamentos da empresa\n",
        "df.select(\"department\").distinct().show()"
      ],
      "metadata": {
        "colab": {
          "base_uri": "https://localhost:8080/"
        },
        "id": "DK78aOpNXHmN",
        "outputId": "5801b34c-4b20-439f-97bb-de299e917519"
      },
      "execution_count": null,
      "outputs": [
        {
          "output_type": "stream",
          "name": "stdout",
          "text": [
            "+----------+\n",
            "|department|\n",
            "+----------+\n",
            "|     Sales|\n",
            "|        HR|\n",
            "|   Finance|\n",
            "|Purchasing|\n",
            "| Marketing|\n",
            "|  Accounts|\n",
            "+----------+\n",
            "\n"
          ]
        }
      ]
    },
    {
      "cell_type": "code",
      "source": [
        "# Imprima o número total de funcionários em cada departamento\n",
        "df.groupBy(\"department\").agg(count('*').alias(\"N_mployee\")).show()"
      ],
      "metadata": {
        "colab": {
          "base_uri": "https://localhost:8080/"
        },
        "id": "5pRajTrCXOoR",
        "outputId": "648d627a-2846-49a8-e27b-5cd4809df0a8"
      },
      "execution_count": null,
      "outputs": [
        {
          "output_type": "stream",
          "name": "stdout",
          "text": [
            "+----------+----------+\n",
            "|department|N_employee|\n",
            "+----------+----------+\n",
            "|     Sales|       169|\n",
            "|        HR|       171|\n",
            "|   Finance|       162|\n",
            "|Purchasing|       166|\n",
            "| Marketing|       170|\n",
            "|  Accounts|       162|\n",
            "+----------+----------+\n",
            "\n"
          ]
        }
      ]
    },
    {
      "cell_type": "code",
      "source": [
        "#mprima o número total de funcionários em cada estado\n",
        "df.groupBy(\"state\").agg(count('*').alias(\"N_employee_state\")).show()"
      ],
      "metadata": {
        "colab": {
          "base_uri": "https://localhost:8080/"
        },
        "id": "5dD9daliZC5J",
        "outputId": "c77e3643-846a-40c1-9f29-89935d1cdbc5"
      },
      "execution_count": null,
      "outputs": [
        {
          "output_type": "stream",
          "name": "stdout",
          "text": [
            "+-----+----------------+\n",
            "|state|N_employee_state|\n",
            "+-----+----------------+\n",
            "|   LA|             205|\n",
            "|   CA|             205|\n",
            "|   WA|             208|\n",
            "|   NY|             173|\n",
            "|   AK|             209|\n",
            "+-----+----------------+\n",
            "\n"
          ]
        }
      ]
    },
    {
      "cell_type": "code",
      "source": [
        "# Imprima o número total de funcionários em cada estado em cada departamento\n",
        "df.groupBy(\"state\", \"department\").agg(count('*').alias(\"N_employee\")).orderBy(\"state\", \"department\").show()"
      ],
      "metadata": {
        "colab": {
          "base_uri": "https://localhost:8080/"
        },
        "id": "tTDUV3iZZP9O",
        "outputId": "7230f305-f37b-4896-dd8e-5ab384a11b71"
      },
      "execution_count": null,
      "outputs": [
        {
          "output_type": "stream",
          "name": "stdout",
          "text": [
            "+-----+----------+----------+\n",
            "|state|department|N_employee|\n",
            "+-----+----------+----------+\n",
            "|   AK|  Accounts|        37|\n",
            "|   AK|   Finance|        37|\n",
            "|   AK|        HR|        25|\n",
            "|   AK| Marketing|        42|\n",
            "|   AK|Purchasing|        30|\n",
            "|   AK|     Sales|        38|\n",
            "|   CA|  Accounts|        35|\n",
            "|   CA|   Finance|        35|\n",
            "|   CA|        HR|        28|\n",
            "|   CA| Marketing|        33|\n",
            "|   CA|Purchasing|        32|\n",
            "|   CA|     Sales|        42|\n",
            "|   LA|  Accounts|        29|\n",
            "|   LA|   Finance|        29|\n",
            "|   LA|        HR|        41|\n",
            "|   LA| Marketing|        26|\n",
            "|   LA|Purchasing|        45|\n",
            "|   LA|     Sales|        35|\n",
            "|   NY|  Accounts|        34|\n",
            "|   NY|   Finance|        31|\n",
            "+-----+----------+----------+\n",
            "only showing top 20 rows\n",
            "\n"
          ]
        }
      ]
    },
    {
      "cell_type": "code",
      "source": [
        "# Imprima os salários mínimos e máximos de cada departamento e ordene os salários em ordem crescente\n",
        "df.groupBy(\"department\").agg(min(\"salary\").alias(\"min_salary\"), max(\"salary\").alias(\"max_salary\")).orderBy(col(\"max_salary\").asc(), col(\"min_salary\").asc()).show()\n"
      ],
      "metadata": {
        "colab": {
          "base_uri": "https://localhost:8080/"
        },
        "id": "NZ_vyWiuZpxU",
        "outputId": "f2baf41e-d1df-44b9-debc-8a8209e7a30f"
      },
      "execution_count": 109,
      "outputs": [
        {
          "output_type": "stream",
          "name": "stdout",
          "text": [
            "+----------+----------+----------+\n",
            "|department|min_salary|max_salary|\n",
            "+----------+----------+----------+\n",
            "|  Accounts|      1007|      9890|\n",
            "|   Finance|      1006|      9899|\n",
            "| Marketing|      1031|      9974|\n",
            "|        HR|      1013|      9982|\n",
            "|     Sales|      1103|      9982|\n",
            "|Purchasing|      1105|      9985|\n",
            "+----------+----------+----------+\n",
            "\n"
          ]
        }
      ]
    },
    {
      "cell_type": "code",
      "source": [
        "# Imprima os nomes dos funcionários que trabalham no estado de NY no departamento financeiro cujos bônus são maiores do que os bônus médios dos funcionários no estado de NY\n",
        "avgBonus = df.filter(df.state == \"NY\").agg(avg(\"bonus\").alias(\"avg_bonus\")).collect()[0]['avg_bonus']\n",
        "df.filter(df.state == \"NY\").filter(df.department == \"Finance\").select(\"employee_name\", \"bonus\").filter(df.bonus > avgBonus).orderBy(\"bonus\").show()"
      ],
      "metadata": {
        "colab": {
          "base_uri": "https://localhost:8080/"
        },
        "id": "Y--rVs67fsbv",
        "outputId": "8b93940e-78b5-4d7b-a9a9-2abf3899f191"
      },
      "execution_count": 113,
      "outputs": [
        {
          "output_type": "stream",
          "name": "stdout",
          "text": [
            "+--------------------+-----+\n",
            "|       employee_name|bonus|\n",
            "+--------------------+-----+\n",
            "|       Vivan Sifford| 1261|\n",
            "|        Escoto Gilma| 1285|\n",
            "|      Yukiko Kreamer| 1332|\n",
            "|          Nitz Ilana| 1342|\n",
            "|Ellingsworth Meli...| 1358|\n",
            "|      Herder Gallman| 1402|\n",
            "|       Melissia Jere| 1533|\n",
            "|      Nena Kensinger| 1610|\n",
            "|       Juliana Grigg| 1617|\n",
            "|          Nena Rocha| 1647|\n",
            "|     Georgeanna Laub| 1679|\n",
            "|     Durio Tenenbaum| 1684|\n",
            "|      Antonina Ilana| 1718|\n",
            "|         Durio Janey| 1733|\n",
            "|       Leif Lemaster| 1782|\n",
            "|   Phylicia Antonina| 1857|\n",
            "|        Tiffani Benz| 1969|\n",
            "+--------------------+-----+\n",
            "\n"
          ]
        }
      ]
    },
    {
      "cell_type": "code",
      "source": [
        "# Aumentar os salários $ 500 de todos os funcionários com idade superior a 45\n",
        "def UP_Salary(salary, age):\n",
        "    sum = 0\n",
        "    if (age > 45):\n",
        "        sum = salary + 500\n",
        "    else:\n",
        "        sum = salary\n",
        "    return sum\n",
        "\n",
        "incrUDF = udf(lambda x,y: UP_Salary(x,y), IntegerType())\n",
        "\n",
        "df.withColumn(\"salary\", incrUDF(df.salary, df.age)).show()"
      ],
      "metadata": {
        "colab": {
          "base_uri": "https://localhost:8080/"
        },
        "id": "qZw1ltGWjC5W",
        "outputId": "16a4694d-e680-418b-87ae-9e3ec52566d7"
      },
      "execution_count": null,
      "outputs": [
        {
          "output_type": "stream",
          "name": "stdout",
          "text": [
            "+-----------+-------------------+----------+-----+------+---+-----+\n",
            "|employee_id|      employee_name|department|state|salary|age|bonus|\n",
            "+-----------+-------------------+----------+-----+------+---+-----+\n",
            "|       1000|          Nitz Leif| Marketing|   CA|  6131| 26|  543|\n",
            "|       1001|    Melissia Dedman|   Finance|   AK|  4027| 43| 1290|\n",
            "|       1002|  Rudolph Barringer|        HR|   LA|  3122| 43| 1445|\n",
            "|       1003|        Tamra Amber|  Accounts|   AK|  6217| 47| 1291|\n",
            "|       1004|        Mullan Nitz|Purchasing|   CA|  5685| 34| 1394|\n",
            "|       1005|      Zollner Karie|  Accounts|   CA|  2843| 27| 1078|\n",
            "|       1006|Kaczorowski Zollner|     Sales|   CA|  7201| 21| 1834|\n",
            "|       1007|      Nakano Locust| Marketing|   LA|  3444| 23| 1823|\n",
            "|       1008|  Recalde Kensinger|  Accounts|   LA|  4204| 48| 1330|\n",
            "|       1009|        Imai Hallie|  Accounts|   AK|  5061| 38| 1557|\n",
            "|       1010|    Debroah Gallman|  Accounts|   NY|  9308| 35|  817|\n",
            "|       1011|   Barringer Escoto|Purchasing|   WA|  2185| 49| 1706|\n",
            "|       1012|      Soules Coogan|  Accounts|   AK|  8330| 43| 1914|\n",
            "|       1013|      Luisa Suzanne|  Accounts|   CA|  1151| 37| 1095|\n",
            "|       1014|      Marvis Cobian|Purchasing|   NY|  5061| 41| 1765|\n",
            "|       1015|   Cobian Kensinger|     Sales|   LA|  1983| 21|  632|\n",
            "|       1016|      Gilma Margret| Marketing|   CA|  2919| 45| 1762|\n",
            "|       1017| Ellingsworth Ilana|  Accounts|   WA|  9614| 26| 1964|\n",
            "|       1018| Vankirk Jacquelyne|Purchasing|   NY|  9136| 47| 1192|\n",
            "|       1019|    Zollner Juliana|        HR|   NY|  9739| 30| 1119|\n",
            "+-----------+-------------------+----------+-----+------+---+-----+\n",
            "only showing top 20 rows\n",
            "\n"
          ]
        }
      ]
    },
    {
      "cell_type": "code",
      "source": [
        "# Crie DF de todos os funcionários com idade superior a 45 anos e salve-os em um arquivo\n",
        "df45 = df.filter(df.age > 45).orderBy(\"age\").show()\n",
        "df.write.options(header = 'True').csv('/content/drive/MyDrive/PySpark/mini_proj/output')"
      ],
      "metadata": {
        "colab": {
          "base_uri": "https://localhost:8080/"
        },
        "id": "psGjYJqllksK",
        "outputId": "6709b833-82c1-424b-a36e-5788d15b08f8"
      },
      "execution_count": null,
      "outputs": [
        {
          "output_type": "stream",
          "name": "stdout",
          "text": [
            "+-----------+------------------+----------+-----+------+---+-----+\n",
            "|employee_id|     employee_name|department|state|salary|age|bonus|\n",
            "+-----------+------------------+----------+-----+------+---+-----+\n",
            "|       1419| Yessenia Antonina| Marketing|   LA|  2421| 46| 1514|\n",
            "|       1978|Stanford Clemencia|   Finance|   LA|  2350| 46| 1481|\n",
            "|       1425|       Laub Marvis|     Sales|   NY|  8747| 46| 1322|\n",
            "|       1183|  Lonergan Bergren|        HR|   NY|  8175| 46| 1730|\n",
            "|       1441|   Shandra Frisina|     Sales|   AK|  6010| 46|  508|\n",
            "|       1304|    Herder Gallman|        HR|   CA|  8589| 46| 1086|\n",
            "|       1484|       Katlyn Jere|  Accounts|   LA|  4803| 46| 1873|\n",
            "|       1346|   Debroah Tiffani|  Accounts|   AK|  9357| 46|  573|\n",
            "|       1491|    Rocha Harrison|Purchasing|   WA|  7308| 46| 1521|\n",
            "|       1370|  Frisina Lisabeth|  Accounts|   CA|  5377| 46|  971|\n",
            "|       1530|      Ilana Katlyn|     Sales|   CA|  7959| 46| 1138|\n",
            "|       1414|       Durio Janey|   Finance|   NY|  2992| 46| 1733|\n",
            "|       1574|   Hallie Figueras| Marketing|   CA|  7532| 46| 1655|\n",
            "|       1656|   Tenenbaum Luisa|        HR|   WA|  5220| 46|  942|\n",
            "|       1910|    Mcmillion Kall|   Finance|   WA|  5882| 46| 1308|\n",
            "|       1670|      Rocha Coogan|  Accounts|   AK|  1210| 46| 1753|\n",
            "|       1251|      Imai Shandra|   Finance|   LA|  3661| 46|  880|\n",
            "|       1694|   Ullery Lemaster| Marketing|   NY|  3675| 46| 1998|\n",
            "|       1356|  Sifford Antonina|Purchasing|   CA|  2357| 46| 1260|\n",
            "|       1791|        Tyree Jere|Purchasing|   CA|  8886| 46|  597|\n",
            "+-----------+------------------+----------+-----+------+---+-----+\n",
            "only showing top 20 rows\n",
            "\n"
          ]
        }
      ]
    }
  ]
}